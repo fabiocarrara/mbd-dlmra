{
  "cells": [
    {
      "cell_type": "markdown",
      "metadata": {
        "id": "mzM-2-5DP-8V"
      },
      "source": [
        "# DLMR Code\n",
        "---------------\n",
        "\n",
        "# Surrogate Text Representations"
      ]
    },
    {
      "cell_type": "markdown",
      "metadata": {
        "id": "WyzAcnbCB8Oz"
      },
      "source": [
        "\n",
        "\n",
        "If you want to use a textual search engine (e.g. Elasticsearch, Apache Lucene, Whoosh) to search vectors, you can use **Surrogate Text Representations** (STR), a method that enables similarity search on top of standard textual search engines.\n",
        "\n",
        "The key idea of STRs is to transform a real-valued vector into fake text that can be indexed and searched for using standard full-text search engines.\n",
        "\n",
        "To do so, we need to **transform a real-valued vector $v \\in \\mathbb{R}^d$ into a vector of positive integers $\\tilde{v} \\in \\mathbb{N}^{d'}$** representing *term frequencies* that can be mapped easily to text. This transformation $\\tilde{v} = T(v)$ should have the following properies:\n",
        "\n",
        "1.   $T$ should **preserve the rank** produced by the inner product between vectors; the more it does, the less precision we are sacrificing when scoring documents.\n",
        "\n",
        "     $ q \\cdot x < q \\cdot y  \\quad \\Longrightarrow \\quad T(q) \\cdot T(x) < T(q) \\cdot T(y)$ \n",
        "\n",
        "2.   $T$ should create **sparse** vectors; sparse vectors mean few terms per vector and thus shorter posting lists.\n",
        "\n",
        "\n",
        "We will explore the **permutation of pivots** as the transformation function `T()`."
      ]
    },
    {
      "cell_type": "code",
      "execution_count": 1,
      "metadata": {
        "id": "C-Cio6lfB9-9"
      },
      "outputs": [],
      "source": [
        "import h5py\n",
        "import numpy as np"
      ]
    },
    {
      "cell_type": "markdown",
      "metadata": {
        "id": "9LmCHm_yx0ue"
      },
      "source": [
        "But first, we'll get some data to index. We will use the GloVe word embedding dataset provided by [ann-benchmarks.com](https://github.com/erikbern/ann-benchmarks/#data-sets). It's a dataset of 1M+ word embeddings that also provides 10k queries for which true nearest neighbors are already computed. Vectors are compared with the cosine similarity."
      ]
    },
    {
      "cell_type": "code",
      "execution_count": 2,
      "metadata": {
        "colab": {
          "base_uri": "https://localhost:8080/"
        },
        "id": "jMYwDrpRx0J3",
        "outputId": "c10b3362-39e9-4d36-9166-b197f00c4d41"
      },
      "outputs": [
        {
          "name": "stdout",
          "output_type": "stream",
          "text": [
            "--2022-07-13 08:26:49--  http://ann-benchmarks.com/glove-100-angular.hdf5\n",
            "Resolving ann-benchmarks.com (ann-benchmarks.com)... 52.216.102.18\n",
            "Connecting to ann-benchmarks.com (ann-benchmarks.com)|52.216.102.18|:80... connected.\n",
            "HTTP request sent, awaiting response... 200 OK\n",
            "Length: 485413888 (463M) [binary/octet-stream]\n",
            "Saving to: ‘glove-100-angular.hdf5’\n",
            "\n",
            "glove-100-angular.h 100%[===================>] 462.93M  45.0MB/s    in 11s     \n",
            "\n",
            "2022-07-13 08:27:01 (41.7 MB/s) - ‘glove-100-angular.hdf5’ saved [485413888/485413888]\n",
            "\n"
          ]
        }
      ],
      "source": [
        "!wget --no-clobber http://ann-benchmarks.com/glove-100-angular.hdf5"
      ]
    },
    {
      "cell_type": "markdown",
      "metadata": {
        "id": "of4fOO0yzPWU"
      },
      "source": [
        "The dataset is in HDF5 format, a popular scientific format that can be accessed using the `h5py` library. Let's see what's inside the datset file."
      ]
    },
    {
      "cell_type": "code",
      "execution_count": 3,
      "metadata": {
        "colab": {
          "base_uri": "https://localhost:8080/"
        },
        "id": "6MiDhxxvzkoX",
        "outputId": "94d4bb85-7625-4372-faef-703dbaf52703"
      },
      "outputs": [
        {
          "data": {
            "text/plain": [
              "[('distances', <HDF5 dataset \"distances\": shape (10000, 100), type \"<f4\">),\n",
              " ('neighbors', <HDF5 dataset \"neighbors\": shape (10000, 100), type \"<i4\">),\n",
              " ('test', <HDF5 dataset \"test\": shape (10000, 100), type \"<f4\">),\n",
              " ('train', <HDF5 dataset \"train\": shape (1183514, 100), type \"<f4\">)]"
            ]
          },
          "execution_count": 3,
          "metadata": {},
          "output_type": "execute_result"
        }
      ],
      "source": [
        "data = h5py.File('glove-100-angular.hdf5', 'r')  # open in read mode\n",
        "list(data.items())"
      ]
    },
    {
      "cell_type": "code",
      "execution_count": 4,
      "metadata": {
        "colab": {
          "base_uri": "https://localhost:8080/"
        },
        "id": "hQxxP74L0Ec9",
        "outputId": "3ea65c90-84c9-462f-b7a8-b61ca7e3e739"
      },
      "outputs": [
        {
          "data": {
            "text/plain": [
              "array([-0.11333  ,  0.48402  ,  0.090771 , -0.22439  ,  0.034206 ,\n",
              "       -0.55831  ,  0.041849 , -0.53573  ,  0.18809  , -0.58722  ,\n",
              "        0.015313 , -0.014555 ,  0.80842  , -0.038519 ,  0.75348  ,\n",
              "        0.70502  , -0.17863  ,  0.3222   ,  0.67575  ,  0.67198  ,\n",
              "        0.26044  ,  0.4187   , -0.34122  ,  0.2286   , -0.53529  ,\n",
              "        1.2582   , -0.091543 ,  0.19716  , -0.037454 , -0.3336   ,\n",
              "        0.31399  ,  0.36488  ,  0.71263  ,  0.1307   , -0.24654  ,\n",
              "       -0.52445  , -0.036091 ,  0.55068  ,  0.10017  ,  0.48095  ,\n",
              "        0.71104  , -0.053462 ,  0.22325  ,  0.30917  , -0.39926  ,\n",
              "        0.036634 , -0.35431  , -0.42795  ,  0.46444  ,  0.25586  ,\n",
              "        0.68257  , -0.20821  ,  0.38433  ,  0.055773 , -0.2539   ,\n",
              "       -0.20804  ,  0.52522  , -0.11399  , -0.3253   , -0.44104  ,\n",
              "        0.17528  ,  0.62255  ,  0.50237  , -0.7607   , -0.071786 ,\n",
              "        0.0080131, -0.13286  ,  0.50097  ,  0.18824  , -0.54722  ,\n",
              "       -0.42664  ,  0.4292   ,  0.14877  , -0.0072514, -0.16484  ,\n",
              "       -0.059798 ,  0.9895   , -0.61738  ,  0.054169 ,  0.48424  ,\n",
              "       -0.35084  , -0.27053  ,  0.37829  ,  0.11503  , -0.39613  ,\n",
              "        0.24266  ,  0.39147  , -0.075256 ,  0.65093  , -0.20822  ,\n",
              "       -0.17456  ,  0.53571  , -0.16537  ,  0.13582  , -0.56016  ,\n",
              "        0.016964 ,  0.1277   ,  0.94071  , -0.22608  , -0.021106 ],\n",
              "      dtype=float32)"
            ]
          },
          "execution_count": 4,
          "metadata": {},
          "output_type": "execute_result"
        }
      ],
      "source": [
        "from sklearn.metrics.pairwise import cosine_similarity\n",
        "\n",
        "n_samples = 10_000\n",
        "n_queries = 200\n",
        "k = 100\n",
        "\n",
        "# data can be accessed as numpy arrays\n",
        "database = data['train'][:n_samples]\n",
        "queries = data['test'][:n_queries]\n",
        "\n",
        "true_scores = cosine_similarity(queries, database)\n",
        "true_neighbors = true_scores.argsort(axis=1)[:, ::-1][:, :k] \n",
        "\n",
        "database[0]"
      ]
    },
    {
      "cell_type": "markdown",
      "metadata": {
        "id": "jhdP_IKw2Zkq"
      },
      "source": [
        "Since we have the groundtruth provided by the dataset, we will compute the **Recall**, that is the fraction of true neighbors of a query that have been retrieved by the system, as metric of quality of the results by our indices.\n",
        "\n",
        "$ \\text{Recall} = \\dfrac{|\\text{True Neighbors} \\cap \\text{Retrieved Objects}|}{|\\text{True Neighbors}|}\\,.$"
      ]
    },
    {
      "cell_type": "code",
      "execution_count": 5,
      "metadata": {
        "id": "6gHfA_vx2WVS"
      },
      "outputs": [],
      "source": [
        "def compute_recall(true_neighbors, predicted_neighbors):\n",
        "  recalls = []\n",
        "  for t, p in zip(true_neighbors, predicted_neighbors):\n",
        "    intersection = np.intersect1d(t, p)\n",
        "    recall = len(intersection) / len(t)\n",
        "    recalls.append(recall)\n",
        "\n",
        "  return np.mean(recalls)"
      ]
    },
    {
      "cell_type": "markdown",
      "metadata": {
        "id": "sidy__WdB9_C"
      },
      "source": [
        "## Pivots Permutation Representation"
      ]
    },
    {
      "cell_type": "markdown",
      "metadata": {
        "id": "UUAEcjwklcr6"
      },
      "source": [
        "Let's select some pivots at random from the database:"
      ]
    },
    {
      "cell_type": "code",
      "execution_count": 6,
      "metadata": {
        "colab": {
          "base_uri": "https://localhost:8080/"
        },
        "id": "0a_Lkn8_B9_C",
        "outputId": "4d0513f7-131e-4333-cd7a-7b3375d53cc2"
      },
      "outputs": [
        {
          "data": {
            "text/plain": [
              "(1000, 100)"
            ]
          },
          "execution_count": 6,
          "metadata": {},
          "output_type": "execute_result"
        }
      ],
      "source": [
        "n_samples = len(database)\n",
        "n_queries = len(queries)\n",
        "n_pivots = 1000\n",
        "\n",
        "pivots = np.random.choice(n_samples, n_pivots)\n",
        "pivots = database[pivots]\n",
        "pivots.shape"
      ]
    },
    {
      "cell_type": "code",
      "execution_count": 7,
      "metadata": {
        "colab": {
          "base_uri": "https://localhost:8080/"
        },
        "id": "clYhXxDkB9_D",
        "outputId": "2836c3af-72ab-4e4d-d14c-da65a24f08e3"
      },
      "outputs": [
        {
          "data": {
            "text/plain": [
              "array([[ 0.0730714 ,  0.20748228,  0.02928537, ...,  0.23704147,\n",
              "         0.35764992,  0.11531361],\n",
              "       [-0.1317926 ,  0.04130875, -0.13022028, ...,  0.07318358,\n",
              "        -0.11490967,  0.13735631],\n",
              "       [-0.07231024,  0.32932368, -0.0081216 , ...,  0.07290298,\n",
              "         0.27425113,  0.29042706],\n",
              "       ...,\n",
              "       [ 0.09051503,  0.4369079 ,  0.11866744, ...,  0.22238837,\n",
              "         0.14660211,  0.20440254],\n",
              "       [ 0.17491174,  0.24385123,  0.10760495, ...,  0.09169679,\n",
              "         0.20435211,  0.36831784],\n",
              "       [ 0.18078792,  0.1798296 ,  0.06412008, ...,  0.16927849,\n",
              "         0.17336157,  0.26738298]], dtype=float32)"
            ]
          },
          "execution_count": 7,
          "metadata": {},
          "output_type": "execute_result"
        }
      ],
      "source": [
        "xp_distances = cosine_similarity(database, pivots)\n",
        "xp_distances"
      ]
    },
    {
      "cell_type": "code",
      "execution_count": 8,
      "metadata": {
        "colab": {
          "base_uri": "https://localhost:8080/"
        },
        "id": "SM_4VoV3B9_D",
        "outputId": "39164b44-fcaf-44f6-9fcb-b4a5b783d619"
      },
      "outputs": [
        {
          "data": {
            "text/plain": [
              "array([[345, 519, 318, ..., 362,  99, 210],\n",
              "       [762, 964, 717, ..., 626,  81, 276],\n",
              "       [926, 869, 258, ...,  73, 210, 807],\n",
              "       ...,\n",
              "       [411, 103, 892, ..., 312, 918, 274],\n",
              "       [641, 177, 385, ..., 741, 807, 395],\n",
              "       [ 24, 341, 613, ..., 463, 739, 210]])"
            ]
          },
          "execution_count": 8,
          "metadata": {},
          "output_type": "execute_result"
        }
      ],
      "source": [
        "# permutation: i -> pivot with rank i\n",
        "xp_permutation = xp_distances.argsort(axis=1)\n",
        "xp_permutation = xp_permutation[:, ::-1]  # reverse order, higher is better (cosine similarity)\n",
        "xp_permutation"
      ]
    },
    {
      "cell_type": "code",
      "execution_count": 9,
      "metadata": {
        "colab": {
          "base_uri": "https://localhost:8080/"
        },
        "id": "emB797KPB9_D",
        "outputId": "e5206401-4c42-441c-e06a-0eec0376b2f2"
      },
      "outputs": [
        {
          "data": {
            "text/plain": [
              "array([[904, 565, 946, ..., 467, 123, 827],\n",
              "       [973, 591, 971, ..., 457, 961, 225],\n",
              "       [940,   5, 838, ..., 604,  26,  17],\n",
              "       ...,\n",
              "       [757,  12, 667, ..., 308, 560, 362],\n",
              "       [513, 256, 729, ..., 775, 401,  43],\n",
              "       [549, 555, 886, ..., 603, 585, 276]])"
            ]
          },
          "execution_count": 9,
          "metadata": {},
          "output_type": "execute_result"
        }
      ],
      "source": [
        "# inverse permutation: i -> position of pivot i\n",
        "xp_inv_perm = xp_permutation.argsort(axis=1)\n",
        "xp_inv_perm"
      ]
    },
    {
      "cell_type": "code",
      "execution_count": 31,
      "metadata": {
        "colab": {
          "base_uri": "https://localhost:8080/"
        },
        "id": "kG5slljGqsHh",
        "outputId": "84726f3d-af71-4492-84c5-cb7205671e88"
      },
      "outputs": [
        {
          "data": {
            "text/plain": [
              "array([[ 96, 435,  54, ..., 533, 877, 173],\n",
              "       [ 27, 409,  29, ..., 543,  39, 775],\n",
              "       [ 60, 995, 162, ..., 396, 974, 983],\n",
              "       ...,\n",
              "       [243, 988, 333, ..., 692, 440, 638],\n",
              "       [487, 744, 271, ..., 225, 599, 957],\n",
              "       [451, 445, 114, ..., 397, 415, 724]])"
            ]
          },
          "execution_count": 31,
          "metadata": {},
          "output_type": "execute_result"
        }
      ],
      "source": [
        "# term frequency: i -> the importance of pivot i\n",
        "xp_term_freq = n_pivots - xp_inv_perm\n",
        "xp_term_freq"
      ]
    },
    {
      "cell_type": "code",
      "execution_count": 11,
      "metadata": {
        "colab": {
          "base_uri": "https://localhost:8080/"
        },
        "id": "cEV1FnFcqsHh",
        "outputId": "3b66485f-00bc-4f7e-98b8-de2f028d3679"
      },
      "outputs": [
        {
          "data": {
            "text/plain": [
              "array([[0, 0, 0, ..., 0, 0, 0],\n",
              "       [0, 0, 0, ..., 0, 0, 0],\n",
              "       [0, 5, 0, ..., 0, 0, 0],\n",
              "       ...,\n",
              "       [0, 0, 0, ..., 0, 0, 0],\n",
              "       [0, 0, 0, ..., 0, 0, 0],\n",
              "       [0, 0, 0, ..., 0, 0, 0]])"
            ]
          },
          "execution_count": 11,
          "metadata": {},
          "output_type": "execute_result"
        }
      ],
      "source": [
        "# truncated term frequency: i -> the importance of pivot i\n",
        "# but only keeping the nearest p pivots\n",
        "prefix_length = 10\n",
        "xp_trunc_tf = np.maximum(prefix_length - xp_inv_perm, 0)\n",
        "xp_trunc_tf"
      ]
    },
    {
      "cell_type": "code",
      "execution_count": 12,
      "metadata": {
        "id": "7itY4E6AB9_E"
      },
      "outputs": [],
      "source": [
        "qp_distances = cosine_similarity(database, pivots)\n",
        "qp_inv_perm = qp_distances.argsort(axis=1)[:, ::-1].argsort(axis=1)\n",
        "qp_trunc_tf = np.maximum(prefix_length - qp_inv_perm, 0)"
      ]
    },
    {
      "cell_type": "code",
      "execution_count": 13,
      "metadata": {
        "id": "vLRYarhkwn9i"
      },
      "outputs": [],
      "source": [
        "def T(samples, pivots, prefix_length=None):\n",
        "  \"\"\" Transform real-valued vectors into Term Frequencies-like vectors via\n",
        "      Pivots Permutations. \"\"\"\n",
        "  n_pivots = len(pivots)\n",
        "  prefix_length = prefix_length or n_pivots\n",
        "\n",
        "  xp_distances = cosine_similarity(samples, pivots)\n",
        "  xp_permutations = xp_distances.argsort(axis=1)[:, ::-1]\n",
        "  xp_inv_permutat = xp_permutations.argsort(axis=1)\n",
        "  xp_truncated_tf = np.maximum(prefix_length - xp_inv_permutat, 0)\n",
        "\n",
        "  return xp_truncated_tf"
      ]
    },
    {
      "cell_type": "code",
      "execution_count": 14,
      "metadata": {
        "colab": {
          "base_uri": "https://localhost:8080/"
        },
        "id": "deUqaq9k1FnR",
        "outputId": "fb40b5d5-0aa7-402d-eccf-c52aebd81816"
      },
      "outputs": [
        {
          "data": {
            "text/plain": [
              "((10000, 1000), (200, 1000))"
            ]
          },
          "execution_count": 14,
          "metadata": {},
          "output_type": "execute_result"
        }
      ],
      "source": [
        "tx = T(database, pivots, prefix_length=250)\n",
        "tq = T(queries, pivots, prefix_length=250)\n",
        "tx.shape, tq.shape"
      ]
    },
    {
      "cell_type": "markdown",
      "metadata": {
        "id": "47ZssMzZ4dgZ"
      },
      "source": [
        "Let's measure the **sparsity** of the transformed dataset. The sparsity of a vector is the fraction of zero elements in the vector.\n",
        "The sparsity of a vector is directly related to the number of entries that will be stored in the posting lists of the textual search engine; therefore, the smaller the better."
      ]
    },
    {
      "cell_type": "code",
      "execution_count": 15,
      "metadata": {
        "colab": {
          "base_uri": "https://localhost:8080/"
        },
        "id": "VcNZXMQG4V9J",
        "outputId": "08274771-ba53-4bec-9f0c-222e2f22e13a"
      },
      "outputs": [
        {
          "data": {
            "text/plain": [
              "0.75"
            ]
          },
          "execution_count": 15,
          "metadata": {},
          "output_type": "execute_result"
        }
      ],
      "source": [
        "sparsity = 1 - (np.count_nonzero(tx) / tx.size)\n",
        "sparsity"
      ]
    },
    {
      "cell_type": "markdown",
      "metadata": {
        "id": "5FKiVPoRpncN"
      },
      "source": [
        "We can evaluate the performance loss introduced by the approximation by computing the inner product between the transformed vectors. This will be the operations that the textual search engine like Elasticsearch will internally perform."
      ]
    },
    {
      "cell_type": "code",
      "execution_count": 16,
      "metadata": {
        "colab": {
          "base_uri": "https://localhost:8080/"
        },
        "id": "x8R_1K-Ih6Cv",
        "outputId": "c4a65446-58ab-444b-e2fb-a354fb67118d"
      },
      "outputs": [
        {
          "name": "stdout",
          "output_type": "stream",
          "text": [
            "0.52705\n"
          ]
        }
      ],
      "source": [
        "# compute scores (without an index, this is slow)\n",
        "\n",
        "# this takes forever\n",
        "# scores = tq.dot(tx.T)\n",
        "\n",
        "# we use sparse multiplication (similar to what an index does)\n",
        "# that is only efficient if sparsity is high enough\n",
        "from scipy.sparse import csr_matrix\n",
        "stq = csr_matrix(tq)\n",
        "stx = csr_matrix(tx)\n",
        "\n",
        "scores = stq.dot(stx.T).toarray()\n",
        "\n",
        "# find 100 nearest neighbors\n",
        "k = 100\n",
        "sorted_indices = scores.argsort(axis=1)[:, ::-1]  # sort descending per row\n",
        "topk = sorted_indices[:, :k]  # get **indices** of the topk images for each row\n",
        "\n",
        "recall = compute_recall(true_neighbors, topk)\n",
        "print(recall)"
      ]
    },
    {
      "cell_type": "markdown",
      "metadata": {
        "id": "xK41bSIUrUG3"
      },
      "source": [
        "Once we have transformed our vectors, we can create surrogate text representations by repeating terms as many times as indicated by the transoformed vector, i.e., we interpret the transofmed vector as term frequencies."
      ]
    },
    {
      "cell_type": "code",
      "execution_count": 17,
      "metadata": {
        "id": "qyliHVOR2Lal"
      },
      "outputs": [],
      "source": [
        "def surrogate_text(term_frequencies):\n",
        "  \"\"\" Creates Surrogate Text by repeating the i-th term\n",
        "      a number of time indicated by term_frequency[i].\n",
        "  \"\"\"\n",
        "  tokens = []\n",
        "  for i, tf in enumerate(term_frequencies):\n",
        "    tokens += [f'f{i}'] * int(tf)\n",
        "\n",
        "  text = ' '.join(tokens)\n",
        "  return text"
      ]
    },
    {
      "cell_type": "code",
      "execution_count": 18,
      "metadata": {
        "colab": {
          "base_uri": "https://localhost:8080/",
          "height": 122
        },
        "id": "rF6hJVLR3Yun",
        "outputId": "47295cfe-331e-4e61-e31c-027f338b3f79"
      },
      "outputs": [
        {
          "data": {
            "application/vnd.google.colaboratory.intrinsic+json": {
              "type": "string"
            },
            "text/plain": [
              "'f5 f5 f5 f5 f5 f5 f5 f5 f5 f5 f5 f5 f5 f5 f5 f5 f5 f5 f5 f5 f5 f5 f5 f5 f5 f5 f5 f5 f5 f5 f5 f5 f5 f5 f5 f5 f5 f5 f5 f5 f5 f5 f5 f5 f5 f5 f5 f5 f5 f5 f9 f9 f9 f9 f9 f9 f9 f9 f9 f9 f9 f9 f9 f9 f9 f9 f9 f9 f9 f9 f9 f9 f9 f9 f9 f9 f9 f9 f9 f9 f9 f9 f9 f9 f9 f9 f9 f9 f9 f9 f9 f9 f9 f9 f9 f9 f9 f9 f9 f9 f9 f9 f9 f9 f9 f9 f9 f9 f9 f9 f9 f9 f9 f9 f9 f9 f9 f9 f9 f9 f9 f9 f9 f9 f9 f9 f9 f9 f9 f9 f9 f9 f9 f9 f9 f9 f9 f9 f9 f9 f9 f9 f9 f9 f9 f9 f9 f9 f9 f9 f9 f9 f9 f9 f9 f9 f9 f9 f9 f9 f9 f9 f9 f9 f9 f9 f9 f9 f9 f9 f9 f9 f9 f9 f9 f9 f9 f9 f9 f9 f9 f9 f9 f9 f9 f9 f9 f9 f9 f9 f9 f9 f9 f9 f9 f9 f9 f9 f9 f9 f9 f9 f9 f9 f9 f9 f9 f9 f9 f9 f9 f9 f9 f9 f9 f9 f9 f9 f9 f9 f9 f9 f9 f9 f9 f9 f9 f9 f9 f9 f9 f9 f9 f9 f9 f9 f9 f9 f9 f9 f9 f9 f9 f9 f9 f9 f9 f9 f9 f9 f9 f9 f9 f9 f9 f9 f9 f9 f9 f9 f9 f9 f9 f9 f9 f9 f9 f9 f9 f9 f9 f9 f12 f19 f19 f19 f19 f19 f19 f19 f19 f19 f19 f19 f19 f19 f19 f19 f19 f19 f19 f19 f19 f19 f19 f19 f19 f19 f19 f19 f19 f19 f19 f19 f19 f19 f19 f19 f19 f19 f19 f19 f19 f19 f19 f19 f19 f19 f19 f19 f19 f19 f19 f19 f19 f19 f19 f19 f19 f19 f19 f19 f19 f19 f19 f19 f19 f19 f19 f19 f19 f19 f19 f19 f19 f19 f19 f19 f19 f19 f19 f19 f19 f19 f19 f19 f19 f19 f19 f19 f19 f19 f19 f19 f19 f19 f19 f19 f19 f19 f19 f19 f19 f19 f19 f19 f19 f19 f19 f19 f19 f19 f19 f19 f19 f19 f19 f19 f19 f19 f19 f19 f19 f19 f19 f19 f19 f19 f19 f19 f19 f19 f19 f19 f19 f19 f19 f19 f19 f19 f19 f19 f19 f19 f19 f19 f19 f19 f19 f19 f19 f19 f19 f19 f19 f19 f19 f19 f19 f19 f19 f19 f19 f19 f19 f19 f19 f19 f19 f19 f19 f19 f19 f19 f19 f19 f19 f19 f19 f19 f19 f19 f19 f19 f19 f19 f19 f19 f19 f19 f19 f19 f19 f19 f19 f19 f19 f19 f19 f19 f19 f19 f19 f19 f19 f19 f19 f19 f19 f19 f19 f19 f19 f19 f19 f19 f19 f19 f19 f19 f19 f22 f22 f22 f22 f22 f22 f22 f22 f22 f22 f22 f22 f22 f22 f22 f22 f22 f22 f22 f22 f22 f22 f22 f22 f22 f22 f22 f22 f22 f22 f22 f22 f22 f22 f22 f22 f22 f22 f22 f22 f22 f22 f22 f22 f22 f22 f22 f22 f22 f22 f22 f22 f22 f22 f22 f22 f22 f22 f22 f22 f22 f22 f22 f22 f22 f22 f22 f22 f22 f22 f22 f22 f22 f22 f22 f22 f22 f22 f22 f22 f22 f22 f22 f22 f22 f22 f22 f22 f22 f22 f22 f22 f22 f22 f22 f22 f22 f22 f22 f22 f22 f22 f22 f22 f22 f22 f22 f22 f22 f24 f24 f24 f24 f24 f24 f24 f24 f24 f24 f24 f24 f24 f24 f24 f24 f24 f24 f24 f24 f24 f24 f24 f24 f24 f24 f24 f24 f24 f24 f24 f24 f24 f24 f24 f24 f24 f24 f24 f24 f24 f24 f24 f24 f24 f24 f24 f24 f24 f24 f24 f24 f24 f24 f24 f24 f24 f24 f24 f24 f24 f24 f24 f24 f24 f24 f24 f24 f24 f24 f24 f24 f24 f24 f24 f24 f24 f24 f24 f24 f24 f24 f24 f24 f24 f24 f24 f24 f24 f24 f24 f24 f24 f24 f24 f24 f24 f24 f24 f24 f24 f24 f24 f24 f24 f24 f24 f24 f24 f24 f24 f24 f24 f24 f24 f24 f24 f24 f24 f24 f24 f24 f24 f24 f24 f24 f24 f24 f24 f24 f24 f24 f24 f24 f24 f24 f24 f24 f24 f24 f24 f24 f24 f24 f24 f24 f24 f24 f24 f24 f24 f24 f24 f24 f24 f24 f24 f24 f24 f24 f24 f24 f24 f24 f24 f24 f24 f24 f24 f24 f24 f24 f24 f24 f24 f24 f24 f24 f24 f24 f24 f24 f24 f24 f24 f24 f24 f24 f24 f24 f24 f24 f24 f24 f24 f24 f24 f24 f24 f24 f24 f24 f24 f24 f24 f24 f24 f24 f24 f25 f25 f25 f25 f25 f25 f25 f25 f25 f25 f25 f25 f25 f25 f25 f25 f25 f25 f25 f25 f25 f25 f25 f25 f25 f25 f25 f25 f25 f25 f25 f25 f25 f25 f25 f25 f25 f25 f25 f25 f25 f25 f25 f25 f25 f25 f25 f25 f25 f25 f25 f25 f25 f25 f25 f25 f25 f25 f25 f25 f25 f25 f25 f25 f25 f25 f25 f25 f25 f25 f25 f25 f25 f25 f25 f25 f25 f25 f25 f25 f25 f25 f25 f25 f25 f25 f25 f25 f25 f25 f25 f25 f25 f25 f25 f25 f25 f25 f25 f25 f25 f25 f25 f25 f25 f25 f25 f25 f25 f25 f25 f25 f25 f25 f25 f25 f25 f25 f25 f25 f25 f25 f25 f25 f25 f25 f25 f25 f25 f25 f25 f25 f25 f25 f25 f25 f25 f25 f25 f25 f25 f25 f25 f25 f25 f25 f25 f25 f25 f25 f25 f25 f25 f25 f25 f25 f25 f25 f25 f25 f25 f25 f25 f25 f25 f25 f25 f25 f25 f25 f25 f25 f25 f25 f25 f25 f25 f25 f25 f25 f25 f25 f25 f25 f25 f25 f25 f25 f25 f25 f25 f25 f25 f25 f25 f25 f25 f25 f25 f25 f25 f25 f25 f25 f25 f25 f25 f27 f27 f27 f27 f27 f27 f27 f27 f27 f27 f27 f27 f27 f27 f27 f27 f27 f27 f27 f27 f27 f27 f27 f27 f27 f27 f27 f27 f27 f27 f27 f27 f27 f27 f27 f27 f27 f27 f27 f27 f27 f27 f27 f27 f27 f27 f27 f27 f27 f27 f27 f27 f27 f27 f27 f27 f27 f27 f27 f27 f27 f27 f27 f27 f27 f27 f27 f27 f27 f27 f27 f27 f27 f27 f27 f27 f27 f27 f27 f27 f27 f27 f27 f27 f27 f27 f27 f27 f27 f27 f27 f27 f27 f27 f27 f27 f27 f27 f27 f27 f27 f27 f27 f27 f27 f27 f27 f27 f27 f27 f27 f27 f27 f27 f27 f27 f27 f27 f27 f27 f27 f27 f27 f27 f27 f27 f27 f27 f27 f27 f27 f27 f27 f27 f27 f27 f27 f27 f27 f27 f27 f27 f27 f27 f27 f27 f27 f27 f27 f27 f27 f27 f27 f27 f27 f27 f27 f27 f27 f27 f27 f27 f27 f27 f27 f27 f27 f27 f27 f27 f39 f39 f39 f39 f39 f39 f39 f39 f39 f39 f39 f39 f39 f39 f39 f39 f39 f39 f39 f39 f39 f39 f39 f39 f39 f39 f39 f39 f39 f39 f39 f39 f39 f39 f39 f39 f39 f39 f39 f39 f39 f39 f39 f39 f39 f39 f39 f39 f39 f39 f39 f39 f39 f39 f39 f39 f39 f39 f39 f39 f39 f39 f39 f39 f39 f39 f39 f39 f39 f39 f39 f39 f39 f39 f39 f39 f39 f39 f49 f49 f49 f49 f49 f49 f49 f49 f49 f49 f49 f49 f49 f49 f49 f49 f49 f49 f49 f49 f49 f49 f49 f49 f49 f49 f49 f49 f49 f49 f49 f49 f49 f49 f49 f49 f49 f49 f49 f49 f49 f49 f49 f49 f49 f49 f49 f49 f49 f49 f49 f49 f49 f49 f49 f49 f49 f49 f49 f49 f49 f49 f49 f49 f49 f49 f49 f49 f49 f49 f49 f49 f49 f49 f49 f49 f49 f49 f49 f49 f49 f49 f49 f49 f49 f49 f49 f49 f49 f49 f49 f49 f49 f49 f49 f49 f49 f49 f49 f49 f49 f49 f49 f49 f49 f49 f49 f49 f49 f49 f49 f49 f49 f49 f49 f49 f49 f49 f49 f49 f49 f49 f49 f51 f51 f51 f51 f51 f51 f53 f53 f53 f53 f53 f53 f53 f53 f53 f53 f53 f53 f53 f53 f53 f53 f53 f53 f53 f53 f53 f53 f53 f53 f53 f53 f53 f53 f53 f53 f53 f53 f53 f53 f53 f53 f53 f53 f53 f53 f53 f53 f53 f53 f53 f53 f53 f53 f53 f53 f53 f53 f53 f53 f53 f53 f53 f59 f59 f59 f59 f59 f59 f59 f59 f59 f59 f59 f59 f59 f59 f59 f59 f59 f61 f61 f61 f61 f61 f61 f61 f61 f61 f61 f61 f61 f61 f61 f61 f61 f61 f61 f61 f61 f61 f61 f61 f61 f61 f61 f61 f61 f61 f61 f61 f61 f61 f61 f61 f61 f61 f61 f61 f61 f61 f61 f61 f61 f61 f61 f61 f61 f66 f66 f66 f66 f66 f66 f66 f66 f66 f66 f66 f66 f66 f66 f66 f66 f66 f66 f66 f66 f66 f66 f66 f66 f66 f66 f66 f66 f66 f66 f66 f66 f66 f66 f66 f66 f66 f66 f66 f66 f66 f66 f66 f66 f66 f66 f66 f66 f66 f66 f66 f66 f66 f66 f66 f66 f66 f66 f66 f66 f66 f66 f66 f66 f66 f66 f66 f66 f66 f66 f66 f66 f66 f66 f66 f66 f66 f66 f66 f66 f66 f66 f66 f66 f66 f66 f66 f66 f66 f66 f66 f66 f66 f66 f66 f66 f66 f66 f66 f66 f66 f66 f66 f66 f66 f66 f66 f66 f66 f66 f68 f68 f68 f68 f68 f68 f68 f68 f68 f68 f68 f68 f68 f68 f68 f68 f68 f68 f68 f68 f68 f68 f68 f68 f68 f68 f68 f68 f68 f68 f68 f68 f68 f68 f68 f68 f68 f68 f68 f68 f68 f68 f68 f68 f68 f68 f68 f68 f68 f68 f68 f68 f68 f68 f68 f68 f68 f68 f68 f68 f68 f68 f68 f68 f68 f68 f68 f68 f68 f68 f68 f68 f68 f68 f68 f68 f68 f68 f68 f68 f68 f68 f68 f69 f69 f69 f69 f69 f69 f69 f69 f69 f69 f69 f69 f69 f69 f69 f69 f69 f69 f69 f69 f69 f69 f69 f69 f69 f69 f69 f70 f70 f70 f70 f70 f70 f70 f70 f70 f70 f70 f70 f70 f70 f70 f70 f70 f70 f70 f70 f70 f70 f70 f70 f70 f70 f70 f70 f70 f70 f70 f70 f70 f70 f70 f70 f70 f70 f70 f70 f70 f70 f70 f70 f70 f70 f70 f70 f70 f70 f70 f70 f70 f70 f70 f70 f70 f70 f70 f70 f70 f70 f70 f70 f70 f70 f70 f70 f70 f70 f70 f70 f70 f70 f70 f70 f70 f70 f70 f70 f70 f70 f70 f70 f70 f70 f70 f70 f70 f70 f70 f70 f70 f70 f70 f70 f70 f70 f70 f70 f70 f70 f70 f70 f70 f70 f70 f70 f70 f70 f70 f70 f70 f70 f70 f70 f70 f70 f70 f70 f70 f70 f70 f70 f70 f70 f70 f70 f70 f70 f70 f70 f70 f70 f70 f70 f72 f72 f72 f72 f72 f72 f72 f72 f72 f72 f72 f72 f72 f72 f72 f72 f72 f72 f72 f72 f72 f72 f72 f72 f72 f72 f72 f72 f72 f72 f72 f72 f72 f72 f75 f75 f75 f75 f75 f75 f75 f75 f75 f75 f75 f75 f75 f75 f75 f75 f75 f75 f75 f75 f75 f75 f75 f75 f75 f75 f75 f75 f75 f75 f75 f75 f75 f75 f75 f75 f75 f75 f75 f77 f77 f77 f77 f77 f77 f77 f77 f77 f79 f79 f79 f79 f79 f79 f79 f79 f79 f79 f79 f79 f79 f79 f79 f79 f79 f79 f79 f79 f79 f79 f79 f79 f79 f79 f79 f79 f79 f79 f79 f79 f79 f79 f79 f79 f79 f79 f79 f79 f79 f79 f79 f79 f79 f79 f79 f79 f79 f79 f79 f79 f79 f79 f79 f79 f79 f79 f79 f79 f79 f79 f79 f79 f79 f79 f79 f79 f79 f79 f79 f79 f79 f79 f79 f79 f79 f79 f79 f79 f79 f79 f79 f79 f79 f79 f79 f79 f79 f79 f79 f79 f79 f79 f79 f79 f79 f79 f79 f79 f79 f79 f79 f79 f79 f79 f79 f79 f79 f79 f79 f79 f79 f79 f79 f79 f79 f79 f79 f79 f79 f79 f79 f79 f79 f79 f79 f79 f79 f79 f79 f79 f79 f79 f79 f79 f79 f83 f83 f83 f83 f83 f83 f83 f83 f83 f83 f83 f83 f85 f85 f85 f85 f85 f85 f85 f85 f85 f85 f85 f85 f85 f85 f85 f91 f91 f91 f91 f91 f91 f91 f91 f91 f91 f91 f91 f91 f91 f91 f91 f91 f91 f91 f91 f91 f91 f91 f91 f91 f91 f91 f91 f91 f91 f91 f91 f91 f91 f91 f91 f91 f91 f91 f91 f91 f91 f91 f91 f91 f91 f91 f91 f91 f91 f91 f91 f91 f91 f91 f91 f91 f91 f91 f91 f91 f91 f91 f91 f91 f91 f91 f91 f91 f91 f91 f91 f91 f91 f91 f91 f91 f91 f91 f91 f91 f91 f91 f91 f91 f91 f91 f91 f91 f91 f91 f91 f91 f91 f91 f91 f91 f91 f91 f91 f91 f91 f91 f91 f91 f91 f91 f91 f91 f91 f91 f91 f91 f91 f91 f91 f91 f91 f91 f91 f91 f91 f91 f91 f91 f91 f91 f91 f91 f91 f91 f91 f91 f91 f91 f91 f91 f91 f91 f91 f91 f91 f91 f91 f91 f98 f98 f98 f98 f98 f98 f98 f98 f98 f98 f98 f98 f98 f98 f98 f98 f98 f98 f98 f98 f98 f98 f98 f98 f98 f98 f98 f98 f98 f98 f98 f98 f98 f98 f98 f98 f98 f98 f98 f98 f98 f98 f98 f98 f98 f98 f98 f98 f98 f98 f98 f98 f98 f98 f98 f98 f98 f98 f98 f98 f98 f98 f98 f98 f98 f98 f98 f98 f98 f98 f98 f98 f98 f98 f98 f98 f98 f98 f98 f98 f98 f98 f98 f98 f98 f98 f98 f98 f98 f98 f98 f98 f98 f98 f98 f98 f98 f98 f98 f98 f98 f98 f98 f98 f98 f98 f98 f98 f98 f98 f98 f98 f98 f98 f98 f98 f98 f98 f98 f98 f98 f98 f98 f98 f98 f98 f98 f98 f98 f98 f98 f98 f98 f98 f98 f98 f98 f98 f98 f98 f98 f98 f98 f98 f98 f98 f98 f98 f98 f98 f98 f98 f98 f98 f98 f98 f98 f98 f98 f98 f98 f98 f98 f98 f98 f98 f98 f98 f98 f98 f98 f98 f98 f98 f98 f98 f98 f98 f98 f98 f98 f98 f98 f98 f98 f98 f98 f98 f98 f98 f98 f98 f98 f98 f98 f98 f98 f98 f98 f98 f98 f98 f98 f98 f98 f98 f98 f98 f98 f98 f98 f98 f98 f98 f98 f98 f98 f98 f98 f98 f98 f98 f98 f98 f98 f98 f98 f98 f98 f98 f98 f98 f98 f98 f100 f100 f100 f100 f100 f100 f100 f100 f100 f100 f100 f100 f100 f100 f100 f100 f100 f100 f100 f100 f100 f100 f100 f100 f100 f100 f100 f100 f100 f100 f100 f100 f100 f100 f100 f100 f100 f100 f100 f100 f100 f100 f100 f100 f100 f100 f100 f100 f100 f100 f100 f100 f100 f100 f100 f100 f100 f100 f100 f100 f100 f100 f100 f100 f100 f100 f100 f100 f100 f100 f100 f100 f100 f100 f100 f100 f100 f100 f100 f100 f100 f100 f100 f100 f100 f100 f100 f100 f100 f100 f100 f100 f100 f100 f100 f100 f103 f103 f103 f103 f103 f103 f103 f103 f103 f103 f103 f103 f103 f103 f103 f103 f103 f103 f103 f103 f103 f103 f103 f103 f103 f103 f103 f103 f103 f103 f103 f103 f103 f103 f103 f103 f103 f103 f103 f103 f103 f103 f103 f103 f103 f103 f103 f103 f103 f103 f103 f103 f103 f103 f103 f103 f103 f103 f103 f103 f103 f103 f103 f103 f103 f103 f103 f103 f103 f103 f103 f103 f103 f103 f103 f103 f103 f103 f103 f103 f103 f103 f103 f103 f103 f103 f103 f103 f103 f103 f103 f103 f103 f103 f103 f103 f103 f103 f103 f103 f103 f103 f103 f103 f103 f103 f103 f103 f103 f103 f103 f103 f103 f103 f103 f103 f103 f103 f103 f103 f103 f103 f103 f103 f103 f103 f103 f103 f103 f103 f103 f103 f103 f103 f103 f103 f103 f103 f103 f103 f103 f103 f103 f103 f103 f103 f103 f103 f103 f103 f103 f103 f103 f103 f103 f103 f103 f103 f103 f103 f103 f103 f103 f103 f103 f103 f103 f103 f103 f103 f103 f103 f103 f103 f103 f103 f103 f103 f103 f103 f103 f103 f103 f103 f103 f103 f103 f103 f103 f103 f103 f103 f103 f103 f103 f103 f103 f103 f103 f103 f103 f106 f106 f106 f106 f106 f106 f106 f106 f106 f106 f106 f106 f106 f106 f106 f106 f106 f106 f106 f106 f106 f106 f106 f106 f106 f106 f106 f106 f106 f106 f106 f106 f106 f106 f106 f106 f106 f106 f106 f106 f106 f106 f106 f106 f106 f106 f106 f106 f106 f106 f106 f106 f106 f106 f106 f106 f108 f108 f108 f108 f108 f108 f108 f108 f108 f108 f108 f108 f108 f108 f108 f108 f108 f108 f108 f108 f108 f108 f108 f108 f108 f108 f108 f108 f108 f108 f108 f108 f108 f108 f108 f108 f108 f108 f108 f108 f108 f108 f108 f108 f108 f108 f108 f108 f108 f108 f108 f108 f108 f108 f108 f108 f108 f108 f108 f108 f108 f108 f108 f108 f108 f108 f108 f108 f108 f108 f108 f108 f108 f108 f108 f108 f108 f108 f108 f108 f108 f108 f108 f108 f108 f108 f108 f108 f108 f108 f108 f108 f108 f108 f108 f108 f108 f108 f108 f108 f108 f108 f108 f108 f108 f108 f108 f108 f108 f108 f108 f108 f108 f108 f108 f108 f108 f108 f108 f108 f108 f108 f108 f108 f108 f108 f108 f108 f108 f108 f108 f108 f108 f108 f108 f108 f108 f108 f108 f108 f108 f108 f108 f108 f108 f108 f108 f108 f108 f108 f108 f108 f108 f108 f108 f108 f108 f108 f108 f108 f108 f108 f108 f108 f108 f108 f108 f108 f110 f110 f110 f110 f110 f110 f110 f110 f110 f110 f110 f110 f110 f110 f110 f110 f110 f110 f110 f110 f110 f110 f110 f110 f110 f110 f110 f110 f110 f110 f110 f110 f110 f110 f110 f110 f110 f110 f110 f110 f110 f110 f110 f110 f110 f110 f110 f110 f110 f110 f110 f110 f110 f110 f110 f110 f110 f110 f110 f110 f110 f110 f110 f110 f110 f110 f110 f113 f113 f113 f113 f113 f113 f113 f113 f113 f113 f113 f113 f113 f113 f113 f113 f113 f113 f113 f113 f113 f113 f113 f113 f113 f113 f113 f113 f113 f113 f113 f113 f113 f113 f113 f113 f113 f113 f113 f113 f113 f113 f113 f113 f113 f124 f124 f124 f124 f124 f124 f124 f124 f124 f124 f124 f124 f124 f124 f124 f124 f124 f124 f124 f124 f124 f124 f124 f124 f124 f124 f124 f124 f124 f124 f124 f124 f124 f124 f124 f124 f124 f124 f124 f124 f124 f124 f124 f124 f124 f124 f124 f124 f124 f124 f124 f124 f124 f124 f124 f124 f124 f124 f124 f124 f144 f144 f144 f144 f144 f144 f144 f144 f144 f144 f144 f144 f144 f144 f144 f144 f144 f144 f144 f144 f144 f144 f144 f144 f144 f144 f144 f144 f144 f144 f144 f144 f144 f144 f144 f144 f144 f144 f144 f144 f144 f144 f144 f144 f144 f144 f144 f144 f144 f144 f144 f144 f144 f144 f144 f144 f144 f144 f144 f144 f144 f144 f144 f144 f144 f144 f144 f144 f144 f144 f144 f144 f144 f144 f144 f144 f144 f144 f144 f144 f144 f144 f144 f144 f144 f144 f144 f144 f144 f144 f144 f144 f144 f144 f144 f144 f144 f144 f144 f144 f144 f144 f144 f144 f144 f144 f144 f144 f144 f144 f144 f144 f144 f155 f155 f155 f155 f155 f155 f155 f155 f155 f155 f155 f155 f155 f156 f156 f156 f156 f156 f156 f156 f156 f156 f156 f156 f156 f156 f156 f156 f156 f156 f156 f156 f156 f156 f156 f156 f156 f156 f156 f156 f156 f156 f156 f156 f156 f156 f156 f156 f156 f156 f156 f156 f156 f156 f156 f156 f156 f156 f156 f156 f156 f156 f156 f156 f156 f156 f156 f156 f156 f156 f156 f156 f156 f156 f156 f156 f156 f156 f156 f156 f156 f156 f156 f156 f156 f156 f156 f156 f156 f156 f156 f156 f156 f156 f156 f156 f156 f156 f156 f156 f156 f156 f156 f156 f156 f156 f156 f156 f156 f156 f156 f156 f156 f156 f156 f156 f156 f156 f156 f156 f156 f156 f156 f156 f156 f156 f156 f156 f156 f156 f156 f156 f156 f156 f156 f156 f156 f156 f156 f156 f156 f156 f156 f156 f156 f156 f156 f156 f156 f156 f156 f156 f156 f156 f156 f156 f156 f156 f156 f156 f156 f156 f156 f156 f156 f156 f156 f156 f156 f156 f156 f156 f156 f156 f156 f156 f156 f163 f163 f163 f163 f163 f163 f163 f163 f163 f163 f163 f163 f163 f163 f163 f163 f163 f163 f163 f163 f163 f163 f163 f163 f163 f163 f163 f163 f163 f163 f163 f163 f163 f163 f163 f163 f163 f163 f163 f163 f163 f163 f163 f163 f163 f163 f163 f163 f163 f163 f163 f163 f163 f163 f163 f163 f163 f163 f163 f163 f163 f163 f163 f163 f163 f163 f163 f163 f163 f163 f163 f163 f163 f163 f163 f163 f163 f163 f163 f163 f163 f163 f163 f163 f163 f163 f163 f163 f163 f163 f163 f163 f163 f163 f163 f163 f163 f163 f163 f163 f163 f163 f163 f163 f163 f163 f163 f163 f163 f163 f163 f163 f163 f163 f163 f163 f163 f163 f163 f163 f163 f163 f163 f163 f163 f163 f163 f163 f163 f163 f163 f163 f163 f163 f163 f163 f163 f163 f163 f163 f163 f163 f163 f163 f163 f163 f163 f163 f163 f163 f163 f163 f163 f163 f163 f163 f163 f163 f163 f163 f163 f163 f163 f163 f163 f163 f163 f163 f163 f163 f163 f164 f164 f164 f164 f164 f164 f164 f164 f171 f171 f171 f171 f171 f171 f171 f171 f171 f171 f171 f171 f171 f171 f171 f171 f171 f171 f171 f171 f171 f171 f171 f171 f171 f171 f171 f171 f171 f171 f171 f171 f171 f171 f171 f171 f171 f171 f171 f171 f171 f171 f171 f171 f171 f171 f171 f171 f171 f171 f171 f171 f171 f171 f171 f171 f171 f171 f171 f171 f171 f171 f171 f171 f171 f171 f171 f171 f171 f171 f171 f171 f172 f172 f172 f172 f172 f172 f172 f172 f172 f172 f172 f172 f172 f172 f172 f172 f172 f172 f172 f172 f172 f172 f172 f172 f172 f172 f172 f172 f172 f172 f172 f172 f172 f172 f172 f172 f172 f172 f172 f172 f172 f172 f172 f172 f172 f172 f172 f172 f172 f172 f172 f172 f172 f172 f172 f172 f172 f172 f172 f172 f172 f172 f172 f172 f172 f172 f172 f172 f172 f172 f172 f172 f172 f172 f172 f172 f172 f172 f172 f172 f172 f172 f172 f172 f172 f172 f172 f172 f172 f172 f172 f172 f172 f172 f172 f172 f172 f172 f172 f172 f172 f172 f172 f172 f172 f172 f172 f172 f173 f173 f173 f173 f173 f173 f173 f173 f173 f173 f173 f173 f173 f173 f173 f173 f173 f173 f173 f173 f173 f173 f173 f173 f173 f173 f173 f173 f173 f173 f173 f173 f173 f173 f173 f173 f173 f173 f173 f173 f173 f173 f173 f173 f173 f173 f173 f173 f173 f173 f173 f173 f173 f173 f173 f173 f173 f173 f173 f173 f173 f173 f173 f173 f173 f173 f173 f173 f173 f173 f173 f173 f173 f173 f173 f173 f173 f173 f173 f173 f173 f173 f173 f173 f173 f173 f173 f173 f173 f173 f173 f173 f173 f173 f173 f173 f173 f173 f173 f173 f173 f173 f173 f173 f173 f173 f173 f174 f174 f174 f174 f174 f174 f174 f174 f174 f174 f174 f174 f174 f174 f174 f174 f174 f174 f174 f174 f174 f174 f174 f174 f174 f174 f174 f174 f174 f174 f174 f174 f174 f174 f174 f174 f174 f174 f174 f174 f174 f174 f174 f174 f174 f174 f174 f174 f174 f174 f174 f174 f174 f174 f174 f174 f174 f174 f174 f174 f174 f174 f174 f174 f174 f174 f174 f174 f174 f174 f174 f174 f174 f174 f174 f174 f174 f174 f174 f174 f174 f174 f174 f174 f174 f174 f174 f174 f174 f174 f174 f174 f174 f174 f174 f174 f174 f174 f174 f174 f174 f174 f174 f174 f174 f174 f174 f174 f174 f174 f174 f174 f174 f174 f174 f174 f174 f174 f174 f174 f174 f174 f174 f174 f174 f174 f174 f174 f174 f174 f174 f174 f174 f174 f174 f174 f174 f174 f174 f174 f174 f174 f174 f174 f174 f174 f174 f174 f174 f174 f174 f174 f174 f174 f174 f174 f174 f174 f174 f174 f174 f174 f174 f174 f174 f174 f174 f174 f174 f174 f174 f174 f174 f174 f174 f174 f174 f174 f174 f174 f174 f174 f174 f174 f174 f174 f174 f174 f174 f174 f174 f174 f174 f174 f174 f174 f174 f174 f174 f174 f174 f174 f174 f174 f174 f174 f174 f174 f174 f174 f174 f174 f174 f174 f174 f174 f174 f174 f174 f174 f174 f174 f174 f174 f174 f174 f174 f174 f174 f174 f174 f174 f174 f174 f174 f174 f174 f183 f183 f183 f183 f183 f183 f183 f183 f183 f183 f189 f189 f189 f189 f189 f189 f189 f189 f189 f189 f189 f189 f189 f189 f189 f189 f189 f189 f189 f189 f189 f189 f189 f189 f189 f189 f189 f189 f189 f189 f189 f189 f189 f189 f189 f189 f189 f189 f189 f189 f189 f189 f189 f189 f189 f189 f189 f189 f189 f189 f189 f189 f189 f189 f189 f189 f189 f189 f189 f189 f189 f189 f189 f189 f189 f189 f189 f189 f189 f189 f189 f189 f189 f189 f189 f189 f189 f189 f189 f189 f189 f189 f189 f189 f189 f189 f189 f189 f189 f189 f189 f189 f189 f189 f189 f189 f189 f189 f189 f189 f189 f189 f189 f189 f189 f189 f189 f189 f189 f189 f189 f189 f189 f189 f189 f189 f189 f189 f189 f189 f189 f189 f189 f189 f189 f189 f189 f189 f189 f189 f189 f189 f189 f189 f189 f189 f189 f189 f189 f189 f189 f189 f189 f189 f189 f189 f189 f189 f189 f189 f189 f189 f189 f189 f189 f189 f189 f189 f189 f189 f189 f189 f189 f189 f189 f189 f189 f189 f189 f189 f189 f189 f189 f189 f189 f189 f189 f189 f189 f189 f189 f189 f189 f189 f189 f189 f189 f189 f189 f189 f189 f189 f189 f189 f189 f189 f189 f189 f189 f189 f189 f189 f189 f200 f200 f200 f200 f200 f200 f200 f200 f200 f200 f200 f200 f200 f200 f200 f200 f200 f200 f200 f200 f200 f200 f200 f203 f203 f203 f203 f203 f203 f203 f203 f203 f203 f203 f203 f203 f203 f203 f203 f203 f203 f203 f203 f203 f203 f203 f203 f203 f203 f203 f203 f203 f203 f203 f203 f203 f203 f203 f203 f203 f203 f203 f203 f203 f203 f203 f203 f203 f203 f203 f203 f203 f203 f203 f203 f203 f203 f203 f203 f203 f203 f203 f203 f203 f203 f203 f203 f203 f203 f203 f203 f203 f203 f203 f203 f203 f203 f203 f203 f203 f203 f203 f203 f203 f203 f203 f203 f203 f203 f203 f203 f203 f203 f203 f203 f203 f203 f203 f205 f205 f205 f205 f205 f205 f205 f205 f205 f205 f205 f205 f205 f205 f205 f205 f205 f205 f205 f205 f205 f205 f205 f205 f205 f205 f205 f205 f205 f205 f205 f212 f212 f212 f212 f212 f212 f212 f212 f212 f212 f212 f212 f212 f212 f212 f212 f212 f212 f212 f212 f212 f212 f212 f212 f212 f212 f212 f212 f212 f212 f212 f212 f212 f212 f212 f212 f212 f212 f212 f212 f212 f212 f212 f212 f212 f212 f212 f212 f212 f212 f212 f212 f212 f212 f212 f212 f212 f212 f212 f212 f212 f212 f212 f212 f212 f212 f212 f212 f212 f212 f212 f212 f212 f212 f212 f212 f212 f212 f212 f212 f212 f212 f212 f212 f212 f212 f212 f212 f212 f212 f212 f212 f212 f212 f212 f212 f212 f212 f212 f212 f212 f212 f212 f212 f212 f212 f212 f212 f212 f212 f212 f212 f212 f212 f212 f212 f212 f212 f212 f212 f212 f212 f212 f212 f212 f212 f212 f212 f212 f212 f212 f212 f212 f212 f212 f212 f212 f212 f212 f212 f212 f212 f212 f212 f212 f212 f212 f212 f212 f212 f212 f212 f212 f212 f212 f212 f212 f212 f212 f212 f212 f212 f212 f212 f212 f212 f212 f212 f212 f212 f212 f212 f212 f212 f212 f212 f212 f212 f212 f212 f212 f212 f212 f212 f212 f212 f212 f212 f212 f212 f212 f212 f212 f212 f212 f212 f212 f212 f212 f212 f212 f212 f212 f212 f212 f212 f212 f212 f212 f212 f212 f212 f212 f212 f212 f212 f212 f212 f212 f212 f212 f212 f212 f212 f212 f212 f212 f212 f214 f214 f214 f214 f214 f214 f214 f214 f214 f214 f214 f214 f214 f214 f214 f214 f214 f214 f214 f214 f214 f214 f214 f214 f214 f214 f214 f214 f214 f214 f214 f214 f214 f214 f214 f214 f214 f214 f214 f214 f214 f214 f214 f214 f214 f214 f214 f214 f214 f214 f214 f214 f214 f214 f214 f214 f214 f214 f214 f214 f214 f214 f214 f214 f214 f214 f214 f214 f214 f214 f214 f214 f214 f214 f214 f214 f214 f214 f214 f214 f214 f214 f214 f214 f214 f214 f214 f214 f214 f214 f214 f214 f214 f214 f214 f214 f214 f214 f214 f214 f214 f214 f214 f214 f214 f214 f214 f214 f214 f214 f214 f214 f214 f214 f214 f214 f214 f214 f214 f214 f214 f214 f214 f214 f214 f214 f217 f217 f217 f217 f217 f217 f217 f217 f217 f217 f217 f217 f217 f217 f217 f217 f217 f217 f217 f217 f217 f217 f217 f217 f217 f217 f217 f217 f217 f217 f217 f217 f217 f217 f217 f217 f217 f217 f217 f217 f217 f217 f217 f217 f217 f217 f217 f217 f217 f217 f217 f217 f217 f217 f217 f217 f217 f217 f217 f217 f217 f217 f217 f217 f217 f217 f217 f217 f217 f217 f217 f217 f217 f217 f217 f217 f217 f217 f217 f217 f217 f217 f217 f217 f217 f217 f217 f217 f217 f217 f217 f217 f217 f217 f217 f217 f217 f217 f217 f217 f217 f217 f217 f217 f217 f217 f217 f217 f217 f217 f217 f217 f217 f217 f217 f217 f217 f217 f217 f217 f217 f217 f217 f217 f217 f217 f217 f217 f217 f217 f217 f220 f220 f220 f220 f220 f220 f220 f220 f220 f220 f220 f220 f220 f220 f220 f220 f220 f220 f220 f220 f220 f220 f220 f220 f220 f220 f220 f220 f220 f220 f220 f220 f220 f220 f220 f220 f220 f220 f220 f220 f220 f220 f220 f220 f220 f220 f220 f220 f220 f220 f220 f220 f220 f220 f220 f220 f220 f220 f220 f220 f220 f220 f220 f220 f220 f220 f220 f220 f220 f220 f220 f220 f220 f220 f220 f220 f220 f220 f220 f220 f220 f220 f220 f220 f220 f220 f220 f220 f220 f220 f220 f220 f220 f220 f220 f220 f220 f220 f220 f220 f220 f220 f220 f220 f220 f220 f220 f220 f220 f220 f220 f220 f220 f220 f220 f220 f220 f220 f220 f220 f220 f220 f220 f220 f220 f220 f220 f220 f220 f220 f220 f220 f220 f220 f220 f220 f220 f220 f220 f220 f220 f220 f220 f220 f220 f220 f220 f220 f220 f220 f220 f220 f220 f220 f220 f220 f220 f220 f220 f220 f220 f220 f220 f220 f220 f220 f220 f220 f220 f220 f220 f220 f220 f220 f220 f220 f220 f220 f220 f220 f220 f220 f220 f220 f220 f220 f220 f220 f220 f220 f220 f220 f220 f220 f220 f220 f220 f220 f220 f220 f225 f225 f225 f225 f225 f225 f225 f225 f225 f225 f225 f225 f225 f225 f225 f225 f225 f225 f225 f225 f225 f225 f225 f225 f225 f225 f225 f225 f225 f225 f225 f225 f225 f225 f225 f225 f225 f225 f225 f225 f225 f225 f225 f225 f225 f225 f225 f225 f225 f225 f225 f225 f225 f225 f225 f225 f225 f225 f225 f225 f225 f225 f225 f225 f225 f225 f225 f225 f225 f225 f225 f225 f225 f225 f225 f225 f225 f225 f225 f225 f225 f225 f225 f225 f225 f225 f225 f225 f225 f225 f225 f225 f225 f225 f225 f225 f225 f225 f225 f225 f225 f225 f225 f225 f225 f225 f225 f225 f225 f225 f225 f225 f225 f225 f225 f225 f225 f225 f225 f225 f225 f225 f225 f225 f225 f225 f225 f225 f225 f225 f225 f225 f225 f225 f225 f225 f225 f225 f225 f225 f225 f225 f225 f225 f225 f225 f225 f225 f225 f225 f225 f225 f225 f225 f225 f225 f225 f225 f225 f225 f225 f225 f225 f225 f225 f225 f225 f225 f225 f225 f225 f225 f225 f225 f225 f225 f225 f225 f225 f225 f225 f225 f225 f225 f225 f225 f225 f225 f225 f226 f226 f226 f226 f226 f226 f226 f231 f231 f231 f231 f231 f231 f231 f231 f231 f231 f231 f231 f231 f231 f231 f231 f231 f231 f231 f231 f231 f231 f231 f231 f231 f231 f231 f231 f231 f231 f231 f231 f231 f231 f231 f231 f231 f231 f231 f231 f231 f231 f231 f231 f231 f231 f231 f231 f231 f231 f231 f231 f231 f231 f231 f231 f231 f231 f231 f231 f231 f231 f231 f231 f231 f231 f231 f231 f231 f231 f231 f231 f231 f231 f231 f231 f231 f231 f231 f231 f231 f231 f231 f231 f231 f231 f231 f231 f231 f231 f231 f231 f231 f231 f231 f231 f231 f231 f231 f231 f231 f231 f231 f231 f231 f231 f231 f231 f231 f231 f231 f231 f231 f231 f231 f231 f231 f231 f231 f231 f231 f231 f231 f231 f231 f231 f231 f231 f231 f231 f231 f231 f231 f231 f231 f237 f237 f237 f237 f237 f237 f237 f237 f237 f237 f237 f237 f237 f237 f237 f237 f237 f237 f237 f237 f237 f237 f237 f237 f237 f237 f237 f237 f237 f237 f237 f237 f237 f237 f237 f237 f237 f237 f237 f237 f237 f237 f237 f237 f237 f237 f237 f237 f237 f237 f237 f237 f237 f237 f237 f237 f237 f237 f237 f237 f237 f237 f237 f237 f237 f237 f237 f237 f237 f237 f237 f237 f237 f237 f237 f237 f237 f237 f237 f237 f237 f237 f237 f237 f237 f237 f237 f237 f237 f237 f237 f237 f237 f237 f237 f237 f237 f237 f237 f237 f237 f237 f237 f237 f237 f237 f237 f237 f237 f237 f237 f237 f237 f237 f237 f237 f237 f237 f237 f237 f237 f237 f237 f237 f237 f237 f237 f237 f237 f237 f237 f237 f237 f237 f237 f237 f237 f237 f237 f237 f237 f237 f237 f237 f237 f237 f237 f237 f237 f237 f237 f237 f237 f237 f237 f237 f237 f237 f237 f237 f237 f237 f237 f237 f237 f237 f237 f237 f237 f237 f237 f237 f237 f237 f237 f237 f237 f237 f237 f237 f237 f237 f237 f237 f237 f237 f237 f237 f237 f237 f237 f237 f237 f237 f237 f237 f237 f237 f237 f237 f237 f237 f237 f237 f237 f237 f237 f237 f237 f237 f237 f237 f237 f242 f242 f242 f242 f242 f242 f242 f242 f242 f242 f242 f242 f242 f242 f242 f242 f242 f242 f242 f242 f242 f242 f242 f242 f242 f242 f242 f242 f242 f242 f242 f242 f242 f242 f242 f242 f242 f242 f242 f242 f242 f242 f242 f242 f242 f242 f242 f242 f242 f242 f242 f242 f242 f242 f242 f242 f242 f242 f242 f242 f242 f242 f242 f242 f242 f242 f242 f242 f242 f242 f242 f242 f242 f242 f242 f242 f242 f242 f242 f242 f242 f242 f242 f242 f242 f242 f242 f242 f242 f242 f242 f242 f242 f242 f242 f242 f242 f242 f242 f242 f242 f242 f242 f242 f242 f242 f242 f242 f242 f242 f242 f242 f242 f242 f242 f242 f242 f242 f242 f242 f242 f242 f251 f251 f251 f251 f251 f251 f251 f251 f251 f251 f251 f251 f251 f251 f251 f251 f251 f251 f251 f251 f251 f251 f251 f251 f251 f251 f251 f251 f251 f251 f251 f251 f251 f251 f251 f251 f251 f251 f251 f251 f251 f251 f251 f251 f251 f251 f251 f251 f251 f251 f251 f251 f251 f251 f251 f251 f251 f251 f251 f251 f251 f251 f251 f251 f251 f251 f251 f251 f251 f251 f251 f251 f251 f251 f251 f251 f251 f251 f251 f251 f251 f251 f251 f251 f251 f251 f251 f251 f251 f251 f251 f251 f251 f251 f251 f251 f251 f251 f251 f251 f251 f251 f251 f251 f251 f251 f251 f251 f251 f251 f251 f251 f251 f251 f251 f251 f251 f251 f251 f251 f251 f251 f251 f251 f251 f251 f251 f251 f251 f251 f251 f251 f251 f251 f251 f251 f251 f251 f251 f251 f251 f251 f251 f251 f251 f251 f251 f251 f251 f251 f251 f251 f251 f251 f251 f251 f251 f251 f251 f251 f251 f251 f251 f251 f251 f251 f251 f251 f251 f251 f251 f251 f251 f251 f251 f251 f251 f251 f251 f251 f251 f251 f251 f251 f251 f251 f251 f251 f251 f251 f251 f251 f251 f251 f251 f251 f251 f251 f251 f251 f251 f251 f251 f251 f251 f251 f251 f251 f251 f251 f251 f251 f251 f251 f251 f251 f251 f251 f251 f251 f251 f251 f251 f251 f251 f251 f251 f251 f251 f251 f251 f251 f251 f251 f251 f251 f251 f251 f251 f251 f251 f251 f251 f252 f252 f252 f252 f252 f252 f252 f252 f252 f252 f252 f252 f252 f252 f252 f252 f252 f252 f252 f252 f252 f252 f252 f252 f252 f252 f252 f252 f252 f252 f252 f252 f252 f252 f252 f252 f252 f252 f252 f252 f252 f252 f252 f252 f252 f252 f252 f252 f252 f252 f252 f252 f252 f252 f252 f252 f252 f252 f252 f252 f252 f252 f252 f252 f252 f252 f252 f252 f252 f252 f252 f252 f252 f252 f252 f252 f252 f252 f252 f252 f252 f252 f252 f252 f252 f252 f252 f252 f252 f252 f252 f252 f252 f252 f252 f252 f252 f252 f252 f252 f252 f252 f252 f252 f252 f252 f252 f252 f252 f252 f252 f252 f252 f252 f252 f252 f252 f252 f252 f252 f252 f252 f252 f252 f252 f252 f252 f252 f252 f252 f252 f252 f252 f252 f252 f252 f252 f252 f252 f252 f252 f252 f252 f252 f252 f252 f252 f252 f252 f252 f252 f252 f252 f252 f252 f252 f252 f252 f252 f252 f252 f252 f252 f252 f252 f252 f252 f252 f252 f252 f252 f252 f252 f252 f252 f252 f252 f252 f252 f252 f252 f252 f252 f252 f252 f252 f252 f252 f252 f252 f252 f252 f252 f252 f252 f252 f252 f252 f252 f252 f252 f252 f252 f252 f252 f252 f252 f252 f252 f252 f252 f252 f252 f252 f252 f252 f252 f252 f252 f252 f252 f252 f252 f258 f258 f258 f258 f258 f258 f258 f258 f258 f258 f258 f258 f258 f258 f258 f258 f258 f258 f258 f258 f258 f258 f258 f258 f258 f258 f258 f258 f258 f258 f258 f258 f258 f258 f258 f258 f258 f258 f258 f258 f258 f258 f258 f258 f258 f258 f258 f258 f258 f258 f258 f258 f258 f258 f258 f258 f258 f258 f258 f258 f258 f258 f258 f258 f258 f258 f258 f258 f258 f258 f258 f258 f258 f258 f258 f258 f258 f258 f258 f258 f258 f258 f258 f258 f258 f258 f258 f258 f258 f258 f258 f258 f258 f258 f258 f258 f258 f258 f258 f258 f258 f258 f258 f258 f258 f258 f258 f258 f258 f258 f258 f258 f258 f258 f258 f258 f258 f258 f258 f258 f258 f258 f258 f258 f258 f258 f258 f258 f258 f258 f258 f258 f258 f258 f258 f258 f258 f258 f258 f258 f258 f258 f258 f258 f258 f258 f258 f258 f258 f258 f258 f258 f258 f258 f258 f258 f258 f258 f258 f258 f258 f258 f258 f258 f258 f258 f258 f258 f258 f258 f258 f258 f258 f258 f258 f258 f258 f258 f258 f258 f258 f258 f258 f258 f258 f258 f258 f258 f258 f258 f258 f258 f258 f258 f258 f258 f258 f258 f258 f258 f258 f258 f258 f258 f258 f258 f258 f258 f258 f258 f258 f258 f258 f258 f258 f258 f258 f258 f258 f258 f258 f258 f258 f258 f258 f258 f258 f258 f258 f258 f258 f258 f258 f258 f258 f258 f258 f258 f258 f258 f258 f258 f258 f258 f258 f258 f264 f264 f264 f264 f264 f264 f264 f264 f264 f264 f264 f264 f264 f264 f264 f264 f264 f264 f264 f264 f264 f264 f264 f264 f264 f264 f264 f264 f264 f264 f264 f264 f264 f264 f264 f264 f264 f266 f266 f266 f266 f266 f266 f266 f266 f266 f266 f266 f266 f266 f266 f266 f266 f266 f266 f266 f266 f266 f266 f266 f266 f266 f266 f266 f266 f266 f266 f266 f266 f266 f267 f267 f267 f267 f267 f267 f267 f267 f267 f267 f267 f267 f267 f267 f267 f267 f267 f267 f267 f267 f267 f267 f267 f267 f267 f267 f267 f267 f267 f267 f267 f267 f267 f267 f267 f267 f267 f267 f267 f267 f267 f267 f267 f267 f267 f267 f267 f267 f267 f267 f267 f267 f267 f267 f267 f267 f267 f267 f267 f267 f267 f267 f267 f267 f267 f267 f267 f267 f267 f267 f267 f267 f267 f267 f267 f267 f267 f267 f267 f267 f267 f267 f267 f267 f267 f267 f267 f267 f267 f267 f267 f267 f267 f267 f267 f267 f267 f267 f267 f267 f267 f267 f267 f267 f267 f267 f267 f267 f267 f267 f267 f267 f267 f267 f267 f267 f267 f267 f267 f267 f267 f267 f267 f267 f267 f267 f267 f267 f267 f267 f267 f267 f267 f267 f267 f267 f267 f267 f267 f267 f267 f267 f267 f267 f267 f267 f267 f267 f267 f267 f267 f267 f267 f267 f267 f267 f267 f267 f267 f267 f267 f267 f267 f267 f267 f267 f267 f267 f267 f267 f267 f267 f267 f267 f267 f267 f267 f267 f267 f267 f267 f267 f267 f267 f267 f267 f267 f267 f267 f267 f267 f267 f267 f267 f267 f267 f267 f267 f267 f267 f267 f267 f267 f267 f267 f267 f267 f267 f267 f267 f267 f267 f267 f267 f267 f267 f267 f267 f267 f267 f267 f267 f267 f267 f267 f267 f267 f267 f267 f267 f267 f272 f272 f272 f272 f272 f272 f272 f272 f272 f272 f272 f272 f272 f272 f272 f272 f272 f272 f272 f272 f272 f272 f272 f272 f272 f272 f272 f272 f272 f272 f272 f272 f272 f272 f272 f272 f272 f272 f272 f272 f272 f272 f272 f272 f272 f272 f272 f272 f272 f272 f272 f272 f272 f272 f272 f272 f272 f272 f272 f272 f272 f272 f272 f272 f272 f272 f272 f272 f272 f272 f272 f272 f272 f272 f272 f272 f272 f272 f272 f272 f272 f272 f272 f272 f272 f272 f272 f272 f272 f272 f272 f272 f272 f272 f272 f272 f272 f272 f272 f272 f272 f272 f272 f272 f272 f272 f272 f272 f272 f272 f272 f272 f272 f272 f272 f272 f272 f272 f272 f272 f272 f272 f272 f272 f272 f272 f272 f272 f272 f272 f272 f272 f272 f272 f272 f272 f272 f272 f272 f272 f272 f272 f272 f272 f272 f272 f272 f272 f272 f272 f272 f272 f272 f272 f272 f272 f272 f272 f272 f272 f272 f272 f272 f272 f272 f272 f272 f272 f272 f272 f272 f272 f272 f272 f272 f272 f272 f272 f272 f272 f272 f272 f272 f272 f272 f272 f272 f272 f272 f272 f272 f272 f272 f272 f272 f272 f302 f302 f302 f302 f302 f302 f302 f302 f302 f302 f302 f302 f302 f302 f302 f302 f302 f302 f302 f302 f302 f302 f302 f302 f302 f302 f302 f302 f302 f302 f302 f302 f302 f302 f302 f302 f302 f302 f302 f302 f302 f302 f302 f302 f302 f302 f302 f302 f302 f302 f302 f302 f302 f302 f302 f302 f302 f302 f302 f302 f302 f302 f302 f302 f302 f302 f302 f302 f302 f302 f302 f302 f302 f302 f302 f302 f302 f302 f302 f302 f302 f302 f302 f302 f302 f302 f302 f302 f302 f302 f302 f302 f302 f302 f302 f302 f302 f302 f302 f302 f302 f302 f302 f302 f302 f302 f302 f302 f302 f302 f302 f302 f302 f302 f302 f302 f302 f302 f302 f302 f302 f302 f302 f302 f302 f302 f302 f302 f302 f302 f302 f302 f302 f302 f302 f302 f302 f302 f302 f302 f302 f302 f302 f302 f302 f302 f304 f304 f304 f304 f304 f304 f304 f304 f304 f304 f304 f304 f304 f304 f304 f304 f304 f304 f304 f304 f304 f304 f304 f304 f304 f304 f304 f304 f304 f304 f304 f304 f304 f304 f304 f304 f304 f304 f304 f304 f304 f304 f304 f304 f304 f304 f304 f304 f304 f304 f304 f304 f304 f304 f304 f304 f304 f304 f304 f304 f304 f304 f304 f304 f304 f304 f304 f304 f304 f306 f306 f306 f306 f306 f306 f306 f306 f306 f306 f306 f306 f306 f306 f306 f306 f306 f306 f306 f306 f306 f306 f306 f306 f306 f306 f306 f306 f306 f306 f306 f306 f306 f306 f306 f306 f306 f306 f306 f306 f306 f306 f306 f306 f306 f306 f306 f306 f306 f306 f306 f306 f306 f306 f306 f306 f306 f306 f306 f306 f306 f306 f306 f306 f306 f306 f306 f306 f306 f306 f306 f306 f306 f306 f306 f306 f306 f306 f306 f306 f306 f306 f306 f306 f306 f306 f306 f306 f306 f306 f306 f306 f306 f306 f306 f306 f306 f306 f306 f306 f306 f306 f306 f306 f306 f306 f306 f306 f306 f306 f306 f306 f306 f306 f306 f306 f306 f306 f306 f306 f306 f306 f306 f306 f306 f306 f306 f306 f306 f306 f306 f306 f306 f306 f306 f306 f306 f306 f306 f306 f306 f306 f306 f306 f306 f306 f306 f306 f306 f306 f306 f306 f306 f306 f306 f307 f307 f307 f307 f307 f307 f307 f307 f307 f307 f307 f307 f307 f307 f307 f307 f307 f307 f307 f307 f307 f311 f311 f311 f311 f311 f311 f311 f311 f311 f311 f311 f311 f311 f311 f311 f311 f311 f311 f311 f311 f311 f311 f311 f311 f311 f311 f311 f311 f311 f311 f311 f311 f311 f311 f311 f311 f311 f311 f311 f311 f311 f311 f311 f311 f311 f311 f311 f311 f311 f311 f311 f311 f311 f311 f311 f313 f313 f313 f313 f313 f313 f313 f313 f313 f313 f313 f313 f313 f313 f313 f313 f313 f313 f313 f313 f313 f313 f313 f313 f313 f313 f313 f313 f313 f313 f313 f313 f313 f313 f313 f313 f313 f313 f313 f313 f313 f313 f313 f313 f313 f313 f313 f313 f313 f313 f313 f313 f313 f313 f313 f313 f313 f313 f313 f313 f313 f313 f313 f313 f313 f313 f314 f314 f314 f314 f314 f314 f314 f314 f314 f314 f314 f314 f314 f314 f314 f314 f314 f314 f314 f314 f314 f314 f314 f314 f314 f314 f314 f314 f314 f314 f314 f314 f314 f314 f314 f314 f314 f314 f314 f314 f314 f314 f314 f314 f314 f314 f314 f314 f314 f314 f314 f314 f314 f314 f314 f314 f314 f314 f314 f314 f314 f314 f314 f314 f314 f314 f314 f314 f314 f314 f314 f314 f314 f314 f314 f314 f314 f314 f314 f314 f314 f314 f314 f314 f314 f314 f314 f314 f314 f314 f314 f314 f314 f314 f314 f314 f314 f314 f314 f314 f314 f314 f314 f314 f314 f314 f314 f314 f314 f314 f314 f314 f314 f314 f314 f314 f314 f314 f314 f314 f314 f314 f314 f314 f314 f314 f314 f314 f314 f314 f314 f314 f314 f314 f314 f314 f314 f314 f314 f314 f314 f314 f314 f314 f314 f314 f314 f314 f314 f314 f314 f314 f314 f314 f318 f318 f318 f318 f318 f318 f318 f318 f318 f318 f318 f318 f318 f318 f318 f318 f318 f318 f318 f318 f318 f318 f318 f318 f318 f318 f318 f318 f318 f318 f318 f318 f318 f318 f318 f318 f318 f318 f318 f318 f318 f318 f318 f318 f318 f318 f318 f318 f318 f318 f318 f318 f318 f318 f318 f318 f318 f318 f318 f318 f318 f318 f318 f318 f318 f318 f318 f318 f318 f318 f318 f318 f318 f318 f318 f318 f318 f318 f318 f318 f318 f318 f318 f318 f318 f318 f318 f318 f318 f318 f318 f318 f318 f318 f318 f318 f318 f318 f318 f318 f318 f318 f318 f318 f318 f318 f318 f318 f318 f318 f318 f318 f318 f318 f318 f318 f318 f318 f318 f318 f318 f318 f318 f318 f318 f318 f318 f318 f318 f318 f318 f318 f318 f318 f318 f318 f318 f318 f318 f318 f318 f318 f318 f318 f318 f318 f318 f318 f318 f318 f318 f318 f318 f318 f318 f318 f318 f318 f318 f318 f318 f318 f318 f318 f318 f318 f318 f318 f318 f318 f318 f318 f318 f318 f318 f318 f318 f318 f318 f318 f318 f318 f318 f318 f318 f318 f318 f318 f318 f318 f318 f318 f318 f318 f318 f318 f318 f318 f318 f318 f318 f318 f318 f318 f318 f318 f318 f318 f318 f318 f318 f318 f318 f318 f318 f318 f318 f318 f318 f318 f318 f318 f318 f318 f318 f318 f318 f318 f318 f318 f318 f318 f318 f318 f318 f318 f318 f318 f318 f318 f318 f318 f318 f318 f318 f318 f318 f318 f324 f324 f324 f324 f324 f324 f324 f324 f324 f324 f324 f324 f324 f324 f324 f324 f324 f324 f324 f324 f324 f324 f324 f324 f324 f324 f324 f324 f324 f324 f324 f324 f324 f324 f324 f324 f324 f324 f324 f324 f324 f324 f324 f324 f324 f324 f324 f324 f324 f324 f324 f324 f324 f324 f324 f324 f324 f324 f324 f324 f324 f324 f324 f324 f324 f324 f324 f324 f324 f324 f324 f324 f324 f324 f324 f324 f324 f324 f324 f324 f324 f324 f324 f324 f324 f324 f324 f324 f324 f324 f324 f324 f324 f324 f324 f324 f324 f324 f324 f324 f324 f324 f324 f324 f324 f324 f324 f324 f324 f324 f324 f324 f324 f324 f324 f324 f324 f324 f324 f324 f324 f324 f324 f324 f324 f324 f324 f324 f324 f324 f324 f324 f324 f324 f324 f324 f324 f324 f324 f324 f324 f324 f324 f324 f324 f324 f324 f324 f324 f324 f324 f324 f324 f324 f324 f324 f324 f324 f324 f324 f324 f324 f324 f324 f324 f324 f324 f324 f324 f324 f324 f324 f324 f324 f324 f324 f324 f324 f324 f324 f324 f324 f324 f324 f324 f324 f328 f328 f328 f328 f328 f328 f328 f328 f328 f328 f328 f328 f328 f328 f328 f328 f328 f328 f328 f328 f328 f328 f328 f328 f328 f328 f328 f328 f328 f328 f328 f328 f328 f328 f328 f328 f328 f328 f328 f328 f328 f328 f328 f328 f328 f328 f328 f328 f328 f328 f328 f328 f328 f328 f328 f328 f328 f328 f328 f328 f328 f328 f328 f328 f328 f328 f328 f328 f328 f328 f328 f328 f328 f328 f328 f328 f328 f328 f328 f328 f328 f328 f328 f328 f328 f328 f328 f328 f328 f328 f328 f328 f328 f328 f333 f333 f333 f333 f333 f333 f333 f333 f333 f333 f333 f333 f333 f333 f333 f333 f334 f334 f334 f334 f334 f334 f334 f334 f334 f334 f334 f334 f334 f334 f334 f334 f334 f334 f334 f334 f334 f334 f334 f334 f334 f334 f334 f334 f334 f334 f334 f334 f334 f334 f334 f334 f334 f334 f334 f334 f334 f334 f334 f334 f334 f334 f334 f334 f334 f334 f334 f334 f334 f334 f334 f334 f334 f334 f334 f334 f334 f334 f334 f334 f334 f334 f334 f334 f334 f334 f334 f334 f334 f334 f334 f334 f334 f334 f334 f334 f334 f334 f334 f334 f334 f334 f334 f334 f334 f334 f334 f334 f334 f334 f334 f334 f334 f334 f334 f334 f334 f334 f334 f334 f334 f334 f334 f334 f334 f334 f334 f334 f334 f334 f334 f334 f334 f334 f334 f334 f334 f334 f334 f334 f334 f334 f334 f334 f334 f334 f334 f334 f334 f334 f334 f334 f334 f334 f334 f334 f334 f334 f334 f334 f334 f334 f334 f334 f334 f334 f334 f334 f334 f334 f334 f334 f334 f334 f334 f334 f334 f334 f334 f334 f334 f334 f334 f334 f334 f334 f334 f334 f334 f334 f334 f334 f334 f334 f334 f334 f334 f334 f334 f334 f334 f334 f334 f334 f334 f334 f334 f334 f334 f334 f334 f334 f334 f334 f334 f334 f334 f334 f334 f334 f334 f334 f334 f334 f334 f334 f334 f334 f334 f334 f334 f334 f334 f334 f334 f334 f334 f334 f334 f334 f334 f334 f334 f341 f341 f341 f341 f341 f341 f341 f341 f341 f341 f341 f341 f341 f341 f341 f341 f341 f341 f341 f341 f341 f341 f341 f341 f341 f341 f341 f341 f341 f341 f341 f341 f341 f341 f341 f341 f341 f341 f341 f341 f341 f341 f341 f341 f341 f341 f341 f341 f341 f341 f341 f341 f341 f341 f341 f341 f341 f341 f341 f341 f341 f341 f341 f341 f341 f341 f341 f341 f341 f341 f341 f341 f341 f341 f341 f341 f341 f341 f341 f341 f341 f341 f341 f341 f341 f341 f341 f341 f341 f341 f341 f341 f341 f341 f341 f341 f341 f341 f341 f341 f341 f341 f341 f341 f341 f341 f341 f341 f341 f341 f341 f341 f341 f341 f341 f341 f341 f341 f341 f341 f341 f341 f341 f341 f341 f341 f341 f341 f341 f341 f341 f341 f341 f341 f341 f341 f341 f341 f341 f341 f341 f341 f341 f341 f341 f341 f341 f341 f341 f341 f341 f341 f341 f341 f341 f341 f341 f341 f341 f341 f341 f341 f341 f341 f341 f341 f341 f341 f341 f341 f341 f341 f341 f341 f341 f341 f341 f341 f345 f345 f345 f345 f345 f345 f345 f345 f345 f345 f345 f345 f345 f345 f345 f345 f345 f345 f345 f345 f345 f345 f345 f345 f345 f345 f345 f345 f345 f345 f345 f345 f345 f345 f345 f345 f345 f345 f345 f345 f345 f345 f345 f345 f345 f345 f345 f345 f345 f345 f345 f345 f345 f345 f345 f345 f345 f345 f345 f345 f345 f345 f345 f345 f345 f345 f345 f345 f345 f345 f345 f345 f345 f345 f345 f345 f345 f345 f345 f345 f345 f345 f345 f345 f345 f345 f345 f345 f345 f345 f345 f345 f345 f345 f345 f345 f345 f345 f345 f345 f345 f345 f345 f345 f345 f345 f345 f345 f345 f345 f345 f345 f345 f345 f345 f345 f345 f345 f345 f345 f345 f345 f345 f345 f345 f345 f345 f345 f345 f345 f345 f345 f345 f345 f345 f345 f345 f345 f345 f345 f345 f345 f345 f345 f345 f345 f345 f345 f345 f345 f345 f345 f345 f345 f345 f345 f345 f345 f345 f345 f345 f345 f345 f345 f345 f345 f345 f345 f345 f345 f345 f345 f345 f345 f345 f345 f345 f345 f345 f345 f345 f345 f345 f345 f345 f345 f345 f345 f345 f345 f345 f345 f345 f345 f345 f345 f345 f345 f345 f345 f345 f345 f345 f345 f345 f345 f345 f345 f345 f345 f345 f345 f345 f345 f345 f345 f345 f345 f345 f345 f345 f345 f345 f345 f345 f345 f345 f345 f345 f345 f345 f345 f345 f345 f345 f345 f345 f345 f345 f345 f345 f345 f345 f345 f345 f345 f345 f345 f345 f345 f346 f346 f346 f346 f346 f346 f346 f346 f346 f346 f346 f346 f346 f346 f346 f346 f346 f346 f346 f346 f346 f346 f346 f346 f346 f346 f346 f346 f346 f346 f346 f346 f346 f346 f346 f346 f346 f346 f346 f346 f346 f346 f346 f346 f346 f346 f346 f346 f346 f346 f346 f346 f346 f346 f346 f346 f346 f346 f346 f346 f346 f346 f346 f346 f346 f346 f346 f346 f346 f346 f346 f346 f346 f346 f346 f346 f346 f346 f346 f346 f346 f346 f346 f346 f346 f346 f346 f346 f346 f346 f346 f346 f346 f346 f346 f346 f346 f346 f346 f346 f346 f346 f346 f346 f346 f346 f346 f346 f346 f346 f346 f346 f346 f346 f346 f346 f346 f348 f348 f348 f348 f348 f348 f348 f348 f348 f348 f348 f348 f348 f348 f348 f348 f348 f348 f348 f348 f348 f348 f348 f348 f348 f348 f348 f348 f348 f348 f348 f348 f348 f348 f348 f348 f348 f348 f348 f348 f348 f348 f348 f348 f348 f348 f348 f348 f348 f348 f348 f348 f348 f348 f348 f348 f348 f348 f348 f348 f348 f348 f348 f348 f348 f348 f348 f348 f348 f348 f348 f348 f348 f348 f348 f348 f348 f348 f348 f348 f348 f348 f348 f348 f348 f348 f348 f348 f348 f348 f348 f348 f348 f348 f348 f348 f348 f348 f348 f348 f348 f348 f348 f348 f348 f348 f348 f348 f348 f348 f348 f348 f348 f348 f348 f348 f348 f348 f348 f349 f349 f349 f349 f349 f349 f349 f349 f349 f349 f349 f349 f349 f349 f349 f349 f349 f349 f349 f349 f349 f349 f349 f349 f349 f349 f349 f349 f349 f349 f349 f349 f349 f349 f349 f349 f349 f349 f349 f349 f349 f349 f349 f349 f349 f349 f349 f349 f349 f349 f349 f349 f349 f349 f349 f349 f349 f349 f349 f349 f349 f349 f349 f349 f349 f349 f349 f349 f349 f349 f349 f349 f349 f349 f349 f349 f349 f349 f349 f349 f349 f349 f349 f349 f349 f349 f349 f349 f349 f349 f352 f352 f352 f352 f352 f352 f352 f352 f352 f352 f352 f352 f352 f352 f352 f352 f352 f352 f352 f352 f352 f352 f352 f352 f352 f352 f352 f352 f352 f352 f352 f352 f352 f352 f352 f352 f352 f352 f352 f352 f352 f352 f352 f352 f352 f352 f352 f352 f352 f352 f352 f352 f352 f352 f352 f352 f352 f352 f352 f352 f352 f352 f352 f352 f352 f352 f352 f352 f352 f352 f352 f355 f355 f355 f355 f355 f355 f355 f355 f355 f355 f355 f355 f355 f355 f355 f355 f355 f355 f355 f355 f355 f355 f355 f355 f355 f355 f355 f355 f355 f355 f355 f355 f355 f355 f355 f355 f355 f355 f355 f355 f355 f355 f355 f355 f355 f355 f355 f355 f355 f355 f355 f355 f355 f355 f355 f355 f355 f355 f355 f355 f355 f355 f355 f355 f355 f355 f355 f355 f355 f355 f355 f355 f355 f355 f355 f355 f355 f355 f355 f355 f355 f355 f355 f355 f355 f356 f356 f356 f356 f356 f356 f356 f356 f356 f356 f356 f356 f356 f356 f356 f356 f356 f356 f356 f356 f356 f356 f363 f363 f363 f363 f363 f363 f363 f363 f363 f363 f363 f363 f363 f363 f363 f363 f363 f363 f363 f363 f363 f363 f363 f363 f363 f363 f363 f363 f363 f363 f363 f363 f363 f363 f363 f363 f363 f363 f363 f363 f363 f363 f363 f363 f363 f363 f363 f363 f363 f363 f363 f363 f363 f363 f363 f363 f363 f363 f363 f363 f363 f363 f363 f363 f363 f363 f363 f363 f363 f363 f363 f363 f363 f363 f363 f363 f363 f363 f363 f363 f363 f363 f363 f363 f363 f363 f363 f363 f363 f363 f363 f363 f363 f363 f363 f363 f363 f363 f363 f363 f363 f363 f363 f363 f363 f363 f363 f363 f363 f363 f363 f363 f363 f363 f363 f363 f363 f363 f363 f363 f363 f363 f363 f363 f363 f363 f363 f363 f363 f363 f363 f363 f363 f363 f363 f363 f363 f363 f363 f363 f363 f363 f363 f363 f363 f363 f363 f363 f363 f363 f363 f363 f363 f363 f363 f363 f363 f363 f363 f363 f363 f363 f363 f363 f363 f363 f363 f363 f363 f363 f363 f363 f363 f363 f363 f363 f363 f363 f363 f363 f363 f363 f363 f363 f363 f363 f363 f363 f363 f363 f363 f363 f363 f363 f363 f363 f363 f363 f363 f363 f363 f363 f363 f363 f363 f363 f363 f363 f363 f363 f363 f363 f363 f363 f363 f363 f363 f363 f363 f363 f363 f363 f363 f363 f363 f363 f363 f363 f363 f363 f363 f363 f363 f363 f363 f366 f366 f366 f366 f366 f366 f366 f366 f366 f366 f366 f366 f366 f366 f366 f366 f366 f366 f366 f366 f366 f366 f366 f366 f366 f366 f366 f366 f366 f366 f366 f366 f366 f366 f366 f366 f366 f366 f366 f366 f366 f366 f366 f366 f366 f366 f366 f366 f366 f366 f366 f366 f366 f366 f366 f366 f366 f366 f366 f366 f366 f366 f366 f366 f366 f366 f366 f366 f366 f366 f366 f366 f366 f366 f366 f366 f366 f366 f366 f366 f366 f366 f366 f366 f366 f366 f366 f366 f366 f366 f366 f366 f366 f366 f366 f366 f366 f366 f366 f366 f366 f366 f366 f366 f366 f366 f366 f366 f366 f366 f366 f366 f366 f366 f366 f366 f366 f366 f366 f366 f366 f366 f366 f366 f366 f368 f368 f368 f368 f368 f368 f368 f368 f368 f368 f368 f368 f368 f368 f368 f368 f368 f368 f368 f368 f368 f368 f368 f368 f368 f368 f368 f368 f368 f368 f368 f368 f368 f368 f368 f368 f368 f368 f368 f368 f368 f368 f368 f368 f368 f368 f368 f368 f368 f368 f368 f368 f369 f369 f369 f369 f369 f369 f369 f369 f369 f369 f369 f369 f369 f369 f369 f369 f369 f369 f369 f369 f369 f369 f369 f369 f369 f369 f369 f369 f369 f369 f369 f369 f369 f369 f369 f369 f369 f369 f369 f369 f369 f369 f369 f369 f369 f369 f369 f369 f369 f369 f369 f369 f369 f369 f369 f369 f369 f369 f369 f369 f369 f369 f369 f369 f369 f369 f369 f369 f370 f370 f370 f370 f370 f370 f370 f370 f370 f370 f370 f370 f370 f370 f370 f370 f370 f370 f370 f370 f370 f370 f370 f370 f370 f370 f370 f370 f370 f370 f370 f370 f370 f370 f370 f370 f370 f370 f370 f370 f370 f370 f370 f370 f370 f370 f370 f370 f370 f370 f370 f370 f370 f370 f370 f370 f370 f370 f370 f370 f370 f370 f370 f370 f370 f370 f370 f370 f370 f370 f371 f371 f371 f371 f371 f371 f371 f371 f371 f371 f371 f371 f371 f371 f371 f371 f371 f371 f371 f371 f371 f371 f371 f371 f371 f371 f371 f371 f371 f371 f371 f371 f371 f371 f371 f371 f371 f371 f371 f371 f371 f371 f371 f371 f371 f371 f371 f371 f371 f371 f371 f371 f371 f371 f371 f371 f371 f371 f371 f371 f371 f371 f371 f371 f371 f371 f371 f371 f371 f371 f371 f371 f371 f371 f371 f371 f371 f371 f371 f371 f371 f371 f371 f371 f371 f371 f371 f371 f371 f371 f371 f371 f371 f371 f371 f371 f371 f371 f371 f371 f371 f371 f371 f371 f371 f371 f371 f371 f371 f371 f371 f371 f371 f371 f371 f371 f371 f371 f371 f371 f371 f371 f371 f371 f371 f371 f371 f371 f371 f371 f371 f371 f371 f371 f371 f371 f371 f371 f371 f371 f371 f371 f371 f371 f371 f371 f371 f371 f371 f371 f371 f371 f371 f371 f371 f371 f371 f371 f371 f371 f371 f371 f371 f371 f371 f371 f371 f373 f373 f373 f373 f373 f373 f373 f373 f373 f373 f373 f373 f373 f373 f373 f373 f373 f373 f373 f373 f373 f373 f373 f373 f373 f373 f373 f373 f373 f373 f373 f373 f373 f373 f373 f373 f373 f373 f373 f373 f373 f373 f373 f373 f373 f373 f373 f373 f373 f373 f373 f373 f373 f373 f373 f373 f373 f373 f373 f373 f373 f373 f373 f373 f373 f373 f373 f373 f373 f373 f373 f373 f373 f373 f373 f373 f373 f373 f373 f373 f373 f373 f373 f373 f373 f373 f373 f373 f373 f373 f373 f373 f373 f373 f373 f373 f373 f373 f373 f373 f373 f373 f373 f373 f373 f373 f373 f373 f373 f373 f373 f373 f373 f373 f373 f373 f373 f373 f373 f373 f373 f373 f373 f373 f373 f373 f373 f373 f373 f373 f373 f373 f373 f373 f373 f373 f373 f373 f373 f373 f373 f373 f373 f373 f373 f373 f373 f373 f373 f373 f373 f373 f373 f373 f373 f373 f373 f373 f373 f373 f373 f373 f373 f373 f373 f373 f373 f373 f373 f373 f373 f373 f373 f373 f373 f373 f373 f373 f373 f373 f373 f373 f373 f373 f373 f373 f373 f373 f373 f373 f373 f373 f373 f373 f373 f373 f373 f373 f373 f373 f373 f373 f373 f373 f373 f373 f373 f373 f373 f373 f374 f374 f374 f374 f374 f374 f374 f374 f374 f374 f374 f374 f374 f374 f374 f374 f374 f374 f374 f374 f374 f374 f374 f374 f374 f374 f374 f374 f374 f374 f374 f374 f374 f374 f374 f374 f374 f374 f374 f374 f374 f374 f374 f374 f374 f374 f374 f374 f374 f374 f374 f374 f374 f374 f374 f374 f374 f374 f374 f374 f374 f374 f374 f377 f377 f377 f377 f377 f377 f377 f377 f377 f377 f377 f377 f377 f377 f377 f377 f377 f377 f377 f377 f377 f377 f377 f377 f377 f377 f377 f377 f377 f382 f382 f382 f382 f382 f382 f382 f382 f382 f382 f382 f382 f382 f382 f382 f382 f382 f382 f382 f382 f382 f382 f382 f382 f382 f382 f382 f382 f382 f382 f382 f382 f382 f382 f382 f382 f382 f382 f382 f382 f382 f382 f382 f382 f382 f382 f382 f382 f382 f382 f382 f382 f382 f382 f382 f382 f382 f382 f382 f382 f382 f387 f387 f387 f387 f387 f387 f387 f387 f387 f387 f387 f387 f387 f387 f387 f387 f387 f387 f387 f387 f387 f387 f387 f387 f387 f387 f387 f387 f387 f387 f387 f387 f387 f387 f387 f387 f387 f387 f387 f387 f387 f387 f387 f387 f387 f387 f387 f387 f387 f387 f387 f387 f387 f387 f387 f387 f387 f387 f387 f387 f387 f387 f387 f387 f387 f387 f387 f387 f387 f387 f387 f387 f387 f387 f387 f387 f387 f387 f387 f387 f387 f387 f387 f387 f387 f387 f387 f387 f387 f387 f387 f387 f387 f387 f387 f387 f387 f387 f387 f387 f387 f387 f387 f387 f387 f387 f387 f387 f387 f387 f387 f387 f387 f387 f387 f387 f387 f387 f387 f387 f387 f387 f387 f387 f387 f387 f387 f387 f387 f387 f387 f387 f387 f387 f387 f387 f387 f387 f387 f387 f387 f387 f387 f387 f387 f387 f387 f387 f387 f387 f387 f387 f387 f387 f387 f387 f387 f387 f387 f387 f387 f387 f387 f387 f387 f387 f387 f387 f387 f387 f387 f387 f387 f387 f387 f387 f387 f387 f387 f387 f387 f387 f387 f387 f387 f387 f387 f387 f387 f387 f387 f387 f388 f388 f388 f388 f388 f388 f388 f388 f388 f388 f388 f388 f388 f388 f388 f388 f388 f388 f388 f388 f388 f388 f388 f388 f388 f388 f388 f388 f388 f388 f388 f388 f388 f388 f388 f388 f388 f388 f388 f388 f388 f388 f388 f388 f388 f388 f388 f388 f388 f388 f388 f388 f388 f388 f388 f388 f388 f388 f388 f388 f388 f388 f388 f388 f388 f388 f388 f388 f388 f388 f388 f388 f388 f388 f388 f388 f388 f391 f391 f391 f391 f391 f391 f391 f391 f391 f391 f391 f391 f391 f391 f391 f391 f391 f391 f391 f391 f391 f391 f391 f391 f391 f391 f391 f391 f391 f391 f391 f391 f391 f391 f391 f391 f391 f391 f391 f391 f391 f391 f391 f391 f391 f391 f391 f391 f391 f391 f391 f391 f391 f391 f391 f391 f391 f391 f391 f391 f391 f391 f391 f391 f391 f391 f391 f391 f391 f391 f391 f391 f391 f391 f391 f391 f391 f391 f391 f391 f391 f391 f391 f391 f391 f391 f391 f391 f391 f391 f391 f391 f391 f391 f391 f391 f391 f391 f391 f391 f391 f391 f391 f391 f391 f391 f391 f391 f391 f391 f391 f391 f391 f391 f391 f391 f391 f391 f391 f391 f391 f391 f391 f391 f391 f391 f391 f391 f391 f391 f391 f391 f391 f391 f391 f391 f391 f391 f391 f391 f391 f391 f391 f391 f391 f391 f391 f391 f391 f391 f391 f391 f391 f391 f391 f391 f391 f391 f391 f391 f391 f391 f391 f391 f391 f391 f391 f391 f391 f391 f391 f391 f391 f391 f391 f391 f391 f391 f391 f391 f391 f391 f391 f391 f391 f391 f391 f391 f391 f391 f391 f392 f392 f392 f392 f392 f392 f392 f392 f392 f392 f392 f392 f392 f392 f392 f392 f392 f392 f392 f392 f392 f392 f392 f392 f392 f392 f392 f392 f392 f392 f392 f392 f392 f392 f392 f392 f392 f392 f392 f392 f392 f392 f392 f394 f394 f394 f394 f394 f394 f394 f394 f394 f394 f394 f394 f394 f394 f394 f394 f394 f394 f394 f394 f394 f394 f394 f394 f394 f394 f394 f394 f394 f394 f394 f394 f394 f394 f394 f394 f394 f394 f394 f394 f394 f394 f394 f394 f394 f394 f394 f394 f394 f394 f394 f394 f394 f394 f394 f394 f394 f394 f394 f394 f394 f394 f394 f394 f394 f394 f394 f394 f394 f394 f394 f394 f394 f394 f394 f394 f394 f394 f394 f394 f394 f394 f394 f394 f394 f394 f394 f394 f394 f394 f394 f394 f394 f394 f394 f394 f394 f394 f394 f394 f394 f394 f394 f394 f394 f394 f394 f394 f394 f394 f394 f394 f394 f394 f394 f394 f394 f394 f394 f394 f394 f394 f394 f394 f394 f394 f394 f394 f394 f394 f394 f394 f394 f394 f394 f394 f394 f394 f394 f394 f394 f394 f394 f394 f394 f394 f394 f394 f394 f394 f394 f394 f394 f394 f394 f394 f394 f394 f394 f394 f394 f394 f394 f394 f394 f394 f394 f394 f394 f394 f394 f394 f394 f394 f394 f394 f394 f397 f397 f397 f397 f397 f397 f397 f397 f397 f397 f397 f397 f397 f397 f397 f397 f397 f397 f397 f397 f397 f397 f397 f397 f397 f397 f397 f397 f397 f397 f397 f397 f397 f397 f397 f397 f397 f397 f397 f397 f397 f397 f397 f397 f397 f397 f397 f397 f397 f397 f397 f397 f397 f397 f397 f397 f397 f397 f397 f397 f397 f397 f397 f397 f397 f397 f397 f397 f397 f397 f397 f397 f397 f397 f397 f397 f397 f397 f397 f397 f397 f397 f397 f397 f397 f397 f397 f397 f397 f397 f397 f397 f397 f397 f397 f397 f397 f397 f397 f397 f397 f397 f397 f397 f397 f397 f397 f397 f397 f397 f397 f397 f397 f397 f397 f397 f397 f397 f397 f397 f397 f397 f397 f397 f397 f397 f397 f397 f397 f397 f397 f397 f397 f397 f397 f397 f397 f397 f397 f397 f397 f397 f397 f405 f405 f405 f414 f414 f414 f414 f414 f414 f414 f414 f414 f414 f414 f414 f414 f414 f414 f414 f414 f414 f414 f414 f414 f414 f414 f414 f414 f414 f414 f414 f414 f414 f414 f414 f414 f414 f414 f414 f414 f414 f414 f414 f414 f414 f414 f414 f414 f414 f414 f414 f414 f414 f414 f414 f414 f414 f414 f414 f414 f414 f414 f414 f414 f414 f414 f414 f414 f414 f414 f414 f414 f414 f414 f414 f414 f414 f414 f414 f414 f414 f414 f414 f414 f414 f414 f414 f414 f414 f414 f414 f414 f414 f414 f414 f414 f414 f414 f414 f414 f414 f414 f414 f414 f414 f414 f414 f414 f414 f414 f414 f414 f414 f414 f414 f414 f414 f414 f414 f414 f414 f414 f414 f414 f414 f414 f414 f414 f414 f414 f414 f414 f414 f414 f414 f414 f414 f414 f414 f414 f414 f414 f414 f414 f414 f414 f414 f414 f414 f414 f414 f414 f414 f414 f414 f414 f414 f414 f414 f414 f414 f414 f414 f414 f414 f414 f414 f414 f414 f414 f414 f414 f414 f414 f414 f414 f414 f414 f414 f414 f414 f414 f414 f414 f414 f414 f414 f414 f414 f414 f414 f414 f414 f418 f418 f418 f418 f418 f418 f418 f418 f418 f418 f418 f418 f418 f418 f418 f418 f418 f418 f418 f418 f418 f418 f418 f418 f418 f418 f418 f418 f418 f418 f418 f418 f418 f418 f418 f418 f418 f418 f418 f418 f418 f418 f418 f418 f418 f418 f418 f418 f418 f418 f418 f418 f418 f418 f418 f418 f418 f418 f418 f418 f418 f418 f418 f418 f418 f418 f418 f418 f418 f418 f418 f418 f418 f418 f418 f418 f418 f418 f418 f418 f418 f418 f418 f418 f418 f418 f418 f418 f418 f418 f418 f418 f418 f418 f418 f418 f418 f418 f418 f423 f423 f423 f423 f423 f423 f423 f423 f423 f423 f423 f423 f423 f423 f423 f423 f423 f423 f423 f423 f423 f423 f423 f423 f423 f423 f423 f423 f423 f423 f423 f423 f423 f423 f423 f423 f423 f423 f423 f423 f423 f423 f423 f423 f423 f423 f423 f423 f423 f425 f425 f425 f425 f425 f425 f425 f425 f425 f425 f425 f425 f425 f425 f425 f425 f425 f425 f425 f425 f425 f425 f425 f425 f425 f425 f425 f425 f425 f425 f425 f425 f425 f425 f425 f425 f425 f425 f425 f425 f425 f425 f425 f425 f425 f425 f425 f425 f425 f425 f425 f425 f425 f425 f425 f425 f425 f425 f425 f425 f425 f425 f425 f425 f425 f425 f425 f425 f425 f425 f425 f425 f425 f425 f425 f425 f425 f425 f425 f425 f425 f425 f425 f425 f425 f425 f425 f425 f425 f425 f425 f425 f425 f425 f425 f425 f425 f425 f425 f425 f425 f425 f425 f425 f425 f425 f425 f425 f425 f425 f425 f425 f425 f425 f425 f425 f425 f425 f425 f425 f425 f425 f425 f425 f425 f425 f425 f425 f425 f425 f425 f425 f425 f425 f425 f425 f425 f425 f425 f425 f425 f425 f425 f425 f425 f425 f425 f425 f425 f425 f425 f425 f425 f425 f425 f425 f425 f425 f425 f425 f425 f425 f425 f425 f425 f425 f425 f425 f425 f425 f425 f425 f425 f425 f425 f425 f425 f425 f425 f425 f425 f425 f425 f425 f425 f425 f425 f425 f425 f425 f425 f425 f425 f425 f425 f425 f425 f425 f425 f425 f425 f425 f425 f425 f425 f425 f425 f425 f425 f425 f425 f425 f425 f425 f425 f425 f425 f425 f425 f425 f425 f425 f425 f425 f425 f427 f427 f427 f427 f427 f427 f427 f427 f427 f427 f427 f427 f427 f427 f427 f427 f427 f427 f427 f427 f427 f427 f427 f427 f427 f427 f427 f427 f427 f427 f427 f427 f427 f427 f427 f427 f427 f427 f427 f427 f427 f427 f427 f427 f427 f427 f427 f427 f427 f427 f427 f427 f427 f427 f427 f427 f427 f427 f427 f427 f427 f427 f427 f427 f427 f427 f427 f427 f427 f427 f427 f427 f427 f427 f427 f427 f427 f427 f427 f427 f427 f427 f427 f427 f427 f427 f427 f427 f427 f427 f427 f427 f427 f427 f427 f427 f427 f427 f427 f427 f427 f427 f427 f427 f427 f427 f427 f427 f427 f427 f427 f427 f427 f427 f427 f427 f427 f427 f427 f427 f427 f427 f427 f427 f427 f427 f427 f427 f427 f427 f427 f427 f427 f427 f427 f427 f427 f427 f427 f427 f427 f427 f427 f427 f427 f427 f427 f427 f427 f427 f427 f428 f428 f428 f428 f428 f428 f428 f428 f428 f428 f428 f428 f428 f428 f428 f428 f428 f428 f428 f428 f428 f428 f428 f428 f428 f428 f428 f428 f428 f428 f428 f428 f428 f428 f428 f428 f428 f428 f428 f428 f428 f428 f428 f428 f428 f428 f428 f428 f428 f428 f428 f428 f428 f428 f428 f428 f428 f428 f428 f428 f428 f428 f428 f428 f428 f428 f428 f428 f428 f428 f428 f428 f428 f428 f428 f428 f428 f428 f428 f428 f428 f428 f428 f428 f428 f428 f428 f428 f428 f428 f428 f428 f428 f428 f428 f428 f428 f428 f428 f428 f428 f428 f428 f428 f428 f428 f428 f428 f428 f428 f428 f428 f428 f428 f428 f428 f428 f428 f428 f428 f428 f428 f428 f428 f428 f428 f428 f428 f428 f428 f428 f428 f428 f428 f428 f428 f428 f428 f428 f428 f428 f428 f428 f428 f428 f428 f428 f428 f428 f428 f428 f428 f429 f429 f429 f429 f429 f429 f429 f429 f429 f429 f429 f429 f429 f429 f429 f429 f429 f429 f429 f429 f429 f429 f429 f429 f429 f429 f429 f429 f429 f429 f429 f429 f429 f429 f429 f429 f429 f429 f429 f429 f429 f429 f429 f429 f429 f429 f429 f429 f429 f429 f429 f429 f429 f429 f429 f429 f429 f429 f429 f429 f429 f429 f429 f429 f429 f429 f429 f429 f429 f429 f429 f429 f429 f429 f429 f429 f429 f429 f429 f429 f429 f429 f429 f429 f429 f429 f429 f429 f429 f429 f429 f429 f429 f429 f429 f429 f429 f429 f429 f429 f429 f429 f429 f429 f429 f429 f429 f429 f429 f429 f429 f429 f429 f429 f429 f429 f429 f429 f429 f429 f429 f429 f429 f429 f429 f429 f429 f429 f429 f429 f429 f429 f429 f429 f429 f429 f429 f429 f429 f429 f429 f429 f429 f429 f429 f429 f429 f429 f433 f433 f433 f433 f433 f433 f433 f433 f433 f433 f433 f433 f433 f433 f433 f433 f433 f433 f433 f433 f433 f433 f433 f433 f433 f433 f433 f433 f433 f433 f433 f433 f433 f433 f433 f441 f441 f441 f441 f441 f441 f441 f441 f441 f441 f441 f441 f441 f441 f441 f441 f441 f441 f441 f441 f441 f441 f441 f441 f441 f441 f441 f441 f441 f441 f441 f441 f441 f441 f441 f441 f441 f441 f441 f441 f441 f441 f441 f441 f441 f441 f441 f441 f441 f441 f441 f441 f441 f441 f441 f441 f441 f441 f441 f441 f441 f441 f441 f441 f441 f441 f441 f441 f441 f441 f441 f441 f441 f441 f441 f441 f441 f441 f441 f441 f441 f441 f441 f441 f441 f441 f441 f441 f441 f441 f441 f441 f441 f441 f441 f441 f441 f441 f441 f441 f441 f441 f441 f441 f441 f441 f441 f441 f441 f441 f441 f441 f441 f441 f441 f441 f441 f441 f441 f441 f441 f441 f441 f441 f441 f441 f441 f441 f441 f441 f441 f441 f441 f441 f441 f441 f441 f441 f441 f441 f441 f441 f441 f441 f441 f441 f441 f441 f441 f441 f441 f441 f441 f441 f441 f441 f441 f441 f441 f441 f441 f441 f441 f441 f441 f441 f441 f441 f441 f441 f441 f441 f441 f441 f441 f441 f441 f441 f441 f441 f441 f441 f441 f441 f441 f441 f441 f446 f446 f446 f446 f446 f446 f446 f446 f446 f446 f446 f446 f446 f446 f446 f446 f446 f446 f446 f446 f446 f446 f446 f446 f446 f446 f446 f446 f446 f446 f446 f446 f446 f446 f446 f446 f446 f446 f446 f446 f446 f446 f446 f446 f446 f446 f446 f446 f446 f446 f446 f446 f446 f446 f446 f446 f446 f446 f446 f446 f446 f446 f446 f446 f446 f446 f446 f446 f446 f446 f446 f446 f446 f446 f446 f446 f446 f446 f446 f446 f446 f446 f446 f446 f446 f446 f446 f446 f446 f446 f446 f446 f446 f446 f446 f446 f446 f446 f446 f446 f446 f446 f446 f446 f446 f446 f446 f446 f446 f446 f446 f446 f446 f446 f446 f446 f446 f446 f446 f446 f446 f446 f446 f446 f446 f446 f446 f446 f446 f446 f446 f446 f446 f446 f446 f446 f446 f446 f446 f446 f446 f446 f446 f446 f446 f446 f446 f446 f446 f446 f446 f446 f446 f446 f446 f446 f446 f446 f446 f446 f446 f446 f446 f446 f446 f446 f446 f446 f446 f446 f446 f446 f446 f446 f446 f446 f446 f446 f446 f446 f450 f450 f450 f450 f450 f450 f450 f450 f450 f450 f450 f450 f450 f450 f450 f450 f450 f450 f450 f450 f450 f450 f450 f450 f450 f450 f450 f450 f450 f450 f450 f450 f450 f450 f450 f450 f450 f450 f450 f450 f450 f450 f450 f450 f450 f450 f450 f450 f450 f450 f450 f450 f450 f450 f450 f450 f450 f450 f450 f450 f450 f450 f450 f450 f450 f450 f450 f450 f450 f450 f450 f450 f450 f450 f450 f450 f450 f450 f450 f450 f450 f450 f450 f450 f450 f450 f450 f450 f450 f450 f450 f450 f450 f450 f450 f450 f450 f450 f450 f450 f450 f450 f450 f450 f450 f450 f450 f450 f450 f450 f450 f450 f450 f450 f450 f450 f450 f450 f450 f450 f450 f450 f450 f450 f450 f450 f450 f450 f450 f450 f450 f450 f450 f450 f450 f450 f450 f450 f450 f450 f450 f450 f450 f450 f450 f450 f450 f450 f450 f450 f450 f450 f450 f450 f450 f450 f450 f454 f454 f454 f454 f454 f454 f454 f454 f454 f454 f454 f454 f454 f454 f454 f454 f454 f454 f454 f454 f454 f454 f454 f454 f454 f454 f454 f454 f454 f454 f454 f454 f454 f454 f454 f454 f454 f454 f454 f454 f454 f454 f454 f454 f454 f454 f454 f454 f454 f454 f454 f454 f454 f454 f454 f454 f454 f454 f454 f454 f454 f454 f454 f454 f454 f454 f454 f454 f454 f454 f454 f454 f454 f454 f454 f454 f454 f454 f454 f454 f454 f454 f454 f454 f454 f454 f454 f454 f454 f454 f454 f454 f454 f454 f454 f454 f454 f454 f454 f454 f454 f454 f454 f454 f454 f454 f454 f454 f454 f454 f454 f454 f454 f454 f454 f454 f454 f454 f454 f454 f454 f454 f454 f454 f454 f454 f454 f454 f454 f454 f454 f454 f454 f454 f454 f454 f454 f454 f454 f454 f454 f454 f454 f454 f454 f454 f454 f454 f454 f454 f454 f454 f454 f454 f454 f454 f454 f454 f454 f461 f461 f461 f461 f461 f461 f461 f461 f461 f461 f461 f461 f461 f461 f461 f461 f461 f461 f461 f461 f461 f461 f461 f461 f461 f461 f461 f461 f461 f461 f461 f461 f461 f461 f461 f461 f461 f461 f461 f461 f461 f461 f461 f461 f461 f461 f461 f461 f461 f461 f461 f461 f461 f461 f461 f461 f461 f461 f461 f461 f461 f461 f461 f461 f461 f461 f461 f461 f461 f461 f461 f461 f461 f461 f461 f461 f461 f461 f461 f461 f461 f461 f461 f461 f461 f461 f461 f461 f461 f461 f461 f461 f461 f461 f461 f461 f461 f461 f461 f461 f461 f461 f461 f461 f461 f461 f461 f461 f461 f461 f461 f461 f461 f461 f461 f461 f461 f461 f461 f461 f461 f461 f461 f461 f461 f461 f461 f461 f461 f461 f461 f461 f461 f461 f461 f461 f461 f461 f461 f461 f461 f461 f461 f461 f461 f461 f461 f461 f461 f461 f461 f461 f461 f461 f461 f461 f461 f461 f461 f461 f461 f461 f461 f461 f461 f461 f461 f461 f461 f461 f461 f461 f461 f461 f461 f461 f461 f461 f461 f461 f461 f461 f461 f461 f461 f461 f461 f461 f461 f461 f461 f461 f461 f461 f461 f461 f461 f461 f461 f461 f461 f461 f461 f461 f461 f461 f461 f461 f461 f461 f461 f461 f461 f461 f462 f462 f462 f462 f462 f462 f462 f462 f462 f462 f462 f462 f462 f462 f462 f462 f462 f462 f462 f462 f462 f462 f462 f462 f462 f462 f462 f462 f462 f462 f462 f462 f462 f462 f462 f462 f462 f462 f462 f462 f462 f462 f462 f462 f462 f462 f462 f462 f462 f462 f462 f462 f462 f462 f462 f462 f462 f462 f462 f462 f462 f462 f462 f462 f462 f462 f462 f462 f462 f462 f462 f462 f462 f462 f462 f462 f462 f462 f462 f462 f462 f468 f468 f468 f468 f468 f468 f468 f468 f468 f468 f468 f468 f468 f468 f468 f468 f468 f468 f468 f468 f468 f468 f468 f468 f469 f469 f469 f469 f469 f469 f469 f469 f469 f469 f469 f469 f469 f469 f469 f469 f469 f469 f469 f469 f469 f469 f469 f469 f469 f469 f469 f469 f469 f469 f469 f469 f469 f469 f469 f469 f469 f469 f469 f469 f469 f469 f469 f469 f469 f469 f469 f469 f469 f469 f469 f469 f469 f469 f469 f469 f469 f469 f469 f469 f469 f469 f469 f469 f469 f474 f474 f474 f474 f474 f474 f474 f474 f474 f474 f474 f474 f474 f474 f474 f474 f474 f474 f474 f474 f474 f474 f474 f474 f474 f474 f474 f474 f474 f474 f474 f474 f474 f474 f474 f474 f474 f474 f474 f474 f474 f474 f474 f474 f474 f474 f474 f474 f474 f474 f474 f474 f474 f474 f474 f474 f474 f474 f474 f474 f474 f474 f474 f474 f474 f474 f474 f474 f474 f474 f474 f474 f474 f474 f474 f474 f474 f474 f474 f474 f474 f474 f474 f474 f474 f474 f474 f474 f474 f474 f474 f474 f474 f474 f474 f474 f474 f474 f474 f474 f474 f474 f474 f474 f474 f474 f474 f474 f474 f474 f474 f474 f474 f474 f474 f474 f474 f474 f474 f474 f474 f474 f474 f474 f474 f474 f474 f474 f474 f474 f474 f474 f474 f474 f474 f474 f474 f474 f474 f474 f474 f474 f474 f474 f474 f474 f474 f474 f474 f474 f474 f474 f474 f474 f474 f474 f474 f474 f474 f474 f474 f474 f474 f474 f474 f474 f474 f474 f474 f474 f474 f474 f474 f474 f474 f474 f474 f474 f474 f474 f474 f474 f474 f474 f474 f474 f474 f474 f474 f474 f474 f474 f474 f474 f474 f474 f474 f474 f474 f474 f474 f474 f474 f474 f474 f474 f478 f478 f478 f478 f478 f478 f478 f478 f478 f478 f478 f478 f478 f478 f478 f478 f478 f478 f478 f478 f478 f478 f478 f478 f478 f478 f478 f478 f478 f478 f478 f478 f478 f478 f478 f478 f478 f478 f478 f478 f478 f478 f478 f478 f478 f478 f478 f478 f478 f478 f478 f478 f478 f478 f478 f478 f478 f478 f478 f478 f478 f478 f478 f478 f478 f478 f478 f478 f478 f478 f478 f478 f478 f478 f478 f478 f478 f478 f478 f478 f478 f478 f478 f478 f478 f478 f478 f478 f478 f478 f478 f478 f478 f478 f478 f478 f478 f478 f478 f478 f478 f478 f478 f478 f478 f478 f478 f478 f478 f478 f478 f478 f478 f478 f478 f478 f478 f478 f478 f478 f478 f478 f478 f478 f478 f478 f478 f478 f478 f478 f478 f478 f478 f478 f478 f478 f478 f478 f478 f478 f478 f478 f478 f478 f478 f478 f478 f478 f478 f478 f478 f478 f478 f478 f478 f478 f478 f478 f478 f478 f478 f478 f478 f478 f478 f478 f478 f478 f478 f478 f478 f478 f478 f478 f478 f478 f478 f478 f478 f478 f478 f478 f478 f478 f478 f478 f478 f478 f478 f478 f478 f478 f478 f478 f478 f478 f478 f491 f491 f491 f491 f491 f491 f491 f491 f491 f491 f491 f491 f491 f491 f491 f491 f491 f491 f491 f491 f491 f491 f491 f491 f491 f491 f491 f491 f491 f491 f491 f491 f491 f491 f491 f491 f491 f491 f493 f493 f493 f493 f493 f493 f493 f493 f493 f493 f493 f493 f493 f493 f493 f493 f493 f493 f493 f493 f493 f493 f493 f493 f493 f493 f493 f493 f493 f493 f493 f493 f493 f493 f493 f493 f493 f493 f493 f493 f493 f493 f493 f493 f493 f493 f493 f493 f493 f493 f493 f493 f493 f493 f493 f493 f493 f493 f493 f493 f493 f493 f493 f493 f493 f493 f493 f493 f493 f493 f493 f493 f493 f493 f493 f493 f493 f493 f493 f493 f493 f493 f494 f494 f494 f494 f494 f494 f494 f494 f494 f494 f494 f494 f494 f494 f494 f494 f494 f494 f494 f494 f494 f494 f494 f494 f494 f494 f494 f494 f494 f494 f494 f494 f494 f494 f494 f494 f494 f494 f494 f494 f494 f494 f494 f494 f494 f494 f494 f494 f494 f494 f494 f494 f494 f494 f494 f494 f494 f494 f494 f494 f494 f494 f494 f494 f494 f494 f494 f494 f494 f494 f494 f494 f494 f494 f494 f494 f494 f494 f494 f494 f494 f494 f494 f494 f494 f494 f494 f494 f494 f494 f494 f494 f494 f494 f494 f494 f494 f494 f494 f494 f494 f494 f494 f494 f494 f494 f494 f494 f494 f494 f494 f494 f494 f494 f494 f494 f494 f494 f494 f494 f494 f494 f494 f494 f494 f494 f494 f494 f494 f494 f497 f497 f497 f497 f497 f497 f497 f497 f497 f497 f497 f497 f497 f497 f497 f497 f497 f497 f497 f497 f497 f497 f497 f497 f497 f497 f497 f497 f497 f497 f497 f497 f497 f497 f497 f497 f497 f497 f497 f497 f497 f497 f497 f497 f497 f497 f497 f497 f497 f497 f497 f497 f497 f497 f497 f497 f497 f497 f497 f497 f497 f497 f497 f497 f497 f497 f497 f497 f497 f497 f497 f497 f497 f497 f497 f497 f497 f497 f497 f497 f497 f497 f497 f497 f497 f497 f497 f497 f497 f497 f497 f497 f497 f497 f497 f497 f497 f497 f497 f497 f497 f497 f497 f497 f497 f497 f497 f497 f497 f497 f497 f497 f497 f497 f497 f497 f497 f497 f497 f497 f497 f497 f497 f497 f497 f497 f497 f497 f497 f497 f497 f497 f497 f497 f497 f497 f497 f497 f497 f497 f497 f498 f498 f498 f498 f498 f498 f498 f498 f498 f498 f498 f498 f498 f498 f498 f498 f498 f498 f498 f498 f498 f498 f498 f498 f498 f498 f498 f498 f498 f498 f498 f498 f498 f498 f498 f498 f498 f498 f498 f498 f498 f498 f498 f498 f498 f498 f498 f498 f498 f498 f498 f498 f498 f498 f498 f498 f498 f498 f498 f498 f498 f498 f498 f498 f502 f502 f502 f502 f502 f502 f502 f502 f502 f502 f502 f502 f502 f502 f502 f502 f502 f502 f502 f502 f502 f502 f502 f502 f502 f502 f502 f502 f502 f502 f502 f502 f502 f502 f502 f502 f502 f502 f502 f502 f502 f502 f502 f502 f502 f502 f502 f502 f502 f502 f502 f502 f502 f502 f502 f502 f502 f502 f502 f502 f502 f502 f502 f502 f502 f502 f502 f502 f502 f502 f502 f502 f502 f502 f502 f502 f502 f502 f502 f502 f502 f502 f502 f502 f502 f502 f502 f502 f502 f502 f502 f502 f502 f502 f502 f502 f502 f502 f502 f502 f502 f502 f502 f509 f509 f509 f509 f509 f509 f509 f509 f509 f509 f509 f509 f509 f509 f509 f509 f509 f509 f509 f509 f509 f509 f509 f509 f509 f509 f509 f509 f509 f509 f509 f509 f509 f509 f509 f509 f509 f509 f509 f509 f509 f509 f509 f509 f509 f509 f509 f509 f509 f509 f509 f509 f509 f509 f509 f509 f509 f509 f509 f509 f509 f509 f509 f509 f509 f509 f509 f509 f509 f509 f509 f509 f509 f509 f509 f509 f509 f509 f509 f509 f509 f509 f509 f509 f509 f509 f509 f509 f509 f509 f509 f509 f509 f509 f509 f509 f509 f509 f509 f509 f509 f509 f509 f509 f509 f509 f509 f509 f509 f509 f509 f509 f509 f509 f509 f509 f509 f509 f509 f509 f509 f509 f509 f509 f510 f510 f510 f510 f510 f510 f510 f510 f510 f510 f510 f510 f510 f510 f510 f510 f510 f510 f510 f510 f510 f510 f510 f510 f510 f510 f510 f510 f510 f510 f510 f510 f510 f510 f510 f510 f510 f510 f510 f510 f510 f510 f510 f510 f510 f510 f510 f510 f510 f510 f510 f510 f510 f510 f510 f510 f510 f510 f510 f510 f510 f510 f510 f510 f510 f510 f510 f510 f510 f510 f510 f510 f510 f510 f510 f510 f510 f510 f510 f510 f510 f510 f510 f510 f510 f510 f510 f510 f510 f510 f510 f510 f510 f510 f510 f510 f510 f510 f510 f510 f510 f510 f510 f510 f510 f510 f510 f510 f510 f510 f510 f510 f510 f510 f510 f510 f510 f510 f510 f510 f510 f510 f510 f510 f510 f510 f510 f510 f510 f510 f510 f510 f510 f510 f510 f510 f510 f510 f510 f510 f510 f510 f510 f510 f510 f510 f510 f510 f510 f510 f511 f511 f511 f511 f511 f511 f511 f511 f511 f511 f511 f511 f511 f511 f511 f511 f511 f511 f511 f511 f511 f511 f511 f511 f511 f511 f511 f511 f511 f511 f511 f511 f511 f511 f511 f511 f511 f511 f511 f511 f511 f511 f511 f511 f511 f511 f511 f511 f511 f511 f511 f511 f511 f511 f511 f511 f511 f511 f511 f511 f511 f511 f511 f511 f511 f511 f511 f511 f511 f511 f511 f511 f511 f511 f511 f511 f511 f511 f511 f511 f511 f511 f511 f511 f511 f511 f511 f511 f511 f511 f511 f511 f511 f511 f511 f511 f511 f511 f511 f511 f511 f511 f511 f511 f511 f511 f511 f511 f511 f511 f511 f511 f511 f511 f511 f511 f511 f511 f511 f511 f511 f511 f511 f511 f511 f511 f511 f511 f511 f511 f511 f511 f511 f511 f511 f511 f511 f511 f511 f511 f511 f511 f511 f511 f511 f511 f511 f511 f511 f511 f511 f511 f511 f511 f511 f511 f511 f511 f511 f511 f511 f511 f511 f511 f511 f511 f511 f511 f511 f511 f511 f511 f511 f511 f511 f511 f511 f511 f511 f511 f511 f511 f515 f515 f515 f515 f515 f515 f515 f515 f515 f515 f515 f515 f515 f515 f515 f515 f515 f515 f515 f515 f515 f515 f515 f515 f515 f515 f515 f515 f515 f515 f515 f515 f515 f515 f515 f515 f515 f515 f515 f515 f515 f515 f515 f515 f515 f515 f515 f515 f515 f515 f515 f515 f515 f515 f515 f515 f515 f515 f515 f515 f515 f515 f515 f515 f515 f515 f515 f515 f515 f515 f515 f515 f515 f515 f515 f515 f515 f515 f515 f515 f515 f515 f515 f515 f515 f515 f515 f515 f515 f515 f515 f515 f515 f515 f515 f515 f515 f515 f515 f515 f515 f515 f515 f515 f515 f515 f515 f515 f515 f515 f515 f515 f515 f515 f515 f515 f515 f515 f515 f515 f515 f515 f515 f515 f515 f515 f515 f515 f515 f515 f515 f515 f515 f515 f515 f515 f515 f515 f515 f515 f515 f515 f515 f515 f515 f515 f515 f515 f515 f515 f515 f515 f515 f515 f515 f515 f515 f515 f515 f515 f515 f515 f515 f515 f515 f515 f515 f515 f515 f515 f515 f515 f515 f515 f515 f515 f515 f515 f515 f515 f515 f515 f515 f515 f515 f515 f515 f515 f515 f515 f515 f515 f515 f515 f515 f515 f515 f515 f515 f515 f515 f515 f515 f515 f515 f515 f515 f515 f515 f515 f515 f515 f515 f515 f515 f515 f515 f515 f515 f515 f515 f515 f515 f515 f515 f515 f519 f519 f519 f519 f519 f519 f519 f519 f519 f519 f519 f519 f519 f519 f519 f519 f519 f519 f519 f519 f519 f519 f519 f519 f519 f519 f519 f519 f519 f519 f519 f519 f519 f519 f519 f519 f519 f519 f519 f519 f519 f519 f519 f519 f519 f519 f519 f519 f519 f519 f519 f519 f519 f519 f519 f519 f519 f519 f519 f519 f519 f519 f519 f519 f519 f519 f519 f519 f519 f519 f519 f519 f519 f519 f519 f519 f519 f519 f519 f519 f519 f519 f519 f519 f519 f519 f519 f519 f519 f519 f519 f519 f519 f519 f519 f519 f519 f519 f519 f519 f519 f519 f519 f519 f519 f519 f519 f519 f519 f519 f519 f519 f519 f519 f519 f519 f519 f519 f519 f519 f519 f519 f519 f519 f519 f519 f519 f519 f519 f519 f519 f519 f519 f519 f519 f519 f519 f519 f519 f519 f519 f519 f519 f519 f519 f519 f519 f519 f519 f519 f519 f519 f519 f519 f519 f519 f519 f519 f519 f519 f519 f519 f519 f519 f519 f519 f519 f519 f519 f519 f519 f519 f519 f519 f519 f519 f519 f519 f519 f519 f519 f519 f519 f519 f519 f519 f519 f519 f519 f519 f519 f519 f519 f519 f519 f519 f519 f519 f519 f519 f519 f519 f519 f519 f519 f519 f519 f519 f519 f519 f519 f519 f519 f519 f519 f519 f519 f519 f519 f519 f519 f519 f519 f519 f519 f519 f519 f519 f519 f519 f519 f519 f519 f519 f519 f519 f519 f519 f519 f519 f519 f519 f519 f519 f519 f519 f519 f519 f519 f524 f524 f524 f524 f524 f524 f524 f524 f524 f524 f524 f524 f524 f524 f524 f524 f524 f524 f524 f524 f524 f524 f524 f524 f524 f524 f524 f524 f524 f524 f524 f524 f524 f524 f524 f524 f524 f524 f524 f524 f524 f524 f524 f524 f524 f524 f524 f524 f524 f524 f524 f524 f524 f524 f524 f524 f524 f524 f524 f524 f524 f524 f524 f524 f524 f524 f524 f524 f524 f524 f524 f524 f524 f524 f524 f524 f524 f524 f524 f524 f524 f524 f524 f524 f524 f524 f524 f524 f524 f524 f524 f524 f524 f524 f524 f524 f524 f524 f524 f524 f524 f524 f524 f524 f524 f524 f524 f524 f524 f524 f524 f524 f524 f524 f524 f524 f524 f524 f524 f524 f524 f524 f524 f524 f524 f524 f524 f524 f524 f524 f524 f524 f524 f524 f524 f524 f524 f524 f524 f524 f524 f524 f524 f524 f524 f524 f524 f524 f524 f524 f524 f524 f524 f536 f536 f536 f536 f536 f536 f536 f536 f536 f536 f536 f536 f536 f536 f536 f536 f536 f536 f536 f536 f536 f536 f536 f536 f536 f536 f536 f536 f536 f536 f536 f536 f536 f536 f536 f536 f536 f536 f536 f536 f536 f536 f536 f536 f536 f536 f536 f536 f536 f536 f536 f536 f536 f536 f536 f536 f536 f536 f536 f536 f536 f536 f536 f536 f536 f536 f536 f536 f536 f536 f536 f536 f536 f536 f536 f536 f536 f536 f536 f536 f536 f536 f536 f536 f536 f536 f536 f536 f536 f536 f536 f536 f536 f536 f536 f536 f536 f536 f536 f536 f536 f536 f536 f536 f536 f536 f536 f536 f536 f536 f536 f536 f536 f536 f536 f536 f536 f536 f536 f536 f536 f536 f536 f536 f536 f536 f536 f536 f536 f536 f536 f536 f536 f536 f536 f536 f536 f536 f536 f536 f536 f536 f536 f536 f536 f536 f536 f536 f536 f536 f536 f536 f536 f536 f536 f536 f536 f536 f536 f536 f536 f536 f536 f536 f536 f536 f536 f536 f536 f536 f536 f536 f536 f536 f536 f536 f536 f536 f536 f536 f536 f536 f536 f536 f536 f536 f536 f536 f536 f536 f536 f536 f536 f536 f536 f536 f536 f536 f536 f536 f536 f536 f536 f536 f536 f536 f536 f536 f536 f536 f536 f536 f537 f537 f537 f537 f537 f537 f537 f537 f537 f537 f537 f537 f537 f537 f537 f537 f537 f537 f537 f537 f537 f537 f537 f537 f537 f537 f537 f537 f537 f537 f537 f537 f537 f537 f537 f537 f537 f537 f537 f537 f537 f537 f537 f537 f537 f537 f537 f537 f537 f537 f537 f537 f537 f537 f537 f537 f537 f537 f537 f537 f537 f537 f537 f537 f537 f537 f537 f537 f537 f537 f537 f537 f537 f537 f537 f537 f537 f537 f537 f537 f537 f537 f537 f537 f537 f537 f537 f537 f537 f537 f537 f537 f537 f537 f537 f537 f537 f537 f537 f537 f537 f537 f537 f537 f537 f537 f537 f537 f537 f537 f537 f537 f537 f537 f537 f537 f537 f537 f537 f537 f537 f537 f537 f537 f537 f537 f537 f537 f537 f537 f537 f537 f537 f537 f537 f537 f537 f537 f537 f537 f537 f537 f537 f537 f537 f537 f537 f537 f537 f537 f537 f537 f537 f537 f537 f537 f537 f537 f537 f537 f537 f537 f537 f537 f537 f537 f537 f537 f537 f539 f539 f539 f539 f539 f539 f539 f539 f539 f539 f539 f539 f539 f539 f539 f539 f539 f539 f539 f539 f539 f539 f539 f539 f539 f539 f539 f539 f539 f539 f539 f539 f539 f539 f539 f539 f539 f539 f539 f539 f539 f539 f539 f539 f539 f539 f539 f539 f539 f539 f539 f539 f539 f539 f539 f539 f539 f539 f539 f539 f539 f539 f539 f539 f539 f539 f539 f539 f539 f539 f539 f539 f539 f539 f539 f539 f539 f539 f539 f539 f539 f539 f539 f539 f539 f539 f539 f539 f539 f539 f539 f539 f539 f539 f539 f539 f539 f539 f539 f539 f539 f539 f539 f539 f539 f539 f539 f539 f539 f539 f539 f539 f539 f539 f539 f539 f539 f539 f539 f539 f539 f539 f539 f539 f539 f539 f539 f539 f539 f539 f539 f539 f539 f539 f539 f539 f539 f539 f540 f540 f540 f540 f540 f540 f540 f540 f540 f540 f540 f540 f540 f540 f540 f540 f540 f540 f540 f540 f540 f540 f540 f540 f540 f540 f540 f540 f540 f540 f540 f540 f540 f540 f540 f540 f540 f540 f540 f540 f540 f540 f540 f540 f540 f540 f540 f540 f540 f540 f540 f540 f540 f540 f540 f540 f540 f540 f540 f540 f540 f540 f540 f540 f540 f540 f540 f540 f540 f540 f540 f540 f540 f540 f540 f540 f540 f540 f540 f540 f540 f540 f540 f540 f540 f540 f540 f540 f540 f540 f540 f540 f540 f540 f540 f540 f540 f540 f540 f540 f540 f540 f540 f540 f540 f540 f540 f540 f540 f540 f540 f540 f540 f540 f540 f540 f540 f540 f540 f540 f540 f540 f540 f540 f540 f540 f540 f540 f540 f540 f540 f540 f540 f540 f540 f540 f540 f540 f540 f540 f540 f540 f540 f540 f540 f540 f540 f540 f540 f540 f540 f540 f540 f540 f540 f540 f540 f540 f540 f540 f540 f540 f540 f540 f540 f540 f540 f540 f540 f540 f540 f540 f540 f540 f540 f540 f541 f541 f541 f541 f541 f541 f541 f541 f541 f541 f541 f541 f541 f541 f541 f541 f541 f541 f541 f541 f541 f541 f541 f541 f541 f541 f541 f541 f541 f541 f541 f541 f541 f541 f541 f541 f541 f541 f541 f541 f541 f541 f541 f541 f541 f541 f541 f541 f541 f541 f541 f541 f541 f541 f541 f541 f541 f541 f541 f541 f541 f541 f541 f541 f541 f541 f541 f541 f541 f541 f541 f541 f541 f541 f541 f541 f541 f541 f541 f541 f541 f541 f541 f541 f541 f541 f541 f541 f541 f541 f541 f541 f541 f541 f541 f541 f541 f541 f541 f541 f541 f541 f541 f541 f541 f541 f541 f541 f541 f541 f541 f541 f541 f541 f541 f541 f541 f541 f541 f541 f541 f541 f541 f541 f541 f541 f541 f541 f541 f541 f541 f541 f541 f541 f541 f541 f541 f541 f541 f541 f541 f541 f541 f541 f541 f541 f541 f541 f541 f541 f541 f541 f541 f541 f541 f541 f541 f541 f541 f541 f541 f541 f541 f541 f541 f541 f541 f541 f541 f541 f541 f541 f541 f541 f541 f541 f541 f541 f541 f541 f541 f541 f541 f541 f541 f541 f541 f541 f541 f541 f541 f541 f541 f541 f541 f541 f541 f541 f541 f541 f541 f541 f541 f541 f541 f541 f541 f541 f541 f541 f541 f541 f541 f541 f541 f541 f541 f542 f542 f542 f542 f542 f542 f542 f542 f542 f542 f542 f542 f542 f542 f542 f542 f542 f542 f542 f542 f542 f542 f542 f542 f542 f542 f542 f542 f542 f542 f542 f542 f542 f542 f542 f542 f542 f542 f542 f542 f542 f542 f542 f542 f542 f542 f542 f542 f542 f542 f542 f545 f545 f545 f545 f545 f545 f545 f545 f545 f545 f545 f545 f545 f545 f545 f545 f545 f545 f545 f545 f545 f545 f545 f545 f545 f545 f545 f545 f545 f545 f545 f545 f545 f545 f545 f545 f545 f545 f545 f545 f545 f545 f545 f545 f545 f545 f545 f545 f545 f545 f545 f545 f545 f545 f545 f545 f545 f545 f545 f545 f545 f545 f545 f545 f545 f545 f545 f545 f545 f545 f545 f545 f545 f545 f545 f545 f545 f545 f545 f545 f545 f545 f545 f545 f545 f545 f545 f545 f545 f545 f545 f545 f545 f545 f545 f545 f545 f545 f545 f545 f545 f545 f545 f545 f545 f545 f545 f545 f545 f545 f545 f545 f545 f545 f545 f545 f545 f545 f545 f545 f545 f545 f545 f545 f545 f545 f545 f545 f545 f545 f545 f545 f545 f545 f545 f545 f545 f545 f545 f545 f545 f545 f545 f545 f545 f545 f545 f545 f545 f545 f545 f545 f545 f545 f545 f545 f545 f545 f545 f545 f545 f545 f545 f545 f545 f545 f545 f545 f545 f545 f545 f545 f545 f545 f545 f545 f545 f545 f545 f545 f545 f545 f545 f545 f545 f545 f545 f545 f545 f545 f545 f545 f545 f545 f545 f545 f545 f545 f545 f545 f545 f545 f545 f545 f545 f545 f545 f545 f545 f545 f545 f545 f545 f545 f545 f545 f545 f545 f545 f545 f545 f545 f545 f545 f546 f546 f546 f546 f546 f546 f546 f546 f546 f546 f546 f546 f546 f546 f546 f546 f546 f546 f546 f546 f546 f546 f546 f546 f546 f546 f546 f546 f546 f546 f546 f546 f546 f546 f546 f546 f546 f546 f546 f546 f546 f546 f546 f546 f546 f546 f546 f546 f546 f546 f546 f546 f546 f546 f546 f546 f546 f546 f546 f546 f546 f546 f546 f546 f546 f546 f546 f546 f546 f546 f546 f546 f546 f546 f546 f546 f546 f546 f546 f546 f546 f546 f546 f546 f546 f546 f546 f553 f553 f553 f553 f553 f553 f553 f553 f553 f553 f553 f553 f553 f553 f553 f553 f553 f553 f553 f553 f553 f553 f553 f553 f553 f553 f553 f553 f553 f553 f553 f553 f553 f553 f553 f553 f553 f553 f553 f553 f553 f553 f553 f553 f553 f553 f553 f553 f553 f553 f553 f553 f553 f553 f553 f553 f553 f553 f553 f553 f553 f553 f553 f553 f553 f553 f553 f553 f553 f553 f553 f553 f553 f553 f553 f553 f553 f553 f553 f553 f553 f553 f553 f553 f553 f553 f553 f553 f553 f553 f553 f553 f553 f553 f553 f553 f553 f553 f553 f553 f553 f553 f553 f553 f553 f553 f553 f553 f553 f553 f553 f553 f553 f553 f553 f553 f553 f553 f553 f553 f553 f553 f553 f553 f553 f553 f553 f553 f553 f553 f553 f553 f553 f553 f553 f553 f553 f553 f553 f553 f553 f553 f553 f553 f553 f553 f553 f553 f553 f553 f553 f553 f553 f553 f553 f553 f553 f553 f553 f553 f553 f553 f553 f553 f553 f553 f553 f553 f553 f553 f553 f553 f553 f553 f553 f556 f556 f556 f556 f556 f556 f556 f556 f556 f556 f556 f556 f556 f556 f556 f556 f556 f556 f556 f556 f556 f556 f556 f556 f556 f556 f556 f556 f556 f556 f556 f556 f556 f556 f556 f556 f556 f556 f556 f556 f556 f556 f556 f556 f556 f556 f556 f556 f556 f556 f556 f556 f556 f556 f556 f556 f556 f556 f556 f556 f556 f556 f556 f556 f556 f556 f556 f556 f556 f556 f556 f556 f556 f556 f556 f556 f556 f556 f556 f556 f556 f556 f556 f556 f556 f556 f556 f556 f556 f556 f556 f556 f556 f556 f556 f556 f556 f556 f556 f556 f556 f556 f556 f556 f556 f556 f556 f556 f556 f556 f556 f556 f556 f556 f556 f556 f556 f556 f556 f556 f556 f556 f556 f556 f556 f556 f556 f556 f556 f556 f556 f556 f556 f556 f556 f556 f556 f556 f556 f556 f556 f556 f556 f556 f556 f556 f556 f556 f556 f556 f556 f556 f556 f556 f556 f556 f556 f556 f556 f556 f556 f556 f556 f556 f556 f556 f556 f556 f556 f556 f556 f556 f556 f556 f556 f556 f556 f556 f556 f556 f556 f556 f556 f556 f556 f556 f556 f556 f556 f556 f556 f556 f556 f556 f556 f556 f556 f556 f556 f556 f556 f556 f556 f556 f556 f556 f556 f556 f556 f556 f556 f556 f556 f556 f556 f556 f556 f556 f556 f556 f556 f556 f556 f556 f556 f556 f556 f556 f556 f556 f556 f556 f556 f556 f556 f556 f556 f556 f556 f556 f556 f557 f557 f557 f557 f557 f557 f557 f557 f557 f557 f557 f557 f557 f557 f557 f557 f557 f557 f557 f557 f557 f557 f557 f557 f557 f557 f557 f557 f557 f557 f557 f557 f557 f557 f557 f557 f557 f557 f557 f557 f557 f557 f557 f557 f557 f557 f557 f557 f557 f557 f557 f557 f557 f557 f557 f557 f557 f557 f557 f557 f557 f557 f557 f557 f557 f557 f557 f557 f557 f557 f557 f557 f557 f557 f557 f557 f557 f557 f557 f557 f557 f557 f557 f557 f557 f557 f557 f557 f557 f557 f557 f557 f557 f557 f557 f557 f557 f557 f557 f557 f557 f557 f557 f557 f557 f557 f557 f557 f557 f557 f557 f557 f557 f557 f557 f557 f557 f557 f557 f557 f557 f557 f557 f557 f557 f557 f557 f557 f557 f557 f557 f557 f557 f557 f557 f557 f557 f557 f557 f557 f557 f557 f557 f557 f557 f557 f557 f557 f557 f557 f557 f557 f557 f557 f557 f557 f557 f557 f557 f557 f557 f557 f557 f559 f559 f559 f559 f559 f559 f559 f559 f559 f559 f559 f559 f559 f559 f559 f559 f559 f559 f559 f559 f559 f559 f559 f559 f559 f559 f559 f559 f559 f559 f559 f559 f559 f559 f559 f559 f559 f559 f559 f559 f559 f559 f559 f559 f559 f559 f559 f559 f559 f559 f559 f559 f559 f559 f559 f559 f559 f559 f559 f559 f559 f559 f559 f559 f559 f559 f559 f559 f559 f559 f559 f559 f559 f559 f559 f559 f559 f559 f559 f559 f559 f559 f559 f559 f559 f559 f559 f559 f559 f559 f559 f559 f559 f559 f559 f559 f559 f559 f559 f559 f559 f559 f559 f559 f559 f559 f559 f559 f559 f559 f559 f559 f559 f559 f559 f559 f559 f559 f559 f559 f559 f559 f559 f559 f559 f559 f559 f559 f559 f559 f559 f559 f559 f559 f559 f559 f559 f559 f559 f559 f559 f559 f559 f559 f559 f559 f559 f559 f559 f559 f559 f559 f559 f559 f559 f559 f559 f559 f559 f559 f559 f559 f559 f559 f559 f559 f559 f559 f559 f559 f559 f559 f559 f559 f559 f559 f559 f559 f559 f559 f559 f559 f559 f559 f559 f559 f559 f559 f559 f559 f559 f559 f559 f559 f559 f559 f559 f559 f559 f559 f559 f559 f559 f559 f559 f559 f559 f559 f559 f559 f559 f559 f559 f559 f559 f559 f559 f559 f559 f559 f559 f561 f561 f561 f561 f561 f561 f561 f561 f561 f561 f561 f561 f561 f561 f561 f561 f561 f561 f561 f561 f561 f561 f561 f561 f561 f561 f561 f561 f561 f561 f561 f561 f561 f561 f561 f561 f561 f561 f561 f561 f561 f561 f566 f566 f566 f566 f566 f566 f566 f566 f566 f566 f566 f566 f566 f566 f566 f566 f566 f566 f566 f566 f566 f566 f566 f566 f566 f566 f566 f566 f566 f566 f566 f566 f566 f566 f566 f566 f566 f566 f566 f566 f566 f566 f566 f566 f566 f566 f566 f566 f566 f566 f566 f566 f566 f566 f566 f566 f566 f566 f566 f566 f566 f566 f566 f566 f566 f566 f566 f566 f566 f566 f566 f566 f566 f566 f566 f566 f566 f566 f566 f566 f566 f566 f566 f566 f566 f566 f566 f566 f566 f566 f566 f566 f566 f566 f566 f566 f566 f566 f566 f566 f566 f566 f566 f566 f566 f566 f566 f566 f566 f566 f566 f566 f566 f566 f566 f568 f568 f568 f568 f568 f568 f568 f568 f568 f568 f568 f568 f568 f568 f568 f568 f568 f568 f569 f569 f569 f569 f569 f569 f569 f569 f569 f569 f569 f569 f569 f569 f569 f569 f569 f569 f569 f569 f569 f569 f569 f569 f569 f569 f569 f569 f569 f569 f569 f569 f569 f569 f569 f569 f569 f569 f569 f569 f569 f569 f569 f569 f569 f569 f569 f569 f569 f569 f569 f569 f569 f569 f569 f569 f569 f569 f569 f569 f569 f569 f569 f569 f569 f569 f569 f569 f569 f569 f569 f569 f569 f569 f569 f569 f569 f569 f569 f569 f569 f569 f569 f569 f569 f569 f569 f569 f569 f569 f569 f569 f569 f569 f569 f569 f569 f569 f569 f569 f569 f569 f569 f569 f569 f570 f570 f570 f570 f570 f570 f570 f570 f570 f570 f570 f570 f570 f570 f570 f570 f570 f570 f570 f570 f570 f570 f570 f570 f570 f570 f570 f570 f570 f570 f570 f570 f570 f570 f570 f570 f570 f570 f570 f570 f570 f570 f570 f570 f570 f570 f570 f570 f570 f570 f570 f570 f570 f570 f574 f574 f574 f574 f574 f574 f574 f574 f574 f574 f574 f574 f574 f574 f574 f574 f574 f574 f574 f574 f574 f574 f574 f574 f574 f574 f574 f574 f574 f574 f574 f574 f574 f574 f574 f574 f574 f574 f574 f574 f574 f574 f574 f574 f574 f574 f574 f574 f574 f574 f574 f574 f574 f574 f574 f574 f574 f574 f574 f574 f574 f574 f574 f574 f574 f574 f574 f574 f574 f574 f574 f574 f574 f583 f583 f583 f583 f583 f583 f583 f583 f583 f583 f583 f583 f583 f583 f583 f583 f583 f583 f583 f583 f583 f583 f583 f583 f583 f583 f583 f583 f583 f583 f583 f583 f583 f583 f583 f583 f583 f583 f583 f583 f583 f583 f583 f583 f583 f583 f583 f583 f583 f583 f583 f583 f583 f583 f583 f583 f583 f583 f583 f583 f583 f583 f583 f583 f583 f583 f583 f583 f583 f583 f583 f583 f583 f583 f583 f583 f583 f583 f583 f583 f583 f583 f583 f583 f583 f583 f583 f583 f583 f583 f583 f583 f583 f583 f583 f583 f583 f583 f583 f583 f583 f583 f584 f584 f584 f584 f584 f584 f584 f584 f584 f584 f584 f584 f584 f584 f584 f584 f584 f584 f584 f584 f584 f584 f584 f584 f584 f584 f584 f584 f584 f584 f584 f584 f584 f584 f584 f584 f584 f584 f584 f584 f584 f584 f584 f584 f584 f584 f584 f584 f584 f584 f584 f584 f584 f584 f584 f584 f584 f584 f584 f584 f584 f584 f584 f584 f584 f584 f584 f584 f584 f584 f584 f584 f584 f584 f584 f584 f584 f584 f584 f584 f584 f584 f584 f584 f584 f584 f584 f584 f584 f584 f584 f588 f588 f588 f588 f588 f588 f588 f588 f588 f588 f588 f588 f588 f588 f588 f588 f588 f588 f588 f588 f588 f588 f588 f588 f588 f588 f588 f588 f588 f588 f588 f588 f588 f588 f588 f588 f588 f588 f588 f588 f588 f588 f588 f588 f588 f588 f588 f588 f588 f588 f588 f588 f588 f588 f588 f588 f588 f588 f588 f588 f588 f588 f588 f588 f588 f588 f588 f588 f588 f588 f588 f588 f588 f588 f588 f588 f588 f588 f588 f588 f588 f588 f588 f588 f588 f588 f588 f588 f588 f588 f588 f588 f588 f588 f588 f588 f588 f588 f588 f588 f588 f588 f588 f588 f588 f588 f588 f588 f588 f588 f588 f588 f588 f588 f588 f588 f588 f588 f588 f588 f588 f588 f588 f588 f588 f588 f588 f588 f588 f588 f588 f588 f588 f588 f588 f588 f588 f588 f588 f588 f588 f588 f588 f588 f588 f588 f588 f588 f588 f588 f588 f588 f588 f588 f588 f588 f588 f588 f588 f588 f588 f588 f588 f588 f588 f588 f588 f588 f588 f588 f588 f588 f588 f588 f588 f588 f588 f588 f588 f588 f588 f588 f588 f588 f588 f588 f588 f588 f588 f588 f588 f588 f588 f588 f588 f588 f588 f588 f588 f588 f588 f588 f588 f588 f588 f588 f588 f588 f588 f588 f588 f588 f588 f588 f588 f588 f588 f588 f588 f588 f588 f588 f588 f588 f588 f588 f588 f588 f588 f588 f588 f588 f588 f588 f588 f588 f588 f588 f588 f588 f588 f588 f588 f588 f588 f588 f588 f590 f590 f590 f590 f590 f590 f590 f590 f590 f590 f590 f590 f590 f590 f590 f590 f590 f590 f590 f590 f590 f590 f590 f590 f590 f590 f590 f590 f590 f590 f590 f590 f590 f590 f590 f590 f590 f590 f590 f590 f590 f590 f590 f590 f590 f590 f590 f590 f590 f590 f590 f590 f590 f590 f590 f590 f590 f590 f590 f590 f590 f590 f590 f590 f590 f590 f590 f590 f590 f590 f590 f590 f590 f590 f590 f590 f590 f590 f590 f590 f590 f590 f590 f590 f590 f590 f590 f590 f590 f590 f590 f590 f591 f591 f591 f591 f591 f591 f591 f591 f591 f591 f591 f591 f591 f591 f591 f591 f591 f591 f591 f591 f591 f591 f591 f591 f591 f591 f591 f591 f591 f591 f591 f591 f591 f591 f591 f591 f591 f591 f591 f591 f591 f591 f591 f591 f591 f591 f591 f591 f591 f591 f591 f591 f591 f591 f591 f591 f591 f591 f591 f591 f591 f591 f591 f591 f591 f591 f591 f591 f591 f591 f591 f591 f591 f591 f591 f591 f591 f591 f591 f591 f591 f591 f591 f591 f591 f591 f591 f591 f591 f591 f591 f591 f591 f591 f591 f591 f591 f591 f591 f591 f591 f591 f591 f591 f591 f591 f591 f591 f591 f591 f591 f591 f591 f591 f591 f591 f591 f591 f591 f591 f591 f591 f591 f591 f591 f591 f591 f591 f591 f591 f591 f591 f591 f591 f591 f591 f591 f591 f591 f591 f591 f591 f591 f591 f591 f591 f591 f591 f591 f591 f591 f591 f591 f591 f591 f591 f591 f591 f591 f591 f591 f591 f592 f592 f592 f592 f592 f592 f592 f592 f592 f592 f592 f592 f592 f592 f592 f592 f592 f592 f592 f592 f592 f592 f592 f592 f592 f592 f592 f592 f592 f592 f592 f592 f592 f592 f592 f592 f592 f592 f592 f592 f592 f596 f596 f596 f596 f596 f596 f596 f596 f596 f596 f596 f596 f596 f596 f596 f596 f596 f596 f596 f596 f596 f596 f596 f596 f596 f596 f596 f596 f596 f596 f596 f596 f596 f596 f596 f596 f596 f596 f596 f596 f596 f596 f596 f596 f596 f596 f596 f596 f596 f596 f596 f596 f596 f596 f596 f596 f596 f596 f596 f596 f596 f596 f596 f596 f596 f596 f596 f596 f596 f596 f596 f596 f596 f596 f596 f596 f596 f596 f596 f596 f596 f596 f596 f596 f596 f596 f596 f596 f596 f596 f596 f596 f596 f596 f596 f596 f596 f596 f596 f596 f596 f596 f596 f596 f596 f596 f596 f596 f596 f596 f596 f596 f596 f596 f596 f596 f596 f596 f596 f596 f596 f596 f596 f596 f596 f596 f596 f596 f596 f596 f596 f596 f596 f596 f596 f596 f596 f596 f596 f596 f596 f596 f596 f596 f596 f596 f596 f596 f596 f596 f596 f596 f596 f596 f596 f596 f596 f596 f596 f596 f596 f596 f596 f596 f596 f596 f596 f596 f596 f596 f596 f596 f596 f596 f596 f596 f596 f596 f596 f596 f596 f596 f596 f596 f596 f596 f596 f596 f596 f596 f596 f596 f596 f596 f596 f596 f596 f596 f596 f596 f596 f596 f596 f596 f596 f596 f596 f596 f596 f596 f596 f596 f596 f596 f596 f596 f596 f596 f596 f596 f596 f596 f596 f596 f596 f596 f596 f596 f596 f596 f596 f596 f596 f596 f596 f596 f599 f599 f599 f599 f599 f599 f599 f599 f599 f599 f599 f599 f599 f599 f599 f599 f599 f599 f599 f599 f599 f599 f599 f599 f599 f599 f599 f599 f599 f599 f599 f599 f599 f599 f599 f599 f599 f599 f599 f599 f599 f599 f599 f599 f599 f599 f599 f599 f599 f599 f599 f599 f599 f599 f599 f599 f599 f599 f599 f599 f599 f599 f599 f599 f599 f599 f599 f599 f599 f599 f599 f599 f599 f599 f599 f599 f599 f599 f599 f599 f599 f599 f599 f599 f599 f599 f599 f599 f599 f599 f599 f599 f599 f599 f599 f599 f599 f599 f599 f599 f599 f599 f599 f599 f599 f599 f599 f599 f599 f599 f599 f599 f599 f599 f599 f599 f599 f599 f599 f599 f599 f603 f603 f603 f603 f603 f603 f603 f603 f603 f603 f603 f603 f603 f603 f603 f603 f603 f603 f603 f603 f603 f603 f603 f603 f603 f603 f603 f603 f603 f603 f603 f603 f603 f603 f603 f603 f603 f603 f603 f603 f603 f603 f603 f603 f603 f603 f603 f603 f603 f603 f603 f603 f603 f603 f603 f603 f603 f603 f603 f603 f603 f603 f603 f603 f603 f603 f603 f603 f603 f603 f603 f603 f603 f603 f603 f603 f603 f603 f603 f603 f603 f603 f603 f603 f603 f603 f603 f603 f603 f603 f603 f603 f603 f603 f603 f603 f603 f603 f603 f603 f603 f603 f603 f603 f603 f603 f603 f603 f603 f603 f603 f603 f603 f603 f603 f603 f603 f603 f603 f603 f603 f603 f603 f603 f603 f603 f603 f603 f603 f603 f603 f603 f603 f603 f603 f603 f603 f603 f603 f610 f610 f610 f610 f610 f610 f610 f610 f610 f610 f610 f610 f610 f610 f610 f610 f610 f610 f610 f610 f610 f610 f610 f610 f610 f610 f610 f610 f610 f610 f610 f610 f610 f610 f610 f610 f610 f610 f610 f610 f610 f610 f610 f610 f610 f610 f610 f610 f610 f610 f610 f610 f610 f610 f610 f610 f610 f610 f610 f610 f610 f610 f610 f610 f610 f610 f610 f610 f610 f610 f610 f610 f610 f610 f610 f610 f610 f610 f610 f610 f610 f610 f610 f610 f610 f610 f610 f610 f610 f610 f610 f610 f610 f610 f610 f610 f610 f610 f610 f610 f610 f610 f610 f610 f610 f610 f610 f610 f610 f610 f610 f610 f610 f610 f610 f610 f610 f610 f610 f610 f610 f610 f610 f610 f610 f610 f610 f610 f610 f610 f610 f610 f610 f610 f610 f610 f610 f610 f610 f610 f610 f610 f610 f610 f610 f610 f610 f610 f610 f610 f610 f610 f610 f610 f610 f610 f610 f610 f610 f610 f610 f610 f610 f610 f610 f610 f610 f610 f610 f610 f610 f610 f610 f610 f610 f610 f610 f610 f610 f610 f610 f610 f610 f610 f610 f610 f610 f610 f610 f610 f610 f610 f610 f610 f610 f610 f610 f610 f610 f610 f610 f610 f610 f610 f610 f610 f610 f610 f610 f610 f610 f610 f610 f610 f610 f610 f610 f610 f610 f610 f610 f610 f610 f610 f610 f610 f610 f610 f610 f610 f610 f610 f610 f610 f610 f610 f610 f610 f610 f610 f610 f610 f610 f610 f613 f613 f613 f613 f613 f613 f613 f613 f613 f613 f613 f613 f613 f613 f613 f613 f613 f613 f613 f613 f613 f613 f613 f613 f613 f613 f613 f613 f613 f613 f613 f613 f613 f613 f613 f613 f613 f613 f613 f613 f613 f613 f613 f613 f613 f613 f613 f613 f613 f613 f613 f613 f613 f613 f613 f613 f613 f613 f613 f613 f613 f613 f613 f613 f613 f613 f613 f613 f613 f613 f613 f613 f613 f613 f613 f613 f613 f613 f613 f613 f613 f613 f613 f613 f613 f613 f613 f613 f613 f613 f613 f613 f613 f613 f613 f613 f613 f613 f613 f613 f613 f613 f613 f613 f613 f613 f613 f613 f613 f613 f613 f613 f613 f613 f613 f613 f613 f613 f613 f613 f613 f613 f613 f613 f613 f613 f613 f613 f613 f613 f613 f613 f613 f613 f613 f613 f613 f613 f613 f613 f613 f613 f613 f613 f613 f613 f613 f613 f613 f613 f613 f613 f613 f613 f613 f613 f613 f613 f613 f613 f613 f613 f613 f613 f613 f613 f613 f613 f613 f613 f613 f613 f613 f613 f613 f613 f613 f613 f613 f613 f613 f613 f613 f613 f613 f613 f613 f613 f613 f613 f613 f613 f613 f613 f613 f613 f613 f613 f613 f613 f613 f613 f613 f613 f613 f613 f613 f613 f613 f613 f613 f613 f613 f613 f613 f620 f620 f620 f620 f620 f620 f620 f620 f620 f620 f620 f620 f620 f620 f620 f620 f620 f620 f620 f620 f620 f620 f620 f620 f620 f620 f620 f620 f620 f620 f620 f620 f620 f620 f620 f620 f620 f620 f620 f620 f620 f620 f620 f620 f620 f620 f620 f620 f620 f620 f620 f620 f620 f620 f620 f620 f620 f620 f620 f620 f620 f620 f620 f620 f620 f620 f620 f620 f620 f620 f620 f620 f620 f620 f620 f620 f620 f620 f620 f620 f620 f620 f620 f620 f620 f620 f620 f620 f620 f620 f620 f620 f620 f620 f620 f620 f620 f620 f620 f620 f620 f620 f620 f620 f620 f620 f620 f620 f620 f620 f620 f620 f620 f620 f620 f620 f620 f620 f620 f620 f620 f620 f620 f620 f620 f620 f620 f620 f623 f623 f623 f623 f623 f623 f623 f623 f623 f623 f623 f623 f623 f623 f623 f623 f623 f623 f623 f623 f623 f623 f623 f623 f623 f623 f623 f623 f623 f623 f623 f623 f623 f623 f623 f623 f623 f623 f623 f623 f623 f623 f623 f623 f623 f623 f623 f623 f623 f623 f623 f623 f623 f623 f623 f623 f623 f623 f623 f623 f623 f623 f623 f623 f623 f623 f623 f623 f623 f623 f623 f623 f623 f623 f623 f623 f623 f623 f623 f623 f623 f623 f623 f623 f623 f623 f623 f623 f623 f623 f623 f623 f623 f623 f623 f623 f623 f623 f623 f623 f623 f623 f623 f623 f623 f623 f623 f623 f623 f623 f623 f623 f623 f623 f623 f623 f623 f623 f629 f629 f629 f629 f629 f629 f629 f629 f629 f629 f629 f629 f629 f629 f629 f629 f629 f629 f629 f629 f629 f629 f629 f629 f629 f629 f629 f629 f629 f629 f629 f629 f629 f629 f629 f629 f629 f629 f629 f629 f629 f629 f629 f629 f629 f629 f629 f629 f629 f629 f629 f629 f629 f629 f629 f629 f629 f629 f629 f629 f629 f629 f629 f629 f629 f629 f629 f629 f629 f629 f629 f629 f629 f629 f629 f629 f629 f629 f629 f629 f629 f629 f629 f629 f629 f629 f629 f629 f629 f629 f629 f629 f629 f629 f629 f629 f629 f629 f629 f629 f629 f629 f629 f629 f629 f629 f629 f629 f629 f629 f629 f629 f629 f629 f629 f629 f629 f629 f629 f629 f629 f629 f629 f629 f629 f629 f629 f629 f629 f629 f629 f629 f629 f629 f629 f629 f629 f629 f629 f629 f629 f629 f629 f629 f629 f629 f629 f629 f629 f629 f629 f629 f629 f629 f629 f629 f629 f629 f629 f629 f629 f629 f629 f629 f629 f629 f629 f629 f629 f629 f629 f629 f629 f629 f629 f629 f629 f629 f629 f629 f629 f629 f629 f629 f629 f629 f629 f629 f629 f629 f629 f629 f629 f629 f629 f629 f629 f629 f629 f629 f629 f629 f629 f629 f629 f629 f629 f629 f629 f629 f629 f629 f629 f629 f629 f629 f631 f631 f631 f631 f631 f631 f631 f631 f631 f631 f631 f631 f631 f631 f631 f631 f631 f631 f631 f631 f631 f631 f631 f631 f631 f631 f631 f631 f631 f631 f631 f631 f631 f631 f631 f631 f631 f631 f631 f631 f631 f631 f631 f631 f631 f631 f631 f631 f631 f631 f631 f631 f631 f631 f631 f631 f631 f631 f631 f631 f631 f631 f631 f631 f631 f631 f631 f631 f631 f631 f631 f631 f631 f631 f631 f631 f631 f631 f631 f631 f631 f631 f631 f631 f631 f631 f631 f631 f631 f631 f631 f631 f631 f631 f631 f631 f631 f631 f631 f631 f631 f631 f631 f631 f631 f631 f631 f631 f631 f631 f631 f631 f631 f631 f631 f631 f631 f631 f631 f631 f631 f631 f631 f631 f631 f631 f631 f631 f631 f631 f631 f631 f631 f631 f631 f631 f631 f631 f631 f631 f631 f631 f631 f631 f631 f631 f631 f631 f631 f631 f631 f631 f631 f631 f631 f631 f631 f631 f631 f631 f633 f633 f633 f633 f633 f633 f633 f633 f633 f633 f633 f633 f633 f633 f633 f633 f633 f633 f633 f633 f633 f633 f633 f633 f633 f633 f633 f633 f633 f633 f633 f633 f633 f633 f633 f633 f633 f633 f633 f633 f633 f633 f633 f633 f633 f633 f633 f633 f633 f633 f633 f633 f633 f633 f633 f633 f633 f633 f633 f633 f633 f633 f633 f633 f633 f633 f633 f633 f633 f633 f633 f633 f633 f633 f633 f633 f633 f633 f633 f633 f633 f633 f633 f633 f633 f633 f633 f633 f633 f633 f633 f633 f633 f633 f633 f633 f633 f633 f633 f633 f633 f633 f633 f633 f633 f633 f633 f633 f633 f633 f633 f633 f633 f633 f633 f633 f633 f633 f633 f633 f633 f633 f633 f633 f633 f633 f633 f633 f633 f633 f633 f633 f633 f633 f633 f633 f633 f633 f633 f633 f633 f633 f633 f633 f633 f633 f633 f633 f633 f633 f633 f633 f633 f633 f633 f633 f633 f633 f633 f633 f633 f633 f633 f633 f633 f633 f633 f633 f633 f633 f633 f633 f633 f633 f633 f633 f633 f633 f633 f633 f633 f633 f633 f633 f633 f633 f633 f633 f633 f633 f633 f633 f633 f633 f633 f633 f633 f633 f633 f633 f633 f633 f633 f633 f633 f633 f633 f633 f633 f633 f633 f635 f635 f635 f635 f635 f635 f635 f635 f635 f635 f635 f635 f635 f635 f635 f635 f635 f635 f635 f635 f635 f635 f635 f635 f635 f635 f635 f635 f635 f635 f635 f635 f635 f635 f635 f635 f635 f635 f635 f635 f635 f635 f635 f635 f635 f635 f635 f635 f635 f635 f635 f635 f635 f635 f635 f635 f635 f635 f635 f635 f635 f635 f635 f635 f635 f635 f635 f635 f635 f635 f635 f635 f635 f635 f635 f635 f635 f635 f635 f635 f635 f635 f635 f635 f635 f635 f635 f635 f635 f642 f642 f642 f642 f642 f642 f642 f642 f642 f642 f642 f642 f642 f642 f642 f642 f642 f642 f642 f642 f642 f642 f642 f642 f642 f642 f642 f642 f642 f642 f642 f642 f642 f642 f642 f642 f642 f642 f642 f642 f642 f642 f642 f642 f642 f642 f642 f642 f642 f642 f642 f642 f642 f642 f642 f642 f642 f642 f642 f648 f648 f648 f648 f648 f648 f648 f648 f648 f648 f648 f648 f648 f648 f648 f648 f648 f648 f648 f648 f648 f648 f648 f648 f648 f648 f648 f648 f648 f648 f648 f648 f648 f648 f648 f648 f648 f648 f648 f648 f648 f648 f648 f648 f648 f648 f648 f648 f648 f648 f648 f648 f648 f648 f648 f648 f648 f648 f648 f648 f648 f648 f648 f648 f648 f648 f648 f648 f648 f648 f648 f648 f648 f648 f648 f648 f648 f648 f648 f648 f648 f648 f648 f648 f648 f648 f648 f648 f648 f648 f648 f648 f648 f648 f648 f648 f648 f648 f648 f648 f648 f648 f648 f648 f648 f648 f648 f648 f648 f648 f648 f648 f648 f648 f648 f648 f648 f648 f648 f648 f648 f648 f648 f648 f648 f648 f648 f648 f648 f648 f648 f648 f648 f648 f648 f648 f648 f648 f648 f648 f648 f648 f648 f648 f658 f658 f658 f658 f658 f658 f658 f658 f658 f658 f658 f658 f658 f658 f658 f658 f658 f658 f658 f658 f658 f658 f658 f658 f658 f658 f658 f658 f658 f658 f658 f658 f658 f658 f658 f658 f658 f658 f658 f658 f658 f658 f658 f658 f658 f658 f658 f658 f658 f658 f658 f658 f658 f658 f658 f658 f658 f658 f658 f658 f658 f658 f658 f658 f658 f658 f658 f658 f658 f658 f658 f658 f658 f658 f658 f658 f658 f658 f658 f658 f658 f658 f658 f658 f658 f658 f658 f658 f658 f658 f658 f658 f658 f658 f658 f658 f658 f658 f658 f658 f658 f658 f658 f658 f658 f658 f658 f658 f658 f658 f658 f658 f658 f658 f658 f658 f658 f658 f658 f658 f658 f658 f658 f658 f658 f658 f658 f658 f658 f658 f658 f658 f658 f658 f658 f658 f658 f658 f658 f658 f658 f658 f658 f658 f658 f658 f658 f658 f658 f658 f658 f658 f658 f658 f658 f658 f658 f658 f658 f658 f658 f658 f658 f658 f658 f658 f658 f658 f658 f658 f658 f658 f658 f658 f658 f658 f658 f658 f658 f658 f658 f658 f658 f658 f658 f658 f658 f658 f658 f658 f658 f658 f658 f658 f658 f658 f658 f658 f658 f658 f658 f658 f658 f658 f658 f658 f658 f658 f658 f658 f658 f658 f658 f658 f658 f658 f658 f658 f658 f658 f658 f658 f658 f658 f658 f658 f658 f658 f658 f658 f658 f658 f658 f658 f658 f658 f658 f658 f658 f658 f658 f658 f658 f658 f658 f660 f660 f660 f660 f660 f660 f660 f660 f660 f660 f660 f660 f660 f660 f660 f660 f660 f660 f660 f660 f660 f660 f660 f660 f660 f660 f660 f660 f660 f660 f660 f660 f660 f660 f660 f660 f660 f660 f660 f660 f660 f660 f660 f660 f660 f660 f660 f660 f660 f660 f660 f660 f660 f660 f660 f660 f660 f660 f660 f660 f660 f660 f660 f660 f660 f660 f660 f660 f660 f660 f660 f660 f660 f660 f660 f660 f660 f660 f660 f660 f660 f660 f660 f660 f660 f660 f660 f660 f660 f660 f660 f660 f660 f660 f660 f660 f660 f660 f660 f660 f660 f660 f660 f660 f660 f660 f660 f660 f660 f660 f660 f660 f660 f660 f660 f660 f660 f660 f660 f660 f660 f660 f660 f660 f660 f660 f660 f660 f660 f660 f660 f660 f660 f660 f660 f660 f660 f660 f660 f660 f660 f660 f660 f660 f660 f660 f660 f660 f660 f660 f660 f660 f660 f660 f660 f660 f660 f660 f662 f662 f662 f662 f662 f662 f662 f662 f662 f662 f662 f662 f662 f662 f662 f662 f662 f662 f662 f662 f662 f662 f662 f662 f662 f662 f662 f662 f662 f662 f662 f662 f662 f662 f662 f662 f662 f662 f662 f662 f662 f662 f662 f662 f662 f662 f662 f662 f662 f662 f662 f662 f662 f662 f662 f662 f662 f662 f662 f662 f662 f662 f662 f662 f662 f662 f662 f662 f662 f662 f662 f662 f662 f662 f662 f662 f662 f662 f662 f662 f662 f662 f662 f662 f662 f662 f662 f662 f662 f662 f662 f662 f662 f662 f662 f662 f662 f662 f662 f662 f662 f662 f662 f662 f662 f662 f662 f662 f662 f662 f662 f662 f662 f662 f662 f662 f662 f662 f662 f662 f662 f662 f662 f662 f662 f662 f662 f662 f662 f662 f662 f662 f662 f662 f662 f662 f662 f662 f662 f662 f662 f662 f662 f662 f662 f662 f662 f662 f662 f662 f662 f662 f662 f662 f662 f662 f662 f662 f662 f662 f662 f662 f662 f662 f662 f662 f662 f662 f662 f662 f662 f662 f662 f662 f662 f662 f662 f662 f662 f662 f662 f662 f662 f662 f662 f662 f662 f662 f662 f662 f662 f662 f662 f662 f662 f662 f662 f662 f662 f662 f662 f662 f662 f662 f662 f662 f662 f662 f662 f662 f662 f662 f662 f662 f662 f662 f662 f662 f662 f662 f662 f662 f662 f662 f662 f662 f662 f662 f662 f662 f662 f662 f662 f662 f662 f662 f662 f662 f662 f672 f672 f672 f672 f672 f672 f672 f672 f672 f672 f672 f672 f672 f672 f672 f672 f672 f672 f672 f672 f672 f672 f672 f672 f672 f672 f672 f672 f672 f672 f672 f672 f672 f672 f672 f672 f672 f672 f672 f672 f672 f672 f672 f672 f672 f672 f672 f672 f672 f672 f672 f672 f672 f672 f672 f672 f672 f672 f672 f672 f672 f672 f672 f672 f672 f672 f672 f672 f672 f672 f672 f672 f672 f672 f672 f672 f672 f672 f672 f672 f672 f672 f672 f672 f674 f674 f677 f677 f677 f677 f677 f677 f677 f677 f677 f677 f677 f677 f677 f677 f677 f677 f677 f677 f677 f677 f677 f677 f677 f677 f677 f677 f677 f677 f677 f677 f677 f677 f677 f677 f677 f677 f677 f677 f677 f677 f677 f677 f677 f677 f677 f677 f677 f677 f677 f677 f677 f677 f677 f677 f677 f677 f677 f677 f677 f677 f677 f677 f677 f677 f677 f677 f677 f677 f677 f677 f677 f677 f677 f677 f677 f677 f677 f677 f677 f677 f677 f677 f677 f677 f677 f677 f677 f677 f677 f677 f677 f677 f677 f677 f677 f677 f677 f677 f679 f679 f679 f679 f679 f679 f679 f679 f679 f679 f679 f679 f679 f679 f679 f679 f679 f679 f679 f679 f679 f679 f679 f679 f679 f679 f679 f679 f679 f679 f679 f679 f679 f679 f679 f679 f679 f679 f679 f679 f679 f679 f679 f679 f679 f679 f679 f679 f679 f679 f679 f679 f679 f679 f679 f679 f679 f679 f679 f679 f679 f679 f679 f679 f679 f679 f679 f679 f679 f679 f679 f679 f679 f679 f679 f679 f679 f679 f679 f679 f679 f679 f679 f679 f679 f679 f679 f679 f679 f679 f679 f679 f679 f679 f679 f679 f679 f679 f679 f679 f679 f679 f679 f679 f683 f683 f683 f683 f683 f683 f683 f683 f683 f683 f683 f683 f683 f683 f683 f683 f683 f683 f683 f683 f683 f683 f683 f683 f683 f683 f683 f683 f683 f683 f683 f683 f683 f683 f683 f683 f683 f683 f683 f683 f683 f683 f683 f683 f683 f683 f683 f683 f683 f683 f683 f683 f683 f683 f683 f683 f683 f683 f683 f683 f683 f683 f683 f683 f683 f683 f683 f683 f683 f683 f683 f683 f683 f683 f683 f683 f683 f683 f683 f683 f683 f683 f683 f683 f683 f683 f683 f683 f683 f683 f683 f683 f683 f683 f683 f683 f683 f683 f683 f683 f683 f683 f683 f683 f683 f683 f683 f683 f683 f683 f683 f683 f683 f683 f683 f683 f683 f683 f683 f683 f683 f683 f683 f683 f683 f683 f683 f683 f683 f683 f683 f683 f683 f683 f683 f683 f683 f683 f683 f683 f683 f683 f683 f683 f683 f683 f683 f683 f683 f683 f683 f683 f683 f683 f683 f683 f683 f683 f683 f683 f683 f683 f683 f683 f683 f683 f683 f683 f683 f683 f683 f683 f683 f683 f683 f683 f683 f683 f683 f683 f683 f683 f683 f683 f683 f683 f683 f683 f683 f683 f683 f683 f683 f683 f683 f683 f683 f683 f683 f683 f683 f683 f683 f683 f683 f683 f683 f683 f683 f683 f683 f683 f683 f683 f683 f683 f683 f683 f683 f683 f686 f686 f686 f686 f686 f686 f686 f686 f686 f686 f686 f686 f686 f686 f686 f686 f686 f686 f686 f686 f686 f686 f686 f686 f686 f686 f686 f686 f686 f686 f686 f686 f686 f686 f686 f686 f686 f686 f686 f686 f686 f686 f686 f686 f686 f686 f686 f686 f686 f686 f686 f686 f686 f686 f686 f686 f686 f686 f686 f686 f686 f686 f686 f686 f686 f686 f686 f686 f686 f686 f686 f686 f686 f686 f686 f686 f686 f686 f686 f686 f686 f686 f686 f686 f686 f686 f690 f690 f690 f690 f690 f690 f690 f690 f690 f690 f690 f690 f690 f690 f690 f690 f690 f690 f690 f690 f690 f690 f690 f690 f690 f690 f690 f690 f690 f690 f690 f690 f690 f690 f690 f690 f690 f690 f690 f690 f690 f690 f690 f690 f690 f690 f690 f690 f690 f690 f690 f690 f690 f690 f690 f690 f690 f690 f690 f690 f690 f690 f690 f690 f690 f690 f690 f690 f690 f690 f690 f690 f690 f690 f690 f690 f690 f690 f690 f690 f690 f690 f690 f690 f690 f690 f690 f690 f690 f690 f690 f690 f690 f690 f690 f690 f690 f690 f690 f690 f690 f690 f690 f690 f690 f690 f690 f690 f690 f690 f690 f690 f690 f690 f690 f690 f690 f690 f690 f690 f690 f690 f690 f690 f690 f690 f690 f690 f690 f690 f690 f690 f690 f690 f690 f690 f690 f690 f690 f690 f690 f690 f690 f690 f690 f690 f690 f690 f690 f690 f690 f690 f690 f690 f690 f690 f690 f690 f690 f690 f690 f690 f690 f690 f690 f690 f690 f690 f690 f690 f690 f690 f690 f690 f690 f690 f690 f690 f690 f690 f690 f690 f690 f690 f690 f690 f690 f690 f690 f690 f690 f690 f690 f690 f690 f691 f691 f691 f691 f691 f691 f691 f691 f691 f691 f691 f691 f691 f691 f691 f691 f691 f691 f691 f691 f691 f691 f691 f691 f691 f691 f691 f691 f691 f691 f691 f691 f691 f691 f691 f691 f691 f691 f691 f691 f691 f691 f691 f691 f691 f691 f691 f691 f691 f691 f691 f691 f691 f691 f691 f691 f691 f691 f691 f691 f691 f691 f691 f691 f691 f691 f691 f691 f691 f691 f691 f691 f691 f691 f691 f691 f691 f691 f691 f691 f691 f691 f691 f691 f691 f691 f691 f691 f691 f691 f691 f691 f691 f691 f691 f691 f691 f691 f691 f691 f691 f691 f691 f691 f691 f691 f691 f691 f691 f691 f691 f691 f691 f691 f691 f691 f691 f691 f691 f691 f691 f691 f691 f691 f691 f691 f691 f691 f691 f691 f691 f691 f691 f691 f691 f691 f691 f691 f691 f691 f691 f691 f691 f691 f691 f691 f691 f691 f691 f691 f691 f691 f691 f691 f691 f691 f691 f691 f691 f691 f691 f691 f691 f691 f691 f691 f691 f691 f691 f691 f691 f691 f691 f691 f691 f691 f691 f691 f691 f691 f691 f691 f691 f691 f691 f691 f691 f691 f691 f691 f691 f691 f691 f691 f691 f691 f691 f691 f691 f691 f691 f691 f691 f691 f691 f691 f691 f691 f695 f695 f695 f695 f695 f695 f695 f695 f695 f695 f695 f695 f695 f695 f695 f695 f695 f695 f695 f695 f695 f695 f695 f695 f695 f695 f695 f695 f695 f695 f695 f695 f695 f695 f695 f695 f695 f695 f695 f695 f695 f695 f695 f695 f695 f695 f695 f695 f695 f695 f695 f695 f695 f695 f695 f695 f695 f695 f695 f695 f695 f695 f695 f695 f695 f695 f695 f695 f695 f695 f695 f695 f695 f695 f695 f695 f695 f695 f695 f695 f695 f695 f695 f695 f695 f695 f695 f695 f695 f695 f695 f695 f695 f695 f695 f695 f695 f695 f695 f695 f695 f695 f695 f695 f695 f695 f695 f695 f695 f695 f695 f695 f695 f695 f695 f695 f695 f695 f695 f695 f695 f695 f695 f695 f695 f695 f695 f695 f695 f695 f695 f695 f695 f695 f695 f695 f695 f695 f695 f695 f695 f695 f695 f695 f695 f695 f695 f695 f695 f695 f695 f695 f695 f695 f695 f695 f695 f695 f695 f695 f695 f695 f695 f695 f695 f695 f695 f695 f695 f695 f695 f695 f695 f695 f695 f695 f695 f695 f695 f698 f698 f698 f698 f698 f698 f698 f698 f698 f698 f698 f698 f698 f698 f698 f698 f698 f698 f698 f698 f698 f698 f698 f698 f698 f698 f698 f698 f698 f698 f698 f698 f698 f698 f698 f698 f698 f698 f698 f698 f698 f698 f698 f698 f698 f698 f698 f698 f698 f698 f698 f698 f698 f698 f698 f698 f698 f698 f698 f698 f698 f698 f698 f698 f698 f698 f698 f698 f698 f698 f698 f698 f698 f698 f698 f698 f698 f698 f698 f698 f698 f698 f698 f698 f698 f698 f698 f698 f698 f698 f698 f698 f698 f698 f698 f698 f698 f698 f698 f698 f698 f698 f698 f698 f698 f698 f698 f698 f698 f698 f698 f698 f698 f698 f698 f698 f698 f698 f698 f698 f698 f698 f698 f698 f698 f698 f698 f698 f698 f698 f698 f698 f698 f698 f698 f698 f698 f698 f698 f698 f698 f698 f698 f698 f698 f698 f698 f698 f698 f698 f698 f698 f698 f698 f698 f698 f698 f698 f698 f698 f698 f698 f698 f698 f698 f698 f698 f698 f698 f698 f698 f698 f698 f698 f698 f698 f698 f698 f698 f698 f698 f698 f698 f698 f698 f698 f698 f698 f698 f698 f698 f698 f698 f698 f698 f698 f698 f698 f698 f698 f698 f698 f698 f698 f698 f698 f698 f698 f698 f698 f698 f698 f698 f698 f698 f698 f698 f698 f698 f698 f698 f698 f698 f698 f698 f698 f698 f698 f698 f710 f710 f710 f710 f710 f710 f710 f710 f710 f710 f710 f710 f710 f710 f710 f710 f710 f710 f710 f710 f711 f711 f711 f711 f711 f711 f711 f711 f711 f711 f711 f711 f711 f711 f711 f711 f711 f711 f711 f711 f711 f711 f711 f711 f711 f711 f711 f711 f711 f711 f711 f711 f711 f711 f711 f711 f711 f711 f711 f711 f711 f711 f711 f711 f711 f711 f711 f711 f711 f711 f711 f711 f711 f711 f711 f711 f711 f711 f711 f711 f711 f711 f711 f711 f711 f711 f711 f711 f711 f711 f711 f711 f711 f711 f711 f711 f711 f711 f711 f711 f711 f711 f711 f711 f711 f711 f711 f711 f711 f711 f711 f711 f711 f711 f711 f711 f711 f711 f711 f711 f711 f711 f711 f711 f711 f711 f711 f711 f711 f711 f711 f711 f711 f711 f711 f711 f711 f711 f711 f711 f711 f711 f711 f711 f711 f711 f711 f711 f711 f711 f711 f711 f711 f711 f711 f711 f711 f711 f711 f711 f711 f711 f711 f711 f711 f711 f711 f711 f711 f711 f711 f711 f711 f711 f711 f711 f711 f711 f711 f711 f711 f711 f711 f711 f711 f711 f711 f711 f711 f711 f711 f711 f711 f711 f711 f711 f711 f711 f711 f711 f711 f712 f712 f712 f712 f712 f712 f712 f712 f712 f712 f712 f712 f712 f712 f712 f712 f712 f712 f712 f712 f712 f712 f712 f712 f712 f712 f712 f712 f712 f712 f712 f712 f712 f712 f712 f712 f729 f729 f729 f729 f729 f729 f729 f729 f729 f729 f729 f729 f729 f729 f729 f729 f729 f729 f729 f729 f729 f729 f729 f729 f729 f729 f729 f729 f729 f729 f729 f729 f729 f729 f729 f729 f729 f729 f729 f729 f729 f729 f729 f729 f729 f729 f729 f729 f729 f729 f729 f729 f729 f729 f729 f729 f729 f729 f729 f729 f729 f729 f729 f729 f729 f729 f729 f729 f729 f729 f729 f729 f729 f729 f729 f729 f729 f729 f729 f729 f729 f729 f729 f729 f729 f729 f729 f729 f729 f729 f729 f729 f729 f729 f729 f729 f729 f729 f729 f729 f729 f729 f729 f729 f729 f729 f729 f729 f729 f729 f729 f729 f729 f729 f729 f729 f729 f729 f729 f729 f729 f729 f729 f729 f729 f729 f729 f729 f729 f729 f729 f729 f729 f729 f729 f729 f729 f729 f729 f729 f729 f729 f729 f729 f729 f729 f729 f729 f729 f729 f729 f729 f729 f729 f729 f729 f729 f729 f729 f729 f729 f729 f729 f729 f729 f729 f729 f729 f729 f729 f729 f729 f729 f729 f729 f729 f729 f729 f729 f729 f729 f729 f729 f730 f730 f730 f730 f730 f730 f730 f730 f730 f730 f730 f730 f730 f730 f730 f730 f730 f730 f730 f730 f730 f730 f730 f730 f730 f730 f730 f730 f730 f730 f730 f730 f730 f730 f730 f730 f730 f730 f730 f730 f730 f730 f730 f730 f730 f730 f730 f730 f730 f730 f730 f730 f730 f730 f730 f730 f730 f730 f730 f730 f730 f730 f730 f730 f730 f730 f730 f730 f730 f730 f730 f730 f730 f730 f730 f730 f730 f730 f730 f730 f730 f730 f730 f730 f730 f730 f730 f730 f730 f730 f730 f730 f730 f730 f730 f730 f730 f730 f730 f730 f730 f731 f731 f731 f731 f731 f731 f731 f731 f731 f731 f731 f731 f731 f731 f731 f731 f731 f731 f731 f731 f731 f731 f731 f731 f731 f731 f731 f731 f731 f731 f731 f731 f731 f731 f731 f731 f731 f731 f731 f731 f731 f731 f731 f731 f731 f731 f731 f731 f731 f731 f731 f731 f731 f731 f731 f731 f731 f731 f731 f731 f731 f731 f731 f731 f731 f731 f731 f731 f731 f731 f731 f731 f731 f731 f731 f731 f731 f731 f731 f731 f731 f731 f731 f731 f731 f731 f731 f731 f731 f731 f731 f731 f731 f731 f731 f731 f731 f731 f731 f731 f731 f731 f731 f731 f731 f731 f731 f731 f731 f731 f731 f731 f731 f731 f731 f731 f731 f731 f731 f731 f731 f731 f731 f731 f731 f731 f731 f731 f731 f733 f733 f733 f733 f733 f733 f733 f733 f733 f733 f733 f733 f733 f733 f733 f733 f733 f733 f733 f733 f733 f733 f733 f733 f733 f733 f733 f733 f733 f733 f733 f733 f733 f733 f733 f733 f733 f733 f733 f733 f733 f733 f733 f733 f733 f733 f733 f733 f733 f733 f733 f733 f733 f733 f733 f733 f733 f733 f733 f733 f733 f733 f733 f733 f733 f733 f733 f733 f733 f733 f733 f733 f733 f733 f733 f733 f733 f733 f733 f733 f733 f733 f733 f733 f733 f733 f733 f733 f733 f733 f733 f733 f733 f733 f733 f733 f733 f733 f733 f733 f733 f733 f733 f733 f733 f733 f733 f733 f733 f733 f733 f733 f733 f733 f733 f733 f733 f733 f733 f733 f733 f733 f733 f733 f733 f733 f733 f733 f733 f733 f733 f733 f733 f733 f733 f733 f733 f733 f733 f733 f735 f735 f735 f735 f735 f735 f735 f735 f735 f735 f735 f735 f735 f735 f735 f735 f735 f735 f735 f735 f735 f735 f735 f735 f735 f735 f735 f735 f735 f735 f735 f735 f735 f735 f735 f735 f735 f735 f735 f735 f735 f735 f735 f735 f735 f735 f735 f735 f735 f735 f735 f735 f735 f735 f735 f735 f735 f735 f735 f735 f735 f735 f735 f735 f735 f735 f735 f735 f735 f735 f735 f735 f735 f735 f735 f735 f735 f735 f735 f735 f735 f735 f735 f735 f735 f735 f735 f735 f735 f735 f735 f735 f735 f735 f735 f735 f735 f735 f735 f735 f735 f735 f735 f735 f735 f735 f735 f735 f735 f735 f735 f735 f735 f735 f735 f735 f735 f735 f735 f735 f735 f735 f735 f735 f735 f735 f735 f735 f735 f735 f735 f735 f735 f735 f735 f735 f735 f735 f735 f735 f735 f735 f735 f735 f735 f735 f735 f735 f735 f735 f735 f735 f735 f735 f735 f735 f735 f735 f735 f735 f735 f735 f735 f735 f735 f735 f735 f735 f735 f735 f735 f735 f735 f735 f735 f735 f735 f735 f735 f735 f735 f735 f735 f735 f735 f735 f735 f735 f735 f735 f735 f735 f735 f735 f735 f735 f735 f735 f735 f735 f735 f735 f735 f735 f735 f735 f735 f735 f735 f735 f735 f735 f735 f735 f735 f735 f735 f735 f735 f735 f735 f735 f735 f735 f735 f735 f735 f735 f735 f735 f735 f735 f735 f735 f735 f735 f735 f735 f735 f735 f735 f735 f737 f737 f737 f737 f737 f737 f737 f737 f737 f737 f737 f737 f737 f737 f737 f737 f737 f737 f737 f737 f737 f737 f737 f737 f737 f737 f737 f737 f737 f737 f737 f737 f737 f737 f737 f737 f737 f737 f737 f737 f737 f737 f737 f737 f737 f737 f737 f737 f737 f737 f737 f737 f737 f737 f737 f737 f737 f737 f737 f737 f737 f737 f737 f737 f737 f737 f737 f737 f737 f737 f737 f737 f737 f737 f737 f737 f737 f737 f737 f737 f737 f737 f737 f737 f737 f737 f737 f737 f737 f737 f737 f737 f737 f737 f737 f737 f737 f737 f737 f737 f750 f750 f750 f750 f750 f750 f750 f750 f750 f750 f750 f750 f750 f750 f750 f750 f750 f750 f750 f750 f750 f750 f750 f750 f750 f750 f750 f750 f750 f750 f750 f750 f750 f750 f750 f750 f750 f750 f750 f750 f752 f752 f752 f752 f752 f752 f752 f752 f752 f752 f752 f752 f752 f752 f752 f752 f752 f752 f752 f752 f752 f752 f752 f752 f752 f752 f752 f752 f752 f752 f752 f752 f752 f752 f752 f752 f752 f752 f752 f752 f752 f752 f752 f752 f752 f752 f752 f752 f752 f752 f752 f752 f752 f752 f752 f752 f752 f752 f752 f752 f752 f752 f752 f752 f752 f752 f752 f752 f752 f752 f752 f752 f752 f752 f752 f752 f752 f752 f752 f752 f752 f752 f752 f752 f752 f752 f752 f752 f752 f752 f752 f752 f752 f752 f752 f752 f752 f752 f752 f752 f752 f752 f752 f752 f752 f752 f752 f752 f752 f752 f752 f752 f752 f752 f752 f752 f755 f755 f755 f755 f755 f755 f755 f755 f755 f755 f755 f755 f755 f755 f755 f755 f755 f755 f755 f755 f755 f755 f755 f755 f755 f755 f755 f755 f755 f755 f755 f755 f755 f755 f755 f755 f755 f755 f755 f755 f755 f755 f755 f755 f755 f755 f755 f755 f755 f755 f755 f755 f755 f755 f755 f755 f755 f755 f755 f755 f755 f755 f755 f755 f755 f755 f755 f755 f755 f755 f755 f755 f755 f755 f755 f755 f755 f755 f755 f755 f755 f755 f755 f755 f755 f755 f755 f755 f755 f755 f755 f755 f755 f755 f755 f755 f755 f755 f755 f755 f755 f755 f755 f755 f755 f755 f755 f755 f755 f755 f755 f755 f755 f755 f755 f755 f755 f755 f755 f755 f755 f755 f755 f755 f755 f755 f755 f755 f755 f755 f755 f755 f755 f755 f755 f755 f755 f755 f755 f755 f755 f755 f755 f755 f755 f755 f755 f755 f755 f755 f755 f755 f755 f755 f755 f755 f755 f755 f755 f755 f755 f755 f755 f755 f755 f755 f755 f755 f755 f755 f755 f755 f755 f755 f755 f755 f755 f755 f755 f755 f755 f755 f755 f755 f755 f755 f755 f755 f755 f755 f755 f755 f755 f755 f755 f755 f755 f755 f755 f755 f755 f755 f755 f755 f755 f759 f759 f759 f759 f759 f759 f759 f759 f759 f759 f759 f759 f759 f759 f759 f759 f759 f759 f759 f759 f759 f759 f759 f759 f759 f759 f759 f759 f759 f759 f759 f759 f759 f759 f759 f759 f759 f759 f759 f759 f759 f759 f759 f759 f759 f759 f759 f759 f759 f759 f759 f759 f759 f759 f759 f759 f759 f759 f759 f759 f759 f759 f759 f759 f759 f759 f759 f759 f759 f759 f759 f759 f759 f759 f759 f759 f759 f759 f759 f759 f759 f759 f759 f759 f759 f759 f759 f759 f759 f759 f759 f759 f759 f759 f759 f759 f759 f759 f759 f759 f759 f759 f759 f759 f759 f759 f759 f759 f759 f759 f759 f759 f759 f759 f759 f759 f759 f759 f759 f759 f759 f759 f759 f759 f759 f759 f759 f759 f759 f759 f759 f759 f759 f759 f759 f759 f759 f759 f759 f759 f759 f759 f759 f759 f759 f759 f759 f759 f759 f759 f759 f759 f759 f759 f759 f759 f759 f759 f759 f759 f759 f759 f759 f759 f759 f759 f759 f759 f759 f759 f759 f759 f759 f759 f759 f759 f759 f759 f759 f759 f759 f759 f759 f759 f759 f759 f759 f759 f759 f759 f759 f759 f759 f759 f759 f759 f759 f759 f759 f759 f759 f759 f759 f759 f759 f759 f759 f759 f759 f759 f759 f759 f759 f759 f759 f759 f759 f759 f759 f759 f759 f759 f759 f759 f759 f759 f759 f759 f759 f759 f759 f759 f759 f761 f761 f761 f761 f761 f761 f761 f761 f761 f761 f761 f761 f761 f761 f761 f761 f761 f761 f761 f761 f761 f761 f761 f761 f761 f761 f761 f761 f761 f761 f761 f761 f761 f761 f761 f761 f761 f761 f761 f761 f761 f761 f761 f761 f761 f761 f761 f761 f761 f761 f761 f761 f761 f761 f761 f761 f761 f761 f761 f761 f761 f761 f761 f761 f761 f761 f761 f761 f761 f761 f761 f761 f761 f761 f761 f761 f761 f761 f761 f761 f761 f761 f761 f761 f761 f761 f761 f761 f762 f762 f762 f762 f762 f762 f762 f762 f762 f762 f762 f762 f762 f762 f762 f762 f762 f762 f762 f762 f762 f762 f762 f762 f762 f762 f762 f762 f762 f762 f762 f762 f762 f762 f762 f762 f762 f762 f762 f762 f762 f762 f762 f762 f762 f762 f762 f762 f762 f762 f762 f762 f762 f762 f762 f762 f762 f762 f762 f762 f762 f762 f770 f770 f770 f770 f770 f770 f770 f770 f770 f770 f770 f770 f770 f770 f770 f770 f770 f770 f770 f770 f770 f770 f770 f770 f770 f770 f770 f770 f770 f770 f770 f770 f770 f770 f770 f770 f770 f770 f770 f770 f770 f770 f770 f770 f770 f770 f770 f770 f770 f770 f770 f770 f770 f770 f770 f770 f770 f770 f770 f770 f770 f770 f770 f770 f770 f770 f770 f770 f770 f770 f770 f770 f770 f770 f770 f770 f772 f772 f772 f772 f772 f772 f772 f772 f772 f772 f772 f772 f772 f772 f772 f772 f772 f772 f772 f772 f772 f772 f772 f772 f772 f772 f772 f772 f772 f772 f772 f772 f772 f772 f772 f772 f772 f772 f772 f772 f772 f772 f772 f772 f772 f772 f772 f772 f772 f772 f772 f772 f772 f772 f772 f772 f772 f772 f772 f772 f772 f772 f772 f772 f772 f772 f772 f772 f772 f772 f772 f772 f772 f772 f772 f772 f772 f772 f772 f772 f772 f772 f772 f772 f772 f772 f772 f772 f772 f772 f772 f772 f772 f778 f778 f778 f778 f778 f778 f778 f778 f778 f778 f778 f778 f778 f778 f778 f778 f778 f778 f778 f778 f778 f778 f778 f778 f778 f778 f778 f778 f778 f778 f778 f778 f778 f778 f778 f778 f778 f778 f778 f778 f778 f778 f778 f778 f783 f783 f783 f783 f783 f783 f783 f783 f783 f783 f783 f783 f783 f783 f783 f783 f783 f783 f783 f783 f783 f783 f783 f783 f783 f783 f783 f783 f783 f783 f783 f783 f783 f783 f783 f783 f783 f783 f783 f783 f783 f783 f783 f783 f783 f783 f783 f784 f784 f784 f784 f784 f784 f784 f784 f784 f784 f784 f784 f784 f784 f784 f784 f784 f784 f784 f784 f784 f784 f784 f784 f784 f784 f784 f784 f784 f784 f784 f784 f784 f784 f784 f784 f784 f784 f784 f784 f784 f784 f784 f784 f784 f784 f784 f784 f784 f784 f784 f784 f784 f784 f784 f784 f784 f784 f784 f784 f784 f784 f784 f784 f784 f784 f784 f784 f784 f784 f784 f784 f784 f784 f784 f784 f784 f784 f784 f784 f784 f784 f784 f784 f784 f784 f784 f784 f784 f784 f784 f784 f784 f784 f784 f784 f784 f784 f784 f784 f784 f784 f784 f784 f784 f784 f784 f784 f784 f784 f784 f784 f784 f784 f784 f784 f784 f784 f784 f784 f784 f784 f784 f784 f784 f784 f784 f784 f784 f784 f784 f784 f784 f784 f784 f784 f784 f784 f784 f784 f784 f784 f784 f784 f784 f784 f784 f784 f784 f784 f784 f784 f784 f784 f784 f784 f784 f784 f784 f784 f784 f793 f793 f793 f793 f793 f793 f793 f793 f793 f793 f793 f793 f793 f793 f793 f793 f793 f793 f793 f793 f793 f793 f793 f793 f793 f793 f793 f793 f793 f793 f793 f793 f793 f793 f793 f793 f793 f793 f793 f793 f793 f793 f793 f793 f793 f793 f793 f793 f793 f793 f793 f793 f793 f793 f793 f793 f793 f793 f793 f793 f793 f793 f793 f793 f793 f793 f793 f793 f793 f793 f793 f793 f793 f793 f793 f793 f793 f793 f793 f793 f793 f793 f793 f793 f793 f793 f793 f793 f793 f793 f793 f793 f793 f793 f793 f793 f793 f793 f793 f793 f793 f793 f793 f793 f793 f793 f793 f793 f793 f793 f793 f793 f793 f793 f793 f793 f793 f793 f793 f793 f793 f793 f793 f793 f793 f793 f793 f793 f793 f793 f793 f793 f793 f793 f793 f793 f793 f793 f793 f793 f793 f793 f793 f793 f793 f793 f793 f793 f793 f793 f793 f793 f793 f793 f793 f793 f793 f793 f793 f793 f793 f793 f793 f793 f793 f793 f793 f793 f793 f793 f793 f793 f793 f793 f793 f793 f793 f793 f793 f793 f793 f793 f793 f793 f793 f801 f801 f801 f801 f801 f802 f802 f802 f802 f802 f802 f802 f802 f802 f802 f802 f802 f802 f802 f802 f802 f802 f802 f802 f802 f802 f802 f802 f802 f802 f802 f802 f802 f802 f802 f802 f802 f802 f802 f802 f802 f802 f802 f802 f802 f802 f802 f802 f802 f802 f802 f802 f802 f802 f802 f802 f802 f802 f802 f802 f802 f802 f802 f802 f802 f802 f802 f802 f802 f802 f802 f802 f802 f802 f802 f802 f802 f802 f802 f802 f802 f802 f802 f802 f802 f802 f802 f802 f802 f802 f802 f802 f802 f802 f802 f802 f802 f802 f802 f802 f802 f802 f802 f802 f802 f802 f802 f802 f802 f802 f802 f802 f802 f802 f802 f802 f802 f802 f802 f802 f802 f802 f802 f802 f802 f802 f802 f802 f802 f802 f802 f802 f802 f802 f802 f802 f802 f802 f802 f808 f808 f808 f808 f808 f808 f808 f808 f808 f808 f808 f808 f808 f808 f808 f808 f808 f808 f808 f808 f808 f808 f808 f808 f808 f808 f808 f808 f808 f808 f808 f808 f808 f808 f808 f808 f808 f808 f808 f808 f808 f808 f808 f808 f808 f808 f808 f808 f808 f808 f808 f808 f808 f810 f810 f810 f810 f810 f810 f810 f810 f810 f810 f810 f810 f810 f810 f810 f810 f810 f810 f810 f810 f810 f810 f810 f810 f810 f810 f810 f810 f810 f810 f810 f810 f810 f810 f810 f810 f810 f810 f810 f810 f810 f810 f810 f810 f810 f810 f810 f810 f810 f810 f810 f810 f810 f810 f810 f810 f810 f810 f810 f810 f810 f810 f810 f810 f810 f810 f810 f810 f810 f810 f810 f810 f810 f810 f810 f810 f810 f810 f810 f810 f810 f810 f810 f810 f810 f810 f810 f810 f810 f810 f810 f810 f810 f810 f810 f810 f810 f810 f810 f810 f810 f810 f810 f810 f810 f810 f810 f810 f810 f810 f810 f813 f813 f813 f813 f813 f813 f813 f813 f813 f813 f813 f813 f813 f813 f813 f813 f813 f813 f813 f813 f813 f813 f813 f813 f813 f813 f813 f813 f813 f813 f813 f813 f813 f813 f813 f813 f813 f813 f813 f813 f813 f813 f813 f813 f813 f813 f813 f813 f813 f813 f813 f813 f813 f813 f813 f813 f813 f813 f813 f813 f813 f813 f813 f813 f813 f813 f813 f813 f813 f813 f813 f813 f813 f813 f813 f813 f813 f813 f813 f813 f813 f813 f813 f813 f813 f813 f813 f813 f813 f813 f813 f813 f813 f813 f813 f813 f813 f813 f813 f813 f813 f813 f813 f813 f813 f813 f813 f813 f813 f813 f813 f813 f813 f813 f813 f813 f813 f813 f813 f813 f813 f813 f813 f813 f813 f813 f813 f813 f813 f813 f813 f813 f813 f813 f813 f813 f813 f813 f813 f813 f813 f813 f813 f813 f813 f813 f813 f813 f813 f813 f813 f813 f813 f813 f813 f813 f813 f813 f813 f813 f813 f813 f813 f813 f813 f813 f813 f813 f813 f813 f813 f813 f813 f813 f813 f813 f813 f813 f813 f813 f813 f813 f813 f813 f813 f813 f813 f813 f813 f813 f813 f813 f813 f813 f813 f813 f813 f813 f813 f813 f813 f813 f813 f813 f814 f814 f814 f814 f814 f814 f814 f814 f814 f814 f814 f814 f814 f814 f814 f814 f814 f814 f814 f814 f814 f814 f814 f814 f814 f814 f814 f814 f814 f814 f814 f814 f814 f814 f814 f814 f814 f814 f814 f814 f814 f814 f814 f814 f814 f814 f814 f814 f814 f814 f814 f814 f814 f814 f814 f814 f814 f814 f814 f814 f814 f814 f814 f814 f814 f814 f814 f814 f814 f814 f814 f814 f814 f814 f814 f814 f814 f814 f814 f814 f814 f814 f814 f814 f814 f814 f814 f814 f814 f814 f814 f814 f814 f814 f814 f814 f814 f814 f814 f814 f814 f814 f814 f814 f814 f814 f814 f814 f814 f814 f814 f814 f814 f814 f814 f814 f814 f814 f814 f814 f814 f814 f814 f814 f814 f814 f814 f814 f814 f814 f814 f814 f814 f814 f814 f814 f814 f814 f814 f814 f814 f814 f814 f814 f814 f814 f814 f814 f814 f814 f814 f814 f814 f814 f814 f814 f814 f814 f814 f814 f814 f814 f814 f814 f814 f814 f814 f814 f814 f814 f814 f814 f814 f814 f814 f814 f814 f814 f814 f814 f814 f814 f814 f814 f815 f815 f815 f815 f815 f815 f815 f815 f815 f815 f815 f815 f815 f815 f815 f815 f815 f815 f815 f815 f815 f815 f815 f815 f815 f815 f815 f815 f815 f815 f815 f815 f815 f815 f815 f815 f815 f815 f815 f815 f815 f815 f815 f815 f815 f815 f815 f815 f815 f815 f815 f815 f815 f815 f815 f815 f815 f815 f815 f815 f815 f815 f815 f815 f815 f815 f815 f815 f815 f815 f815 f815 f815 f815 f815 f815 f815 f815 f815 f815 f815 f815 f815 f815 f815 f815 f815 f815 f815 f815 f815 f815 f815 f815 f815 f815 f815 f815 f815 f815 f815 f815 f815 f815 f815 f815 f815 f815 f815 f815 f815 f815 f815 f815 f815 f815 f815 f815 f815 f815 f815 f815 f815 f815 f815 f815 f815 f815 f815 f815 f815 f815 f815 f815 f815 f815 f815 f815 f815 f815 f815 f815 f815 f815 f815 f815 f815 f815 f815 f815 f815 f815 f815 f815 f815 f815 f815 f815 f815 f815 f815 f815 f815 f815 f815 f815 f828 f828 f828 f828 f828 f828 f828 f828 f828 f828 f828 f828 f828 f828 f828 f828 f828 f828 f828 f828 f828 f828 f828 f828 f828 f828 f828 f828 f828 f828 f828 f828 f828 f828 f828 f828 f828 f828 f828 f828 f828 f828 f828 f828 f828 f828 f828 f828 f828 f828 f828 f828 f828 f828 f828 f828 f828 f828 f828 f828 f828 f828 f828 f828 f828 f828 f828 f828 f828 f828 f828 f828 f828 f828 f828 f828 f828 f828 f828 f828 f828 f828 f828 f828 f828 f828 f828 f828 f828 f828 f828 f828 f828 f828 f828 f828 f828 f828 f828 f828 f828 f828 f828 f828 f828 f828 f828 f828 f828 f828 f828 f828 f828 f828 f828 f828 f828 f828 f828 f828 f828 f828 f828 f828 f828 f828 f828 f828 f828 f828 f828 f828 f828 f828 f828 f828 f828 f828 f828 f828 f828 f828 f828 f828 f828 f828 f828 f828 f828 f828 f828 f828 f828 f828 f828 f828 f828 f828 f828 f828 f828 f828 f828 f828 f828 f828 f828 f828 f828 f828 f828 f828 f828 f828 f828 f828 f828 f828 f828 f828 f828 f828 f828 f828 f828 f828 f828 f828 f828 f828 f828 f828 f828 f828 f828 f828 f828 f828 f828 f828 f828 f828 f828 f828 f828 f828 f828 f828 f828 f828 f828 f828 f828 f828 f828 f828 f828 f828 f828 f828 f828 f828 f828 f828 f828 f828 f828 f828 f828 f828 f828 f828 f828 f828 f828 f828 f828 f828 f828 f828 f832 f832 f832 f832 f832 f832 f832 f832 f832 f832 f832 f832 f832 f832 f832 f832 f832 f832 f832 f832 f832 f832 f832 f832 f832 f832 f832 f832 f832 f832 f832 f832 f832 f832 f832 f832 f832 f832 f832 f832 f832 f832 f832 f832 f832 f832 f832 f832 f832 f832 f832 f832 f832 f832 f832 f832 f832 f832 f832 f832 f832 f832 f832 f832 f832 f832 f832 f832 f832 f832 f832 f832 f832 f832 f832 f832 f832 f832 f832 f833 f833 f833 f833 f833 f833 f833 f833 f833 f833 f833 f833 f833 f833 f833 f833 f833 f833 f833 f833 f833 f833 f833 f833 f833 f833 f833 f833 f833 f833 f833 f833 f833 f833 f833 f833 f833 f833 f833 f833 f833 f833 f833 f833 f833 f833 f833 f833 f833 f833 f833 f833 f833 f833 f833 f833 f833 f833 f834 f834 f834 f834 f834 f834 f834 f834 f834 f834 f834 f834 f834 f834 f834 f834 f834 f834 f834 f834 f834 f834 f834 f834 f834 f834 f834 f834 f834 f834 f834 f834 f834 f834 f834 f834 f834 f834 f834 f834 f834 f834 f834 f834 f834 f834 f834 f834 f834 f834 f834 f834 f834 f834 f834 f834 f834 f834 f834 f834 f834 f834 f834 f834 f834 f834 f834 f834 f834 f834 f834 f834 f834 f834 f834 f834 f834 f834 f834 f834 f834 f834 f834 f834 f834 f834 f834 f834 f834 f834 f834 f834 f834 f834 f834 f834 f834 f834 f834 f834 f834 f834 f834 f834 f834 f834 f834 f834 f834 f834 f834 f834 f834 f834 f834 f834 f834 f834 f834 f834 f834 f834 f834 f834 f834 f834 f834 f834 f834 f834 f834 f834 f834 f834 f834 f834 f834 f834 f834 f834 f834 f834 f834 f834 f834 f834 f834 f834 f834 f834 f834 f834 f834 f834 f834 f834 f834 f834 f834 f834 f834 f834 f834 f834 f834 f834 f834 f834 f834 f834 f834 f834 f834 f834 f834 f834 f834 f834 f834 f834 f834 f834 f834 f834 f834 f834 f834 f834 f834 f834 f834 f834 f834 f834 f834 f834 f834 f834 f834 f834 f834 f834 f835 f835 f835 f835 f835 f835 f835 f835 f835 f835 f835 f835 f835 f835 f835 f835 f835 f835 f835 f835 f835 f835 f835 f835 f835 f835 f835 f835 f835 f835 f835 f835 f835 f835 f835 f835 f835 f835 f835 f835 f835 f835 f835 f835 f835 f835 f835 f835 f835 f835 f835 f835 f835 f835 f835 f835 f835 f835 f835 f835 f835 f835 f835 f835 f835 f835 f835 f835 f835 f835 f835 f835 f835 f835 f835 f835 f835 f835 f835 f835 f835 f835 f835 f835 f835 f835 f835 f835 f835 f835 f835 f835 f835 f835 f835 f835 f835 f835 f835 f835 f835 f835 f835 f835 f835 f835 f835 f835 f835 f835 f835 f835 f835 f835 f835 f835 f835 f835 f835 f835 f835 f835 f835 f835 f835 f835 f835 f835 f835 f835 f835 f835 f835 f835 f835 f835 f835 f835 f835 f835 f835 f835 f835 f835 f835 f835 f835 f835 f835 f835 f835 f835 f835 f835 f835 f835 f835 f835 f835 f835 f835 f835 f835 f835 f835 f835 f835 f835 f835 f835 f835 f835 f835 f835 f837 f837 f837 f837 f837 f837 f837 f837 f837 f837 f837 f837 f837 f837 f837 f837 f837 f837 f837 f837 f837 f837 f837 f837 f837 f837 f837 f837 f837 f837 f837 f837 f837 f837 f837 f837 f837 f837 f837 f837 f837 f837 f837 f837 f837 f837 f837 f837 f837 f837 f837 f837 f837 f837 f837 f837 f837 f837 f837 f837 f837 f837 f837 f837 f837 f837 f837 f837 f837 f837 f837 f837 f837 f837 f837 f837 f837 f837 f837 f837 f837 f837 f837 f837 f837 f837 f837 f837 f837 f837 f837 f837 f837 f837 f837 f837 f837 f837 f837 f837 f837 f837 f837 f837 f837 f837 f837 f837 f837 f837 f837 f837 f837 f837 f837 f837 f837 f837 f837 f837 f837 f837 f837 f837 f837 f837 f837 f837 f837 f837 f837 f837 f837 f837 f837 f837 f837 f837 f837 f837 f837 f837 f838 f838 f838 f838 f838 f838 f838 f838 f838 f838 f838 f838 f838 f838 f838 f838 f838 f838 f838 f838 f838 f838 f838 f838 f838 f839 f839 f839 f839 f842 f842 f842 f842 f842 f842 f842 f842 f842 f842 f842 f842 f842 f842 f842 f842 f842 f842 f842 f842 f842 f842 f842 f842 f842 f842 f842 f842 f846 f846 f846 f846 f846 f846 f846 f846 f846 f846 f846 f846 f846 f846 f846 f846 f846 f846 f846 f846 f846 f846 f846 f846 f846 f846 f846 f846 f846 f846 f846 f846 f846 f846 f846 f846 f846 f846 f846 f846 f846 f846 f846 f846 f846 f846 f846 f846 f846 f846 f846 f846 f846 f846 f846 f846 f846 f846 f846 f846 f846 f846 f846 f846 f846 f846 f846 f846 f846 f846 f846 f846 f846 f846 f846 f846 f846 f846 f846 f846 f846 f846 f846 f846 f846 f846 f846 f846 f846 f846 f846 f846 f846 f846 f846 f846 f846 f846 f846 f846 f846 f846 f846 f846 f846 f846 f846 f846 f846 f846 f846 f846 f846 f846 f846 f846 f846 f846 f846 f846 f846 f846 f846 f846 f846 f846 f846 f846 f846 f846 f846 f846 f846 f846 f846 f846 f846 f846 f846 f846 f846 f846 f846 f846 f846 f846 f846 f846 f846 f846 f846 f846 f846 f846 f846 f846 f846 f846 f846 f846 f846 f846 f846 f846 f846 f846 f846 f846 f846 f846 f846 f846 f846 f846 f846 f846 f846 f846 f846 f846 f846 f846 f846 f846 f846 f846 f846 f846 f846 f846 f846 f846 f846 f846 f846 f846 f846 f846 f846 f846 f846 f846 f846 f846 f846 f846 f846 f846 f846 f846 f846 f846 f846 f846 f846 f846 f846 f846 f846 f849 f849 f849 f849 f849 f849 f849 f849 f849 f849 f849 f849 f849 f849 f849 f849 f849 f849 f849 f850 f850 f850 f850 f850 f850 f850 f850 f850 f850 f850 f850 f850 f850 f850 f850 f850 f850 f850 f850 f850 f850 f850 f850 f850 f850 f850 f850 f850 f850 f850 f850 f850 f850 f850 f850 f850 f850 f850 f850 f850 f850 f850 f850 f850 f850 f850 f850 f850 f850 f850 f850 f850 f850 f850 f850 f850 f850 f850 f850 f850 f850 f850 f850 f850 f850 f850 f850 f850 f850 f850 f850 f850 f850 f850 f850 f850 f850 f850 f850 f850 f850 f850 f850 f850 f850 f850 f850 f850 f850 f850 f850 f850 f850 f850 f850 f850 f850 f850 f850 f850 f850 f850 f850 f850 f850 f850 f850 f850 f850 f850 f850 f850 f850 f850 f850 f850 f850 f850 f850 f850 f850 f850 f850 f850 f850 f850 f850 f850 f850 f850 f850 f850 f850 f850 f850 f850 f850 f850 f850 f850 f850 f850 f850 f850 f850 f850 f850 f850 f850 f850 f850 f850 f850 f850 f850 f850 f850 f850 f850 f850 f850 f850 f850 f850 f850 f850 f850 f850 f850 f850 f850 f850 f850 f850 f850 f850 f850 f850 f850 f850 f850 f850 f850 f850 f850 f850 f850 f850 f850 f850 f850 f850 f850 f850 f850 f850 f850 f850 f850 f850 f850 f850 f850 f850 f850 f850 f850 f850 f850 f850 f850 f850 f850 f850 f850 f850 f850 f850 f850 f850 f850 f850 f850 f850 f850 f850 f850 f850 f850 f850 f850 f850 f850 f850 f850 f850 f850 f852 f852 f852 f852 f852 f852 f852 f852 f852 f852 f852 f852 f852 f852 f852 f852 f852 f852 f852 f852 f852 f852 f852 f852 f852 f852 f852 f852 f852 f852 f852 f852 f852 f852 f852 f852 f852 f852 f852 f852 f852 f852 f852 f852 f852 f852 f852 f852 f852 f852 f852 f852 f852 f852 f852 f852 f852 f852 f852 f852 f852 f852 f852 f852 f852 f852 f852 f852 f852 f852 f852 f852 f852 f852 f852 f852 f852 f852 f852 f852 f852 f852 f852 f852 f852 f852 f852 f852 f852 f852 f852 f852 f852 f852 f852 f852 f852 f852 f852 f852 f852 f852 f852 f852 f852 f852 f852 f852 f852 f852 f852 f852 f852 f852 f852 f852 f852 f852 f852 f852 f852 f852 f852 f852 f852 f852 f852 f852 f852 f852 f852 f852 f852 f853 f853 f853 f853 f853 f853 f853 f853 f853 f853 f853 f853 f853 f853 f853 f853 f853 f853 f853 f853 f853 f853 f853 f853 f853 f853 f853 f853 f853 f853 f853 f853 f853 f853 f853 f853 f853 f853 f853 f853 f853 f853 f853 f853 f853 f853 f853 f853 f853 f853 f853 f853 f853 f853 f853 f853 f853 f853 f853 f853 f853 f853 f853 f853 f853 f853 f853 f853 f853 f853 f853 f853 f853 f853 f853 f853 f853 f853 f853 f853 f853 f853 f853 f853 f853 f853 f853 f853 f853 f853 f853 f853 f853 f853 f853 f853 f853 f853 f853 f853 f853 f853 f853 f853 f853 f853 f853 f853 f853 f853 f853 f853 f853 f853 f853 f853 f853 f853 f853 f853 f853 f853 f853 f853 f853 f853 f853 f853 f853 f853 f853 f853 f853 f853 f853 f853 f853 f853 f853 f853 f853 f853 f853 f853 f853 f853 f853 f853 f853 f853 f853 f853 f853 f853 f853 f853 f853 f853 f853 f853 f853 f853 f853 f853 f853 f853 f853 f853 f853 f853 f853 f853 f853 f853 f853 f853 f853 f853 f853 f853 f853 f853 f853 f853 f853 f853 f853 f853 f853 f853 f853 f853 f853 f853 f859 f859 f859 f859 f859 f859 f859 f859 f859 f859 f859 f859 f859 f859 f859 f859 f859 f859 f859 f859 f859 f859 f859 f859 f859 f859 f859 f859 f859 f859 f863 f863 f863 f863 f863 f863 f863 f863 f863 f863 f863 f863 f863 f863 f863 f863 f863 f863 f863 f863 f863 f863 f863 f863 f863 f863 f863 f863 f863 f863 f863 f863 f863 f863 f863 f863 f863 f863 f863 f863 f863 f863 f863 f863 f863 f863 f863 f863 f863 f863 f863 f863 f863 f863 f863 f863 f863 f863 f863 f863 f863 f863 f863 f863 f863 f863 f863 f863 f863 f863 f863 f863 f863 f863 f863 f863 f863 f863 f863 f863 f863 f863 f863 f863 f863 f863 f863 f863 f863 f863 f863 f863 f863 f863 f863 f863 f863 f863 f863 f863 f863 f863 f863 f863 f863 f863 f863 f863 f863 f863 f863 f863 f863 f863 f863 f863 f863 f863 f863 f863 f863 f863 f863 f863 f863 f863 f863 f863 f863 f863 f863 f863 f863 f863 f863 f863 f863 f863 f863 f863 f863 f863 f863 f863 f863 f863 f863 f863 f863 f863 f863 f863 f863 f863 f863 f863 f863 f863 f863 f863 f863 f863 f863 f863 f863 f863 f863 f863 f863 f863 f863 f863 f863 f863 f863 f863 f863 f863 f863 f863 f863 f863 f863 f863 f863 f863 f863 f863 f863 f863 f863 f863 f863 f863 f863 f863 f863 f863 f863 f863 f863 f863 f863 f863 f863 f863 f863 f863 f863 f863 f863 f863 f863 f863 f863 f863 f863 f863 f863 f863 f863 f863 f863 f863 f863 f863 f863 f863 f863 f863 f863 f863 f874 f874 f874 f874 f874 f874 f874 f874 f874 f874 f874 f874 f874 f874 f874 f874 f874 f874 f874 f874 f874 f874 f874 f874 f874 f874 f874 f874 f874 f874 f874 f874 f874 f874 f874 f874 f874 f874 f874 f874 f874 f874 f874 f874 f874 f874 f874 f874 f874 f874 f874 f874 f874 f874 f874 f874 f874 f874 f874 f874 f874 f874 f874 f874 f874 f874 f874 f874 f874 f874 f874 f874 f874 f874 f874 f874 f874 f874 f874 f874 f874 f874 f874 f874 f874 f874 f874 f874 f874 f874 f874 f874 f874 f874 f874 f874 f874 f874 f874 f874 f874 f874 f874 f874 f874 f874 f874 f874 f874 f874 f874 f874 f874 f874 f874 f874 f874 f874 f874 f874 f874 f874 f874 f874 f874 f874 f874 f874 f874 f874 f874 f874 f874 f874 f874 f874 f874 f874 f874 f874 f874 f874 f874 f874 f874 f874 f874 f874 f874 f874 f874 f874 f874 f874 f874 f874 f874 f874 f874 f874 f874 f874 f874 f874 f874 f874 f874 f874 f874 f874 f874 f874 f874 f875 f875 f875 f875 f875 f875 f875 f875 f875 f875 f875 f875 f875 f875 f875 f875 f875 f875 f875 f875 f875 f875 f875 f875 f875 f875 f875 f875 f875 f875 f875 f875 f875 f875 f875 f875 f875 f875 f875 f875 f875 f875 f875 f875 f875 f875 f875 f875 f875 f875 f875 f875 f875 f875 f875 f875 f875 f875 f875 f875 f875 f875 f875 f875 f875 f875 f875 f875 f875 f875 f875 f875 f875 f875 f875 f875 f875 f875 f875 f875 f875 f875 f875 f875 f875 f875 f875 f875 f875 f875 f875 f875 f875 f875 f875 f875 f875 f875 f875 f875 f875 f875 f875 f875 f875 f875 f875 f875 f875 f875 f875 f875 f875 f875 f875 f875 f875 f875 f875 f875 f875 f875 f875 f875 f875 f875 f875 f875 f875 f875 f875 f875 f875 f875 f875 f875 f875 f875 f875 f875 f875 f875 f875 f875 f875 f875 f875 f876 f876 f876 f876 f876 f876 f876 f876 f876 f876 f876 f876 f876 f876 f876 f876 f876 f876 f876 f876 f876 f876 f876 f876 f876 f876 f876 f876 f876 f876 f876 f876 f876 f876 f876 f876 f876 f876 f876 f876 f876 f876 f876 f876 f876 f876 f876 f876 f876 f876 f876 f876 f876 f876 f876 f876 f876 f876 f876 f876 f876 f876 f876 f876 f876 f876 f876 f876 f876 f876 f876 f876 f876 f876 f876 f882 f882 f882 f882 f882 f882 f882 f882 f882 f882 f882 f882 f882 f882 f882 f882 f882 f882 f882 f882 f882 f882 f882 f882 f882 f882 f882 f882 f882 f882 f882 f882 f882 f882 f882 f882 f882 f882 f882 f882 f882 f882 f882 f882 f882 f882 f882 f882 f882 f882 f882 f882 f882 f882 f882 f882 f882 f882 f882 f882 f882 f882 f882 f882 f882 f882 f882 f882 f882 f882 f882 f882 f882 f882 f882 f882 f882 f882 f882 f882 f882 f882 f882 f882 f882 f882 f882 f882 f882 f882 f882 f882 f882 f882 f882 f882 f882 f882 f882 f882 f882 f882 f882 f882 f882 f882 f882 f882 f882 f882 f882 f882 f882 f882 f882 f882 f882 f882 f882 f882 f882 f882 f882 f882 f882 f882 f882 f882 f882 f882 f882 f882 f882 f882 f882 f882 f882 f882 f882 f882 f882 f882 f882 f882 f882 f882 f882 f882 f882 f882 f882 f882 f882 f882 f882 f882 f882 f882 f882 f882 f882 f882 f882 f882 f882 f882 f882 f882 f882 f882 f882 f882 f882 f882 f882 f882 f882 f882 f882 f882 f882 f882 f882 f882 f882 f882 f882 f882 f892 f892 f892 f892 f892 f892 f892 f892 f892 f892 f892 f892 f892 f892 f892 f892 f892 f892 f892 f892 f892 f892 f892 f892 f892 f892 f892 f892 f892 f892 f892 f892 f892 f892 f892 f892 f892 f892 f892 f892 f892 f892 f892 f892 f892 f892 f892 f892 f892 f892 f892 f892 f892 f892 f892 f892 f892 f892 f892 f892 f892 f892 f892 f892 f892 f892 f892 f892 f892 f892 f892 f892 f892 f892 f893 f893 f893 f893 f893 f893 f893 f893 f893 f893 f893 f893 f893 f893 f893 f893 f893 f893 f893 f893 f893 f893 f893 f893 f893 f893 f893 f893 f893 f893 f893 f893 f893 f893 f893 f893 f893 f893 f893 f893 f893 f893 f893 f893 f893 f893 f893 f893 f893 f893 f893 f893 f893 f893 f893 f893 f893 f893 f893 f893 f893 f893 f893 f893 f893 f893 f893 f893 f893 f893 f893 f893 f893 f893 f893 f893 f893 f893 f893 f893 f893 f893 f893 f893 f893 f893 f893 f893 f893 f893 f893 f893 f893 f893 f893 f893 f893 f893 f893 f893 f893 f893 f893 f893 f893 f893 f893 f893 f893 f893 f893 f893 f893 f893 f893 f893 f893 f893 f893 f893 f893 f893 f893 f893 f893 f893 f893 f893 f893 f893 f893 f893 f893 f893 f893 f893 f893 f893 f893 f893 f893 f893 f893 f893 f893 f893 f893 f893 f893 f893 f893 f893 f893 f893 f893 f893 f893 f893 f893 f893 f893 f893 f893 f893 f893 f893 f893 f893 f893 f893 f893 f893 f895 f895 f895 f895 f895 f895 f895 f895 f895 f895 f895 f895 f895 f895 f895 f895 f895 f895 f895 f895 f895 f895 f895 f895 f895 f895 f895 f895 f895 f895 f895 f895 f895 f895 f895 f895 f895 f895 f895 f895 f895 f895 f895 f895 f895 f895 f895 f895 f895 f895 f895 f895 f895 f895 f895 f895 f895 f895 f895 f895 f895 f895 f895 f895 f895 f895 f895 f895 f895 f895 f895 f895 f895 f895 f895 f895 f895 f895 f895 f895 f895 f895 f895 f895 f895 f895 f895 f895 f895 f895 f895 f895 f895 f895 f895 f895 f895 f895 f895 f895 f895 f895 f895 f895 f895 f895 f895 f895 f895 f895 f895 f895 f895 f895 f895 f895 f895 f895 f895 f895 f900 f900 f900 f900 f900 f900 f900 f900 f900 f900 f900 f900 f900 f900 f900 f900 f900 f900 f900 f900 f900 f900 f900 f900 f900 f900 f900 f900 f900 f900 f900 f900 f900 f900 f900 f900 f900 f900 f900 f900 f900 f900 f900 f900 f900 f900 f900 f900 f900 f900 f900 f900 f900 f900 f900 f900 f900 f900 f900 f900 f900 f900 f900 f900 f900 f900 f900 f900 f900 f900 f900 f900 f900 f900 f900 f900 f900 f900 f900 f900 f900 f900 f900 f900 f900 f900 f900 f900 f900 f900 f900 f900 f900 f900 f900 f900 f900 f901 f901 f901 f901 f901 f901 f901 f901 f901 f901 f901 f901 f901 f901 f910 f910 f910 f910 f910 f910 f910 f910 f910 f910 f910 f910 f910 f910 f910 f910 f910 f910 f910 f910 f910 f910 f910 f910 f910 f910 f910 f910 f910 f910 f910 f910 f910 f910 f910 f910 f910 f910 f910 f910 f910 f910 f910 f910 f910 f910 f910 f910 f910 f910 f910 f910 f910 f910 f910 f910 f910 f910 f910 f910 f910 f910 f910 f910 f910 f910 f910 f910 f910 f910 f910 f910 f910 f910 f910 f910 f910 f910 f910 f910 f910 f910 f910 f910 f910 f910 f910 f910 f910 f910 f910 f910 f910 f910 f910 f910 f910 f910 f910 f910 f910 f910 f910 f910 f910 f910 f910 f910 f910 f910 f910 f910 f910 f910 f910 f910 f910 f910 f910 f910 f910 f910 f910 f910 f910 f910 f910 f910 f910 f910 f910 f910 f910 f910 f910 f910 f910 f910 f910 f910 f910 f910 f910 f910 f910 f910 f910 f910 f910 f910 f910 f910 f910 f910 f910 f910 f910 f910 f910 f910 f910 f910 f910 f910 f910 f910 f910 f910 f910 f910 f910 f910 f910 f910 f910 f910 f910 f910 f910 f910 f910 f910 f910 f910 f910 f910 f910 f910 f910 f910 f910 f910 f910 f910 f910 f910 f910 f910 f915 f915 f915 f915 f915 f915 f915 f915 f915 f915 f915 f915 f915 f915 f915 f915 f915 f915 f915 f915 f915 f915 f915 f915 f915 f915 f915 f915 f915 f915 f915 f915 f915 f915 f915 f915 f915 f915 f915 f915 f915 f915 f915 f915 f915 f915 f915 f915 f915 f915 f915 f915 f915 f915 f915 f915 f915 f915 f915 f915 f915 f915 f915 f915 f915 f915 f915 f915 f915 f915 f915 f915 f915 f915 f915 f915 f915 f915 f915 f915 f927 f927 f927 f927 f927 f927 f927 f927 f927 f927 f927 f927 f927 f927 f927 f927 f927 f927 f927 f927 f927 f927 f927 f927 f927 f927 f927 f927 f927 f927 f927 f927 f927 f927 f927 f927 f927 f927 f927 f927 f927 f927 f927 f927 f927 f927 f927 f927 f927 f927 f927 f927 f927 f927 f927 f927 f927 f927 f927 f927 f927 f927 f927 f927 f927 f927 f927 f927 f927 f927 f927 f927 f927 f927 f927 f927 f927 f927 f927 f927 f927 f927 f927 f927 f927 f927 f927 f927 f927 f927 f927 f927 f927 f927 f927 f927 f927 f927 f927 f927 f927 f927 f927 f927 f927 f927 f927 f927 f927 f927 f927 f927 f932 f932 f932 f932 f932 f932 f932 f932 f932 f932 f932 f932 f932 f932 f932 f932 f932 f932 f932 f932 f932 f932 f932 f932 f932 f932 f932 f932 f932 f932 f932 f932 f932 f932 f932 f932 f932 f932 f932 f932 f932 f932 f932 f932 f932 f932 f932 f932 f932 f932 f932 f932 f932 f932 f932 f932 f932 f932 f932 f932 f932 f932 f932 f932 f932 f932 f932 f932 f932 f932 f932 f932 f932 f932 f932 f932 f932 f932 f932 f932 f932 f932 f932 f932 f932 f932 f932 f932 f932 f932 f932 f932 f932 f932 f932 f932 f932 f932 f932 f932 f932 f932 f932 f932 f932 f932 f932 f932 f932 f932 f932 f932 f932 f932 f932 f932 f932 f932 f932 f932 f932 f932 f932 f932 f932 f932 f932 f932 f932 f932 f932 f932 f932 f932 f932 f932 f932 f932 f932 f932 f932 f932 f932 f932 f932 f932 f932 f932 f932 f932 f932 f932 f932 f932 f932 f932 f934 f934 f934 f934 f934 f934 f934 f934 f934 f934 f934 f934 f934 f934 f934 f934 f934 f934 f934 f934 f934 f934 f934 f934 f934 f934 f934 f934 f934 f934 f934 f934 f934 f934 f934 f934 f934 f934 f934 f934 f934 f934 f934 f934 f934 f934 f934 f934 f934 f934 f934 f934 f934 f934 f934 f934 f934 f934 f934 f934 f934 f934 f934 f934 f934 f934 f934 f934 f934 f934 f934 f934 f934 f934 f934 f934 f934 f934 f934 f934 f934 f934 f934 f934 f934 f934 f934 f934 f934 f934 f934 f934 f934 f934 f934 f934 f934 f934 f934 f934 f934 f934 f934 f934 f934 f934 f934 f934 f934 f934 f934 f934 f934 f934 f934 f934 f934 f934 f934 f934 f934 f934 f934 f934 f934 f934 f934 f934 f934 f934 f934 f934 f934 f934 f934 f934 f934 f934 f934 f934 f934 f934 f934 f934 f934 f934 f934 f934 f934 f949 f949 f949 f949 f949 f949 f949 f949 f949 f949 f949 f949 f949 f949 f949 f949 f949 f949 f949 f949 f949 f949 f949 f949 f949 f949 f949 f949 f949 f949 f949 f949 f949 f949 f949 f949 f949 f949 f949 f949 f949 f949 f949 f949 f949 f949 f949 f949 f949 f949 f949 f949 f949 f949 f949 f949 f949 f949 f949 f949 f949 f949 f949 f949 f949 f949 f949 f949 f949 f949 f949 f949 f949 f949 f949 f949 f949 f949 f949 f949 f949 f949 f949 f949 f949 f949 f949 f949 f949 f949 f949 f949 f949 f949 f949 f949 f949 f949 f949 f949 f949 f949 f949 f949 f949 f949 f949 f949 f949 f949 f949 f949 f949 f949 f949 f949 f949 f949 f949 f949 f949 f949 f949 f949 f949 f949 f949 f949 f949 f949 f949 f949 f949 f949 f949 f949 f949 f949 f949 f949 f949 f949 f949 f949 f949 f949 f949 f949 f949 f949 f949 f949 f949 f949 f949 f949 f949 f949 f949 f949 f949 f949 f949 f949 f949 f949 f949 f949 f949 f949 f949 f949 f949 f949 f949 f949 f949 f949 f949 f949 f949 f949 f949 f949 f949 f949 f949 f949 f949 f949 f949 f949 f949 f955 f955 f955 f955 f955 f955 f955 f955 f955 f955 f955 f961 f961 f961 f961 f961 f961 f961 f961 f961 f961 f961 f961 f961 f961 f961 f961 f961 f961 f961 f961 f961 f961 f961 f961 f961 f961 f961 f961 f961 f961 f961 f961 f961 f961 f961 f961 f961 f961 f961 f961 f961 f961 f961 f961 f961 f961 f961 f961 f961 f961 f961 f961 f961 f961 f961 f961 f961 f961 f961 f961 f961 f961 f961 f961 f961 f961 f961 f961 f961 f961 f961 f961 f961 f961 f961 f961 f961 f961 f961 f961 f961 f961 f961 f961 f961 f961 f961 f961 f961 f961 f961 f961 f961 f961 f961 f961 f961 f961 f961 f961 f961 f961 f961 f961 f961 f961 f961 f961 f961 f961 f961 f961 f961 f961 f961 f961 f961 f961 f961 f961 f961 f961 f961 f961 f961 f961 f961 f961 f961 f961 f961 f961 f961 f961 f961 f961 f961 f961 f961 f961 f961 f961 f961 f961 f961 f961 f961 f961 f961 f961 f961 f961 f961 f961 f961 f961 f961 f961 f961 f961 f961 f961 f961 f961 f961 f966 f966 f966 f966 f966 f966 f966 f966 f966 f966 f966 f966 f966 f966 f966 f966 f966 f966 f966 f966 f966 f966 f966 f966 f966 f966 f966 f966 f966 f966 f966 f966 f966 f966 f966 f966 f966 f966 f966 f966 f966 f966 f966 f966 f966 f966 f966 f966 f966 f966 f966 f966 f966 f966 f966 f966 f966 f966 f966 f966 f966 f966 f966 f966 f966 f966 f966 f966 f966 f966 f966 f966 f966 f966 f966 f966 f966 f966 f966 f966 f966 f966 f966 f966 f966 f966 f966 f966 f966 f966 f966 f966 f966 f966 f966 f966 f966 f966 f966 f966 f966 f966 f966 f966 f966 f966 f966 f966 f966 f966 f966 f966 f966 f966 f970 f970 f970 f970 f970 f970 f970 f970 f970 f970 f970 f970 f970 f970 f970 f970 f970 f970 f970 f970 f970 f970 f970 f970 f970 f970 f970 f970 f970 f970 f970 f970 f970 f970 f970 f970 f970 f970 f970 f970 f970 f970 f970 f970 f970 f970 f970 f970 f970 f970 f970 f970 f970 f970 f970 f970 f970 f970 f970 f970 f970 f970 f970 f970 f970 f970 f970 f970 f970 f970 f970 f970 f970 f970 f970 f970 f970 f970 f970 f970 f970 f970 f970 f970 f970 f970 f970 f970 f970 f970 f970 f970 f970 f970 f970 f970 f970 f970 f970 f970 f970 f970 f970 f970 f970 f970 f970 f970 f970 f970 f970 f970 f970 f970 f970 f970 f970 f970 f970 f970 f970 f970 f970 f970 f970 f970 f970 f970 f970 f970 f970 f970 f971 f971 f971 f971 f971 f971 f971 f971 f971 f971 f971 f971 f971 f971 f971 f971 f971 f971 f971 f971 f971 f971 f971 f971 f971 f971 f971 f971 f971 f971 f971 f971 f974 f974 f974 f974 f974 f974 f974 f974 f974 f974 f974 f974 f974 f974 f974 f974 f974 f974 f974 f974 f974 f974 f974 f974 f974 f974 f974 f974 f974 f974 f974 f974 f974 f974 f974 f974 f974 f974 f974 f974 f974 f974 f974 f974 f974 f974 f974 f974 f974 f974 f974 f974 f974 f974 f974 f974 f974 f974 f974 f974 f974 f974 f974 f974 f974 f974 f974 f974 f974 f974 f974 f974 f974 f974 f974 f974 f974 f974 f974 f974 f974 f974 f974 f974 f974 f974 f974 f974 f974 f974 f974 f974 f974 f974 f974 f974 f974 f974 f974 f974 f974 f974 f974 f974 f974 f974 f980 f980 f980 f980 f980 f980 f980 f980 f980 f980 f980 f980 f980 f980 f980 f980 f980 f980 f980 f980 f980 f980 f980 f980 f980 f980 f980 f980 f980 f980 f980 f980 f980 f980 f980 f980 f980 f980 f980 f980 f980 f980 f980 f980 f980 f980 f980 f980 f980 f980 f980 f980 f980 f980 f980 f980 f980 f980 f980 f980 f980 f980 f980 f980 f980 f980 f980 f980 f980 f980 f980 f980 f980 f980 f980 f980 f980 f980 f980 f980 f980 f980 f980 f980 f980 f980 f980 f980 f980 f980 f980 f980 f980 f980 f980 f980 f980 f980 f980 f980 f980 f980 f980 f980 f980 f980 f980 f980 f980 f980 f980 f980 f980 f980 f980 f980 f980 f980 f980 f980 f980 f980 f980 f980 f980 f980 f980 f980 f980 f980 f980 f980 f980 f980 f980 f980 f980 f980 f980 f980 f980 f980 f980 f980 f980 f980 f980 f980 f980 f980 f980 f980 f980 f980 f980 f980 f980 f980 f980 f980 f980 f980 f980 f980 f980 f980 f980 f980 f980 f980 f980 f980 f980 f980 f980 f980 f980 f980 f980 f980 f980 f980 f980 f980 f980 f980 f980 f980 f980 f980 f980 f980 f980 f980 f980 f980 f980 f980 f980 f980 f980 f980 f980 f980 f980 f980 f980 f980 f980 f980 f980 f980 f980 f980 f980 f980 f980 f980 f980 f980 f980 f980 f980 f980 f980 f980 f980 f980 f980 f980 f982 f982 f982 f982 f982 f982 f982 f982 f982 f982 f982 f982 f982 f982 f982 f982 f982 f982 f982 f982 f982 f982 f982 f982 f982 f982 f982 f982 f982 f982 f982 f982 f982 f982 f982 f982 f982 f982 f982 f982 f982 f982 f982 f982 f982 f982 f988 f988 f988 f988 f988 f988 f988 f988 f988 f988 f988 f988 f988 f988 f988 f988 f988 f988 f988 f988 f988 f988 f988 f988 f988 f988 f995 f995 f995 f995 f995 f995 f995 f995 f995 f995 f995 f995 f995 f995 f995 f995 f995 f995 f995 f995 f995 f995 f995 f995 f995 f995 f995 f995 f995 f995 f995 f995 f995 f995 f995 f995 f995 f995 f995 f995 f995 f995 f995 f995 f995 f995 f995 f995 f995 f995 f995 f995 f995 f995 f995 f995 f995 f995 f995 f995 f995 f995 f995 f995 f995 f995 f995 f995 f995 f995 f995 f995 f995 f995 f995 f995 f995 f995 f995 f995 f995 f995 f995 f995 f995 f995 f995 f995 f995 f995 f995 f995 f995 f995 f995 f995 f995 f995 f995 f995 f995 f995 f995 f995 f995 f995 f995 f995 f995 f995 f995 f995 f995 f995 f995 f995 f995 f995 f995 f995 f995 f995 f995 f995 f995 f995 f995 f995 f995 f995 f995 f995 f995 f995 f995 f995 f995 f995 f995 f995 f995 f995 f995 f995 f995 f995 f995 f995 f995 f995 f995 f995 f995 f995 f995 f995 f995 f995 f995 f995 f995 f995 f995 f995 f995 f995 f995 f995 f995 f995 f995 f995 f995 f995 f995 f995 f995 f995 f995 f995 f995 f995 f995 f995 f995 f995 f995 f995 f995 f995 f995 f995 f995 f995 f995 f995 f995 f995 f995 f998 f998 f998 f998 f998 f998 f998 f998 f998 f998 f998 f998 f998 f998 f998 f998 f998 f998 f998 f998 f998 f998 f998 f998 f998 f998 f998 f998 f998 f998 f998 f998 f998 f998 f998 f998 f998 f998 f998 f998 f998 f998 f998 f998 f998 f998 f998 f998 f998 f998 f998 f998 f998 f998 f998 f998 f998 f998 f998 f998 f998 f998 f998 f998 f998 f998 f998 f998 f998 f998 f998 f998 f998 f998 f998 f998 f998 f998 f998 f998 f998 f998 f998 f998 f998 f998 f998 f998 f998 f998 f998 f998 f998 f998 f998 f998 f998 f998 f998 f998 f998 f998 f998 f998 f998 f998 f998 f998 f998 f998 f998 f998 f998 f998 f998 f998 f998 f998 f998 f998 f998 f998 f998 f998 f998 f998 f998'"
            ]
          },
          "execution_count": 18,
          "metadata": {},
          "output_type": "execute_result"
        }
      ],
      "source": [
        "surrogate_text(tx[0])"
      ]
    },
    {
      "cell_type": "markdown",
      "metadata": {
        "id": "W7Wkamk4rzd1"
      },
      "source": [
        "If the textual search engine supports boosting, we can generate shorter surrogate texts (that leads to lower query times):"
      ]
    },
    {
      "cell_type": "code",
      "execution_count": 19,
      "metadata": {
        "id": "cSt1ke4Cov8K"
      },
      "outputs": [],
      "source": [
        "def surrogate_text_boost(term_frequencies):\n",
        "  \"\"\" Creates Surrogate Text with Boosting.\n",
        "      Instead of repeating a term N times, writes 'term^N'\n",
        "      that in many full-text search engines has the same effect\n",
        "      of setting the term frequency of that term to N.\n",
        "      Useful to get shorter surrogate text representations.\n",
        "  \"\"\"\n",
        "  tokens = []\n",
        "  for i, tf in enumerate(term_frequencies):\n",
        "    if tf:\n",
        "      tokens.append(f'f{i}^{tf:g}')\n",
        "\n",
        "  text = ' '.join(tokens)\n",
        "  return text"
      ]
    },
    {
      "cell_type": "code",
      "execution_count": 20,
      "metadata": {
        "colab": {
          "base_uri": "https://localhost:8080/",
          "height": 122
        },
        "id": "D8OcZDSf9qPK",
        "outputId": "ab32cc0d-d199-46e7-a722-e52c0970f1c1"
      },
      "outputs": [
        {
          "data": {
            "application/vnd.google.colaboratory.intrinsic+json": {
              "type": "string"
            },
            "text/plain": [
              "'f1^189 f9^45 f20^64 f24^164 f27^124 f29^135 f32^72 f34^195 f39^67 f47^48 f51^151 f53^55 f55^215 f61^44 f62^169 f66^46 f70^137 f72^167 f77^75 f78^144 f82^188 f85^63 f89^2 f91^54 f92^37 f98^201 f102^160 f103^248 f106^192 f108^86 f110^77 f116^56 f118^224 f124^74 f129^104 f131^108 f132^146 f134^120 f135^170 f148^180 f149^177 f156^87 f159^190 f160^140 f163^3 f165^4 f169^203 f174^69 f178^102 f180^19 f184^181 f191^216 f198^11 f200^184 f209^197 f212^174 f214^35 f216^30 f220^109 f223^231 f235^99 f237^139 f247^130 f251^36 f254^110 f258^1 f259^113 f260^228 f264^58 f282^28 f298^128 f304^79 f305^82 f306^234 f311^38 f313^122 f314^162 f316^7 f317^5 f318^194 f319^187 f325^31 f326^142 f327^93 f329^163 f333^105 f334^243 f336^238 f345^205 f348^136 f349^221 f353^159 f356^20 f360^8 f368^13 f369^80 f371^40 f380^157 f385^165 f386^232 f388^66 f389^76 f391^89 f394^246 f399^15 f400^210 f411^208 f414^141 f417^81 f418^171 f421^123 f425^230 f427^23 f428^204 f433^206 f438^145 f445^168 f447^125 f450^106 f454^198 f457^193 f461^39 f478^6 f481^166 f482^78 f483^47 f485^59 f489^186 f493^68 f508^32 f510^245 f514^53 f515^96 f516^147 f517^90 f519^85 f525^9 f534^88 f536^237 f537^143 f538^107 f539^249 f541^183 f549^214 f559^196 f565^114 f566^117 f569^10 f571^73 f583^213 f584^60 f590^61 f591^218 f592^25 f594^223 f595^17 f596^14 f603^27 f608^92 f619^178 f620^175 f625^41 f628^101 f629^42 f630^127 f633^233 f635^111 f637^121 f645^220 f652^126 f658^115 f660^132 f661^150 f662^250 f664^29 f669^70 f672^211 f673^133 f674^225 f678^161 f680^182 f683^134 f698^153 f702^131 f703^71 f710^200 f717^103 f718^100 f719^18 f721^97 f724^62 f733^244 f735^235 f737^226 f746^158 f747^236 f750^26 f766^43 f767^24 f784^199 f793^241 f794^185 f801^152 f802^51 f804^156 f810^239 f811^227 f814^242 f815^84 f821^155 f828^22 f832^222 f833^247 f838^173 f839^65 f850^179 f852^33 f853^98 f855^95 f858^172 f859^49 f863^148 f869^202 f872^149 f881^217 f883^209 f890^191 f892^112 f893^207 f899^212 f911^219 f913^229 f924^12 f925^176 f927^16 f931^129 f936^57 f944^118 f958^52 f959^91 f961^83 f973^138 f974^119 f977^94 f980^240 f982^50 f984^116 f992^154 f996^21 f998^34'"
            ]
          },
          "execution_count": 20,
          "metadata": {},
          "output_type": "execute_result"
        }
      ],
      "source": [
        "surrogate_text_boost(tq[0])"
      ]
    },
    {
      "cell_type": "markdown",
      "metadata": {
        "id": "zqQojGdJ36dh"
      },
      "source": [
        "### Surrogate Text Representations on Elasticsearch\n",
        "\n",
        "Let's see a working example of using STRs with Elasticsearch.\n",
        "First, let's download and run an Elasticsearch instance."
      ]
    },
    {
      "cell_type": "code",
      "execution_count": 21,
      "metadata": {
        "colab": {
          "base_uri": "https://localhost:8080/"
        },
        "id": "_bsAB10e_E_N",
        "outputId": "8bf2dc07-d7ff-42f3-e26d-fa04901d14de"
      },
      "outputs": [
        {
          "name": "stdout",
          "output_type": "stream",
          "text": [
            "\u001b[?25l\r\u001b[K     |████                            | 10 kB 20.1 MB/s eta 0:00:01\r\u001b[K     |████████▏                       | 20 kB 23.6 MB/s eta 0:00:01\r\u001b[K     |████████████▏                   | 30 kB 29.3 MB/s eta 0:00:01\r\u001b[K     |████████████████▎               | 40 kB 9.5 MB/s eta 0:00:01\r\u001b[K     |████████████████████▍           | 51 kB 7.0 MB/s eta 0:00:01\r\u001b[K     |████████████████████████▍       | 61 kB 8.2 MB/s eta 0:00:01\r\u001b[K     |████████████████████████████▌   | 71 kB 8.9 MB/s eta 0:00:01\r\u001b[K     |████████████████████████████████| 80 kB 4.9 MB/s \n",
            "\u001b[?25h"
          ]
        }
      ],
      "source": [
        "!wget https://artifacts.elastic.co/downloads/elasticsearch/elasticsearch-7.0.0-linux-x86_64.tar.gz -q --no-clobber\n",
        "!tar -xzf elasticsearch-7.0.0-linux-x86_64.tar.gz\n",
        "!chown -R daemon:daemon elasticsearch-7.0.0\n",
        "!pip install -q elasticsearch==7.0.0"
      ]
    },
    {
      "cell_type": "code",
      "execution_count": 22,
      "metadata": {
        "id": "cGBb9-tp4FGT"
      },
      "outputs": [],
      "source": [
        "# start server\n",
        "import os\n",
        "from subprocess import Popen, STDOUT, DEVNULL\n",
        "es_server = Popen(['elasticsearch-7.0.0/bin/elasticsearch'], \n",
        "                  stdout=DEVNULL, stderr=STDOUT,\n",
        "                  preexec_fn=lambda: os.setuid(1)  # as daemon\n",
        "                 )\n",
        "# wait a bit for ES to start\n",
        "!sleep 30"
      ]
    },
    {
      "cell_type": "code",
      "execution_count": 23,
      "metadata": {
        "colab": {
          "base_uri": "https://localhost:8080/"
        },
        "id": "NNADrAN9AwHv",
        "outputId": "c3a9ab70-dbd3-4f42-cd19-143ac3097e88"
      },
      "outputs": [
        {
          "name": "stdout",
          "output_type": "stream",
          "text": [
            "daemon       139      59 99 08:27 ?        00:00:33 /content/elasticsearch-7.0.0/jdk/bin/java -Xms1g -Xmx1g -XX:+UseConcMarkSweepGC -XX:CMSInitiatingOccupancyFraction=75 -XX:+UseCMSInitiatingOccupancyOnly -Des.networkaddress.cache.ttl=60 -Des.networkaddress.cache.negative.ttl=10 -XX:+AlwaysPreTouch -Xss1m -Djava.awt.headless=true -Dfile.encoding=UTF-8 -Djna.nosys=true -XX:-OmitStackTraceInFastThrow -Dio.netty.noUnsafe=true -Dio.netty.noKeySetOptimization=true -Dio.netty.recycler.maxCapacityPerThread=0 -Dlog4j.shutdownHookEnabled=false -Dlog4j2.disable.jmx=true -Djava.io.tmpdir=/tmp/elasticsearch-6497323665627477750 -XX:+HeapDumpOnOutOfMemoryError -XX:HeapDumpPath=data -XX:ErrorFile=logs/hs_err_pid%p.log -Xlog:gc*,gc+age=trace,safepoint:file=logs/gc.log:utctime,pid,tags:filecount=32,filesize=64m -Djava.locale.providers=COMPAT -Dio.netty.allocator.type=unpooled -Des.path.home=/content/elasticsearch-7.0.0 -Des.path.conf=/content/elasticsearch-7.0.0/config -Des.distribution.flavor=default -Des.distribution.type=tar -Des.bundled_jdk=true -cp /content/elasticsearch-7.0.0/lib/* org.elasticsearch.bootstrap.Elasticsearch\n",
            "daemon       230     139  0 08:27 ?        00:00:00 /content/elasticsearch-7.0.0/modules/x-pack-ml/platform/linux-x86_64/bin/controller\n",
            "root         268      59  0 08:28 ?        00:00:00 /bin/bash -c  ps -ef | grep elasticsearch\n",
            "root         270     268  0 08:28 ?        00:00:00 grep elasticsearch\n"
          ]
        }
      ],
      "source": [
        "! ps -ef | grep elasticsearch"
      ]
    },
    {
      "cell_type": "code",
      "execution_count": 24,
      "metadata": {
        "colab": {
          "base_uri": "https://localhost:8080/"
        },
        "id": "p5A6k_NQ5Ay7",
        "outputId": "0dabf29a-e261-4da1-dac3-294b8cfb1378"
      },
      "outputs": [
        {
          "name": "stdout",
          "output_type": "stream",
          "text": [
            "True\n"
          ]
        }
      ],
      "source": [
        "from elasticsearch import Elasticsearch\n",
        "\n",
        "es = Elasticsearch(timeout=30)\n",
        "print(es.ping())"
      ]
    },
    {
      "cell_type": "markdown",
      "metadata": {
        "id": "yH1eDXtksfGO"
      },
      "source": [
        "Once Elasticsearch is up and running, let's create and index.\n",
        "We need to specify one field (we name it `repr`) of type `text`, such that is searched with full-text semantics (TfIdf-like scoring). We also specify to use a white-space analyzer, that simply splits tokens on spaces."
      ]
    },
    {
      "cell_type": "code",
      "execution_count": 25,
      "metadata": {
        "colab": {
          "base_uri": "https://localhost:8080/"
        },
        "id": "V8A43nkI5ZJC",
        "outputId": "e7311c07-cd68-4f32-e95e-ee9456fd9d9a"
      },
      "outputs": [
        {
          "data": {
            "text/plain": [
              "{'acknowledged': True, 'index': 'simsearch_index', 'shards_acknowledged': True}"
            ]
          },
          "execution_count": 25,
          "metadata": {},
          "output_type": "execute_result"
        }
      ],
      "source": [
        "index_config = {\n",
        "    \"mappings\": {\n",
        "        \"_source\": {\"enabled\": False},  # do not store STR\n",
        "        \"properties\": {\"repr\": {\"type\": \"text\"}}  # declare the field 'repr' as FULLTEXT\n",
        "    },\n",
        "    \"settings\": {\n",
        "        \"index\": {\"number_of_shards\": 1, \"number_of_replicas\": 0},\n",
        "        \"analysis\": {\"analyzer\": {\"first\": {\"type\": \"whitespace\"}}},  # tokenize by spaces, we don't need fancier analyzers\n",
        "        # \"similarity\": {\"inner_product\": {\"type\": \"scripted\", \"script\": {\"source\": \"return query.boost * doc.freq;\"}}}  # multiply term frequencies only\n",
        "    }\n",
        "}\n",
        "\n",
        "# delete any pre-existing indices\n",
        "es.indices.delete('simsearch_index', ignore=(400, 404))\n",
        "\n",
        "# create the index\n",
        "es.indices.create('simsearch_index', index_config, ignore=400)"
      ]
    },
    {
      "cell_type": "markdown",
      "metadata": {
        "id": "4m5_IZ8MtgMt"
      },
      "source": [
        "We use the utilities provided by the elasticsearch python package to bulk index documents.\n",
        "We define a function that creates elasticsearch indexing commands and use `streaming_bulk` to process them sequentially."
      ]
    },
    {
      "cell_type": "code",
      "execution_count": 26,
      "metadata": {
        "colab": {
          "base_uri": "https://localhost:8080/",
          "height": 49,
          "referenced_widgets": [
            "a5e32a27c4674d2ab71e1d6b4eab6018",
            "2ade269b3d1d4de8ab031a370fd782df",
            "bd3755c78e0d4626863b5015d7044148",
            "81fbf030c927454f99f9958b75ce3fb1",
            "fc9095ce900c4da582e1b99f0902fa9c",
            "0d547885b0c5434e9eeb2a24a20ecb8a",
            "2a350208ce4e4a13a81b63329f364bd5",
            "4178ade426364dc598a5cd44071f0a2b",
            "f6f2328cd37942a0b09f457ab37cef8f",
            "81201be2529e424f843812348b7a6c7b",
            "1af858e18e32400e8a5b6e57bd277e54"
          ]
        },
        "id": "kCJxrvxm543q",
        "outputId": "9362edfa-288c-4477-dd35-73ec3c95188b"
      },
      "outputs": [
        {
          "data": {
            "application/vnd.jupyter.widget-view+json": {
              "model_id": "a5e32a27c4674d2ab71e1d6b4eab6018",
              "version_major": 2,
              "version_minor": 0
            },
            "text/plain": [
              "  0%|          | 0/10000 [00:00<?, ?it/s]"
            ]
          },
          "metadata": {},
          "output_type": "display_data"
        }
      ],
      "source": [
        "from elasticsearch.helpers import streaming_bulk\n",
        "from tqdm.auto import tqdm\n",
        "\n",
        "def generate_docs(index_name, v):\n",
        "  for i, vi in enumerate(v):\n",
        "    yield {'_index': index_name, '_id': i, 'repr': surrogate_text(vi)}\n",
        "\n",
        "docs = generate_docs('simsearch_index', tx)\n",
        "indexing = streaming_bulk(es, docs, chunk_size=150, max_chunk_bytes=2**26)\n",
        "indexing = tqdm(indexing, total=n_samples)\n",
        "\n",
        "for _ in indexing:\n",
        "  pass"
      ]
    },
    {
      "cell_type": "markdown",
      "metadata": {
        "id": "NH0kniiSuIlc"
      },
      "source": [
        "Let's check how many documents have been inserted."
      ]
    },
    {
      "cell_type": "code",
      "execution_count": 27,
      "metadata": {
        "colab": {
          "base_uri": "https://localhost:8080/"
        },
        "id": "KnNnXNvq7-94",
        "outputId": "1e8b0d34-4c7c-4986-ced6-6a6765665c5e"
      },
      "outputs": [
        {
          "name": "stdout",
          "output_type": "stream",
          "text": [
            "{'count': 10000, '_shards': {'total': 1, 'successful': 1, 'skipped': 0, 'failed': 0}}\n"
          ]
        }
      ],
      "source": [
        "print(es.count(index='simsearch_index'))"
      ]
    },
    {
      "cell_type": "markdown",
      "metadata": {
        "id": "RjFCKlBduOrs"
      },
      "source": [
        "Now, we can query the database. We specify we want to search the `repr` field. Since Elasticsearch supports the boosting syntax, we use the shorter surrogate text representation with boosting."
      ]
    },
    {
      "cell_type": "code",
      "execution_count": 28,
      "metadata": {
        "colab": {
          "base_uri": "https://localhost:8080/"
        },
        "id": "_TDtXrMx8Luo",
        "outputId": "6c26315a-6ccf-469f-c723-55980549df38"
      },
      "outputs": [
        {
          "data": {
            "text/plain": [
              "{'_shards': {'failed': 0, 'skipped': 0, 'successful': 1, 'total': 1},\n",
              " 'hits': {'hits': [{'_id': '1989',\n",
              "    '_index': 'simsearch_index',\n",
              "    '_score': 39733.582,\n",
              "    '_type': '_doc'},\n",
              "   {'_id': '3143',\n",
              "    '_index': 'simsearch_index',\n",
              "    '_score': 39706.637,\n",
              "    '_type': '_doc'},\n",
              "   {'_id': '9995',\n",
              "    '_index': 'simsearch_index',\n",
              "    '_score': 39231.664,\n",
              "    '_type': '_doc'},\n",
              "   {'_id': '50',\n",
              "    '_index': 'simsearch_index',\n",
              "    '_score': 39173.15,\n",
              "    '_type': '_doc'},\n",
              "   {'_id': '6392',\n",
              "    '_index': 'simsearch_index',\n",
              "    '_score': 38692.97,\n",
              "    '_type': '_doc'},\n",
              "   {'_id': '5041',\n",
              "    '_index': 'simsearch_index',\n",
              "    '_score': 38680.87,\n",
              "    '_type': '_doc'},\n",
              "   {'_id': '7472',\n",
              "    '_index': 'simsearch_index',\n",
              "    '_score': 38610.68,\n",
              "    '_type': '_doc'},\n",
              "   {'_id': '1418',\n",
              "    '_index': 'simsearch_index',\n",
              "    '_score': 38373.816,\n",
              "    '_type': '_doc'},\n",
              "   {'_id': '5356',\n",
              "    '_index': 'simsearch_index',\n",
              "    '_score': 38337.066,\n",
              "    '_type': '_doc'},\n",
              "   {'_id': '4867',\n",
              "    '_index': 'simsearch_index',\n",
              "    '_score': 38304.723,\n",
              "    '_type': '_doc'},\n",
              "   {'_id': '2021',\n",
              "    '_index': 'simsearch_index',\n",
              "    '_score': 38080.87,\n",
              "    '_type': '_doc'},\n",
              "   {'_id': '1961',\n",
              "    '_index': 'simsearch_index',\n",
              "    '_score': 38027.465,\n",
              "    '_type': '_doc'},\n",
              "   {'_id': '6499',\n",
              "    '_index': 'simsearch_index',\n",
              "    '_score': 37943.06,\n",
              "    '_type': '_doc'},\n",
              "   {'_id': '9901',\n",
              "    '_index': 'simsearch_index',\n",
              "    '_score': 37805.906,\n",
              "    '_type': '_doc'},\n",
              "   {'_id': '7785',\n",
              "    '_index': 'simsearch_index',\n",
              "    '_score': 37795.785,\n",
              "    '_type': '_doc'},\n",
              "   {'_id': '5941',\n",
              "    '_index': 'simsearch_index',\n",
              "    '_score': 37713.926,\n",
              "    '_type': '_doc'},\n",
              "   {'_id': '4503',\n",
              "    '_index': 'simsearch_index',\n",
              "    '_score': 37706.477,\n",
              "    '_type': '_doc'},\n",
              "   {'_id': '870',\n",
              "    '_index': 'simsearch_index',\n",
              "    '_score': 37661.703,\n",
              "    '_type': '_doc'},\n",
              "   {'_id': '322',\n",
              "    '_index': 'simsearch_index',\n",
              "    '_score': 37622.32,\n",
              "    '_type': '_doc'},\n",
              "   {'_id': '1226',\n",
              "    '_index': 'simsearch_index',\n",
              "    '_score': 37589.07,\n",
              "    '_type': '_doc'},\n",
              "   {'_id': '6303',\n",
              "    '_index': 'simsearch_index',\n",
              "    '_score': 37585.582,\n",
              "    '_type': '_doc'},\n",
              "   {'_id': '1811',\n",
              "    '_index': 'simsearch_index',\n",
              "    '_score': 37543.918,\n",
              "    '_type': '_doc'},\n",
              "   {'_id': '5735',\n",
              "    '_index': 'simsearch_index',\n",
              "    '_score': 37341.426,\n",
              "    '_type': '_doc'},\n",
              "   {'_id': '5538',\n",
              "    '_index': 'simsearch_index',\n",
              "    '_score': 37338.89,\n",
              "    '_type': '_doc'},\n",
              "   {'_id': '9085',\n",
              "    '_index': 'simsearch_index',\n",
              "    '_score': 37265.37,\n",
              "    '_type': '_doc'},\n",
              "   {'_id': '4467',\n",
              "    '_index': 'simsearch_index',\n",
              "    '_score': 37242.2,\n",
              "    '_type': '_doc'},\n",
              "   {'_id': '3616',\n",
              "    '_index': 'simsearch_index',\n",
              "    '_score': 37218.44,\n",
              "    '_type': '_doc'},\n",
              "   {'_id': '4663',\n",
              "    '_index': 'simsearch_index',\n",
              "    '_score': 37173.98,\n",
              "    '_type': '_doc'},\n",
              "   {'_id': '4574',\n",
              "    '_index': 'simsearch_index',\n",
              "    '_score': 37032.727,\n",
              "    '_type': '_doc'},\n",
              "   {'_id': '6598',\n",
              "    '_index': 'simsearch_index',\n",
              "    '_score': 37021.34,\n",
              "    '_type': '_doc'},\n",
              "   {'_id': '6590',\n",
              "    '_index': 'simsearch_index',\n",
              "    '_score': 37011.67,\n",
              "    '_type': '_doc'},\n",
              "   {'_id': '5686',\n",
              "    '_index': 'simsearch_index',\n",
              "    '_score': 36897.402,\n",
              "    '_type': '_doc'},\n",
              "   {'_id': '1491',\n",
              "    '_index': 'simsearch_index',\n",
              "    '_score': 36720.668,\n",
              "    '_type': '_doc'},\n",
              "   {'_id': '3684',\n",
              "    '_index': 'simsearch_index',\n",
              "    '_score': 36709.742,\n",
              "    '_type': '_doc'},\n",
              "   {'_id': '9635',\n",
              "    '_index': 'simsearch_index',\n",
              "    '_score': 36683.53,\n",
              "    '_type': '_doc'},\n",
              "   {'_id': '8673',\n",
              "    '_index': 'simsearch_index',\n",
              "    '_score': 36654.79,\n",
              "    '_type': '_doc'},\n",
              "   {'_id': '8452',\n",
              "    '_index': 'simsearch_index',\n",
              "    '_score': 36597.746,\n",
              "    '_type': '_doc'},\n",
              "   {'_id': '3075',\n",
              "    '_index': 'simsearch_index',\n",
              "    '_score': 36587.918,\n",
              "    '_type': '_doc'},\n",
              "   {'_id': '2131',\n",
              "    '_index': 'simsearch_index',\n",
              "    '_score': 36586.203,\n",
              "    '_type': '_doc'},\n",
              "   {'_id': '6747',\n",
              "    '_index': 'simsearch_index',\n",
              "    '_score': 36479.26,\n",
              "    '_type': '_doc'},\n",
              "   {'_id': '72',\n",
              "    '_index': 'simsearch_index',\n",
              "    '_score': 36436.742,\n",
              "    '_type': '_doc'},\n",
              "   {'_id': '1091',\n",
              "    '_index': 'simsearch_index',\n",
              "    '_score': 36436.188,\n",
              "    '_type': '_doc'},\n",
              "   {'_id': '5457',\n",
              "    '_index': 'simsearch_index',\n",
              "    '_score': 36425.715,\n",
              "    '_type': '_doc'},\n",
              "   {'_id': '5940',\n",
              "    '_index': 'simsearch_index',\n",
              "    '_score': 36337.867,\n",
              "    '_type': '_doc'},\n",
              "   {'_id': '3309',\n",
              "    '_index': 'simsearch_index',\n",
              "    '_score': 36337.0,\n",
              "    '_type': '_doc'},\n",
              "   {'_id': '3398',\n",
              "    '_index': 'simsearch_index',\n",
              "    '_score': 36326.94,\n",
              "    '_type': '_doc'},\n",
              "   {'_id': '9616',\n",
              "    '_index': 'simsearch_index',\n",
              "    '_score': 36310.664,\n",
              "    '_type': '_doc'},\n",
              "   {'_id': '852',\n",
              "    '_index': 'simsearch_index',\n",
              "    '_score': 36259.484,\n",
              "    '_type': '_doc'},\n",
              "   {'_id': '6221',\n",
              "    '_index': 'simsearch_index',\n",
              "    '_score': 36221.062,\n",
              "    '_type': '_doc'},\n",
              "   {'_id': '1744',\n",
              "    '_index': 'simsearch_index',\n",
              "    '_score': 36135.82,\n",
              "    '_type': '_doc'},\n",
              "   {'_id': '6577',\n",
              "    '_index': 'simsearch_index',\n",
              "    '_score': 36126.63,\n",
              "    '_type': '_doc'},\n",
              "   {'_id': '3971',\n",
              "    '_index': 'simsearch_index',\n",
              "    '_score': 36116.777,\n",
              "    '_type': '_doc'},\n",
              "   {'_id': '8239',\n",
              "    '_index': 'simsearch_index',\n",
              "    '_score': 36113.586,\n",
              "    '_type': '_doc'},\n",
              "   {'_id': '3617',\n",
              "    '_index': 'simsearch_index',\n",
              "    '_score': 36106.97,\n",
              "    '_type': '_doc'},\n",
              "   {'_id': '3059',\n",
              "    '_index': 'simsearch_index',\n",
              "    '_score': 36089.363,\n",
              "    '_type': '_doc'},\n",
              "   {'_id': '5178',\n",
              "    '_index': 'simsearch_index',\n",
              "    '_score': 36012.57,\n",
              "    '_type': '_doc'},\n",
              "   {'_id': '4535',\n",
              "    '_index': 'simsearch_index',\n",
              "    '_score': 36005.742,\n",
              "    '_type': '_doc'},\n",
              "   {'_id': '6390',\n",
              "    '_index': 'simsearch_index',\n",
              "    '_score': 35999.367,\n",
              "    '_type': '_doc'},\n",
              "   {'_id': '2910',\n",
              "    '_index': 'simsearch_index',\n",
              "    '_score': 35980.25,\n",
              "    '_type': '_doc'},\n",
              "   {'_id': '3085',\n",
              "    '_index': 'simsearch_index',\n",
              "    '_score': 35979.61,\n",
              "    '_type': '_doc'},\n",
              "   {'_id': '9923',\n",
              "    '_index': 'simsearch_index',\n",
              "    '_score': 35927.984,\n",
              "    '_type': '_doc'},\n",
              "   {'_id': '4204',\n",
              "    '_index': 'simsearch_index',\n",
              "    '_score': 35919.57,\n",
              "    '_type': '_doc'},\n",
              "   {'_id': '7499',\n",
              "    '_index': 'simsearch_index',\n",
              "    '_score': 35915.312,\n",
              "    '_type': '_doc'},\n",
              "   {'_id': '909',\n",
              "    '_index': 'simsearch_index',\n",
              "    '_score': 35884.125,\n",
              "    '_type': '_doc'},\n",
              "   {'_id': '5487',\n",
              "    '_index': 'simsearch_index',\n",
              "    '_score': 35848.715,\n",
              "    '_type': '_doc'},\n",
              "   {'_id': '7432',\n",
              "    '_index': 'simsearch_index',\n",
              "    '_score': 35819.543,\n",
              "    '_type': '_doc'},\n",
              "   {'_id': '6800',\n",
              "    '_index': 'simsearch_index',\n",
              "    '_score': 35793.688,\n",
              "    '_type': '_doc'},\n",
              "   {'_id': '8705',\n",
              "    '_index': 'simsearch_index',\n",
              "    '_score': 35782.39,\n",
              "    '_type': '_doc'},\n",
              "   {'_id': '450',\n",
              "    '_index': 'simsearch_index',\n",
              "    '_score': 35759.773,\n",
              "    '_type': '_doc'},\n",
              "   {'_id': '9057',\n",
              "    '_index': 'simsearch_index',\n",
              "    '_score': 35719.11,\n",
              "    '_type': '_doc'},\n",
              "   {'_id': '6640',\n",
              "    '_index': 'simsearch_index',\n",
              "    '_score': 35692.113,\n",
              "    '_type': '_doc'},\n",
              "   {'_id': '3560',\n",
              "    '_index': 'simsearch_index',\n",
              "    '_score': 35672.117,\n",
              "    '_type': '_doc'},\n",
              "   {'_id': '9348',\n",
              "    '_index': 'simsearch_index',\n",
              "    '_score': 35665.195,\n",
              "    '_type': '_doc'},\n",
              "   {'_id': '4499',\n",
              "    '_index': 'simsearch_index',\n",
              "    '_score': 35664.38,\n",
              "    '_type': '_doc'},\n",
              "   {'_id': '725',\n",
              "    '_index': 'simsearch_index',\n",
              "    '_score': 35660.527,\n",
              "    '_type': '_doc'},\n",
              "   {'_id': '1089',\n",
              "    '_index': 'simsearch_index',\n",
              "    '_score': 35639.715,\n",
              "    '_type': '_doc'},\n",
              "   {'_id': '668',\n",
              "    '_index': 'simsearch_index',\n",
              "    '_score': 35639.383,\n",
              "    '_type': '_doc'},\n",
              "   {'_id': '6083',\n",
              "    '_index': 'simsearch_index',\n",
              "    '_score': 35637.62,\n",
              "    '_type': '_doc'},\n",
              "   {'_id': '4918',\n",
              "    '_index': 'simsearch_index',\n",
              "    '_score': 35619.316,\n",
              "    '_type': '_doc'},\n",
              "   {'_id': '4377',\n",
              "    '_index': 'simsearch_index',\n",
              "    '_score': 35603.32,\n",
              "    '_type': '_doc'},\n",
              "   {'_id': '260',\n",
              "    '_index': 'simsearch_index',\n",
              "    '_score': 35556.1,\n",
              "    '_type': '_doc'},\n",
              "   {'_id': '9169',\n",
              "    '_index': 'simsearch_index',\n",
              "    '_score': 35493.773,\n",
              "    '_type': '_doc'},\n",
              "   {'_id': '9244',\n",
              "    '_index': 'simsearch_index',\n",
              "    '_score': 35467.133,\n",
              "    '_type': '_doc'},\n",
              "   {'_id': '1556',\n",
              "    '_index': 'simsearch_index',\n",
              "    '_score': 35465.754,\n",
              "    '_type': '_doc'},\n",
              "   {'_id': '7340',\n",
              "    '_index': 'simsearch_index',\n",
              "    '_score': 35440.785,\n",
              "    '_type': '_doc'},\n",
              "   {'_id': '3819',\n",
              "    '_index': 'simsearch_index',\n",
              "    '_score': 35433.355,\n",
              "    '_type': '_doc'},\n",
              "   {'_id': '8360',\n",
              "    '_index': 'simsearch_index',\n",
              "    '_score': 35429.117,\n",
              "    '_type': '_doc'},\n",
              "   {'_id': '2441',\n",
              "    '_index': 'simsearch_index',\n",
              "    '_score': 35411.97,\n",
              "    '_type': '_doc'},\n",
              "   {'_id': '9467',\n",
              "    '_index': 'simsearch_index',\n",
              "    '_score': 35391.625,\n",
              "    '_type': '_doc'},\n",
              "   {'_id': '9107',\n",
              "    '_index': 'simsearch_index',\n",
              "    '_score': 35351.2,\n",
              "    '_type': '_doc'},\n",
              "   {'_id': '8450',\n",
              "    '_index': 'simsearch_index',\n",
              "    '_score': 35318.68,\n",
              "    '_type': '_doc'},\n",
              "   {'_id': '628',\n",
              "    '_index': 'simsearch_index',\n",
              "    '_score': 35307.207,\n",
              "    '_type': '_doc'},\n",
              "   {'_id': '630',\n",
              "    '_index': 'simsearch_index',\n",
              "    '_score': 35291.68,\n",
              "    '_type': '_doc'},\n",
              "   {'_id': '1058',\n",
              "    '_index': 'simsearch_index',\n",
              "    '_score': 35281.387,\n",
              "    '_type': '_doc'},\n",
              "   {'_id': '5287',\n",
              "    '_index': 'simsearch_index',\n",
              "    '_score': 35277.04,\n",
              "    '_type': '_doc'},\n",
              "   {'_id': '7923',\n",
              "    '_index': 'simsearch_index',\n",
              "    '_score': 35256.324,\n",
              "    '_type': '_doc'},\n",
              "   {'_id': '7589',\n",
              "    '_index': 'simsearch_index',\n",
              "    '_score': 35231.285,\n",
              "    '_type': '_doc'},\n",
              "   {'_id': '8327',\n",
              "    '_index': 'simsearch_index',\n",
              "    '_score': 35203.75,\n",
              "    '_type': '_doc'},\n",
              "   {'_id': '5102',\n",
              "    '_index': 'simsearch_index',\n",
              "    '_score': 35191.832,\n",
              "    '_type': '_doc'},\n",
              "   {'_id': '8395',\n",
              "    '_index': 'simsearch_index',\n",
              "    '_score': 35191.715,\n",
              "    '_type': '_doc'}],\n",
              "  'max_score': 39733.582,\n",
              "  'total': {'relation': 'eq', 'value': 10000}},\n",
              " 'timed_out': False,\n",
              " 'took': 911}"
            ]
          },
          "execution_count": 28,
          "metadata": {},
          "output_type": "execute_result"
        }
      ],
      "source": [
        "qi = tq[0]  # first query\n",
        "\n",
        "query = {\n",
        "  \"query\": {\"query_string\": {\"default_field\": \"repr\", \"query\": surrogate_text_boost(qi)}},\n",
        "  \"from\": 0, \"size\": k\n",
        "}\n",
        "\n",
        "results = es.search(index='simsearch_index', body=query)\n",
        "results"
      ]
    },
    {
      "cell_type": "markdown",
      "metadata": {
        "id": "CCwBs48hOdI6"
      },
      "source": [
        "Let's compute the recall for our query."
      ]
    },
    {
      "cell_type": "code",
      "execution_count": 29,
      "metadata": {
        "colab": {
          "base_uri": "https://localhost:8080/"
        },
        "id": "8HmltZRWOgBi",
        "outputId": "d3ec8a6e-f699-41f9-c58d-6864b48329c7"
      },
      "outputs": [
        {
          "data": {
            "text/plain": [
              "array([[1989, 3143, 9995,   50, 6392, 5041, 7472, 1418, 5356, 4867, 2021,\n",
              "        1961, 6499, 9901, 7785, 5941, 4503,  870,  322, 1226, 6303, 1811,\n",
              "        5735, 5538, 9085, 4467, 3616, 4663, 4574, 6598, 6590, 5686, 1491,\n",
              "        3684, 9635, 8673, 8452, 3075, 2131, 6747,   72, 1091, 5457, 5940,\n",
              "        3309, 3398, 9616,  852, 6221, 1744, 6577, 3971, 8239, 3617, 3059,\n",
              "        5178, 4535, 6390, 2910, 3085, 9923, 4204, 7499,  909, 5487, 7432,\n",
              "        6800, 8705,  450, 9057, 6640, 3560, 9348, 4499,  725, 1089,  668,\n",
              "        6083, 4918, 4377,  260, 9169, 9244, 1556, 7340, 3819, 8360, 2441,\n",
              "        9467, 9107, 8450,  628,  630, 1058, 5287, 7923, 7589, 8327, 5102,\n",
              "        8395]])"
            ]
          },
          "execution_count": 29,
          "metadata": {},
          "output_type": "execute_result"
        }
      ],
      "source": [
        "topk = [int(hit['_id']) for hit in results['hits']['hits']]\n",
        "topk = np.array([topk])  # make it a matrix with 1 row\n",
        "topk"
      ]
    },
    {
      "cell_type": "code",
      "execution_count": 30,
      "metadata": {
        "colab": {
          "base_uri": "https://localhost:8080/"
        },
        "id": "CfeKl3N5O4nB",
        "outputId": "5a802c84-d701-4920-e046-d42f6e2d1a93"
      },
      "outputs": [
        {
          "data": {
            "text/plain": [
              "0.5"
            ]
          },
          "execution_count": 30,
          "metadata": {},
          "output_type": "execute_result"
        }
      ],
      "source": [
        "qi_true_neighbors = true_neighbors[[0]]  # make it a matrix with 1 row\n",
        "compute_recall(qi_true_neighbors, topk)"
      ]
    },
    {
      "cell_type": "markdown",
      "metadata": {
        "id": "lXcV5YBgaxVC"
      },
      "source": [
        "## Additional Resources\n",
        "\n",
        "*   https://github.com/erikbern/ann-benchmarks/\n",
        "*   http://melisandre.deepfeatures.org/\n",
        "*   https://www.elastic.co/elasticsearch/\n"
      ]
    }
  ],
  "metadata": {
    "colab": {
      "include_colab_link": true,
      "name": "surrogate_text_representation.ipynb",
      "provenance": []
    },
    "kernelspec": {
      "display_name": "Python 3.10.4 64-bit",
      "language": "python",
      "name": "python3"
    },
    "language_info": {
      "name": "python",
      "version": "3.10.4"
    },
    "orig_nbformat": 4,
    "vscode": {
      "interpreter": {
        "hash": "916dbcbb3f70747c44a77c7bcd40155683ae19c65e1c03b4aa3499c5328201f1"
      }
    },
    "widgets": {
      "application/vnd.jupyter.widget-state+json": {
        "0d547885b0c5434e9eeb2a24a20ecb8a": {
          "model_module": "@jupyter-widgets/base",
          "model_module_version": "1.2.0",
          "model_name": "LayoutModel",
          "state": {
            "_model_module": "@jupyter-widgets/base",
            "_model_module_version": "1.2.0",
            "_model_name": "LayoutModel",
            "_view_count": null,
            "_view_module": "@jupyter-widgets/base",
            "_view_module_version": "1.2.0",
            "_view_name": "LayoutView",
            "align_content": null,
            "align_items": null,
            "align_self": null,
            "border": null,
            "bottom": null,
            "display": null,
            "flex": null,
            "flex_flow": null,
            "grid_area": null,
            "grid_auto_columns": null,
            "grid_auto_flow": null,
            "grid_auto_rows": null,
            "grid_column": null,
            "grid_gap": null,
            "grid_row": null,
            "grid_template_areas": null,
            "grid_template_columns": null,
            "grid_template_rows": null,
            "height": null,
            "justify_content": null,
            "justify_items": null,
            "left": null,
            "margin": null,
            "max_height": null,
            "max_width": null,
            "min_height": null,
            "min_width": null,
            "object_fit": null,
            "object_position": null,
            "order": null,
            "overflow": null,
            "overflow_x": null,
            "overflow_y": null,
            "padding": null,
            "right": null,
            "top": null,
            "visibility": null,
            "width": null
          }
        },
        "1af858e18e32400e8a5b6e57bd277e54": {
          "model_module": "@jupyter-widgets/controls",
          "model_module_version": "1.5.0",
          "model_name": "DescriptionStyleModel",
          "state": {
            "_model_module": "@jupyter-widgets/controls",
            "_model_module_version": "1.5.0",
            "_model_name": "DescriptionStyleModel",
            "_view_count": null,
            "_view_module": "@jupyter-widgets/base",
            "_view_module_version": "1.2.0",
            "_view_name": "StyleView",
            "description_width": ""
          }
        },
        "2a350208ce4e4a13a81b63329f364bd5": {
          "model_module": "@jupyter-widgets/controls",
          "model_module_version": "1.5.0",
          "model_name": "DescriptionStyleModel",
          "state": {
            "_model_module": "@jupyter-widgets/controls",
            "_model_module_version": "1.5.0",
            "_model_name": "DescriptionStyleModel",
            "_view_count": null,
            "_view_module": "@jupyter-widgets/base",
            "_view_module_version": "1.2.0",
            "_view_name": "StyleView",
            "description_width": ""
          }
        },
        "2ade269b3d1d4de8ab031a370fd782df": {
          "model_module": "@jupyter-widgets/controls",
          "model_module_version": "1.5.0",
          "model_name": "HTMLModel",
          "state": {
            "_dom_classes": [],
            "_model_module": "@jupyter-widgets/controls",
            "_model_module_version": "1.5.0",
            "_model_name": "HTMLModel",
            "_view_count": null,
            "_view_module": "@jupyter-widgets/controls",
            "_view_module_version": "1.5.0",
            "_view_name": "HTMLView",
            "description": "",
            "description_tooltip": null,
            "layout": "IPY_MODEL_0d547885b0c5434e9eeb2a24a20ecb8a",
            "placeholder": "​",
            "style": "IPY_MODEL_2a350208ce4e4a13a81b63329f364bd5",
            "value": "100%"
          }
        },
        "4178ade426364dc598a5cd44071f0a2b": {
          "model_module": "@jupyter-widgets/base",
          "model_module_version": "1.2.0",
          "model_name": "LayoutModel",
          "state": {
            "_model_module": "@jupyter-widgets/base",
            "_model_module_version": "1.2.0",
            "_model_name": "LayoutModel",
            "_view_count": null,
            "_view_module": "@jupyter-widgets/base",
            "_view_module_version": "1.2.0",
            "_view_name": "LayoutView",
            "align_content": null,
            "align_items": null,
            "align_self": null,
            "border": null,
            "bottom": null,
            "display": null,
            "flex": null,
            "flex_flow": null,
            "grid_area": null,
            "grid_auto_columns": null,
            "grid_auto_flow": null,
            "grid_auto_rows": null,
            "grid_column": null,
            "grid_gap": null,
            "grid_row": null,
            "grid_template_areas": null,
            "grid_template_columns": null,
            "grid_template_rows": null,
            "height": null,
            "justify_content": null,
            "justify_items": null,
            "left": null,
            "margin": null,
            "max_height": null,
            "max_width": null,
            "min_height": null,
            "min_width": null,
            "object_fit": null,
            "object_position": null,
            "order": null,
            "overflow": null,
            "overflow_x": null,
            "overflow_y": null,
            "padding": null,
            "right": null,
            "top": null,
            "visibility": null,
            "width": null
          }
        },
        "81201be2529e424f843812348b7a6c7b": {
          "model_module": "@jupyter-widgets/base",
          "model_module_version": "1.2.0",
          "model_name": "LayoutModel",
          "state": {
            "_model_module": "@jupyter-widgets/base",
            "_model_module_version": "1.2.0",
            "_model_name": "LayoutModel",
            "_view_count": null,
            "_view_module": "@jupyter-widgets/base",
            "_view_module_version": "1.2.0",
            "_view_name": "LayoutView",
            "align_content": null,
            "align_items": null,
            "align_self": null,
            "border": null,
            "bottom": null,
            "display": null,
            "flex": null,
            "flex_flow": null,
            "grid_area": null,
            "grid_auto_columns": null,
            "grid_auto_flow": null,
            "grid_auto_rows": null,
            "grid_column": null,
            "grid_gap": null,
            "grid_row": null,
            "grid_template_areas": null,
            "grid_template_columns": null,
            "grid_template_rows": null,
            "height": null,
            "justify_content": null,
            "justify_items": null,
            "left": null,
            "margin": null,
            "max_height": null,
            "max_width": null,
            "min_height": null,
            "min_width": null,
            "object_fit": null,
            "object_position": null,
            "order": null,
            "overflow": null,
            "overflow_x": null,
            "overflow_y": null,
            "padding": null,
            "right": null,
            "top": null,
            "visibility": null,
            "width": null
          }
        },
        "81fbf030c927454f99f9958b75ce3fb1": {
          "model_module": "@jupyter-widgets/controls",
          "model_module_version": "1.5.0",
          "model_name": "HTMLModel",
          "state": {
            "_dom_classes": [],
            "_model_module": "@jupyter-widgets/controls",
            "_model_module_version": "1.5.0",
            "_model_name": "HTMLModel",
            "_view_count": null,
            "_view_module": "@jupyter-widgets/controls",
            "_view_module_version": "1.5.0",
            "_view_name": "HTMLView",
            "description": "",
            "description_tooltip": null,
            "layout": "IPY_MODEL_81201be2529e424f843812348b7a6c7b",
            "placeholder": "​",
            "style": "IPY_MODEL_1af858e18e32400e8a5b6e57bd277e54",
            "value": " 10000/10000 [02:02&lt;00:00, 111.52it/s]"
          }
        },
        "a5e32a27c4674d2ab71e1d6b4eab6018": {
          "model_module": "@jupyter-widgets/controls",
          "model_module_version": "1.5.0",
          "model_name": "HBoxModel",
          "state": {
            "_dom_classes": [],
            "_model_module": "@jupyter-widgets/controls",
            "_model_module_version": "1.5.0",
            "_model_name": "HBoxModel",
            "_view_count": null,
            "_view_module": "@jupyter-widgets/controls",
            "_view_module_version": "1.5.0",
            "_view_name": "HBoxView",
            "box_style": "",
            "children": [
              "IPY_MODEL_2ade269b3d1d4de8ab031a370fd782df",
              "IPY_MODEL_bd3755c78e0d4626863b5015d7044148",
              "IPY_MODEL_81fbf030c927454f99f9958b75ce3fb1"
            ],
            "layout": "IPY_MODEL_fc9095ce900c4da582e1b99f0902fa9c"
          }
        },
        "bd3755c78e0d4626863b5015d7044148": {
          "model_module": "@jupyter-widgets/controls",
          "model_module_version": "1.5.0",
          "model_name": "FloatProgressModel",
          "state": {
            "_dom_classes": [],
            "_model_module": "@jupyter-widgets/controls",
            "_model_module_version": "1.5.0",
            "_model_name": "FloatProgressModel",
            "_view_count": null,
            "_view_module": "@jupyter-widgets/controls",
            "_view_module_version": "1.5.0",
            "_view_name": "ProgressView",
            "bar_style": "success",
            "description": "",
            "description_tooltip": null,
            "layout": "IPY_MODEL_4178ade426364dc598a5cd44071f0a2b",
            "max": 10000,
            "min": 0,
            "orientation": "horizontal",
            "style": "IPY_MODEL_f6f2328cd37942a0b09f457ab37cef8f",
            "value": 10000
          }
        },
        "f6f2328cd37942a0b09f457ab37cef8f": {
          "model_module": "@jupyter-widgets/controls",
          "model_module_version": "1.5.0",
          "model_name": "ProgressStyleModel",
          "state": {
            "_model_module": "@jupyter-widgets/controls",
            "_model_module_version": "1.5.0",
            "_model_name": "ProgressStyleModel",
            "_view_count": null,
            "_view_module": "@jupyter-widgets/base",
            "_view_module_version": "1.2.0",
            "_view_name": "StyleView",
            "bar_color": null,
            "description_width": ""
          }
        },
        "fc9095ce900c4da582e1b99f0902fa9c": {
          "model_module": "@jupyter-widgets/base",
          "model_module_version": "1.2.0",
          "model_name": "LayoutModel",
          "state": {
            "_model_module": "@jupyter-widgets/base",
            "_model_module_version": "1.2.0",
            "_model_name": "LayoutModel",
            "_view_count": null,
            "_view_module": "@jupyter-widgets/base",
            "_view_module_version": "1.2.0",
            "_view_name": "LayoutView",
            "align_content": null,
            "align_items": null,
            "align_self": null,
            "border": null,
            "bottom": null,
            "display": null,
            "flex": null,
            "flex_flow": null,
            "grid_area": null,
            "grid_auto_columns": null,
            "grid_auto_flow": null,
            "grid_auto_rows": null,
            "grid_column": null,
            "grid_gap": null,
            "grid_row": null,
            "grid_template_areas": null,
            "grid_template_columns": null,
            "grid_template_rows": null,
            "height": null,
            "justify_content": null,
            "justify_items": null,
            "left": null,
            "margin": null,
            "max_height": null,
            "max_width": null,
            "min_height": null,
            "min_width": null,
            "object_fit": null,
            "object_position": null,
            "order": null,
            "overflow": null,
            "overflow_x": null,
            "overflow_y": null,
            "padding": null,
            "right": null,
            "top": null,
            "visibility": null,
            "width": null
          }
        }
      }
    }
  },
  "nbformat": 4,
  "nbformat_minor": 0
}
