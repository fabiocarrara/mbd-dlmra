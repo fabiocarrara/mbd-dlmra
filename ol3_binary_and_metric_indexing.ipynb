{
  "nbformat": 4,
  "nbformat_minor": 0,
  "metadata": {
    "colab": {
      "name": "ol3_binary_and_metric_indexing.ipynb",
      "provenance": [],
      "collapsed_sections": [],
      "authorship_tag": "ABX9TyPJJ+Ej2JHSEUfgCKvbOQX0",
      "include_colab_link": true
    },
    "kernelspec": {
      "name": "python3",
      "display_name": "Python 3"
    },
    "language_info": {
      "name": "python"
    },
    "widgets": {
      "application/vnd.jupyter.widget-state+json": {
        "a83c90cf8d284d9da2eb60c9be5cd6f7": {
          "model_module": "@jupyter-widgets/controls",
          "model_name": "HBoxModel",
          "model_module_version": "1.5.0",
          "state": {
            "_view_name": "HBoxView",
            "_dom_classes": [],
            "_model_name": "HBoxModel",
            "_view_module": "@jupyter-widgets/controls",
            "_model_module_version": "1.5.0",
            "_view_count": null,
            "_view_module_version": "1.5.0",
            "box_style": "",
            "layout": "IPY_MODEL_2a786f0dcb0d493ab585c442aacf0db9",
            "_model_module": "@jupyter-widgets/controls",
            "children": [
              "IPY_MODEL_5c0592dd005f4274ae96a5027ded84b2",
              "IPY_MODEL_00c13ae0ee104229b567e57518bfbaa8"
            ]
          }
        },
        "2a786f0dcb0d493ab585c442aacf0db9": {
          "model_module": "@jupyter-widgets/base",
          "model_name": "LayoutModel",
          "model_module_version": "1.2.0",
          "state": {
            "_view_name": "LayoutView",
            "grid_template_rows": null,
            "right": null,
            "justify_content": null,
            "_view_module": "@jupyter-widgets/base",
            "overflow": null,
            "_model_module_version": "1.2.0",
            "_view_count": null,
            "flex_flow": null,
            "width": null,
            "min_width": null,
            "border": null,
            "align_items": null,
            "bottom": null,
            "_model_module": "@jupyter-widgets/base",
            "top": null,
            "grid_column": null,
            "overflow_y": null,
            "overflow_x": null,
            "grid_auto_flow": null,
            "grid_area": null,
            "grid_template_columns": null,
            "flex": null,
            "_model_name": "LayoutModel",
            "justify_items": null,
            "grid_row": null,
            "max_height": null,
            "align_content": null,
            "visibility": null,
            "align_self": null,
            "height": null,
            "min_height": null,
            "padding": null,
            "grid_auto_rows": null,
            "grid_gap": null,
            "max_width": null,
            "order": null,
            "_view_module_version": "1.2.0",
            "grid_template_areas": null,
            "object_position": null,
            "object_fit": null,
            "grid_auto_columns": null,
            "margin": null,
            "display": null,
            "left": null
          }
        },
        "5c0592dd005f4274ae96a5027ded84b2": {
          "model_module": "@jupyter-widgets/controls",
          "model_name": "FloatProgressModel",
          "model_module_version": "1.5.0",
          "state": {
            "_view_name": "ProgressView",
            "style": "IPY_MODEL_d88b0791f5da4da5bb6cc0e84b390b7f",
            "_dom_classes": [],
            "description": "100%",
            "_model_name": "FloatProgressModel",
            "bar_style": "success",
            "max": 50,
            "_view_module": "@jupyter-widgets/controls",
            "_model_module_version": "1.5.0",
            "value": 50,
            "_view_count": null,
            "_view_module_version": "1.5.0",
            "orientation": "horizontal",
            "min": 0,
            "description_tooltip": null,
            "_model_module": "@jupyter-widgets/controls",
            "layout": "IPY_MODEL_1e3e8e78ece946d8b36686a787495e97"
          }
        },
        "00c13ae0ee104229b567e57518bfbaa8": {
          "model_module": "@jupyter-widgets/controls",
          "model_name": "HTMLModel",
          "model_module_version": "1.5.0",
          "state": {
            "_view_name": "HTMLView",
            "style": "IPY_MODEL_ede99b37c60c4877b825111f8cec870d",
            "_dom_classes": [],
            "description": "",
            "_model_name": "HTMLModel",
            "placeholder": "​",
            "_view_module": "@jupyter-widgets/controls",
            "_model_module_version": "1.5.0",
            "value": " 50/50 [00:42&lt;00:00,  1.17it/s]",
            "_view_count": null,
            "_view_module_version": "1.5.0",
            "description_tooltip": null,
            "_model_module": "@jupyter-widgets/controls",
            "layout": "IPY_MODEL_d8cb246fa43c4819a10895e6f5abd52e"
          }
        },
        "d88b0791f5da4da5bb6cc0e84b390b7f": {
          "model_module": "@jupyter-widgets/controls",
          "model_name": "ProgressStyleModel",
          "model_module_version": "1.5.0",
          "state": {
            "_view_name": "StyleView",
            "_model_name": "ProgressStyleModel",
            "description_width": "initial",
            "_view_module": "@jupyter-widgets/base",
            "_model_module_version": "1.5.0",
            "_view_count": null,
            "_view_module_version": "1.2.0",
            "bar_color": null,
            "_model_module": "@jupyter-widgets/controls"
          }
        },
        "1e3e8e78ece946d8b36686a787495e97": {
          "model_module": "@jupyter-widgets/base",
          "model_name": "LayoutModel",
          "model_module_version": "1.2.0",
          "state": {
            "_view_name": "LayoutView",
            "grid_template_rows": null,
            "right": null,
            "justify_content": null,
            "_view_module": "@jupyter-widgets/base",
            "overflow": null,
            "_model_module_version": "1.2.0",
            "_view_count": null,
            "flex_flow": null,
            "width": null,
            "min_width": null,
            "border": null,
            "align_items": null,
            "bottom": null,
            "_model_module": "@jupyter-widgets/base",
            "top": null,
            "grid_column": null,
            "overflow_y": null,
            "overflow_x": null,
            "grid_auto_flow": null,
            "grid_area": null,
            "grid_template_columns": null,
            "flex": null,
            "_model_name": "LayoutModel",
            "justify_items": null,
            "grid_row": null,
            "max_height": null,
            "align_content": null,
            "visibility": null,
            "align_self": null,
            "height": null,
            "min_height": null,
            "padding": null,
            "grid_auto_rows": null,
            "grid_gap": null,
            "max_width": null,
            "order": null,
            "_view_module_version": "1.2.0",
            "grid_template_areas": null,
            "object_position": null,
            "object_fit": null,
            "grid_auto_columns": null,
            "margin": null,
            "display": null,
            "left": null
          }
        },
        "ede99b37c60c4877b825111f8cec870d": {
          "model_module": "@jupyter-widgets/controls",
          "model_name": "DescriptionStyleModel",
          "model_module_version": "1.5.0",
          "state": {
            "_view_name": "StyleView",
            "_model_name": "DescriptionStyleModel",
            "description_width": "",
            "_view_module": "@jupyter-widgets/base",
            "_model_module_version": "1.5.0",
            "_view_count": null,
            "_view_module_version": "1.2.0",
            "_model_module": "@jupyter-widgets/controls"
          }
        },
        "d8cb246fa43c4819a10895e6f5abd52e": {
          "model_module": "@jupyter-widgets/base",
          "model_name": "LayoutModel",
          "model_module_version": "1.2.0",
          "state": {
            "_view_name": "LayoutView",
            "grid_template_rows": null,
            "right": null,
            "justify_content": null,
            "_view_module": "@jupyter-widgets/base",
            "overflow": null,
            "_model_module_version": "1.2.0",
            "_view_count": null,
            "flex_flow": null,
            "width": null,
            "min_width": null,
            "border": null,
            "align_items": null,
            "bottom": null,
            "_model_module": "@jupyter-widgets/base",
            "top": null,
            "grid_column": null,
            "overflow_y": null,
            "overflow_x": null,
            "grid_auto_flow": null,
            "grid_area": null,
            "grid_template_columns": null,
            "flex": null,
            "_model_name": "LayoutModel",
            "justify_items": null,
            "grid_row": null,
            "max_height": null,
            "align_content": null,
            "visibility": null,
            "align_self": null,
            "height": null,
            "min_height": null,
            "padding": null,
            "grid_auto_rows": null,
            "grid_gap": null,
            "max_width": null,
            "order": null,
            "_view_module_version": "1.2.0",
            "grid_template_areas": null,
            "object_position": null,
            "object_fit": null,
            "grid_auto_columns": null,
            "margin": null,
            "display": null,
            "left": null
          }
        },
        "69143c4fbffc4733a674ad09daee2d5d": {
          "model_module": "@jupyter-widgets/controls",
          "model_name": "HBoxModel",
          "model_module_version": "1.5.0",
          "state": {
            "_view_name": "HBoxView",
            "_dom_classes": [],
            "_model_name": "HBoxModel",
            "_view_module": "@jupyter-widgets/controls",
            "_model_module_version": "1.5.0",
            "_view_count": null,
            "_view_module_version": "1.5.0",
            "box_style": "",
            "layout": "IPY_MODEL_a0670ce841fb4f24a97693ef3d14c924",
            "_model_module": "@jupyter-widgets/controls",
            "children": [
              "IPY_MODEL_a10e2b63743b4c41b9fe6a943caac87a",
              "IPY_MODEL_5af5e299c8e64d57bb815742215e72a9"
            ]
          }
        },
        "a0670ce841fb4f24a97693ef3d14c924": {
          "model_module": "@jupyter-widgets/base",
          "model_name": "LayoutModel",
          "model_module_version": "1.2.0",
          "state": {
            "_view_name": "LayoutView",
            "grid_template_rows": null,
            "right": null,
            "justify_content": null,
            "_view_module": "@jupyter-widgets/base",
            "overflow": null,
            "_model_module_version": "1.2.0",
            "_view_count": null,
            "flex_flow": null,
            "width": null,
            "min_width": null,
            "border": null,
            "align_items": null,
            "bottom": null,
            "_model_module": "@jupyter-widgets/base",
            "top": null,
            "grid_column": null,
            "overflow_y": null,
            "overflow_x": null,
            "grid_auto_flow": null,
            "grid_area": null,
            "grid_template_columns": null,
            "flex": null,
            "_model_name": "LayoutModel",
            "justify_items": null,
            "grid_row": null,
            "max_height": null,
            "align_content": null,
            "visibility": null,
            "align_self": null,
            "height": null,
            "min_height": null,
            "padding": null,
            "grid_auto_rows": null,
            "grid_gap": null,
            "max_width": null,
            "order": null,
            "_view_module_version": "1.2.0",
            "grid_template_areas": null,
            "object_position": null,
            "object_fit": null,
            "grid_auto_columns": null,
            "margin": null,
            "display": null,
            "left": null
          }
        },
        "a10e2b63743b4c41b9fe6a943caac87a": {
          "model_module": "@jupyter-widgets/controls",
          "model_name": "FloatProgressModel",
          "model_module_version": "1.5.0",
          "state": {
            "_view_name": "ProgressView",
            "style": "IPY_MODEL_9a5a2c7d56fd44e1b382c16c83099b2e",
            "_dom_classes": [],
            "description": "100%",
            "_model_name": "FloatProgressModel",
            "bar_style": "success",
            "max": 4,
            "_view_module": "@jupyter-widgets/controls",
            "_model_module_version": "1.5.0",
            "value": 4,
            "_view_count": null,
            "_view_module_version": "1.5.0",
            "orientation": "horizontal",
            "min": 0,
            "description_tooltip": null,
            "_model_module": "@jupyter-widgets/controls",
            "layout": "IPY_MODEL_4b873aa7799f485ca153b09cb7127d39"
          }
        },
        "5af5e299c8e64d57bb815742215e72a9": {
          "model_module": "@jupyter-widgets/controls",
          "model_name": "HTMLModel",
          "model_module_version": "1.5.0",
          "state": {
            "_view_name": "HTMLView",
            "style": "IPY_MODEL_99ee310991d64ed48ebdccb462c5020c",
            "_dom_classes": [],
            "description": "",
            "_model_name": "HTMLModel",
            "placeholder": "​",
            "_view_module": "@jupyter-widgets/controls",
            "_model_module_version": "1.5.0",
            "value": " 4/4 [00:19&lt;00:00,  4.77s/it]",
            "_view_count": null,
            "_view_module_version": "1.5.0",
            "description_tooltip": null,
            "_model_module": "@jupyter-widgets/controls",
            "layout": "IPY_MODEL_d49f2d0c8d6e4062a4440d3721f2d046"
          }
        },
        "9a5a2c7d56fd44e1b382c16c83099b2e": {
          "model_module": "@jupyter-widgets/controls",
          "model_name": "ProgressStyleModel",
          "model_module_version": "1.5.0",
          "state": {
            "_view_name": "StyleView",
            "_model_name": "ProgressStyleModel",
            "description_width": "initial",
            "_view_module": "@jupyter-widgets/base",
            "_model_module_version": "1.5.0",
            "_view_count": null,
            "_view_module_version": "1.2.0",
            "bar_color": null,
            "_model_module": "@jupyter-widgets/controls"
          }
        },
        "4b873aa7799f485ca153b09cb7127d39": {
          "model_module": "@jupyter-widgets/base",
          "model_name": "LayoutModel",
          "model_module_version": "1.2.0",
          "state": {
            "_view_name": "LayoutView",
            "grid_template_rows": null,
            "right": null,
            "justify_content": null,
            "_view_module": "@jupyter-widgets/base",
            "overflow": null,
            "_model_module_version": "1.2.0",
            "_view_count": null,
            "flex_flow": null,
            "width": null,
            "min_width": null,
            "border": null,
            "align_items": null,
            "bottom": null,
            "_model_module": "@jupyter-widgets/base",
            "top": null,
            "grid_column": null,
            "overflow_y": null,
            "overflow_x": null,
            "grid_auto_flow": null,
            "grid_area": null,
            "grid_template_columns": null,
            "flex": null,
            "_model_name": "LayoutModel",
            "justify_items": null,
            "grid_row": null,
            "max_height": null,
            "align_content": null,
            "visibility": null,
            "align_self": null,
            "height": null,
            "min_height": null,
            "padding": null,
            "grid_auto_rows": null,
            "grid_gap": null,
            "max_width": null,
            "order": null,
            "_view_module_version": "1.2.0",
            "grid_template_areas": null,
            "object_position": null,
            "object_fit": null,
            "grid_auto_columns": null,
            "margin": null,
            "display": null,
            "left": null
          }
        },
        "99ee310991d64ed48ebdccb462c5020c": {
          "model_module": "@jupyter-widgets/controls",
          "model_name": "DescriptionStyleModel",
          "model_module_version": "1.5.0",
          "state": {
            "_view_name": "StyleView",
            "_model_name": "DescriptionStyleModel",
            "description_width": "",
            "_view_module": "@jupyter-widgets/base",
            "_model_module_version": "1.5.0",
            "_view_count": null,
            "_view_module_version": "1.2.0",
            "_model_module": "@jupyter-widgets/controls"
          }
        },
        "d49f2d0c8d6e4062a4440d3721f2d046": {
          "model_module": "@jupyter-widgets/base",
          "model_name": "LayoutModel",
          "model_module_version": "1.2.0",
          "state": {
            "_view_name": "LayoutView",
            "grid_template_rows": null,
            "right": null,
            "justify_content": null,
            "_view_module": "@jupyter-widgets/base",
            "overflow": null,
            "_model_module_version": "1.2.0",
            "_view_count": null,
            "flex_flow": null,
            "width": null,
            "min_width": null,
            "border": null,
            "align_items": null,
            "bottom": null,
            "_model_module": "@jupyter-widgets/base",
            "top": null,
            "grid_column": null,
            "overflow_y": null,
            "overflow_x": null,
            "grid_auto_flow": null,
            "grid_area": null,
            "grid_template_columns": null,
            "flex": null,
            "_model_name": "LayoutModel",
            "justify_items": null,
            "grid_row": null,
            "max_height": null,
            "align_content": null,
            "visibility": null,
            "align_self": null,
            "height": null,
            "min_height": null,
            "padding": null,
            "grid_auto_rows": null,
            "grid_gap": null,
            "max_width": null,
            "order": null,
            "_view_module_version": "1.2.0",
            "grid_template_areas": null,
            "object_position": null,
            "object_fit": null,
            "grid_auto_columns": null,
            "margin": null,
            "display": null,
            "left": null
          }
        },
        "44ded0ca6167418bb48394812427bf9b": {
          "model_module": "@jupyter-widgets/controls",
          "model_name": "HBoxModel",
          "model_module_version": "1.5.0",
          "state": {
            "_view_name": "HBoxView",
            "_dom_classes": [],
            "_model_name": "HBoxModel",
            "_view_module": "@jupyter-widgets/controls",
            "_model_module_version": "1.5.0",
            "_view_count": null,
            "_view_module_version": "1.5.0",
            "box_style": "",
            "layout": "IPY_MODEL_c408ba7666e7490eaa0b6e9070a2c9f8",
            "_model_module": "@jupyter-widgets/controls",
            "children": [
              "IPY_MODEL_89b91b4b1e094fd0b7d10deb05d397d3",
              "IPY_MODEL_e10b6511b0a24d6d98c507ca8682422a"
            ]
          }
        },
        "c408ba7666e7490eaa0b6e9070a2c9f8": {
          "model_module": "@jupyter-widgets/base",
          "model_name": "LayoutModel",
          "model_module_version": "1.2.0",
          "state": {
            "_view_name": "LayoutView",
            "grid_template_rows": null,
            "right": null,
            "justify_content": null,
            "_view_module": "@jupyter-widgets/base",
            "overflow": null,
            "_model_module_version": "1.2.0",
            "_view_count": null,
            "flex_flow": null,
            "width": null,
            "min_width": null,
            "border": null,
            "align_items": null,
            "bottom": null,
            "_model_module": "@jupyter-widgets/base",
            "top": null,
            "grid_column": null,
            "overflow_y": null,
            "overflow_x": null,
            "grid_auto_flow": null,
            "grid_area": null,
            "grid_template_columns": null,
            "flex": null,
            "_model_name": "LayoutModel",
            "justify_items": null,
            "grid_row": null,
            "max_height": null,
            "align_content": null,
            "visibility": null,
            "align_self": null,
            "height": null,
            "min_height": null,
            "padding": null,
            "grid_auto_rows": null,
            "grid_gap": null,
            "max_width": null,
            "order": null,
            "_view_module_version": "1.2.0",
            "grid_template_areas": null,
            "object_position": null,
            "object_fit": null,
            "grid_auto_columns": null,
            "margin": null,
            "display": null,
            "left": null
          }
        },
        "89b91b4b1e094fd0b7d10deb05d397d3": {
          "model_module": "@jupyter-widgets/controls",
          "model_name": "FloatProgressModel",
          "model_module_version": "1.5.0",
          "state": {
            "_view_name": "ProgressView",
            "style": "IPY_MODEL_ed85e3b575a447d5aa1ab18940bcca69",
            "_dom_classes": [],
            "description": "100%",
            "_model_name": "FloatProgressModel",
            "bar_style": "success",
            "max": 2,
            "_view_module": "@jupyter-widgets/controls",
            "_model_module_version": "1.5.0",
            "value": 2,
            "_view_count": null,
            "_view_module_version": "1.5.0",
            "orientation": "horizontal",
            "min": 0,
            "description_tooltip": null,
            "_model_module": "@jupyter-widgets/controls",
            "layout": "IPY_MODEL_5a2a4714447f40138ec0dcd736cb8749"
          }
        },
        "e10b6511b0a24d6d98c507ca8682422a": {
          "model_module": "@jupyter-widgets/controls",
          "model_name": "HTMLModel",
          "model_module_version": "1.5.0",
          "state": {
            "_view_name": "HTMLView",
            "style": "IPY_MODEL_05fc76003af84f1f97d292640ea7ea93",
            "_dom_classes": [],
            "description": "",
            "_model_name": "HTMLModel",
            "placeholder": "​",
            "_view_module": "@jupyter-widgets/controls",
            "_model_module_version": "1.5.0",
            "value": " 2/2 [02:06&lt;00:00, 63.02s/it]",
            "_view_count": null,
            "_view_module_version": "1.5.0",
            "description_tooltip": null,
            "_model_module": "@jupyter-widgets/controls",
            "layout": "IPY_MODEL_ff137dea961f4ca5b3f9859a7da2b7e2"
          }
        },
        "ed85e3b575a447d5aa1ab18940bcca69": {
          "model_module": "@jupyter-widgets/controls",
          "model_name": "ProgressStyleModel",
          "model_module_version": "1.5.0",
          "state": {
            "_view_name": "StyleView",
            "_model_name": "ProgressStyleModel",
            "description_width": "initial",
            "_view_module": "@jupyter-widgets/base",
            "_model_module_version": "1.5.0",
            "_view_count": null,
            "_view_module_version": "1.2.0",
            "bar_color": null,
            "_model_module": "@jupyter-widgets/controls"
          }
        },
        "5a2a4714447f40138ec0dcd736cb8749": {
          "model_module": "@jupyter-widgets/base",
          "model_name": "LayoutModel",
          "model_module_version": "1.2.0",
          "state": {
            "_view_name": "LayoutView",
            "grid_template_rows": null,
            "right": null,
            "justify_content": null,
            "_view_module": "@jupyter-widgets/base",
            "overflow": null,
            "_model_module_version": "1.2.0",
            "_view_count": null,
            "flex_flow": null,
            "width": null,
            "min_width": null,
            "border": null,
            "align_items": null,
            "bottom": null,
            "_model_module": "@jupyter-widgets/base",
            "top": null,
            "grid_column": null,
            "overflow_y": null,
            "overflow_x": null,
            "grid_auto_flow": null,
            "grid_area": null,
            "grid_template_columns": null,
            "flex": null,
            "_model_name": "LayoutModel",
            "justify_items": null,
            "grid_row": null,
            "max_height": null,
            "align_content": null,
            "visibility": null,
            "align_self": null,
            "height": null,
            "min_height": null,
            "padding": null,
            "grid_auto_rows": null,
            "grid_gap": null,
            "max_width": null,
            "order": null,
            "_view_module_version": "1.2.0",
            "grid_template_areas": null,
            "object_position": null,
            "object_fit": null,
            "grid_auto_columns": null,
            "margin": null,
            "display": null,
            "left": null
          }
        },
        "05fc76003af84f1f97d292640ea7ea93": {
          "model_module": "@jupyter-widgets/controls",
          "model_name": "DescriptionStyleModel",
          "model_module_version": "1.5.0",
          "state": {
            "_view_name": "StyleView",
            "_model_name": "DescriptionStyleModel",
            "description_width": "",
            "_view_module": "@jupyter-widgets/base",
            "_model_module_version": "1.5.0",
            "_view_count": null,
            "_view_module_version": "1.2.0",
            "_model_module": "@jupyter-widgets/controls"
          }
        },
        "ff137dea961f4ca5b3f9859a7da2b7e2": {
          "model_module": "@jupyter-widgets/base",
          "model_name": "LayoutModel",
          "model_module_version": "1.2.0",
          "state": {
            "_view_name": "LayoutView",
            "grid_template_rows": null,
            "right": null,
            "justify_content": null,
            "_view_module": "@jupyter-widgets/base",
            "overflow": null,
            "_model_module_version": "1.2.0",
            "_view_count": null,
            "flex_flow": null,
            "width": null,
            "min_width": null,
            "border": null,
            "align_items": null,
            "bottom": null,
            "_model_module": "@jupyter-widgets/base",
            "top": null,
            "grid_column": null,
            "overflow_y": null,
            "overflow_x": null,
            "grid_auto_flow": null,
            "grid_area": null,
            "grid_template_columns": null,
            "flex": null,
            "_model_name": "LayoutModel",
            "justify_items": null,
            "grid_row": null,
            "max_height": null,
            "align_content": null,
            "visibility": null,
            "align_self": null,
            "height": null,
            "min_height": null,
            "padding": null,
            "grid_auto_rows": null,
            "grid_gap": null,
            "max_width": null,
            "order": null,
            "_view_module_version": "1.2.0",
            "grid_template_areas": null,
            "object_position": null,
            "object_fit": null,
            "grid_auto_columns": null,
            "margin": null,
            "display": null,
            "left": null
          }
        },
        "7da2bf7f3ce641dcb6f213c774efc0a3": {
          "model_module": "@jupyter-widgets/controls",
          "model_name": "HBoxModel",
          "model_module_version": "1.5.0",
          "state": {
            "_view_name": "HBoxView",
            "_dom_classes": [],
            "_model_name": "HBoxModel",
            "_view_module": "@jupyter-widgets/controls",
            "_model_module_version": "1.5.0",
            "_view_count": null,
            "_view_module_version": "1.5.0",
            "box_style": "",
            "layout": "IPY_MODEL_a92fb97db6be4f67a61aea40023d30d7",
            "_model_module": "@jupyter-widgets/controls",
            "children": [
              "IPY_MODEL_6353b1c2f8ac4c2bb7f2817b2388d742",
              "IPY_MODEL_3ee5c5965f2f4bb6ac6f3203c22b9026"
            ]
          }
        },
        "a92fb97db6be4f67a61aea40023d30d7": {
          "model_module": "@jupyter-widgets/base",
          "model_name": "LayoutModel",
          "model_module_version": "1.2.0",
          "state": {
            "_view_name": "LayoutView",
            "grid_template_rows": null,
            "right": null,
            "justify_content": null,
            "_view_module": "@jupyter-widgets/base",
            "overflow": null,
            "_model_module_version": "1.2.0",
            "_view_count": null,
            "flex_flow": null,
            "width": null,
            "min_width": null,
            "border": null,
            "align_items": null,
            "bottom": null,
            "_model_module": "@jupyter-widgets/base",
            "top": null,
            "grid_column": null,
            "overflow_y": null,
            "overflow_x": null,
            "grid_auto_flow": null,
            "grid_area": null,
            "grid_template_columns": null,
            "flex": null,
            "_model_name": "LayoutModel",
            "justify_items": null,
            "grid_row": null,
            "max_height": null,
            "align_content": null,
            "visibility": null,
            "align_self": null,
            "height": null,
            "min_height": null,
            "padding": null,
            "grid_auto_rows": null,
            "grid_gap": null,
            "max_width": null,
            "order": null,
            "_view_module_version": "1.2.0",
            "grid_template_areas": null,
            "object_position": null,
            "object_fit": null,
            "grid_auto_columns": null,
            "margin": null,
            "display": null,
            "left": null
          }
        },
        "6353b1c2f8ac4c2bb7f2817b2388d742": {
          "model_module": "@jupyter-widgets/controls",
          "model_name": "FloatProgressModel",
          "model_module_version": "1.5.0",
          "state": {
            "_view_name": "ProgressView",
            "style": "IPY_MODEL_495c8d4b85464b268698a0de8b3769a9",
            "_dom_classes": [],
            "description": "",
            "_model_name": "FloatProgressModel",
            "bar_style": "info",
            "max": 1,
            "_view_module": "@jupyter-widgets/controls",
            "_model_module_version": "1.5.0",
            "value": 1,
            "_view_count": null,
            "_view_module_version": "1.5.0",
            "orientation": "horizontal",
            "min": 0,
            "description_tooltip": null,
            "_model_module": "@jupyter-widgets/controls",
            "layout": "IPY_MODEL_81745c61ea4b490e96b88c7f0c5cf4e1"
          }
        },
        "3ee5c5965f2f4bb6ac6f3203c22b9026": {
          "model_module": "@jupyter-widgets/controls",
          "model_name": "HTMLModel",
          "model_module_version": "1.5.0",
          "state": {
            "_view_name": "HTMLView",
            "style": "IPY_MODEL_bb9964ba7fee4818835a80fa2cb83711",
            "_dom_classes": [],
            "description": "",
            "_model_name": "HTMLModel",
            "placeholder": "​",
            "_view_module": "@jupyter-widgets/controls",
            "_model_module_version": "1.5.0",
            "value": " 12/? [01:53&lt;00:00, 18.83s/it]",
            "_view_count": null,
            "_view_module_version": "1.5.0",
            "description_tooltip": null,
            "_model_module": "@jupyter-widgets/controls",
            "layout": "IPY_MODEL_64ca8f85c1cd4122a4c50b73b324a563"
          }
        },
        "495c8d4b85464b268698a0de8b3769a9": {
          "model_module": "@jupyter-widgets/controls",
          "model_name": "ProgressStyleModel",
          "model_module_version": "1.5.0",
          "state": {
            "_view_name": "StyleView",
            "_model_name": "ProgressStyleModel",
            "description_width": "initial",
            "_view_module": "@jupyter-widgets/base",
            "_model_module_version": "1.5.0",
            "_view_count": null,
            "_view_module_version": "1.2.0",
            "bar_color": null,
            "_model_module": "@jupyter-widgets/controls"
          }
        },
        "81745c61ea4b490e96b88c7f0c5cf4e1": {
          "model_module": "@jupyter-widgets/base",
          "model_name": "LayoutModel",
          "model_module_version": "1.2.0",
          "state": {
            "_view_name": "LayoutView",
            "grid_template_rows": null,
            "right": null,
            "justify_content": null,
            "_view_module": "@jupyter-widgets/base",
            "overflow": null,
            "_model_module_version": "1.2.0",
            "_view_count": null,
            "flex_flow": null,
            "width": null,
            "min_width": null,
            "border": null,
            "align_items": null,
            "bottom": null,
            "_model_module": "@jupyter-widgets/base",
            "top": null,
            "grid_column": null,
            "overflow_y": null,
            "overflow_x": null,
            "grid_auto_flow": null,
            "grid_area": null,
            "grid_template_columns": null,
            "flex": null,
            "_model_name": "LayoutModel",
            "justify_items": null,
            "grid_row": null,
            "max_height": null,
            "align_content": null,
            "visibility": null,
            "align_self": null,
            "height": null,
            "min_height": null,
            "padding": null,
            "grid_auto_rows": null,
            "grid_gap": null,
            "max_width": null,
            "order": null,
            "_view_module_version": "1.2.0",
            "grid_template_areas": null,
            "object_position": null,
            "object_fit": null,
            "grid_auto_columns": null,
            "margin": null,
            "display": null,
            "left": null
          }
        },
        "bb9964ba7fee4818835a80fa2cb83711": {
          "model_module": "@jupyter-widgets/controls",
          "model_name": "DescriptionStyleModel",
          "model_module_version": "1.5.0",
          "state": {
            "_view_name": "StyleView",
            "_model_name": "DescriptionStyleModel",
            "description_width": "",
            "_view_module": "@jupyter-widgets/base",
            "_model_module_version": "1.5.0",
            "_view_count": null,
            "_view_module_version": "1.2.0",
            "_model_module": "@jupyter-widgets/controls"
          }
        },
        "64ca8f85c1cd4122a4c50b73b324a563": {
          "model_module": "@jupyter-widgets/base",
          "model_name": "LayoutModel",
          "model_module_version": "1.2.0",
          "state": {
            "_view_name": "LayoutView",
            "grid_template_rows": null,
            "right": null,
            "justify_content": null,
            "_view_module": "@jupyter-widgets/base",
            "overflow": null,
            "_model_module_version": "1.2.0",
            "_view_count": null,
            "flex_flow": null,
            "width": null,
            "min_width": null,
            "border": null,
            "align_items": null,
            "bottom": null,
            "_model_module": "@jupyter-widgets/base",
            "top": null,
            "grid_column": null,
            "overflow_y": null,
            "overflow_x": null,
            "grid_auto_flow": null,
            "grid_area": null,
            "grid_template_columns": null,
            "flex": null,
            "_model_name": "LayoutModel",
            "justify_items": null,
            "grid_row": null,
            "max_height": null,
            "align_content": null,
            "visibility": null,
            "align_self": null,
            "height": null,
            "min_height": null,
            "padding": null,
            "grid_auto_rows": null,
            "grid_gap": null,
            "max_width": null,
            "order": null,
            "_view_module_version": "1.2.0",
            "grid_template_areas": null,
            "object_position": null,
            "object_fit": null,
            "grid_auto_columns": null,
            "margin": null,
            "display": null,
            "left": null
          }
        },
        "70321a6d37bb4da49246635488a62ce7": {
          "model_module": "@jupyter-widgets/controls",
          "model_name": "HBoxModel",
          "model_module_version": "1.5.0",
          "state": {
            "_view_name": "HBoxView",
            "_dom_classes": [],
            "_model_name": "HBoxModel",
            "_view_module": "@jupyter-widgets/controls",
            "_model_module_version": "1.5.0",
            "_view_count": null,
            "_view_module_version": "1.5.0",
            "box_style": "",
            "layout": "IPY_MODEL_7724c1277fcb4af59d9b601543fd2da3",
            "_model_module": "@jupyter-widgets/controls",
            "children": [
              "IPY_MODEL_930a7acaae4e41fb885e8edcdce86b25",
              "IPY_MODEL_6f2a4c36c6624b5683efc9b07a1cd31f"
            ]
          }
        },
        "7724c1277fcb4af59d9b601543fd2da3": {
          "model_module": "@jupyter-widgets/base",
          "model_name": "LayoutModel",
          "model_module_version": "1.2.0",
          "state": {
            "_view_name": "LayoutView",
            "grid_template_rows": null,
            "right": null,
            "justify_content": null,
            "_view_module": "@jupyter-widgets/base",
            "overflow": null,
            "_model_module_version": "1.2.0",
            "_view_count": null,
            "flex_flow": null,
            "width": null,
            "min_width": null,
            "border": null,
            "align_items": null,
            "bottom": null,
            "_model_module": "@jupyter-widgets/base",
            "top": null,
            "grid_column": null,
            "overflow_y": null,
            "overflow_x": null,
            "grid_auto_flow": null,
            "grid_area": null,
            "grid_template_columns": null,
            "flex": null,
            "_model_name": "LayoutModel",
            "justify_items": null,
            "grid_row": null,
            "max_height": null,
            "align_content": null,
            "visibility": null,
            "align_self": null,
            "height": null,
            "min_height": null,
            "padding": null,
            "grid_auto_rows": null,
            "grid_gap": null,
            "max_width": null,
            "order": null,
            "_view_module_version": "1.2.0",
            "grid_template_areas": null,
            "object_position": null,
            "object_fit": null,
            "grid_auto_columns": null,
            "margin": null,
            "display": null,
            "left": null
          }
        },
        "930a7acaae4e41fb885e8edcdce86b25": {
          "model_module": "@jupyter-widgets/controls",
          "model_name": "FloatProgressModel",
          "model_module_version": "1.5.0",
          "state": {
            "_view_name": "ProgressView",
            "style": "IPY_MODEL_c71c93f2ded74bf59e4b750e3f2cb6c5",
            "_dom_classes": [],
            "description": "",
            "_model_name": "FloatProgressModel",
            "bar_style": "info",
            "max": 1,
            "_view_module": "@jupyter-widgets/controls",
            "_model_module_version": "1.5.0",
            "value": 1,
            "_view_count": null,
            "_view_module_version": "1.5.0",
            "orientation": "horizontal",
            "min": 0,
            "description_tooltip": null,
            "_model_module": "@jupyter-widgets/controls",
            "layout": "IPY_MODEL_42a6b21e60a64db2ad9565a4e76fbb7c"
          }
        },
        "6f2a4c36c6624b5683efc9b07a1cd31f": {
          "model_module": "@jupyter-widgets/controls",
          "model_name": "HTMLModel",
          "model_module_version": "1.5.0",
          "state": {
            "_view_name": "HTMLView",
            "style": "IPY_MODEL_6e4362c54e5641438f22c77e1c7b8e2a",
            "_dom_classes": [],
            "description": "",
            "_model_name": "HTMLModel",
            "placeholder": "​",
            "_view_module": "@jupyter-widgets/controls",
            "_model_module_version": "1.5.0",
            "value": " 12/? [00:01&lt;00:00,  7.14it/s]",
            "_view_count": null,
            "_view_module_version": "1.5.0",
            "description_tooltip": null,
            "_model_module": "@jupyter-widgets/controls",
            "layout": "IPY_MODEL_6c5c1bf1cb764b7eaef5ed6c299035c3"
          }
        },
        "c71c93f2ded74bf59e4b750e3f2cb6c5": {
          "model_module": "@jupyter-widgets/controls",
          "model_name": "ProgressStyleModel",
          "model_module_version": "1.5.0",
          "state": {
            "_view_name": "StyleView",
            "_model_name": "ProgressStyleModel",
            "description_width": "initial",
            "_view_module": "@jupyter-widgets/base",
            "_model_module_version": "1.5.0",
            "_view_count": null,
            "_view_module_version": "1.2.0",
            "bar_color": null,
            "_model_module": "@jupyter-widgets/controls"
          }
        },
        "42a6b21e60a64db2ad9565a4e76fbb7c": {
          "model_module": "@jupyter-widgets/base",
          "model_name": "LayoutModel",
          "model_module_version": "1.2.0",
          "state": {
            "_view_name": "LayoutView",
            "grid_template_rows": null,
            "right": null,
            "justify_content": null,
            "_view_module": "@jupyter-widgets/base",
            "overflow": null,
            "_model_module_version": "1.2.0",
            "_view_count": null,
            "flex_flow": null,
            "width": null,
            "min_width": null,
            "border": null,
            "align_items": null,
            "bottom": null,
            "_model_module": "@jupyter-widgets/base",
            "top": null,
            "grid_column": null,
            "overflow_y": null,
            "overflow_x": null,
            "grid_auto_flow": null,
            "grid_area": null,
            "grid_template_columns": null,
            "flex": null,
            "_model_name": "LayoutModel",
            "justify_items": null,
            "grid_row": null,
            "max_height": null,
            "align_content": null,
            "visibility": null,
            "align_self": null,
            "height": null,
            "min_height": null,
            "padding": null,
            "grid_auto_rows": null,
            "grid_gap": null,
            "max_width": null,
            "order": null,
            "_view_module_version": "1.2.0",
            "grid_template_areas": null,
            "object_position": null,
            "object_fit": null,
            "grid_auto_columns": null,
            "margin": null,
            "display": null,
            "left": null
          }
        },
        "6e4362c54e5641438f22c77e1c7b8e2a": {
          "model_module": "@jupyter-widgets/controls",
          "model_name": "DescriptionStyleModel",
          "model_module_version": "1.5.0",
          "state": {
            "_view_name": "StyleView",
            "_model_name": "DescriptionStyleModel",
            "description_width": "",
            "_view_module": "@jupyter-widgets/base",
            "_model_module_version": "1.5.0",
            "_view_count": null,
            "_view_module_version": "1.2.0",
            "_model_module": "@jupyter-widgets/controls"
          }
        },
        "6c5c1bf1cb764b7eaef5ed6c299035c3": {
          "model_module": "@jupyter-widgets/base",
          "model_name": "LayoutModel",
          "model_module_version": "1.2.0",
          "state": {
            "_view_name": "LayoutView",
            "grid_template_rows": null,
            "right": null,
            "justify_content": null,
            "_view_module": "@jupyter-widgets/base",
            "overflow": null,
            "_model_module_version": "1.2.0",
            "_view_count": null,
            "flex_flow": null,
            "width": null,
            "min_width": null,
            "border": null,
            "align_items": null,
            "bottom": null,
            "_model_module": "@jupyter-widgets/base",
            "top": null,
            "grid_column": null,
            "overflow_y": null,
            "overflow_x": null,
            "grid_auto_flow": null,
            "grid_area": null,
            "grid_template_columns": null,
            "flex": null,
            "_model_name": "LayoutModel",
            "justify_items": null,
            "grid_row": null,
            "max_height": null,
            "align_content": null,
            "visibility": null,
            "align_self": null,
            "height": null,
            "min_height": null,
            "padding": null,
            "grid_auto_rows": null,
            "grid_gap": null,
            "max_width": null,
            "order": null,
            "_view_module_version": "1.2.0",
            "grid_template_areas": null,
            "object_position": null,
            "object_fit": null,
            "grid_auto_columns": null,
            "margin": null,
            "display": null,
            "left": null
          }
        }
      }
    }
  },
  "cells": [
    {
      "cell_type": "markdown",
      "metadata": {
        "id": "view-in-github",
        "colab_type": "text"
      },
      "source": [
        "<a href=\"https://colab.research.google.com/github/fabiocarrara/mbd-dlmra/blob/main/ol3_binary_and_metric_indexing.ipynb\" target=\"_parent\"><img src=\"https://colab.research.google.com/assets/colab-badge.svg\" alt=\"Open In Colab\"/></a>"
      ]
    },
    {
      "cell_type": "markdown",
      "metadata": {
        "id": "SEO6wraRl-W6"
      },
      "source": [
        "# DLMRA OpenLab \\#3\n",
        "-------------------\n",
        "\n",
        "# Basic Tools for Fast Similarity Search\n",
        "\n",
        "We will:\n",
        "\n",
        "*   index binary vectors using the FAISS Library;\n",
        "*   index arbitrary metric objects with MI-File.\n"
      ]
    },
    {
      "cell_type": "markdown",
      "metadata": {
        "id": "E80vdnlsKSza"
      },
      "source": [
        "In this (#3) and in the following (#4) OpenLabs, we will explore Approximate Nearest Neighbor (ANN) search solutions for the following three scenarios:\n",
        "\n",
        "1.  indexing real-valued vectors (e.g., objects $\\in \\mathbb{R}^n$, distance \n",
        "$\\in \\{L_p, \\cos\\}$)\n",
        "2.  indexing binary vectors (e.g., objects $\\in \\{0,1\\}^n$, distance = Hamming)\n",
        "3.  indexing metric objects (e.g., objects $\\in$ Strings, distance = Levenshtein/Edit)\n",
        "\n",
        "In this notebook (OpenLab #3), we will see the last two scenarios (binary vectors and metric objects), while the first scenario (real-valued vectors), that is the most common one, will be explored in more depth in the next session (OpenLab #4)."
      ]
    },
    {
      "cell_type": "markdown",
      "metadata": {
        "id": "_9DsdTo1foAa"
      },
      "source": [
        "## Indexing Binary Vectors ($d =$ Hamming)"
      ]
    },
    {
      "cell_type": "markdown",
      "metadata": {
        "id": "YbwRV_qzNMtK"
      },
      "source": [
        "Binary vectors are vectors in which each dimension has a binary value.\n",
        "The most used distance function to compare two binary vectors is the _Hamming distance_ that counts the number of different bits between two binary sequences."
      ]
    },
    {
      "cell_type": "markdown",
      "metadata": {
        "id": "nWzj1CvEZlat"
      },
      "source": [
        "### Getting Started"
      ]
    },
    {
      "cell_type": "markdown",
      "metadata": {
        "id": "PfMscHsloSWm"
      },
      "source": [
        "There are [several libraries](https://github.com/erikbern/ann-benchmarks/) for ANN.\n",
        "We are going to use the [FAISS](https://github.com/facebookresearch/faiss/wiki) (Facebook AI Similarity Search), a ANN library for real-valued and binary data\n",
        "that can also exploit GPU acceleration.\n",
        "Let's install the CPU version."
      ]
    },
    {
      "cell_type": "code",
      "metadata": {
        "colab": {
          "base_uri": "https://localhost:8080/"
        },
        "id": "H3AEXzn5kj3I",
        "outputId": "de7896ef-fe03-439f-de89-1e9ffe9c94f5"
      },
      "source": [
        "!pip install -q faiss-cpu"
      ],
      "execution_count": null,
      "outputs": [
        {
          "output_type": "stream",
          "text": [
            "\u001b[K     |████████████████████████████████| 8.4MB 26.5MB/s \n",
            "\u001b[?25h"
          ],
          "name": "stdout"
        }
      ]
    },
    {
      "cell_type": "code",
      "metadata": {
        "colab": {
          "base_uri": "https://localhost:8080/"
        },
        "id": "UNDUapnzmqcl",
        "outputId": "103a0126-85d3-4375-ca75-2f1a19d31ba1"
      },
      "source": [
        "!pip install -q ipython-autotime\n",
        "%load_ext autotime"
      ],
      "execution_count": null,
      "outputs": [
        {
          "output_type": "stream",
          "text": [
            "time: 188 µs (started: 2021-06-01 14:01:00 +00:00)\n"
          ],
          "name": "stdout"
        }
      ]
    },
    {
      "cell_type": "code",
      "metadata": {
        "id": "9J2S3YmDjLRY"
      },
      "source": [
        "import itertools\n",
        "import time\n",
        "\n",
        "import faiss\n",
        "import numpy as np\n",
        "import pandas as pd\n",
        "import seaborn as sns\n",
        "\n",
        "from tqdm.auto import tqdm"
      ],
      "execution_count": null,
      "outputs": []
    },
    {
      "cell_type": "markdown",
      "metadata": {
        "id": "3pzGd_nRPhQl"
      },
      "source": [
        "First, let's see how a binary vector looks like. Binary vectors are often packed in bytes (np.uint8) holding 8 bits each."
      ]
    },
    {
      "cell_type": "code",
      "metadata": {
        "colab": {
          "base_uri": "https://localhost:8080/"
        },
        "id": "TREi_l9vkkRt",
        "outputId": "d0c3afc3-8492-4448-8ec7-e9f766fbe670"
      },
      "source": [
        "binary_vector = np.array([3, 0, 1], dtype=np.uint8)\n",
        "np.unpackbits(binary_vector)"
      ],
      "execution_count": null,
      "outputs": [
        {
          "output_type": "execute_result",
          "data": {
            "text/plain": [
              "array([0, 0, 0, 0, 0, 0, 1, 1, 0, 0, 0, 0, 0, 0, 0, 0, 0, 0, 0, 0, 0, 0,\n",
              "       0, 1], dtype=uint8)"
            ]
          },
          "metadata": {
            "tags": []
          },
          "execution_count": 4
        },
        {
          "output_type": "stream",
          "text": [
            "time: 6.45 ms (started: 2021-05-27 12:24:42 +00:00)\n"
          ],
          "name": "stdout"
        }
      ]
    },
    {
      "cell_type": "markdown",
      "metadata": {
        "id": "pB3yXeAVQR79"
      },
      "source": [
        "Let's construct an artificial dataset of binary vectors that we will use for our indices."
      ]
    },
    {
      "cell_type": "code",
      "metadata": {
        "id": "vgiWJAh8fthJ",
        "colab": {
          "base_uri": "https://localhost:8080/"
        },
        "outputId": "7b6d698e-acb0-499e-d629-862253af2b84"
      },
      "source": [
        "d_bits = 256\n",
        "xb = np.random.randint(0, 256, (1_000_000, d_bits // 8), dtype=np.uint8)\n",
        "qb = np.random.randint(0, 256, (50, d_bits // 8), dtype=np.uint8)"
      ],
      "execution_count": null,
      "outputs": [
        {
          "output_type": "stream",
          "text": [
            "time: 73 ms (started: 2021-05-27 12:24:42 +00:00)\n"
          ],
          "name": "stdout"
        }
      ]
    },
    {
      "cell_type": "markdown",
      "metadata": {
        "id": "ptbB5mRzQlOQ"
      },
      "source": [
        "Next, we will define a helper function for computing a performance metric for indices -- the **recall**, that is the fraction of true neighbors of a query that have been retrieved by the system\n",
        "\n",
        "$ \\text{Recall} = \\dfrac{|\\text{True Neighbors} \\cap \\text{Retrieved Objects}|}{|\\text{True Neighbors}|}\\,.$"
      ]
    },
    {
      "cell_type": "code",
      "metadata": {
        "id": "qoj1eK-YL8rP",
        "colab": {
          "base_uri": "https://localhost:8080/"
        },
        "outputId": "0c1511e2-3154-4359-b018-769c97d55bc7"
      },
      "source": [
        "def compute_recall(true_neighbors, predicted_neighbors):\n",
        "  \"\"\" Computes the mean Recall over multiple queries.\n",
        "\n",
        "  Args:\n",
        "    - true_neighbors: QxK matrix of object IDs representing the K nearest neighbors for each of the Q queries.\n",
        "    - predicted_neighbors: QxK matrix of object IDs representing the K retrieved objects for each of the Q queries.\n",
        "  \"\"\"\n",
        "  recalls = []\n",
        "  for t, p in zip(true_neighbors, predicted_neighbors):\n",
        "    intersection = np.intersect1d(t, p)\n",
        "    recall = len(intersection) / len(t)\n",
        "    recalls.append(recall)\n",
        "\n",
        "  return np.mean(recalls)"
      ],
      "execution_count": null,
      "outputs": [
        {
          "output_type": "stream",
          "text": [
            "time: 4.78 ms (started: 2021-06-01 14:16:06 +00:00)\n"
          ],
          "name": "stdout"
        }
      ]
    },
    {
      "cell_type": "markdown",
      "metadata": {
        "id": "OC5oqeCl6rNm"
      },
      "source": [
        "### Sequential Search / Bruteforce (NumPy)"
      ]
    },
    {
      "cell_type": "markdown",
      "metadata": {
        "id": "ZWKf7HlKS-Rh"
      },
      "source": [
        "First, let's implement the sequential search of binary vectors in NumPy as baseline."
      ]
    },
    {
      "cell_type": "code",
      "metadata": {
        "colab": {
          "base_uri": "https://localhost:8080/",
          "height": 324,
          "referenced_widgets": [
            "a83c90cf8d284d9da2eb60c9be5cd6f7",
            "2a786f0dcb0d493ab585c442aacf0db9",
            "5c0592dd005f4274ae96a5027ded84b2",
            "00c13ae0ee104229b567e57518bfbaa8",
            "d88b0791f5da4da5bb6cc0e84b390b7f",
            "1e3e8e78ece946d8b36686a787495e97",
            "ede99b37c60c4877b825111f8cec870d",
            "d8cb246fa43c4819a10895e6f5abd52e"
          ]
        },
        "id": "_e41G2filrEb",
        "outputId": "aa2a36f1-2509-4c33-ec2c-18b270806afd"
      },
      "source": [
        "k = 100\n",
        "\n",
        "I, D = [], []\n",
        "for qi in tqdm(qb):\n",
        "  hammings = np.unpackbits(np.bitwise_xor(qi, xb), axis=1).sum(axis=1)\n",
        "  rankings = hammings.argsort()\n",
        "  topk = rankings[:k]\n",
        "  topk_scores = hammings[topk]\n",
        "\n",
        "  I.append(topk)\n",
        "  D.append(topk_scores)\n",
        "\n",
        "I = np.stack(I)\n",
        "D = np.stack(D)\n",
        "\n",
        "D, I"
      ],
      "execution_count": null,
      "outputs": [
        {
          "output_type": "display_data",
          "data": {
            "application/vnd.jupyter.widget-view+json": {
              "model_id": "a83c90cf8d284d9da2eb60c9be5cd6f7",
              "version_minor": 0,
              "version_major": 2
            },
            "text/plain": [
              "HBox(children=(FloatProgress(value=0.0, max=50.0), HTML(value='')))"
            ]
          },
          "metadata": {
            "tags": []
          }
        },
        {
          "output_type": "stream",
          "text": [
            "\n"
          ],
          "name": "stdout"
        },
        {
          "output_type": "execute_result",
          "data": {
            "text/plain": [
              "(array([[86, 88, 91, ..., 98, 98, 98],\n",
              "        [90, 90, 92, ..., 98, 98, 98],\n",
              "        [88, 88, 90, ..., 98, 98, 98],\n",
              "        ...,\n",
              "        [88, 89, 90, ..., 98, 98, 98],\n",
              "        [90, 92, 92, ..., 98, 98, 98],\n",
              "        [91, 91, 92, ..., 98, 98, 98]], dtype=uint64),\n",
              " array([[581807, 349545, 556368, ..., 950119, 987978, 651536],\n",
              "        [541216, 819386, 782765, ..., 248453, 946011, 285424],\n",
              "        [576538, 522254, 489549, ..., 531970, 644255, 100669],\n",
              "        ...,\n",
              "        [ 99464, 844374, 317304, ..., 127489, 332216, 577492],\n",
              "        [823842, 804451, 129053, ..., 415527, 210930, 595551],\n",
              "        [476971, 892979, 983682, ..., 468407, 962128, 283941]]))"
            ]
          },
          "metadata": {
            "tags": []
          },
          "execution_count": 7
        },
        {
          "output_type": "stream",
          "text": [
            "time: 22.2 s (started: 2021-05-27 12:24:42 +00:00)\n"
          ],
          "name": "stdout"
        }
      ]
    },
    {
      "cell_type": "markdown",
      "metadata": {
        "id": "e-GameJrTv08"
      },
      "source": [
        "We will use these results as groundtruth for computing the recall of subsequent solutions."
      ]
    },
    {
      "cell_type": "code",
      "metadata": {
        "id": "o9j-GiczoZ2B",
        "colab": {
          "base_uri": "https://localhost:8080/"
        },
        "outputId": "c88113d2-a08a-4ffc-d7bb-2a930a486cb6"
      },
      "source": [
        "true_neighbors = I"
      ],
      "execution_count": null,
      "outputs": [
        {
          "output_type": "stream",
          "text": [
            "time: 1.71 ms (started: 2021-05-27 12:25:04 +00:00)\n"
          ],
          "name": "stdout"
        }
      ]
    },
    {
      "cell_type": "markdown",
      "metadata": {
        "id": "FvHzkZwg6uhl"
      },
      "source": [
        "### Sequential Search / Bruteforce (FAISS)"
      ]
    },
    {
      "cell_type": "markdown",
      "metadata": {
        "id": "ldhjo4scU4JE"
      },
      "source": [
        "An equivalent (but more efficient) implementation of a sequential search is provided by FAISS with the _IndexBinaryFlat_ class."
      ]
    },
    {
      "cell_type": "code",
      "metadata": {
        "id": "-RzrBu_1j3G2",
        "colab": {
          "base_uri": "https://localhost:8080/"
        },
        "outputId": "2a0eb3f3-3cf8-4224-8097-72eda5760fba"
      },
      "source": [
        "index = faiss.IndexBinaryFlat(d_bits)\n",
        "index.add(xb)"
      ],
      "execution_count": null,
      "outputs": [
        {
          "output_type": "stream",
          "text": [
            "time: 17.3 ms (started: 2021-05-27 12:25:04 +00:00)\n"
          ],
          "name": "stdout"
        }
      ]
    },
    {
      "cell_type": "code",
      "metadata": {
        "colab": {
          "base_uri": "https://localhost:8080/"
        },
        "id": "uBEdStLTlNgM",
        "outputId": "f482ef24-de39-4b38-f86d-370a9bb61175"
      },
      "source": [
        "D, I = index.search(qb, k)\n",
        "D, I"
      ],
      "execution_count": null,
      "outputs": [
        {
          "output_type": "execute_result",
          "data": {
            "text/plain": [
              "(array([[86, 88, 91, ..., 98, 98, 98],\n",
              "        [90, 90, 92, ..., 98, 98, 98],\n",
              "        [88, 88, 90, ..., 98, 98, 98],\n",
              "        ...,\n",
              "        [88, 89, 90, ..., 98, 98, 98],\n",
              "        [90, 92, 92, ..., 98, 98, 98],\n",
              "        [91, 91, 92, ..., 98, 98, 98]], dtype=int32),\n",
              " array([[581807, 349545, 556368, ..., 308242,  47114, 647546],\n",
              "        [541216, 819386, 879002, ..., 389958, 248453, 552829],\n",
              "        [522254, 576538, 489549, ..., 644780, 644255,  41777],\n",
              "        ...,\n",
              "        [ 99464, 844374, 317304, ..., 107390, 235567, 164724],\n",
              "        [823842, 804451, 129053, ..., 704966, 415527, 428226],\n",
              "        [892979, 476971, 508690, ..., 640871, 198601, 365105]]))"
            ]
          },
          "metadata": {
            "tags": []
          },
          "execution_count": 10
        },
        {
          "output_type": "stream",
          "text": [
            "time: 727 ms (started: 2021-05-27 12:25:04 +00:00)\n"
          ],
          "name": "stdout"
        }
      ]
    },
    {
      "cell_type": "code",
      "metadata": {
        "colab": {
          "base_uri": "https://localhost:8080/"
        },
        "id": "GNRkknhGod6I",
        "outputId": "80d56580-0fb6-4997-92f9-fca37de431ca"
      },
      "source": [
        "compute_recall(true_neighbors, I)"
      ],
      "execution_count": null,
      "outputs": [
        {
          "output_type": "execute_result",
          "data": {
            "text/plain": [
              "0.9251999999999999"
            ]
          },
          "metadata": {
            "tags": []
          },
          "execution_count": 11
        },
        {
          "output_type": "stream",
          "text": [
            "time: 9.95 ms (started: 2021-05-27 12:25:05 +00:00)\n"
          ],
          "name": "stdout"
        }
      ]
    },
    {
      "cell_type": "markdown",
      "metadata": {
        "id": "sC0E_sly68lJ"
      },
      "source": [
        "### LSH with a single $g()$ (FAISS)"
      ]
    },
    {
      "cell_type": "markdown",
      "metadata": {
        "id": "AypzMNabU1To"
      },
      "source": [
        "The first index for binary data we will see is the LSH index.\n",
        "The _IndexBinaryHash_ uses the first `n_bits` bits of the binary vector as hash to split the dataset into buckets.\n",
        "\n",
        "**NOTE**: FAISS leaves to the user to reorder bits such that the wanted hash is in the first positions of the binary vectors."
      ]
    },
    {
      "cell_type": "code",
      "metadata": {
        "id": "XCv_tOd-rSAp",
        "colab": {
          "base_uri": "https://localhost:8080/"
        },
        "outputId": "bf4fa8c1-82ed-44b6-dc7d-5e9049ce0d89"
      },
      "source": [
        "index = faiss.IndexBinaryHash(d_bits, 8)\n",
        "index.add(xb)"
      ],
      "execution_count": null,
      "outputs": [
        {
          "output_type": "stream",
          "text": [
            "time: 69.9 ms (started: 2021-05-27 12:25:05 +00:00)\n"
          ],
          "name": "stdout"
        }
      ]
    },
    {
      "cell_type": "markdown",
      "metadata": {
        "id": "grs8dejbWKGq"
      },
      "source": [
        "At query time, we visit buckets having hashes that are at most `nflip` bits away from the hash of the query.\n",
        "\n",
        "**NOTE**: `nflip` can be changed at query time without rebuilding the index."
      ]
    },
    {
      "cell_type": "code",
      "metadata": {
        "id": "bbvj2mQbt1va",
        "colab": {
          "base_uri": "https://localhost:8080/"
        },
        "outputId": "79cbf24f-f0e4-4d5b-9bab-d215664224c6"
      },
      "source": [
        "index.nflip = 4\n",
        "D, I = index.search(qb, k)"
      ],
      "execution_count": null,
      "outputs": [
        {
          "output_type": "stream",
          "text": [
            "time: 486 ms (started: 2021-05-27 12:25:05 +00:00)\n"
          ],
          "name": "stdout"
        }
      ]
    },
    {
      "cell_type": "code",
      "metadata": {
        "colab": {
          "base_uri": "https://localhost:8080/"
        },
        "id": "pbUI4a831o5K",
        "outputId": "d8e3ff2f-6200-453d-d2f0-365113f34bc2"
      },
      "source": [
        "D, I"
      ],
      "execution_count": null,
      "outputs": [
        {
          "output_type": "execute_result",
          "data": {
            "text/plain": [
              "(array([[98, 98, 97, ..., 96, 94, 95],\n",
              "        [98, 98, 98, ..., 90, 96, 95],\n",
              "        [98, 98, 98, ..., 96, 96, 97],\n",
              "        ...,\n",
              "        [99, 99, 98, ..., 97, 95, 98],\n",
              "        [99, 99, 98, ..., 90, 95, 93],\n",
              "        [99, 98, 98, ..., 95, 96, 95]], dtype=int32),\n",
              " array([[584616,  47114, 616125, ..., 459310, 356290, 876305],\n",
              "        [552829, 421705, 150872, ..., 541216,  38326, 242156],\n",
              "        [531970, 406795, 570771, ..., 744716, 337108, 667928],\n",
              "        ...,\n",
              "        [ 26637, 796984, 424514, ..., 761377, 797446, 617939],\n",
              "        [974189, 335883, 430236, ..., 823842, 539006, 653437],\n",
              "        [192037, 468407,  37874, ..., 189948, 727617, 225329]]))"
            ]
          },
          "metadata": {
            "tags": []
          },
          "execution_count": 14
        },
        {
          "output_type": "stream",
          "text": [
            "time: 5.55 ms (started: 2021-05-27 12:25:06 +00:00)\n"
          ],
          "name": "stdout"
        }
      ]
    },
    {
      "cell_type": "code",
      "metadata": {
        "colab": {
          "base_uri": "https://localhost:8080/"
        },
        "id": "nrx50BCMtryU",
        "outputId": "bc65e6a6-3c4d-41b0-b106-d8e5017342bb"
      },
      "source": [
        "compute_recall(true_neighbors, I)"
      ],
      "execution_count": null,
      "outputs": [
        {
          "output_type": "execute_result",
          "data": {
            "text/plain": [
              "0.8438"
            ]
          },
          "metadata": {
            "tags": []
          },
          "execution_count": 15
        },
        {
          "output_type": "stream",
          "text": [
            "time: 9.2 ms (started: 2021-05-27 12:25:06 +00:00)\n"
          ],
          "name": "stdout"
        }
      ]
    },
    {
      "cell_type": "markdown",
      "metadata": {
        "id": "cI0LuvVyW17K"
      },
      "source": [
        "You will often need tune the parameters `n_bits` and `nflip` to find the desired operational point, that is, a configuration of the index that satisfy your time/space/quality constraints.\n",
        "\n",
        "Here is an example to search operational points:"
      ]
    },
    {
      "cell_type": "code",
      "metadata": {
        "colab": {
          "base_uri": "https://localhost:8080/",
          "height": 704,
          "referenced_widgets": [
            "69143c4fbffc4733a674ad09daee2d5d",
            "a0670ce841fb4f24a97693ef3d14c924",
            "a10e2b63743b4c41b9fe6a943caac87a",
            "5af5e299c8e64d57bb815742215e72a9",
            "9a5a2c7d56fd44e1b382c16c83099b2e",
            "4b873aa7799f485ca153b09cb7127d39",
            "99ee310991d64ed48ebdccb462c5020c",
            "d49f2d0c8d6e4062a4440d3721f2d046"
          ]
        },
        "id": "FqPiemCjyAKX",
        "outputId": "1b8314da-a5d4-4b57-bf37-61e1c66dba55"
      },
      "source": [
        "results = []\n",
        "\n",
        "hash_sizes = (4, 8, 16, 24)\n",
        "nflips = (0, 1, 2, 4, 8)\n",
        "\n",
        "for h in tqdm(hash_sizes):  # try a bunch of n_bits\n",
        "  index = faiss.IndexBinaryHash(d_bits, h)\n",
        "  index.add(xb)\n",
        "\n",
        "  for nf in nflips:  # try a bunch of nflips\n",
        "    if nf > h: continue\n",
        "\n",
        "    index.nflip = nf\n",
        "\n",
        "    start = time.time()  # time the search\n",
        "    D, I = index.search(qb, k)\n",
        "    elapsed = time.time() - start\n",
        "\n",
        "    results.append({\n",
        "        'hash_size': h,\n",
        "        'nflips': nf,\n",
        "        'recall': compute_recall(true_neighbors, I),\n",
        "        'query_time': elapsed\n",
        "    })\n",
        "\n",
        "results = pd.DataFrame(results)\n",
        "results"
      ],
      "execution_count": null,
      "outputs": [
        {
          "output_type": "display_data",
          "data": {
            "application/vnd.jupyter.widget-view+json": {
              "model_id": "69143c4fbffc4733a674ad09daee2d5d",
              "version_minor": 0,
              "version_major": 2
            },
            "text/plain": [
              "HBox(children=(FloatProgress(value=0.0, max=4.0), HTML(value='')))"
            ]
          },
          "metadata": {
            "tags": []
          }
        },
        {
          "output_type": "stream",
          "text": [
            "\n"
          ],
          "name": "stdout"
        },
        {
          "output_type": "execute_result",
          "data": {
            "text/html": [
              "<div>\n",
              "<style scoped>\n",
              "    .dataframe tbody tr th:only-of-type {\n",
              "        vertical-align: middle;\n",
              "    }\n",
              "\n",
              "    .dataframe tbody tr th {\n",
              "        vertical-align: top;\n",
              "    }\n",
              "\n",
              "    .dataframe thead th {\n",
              "        text-align: right;\n",
              "    }\n",
              "</style>\n",
              "<table border=\"1\" class=\"dataframe\">\n",
              "  <thead>\n",
              "    <tr style=\"text-align: right;\">\n",
              "      <th></th>\n",
              "      <th>hash_size</th>\n",
              "      <th>nflips</th>\n",
              "      <th>recall</th>\n",
              "      <th>query_time</th>\n",
              "    </tr>\n",
              "  </thead>\n",
              "  <tbody>\n",
              "    <tr>\n",
              "      <th>0</th>\n",
              "      <td>4</td>\n",
              "      <td>0</td>\n",
              "      <td>0.1504</td>\n",
              "      <td>0.052645</td>\n",
              "    </tr>\n",
              "    <tr>\n",
              "      <th>1</th>\n",
              "      <td>4</td>\n",
              "      <td>1</td>\n",
              "      <td>0.5148</td>\n",
              "      <td>0.227811</td>\n",
              "    </tr>\n",
              "    <tr>\n",
              "      <th>2</th>\n",
              "      <td>4</td>\n",
              "      <td>2</td>\n",
              "      <td>0.8384</td>\n",
              "      <td>0.511197</td>\n",
              "    </tr>\n",
              "    <tr>\n",
              "      <th>3</th>\n",
              "      <td>4</td>\n",
              "      <td>4</td>\n",
              "      <td>0.9256</td>\n",
              "      <td>0.740672</td>\n",
              "    </tr>\n",
              "    <tr>\n",
              "      <th>4</th>\n",
              "      <td>8</td>\n",
              "      <td>0</td>\n",
              "      <td>0.0162</td>\n",
              "      <td>0.004342</td>\n",
              "    </tr>\n",
              "    <tr>\n",
              "      <th>5</th>\n",
              "      <td>8</td>\n",
              "      <td>1</td>\n",
              "      <td>0.1294</td>\n",
              "      <td>0.027392</td>\n",
              "    </tr>\n",
              "    <tr>\n",
              "      <th>6</th>\n",
              "      <td>8</td>\n",
              "      <td>2</td>\n",
              "      <td>0.3636</td>\n",
              "      <td>0.110789</td>\n",
              "    </tr>\n",
              "    <tr>\n",
              "      <th>7</th>\n",
              "      <td>8</td>\n",
              "      <td>4</td>\n",
              "      <td>0.8438</td>\n",
              "      <td>0.480580</td>\n",
              "    </tr>\n",
              "    <tr>\n",
              "      <th>8</th>\n",
              "      <td>8</td>\n",
              "      <td>8</td>\n",
              "      <td>0.9236</td>\n",
              "      <td>0.728691</td>\n",
              "    </tr>\n",
              "    <tr>\n",
              "      <th>9</th>\n",
              "      <td>16</td>\n",
              "      <td>0</td>\n",
              "      <td>0.0002</td>\n",
              "      <td>0.000161</td>\n",
              "    </tr>\n",
              "    <tr>\n",
              "      <th>10</th>\n",
              "      <td>16</td>\n",
              "      <td>1</td>\n",
              "      <td>0.0034</td>\n",
              "      <td>0.001211</td>\n",
              "    </tr>\n",
              "    <tr>\n",
              "      <th>11</th>\n",
              "      <td>16</td>\n",
              "      <td>2</td>\n",
              "      <td>0.0248</td>\n",
              "      <td>0.007446</td>\n",
              "    </tr>\n",
              "    <tr>\n",
              "      <th>12</th>\n",
              "      <td>16</td>\n",
              "      <td>4</td>\n",
              "      <td>0.2144</td>\n",
              "      <td>0.135419</td>\n",
              "    </tr>\n",
              "    <tr>\n",
              "      <th>13</th>\n",
              "      <td>16</td>\n",
              "      <td>8</td>\n",
              "      <td>0.8796</td>\n",
              "      <td>2.149668</td>\n",
              "    </tr>\n",
              "    <tr>\n",
              "      <th>14</th>\n",
              "      <td>24</td>\n",
              "      <td>0</td>\n",
              "      <td>0.0000</td>\n",
              "      <td>0.000110</td>\n",
              "    </tr>\n",
              "    <tr>\n",
              "      <th>15</th>\n",
              "      <td>24</td>\n",
              "      <td>1</td>\n",
              "      <td>0.0000</td>\n",
              "      <td>0.000305</td>\n",
              "    </tr>\n",
              "    <tr>\n",
              "      <th>16</th>\n",
              "      <td>24</td>\n",
              "      <td>2</td>\n",
              "      <td>0.0004</td>\n",
              "      <td>0.002885</td>\n",
              "    </tr>\n",
              "    <tr>\n",
              "      <th>17</th>\n",
              "      <td>24</td>\n",
              "      <td>4</td>\n",
              "      <td>0.0168</td>\n",
              "      <td>0.120770</td>\n",
              "    </tr>\n",
              "    <tr>\n",
              "      <th>18</th>\n",
              "      <td>24</td>\n",
              "      <td>8</td>\n",
              "      <td>0.4140</td>\n",
              "      <td>12.422228</td>\n",
              "    </tr>\n",
              "  </tbody>\n",
              "</table>\n",
              "</div>"
            ],
            "text/plain": [
              "    hash_size  nflips  recall  query_time\n",
              "0           4       0  0.1504    0.052645\n",
              "1           4       1  0.5148    0.227811\n",
              "2           4       2  0.8384    0.511197\n",
              "3           4       4  0.9256    0.740672\n",
              "4           8       0  0.0162    0.004342\n",
              "5           8       1  0.1294    0.027392\n",
              "6           8       2  0.3636    0.110789\n",
              "7           8       4  0.8438    0.480580\n",
              "8           8       8  0.9236    0.728691\n",
              "9          16       0  0.0002    0.000161\n",
              "10         16       1  0.0034    0.001211\n",
              "11         16       2  0.0248    0.007446\n",
              "12         16       4  0.2144    0.135419\n",
              "13         16       8  0.8796    2.149668\n",
              "14         24       0  0.0000    0.000110\n",
              "15         24       1  0.0000    0.000305\n",
              "16         24       2  0.0004    0.002885\n",
              "17         24       4  0.0168    0.120770\n",
              "18         24       8  0.4140   12.422228"
            ]
          },
          "metadata": {
            "tags": []
          },
          "execution_count": 16
        },
        {
          "output_type": "stream",
          "text": [
            "time: 19.1 s (started: 2021-05-27 12:25:06 +00:00)\n"
          ],
          "name": "stdout"
        }
      ]
    },
    {
      "cell_type": "code",
      "metadata": {
        "colab": {
          "base_uri": "https://localhost:8080/",
          "height": 308
        },
        "id": "KiHFP3zhzWrd",
        "outputId": "9da6dca9-5e41-4cf9-e3b9-d9138ab61e4e"
      },
      "source": [
        "sns.set_theme(style='whitegrid')\n",
        "ax = sns.lineplot(data=results, x='query_time', y='recall', hue='hash_size', legend='full', marker='o')\n",
        "ax.set_xscale('log')"
      ],
      "execution_count": null,
      "outputs": [
        {
          "output_type": "display_data",
          "data": {
            "image/png": "[encoded data removed]",
            "text/plain": [
              "<Figure size 432x288 with 1 Axes>"
            ]
          },
          "metadata": {
            "tags": []
          }
        },
        {
          "output_type": "stream",
          "text": [
            "time: 1.54 s (started: 2021-05-27 12:25:25 +00:00)\n"
          ],
          "name": "stdout"
        }
      ]
    },
    {
      "cell_type": "markdown",
      "metadata": {
        "id": "IoBUaAJC7JcX"
      },
      "source": [
        "### LSH with multiple $g()$ (FAISS)"
      ]
    },
    {
      "cell_type": "markdown",
      "metadata": {
        "id": "sOm8mHbdYxPg"
      },
      "source": [
        "The previous index is equivalent to an LSH index with only one hash function $g()$. The `IndexBinaryMultiHash` provides the possibility of using multiple hashes (and thus multiple splits into buckets). This index uses the first `n_bits` for the first hash, the subsequent `n_bits` for the second hash, and so on until `n_hashes` hashes are formed."
      ]
    },
    {
      "cell_type": "code",
      "metadata": {
        "id": "gm4zVgyo4VGo",
        "colab": {
          "base_uri": "https://localhost:8080/"
        },
        "outputId": "2dfe8936-06aa-42a2-adb8-e3606184a879"
      },
      "source": [
        "n_hashes = 8\n",
        "n_bits = 4\n",
        "index = faiss.IndexBinaryMultiHash(d_bits, n_hashes, n_bits)\n",
        "index.add(xb)"
      ],
      "execution_count": null,
      "outputs": [
        {
          "output_type": "stream",
          "text": [
            "time: 506 ms (started: 2021-05-27 12:25:26 +00:00)\n"
          ],
          "name": "stdout"
        }
      ]
    },
    {
      "cell_type": "markdown",
      "metadata": {
        "id": "XaiS_xItbJf2"
      },
      "source": [
        "At query time, we visit buckets having hashes that are at most `nflip` bits away from the hash of the query, for each hash group.\n",
        "\n",
        "**NOTE**: at query time, we can change `nflip` without rebuilding the index; moreover, we can change the number of hashes `nhash` among the available ones that we want to use."
      ]
    },
    {
      "cell_type": "code",
      "metadata": {
        "id": "w4_Mrhq4A0tg",
        "colab": {
          "base_uri": "https://localhost:8080/"
        },
        "outputId": "7b59ee4d-87fe-4205-cf81-15714bf26c36"
      },
      "source": [
        "index.nflip = 1\n",
        "index.nhash = 4\n",
        "D, I = index.search(qb, k)"
      ],
      "execution_count": null,
      "outputs": [
        {
          "output_type": "stream",
          "text": [
            "time: 20.9 s (started: 2021-05-27 12:25:27 +00:00)\n"
          ],
          "name": "stdout"
        }
      ]
    },
    {
      "cell_type": "code",
      "metadata": {
        "colab": {
          "base_uri": "https://localhost:8080/"
        },
        "id": "psOM4ThfBQef",
        "outputId": "dc63a3a1-e6df-4627-f5f1-055d225d891e"
      },
      "source": [
        "compute_recall(true_neighbors, I)"
      ],
      "execution_count": null,
      "outputs": [
        {
          "output_type": "execute_result",
          "data": {
            "text/plain": [
              "0.9004000000000001"
            ]
          },
          "metadata": {
            "tags": []
          },
          "execution_count": 20
        },
        {
          "output_type": "stream",
          "text": [
            "time: 10.1 ms (started: 2021-05-27 12:25:48 +00:00)\n"
          ],
          "name": "stdout"
        }
      ]
    },
    {
      "cell_type": "markdown",
      "metadata": {
        "id": "tDyNcVaMdMyD"
      },
      "source": [
        "An example for searching operational points:"
      ]
    },
    {
      "cell_type": "code",
      "metadata": {
        "colab": {
          "base_uri": "https://localhost:8080/",
          "height": 1000,
          "referenced_widgets": [
            "44ded0ca6167418bb48394812427bf9b",
            "c408ba7666e7490eaa0b6e9070a2c9f8",
            "89b91b4b1e094fd0b7d10deb05d397d3",
            "e10b6511b0a24d6d98c507ca8682422a",
            "ed85e3b575a447d5aa1ab18940bcca69",
            "5a2a4714447f40138ec0dcd736cb8749",
            "05fc76003af84f1f97d292640ea7ea93",
            "ff137dea961f4ca5b3f9859a7da2b7e2",
            "7da2bf7f3ce641dcb6f213c774efc0a3",
            "a92fb97db6be4f67a61aea40023d30d7",
            "6353b1c2f8ac4c2bb7f2817b2388d742",
            "3ee5c5965f2f4bb6ac6f3203c22b9026",
            "495c8d4b85464b268698a0de8b3769a9",
            "81745c61ea4b490e96b88c7f0c5cf4e1",
            "bb9964ba7fee4818835a80fa2cb83711",
            "64ca8f85c1cd4122a4c50b73b324a563",
            "70321a6d37bb4da49246635488a62ce7",
            "7724c1277fcb4af59d9b601543fd2da3",
            "930a7acaae4e41fb885e8edcdce86b25",
            "6f2a4c36c6624b5683efc9b07a1cd31f",
            "c71c93f2ded74bf59e4b750e3f2cb6c5",
            "42a6b21e60a64db2ad9565a4e76fbb7c",
            "6e4362c54e5641438f22c77e1c7b8e2a",
            "6c5c1bf1cb764b7eaef5ed6c299035c3"
          ]
        },
        "id": "Bokf38sQCLqN",
        "outputId": "92a1f738-ecee-456c-fd78-68fc0ccbe47c"
      },
      "source": [
        "n_hashes = (2, 4, 8, 16)\n",
        "n_bits = (8, 16)\n",
        "n_flips = (0, 1, 2)\n",
        "\n",
        "results = []\n",
        "\n",
        "for nb in tqdm(n_bits):  # try a bunch of n_bits for the hash size\n",
        "\n",
        "  # we build only the index with the maximum n_hashes and use index.nhash to use less hashes at query time\n",
        "  index = faiss.IndexBinaryMultiHash(d_bits, max(n_hashes), nb) \n",
        "  index.add(xb)\n",
        "\n",
        "  for nh in tqdm(n_hashes, leave=False):  # try a bunch of n_hashes\n",
        "    for nh, nf in tqdm(n_flips, leave=False):  # try a bunch of n_flips\n",
        "      if nf > nb: continue\n",
        "      print(f'nb={nb} nh={nh} nf={nf}')\n",
        "\n",
        "      index.nflip = nf\n",
        "      index.nhash = nh\n",
        "\n",
        "      start = time.time()\n",
        "      D, I = index.search(qb, k)\n",
        "      elapsed = time.time() - start\n",
        "\n",
        "      results.append({\n",
        "          'hash_size': nb,\n",
        "          'nhashes': nh,\n",
        "          'nflips': nf,\n",
        "          'recall': compute_recall(true_neighbors, I),\n",
        "          'query_time': elapsed\n",
        "      })\n",
        "\n",
        "results = pd.DataFrame(results)\n",
        "results"
      ],
      "execution_count": null,
      "outputs": [
        {
          "output_type": "display_data",
          "data": {
            "application/vnd.jupyter.widget-view+json": {
              "model_id": "44ded0ca6167418bb48394812427bf9b",
              "version_minor": 0,
              "version_major": 2
            },
            "text/plain": [
              "HBox(children=(FloatProgress(value=0.0, max=2.0), HTML(value='')))"
            ]
          },
          "metadata": {
            "tags": []
          }
        },
        {
          "output_type": "display_data",
          "data": {
            "application/vnd.jupyter.widget-view+json": {
              "model_id": "7da2bf7f3ce641dcb6f213c774efc0a3",
              "version_minor": 0,
              "version_major": 2
            },
            "text/plain": [
              "HBox(children=(FloatProgress(value=1.0, bar_style='info', max=1.0), HTML(value='')))"
            ]
          },
          "metadata": {
            "tags": []
          }
        },
        {
          "output_type": "stream",
          "text": [
            "nb=8 nh=2 nf=0\n",
            "nb=8 nh=2 nf=1\n",
            "nb=8 nh=2 nf=2\n",
            "nb=8 nh=4 nf=0\n",
            "nb=8 nh=4 nf=1\n",
            "nb=8 nh=4 nf=2\n",
            "nb=8 nh=8 nf=0\n",
            "nb=8 nh=8 nf=1\n",
            "nb=8 nh=8 nf=2\n",
            "nb=8 nh=16 nf=0\n",
            "nb=8 nh=16 nf=1\n",
            "nb=8 nh=16 nf=2\n"
          ],
          "name": "stdout"
        },
        {
          "output_type": "display_data",
          "data": {
            "application/vnd.jupyter.widget-view+json": {
              "model_id": "70321a6d37bb4da49246635488a62ce7",
              "version_minor": 0,
              "version_major": 2
            },
            "text/plain": [
              "HBox(children=(FloatProgress(value=1.0, bar_style='info', max=1.0), HTML(value='')))"
            ]
          },
          "metadata": {
            "tags": []
          }
        },
        {
          "output_type": "stream",
          "text": [
            "nb=16 nh=2 nf=0\n",
            "nb=16 nh=2 nf=1\n",
            "nb=16 nh=2 nf=2\n",
            "nb=16 nh=4 nf=0\n",
            "nb=16 nh=4 nf=1\n",
            "nb=16 nh=4 nf=2\n",
            "nb=16 nh=8 nf=0\n",
            "nb=16 nh=8 nf=1\n",
            "nb=16 nh=8 nf=2\n",
            "nb=16 nh=16 nf=0\n",
            "nb=16 nh=16 nf=1\n",
            "nb=16 nh=16 nf=2\n",
            "\n"
          ],
          "name": "stdout"
        },
        {
          "output_type": "execute_result",
          "data": {
            "text/html": [
              "<div>\n",
              "<style scoped>\n",
              "    .dataframe tbody tr th:only-of-type {\n",
              "        vertical-align: middle;\n",
              "    }\n",
              "\n",
              "    .dataframe tbody tr th {\n",
              "        vertical-align: top;\n",
              "    }\n",
              "\n",
              "    .dataframe thead th {\n",
              "        text-align: right;\n",
              "    }\n",
              "</style>\n",
              "<table border=\"1\" class=\"dataframe\">\n",
              "  <thead>\n",
              "    <tr style=\"text-align: right;\">\n",
              "      <th></th>\n",
              "      <th>hash_size</th>\n",
              "      <th>nhashes</th>\n",
              "      <th>nflips</th>\n",
              "      <th>recall</th>\n",
              "      <th>query_time</th>\n",
              "    </tr>\n",
              "  </thead>\n",
              "  <tbody>\n",
              "    <tr>\n",
              "      <th>0</th>\n",
              "      <td>8</td>\n",
              "      <td>2</td>\n",
              "      <td>0</td>\n",
              "      <td>0.0362</td>\n",
              "      <td>0.115108</td>\n",
              "    </tr>\n",
              "    <tr>\n",
              "      <th>1</th>\n",
              "      <td>8</td>\n",
              "      <td>2</td>\n",
              "      <td>1</td>\n",
              "      <td>0.2378</td>\n",
              "      <td>1.209324</td>\n",
              "    </tr>\n",
              "    <tr>\n",
              "      <th>2</th>\n",
              "      <td>8</td>\n",
              "      <td>2</td>\n",
              "      <td>2</td>\n",
              "      <td>0.5906</td>\n",
              "      <td>6.434509</td>\n",
              "    </tr>\n",
              "    <tr>\n",
              "      <th>3</th>\n",
              "      <td>8</td>\n",
              "      <td>4</td>\n",
              "      <td>0</td>\n",
              "      <td>0.0796</td>\n",
              "      <td>0.220396</td>\n",
              "    </tr>\n",
              "    <tr>\n",
              "      <th>4</th>\n",
              "      <td>8</td>\n",
              "      <td>4</td>\n",
              "      <td>1</td>\n",
              "      <td>0.4268</td>\n",
              "      <td>2.726984</td>\n",
              "    </tr>\n",
              "    <tr>\n",
              "      <th>5</th>\n",
              "      <td>8</td>\n",
              "      <td>4</td>\n",
              "      <td>2</td>\n",
              "      <td>0.8344</td>\n",
              "      <td>16.917049</td>\n",
              "    </tr>\n",
              "    <tr>\n",
              "      <th>6</th>\n",
              "      <td>8</td>\n",
              "      <td>8</td>\n",
              "      <td>0</td>\n",
              "      <td>0.1592</td>\n",
              "      <td>0.566000</td>\n",
              "    </tr>\n",
              "    <tr>\n",
              "      <th>7</th>\n",
              "      <td>8</td>\n",
              "      <td>8</td>\n",
              "      <td>1</td>\n",
              "      <td>0.6804</td>\n",
              "      <td>7.028177</td>\n",
              "    </tr>\n",
              "    <tr>\n",
              "      <th>8</th>\n",
              "      <td>8</td>\n",
              "      <td>8</td>\n",
              "      <td>2</td>\n",
              "      <td>0.9184</td>\n",
              "      <td>23.813848</td>\n",
              "    </tr>\n",
              "    <tr>\n",
              "      <th>9</th>\n",
              "      <td>8</td>\n",
              "      <td>16</td>\n",
              "      <td>0</td>\n",
              "      <td>0.2934</td>\n",
              "      <td>1.101950</td>\n",
              "    </tr>\n",
              "    <tr>\n",
              "      <th>10</th>\n",
              "      <td>8</td>\n",
              "      <td>16</td>\n",
              "      <td>1</td>\n",
              "      <td>0.8898</td>\n",
              "      <td>12.456477</td>\n",
              "    </tr>\n",
              "    <tr>\n",
              "      <th>11</th>\n",
              "      <td>8</td>\n",
              "      <td>16</td>\n",
              "      <td>2</td>\n",
              "      <td>0.9270</td>\n",
              "      <td>41.019497</td>\n",
              "    </tr>\n",
              "    <tr>\n",
              "      <th>12</th>\n",
              "      <td>16</td>\n",
              "      <td>2</td>\n",
              "      <td>0</td>\n",
              "      <td>0.0004</td>\n",
              "      <td>0.000782</td>\n",
              "    </tr>\n",
              "    <tr>\n",
              "      <th>13</th>\n",
              "      <td>16</td>\n",
              "      <td>2</td>\n",
              "      <td>1</td>\n",
              "      <td>0.0072</td>\n",
              "      <td>0.012761</td>\n",
              "    </tr>\n",
              "    <tr>\n",
              "      <th>14</th>\n",
              "      <td>16</td>\n",
              "      <td>2</td>\n",
              "      <td>2</td>\n",
              "      <td>0.0480</td>\n",
              "      <td>0.073581</td>\n",
              "    </tr>\n",
              "    <tr>\n",
              "      <th>15</th>\n",
              "      <td>16</td>\n",
              "      <td>4</td>\n",
              "      <td>0</td>\n",
              "      <td>0.0014</td>\n",
              "      <td>0.002236</td>\n",
              "    </tr>\n",
              "    <tr>\n",
              "      <th>16</th>\n",
              "      <td>16</td>\n",
              "      <td>4</td>\n",
              "      <td>1</td>\n",
              "      <td>0.0160</td>\n",
              "      <td>0.019753</td>\n",
              "    </tr>\n",
              "    <tr>\n",
              "      <th>17</th>\n",
              "      <td>16</td>\n",
              "      <td>4</td>\n",
              "      <td>2</td>\n",
              "      <td>0.0950</td>\n",
              "      <td>0.158285</td>\n",
              "    </tr>\n",
              "    <tr>\n",
              "      <th>18</th>\n",
              "      <td>16</td>\n",
              "      <td>8</td>\n",
              "      <td>0</td>\n",
              "      <td>0.0024</td>\n",
              "      <td>0.002876</td>\n",
              "    </tr>\n",
              "    <tr>\n",
              "      <th>19</th>\n",
              "      <td>16</td>\n",
              "      <td>8</td>\n",
              "      <td>1</td>\n",
              "      <td>0.0352</td>\n",
              "      <td>0.035901</td>\n",
              "    </tr>\n",
              "    <tr>\n",
              "      <th>20</th>\n",
              "      <td>16</td>\n",
              "      <td>8</td>\n",
              "      <td>2</td>\n",
              "      <td>0.1898</td>\n",
              "      <td>0.341243</td>\n",
              "    </tr>\n",
              "    <tr>\n",
              "      <th>21</th>\n",
              "      <td>16</td>\n",
              "      <td>16</td>\n",
              "      <td>0</td>\n",
              "      <td>0.0050</td>\n",
              "      <td>0.006419</td>\n",
              "    </tr>\n",
              "    <tr>\n",
              "      <th>22</th>\n",
              "      <td>16</td>\n",
              "      <td>16</td>\n",
              "      <td>1</td>\n",
              "      <td>0.0692</td>\n",
              "      <td>0.076605</td>\n",
              "    </tr>\n",
              "    <tr>\n",
              "      <th>23</th>\n",
              "      <td>16</td>\n",
              "      <td>16</td>\n",
              "      <td>2</td>\n",
              "      <td>0.3574</td>\n",
              "      <td>0.773762</td>\n",
              "    </tr>\n",
              "  </tbody>\n",
              "</table>\n",
              "</div>"
            ],
            "text/plain": [
              "    hash_size  nhashes  nflips  recall  query_time\n",
              "0           8        2       0  0.0362    0.115108\n",
              "1           8        2       1  0.2378    1.209324\n",
              "2           8        2       2  0.5906    6.434509\n",
              "3           8        4       0  0.0796    0.220396\n",
              "4           8        4       1  0.4268    2.726984\n",
              "5           8        4       2  0.8344   16.917049\n",
              "6           8        8       0  0.1592    0.566000\n",
              "7           8        8       1  0.6804    7.028177\n",
              "8           8        8       2  0.9184   23.813848\n",
              "9           8       16       0  0.2934    1.101950\n",
              "10          8       16       1  0.8898   12.456477\n",
              "11          8       16       2  0.9270   41.019497\n",
              "12         16        2       0  0.0004    0.000782\n",
              "13         16        2       1  0.0072    0.012761\n",
              "14         16        2       2  0.0480    0.073581\n",
              "15         16        4       0  0.0014    0.002236\n",
              "16         16        4       1  0.0160    0.019753\n",
              "17         16        4       2  0.0950    0.158285\n",
              "18         16        8       0  0.0024    0.002876\n",
              "19         16        8       1  0.0352    0.035901\n",
              "20         16        8       2  0.1898    0.341243\n",
              "21         16       16       0  0.0050    0.006419\n",
              "22         16       16       1  0.0692    0.076605\n",
              "23         16       16       2  0.3574    0.773762"
            ]
          },
          "metadata": {
            "tags": []
          },
          "execution_count": 21
        },
        {
          "output_type": "stream",
          "text": [
            "time: 2min 5s (started: 2021-05-27 12:25:48 +00:00)\n"
          ],
          "name": "stdout"
        }
      ]
    },
    {
      "cell_type": "code",
      "metadata": {
        "colab": {
          "base_uri": "https://localhost:8080/",
          "height": 308
        },
        "id": "JFD1deeSGcZS",
        "outputId": "4d1e32b2-daff-428b-b270-7eaf6e5d5020"
      },
      "source": [
        "sns.set_theme(style='whitegrid')\n",
        "ax = sns.lineplot(data=results, x='query_time', y='recall', hue='nhashes', style='hash_size', legend='full', marker='o')\n",
        "ax.set_xscale('log')"
      ],
      "execution_count": null,
      "outputs": [
        {
          "output_type": "display_data",
          "data": {
            "image/png": "[encoded data removed]",
            "text/plain": [
              "<Figure size 432x288 with 1 Axes>"
            ]
          },
          "metadata": {
            "tags": []
          }
        },
        {
          "output_type": "stream",
          "text": [
            "time: 1.29 s (started: 2021-05-27 12:27:54 +00:00)\n"
          ],
          "name": "stdout"
        }
      ]
    },
    {
      "cell_type": "markdown",
      "metadata": {
        "id": "wejviSfKdz3W"
      },
      "source": [
        "**WARNING**: FAISS provides also an `IndexLSH` class, but this class is intended for _producing hashes from real-valued vectors that are then compared with the Hamming distance, without any kind on bucketing_.\n",
        "We will see this index in the following Open Lab when tackling real-valued vectors."
      ]
    },
    {
      "cell_type": "markdown",
      "metadata": {
        "id": "f_pkgQH8fFMO"
      },
      "source": [
        "## Indexing Metric Objects ($o \\in$ Strings, $d =$ Edit Distance)"
      ]
    },
    {
      "cell_type": "markdown",
      "metadata": {
        "id": "b6wpPzrOgFJ4"
      },
      "source": [
        "Now, we will explore a scenario in which objects aren't real-valued vectors, and common tools for euclidean spaces cannot be applied, and solutions for generic metric spaces must be applied."
      ]
    },
    {
      "cell_type": "markdown",
      "metadata": {
        "id": "o8jWA9i3ijze"
      },
      "source": [
        "### Getting Started"
      ]
    },
    {
      "cell_type": "markdown",
      "metadata": {
        "id": "gATcO9eVilT0"
      },
      "source": [
        "As objects to be indexes, we will consider a set of strings that we want to compare with the Levenshtein distance (a.k.a. edit distance).\n",
        "We install the `python-Levenshtein` package that provides an efficient implementation of the edit distance."
      ]
    },
    {
      "cell_type": "code",
      "metadata": {
        "colab": {
          "base_uri": "https://localhost:8080/"
        },
        "id": "ErwJaSion7vp",
        "outputId": "aacffc95-a41e-4c7c-cf10-8b33fbb172c4"
      },
      "source": [
        "!pip install -q python-Levenshtein"
      ],
      "execution_count": null,
      "outputs": [
        {
          "output_type": "stream",
          "text": [
            "\u001b[?25l\r\u001b[K     |██████▌                         | 10kB 14.2MB/s eta 0:00:01\r\u001b[K     |█████████████                   | 20kB 18.9MB/s eta 0:00:01\r\u001b[K     |███████████████████▌            | 30kB 23.0MB/s eta 0:00:01\r\u001b[K     |██████████████████████████      | 40kB 26.6MB/s eta 0:00:01\r\u001b[K     |████████████████████████████████| 51kB 5.7MB/s \n",
            "\u001b[?25h  Building wheel for python-Levenshtein (setup.py) ... \u001b[?25l\u001b[?25hdone\n"
          ],
          "name": "stdout"
        }
      ]
    },
    {
      "cell_type": "code",
      "metadata": {
        "id": "yC58sbAPg_JB"
      },
      "source": [
        "from Levenshtein import distance as edit_distance\n",
        "from scipy.spatial.distance import cdist"
      ],
      "execution_count": null,
      "outputs": []
    },
    {
      "cell_type": "markdown",
      "metadata": {
        "id": "LVGL0yaUg_8L"
      },
      "source": [
        "As database objects, we select a dataset of english given names available in the Natural Language Toolkit (nltk)."
      ]
    },
    {
      "cell_type": "code",
      "metadata": {
        "colab": {
          "base_uri": "https://localhost:8080/"
        },
        "id": "KQEa-kiRX3eX",
        "outputId": "beec9f87-22df-4dc9-e84d-f28389d1d649"
      },
      "source": [
        "import nltk\n",
        "nltk.download('names')\n",
        "from nltk.corpus import names\n",
        "\n",
        "db = names.words()  \n",
        "db = list(set(db))  # remove duplicates\n",
        "db = np.array(db, dtype=np.object)  # database\n",
        "queries = np.random.choice(db, 10)  # queries\n",
        "\n",
        "db, len(db)"
      ],
      "execution_count": null,
      "outputs": [
        {
          "output_type": "stream",
          "text": [
            "[nltk_data] Downloading package names to /root/nltk_data...\n",
            "[nltk_data]   Package names is already up-to-date!\n"
          ],
          "name": "stdout"
        },
        {
          "output_type": "execute_result",
          "data": {
            "text/plain": [
              "(array(['Dannye', 'Bartie', 'Clea', ..., 'Cristy', 'Daffi', 'Andrei'],\n",
              "       dtype=object), 7579)"
            ]
          },
          "metadata": {
            "tags": []
          },
          "execution_count": 7
        }
      ]
    },
    {
      "cell_type": "code",
      "metadata": {
        "colab": {
          "base_uri": "https://localhost:8080/"
        },
        "id": "FhGNSkNFX8uC",
        "outputId": "bf1b99f5-8f9e-4faf-8d84-efe9278ca71c"
      },
      "source": [
        "db[0], queries[0], edit_distance(db[0], queries[0])"
      ],
      "execution_count": null,
      "outputs": [
        {
          "output_type": "execute_result",
          "data": {
            "text/plain": [
              "('Dannye', 'Marcellina', 9)"
            ]
          },
          "metadata": {
            "tags": []
          },
          "execution_count": 8
        }
      ]
    },
    {
      "cell_type": "markdown",
      "metadata": {
        "id": "k2Be8lzxho3K"
      },
      "source": [
        "Let's define a helper function to compute the edit distance between two sets of strings (similar to the [`scipy.spatial.distance.cdist`](https://docs.scipy.org/doc/scipy/reference/generated/scipy.spatial.distance.cdist.html) function for real-valued vectors)."
      ]
    },
    {
      "cell_type": "code",
      "metadata": {
        "id": "Wem2028nYdBe"
      },
      "source": [
        "def edit_cdist(a, b):\n",
        "  D = np.empty((len(a), len(b)), dtype=np.int32)\n",
        "\n",
        "  for i, qi in enumerate(a):\n",
        "    for j, xj in enumerate(b):\n",
        "      D[i, j] = edit_distance(qi, xj)\n",
        "\n",
        "  return D"
      ],
      "execution_count": null,
      "outputs": []
    },
    {
      "cell_type": "markdown",
      "metadata": {
        "id": "C6CA01-Fipsd"
      },
      "source": [
        "### Sequential Scan / Bruteforce"
      ]
    },
    {
      "cell_type": "markdown",
      "metadata": {
        "id": "r1iUkb5xjrZA"
      },
      "source": [
        "As baseline, we compute the whole distance matrix between queries and datasets to get the true neighbors.\n",
        "\n",
        "**NOTE**: this operation is usually unfeasible for datasets large enough to need indexing."
      ]
    },
    {
      "cell_type": "code",
      "metadata": {
        "colab": {
          "base_uri": "https://localhost:8080/"
        },
        "id": "av2TpNKmZQe6",
        "outputId": "71331956-1869-4e99-b0e3-4acbdcaa2849"
      },
      "source": [
        "D = edit_cdist(queries, db)\n",
        "D"
      ],
      "execution_count": null,
      "outputs": [
        {
          "output_type": "execute_result",
          "data": {
            "text/plain": [
              "array([[9, 7, 8, ..., 9, 8, 8],\n",
              "       [5, 4, 5, ..., 5, 5, 5],\n",
              "       [6, 5, 6, ..., 7, 7, 7],\n",
              "       ...,\n",
              "       [6, 5, 6, ..., 7, 6, 6],\n",
              "       [5, 4, 5, ..., 6, 5, 6],\n",
              "       [8, 7, 8, ..., 6, 8, 8]], dtype=int32)"
            ]
          },
          "metadata": {
            "tags": []
          },
          "execution_count": 12
        },
        {
          "output_type": "stream",
          "text": [
            "time: 47.4 ms (started: 2021-06-01 14:01:12 +00:00)\n"
          ],
          "name": "stdout"
        }
      ]
    },
    {
      "cell_type": "code",
      "metadata": {
        "colab": {
          "base_uri": "https://localhost:8080/"
        },
        "id": "hkqtPccQZ9xI",
        "outputId": "4baa2527-f893-4c6c-96e5-d94374d91cb0"
      },
      "source": [
        "true_neighbors = D.argsort(axis=1)\n",
        "queries[7], db[true_neighbors[7, :5]]"
      ],
      "execution_count": null,
      "outputs": [
        {
          "output_type": "execute_result",
          "data": {
            "text/plain": [
              "('Gearard',\n",
              " array(['Gearard', 'Gerrard', 'Gerard', 'Gerald', 'Bearnard'], dtype=object))"
            ]
          },
          "metadata": {
            "tags": []
          },
          "execution_count": 13
        },
        {
          "output_type": "stream",
          "text": [
            "time: 12.3 ms (started: 2021-06-01 14:01:46 +00:00)\n"
          ],
          "name": "stdout"
        }
      ]
    },
    {
      "cell_type": "markdown",
      "metadata": {
        "id": "-ufuPMMOlOEy"
      },
      "source": [
        "### Permutation-based Indexing"
      ]
    },
    {
      "cell_type": "markdown",
      "metadata": {
        "id": "vjWiMlIQldXL"
      },
      "source": [
        "We will see a permutation-based technique, specifically the Metric Inverted File, to index metric objects.\n",
        "In permutation-based indexing, we transform our dataset using distances to a set of reference points (a.k.a. pivots).\n",
        "For each data point, we use the ordered sequence of the pivots, from the nearest to the farthest, as representation. This ordered sequence is also called **permutataion**.\n",
        "\n",
        "Similar objects will have similar permutations, specially in the first part of the permutation.\n",
        "\n",
        "Permutations can be compared using the **Spearman's Footrule Distance (SFD)** that sums the difference in position for each pivot.\n",
        "\n",
        "Let's start by randomly choosing a set of pivots."
      ]
    },
    {
      "cell_type": "code",
      "metadata": {
        "colab": {
          "base_uri": "https://localhost:8080/"
        },
        "id": "-4cA2l9OarYc",
        "outputId": "547dc52b-7b16-4c91-8512-50a5d67c4686"
      },
      "source": [
        "pivots = np.random.choice(db, 25)\n",
        "pivots"
      ],
      "execution_count": null,
      "outputs": [
        {
          "output_type": "execute_result",
          "data": {
            "text/plain": [
              "array(['Solomon', 'Amalita', 'Hattie', 'Willyt', 'Alwin', 'Stafani',\n",
              "       'Gussy', 'Oren', 'Cordula', 'Alaa', 'Lena', 'Corrie', 'Maure',\n",
              "       'Lusa', 'Horatius', 'Tyne', 'Thaxter', 'Johnnie', 'Marissa', 'Tim',\n",
              "       'Vikky', 'Cate', 'Phaidra', 'Augustin', 'Antony'], dtype=object)"
            ]
          },
          "metadata": {
            "tags": []
          },
          "execution_count": 14
        },
        {
          "output_type": "stream",
          "text": [
            "time: 8.29 ms (started: 2021-06-01 14:03:51 +00:00)\n"
          ],
          "name": "stdout"
        }
      ]
    },
    {
      "cell_type": "markdown",
      "metadata": {
        "id": "c06KIAfHl8nl"
      },
      "source": [
        "Next, we compute the distances of each dataset object to the pivots ..."
      ]
    },
    {
      "cell_type": "code",
      "metadata": {
        "colab": {
          "base_uri": "https://localhost:8080/"
        },
        "id": "5xXX3uppbGuz",
        "outputId": "788a87f6-1938-471f-b235-a62591e93216"
      },
      "source": [
        "xp_distances = edit_cdist(db, pivots)\n",
        "xp_distances.shape\n",
        "xp_distances[0]"
      ],
      "execution_count": null,
      "outputs": [
        {
          "output_type": "execute_result",
          "data": {
            "text/plain": [
              "array([7, 6, 4, 5, 6, 6, 5, 5, 7, 6, 5, 5, 4, 6, 7, 4, 6, 4, 6, 6, 5, 4,\n",
              "       6, 8, 5], dtype=int32)"
            ]
          },
          "metadata": {
            "tags": []
          },
          "execution_count": 16
        },
        {
          "output_type": "stream",
          "text": [
            "time: 88 ms (started: 2021-06-01 14:05:35 +00:00)\n"
          ],
          "name": "stdout"
        }
      ]
    },
    {
      "cell_type": "markdown",
      "metadata": {
        "id": "vvBIoXSEmZZI"
      },
      "source": [
        ".. and sort the distances to find how pivots are ranked."
      ]
    },
    {
      "cell_type": "code",
      "metadata": {
        "colab": {
          "base_uri": "https://localhost:8080/"
        },
        "id": "Z3gU3ex7b4MN",
        "outputId": "88f7db46-8685-4ff4-8fea-13c2c2b4c71f"
      },
      "source": [
        "# permutation: i -> pivot with rank i\n",
        "xp_permutation = xp_distances.argsort(axis=1)\n",
        "xp_permutation"
      ],
      "execution_count": null,
      "outputs": [
        {
          "output_type": "execute_result",
          "data": {
            "text/plain": [
              "array([[12, 21,  2, ...,  8,  0, 23],\n",
              "       [ 2, 21, 11, ...,  1, 13,  0],\n",
              "       [ 9, 13, 21, ..., 14, 17, 23],\n",
              "       ...,\n",
              "       [21, 20,  6, ...,  5, 14,  0],\n",
              "       [12,  2, 21, ..., 23,  8,  0],\n",
              "       [12,  7, 24, ..., 18, 14,  0]])"
            ]
          },
          "metadata": {
            "tags": []
          },
          "execution_count": 17
        },
        {
          "output_type": "stream",
          "text": [
            "time: 13.2 ms (started: 2021-06-01 14:06:08 +00:00)\n"
          ],
          "name": "stdout"
        }
      ]
    },
    {
      "cell_type": "markdown",
      "metadata": {
        "id": "VKF3-9z9sDOm"
      },
      "source": [
        "For computing the SFD, we need to find the position of each pivot, ordered by pivot number (also called **inverse permutation**).\n",
        "This can be found by sorting again the permutation:"
      ]
    },
    {
      "cell_type": "code",
      "metadata": {
        "colab": {
          "base_uri": "https://localhost:8080/"
        },
        "id": "pPFf1haJb6qU",
        "outputId": "39077e1f-1980-4fd8-dce9-c7ae8d1e593c"
      },
      "source": [
        "# inverse permutation: i -> position of pivot i\n",
        "xp_inv_perm = xp_permutation.argsort(axis=1)\n",
        "xp_inv_perm"
      ],
      "execution_count": null,
      "outputs": [
        {
          "output_type": "execute_result",
          "data": {
            "text/plain": [
              "array([[23, 19,  2, ..., 20, 24,  8],\n",
              "       [24, 22,  0, ..., 12, 15, 14],\n",
              "       [17, 13, 20, ..., 15, 24, 21],\n",
              "       ...,\n",
              "       [24, 20, 19, ..., 11, 15,  4],\n",
              "       [24, 19,  1, ..., 14, 22, 17],\n",
              "       [24, 19, 15, ...,  9, 16,  2]])"
            ]
          },
          "metadata": {
            "tags": []
          },
          "execution_count": 18
        },
        {
          "output_type": "stream",
          "text": [
            "time: 11 ms (started: 2021-06-01 14:10:34 +00:00)\n"
          ],
          "name": "stdout"
        }
      ]
    },
    {
      "cell_type": "markdown",
      "metadata": {
        "id": "9NqXFgivsh08"
      },
      "source": [
        "Let's find also the representations of the queries by applying the same steps:"
      ]
    },
    {
      "cell_type": "code",
      "metadata": {
        "colab": {
          "base_uri": "https://localhost:8080/"
        },
        "id": "OJRl1A6sdsx4",
        "outputId": "19f4b41c-8446-4b83-a4b5-b69d047d7d15"
      },
      "source": [
        "qp_distances = edit_cdist(queries, pivots)\n",
        "qp_inv_perm = qp_distances.argsort(axis=1).argsort(axis=1)\n",
        "qp_inv_perm.shape"
      ],
      "execution_count": null,
      "outputs": [
        {
          "output_type": "execute_result",
          "data": {
            "text/plain": [
              "(10, 25)"
            ]
          },
          "metadata": {
            "tags": []
          },
          "execution_count": 19
        },
        {
          "output_type": "stream",
          "text": [
            "time: 6.66 ms (started: 2021-06-01 14:11:01 +00:00)\n"
          ],
          "name": "stdout"
        }
      ]
    },
    {
      "cell_type": "markdown",
      "metadata": {
        "id": "2EG-EyOgsvfV"
      },
      "source": [
        "Finally, we can compute the SFD between queries and datasets representations; this is equivalent to the L1 distances between the inverted permutations."
      ]
    },
    {
      "cell_type": "code",
      "metadata": {
        "colab": {
          "base_uri": "https://localhost:8080/"
        },
        "id": "alMknEEFeC_y",
        "outputId": "4b8f9a83-7987-4b2d-da8a-b1830e25e9ca"
      },
      "source": [
        "qx_sfd = cdist(qp_inv_perm, xp_inv_perm, metric='cityblock')\n",
        "qx_sfd.shape"
      ],
      "execution_count": null,
      "outputs": [
        {
          "output_type": "execute_result",
          "data": {
            "text/plain": [
              "(10, 7579)"
            ]
          },
          "metadata": {
            "tags": []
          },
          "execution_count": 20
        },
        {
          "output_type": "stream",
          "text": [
            "time: 13.9 ms (started: 2021-06-01 14:11:42 +00:00)\n"
          ],
          "name": "stdout"
        }
      ]
    },
    {
      "cell_type": "markdown",
      "metadata": {
        "id": "WxbJntdDtBnB"
      },
      "source": [
        "Let's use the SFD to rank objects by similar permutations, and check that still we are retrieving similar object first."
      ]
    },
    {
      "cell_type": "code",
      "metadata": {
        "colab": {
          "base_uri": "https://localhost:8080/"
        },
        "id": "RsaINZFfetEC",
        "outputId": "98226c3b-f57f-416d-e326-30b7e58b905e"
      },
      "source": [
        "I = qx_sfd.argsort(axis=1)\n",
        "\n",
        "queries[8], db[I[8,:5]], db[true_neighbors[8,:5]]"
      ],
      "execution_count": null,
      "outputs": [
        {
          "output_type": "execute_result",
          "data": {
            "text/plain": [
              "('Jillie',\n",
              " array(['Jillie', 'Billie', 'Willie', 'Tillie', 'Welbie'], dtype=object),\n",
              " array(['Jillie', 'Willie', 'Gillie', 'Tillie', 'Jilli'], dtype=object))"
            ]
          },
          "metadata": {
            "tags": []
          },
          "execution_count": 21
        },
        {
          "output_type": "stream",
          "text": [
            "time: 20.9 ms (started: 2021-06-01 14:14:21 +00:00)\n"
          ],
          "name": "stdout"
        }
      ]
    },
    {
      "cell_type": "code",
      "metadata": {
        "colab": {
          "base_uri": "https://localhost:8080/"
        },
        "id": "UwlHgPHWtWrj",
        "outputId": "249c9469-f7cd-4980-baf3-e721707f7a32"
      },
      "source": [
        "k = 10\n",
        "compute_recall(true_neighbors[:, :k], I[:, :k])"
      ],
      "execution_count": null,
      "outputs": [
        {
          "output_type": "execute_result",
          "data": {
            "text/plain": [
              "0.31"
            ]
          },
          "metadata": {
            "tags": []
          },
          "execution_count": 25
        },
        {
          "output_type": "stream",
          "text": [
            "time: 109 ms (started: 2021-06-01 14:16:32 +00:00)\n"
          ],
          "name": "stdout"
        }
      ]
    },
    {
      "cell_type": "markdown",
      "metadata": {
        "id": "0wOBjHWzuuty"
      },
      "source": [
        "### Metric Inverted File (MI-File)"
      ]
    },
    {
      "cell_type": "markdown",
      "metadata": {
        "id": "gprIoqQfuz7R"
      },
      "source": [
        "Up to now, we transformed metric objects to permutations that can be compared with the SFD, but we gained no advantage in the query time and we lost in recall.\n",
        "\n",
        "The real advantage of using permutations as representations is the possibility of efficiently indexing them using permutation-based indices.\n",
        "\n",
        "Here, we will implement a simple RAM-based Metric Inverted File that will support the following parameters:\n",
        "\n",
        "\n",
        "*   **`n_pivots`**: the number of posting lists (one per pivot); each posting list will contain entries with an object ID $o$ and the position of the pivot in $o$'s permutation.\n",
        "*   **`k_x`**: the length of the prefix of the permutation that we insert in the posting lists (the values of the permutation after the `k_x`-th will be discarded); _this controls the length of the posting lists_.\n",
        "*   **`k_s`**: the length of the prefix of the permutation of the query that we use for search (the posting lists of the pivots that are in position > `k_s` will be accessed); _this controls the number of posting lists accessed per query_.\n",
        "*   **`mdp`**: the maximum distance of the position; we will access entries of a posting lists having the pivot's positions at most `mdp` away from the one of the query; _this controls the number of entries in posting list that are accessed_.\n",
        "\n"
      ]
    },
    {
      "cell_type": "code",
      "metadata": {
        "id": "x4_t_l4ze80l",
        "colab": {
          "base_uri": "https://localhost:8080/"
        },
        "outputId": "29332e92-dad7-47d5-9f28-84abd99bcb16"
      },
      "source": [
        "!pip install -q sortedcontainers"
      ],
      "execution_count": null,
      "outputs": [
        {
          "output_type": "stream",
          "text": [
            "time: 2.64 s (started: 2021-06-01 14:40:04 +00:00)\n"
          ],
          "name": "stdout"
        }
      ]
    },
    {
      "cell_type": "code",
      "metadata": {
        "id": "cJvVdZJUfLgd",
        "colab": {
          "base_uri": "https://localhost:8080/"
        },
        "outputId": "32764232-6488-4901-d8df-78dbd1b9bb03"
      },
      "source": [
        "from collections import defaultdict\n",
        "from sortedcontainers import SortedList"
      ],
      "execution_count": null,
      "outputs": [
        {
          "output_type": "stream",
          "text": [
            "time: 12.8 ms (started: 2021-06-01 14:40:07 +00:00)\n"
          ],
          "name": "stdout"
        }
      ]
    },
    {
      "cell_type": "code",
      "metadata": {
        "id": "AjBYyzK1fjZn",
        "colab": {
          "base_uri": "https://localhost:8080/"
        },
        "outputId": "0f1ee007-e2bf-4e69-8471-0053b62656ca"
      },
      "source": [
        "class MIFile():\n",
        "  \"\"\" This class implements a Metric Inverted Files for indexing and searching\n",
        "      permutations.\n",
        "  \"\"\"\n",
        "\n",
        "  def __init__(self, n_pivots, k_x=None):\n",
        "    \"\"\" Constructs a new index with n_pivots posting lists, initially empty.\n",
        "\n",
        "        - `k_x` is the length of the prefix of permutation to index (pivots in\n",
        "        positions > `k_x` will be discarded and not inserted in the index).\n",
        "    \"\"\"\n",
        "    self.n_pivots = n_pivots\n",
        "    self.posting_lists = defaultdict(SortedList)  # posting lists are sorted lists\n",
        "    self.k_x = k_x or n_pivots\n",
        "\n",
        "    self.ntotal = 0\n",
        "\n",
        "  def add(self, x):\n",
        "    \"\"\" Adds permutations to the indexes.\n",
        "\n",
        "        - `x` is (n_samples x n_pivots) matrix containing n_samples permutations.\n",
        "    \"\"\"\n",
        "    n_samples = len(x)\n",
        "    new_ids = range(n_samples)  # ids are incremental integers\n",
        "\n",
        "    for i, positions_of_pivot_i in enumerate(x.T):  # iterate over the pivots\n",
        "      new_entries = zip(positions_of_pivot_i, new_ids)  # entries are tuples (pos, id)\n",
        "      new_entries = filter(lambda e: e[0] < self.k_x, new_entries)  # keep only if pos < k_x\n",
        "      self.posting_lists[i].update(new_entries)  # add entries to the pivot's posting list\n",
        "    \n",
        "    self.ntotal += n_samples\n",
        "  \n",
        "  def search(self, q, k=None, k_s=None, mdp=None):\n",
        "    \"\"\" Searches the index for the `k` nearest neighbors of each query in `q`.\n",
        "\n",
        "        - `q` is (n_queries x n_pivots) matrix containing n_queries permutations.\n",
        "        - `k_s` is the length of the prefix of queries' permutation to use (pivots\n",
        "        in positions > `k_s` will be discarded and the corresponding posting\n",
        "        lists not accessed).\n",
        "        - `mdp` is the maximum distance of pivot positions between query and \n",
        "        data point that is acceptable; entries in the posting lists with larger\n",
        "        distances will not be accessed.\n",
        "    \"\"\"\n",
        "    n_queries = len(q)\n",
        "    k = k or self.ntotal\n",
        "    k_s = k_s or self.n_pivots\n",
        "\n",
        "    # prepare the output (-1 and infs means that less than k objects are retrieved)\n",
        "    I = np.full((n_queries, k), fill_value=-1)\n",
        "    D = np.full((n_queries, k), fill_value=np.inf)\n",
        "\n",
        "    for i, qi in enumerate(q):  # process a query at the time\n",
        "      distances = defaultdict(int)  # keeps partial SFD distance computations\n",
        "      \n",
        "      for j, q_pos in enumerate(qi):  # iterate the query inverse permutation\n",
        "        if q_pos < k_s:  # consider pivot j only if is among the top k_s pivots\n",
        "          posting_list = self.posting_lists[j]  # posting lists of pivot j\n",
        "\n",
        "          # begin and end delimits the part of posting list to be accessed\n",
        "          begin = (q_pos - mdp, 0) if mdp is not None else None\n",
        "          end = (q_pos + mdp + 1, 0) if mdp is not None else None\n",
        "          inclusive = (True, False) if mdp is not None else (True, True)\n",
        "\n",
        "          for entry in posting_list.irange(begin, end, inclusive=inclusive):  # iterate over entries\n",
        "            o_pos, o = entry\n",
        "            distances[o] += abs(q_pos - o_pos)  # update the partial SFD of object o\n",
        "\n",
        "      # distances now contain the SFD for each retrieved object o,\n",
        "      # we sort results by increasing SFD\n",
        "      qi_res = sorted(distances.items(), key=lambda x: x[1])\n",
        "      ids, dists = zip(*qi_res)\n",
        "\n",
        "      # we keep only the k object with smaller distances\n",
        "      ids = np.array(ids)[:k]\n",
        "      dists = np.array(dists)[:k]\n",
        "\n",
        "      # we put results in I and D (note: results may be less than k)\n",
        "      I[i, :len(ids)] = ids\n",
        "      D[i, :len(dists)] = dists\n",
        "    \n",
        "    return D, I\n",
        "\n",
        "  def n_entries(self):\n",
        "    \"\"\" Returns the number of entries that comprise all the posting lists. \"\"\"\n",
        "    return sum(map(len, self.posting_lists.values()))"
      ],
      "execution_count": null,
      "outputs": [
        {
          "output_type": "stream",
          "text": [
            "time: 67.8 ms (started: 2021-06-01 14:40:07 +00:00)\n"
          ],
          "name": "stdout"
        }
      ]
    },
    {
      "cell_type": "markdown",
      "metadata": {
        "id": "9jze_4nH_iiE"
      },
      "source": [
        "Now, we can use the MIFile as follows:"
      ]
    },
    {
      "cell_type": "code",
      "metadata": {
        "colab": {
          "base_uri": "https://localhost:8080/"
        },
        "id": "rLHALxGJgIL4",
        "outputId": "406a0623-7cf9-493c-d709-ce979625edf6"
      },
      "source": [
        "n_pivots = len(pivots)\n",
        "index = MIFile(n_pivots)\n",
        "\n",
        "index.add(xp_inv_perm)\n",
        "D, I = index.search(qp_inv_perm)\n",
        "D, I"
      ],
      "execution_count": null,
      "outputs": [
        {
          "output_type": "execute_result",
          "data": {
            "text/plain": [
              "(array([[  0.,  60.,  76., ..., 268., 270., 270.],\n",
              "        [  0.,  30.,  30., ..., 282., 284., 298.],\n",
              "        [  0.,  52.,  58., ..., 278., 284., 286.],\n",
              "        ...,\n",
              "        [  0.,  70.,  76., ..., 276., 276., 276.],\n",
              "        [  0.,  12.,  12., ..., 284., 284., 284.],\n",
              "        [  0.,  68.,  76., ..., 278., 282., 284.]]),\n",
              " array([[3250,  139, 4193, ..., 3369, 2355,  370],\n",
              "        [ 466,  499, 2084, ..., 5632,  753, 3264],\n",
              "        [ 991, 1471, 6186, ..., 3264, 5094, 6971],\n",
              "        ...,\n",
              "        [3490,  128, 1482, ..., 2637, 3208, 1648],\n",
              "        [  34, 1997, 4793, ..., 2201, 4993, 3191],\n",
              "        [2022, 5688,  143, ..., 3204, 4625, 4735]]))"
            ]
          },
          "metadata": {
            "tags": []
          },
          "execution_count": 29
        },
        {
          "output_type": "stream",
          "text": [
            "time: 1.56 s (started: 2021-06-01 14:40:07 +00:00)\n"
          ],
          "name": "stdout"
        }
      ]
    },
    {
      "cell_type": "code",
      "metadata": {
        "colab": {
          "base_uri": "https://localhost:8080/"
        },
        "id": "1oxnTlnXmWDL",
        "outputId": "a1054507-54af-45f4-bf87-b7258aba20f4"
      },
      "source": [
        "k = 10\n",
        "compute_recall(true_neighbors[:, :k], I[:, :k])"
      ],
      "execution_count": null,
      "outputs": [
        {
          "output_type": "execute_result",
          "data": {
            "text/plain": [
              "0.31"
            ]
          },
          "metadata": {
            "tags": []
          },
          "execution_count": 30
        },
        {
          "output_type": "stream",
          "text": [
            "time: 5.51 ms (started: 2021-06-01 14:40:09 +00:00)\n"
          ],
          "name": "stdout"
        }
      ]
    },
    {
      "cell_type": "code",
      "metadata": {
        "colab": {
          "base_uri": "https://localhost:8080/"
        },
        "id": "PcPGf3P6ozAD",
        "outputId": "a517cea1-4643-4f27-8068-28136b518daf"
      },
      "source": [
        "queries[3], db[I[3, :5]], db[true_neighbors[3, :5]]"
      ],
      "execution_count": null,
      "outputs": [
        {
          "output_type": "execute_result",
          "data": {
            "text/plain": [
              "('Floyd',\n",
              " array(['Floyd', 'Lloyd', 'Eliot', 'Willow', 'Wilow'], dtype=object),\n",
              " array(['Floyd', 'Lloyd', 'Ford', 'Flori', 'Flory'], dtype=object))"
            ]
          },
          "metadata": {
            "tags": []
          },
          "execution_count": 31
        },
        {
          "output_type": "stream",
          "text": [
            "time: 4.75 ms (started: 2021-06-01 14:40:09 +00:00)\n"
          ],
          "name": "stdout"
        }
      ]
    },
    {
      "cell_type": "markdown",
      "metadata": {
        "id": "eoPjJ5va_oRx"
      },
      "source": [
        "As for any index with parameters, we need to search the parameter space for good operational points:"
      ]
    },
    {
      "cell_type": "code",
      "metadata": {
        "colab": {
          "base_uri": "https://localhost:8080/",
          "height": 1000
        },
        "id": "MAf5BYi8sAQE",
        "outputId": "00b2e830-5a60-4e2d-bcde-e7345a4b4e43"
      },
      "source": [
        "pivots = np.random.choice(db, 1000)  # pick 1000 pivots\n",
        "k = 10  # k for recall\n",
        "\n",
        "n_pivots = (10, 50, 100, 500, 1000)\n",
        "k_xs = (10, 100, None)\n",
        "k_ss = (10, 100, None)\n",
        "mdps = (0, 10, 100, None)\n",
        "\n",
        "results = []\n",
        "\n",
        "for n_p in n_pivots:  # try a bunch of n_pivots\n",
        "  p = pivots[:n_p]\n",
        "\n",
        "  # compute permutations wrt pivots\n",
        "  xp = edit_cdist(db, p).argsort(axis=1).argsort(axis=1)\n",
        "  qp = edit_cdist(queries, p).argsort(axis=1).argsort(axis=1)\n",
        "\n",
        "  for k_x in k_xs:  # try a bunch of k_x\n",
        "    if k_x and k_x > n_p: continue\n",
        "\n",
        "    # build the index\n",
        "    index = MIFile(n_p, k_x=k_x)\n",
        "    index.add(xp)\n",
        "\n",
        "    for k_s in k_ss:  # try a bunch of k_s\n",
        "      if k_s and k_s > n_p: continue\n",
        "\n",
        "      for mdp in mdps:  # try a bunch of mdp\n",
        "        if mdp is not None and mdp > n_p: continue\n",
        "\n",
        "        print(f'np={n_p:4d} k_x={k_x} k_s={k_s} mdp={mdp}')\n",
        "\n",
        "        # query the index\n",
        "        start = time.time()\n",
        "        _, Im = index.search(qp, k, k_s=k_s, mdp=mdp)\n",
        "        elapsed = time.time() - start\n",
        "\n",
        "        # save results\n",
        "        results.append({\n",
        "            'n_pivots': n_p,\n",
        "            'k_x': k_x,\n",
        "            'k_s': k_s,\n",
        "            'mdp': mdp,\n",
        "            'query_time': elapsed,\n",
        "            'n_entries': index.n_entries(),\n",
        "            'recall': compute_recall(I[:,:k], Im)\n",
        "        })\n",
        "\n",
        "results = pd.DataFrame(results)\n",
        "results"
      ],
      "execution_count": null,
      "outputs": [
        {
          "output_type": "stream",
          "text": [
            "np=  10 k_x=10 k_s=10 mdp=0\n",
            "np=  10 k_x=10 k_s=10 mdp=10\n",
            "np=  10 k_x=10 k_s=10 mdp=None\n",
            "np=  10 k_x=10 k_s=None mdp=0\n",
            "np=  10 k_x=10 k_s=None mdp=10\n",
            "np=  10 k_x=10 k_s=None mdp=None\n",
            "np=  10 k_x=None k_s=10 mdp=0\n",
            "np=  10 k_x=None k_s=10 mdp=10\n",
            "np=  10 k_x=None k_s=10 mdp=None\n",
            "np=  10 k_x=None k_s=None mdp=0\n",
            "np=  10 k_x=None k_s=None mdp=10\n",
            "np=  10 k_x=None k_s=None mdp=None\n",
            "np=  50 k_x=10 k_s=10 mdp=0\n",
            "np=  50 k_x=10 k_s=10 mdp=10\n",
            "np=  50 k_x=10 k_s=10 mdp=None\n",
            "np=  50 k_x=10 k_s=None mdp=0\n",
            "np=  50 k_x=10 k_s=None mdp=10\n",
            "np=  50 k_x=10 k_s=None mdp=None\n",
            "np=  50 k_x=None k_s=10 mdp=0\n",
            "np=  50 k_x=None k_s=10 mdp=10\n",
            "np=  50 k_x=None k_s=10 mdp=None\n",
            "np=  50 k_x=None k_s=None mdp=0\n",
            "np=  50 k_x=None k_s=None mdp=10\n",
            "np=  50 k_x=None k_s=None mdp=None\n",
            "np= 100 k_x=10 k_s=10 mdp=0\n",
            "np= 100 k_x=10 k_s=10 mdp=10\n",
            "np= 100 k_x=10 k_s=10 mdp=100\n",
            "np= 100 k_x=10 k_s=10 mdp=None\n",
            "np= 100 k_x=10 k_s=100 mdp=0\n",
            "np= 100 k_x=10 k_s=100 mdp=10\n",
            "np= 100 k_x=10 k_s=100 mdp=100\n",
            "np= 100 k_x=10 k_s=100 mdp=None\n",
            "np= 100 k_x=10 k_s=None mdp=0\n",
            "np= 100 k_x=10 k_s=None mdp=10\n",
            "np= 100 k_x=10 k_s=None mdp=100\n",
            "np= 100 k_x=10 k_s=None mdp=None\n",
            "np= 100 k_x=100 k_s=10 mdp=0\n",
            "np= 100 k_x=100 k_s=10 mdp=10\n",
            "np= 100 k_x=100 k_s=10 mdp=100\n",
            "np= 100 k_x=100 k_s=10 mdp=None\n",
            "np= 100 k_x=100 k_s=100 mdp=0\n",
            "np= 100 k_x=100 k_s=100 mdp=10\n",
            "np= 100 k_x=100 k_s=100 mdp=100\n",
            "np= 100 k_x=100 k_s=100 mdp=None\n",
            "np= 100 k_x=100 k_s=None mdp=0\n",
            "np= 100 k_x=100 k_s=None mdp=10\n",
            "np= 100 k_x=100 k_s=None mdp=100\n",
            "np= 100 k_x=100 k_s=None mdp=None\n",
            "np= 100 k_x=None k_s=10 mdp=0\n",
            "np= 100 k_x=None k_s=10 mdp=10\n",
            "np= 100 k_x=None k_s=10 mdp=100\n",
            "np= 100 k_x=None k_s=10 mdp=None\n",
            "np= 100 k_x=None k_s=100 mdp=0\n",
            "np= 100 k_x=None k_s=100 mdp=10\n",
            "np= 100 k_x=None k_s=100 mdp=100\n",
            "np= 100 k_x=None k_s=100 mdp=None\n",
            "np= 100 k_x=None k_s=None mdp=0\n",
            "np= 100 k_x=None k_s=None mdp=10\n",
            "np= 100 k_x=None k_s=None mdp=100\n",
            "np= 100 k_x=None k_s=None mdp=None\n",
            "np= 500 k_x=10 k_s=10 mdp=0\n",
            "np= 500 k_x=10 k_s=10 mdp=10\n",
            "np= 500 k_x=10 k_s=10 mdp=100\n",
            "np= 500 k_x=10 k_s=10 mdp=None\n",
            "np= 500 k_x=10 k_s=100 mdp=0\n",
            "np= 500 k_x=10 k_s=100 mdp=10\n",
            "np= 500 k_x=10 k_s=100 mdp=100\n",
            "np= 500 k_x=10 k_s=100 mdp=None\n",
            "np= 500 k_x=10 k_s=None mdp=0\n",
            "np= 500 k_x=10 k_s=None mdp=10\n",
            "np= 500 k_x=10 k_s=None mdp=100\n",
            "np= 500 k_x=10 k_s=None mdp=None\n",
            "np= 500 k_x=100 k_s=10 mdp=0\n",
            "np= 500 k_x=100 k_s=10 mdp=10\n",
            "np= 500 k_x=100 k_s=10 mdp=100\n",
            "np= 500 k_x=100 k_s=10 mdp=None\n",
            "np= 500 k_x=100 k_s=100 mdp=0\n",
            "np= 500 k_x=100 k_s=100 mdp=10\n",
            "np= 500 k_x=100 k_s=100 mdp=100\n",
            "np= 500 k_x=100 k_s=100 mdp=None\n",
            "np= 500 k_x=100 k_s=None mdp=0\n",
            "np= 500 k_x=100 k_s=None mdp=10\n",
            "np= 500 k_x=100 k_s=None mdp=100\n",
            "np= 500 k_x=100 k_s=None mdp=None\n",
            "np= 500 k_x=None k_s=10 mdp=0\n",
            "np= 500 k_x=None k_s=10 mdp=10\n",
            "np= 500 k_x=None k_s=10 mdp=100\n",
            "np= 500 k_x=None k_s=10 mdp=None\n",
            "np= 500 k_x=None k_s=100 mdp=0\n",
            "np= 500 k_x=None k_s=100 mdp=10\n",
            "np= 500 k_x=None k_s=100 mdp=100\n",
            "np= 500 k_x=None k_s=100 mdp=None\n",
            "np= 500 k_x=None k_s=None mdp=0\n",
            "np= 500 k_x=None k_s=None mdp=10\n",
            "np= 500 k_x=None k_s=None mdp=100\n",
            "np= 500 k_x=None k_s=None mdp=None\n",
            "np=1000 k_x=10 k_s=10 mdp=0\n",
            "np=1000 k_x=10 k_s=10 mdp=10\n",
            "np=1000 k_x=10 k_s=10 mdp=100\n",
            "np=1000 k_x=10 k_s=10 mdp=None\n",
            "np=1000 k_x=10 k_s=100 mdp=0\n",
            "np=1000 k_x=10 k_s=100 mdp=10\n",
            "np=1000 k_x=10 k_s=100 mdp=100\n",
            "np=1000 k_x=10 k_s=100 mdp=None\n",
            "np=1000 k_x=10 k_s=None mdp=0\n",
            "np=1000 k_x=10 k_s=None mdp=10\n",
            "np=1000 k_x=10 k_s=None mdp=100\n",
            "np=1000 k_x=10 k_s=None mdp=None\n",
            "np=1000 k_x=100 k_s=10 mdp=0\n",
            "np=1000 k_x=100 k_s=10 mdp=10\n",
            "np=1000 k_x=100 k_s=10 mdp=100\n",
            "np=1000 k_x=100 k_s=10 mdp=None\n",
            "np=1000 k_x=100 k_s=100 mdp=0\n",
            "np=1000 k_x=100 k_s=100 mdp=10\n",
            "np=1000 k_x=100 k_s=100 mdp=100\n",
            "np=1000 k_x=100 k_s=100 mdp=None\n",
            "np=1000 k_x=100 k_s=None mdp=0\n",
            "np=1000 k_x=100 k_s=None mdp=10\n",
            "np=1000 k_x=100 k_s=None mdp=100\n",
            "np=1000 k_x=100 k_s=None mdp=None\n",
            "np=1000 k_x=None k_s=10 mdp=0\n",
            "np=1000 k_x=None k_s=10 mdp=10\n",
            "np=1000 k_x=None k_s=10 mdp=100\n",
            "np=1000 k_x=None k_s=10 mdp=None\n",
            "np=1000 k_x=None k_s=100 mdp=0\n",
            "np=1000 k_x=None k_s=100 mdp=10\n",
            "np=1000 k_x=None k_s=100 mdp=100\n",
            "np=1000 k_x=None k_s=100 mdp=None\n",
            "np=1000 k_x=None k_s=None mdp=0\n",
            "np=1000 k_x=None k_s=None mdp=10\n",
            "np=1000 k_x=None k_s=None mdp=100\n",
            "np=1000 k_x=None k_s=None mdp=None\n"
          ],
          "name": "stdout"
        },
        {
          "output_type": "execute_result",
          "data": {
            "text/html": [
              "<div>\n",
              "<style scoped>\n",
              "    .dataframe tbody tr th:only-of-type {\n",
              "        vertical-align: middle;\n",
              "    }\n",
              "\n",
              "    .dataframe tbody tr th {\n",
              "        vertical-align: top;\n",
              "    }\n",
              "\n",
              "    .dataframe thead th {\n",
              "        text-align: right;\n",
              "    }\n",
              "</style>\n",
              "<table border=\"1\" class=\"dataframe\">\n",
              "  <thead>\n",
              "    <tr style=\"text-align: right;\">\n",
              "      <th></th>\n",
              "      <th>n_pivots</th>\n",
              "      <th>k_x</th>\n",
              "      <th>k_s</th>\n",
              "      <th>mdp</th>\n",
              "      <th>query_time</th>\n",
              "      <th>n_entries</th>\n",
              "      <th>recall</th>\n",
              "    </tr>\n",
              "  </thead>\n",
              "  <tbody>\n",
              "    <tr>\n",
              "      <th>0</th>\n",
              "      <td>10</td>\n",
              "      <td>10.0</td>\n",
              "      <td>10.0</td>\n",
              "      <td>0.0</td>\n",
              "      <td>0.147433</td>\n",
              "      <td>75790</td>\n",
              "      <td>0.02</td>\n",
              "    </tr>\n",
              "    <tr>\n",
              "      <th>1</th>\n",
              "      <td>10</td>\n",
              "      <td>10.0</td>\n",
              "      <td>10.0</td>\n",
              "      <td>10.0</td>\n",
              "      <td>0.643034</td>\n",
              "      <td>75790</td>\n",
              "      <td>0.19</td>\n",
              "    </tr>\n",
              "    <tr>\n",
              "      <th>2</th>\n",
              "      <td>10</td>\n",
              "      <td>10.0</td>\n",
              "      <td>10.0</td>\n",
              "      <td>NaN</td>\n",
              "      <td>0.605172</td>\n",
              "      <td>75790</td>\n",
              "      <td>0.19</td>\n",
              "    </tr>\n",
              "    <tr>\n",
              "      <th>3</th>\n",
              "      <td>10</td>\n",
              "      <td>10.0</td>\n",
              "      <td>NaN</td>\n",
              "      <td>0.0</td>\n",
              "      <td>0.144209</td>\n",
              "      <td>75790</td>\n",
              "      <td>0.02</td>\n",
              "    </tr>\n",
              "    <tr>\n",
              "      <th>4</th>\n",
              "      <td>10</td>\n",
              "      <td>10.0</td>\n",
              "      <td>NaN</td>\n",
              "      <td>10.0</td>\n",
              "      <td>0.590208</td>\n",
              "      <td>75790</td>\n",
              "      <td>0.19</td>\n",
              "    </tr>\n",
              "    <tr>\n",
              "      <th>...</th>\n",
              "      <td>...</td>\n",
              "      <td>...</td>\n",
              "      <td>...</td>\n",
              "      <td>...</td>\n",
              "      <td>...</td>\n",
              "      <td>...</td>\n",
              "      <td>...</td>\n",
              "    </tr>\n",
              "    <tr>\n",
              "      <th>127</th>\n",
              "      <td>1000</td>\n",
              "      <td>NaN</td>\n",
              "      <td>100.0</td>\n",
              "      <td>NaN</td>\n",
              "      <td>5.462751</td>\n",
              "      <td>7579000</td>\n",
              "      <td>0.42</td>\n",
              "    </tr>\n",
              "    <tr>\n",
              "      <th>128</th>\n",
              "      <td>1000</td>\n",
              "      <td>NaN</td>\n",
              "      <td>NaN</td>\n",
              "      <td>0.0</td>\n",
              "      <td>0.385777</td>\n",
              "      <td>7579000</td>\n",
              "      <td>0.10</td>\n",
              "    </tr>\n",
              "    <tr>\n",
              "      <th>129</th>\n",
              "      <td>1000</td>\n",
              "      <td>NaN</td>\n",
              "      <td>NaN</td>\n",
              "      <td>10.0</td>\n",
              "      <td>3.276317</td>\n",
              "      <td>7579000</td>\n",
              "      <td>0.10</td>\n",
              "    </tr>\n",
              "    <tr>\n",
              "      <th>130</th>\n",
              "      <td>1000</td>\n",
              "      <td>NaN</td>\n",
              "      <td>NaN</td>\n",
              "      <td>100.0</td>\n",
              "      <td>17.117322</td>\n",
              "      <td>7579000</td>\n",
              "      <td>0.10</td>\n",
              "    </tr>\n",
              "    <tr>\n",
              "      <th>131</th>\n",
              "      <td>1000</td>\n",
              "      <td>NaN</td>\n",
              "      <td>NaN</td>\n",
              "      <td>NaN</td>\n",
              "      <td>49.438574</td>\n",
              "      <td>7579000</td>\n",
              "      <td>0.42</td>\n",
              "    </tr>\n",
              "  </tbody>\n",
              "</table>\n",
              "<p>132 rows × 7 columns</p>\n",
              "</div>"
            ],
            "text/plain": [
              "     n_pivots   k_x    k_s    mdp  query_time  n_entries  recall\n",
              "0          10  10.0   10.0    0.0    0.147433      75790    0.02\n",
              "1          10  10.0   10.0   10.0    0.643034      75790    0.19\n",
              "2          10  10.0   10.0    NaN    0.605172      75790    0.19\n",
              "3          10  10.0    NaN    0.0    0.144209      75790    0.02\n",
              "4          10  10.0    NaN   10.0    0.590208      75790    0.19\n",
              "..        ...   ...    ...    ...         ...        ...     ...\n",
              "127      1000   NaN  100.0    NaN    5.462751    7579000    0.42\n",
              "128      1000   NaN    NaN    0.0    0.385777    7579000    0.10\n",
              "129      1000   NaN    NaN   10.0    3.276317    7579000    0.10\n",
              "130      1000   NaN    NaN  100.0   17.117322    7579000    0.10\n",
              "131      1000   NaN    NaN    NaN   49.438574    7579000    0.42\n",
              "\n",
              "[132 rows x 7 columns]"
            ]
          },
          "metadata": {
            "tags": []
          },
          "execution_count": 32
        },
        {
          "output_type": "stream",
          "text": [
            "time: 4min 20s (started: 2021-06-01 14:40:14 +00:00)\n"
          ],
          "name": "stdout"
        }
      ]
    },
    {
      "cell_type": "code",
      "metadata": {
        "colab": {
          "base_uri": "https://localhost:8080/",
          "height": 316
        },
        "id": "9Fej5cOWwzLM",
        "outputId": "52d303e7-7e99-445f-dc8c-64d6e513718f"
      },
      "source": [
        "sns.set_theme(style='whitegrid')\n",
        "data = results.fillna('all')\n",
        "ax = sns.scatterplot(data=data, x='query_time', y='recall', hue='n_pivots', size='k_s', style='k_x')\n",
        "ax.set_xscale('log')"
      ],
      "execution_count": null,
      "outputs": [
        {
          "output_type": "display_data",
          "data": {
            "image/png": "[encoded data removed]",
            "text/plain": [
              "<Figure size 432x288 with 1 Axes>"
            ]
          },
          "metadata": {
            "tags": []
          }
        },
        {
          "output_type": "stream",
          "text": [
            "time: 1.37 s (started: 2021-05-27 12:34:14 +00:00)\n"
          ],
          "name": "stdout"
        }
      ]
    },
    {
      "cell_type": "code",
      "metadata": {
        "colab": {
          "base_uri": "https://localhost:8080/",
          "height": 302
        },
        "id": "aA5h7NH-CM2O",
        "outputId": "089e0467-a339-4493-876d-fc68c91409ec"
      },
      "source": [
        "data = results.fillna('all')\n",
        "good = (data.query_time < 1) & (data.recall > 0.3)\n",
        "data[good]"
      ],
      "execution_count": null,
      "outputs": [
        {
          "output_type": "execute_result",
          "data": {
            "text/html": [
              "<div>\n",
              "<style scoped>\n",
              "    .dataframe tbody tr th:only-of-type {\n",
              "        vertical-align: middle;\n",
              "    }\n",
              "\n",
              "    .dataframe tbody tr th {\n",
              "        vertical-align: top;\n",
              "    }\n",
              "\n",
              "    .dataframe thead th {\n",
              "        text-align: right;\n",
              "    }\n",
              "</style>\n",
              "<table border=\"1\" class=\"dataframe\">\n",
              "  <thead>\n",
              "    <tr style=\"text-align: right;\">\n",
              "      <th></th>\n",
              "      <th>n_pivots</th>\n",
              "      <th>k_x</th>\n",
              "      <th>k_s</th>\n",
              "      <th>mdp</th>\n",
              "      <th>query_time</th>\n",
              "      <th>n_entries</th>\n",
              "      <th>recall</th>\n",
              "    </tr>\n",
              "  </thead>\n",
              "  <tbody>\n",
              "    <tr>\n",
              "      <th>38</th>\n",
              "      <td>100</td>\n",
              "      <td>100</td>\n",
              "      <td>10</td>\n",
              "      <td>100</td>\n",
              "      <td>0.720718</td>\n",
              "      <td>757900</td>\n",
              "      <td>0.31</td>\n",
              "    </tr>\n",
              "    <tr>\n",
              "      <th>39</th>\n",
              "      <td>100</td>\n",
              "      <td>100</td>\n",
              "      <td>10</td>\n",
              "      <td>all</td>\n",
              "      <td>0.594543</td>\n",
              "      <td>757900</td>\n",
              "      <td>0.31</td>\n",
              "    </tr>\n",
              "    <tr>\n",
              "      <th>50</th>\n",
              "      <td>100</td>\n",
              "      <td>all</td>\n",
              "      <td>10</td>\n",
              "      <td>100</td>\n",
              "      <td>0.726694</td>\n",
              "      <td>757900</td>\n",
              "      <td>0.31</td>\n",
              "    </tr>\n",
              "    <tr>\n",
              "      <th>51</th>\n",
              "      <td>100</td>\n",
              "      <td>all</td>\n",
              "      <td>10</td>\n",
              "      <td>all</td>\n",
              "      <td>0.713664</td>\n",
              "      <td>757900</td>\n",
              "      <td>0.31</td>\n",
              "    </tr>\n",
              "    <tr>\n",
              "      <th>71</th>\n",
              "      <td>500</td>\n",
              "      <td>10</td>\n",
              "      <td>all</td>\n",
              "      <td>all</td>\n",
              "      <td>0.607843</td>\n",
              "      <td>75790</td>\n",
              "      <td>0.32</td>\n",
              "    </tr>\n",
              "    <tr>\n",
              "      <th>87</th>\n",
              "      <td>500</td>\n",
              "      <td>all</td>\n",
              "      <td>10</td>\n",
              "      <td>all</td>\n",
              "      <td>0.874647</td>\n",
              "      <td>3789500</td>\n",
              "      <td>0.36</td>\n",
              "    </tr>\n",
              "    <tr>\n",
              "      <th>107</th>\n",
              "      <td>1000</td>\n",
              "      <td>10</td>\n",
              "      <td>all</td>\n",
              "      <td>all</td>\n",
              "      <td>0.620608</td>\n",
              "      <td>75790</td>\n",
              "      <td>0.31</td>\n",
              "    </tr>\n",
              "    <tr>\n",
              "      <th>123</th>\n",
              "      <td>1000</td>\n",
              "      <td>all</td>\n",
              "      <td>10</td>\n",
              "      <td>all</td>\n",
              "      <td>0.609608</td>\n",
              "      <td>7579000</td>\n",
              "      <td>0.37</td>\n",
              "    </tr>\n",
              "  </tbody>\n",
              "</table>\n",
              "</div>"
            ],
            "text/plain": [
              "     n_pivots  k_x  k_s  mdp  query_time  n_entries  recall\n",
              "38        100  100   10  100    0.720718     757900    0.31\n",
              "39        100  100   10  all    0.594543     757900    0.31\n",
              "50        100  all   10  100    0.726694     757900    0.31\n",
              "51        100  all   10  all    0.713664     757900    0.31\n",
              "71        500   10  all  all    0.607843      75790    0.32\n",
              "87        500  all   10  all    0.874647    3789500    0.36\n",
              "107      1000   10  all  all    0.620608      75790    0.31\n",
              "123      1000  all   10  all    0.609608    7579000    0.37"
            ]
          },
          "metadata": {
            "tags": []
          },
          "execution_count": 33
        },
        {
          "output_type": "stream",
          "text": [
            "time: 42.6 ms (started: 2021-06-01 14:45:25 +00:00)\n"
          ],
          "name": "stdout"
        }
      ]
    },
    {
      "cell_type": "markdown",
      "metadata": {
        "id": "fdKrMcI6_1A1"
      },
      "source": [
        "Let's find the operational point that has the best recall and a query time less than a second:"
      ]
    },
    {
      "cell_type": "code",
      "metadata": {
        "colab": {
          "base_uri": "https://localhost:8080/"
        },
        "id": "Fd1PDCOwxZkK",
        "outputId": "cfbaabe0-a48c-4a25-aa0d-b3061353648a"
      },
      "source": [
        "good_op_idx = data[data.query_time < 1].recall.idxmax()\n",
        "good_op = data.loc[good_op_idx]\n",
        "good_op"
      ],
      "execution_count": null,
      "outputs": [
        {
          "output_type": "execute_result",
          "data": {
            "text/plain": [
              "n_pivots          1000\n",
              "k_x                all\n",
              "k_s                 10\n",
              "mdp                all\n",
              "query_time    0.609608\n",
              "n_entries      7579000\n",
              "recall            0.37\n",
              "Name: 123, dtype: object"
            ]
          },
          "metadata": {
            "tags": []
          },
          "execution_count": 35
        },
        {
          "output_type": "stream",
          "text": [
            "time: 15.3 ms (started: 2021-06-01 14:58:59 +00:00)\n"
          ],
          "name": "stdout"
        }
      ]
    },
    {
      "cell_type": "markdown",
      "metadata": {
        "id": "VYMhJ1TRAS3W"
      },
      "source": [
        "### Reordering using the original distance"
      ]
    },
    {
      "cell_type": "markdown",
      "metadata": {
        "id": "uO-MwVLjAc9V"
      },
      "source": [
        "A useful trick that is commonly used to boost the precision of an approximated index is **reordering**; if we are interested in `k` good neighbors, we can:\n",
        "\n",
        "1.   use the fast approximated index to retrieve `k*amp` good candidate neighbors,\n",
        "2.   compute the exact distance (the edit distance in our case) on the candidate set, \n",
        "3.   reorder the `k*amp` objects on the basis of the real distance and return the first k objects.\n",
        "\n",
        "This usually boosts the recall at the cost of performing a small number of exact distance computations.\n",
        "\n",
        "Let's try it out with our MIFile."
      ]
    },
    {
      "cell_type": "code",
      "metadata": {
        "id": "rEobZSnP8j9M",
        "colab": {
          "base_uri": "https://localhost:8080/"
        },
        "outputId": "e1079f00-cfee-4067-e1ba-da44d2673804"
      },
      "source": [
        "n_pivots = 50\n",
        "k_x = 10\n",
        "k_s = None\n",
        "mdp = None\n",
        "\n",
        "p = pivots[:n_pivots]\n",
        "xp = edit_cdist(db, p).argsort(axis=1).argsort(axis=1)\n",
        "qp = edit_cdist(queries, p).argsort(axis=1).argsort(axis=1)\n",
        "\n",
        "index = MIFile(n_pivots, k_x=k_x)\n",
        "index.add(xp)"
      ],
      "execution_count": null,
      "outputs": [
        {
          "output_type": "stream",
          "text": [
            "time: 2.4 s (started: 2021-06-01 15:02:52 +00:00)\n"
          ],
          "name": "stdout"
        }
      ]
    },
    {
      "cell_type": "code",
      "metadata": {
        "colab": {
          "base_uri": "https://localhost:8080/"
        },
        "id": "C-DpQhgU_KQv",
        "outputId": "4a890537-6e13-4a43-ec3e-9703e8be4c18"
      },
      "source": [
        "k = 10\n",
        "amp = 100\n",
        "D, I = index.search(qp, k=k*amp, k_s=k_s, mdp=mdp)\n",
        "\n",
        "compute_recall(true_neighbors[:,:k], I[:,:k])  # approximated search has low recall"
      ],
      "execution_count": null,
      "outputs": [
        {
          "output_type": "execute_result",
          "data": {
            "text/plain": [
              "0.27"
            ]
          },
          "metadata": {
            "tags": []
          },
          "execution_count": 37
        },
        {
          "output_type": "stream",
          "text": [
            "time: 721 ms (started: 2021-06-01 15:03:28 +00:00)\n"
          ],
          "name": "stdout"
        }
      ]
    },
    {
      "cell_type": "code",
      "metadata": {
        "colab": {
          "base_uri": "https://localhost:8080/"
        },
        "id": "R3kHmul29wH9",
        "outputId": "4012f8c1-67be-45d0-d51b-930d6576b43d"
      },
      "source": [
        "reranked_results = []\n",
        "\n",
        "for i in range(len(queries)):  # iterate over queries\n",
        "  query_i = queries[i:i+1]  # the i-th query (string)\n",
        "  results_indices_i = I[i]  # the i-th approximated results set (indices)\n",
        "  results_i = db[results_indices_i]  # the i-th candidate set (strings)\n",
        "\n",
        "  real_distances = edit_cdist(query_i, results_i)  # compute the real edit distance between strings\n",
        "  reranked = real_distances.argsort(axis=1)  # sort by the real distance\n",
        "  reranked_results_i = results_indices_i[reranked]  # we rerank the indices\n",
        "  reranked_results.append(reranked_results_i)\n",
        "\n",
        "I = np.stack(reranked_results)\n",
        "\n",
        "compute_recall(true_neighbors[:,:k], I[:,:k])"
      ],
      "execution_count": null,
      "outputs": [
        {
          "output_type": "execute_result",
          "data": {
            "text/plain": [
              "0.9100000000000001"
            ]
          },
          "metadata": {
            "tags": []
          },
          "execution_count": 38
        },
        {
          "output_type": "stream",
          "text": [
            "time: 20.5 ms (started: 2021-06-01 15:05:03 +00:00)\n"
          ],
          "name": "stdout"
        }
      ]
    },
    {
      "cell_type": "markdown",
      "metadata": {
        "id": "njDAFEbK_qbL"
      },
      "source": [
        "## Additional Resources\n",
        "\n",
        "*   https://ai.facebook.com/tools/faiss/\n",
        "*   https://github.com/facebookresearch/faiss/wiki/\n",
        "*   http://mifile.deepfeatures.org/\n"
      ]
    }
  ]
}