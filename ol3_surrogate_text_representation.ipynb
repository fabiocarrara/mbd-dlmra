{
  "cells": [
    {
      "cell_type": "markdown",
      "metadata": {
        "id": "mzM-2-5DP-8V"
      },
      "source": [
        "# DLMR OpenLab \\#2\n",
        "-----------------\n",
        "\n",
        "# Surrogate Text Representation \n",
        "\n",
        "You'll learn to:\n",
        "\n",
        "*   Create Surrogate Text Representations using Pivots Permutations.\n",
        "*   Index them using Elasticsearch as full-text search engine."
      ]
    },
    {
      "cell_type": "markdown",
      "metadata": {
        "id": "WyzAcnbCB8Oz"
      },
      "source": [
        "\n",
        "\n",
        "If you want to use a textual search engine (e.g. Elasticsearch, Apache Lucene, Whoosh) to search vectors, you can use **Surrogate Text Representations** (STR), a method that enables similarity search on top of standard textual search engines.\n",
        "\n",
        "The key idea of STRs is to transform a real-valued vector into fake text that can be indexed and searched for using standard full-text search engines.\n",
        "\n",
        "To do so, we need to **transform a real-valued vector $v \\in \\mathbb{R}^d$ into a vector of positive integers $\\tilde{v} \\in \\mathbb{N}^{d'}$** representing *term frequencies* that can be mapped easily to text. This transformation $\\tilde{v} = T(v)$ should have the following properies:\n",
        "\n",
        "1.   $T$ should **preserve the rank** produced by the inner product between vectors; the more it does, the less precision we are sacrificing when scoring documents.\n",
        "\n",
        "     $ q \\cdot x < q \\cdot y  \\quad \\Longrightarrow \\quad T(q) \\cdot T(x) < T(q) \\cdot T(y)$ \n",
        "\n",
        "2.   $T$ should create **sparse** vectors; sparse vectors mean few terms per vector and thus shorter posting lists.\n",
        "\n",
        "\n",
        "We will explore the **permutation of pivots** as the transformation function `T()`."
      ]
    },
    {
      "cell_type": "code",
      "execution_count": null,
      "metadata": {
        "id": "C-Cio6lfB9-9"
      },
      "outputs": [],
      "source": [
        "import h5py\n",
        "import numpy as np"
      ]
    },
    {
      "cell_type": "markdown",
      "metadata": {
        "id": "9LmCHm_yx0ue"
      },
      "source": [
        "But first, we'll get some data to index. We will use the GloVe word embedding dataset provided by [ann-benchmarks.com](https://github.com/erikbern/ann-benchmarks/#data-sets). It's a dataset of 1M+ word embeddings that also provides 10k queries for which true nearest neighbors are already computed. Vectors are compared with the cosine similarity."
      ]
    },
    {
      "cell_type": "code",
      "execution_count": null,
      "metadata": {
        "colab": {
          "base_uri": "https://localhost:8080/"
        },
        "id": "jMYwDrpRx0J3",
        "outputId": "738dda78-dba5-4273-effe-7efbfb19cd3e"
      },
      "outputs": [],
      "source": [
        "!wget --no-clobber http://ann-benchmarks.com/glove-100-angular.hdf5"
      ]
    },
    {
      "cell_type": "markdown",
      "metadata": {
        "id": "of4fOO0yzPWU"
      },
      "source": [
        "The dataset is in HDF5 format, a popular scientific format that can be accessed using the `h5py` library. Let's see what's inside the datset file."
      ]
    },
    {
      "cell_type": "code",
      "execution_count": null,
      "metadata": {
        "colab": {
          "base_uri": "https://localhost:8080/"
        },
        "id": "6MiDhxxvzkoX",
        "outputId": "a4ec06af-d7dd-4cfa-da0c-a0f53f5915a8"
      },
      "outputs": [],
      "source": [
        "data = h5py.File('glove-100-angular.hdf5', 'r')  # open in read mode\n",
        "list(data.items())"
      ]
    },
    {
      "cell_type": "code",
      "execution_count": null,
      "metadata": {
        "colab": {
          "base_uri": "https://localhost:8080/"
        },
        "id": "hQxxP74L0Ec9",
        "outputId": "5a0da9e1-91a4-41fd-d92d-ceac4bd993f6"
      },
      "outputs": [],
      "source": [
        "from sklearn.metrics.pairwise import cosine_similarity\n",
        "\n",
        "n_samples = 10_000\n",
        "n_queries = 200\n",
        "k = 100\n",
        "\n",
        "# data can be accessed as numpy arrays\n",
        "database = data['train'][:n_samples]\n",
        "queries = data['test'][:n_queries]\n",
        "\n",
        "true_scores = cosine_similarity(queries, database)\n",
        "true_neighbors = true_scores.argsort(axis=1)[:, ::-1][:, :k] \n",
        "\n",
        "database[0]"
      ]
    },
    {
      "cell_type": "markdown",
      "metadata": {
        "id": "jhdP_IKw2Zkq"
      },
      "source": [
        "Since we have the groundtruth provided by the dataset, we will compute the **Recall**, that is the fraction of true neighbors of a query that have been retrieved by the system, as metric of quality of the results by our indices.\n",
        "\n",
        "$ \\text{Recall} = \\dfrac{|\\text{True Neighbors} \\cap \\text{Retrieved Objects}|}{|\\text{True Neighbors}|}\\,.$"
      ]
    },
    {
      "cell_type": "code",
      "execution_count": null,
      "metadata": {
        "id": "6gHfA_vx2WVS"
      },
      "outputs": [],
      "source": [
        "def compute_recall(true_neighbors, predicted_neighbors):\n",
        "  recalls = []\n",
        "  for t, p in zip(true_neighbors, predicted_neighbors):\n",
        "    intersection = np.intersect1d(t, p)\n",
        "    recall = len(intersection) / len(t)\n",
        "    recalls.append(recall)\n",
        "\n",
        "  return np.mean(recalls)"
      ]
    },
    {
      "cell_type": "markdown",
      "metadata": {
        "id": "sidy__WdB9_C"
      },
      "source": [
        "## Pivots Permutation Representation"
      ]
    },
    {
      "cell_type": "markdown",
      "metadata": {
        "id": "UUAEcjwklcr6"
      },
      "source": [
        "Let's select some pivots at random from the database:"
      ]
    },
    {
      "cell_type": "code",
      "execution_count": null,
      "metadata": {
        "colab": {
          "base_uri": "https://localhost:8080/"
        },
        "id": "0a_Lkn8_B9_C",
        "outputId": "05a38333-4e2e-456a-c911-08cbc2cc52b5"
      },
      "outputs": [],
      "source": [
        "n_samples = len(database)\n",
        "n_queries = len(queries)\n",
        "n_pivots = 1000\n",
        "\n",
        "pivots = np.random.choice(n_samples, n_pivots)\n",
        "pivots = database[pivots]\n",
        "pivots.shape"
      ]
    },
    {
      "cell_type": "code",
      "execution_count": null,
      "metadata": {
        "colab": {
          "base_uri": "https://localhost:8080/"
        },
        "id": "clYhXxDkB9_D",
        "outputId": "b7b3cacd-6513-4be5-b08e-3b16aed7a045"
      },
      "outputs": [],
      "source": [
        "xp_distances = cosine_similarity(database, pivots)\n",
        "xp_distances"
      ]
    },
    {
      "cell_type": "code",
      "execution_count": null,
      "metadata": {
        "colab": {
          "base_uri": "https://localhost:8080/"
        },
        "id": "SM_4VoV3B9_D",
        "outputId": "fb33534f-55d8-4d9e-f40b-377cb1a4b880"
      },
      "outputs": [],
      "source": [
        "# permutation: i -> pivot with rank i\n",
        "xp_permutation = xp_distances.argsort(axis=1)\n",
        "xp_permutation = xp_permutation[:, ::-1]  # reverse order, higher is better (cosine similarity)\n",
        "xp_permutation"
      ]
    },
    {
      "cell_type": "code",
      "execution_count": null,
      "metadata": {
        "colab": {
          "base_uri": "https://localhost:8080/"
        },
        "id": "emB797KPB9_D",
        "outputId": "0dca1833-a2d5-4dc3-9042-1b43a5639838"
      },
      "outputs": [],
      "source": [
        "# inverse permutation: i -> position of pivot i\n",
        "xp_inv_perm = xp_permutation.argsort(axis=1)\n",
        "xp_inv_perm"
      ]
    },
    {
      "cell_type": "code",
      "execution_count": null,
      "metadata": {},
      "outputs": [],
      "source": [
        "# term frequency: i -> the importance of pivot i\n",
        "xp_term_freq = n_pivots - xp_inv_perm\n",
        "xp_term_freq"
      ]
    },
    {
      "cell_type": "code",
      "execution_count": null,
      "metadata": {},
      "outputs": [],
      "source": [
        "# truncated term frequency: i -> the importance of pivot i\n",
        "# but only keeping the nearest p pivots\n",
        "prefix_length = 10\n",
        "xp_trunc_tf = np.maximum(prefix_length - xp_inv_perm, 0)\n",
        "xp_trunc_tf"
      ]
    },
    {
      "cell_type": "code",
      "execution_count": null,
      "metadata": {
        "id": "7itY4E6AB9_E"
      },
      "outputs": [],
      "source": [
        "qp_distances = cosine_similarity(database, pivots)\n",
        "qp_inv_perm = qp_distances.argsort(axis=1)[:, ::-1].argsort(axis=1)\n",
        "qp_trunc_tf = np.maximum(prefix_length - qp_inv_perm, 0)"
      ]
    },
    {
      "cell_type": "code",
      "execution_count": null,
      "metadata": {
        "id": "vLRYarhkwn9i"
      },
      "outputs": [],
      "source": [
        "def T(samples, pivots, prefix_length=None):\n",
        "  \"\"\" Transform real-valued vectors into Term Frequencies-like vectors via\n",
        "      Pivots Permutations. \"\"\"\n",
        "  n_pivots = len(pivots)\n",
        "  prefix_length = prefix_length or n_pivots\n",
        "\n",
        "  xp_distances = cosine_similarity(samples, pivots)\n",
        "  xp_permutations = xp_distances.argsort(axis=1)[:, ::-1]\n",
        "  xp_inv_permutat = xp_permutations.argsort(axis=1)\n",
        "  xp_truncated_tf = np.maximum(prefix_length - xp_inv_permutat, 0)\n",
        "\n",
        "  return xp_truncated_tf"
      ]
    },
    {
      "cell_type": "code",
      "execution_count": null,
      "metadata": {
        "colab": {
          "base_uri": "https://localhost:8080/"
        },
        "id": "deUqaq9k1FnR",
        "outputId": "0a53e172-9ef8-43f7-d782-91b7211b1449"
      },
      "outputs": [],
      "source": [
        "tx = T(database, pivots, prefix_length=250)\n",
        "tq = T(queries, pivots, prefix_length=250)\n",
        "tx.shape, tq.shape"
      ]
    },
    {
      "cell_type": "markdown",
      "metadata": {
        "id": "47ZssMzZ4dgZ"
      },
      "source": [
        "Let's measure the **sparsity** of the transformed dataset. The sparsity of a vector is the fraction of zero elements in the vector.\n",
        "The sparsity of a vector is directly related to the number of entries that will be stored in the posting lists of the textual search engine; therefore, the smaller the better."
      ]
    },
    {
      "cell_type": "code",
      "execution_count": null,
      "metadata": {
        "colab": {
          "base_uri": "https://localhost:8080/"
        },
        "id": "VcNZXMQG4V9J",
        "outputId": "5dad9474-1b1a-45df-b2ce-91ebfd16eaf6"
      },
      "outputs": [],
      "source": [
        "sparsity = 1 - (np.count_nonzero(tx) / tx.size)\n",
        "sparsity"
      ]
    },
    {
      "cell_type": "markdown",
      "metadata": {
        "id": "5FKiVPoRpncN"
      },
      "source": [
        "We can evaluate the performance loss introduced by the approximation by computing the inner product between the transformed vectors. This will be the operations that the textual search engine like Elasticsearch will internally perform."
      ]
    },
    {
      "cell_type": "code",
      "execution_count": null,
      "metadata": {
        "colab": {
          "base_uri": "https://localhost:8080/"
        },
        "id": "x8R_1K-Ih6Cv",
        "outputId": "7f5caa5f-9e99-43ff-c718-1a625298b9f9"
      },
      "outputs": [],
      "source": [
        "# compute scores (without an index, this is slow)\n",
        "\n",
        "# this takes forever\n",
        "# scores = tq.dot(tx.T)\n",
        "\n",
        "# we use sparse multiplication (similar to what an index does)\n",
        "# that is only efficient if sparsity is high enough\n",
        "from scipy.sparse import csr_matrix\n",
        "stq = csr_matrix(tq)\n",
        "stx = csr_matrix(tx)\n",
        "\n",
        "scores = stq.dot(stx.T).toarray()\n",
        "\n",
        "# find 100 nearest neighbors\n",
        "k = 100\n",
        "sorted_indices = scores.argsort(axis=1)[:, ::-1]  # sort descending per row\n",
        "topk = sorted_indices[:, :k]  # get **indices** of the topk images for each row\n",
        "\n",
        "recall = compute_recall(true_neighbors, topk)\n",
        "print(recall)"
      ]
    },
    {
      "cell_type": "markdown",
      "metadata": {
        "id": "xK41bSIUrUG3"
      },
      "source": [
        "Once we have transformed our vectors, we can create surrogate text representations by repeating terms as many times as indicated by the transoformed vector, i.e., we interpret the transofmed vector as term frequencies."
      ]
    },
    {
      "cell_type": "code",
      "execution_count": null,
      "metadata": {
        "id": "qyliHVOR2Lal"
      },
      "outputs": [],
      "source": [
        "def surrogate_text(term_frequencies):\n",
        "  \"\"\" Creates Surrogate Text by repeating the i-th term\n",
        "      a number of time indicated by term_frequency[i].\n",
        "  \"\"\"\n",
        "  tokens = []\n",
        "  for i, tf in enumerate(term_frequencies):\n",
        "    tokens += [f'f{i}'] * int(tf)\n",
        "\n",
        "  text = ' '.join(tokens)\n",
        "  return text"
      ]
    },
    {
      "cell_type": "code",
      "execution_count": null,
      "metadata": {
        "colab": {
          "base_uri": "https://localhost:8080/",
          "height": 122
        },
        "id": "rF6hJVLR3Yun",
        "outputId": "41863931-2ca1-4eb9-c631-04ff6be00f76"
      },
      "outputs": [],
      "source": [
        "surrogate_text(tx[0])"
      ]
    },
    {
      "cell_type": "markdown",
      "metadata": {
        "id": "W7Wkamk4rzd1"
      },
      "source": [
        "If the textual search engine supports boosting, we can generate shorter surrogate texts (that leads to lower query times):"
      ]
    },
    {
      "cell_type": "code",
      "execution_count": null,
      "metadata": {
        "id": "cSt1ke4Cov8K"
      },
      "outputs": [],
      "source": [
        "def surrogate_text_boost(term_frequencies):\n",
        "  \"\"\" Creates Surrogate Text with Boosting.\n",
        "      Instead of repeating a term N times, writes 'term^N'\n",
        "      that in many full-text search engines has the same effect\n",
        "      of setting the term frequency of that term to N.\n",
        "      Useful to get shorter surrogate text representations.\n",
        "  \"\"\"\n",
        "  tokens = []\n",
        "  for i, tf in enumerate(term_frequencies):\n",
        "    if tf:\n",
        "      tokens.append(f'f{i}^{tf:g}')\n",
        "\n",
        "  text = ' '.join(tokens)\n",
        "  return text"
      ]
    },
    {
      "cell_type": "code",
      "execution_count": null,
      "metadata": {
        "colab": {
          "base_uri": "https://localhost:8080/",
          "height": 122
        },
        "id": "D8OcZDSf9qPK",
        "outputId": "999f61d9-4587-4ee7-ed9c-c5add419b1af"
      },
      "outputs": [],
      "source": [
        "surrogate_text_boost(tq[0])"
      ]
    },
    {
      "cell_type": "markdown",
      "metadata": {
        "id": "zqQojGdJ36dh"
      },
      "source": [
        "### Surrogate Text Representations on Elasticsearch\n",
        "\n",
        "Let's see a working example of using STRs with Elasticsearch.\n",
        "First, let's download and run an Elasticsearch instance."
      ]
    },
    {
      "cell_type": "code",
      "execution_count": null,
      "metadata": {
        "colab": {
          "base_uri": "https://localhost:8080/"
        },
        "id": "_bsAB10e_E_N",
        "outputId": "365ae685-7223-4201-f9e7-e2f816ac4d66"
      },
      "outputs": [],
      "source": [
        "!wget https://artifacts.elastic.co/downloads/elasticsearch/elasticsearch-7.0.0-linux-x86_64.tar.gz -q --no-clobber\n",
        "!tar -xzf elasticsearch-7.0.0-linux-x86_64.tar.gz\n",
        "!chown -R daemon:daemon elasticsearch-7.0.0\n",
        "!pip install -q elasticsearch==7.0.0"
      ]
    },
    {
      "cell_type": "code",
      "execution_count": null,
      "metadata": {
        "id": "cGBb9-tp4FGT"
      },
      "outputs": [],
      "source": [
        "# start server\n",
        "import os\n",
        "from subprocess import Popen, STDOUT, DEVNULL\n",
        "es_server = Popen(['elasticsearch-7.0.0/bin/elasticsearch'], \n",
        "                  stdout=DEVNULL, stderr=STDOUT,\n",
        "                  preexec_fn=lambda: os.setuid(1)  # as daemon\n",
        "                 )\n",
        "# wait a bit for ES to start\n",
        "!sleep 30"
      ]
    },
    {
      "cell_type": "code",
      "execution_count": null,
      "metadata": {
        "colab": {
          "base_uri": "https://localhost:8080/"
        },
        "id": "NNADrAN9AwHv",
        "outputId": "ef5837fc-79c5-49a3-d134-5599c891c412"
      },
      "outputs": [],
      "source": [
        "! ps -ef | grep elasticsearch"
      ]
    },
    {
      "cell_type": "code",
      "execution_count": null,
      "metadata": {
        "colab": {
          "base_uri": "https://localhost:8080/"
        },
        "id": "p5A6k_NQ5Ay7",
        "outputId": "f9ad3e0c-bc77-4486-e809-eaf4736804bf"
      },
      "outputs": [],
      "source": [
        "from elasticsearch import Elasticsearch\n",
        "\n",
        "es = Elasticsearch(timeout=30)\n",
        "print(es.ping())"
      ]
    },
    {
      "cell_type": "markdown",
      "metadata": {
        "id": "yH1eDXtksfGO"
      },
      "source": [
        "Once Elasticsearch is up and running, let's create and index.\n",
        "We need to specify one field (we name it `repr`) of type `text`, such that is searched with full-text semantics (TfIdf-like scoring). We also specify to use a white-space analyzer, that simply splits tokens on spaces."
      ]
    },
    {
      "cell_type": "code",
      "execution_count": null,
      "metadata": {
        "colab": {
          "base_uri": "https://localhost:8080/"
        },
        "id": "V8A43nkI5ZJC",
        "outputId": "d8eb4228-7121-442e-fb91-20ec50033a08"
      },
      "outputs": [],
      "source": [
        "index_config = {\n",
        "    \"mappings\": {\n",
        "        \"_source\": {\"enabled\": False},  # do not store STR\n",
        "        \"properties\": {\"repr\": {\"type\": \"text\"}}  # declare the field 'repr' as FULLTEXT\n",
        "    },\n",
        "    \"settings\": {\n",
        "        \"index\": {\"number_of_shards\": 1, \"number_of_replicas\": 0},\n",
        "        \"analysis\": {\"analyzer\": {\"first\": {\"type\": \"whitespace\"}}},  # tokenize by spaces, we don't need fancier analyzers\n",
        "        # \"similarity\": {\"inner_product\": {\"type\": \"scripted\", \"script\": {\"source\": \"return query.boost * doc.freq;\"}}}  # multiply term frequencies only\n",
        "    }\n",
        "}\n",
        "\n",
        "# delete any pre-existing indices\n",
        "es.indices.delete('simsearch_index', ignore=(400, 404))\n",
        "\n",
        "# create the index\n",
        "es.indices.create('simsearch_index', index_config, ignore=400)"
      ]
    },
    {
      "cell_type": "markdown",
      "metadata": {
        "id": "4m5_IZ8MtgMt"
      },
      "source": [
        "We use the utilities provided by the elasticsearch python package to bulk index documents.\n",
        "We define a function that creates elasticsearch indexing commands and use `streaming_bulk` to process them sequentially."
      ]
    },
    {
      "cell_type": "code",
      "execution_count": null,
      "metadata": {
        "colab": {
          "base_uri": "https://localhost:8080/",
          "height": 49,
          "referenced_widgets": [
            "8e47d79899e24dc2af9e27e5477335d4",
            "1a3685b737bc4d2096ebd48d7c70cdca",
            "0484a3c326414212a985d5b1c7dc57fe",
            "0bddda3492294f90931a432632ef602d",
            "7f98cad121f34445911b0d6ff02a8338",
            "3946acb49a6f408ebac15ab2fc350cc1",
            "f1114a9ced8c47aca8ed82c4a6e1e225",
            "07c0b27c34654294a3f8f41e6d1deb17",
            "c492d02c6fb54f52adbf7bfedd9dc453",
            "9c65adcc42aa403bac1c4c8016761e53",
            "ebe399a6f2c34051ab24077d5b83a79e"
          ]
        },
        "id": "kCJxrvxm543q",
        "outputId": "caebb82d-0efa-46e2-8bc2-5bddb413fea0"
      },
      "outputs": [],
      "source": [
        "from elasticsearch.helpers import streaming_bulk\n",
        "from tqdm.auto import tqdm\n",
        "\n",
        "def generate_docs(index_name, v):\n",
        "  for i, vi in enumerate(v):\n",
        "    yield {'_index': index_name, '_id': i, 'repr': surrogate_text(vi)}\n",
        "\n",
        "docs = generate_docs('simsearch_index', tx)\n",
        "indexing = streaming_bulk(es, docs, chunk_size=150, max_chunk_bytes=2**26)\n",
        "indexing = tqdm(indexing, total=n_samples)\n",
        "\n",
        "for _ in indexing:\n",
        "  pass"
      ]
    },
    {
      "cell_type": "markdown",
      "metadata": {
        "id": "NH0kniiSuIlc"
      },
      "source": [
        "Let's check how many documents have been inserted."
      ]
    },
    {
      "cell_type": "code",
      "execution_count": null,
      "metadata": {
        "colab": {
          "base_uri": "https://localhost:8080/"
        },
        "id": "KnNnXNvq7-94",
        "outputId": "85067645-84cd-44c1-a429-0336db5fe9d7"
      },
      "outputs": [],
      "source": [
        "print(es.count(index='simsearch_index'))"
      ]
    },
    {
      "cell_type": "markdown",
      "metadata": {
        "id": "RjFCKlBduOrs"
      },
      "source": [
        "Now, we can query the database. We specify we want to search the `repr` field. Since Elasticsearch supports the boosting syntax, we use the shorter surrogate text representation with boosting."
      ]
    },
    {
      "cell_type": "code",
      "execution_count": null,
      "metadata": {
        "colab": {
          "base_uri": "https://localhost:8080/"
        },
        "id": "_TDtXrMx8Luo",
        "outputId": "6f878354-5117-402a-8c49-a6588aee8426"
      },
      "outputs": [],
      "source": [
        "qi = tq[0]  # first query\n",
        "\n",
        "query = {\n",
        "  \"query\": {\"query_string\": {\"default_field\": \"repr\", \"query\": surrogate_text_boost(qi)}},\n",
        "  \"from\": 0, \"size\": k\n",
        "}\n",
        "\n",
        "results = es.search(index='simsearch_index', body=query)\n",
        "results"
      ]
    },
    {
      "cell_type": "markdown",
      "metadata": {
        "id": "CCwBs48hOdI6"
      },
      "source": [
        "Let's compute the recall for our query."
      ]
    },
    {
      "cell_type": "code",
      "execution_count": null,
      "metadata": {
        "colab": {
          "base_uri": "https://localhost:8080/"
        },
        "id": "8HmltZRWOgBi",
        "outputId": "cdf96ebe-0c1b-421c-f922-e9e2ed6fad64"
      },
      "outputs": [],
      "source": [
        "topk = [int(hit['_id']) for hit in results['hits']['hits']]\n",
        "topk = np.array([topk])  # make it a matrix with 1 row\n",
        "topk"
      ]
    },
    {
      "cell_type": "code",
      "execution_count": null,
      "metadata": {
        "colab": {
          "base_uri": "https://localhost:8080/"
        },
        "id": "CfeKl3N5O4nB",
        "outputId": "2829942d-ee74-4f48-b0f8-b73a2a5b5264"
      },
      "outputs": [],
      "source": [
        "qi_true_neighbors = true_neighbors[[0]]  # make it a matrix with 1 row\n",
        "compute_recall(qi_true_neighbors, topk)"
      ]
    },
    {
      "cell_type": "markdown",
      "metadata": {
        "id": "6nQOsDHTutNb"
      },
      "source": [
        "Next, let's perform the search for all our queries and compute the obtained recall."
      ]
    },
    {
      "cell_type": "markdown",
      "metadata": {
        "id": "_cg103ta6Wwe"
      },
      "source": [
        "#### **Exercise**: Measure the Mean Recall on Elasticsearch\n",
        "\n",
        "*  Perform all the queries using Elasticsearch and measure the average query time and the average recall.\n",
        "*  Try with different values of `prefix_length` and plot a *Recall vs Query Time* curve. What's the best recall for an average query time < 1 sec?\n",
        "*  Try with different values of `n_pivots` and `prefix_length`. What's the best recall for an average query time < 1 sec? Optionally plot several *Recall vs Query Time* curves to summarize the results.\n"
      ]
    },
    {
      "cell_type": "code",
      "execution_count": null,
      "metadata": {
        "colab": {
          "base_uri": "https://localhost:8080/",
          "height": 49,
          "referenced_widgets": [
            "5b76016e17f9454a8a10c90ac431b9e0",
            "e2da9fa2e6524296ae7deff741c47d36",
            "21bf39d7b67f4cb1a21cb758f1315bfb",
            "aad7b3c58c634e6e82e8ef933cf5fc47",
            "d82e92f240e74ac880e4254e6f85d212",
            "2eefe5fec5b44c76a67871eaa9b98a01",
            "aa568e0cd80d4acbaebd43184f5b9c82",
            "eee764392a1948549221fef3499a988b",
            "7225dedda2ed45be8f9c07d9d28a6b8f",
            "84fae1302dbc4d14a5610dbb0296a913",
            "b42cc00d94a942cda9db95ddb956d8d3"
          ]
        },
        "id": "QuaS6IgZ8AK7",
        "outputId": "e7a33fb2-e0ed-481d-b8c7-38652706c68c"
      },
      "outputs": [],
      "source": [
        "D = []\n",
        "I = []\n",
        "\n",
        "for qi in tqdm(tq):\n",
        "  query = {\n",
        "    \"query\": {\"query_string\": {\"default_field\": \"repr\", \"query\": surrogate_text_boost(qi)}},\n",
        "    \"from\": 0, \"size\": k\n",
        "  }\n",
        "\n",
        "  results = es.search(body=query, index='simsearch_index')\n",
        "\n",
        "  Di = [hit['_score'] for hit in results['hits']['hits']]\n",
        "  Ii = [int(hit['_id']) for hit in results['hits']['hits']]\n",
        "\n",
        "  D.append(Di)\n",
        "  I.append(Ii)\n",
        "\n",
        "D = np.array(D)\n",
        "I = np.array(I)"
      ]
    },
    {
      "cell_type": "code",
      "execution_count": null,
      "metadata": {
        "colab": {
          "base_uri": "https://localhost:8080/"
        },
        "id": "CYOAetkT8AK9",
        "outputId": "88cc4609-4272-4212-8d3c-d98cc339db1a"
      },
      "outputs": [],
      "source": [
        "recall = compute_recall(true_neighbors, I)\n",
        "print(recall)"
      ]
    },
    {
      "cell_type": "markdown",
      "metadata": {
        "id": "awnksZDtXhco"
      },
      "source": [
        "#### **(Advanced) Exercise**: Reordering with the Original Metric\n",
        "\n",
        "* Use Elasticsearch and the Surrogate Text Representation approach to select a candidate set of results of size `k_s > k` for a query.\n",
        "* Then reorder the `k_s` retrieved elements using the original features (`database` and `queries`) and the original metric (`cosine_similarity`) and keep the top `k` results as final result set.\n",
        "\n",
        "What's the obtained average recall? and query time?\n",
        "\n",
        "What's a good value of `k_s` (with respect to `k`) ?"
      ]
    },
    {
      "cell_type": "markdown",
      "metadata": {
        "id": "lXcV5YBgaxVC"
      },
      "source": [
        "## Additional Resources\n",
        "\n",
        "*   https://github.com/erikbern/ann-benchmarks/\n",
        "*   http://melisandre.deepfeatures.org/\n",
        "*   https://www.elastic.co/elasticsearch/\n"
      ]
    }
  ],
  "metadata": {
    "colab": {
      "name": "ol3_surrogate_text_representation.ipynb",
      "provenance": []
    },
    "kernelspec": {
      "display_name": "Python 3.10.4 64-bit",
      "language": "python",
      "name": "python3"
    },
    "language_info": {
      "name": "python",
      "version": "3.10.4"
    },
    "orig_nbformat": 4,
    "vscode": {
      "interpreter": {
        "hash": "916dbcbb3f70747c44a77c7bcd40155683ae19c65e1c03b4aa3499c5328201f1"
      }
    },
    "widgets": {
      "application/vnd.jupyter.widget-state+json": {
        "0484a3c326414212a985d5b1c7dc57fe": {
          "model_module": "@jupyter-widgets/controls",
          "model_module_version": "1.5.0",
          "model_name": "FloatProgressModel",
          "state": {
            "_dom_classes": [],
            "_model_module": "@jupyter-widgets/controls",
            "_model_module_version": "1.5.0",
            "_model_name": "FloatProgressModel",
            "_view_count": null,
            "_view_module": "@jupyter-widgets/controls",
            "_view_module_version": "1.5.0",
            "_view_name": "ProgressView",
            "bar_style": "success",
            "description": "",
            "description_tooltip": null,
            "layout": "IPY_MODEL_07c0b27c34654294a3f8f41e6d1deb17",
            "max": 10000,
            "min": 0,
            "orientation": "horizontal",
            "style": "IPY_MODEL_c492d02c6fb54f52adbf7bfedd9dc453",
            "value": 10000
          }
        },
        "07c0b27c34654294a3f8f41e6d1deb17": {
          "model_module": "@jupyter-widgets/base",
          "model_module_version": "1.2.0",
          "model_name": "LayoutModel",
          "state": {
            "_model_module": "@jupyter-widgets/base",
            "_model_module_version": "1.2.0",
            "_model_name": "LayoutModel",
            "_view_count": null,
            "_view_module": "@jupyter-widgets/base",
            "_view_module_version": "1.2.0",
            "_view_name": "LayoutView",
            "align_content": null,
            "align_items": null,
            "align_self": null,
            "border": null,
            "bottom": null,
            "display": null,
            "flex": null,
            "flex_flow": null,
            "grid_area": null,
            "grid_auto_columns": null,
            "grid_auto_flow": null,
            "grid_auto_rows": null,
            "grid_column": null,
            "grid_gap": null,
            "grid_row": null,
            "grid_template_areas": null,
            "grid_template_columns": null,
            "grid_template_rows": null,
            "height": null,
            "justify_content": null,
            "justify_items": null,
            "left": null,
            "margin": null,
            "max_height": null,
            "max_width": null,
            "min_height": null,
            "min_width": null,
            "object_fit": null,
            "object_position": null,
            "order": null,
            "overflow": null,
            "overflow_x": null,
            "overflow_y": null,
            "padding": null,
            "right": null,
            "top": null,
            "visibility": null,
            "width": null
          }
        },
        "0bddda3492294f90931a432632ef602d": {
          "model_module": "@jupyter-widgets/controls",
          "model_module_version": "1.5.0",
          "model_name": "HTMLModel",
          "state": {
            "_dom_classes": [],
            "_model_module": "@jupyter-widgets/controls",
            "_model_module_version": "1.5.0",
            "_model_name": "HTMLModel",
            "_view_count": null,
            "_view_module": "@jupyter-widgets/controls",
            "_view_module_version": "1.5.0",
            "_view_name": "HTMLView",
            "description": "",
            "description_tooltip": null,
            "layout": "IPY_MODEL_9c65adcc42aa403bac1c4c8016761e53",
            "placeholder": "​",
            "style": "IPY_MODEL_ebe399a6f2c34051ab24077d5b83a79e",
            "value": " 10000/10000 [02:02&lt;00:00, 111.01it/s]"
          }
        },
        "1a3685b737bc4d2096ebd48d7c70cdca": {
          "model_module": "@jupyter-widgets/controls",
          "model_module_version": "1.5.0",
          "model_name": "HTMLModel",
          "state": {
            "_dom_classes": [],
            "_model_module": "@jupyter-widgets/controls",
            "_model_module_version": "1.5.0",
            "_model_name": "HTMLModel",
            "_view_count": null,
            "_view_module": "@jupyter-widgets/controls",
            "_view_module_version": "1.5.0",
            "_view_name": "HTMLView",
            "description": "",
            "description_tooltip": null,
            "layout": "IPY_MODEL_3946acb49a6f408ebac15ab2fc350cc1",
            "placeholder": "​",
            "style": "IPY_MODEL_f1114a9ced8c47aca8ed82c4a6e1e225",
            "value": "100%"
          }
        },
        "21bf39d7b67f4cb1a21cb758f1315bfb": {
          "model_module": "@jupyter-widgets/controls",
          "model_module_version": "1.5.0",
          "model_name": "FloatProgressModel",
          "state": {
            "_dom_classes": [],
            "_model_module": "@jupyter-widgets/controls",
            "_model_module_version": "1.5.0",
            "_model_name": "FloatProgressModel",
            "_view_count": null,
            "_view_module": "@jupyter-widgets/controls",
            "_view_module_version": "1.5.0",
            "_view_name": "ProgressView",
            "bar_style": "success",
            "description": "",
            "description_tooltip": null,
            "layout": "IPY_MODEL_eee764392a1948549221fef3499a988b",
            "max": 200,
            "min": 0,
            "orientation": "horizontal",
            "style": "IPY_MODEL_7225dedda2ed45be8f9c07d9d28a6b8f",
            "value": 200
          }
        },
        "2eefe5fec5b44c76a67871eaa9b98a01": {
          "model_module": "@jupyter-widgets/base",
          "model_module_version": "1.2.0",
          "model_name": "LayoutModel",
          "state": {
            "_model_module": "@jupyter-widgets/base",
            "_model_module_version": "1.2.0",
            "_model_name": "LayoutModel",
            "_view_count": null,
            "_view_module": "@jupyter-widgets/base",
            "_view_module_version": "1.2.0",
            "_view_name": "LayoutView",
            "align_content": null,
            "align_items": null,
            "align_self": null,
            "border": null,
            "bottom": null,
            "display": null,
            "flex": null,
            "flex_flow": null,
            "grid_area": null,
            "grid_auto_columns": null,
            "grid_auto_flow": null,
            "grid_auto_rows": null,
            "grid_column": null,
            "grid_gap": null,
            "grid_row": null,
            "grid_template_areas": null,
            "grid_template_columns": null,
            "grid_template_rows": null,
            "height": null,
            "justify_content": null,
            "justify_items": null,
            "left": null,
            "margin": null,
            "max_height": null,
            "max_width": null,
            "min_height": null,
            "min_width": null,
            "object_fit": null,
            "object_position": null,
            "order": null,
            "overflow": null,
            "overflow_x": null,
            "overflow_y": null,
            "padding": null,
            "right": null,
            "top": null,
            "visibility": null,
            "width": null
          }
        },
        "3946acb49a6f408ebac15ab2fc350cc1": {
          "model_module": "@jupyter-widgets/base",
          "model_module_version": "1.2.0",
          "model_name": "LayoutModel",
          "state": {
            "_model_module": "@jupyter-widgets/base",
            "_model_module_version": "1.2.0",
            "_model_name": "LayoutModel",
            "_view_count": null,
            "_view_module": "@jupyter-widgets/base",
            "_view_module_version": "1.2.0",
            "_view_name": "LayoutView",
            "align_content": null,
            "align_items": null,
            "align_self": null,
            "border": null,
            "bottom": null,
            "display": null,
            "flex": null,
            "flex_flow": null,
            "grid_area": null,
            "grid_auto_columns": null,
            "grid_auto_flow": null,
            "grid_auto_rows": null,
            "grid_column": null,
            "grid_gap": null,
            "grid_row": null,
            "grid_template_areas": null,
            "grid_template_columns": null,
            "grid_template_rows": null,
            "height": null,
            "justify_content": null,
            "justify_items": null,
            "left": null,
            "margin": null,
            "max_height": null,
            "max_width": null,
            "min_height": null,
            "min_width": null,
            "object_fit": null,
            "object_position": null,
            "order": null,
            "overflow": null,
            "overflow_x": null,
            "overflow_y": null,
            "padding": null,
            "right": null,
            "top": null,
            "visibility": null,
            "width": null
          }
        },
        "5b76016e17f9454a8a10c90ac431b9e0": {
          "model_module": "@jupyter-widgets/controls",
          "model_module_version": "1.5.0",
          "model_name": "HBoxModel",
          "state": {
            "_dom_classes": [],
            "_model_module": "@jupyter-widgets/controls",
            "_model_module_version": "1.5.0",
            "_model_name": "HBoxModel",
            "_view_count": null,
            "_view_module": "@jupyter-widgets/controls",
            "_view_module_version": "1.5.0",
            "_view_name": "HBoxView",
            "box_style": "",
            "children": [
              "IPY_MODEL_e2da9fa2e6524296ae7deff741c47d36",
              "IPY_MODEL_21bf39d7b67f4cb1a21cb758f1315bfb",
              "IPY_MODEL_aad7b3c58c634e6e82e8ef933cf5fc47"
            ],
            "layout": "IPY_MODEL_d82e92f240e74ac880e4254e6f85d212"
          }
        },
        "7225dedda2ed45be8f9c07d9d28a6b8f": {
          "model_module": "@jupyter-widgets/controls",
          "model_module_version": "1.5.0",
          "model_name": "ProgressStyleModel",
          "state": {
            "_model_module": "@jupyter-widgets/controls",
            "_model_module_version": "1.5.0",
            "_model_name": "ProgressStyleModel",
            "_view_count": null,
            "_view_module": "@jupyter-widgets/base",
            "_view_module_version": "1.2.0",
            "_view_name": "StyleView",
            "bar_color": null,
            "description_width": ""
          }
        },
        "7f98cad121f34445911b0d6ff02a8338": {
          "model_module": "@jupyter-widgets/base",
          "model_module_version": "1.2.0",
          "model_name": "LayoutModel",
          "state": {
            "_model_module": "@jupyter-widgets/base",
            "_model_module_version": "1.2.0",
            "_model_name": "LayoutModel",
            "_view_count": null,
            "_view_module": "@jupyter-widgets/base",
            "_view_module_version": "1.2.0",
            "_view_name": "LayoutView",
            "align_content": null,
            "align_items": null,
            "align_self": null,
            "border": null,
            "bottom": null,
            "display": null,
            "flex": null,
            "flex_flow": null,
            "grid_area": null,
            "grid_auto_columns": null,
            "grid_auto_flow": null,
            "grid_auto_rows": null,
            "grid_column": null,
            "grid_gap": null,
            "grid_row": null,
            "grid_template_areas": null,
            "grid_template_columns": null,
            "grid_template_rows": null,
            "height": null,
            "justify_content": null,
            "justify_items": null,
            "left": null,
            "margin": null,
            "max_height": null,
            "max_width": null,
            "min_height": null,
            "min_width": null,
            "object_fit": null,
            "object_position": null,
            "order": null,
            "overflow": null,
            "overflow_x": null,
            "overflow_y": null,
            "padding": null,
            "right": null,
            "top": null,
            "visibility": null,
            "width": null
          }
        },
        "84fae1302dbc4d14a5610dbb0296a913": {
          "model_module": "@jupyter-widgets/base",
          "model_module_version": "1.2.0",
          "model_name": "LayoutModel",
          "state": {
            "_model_module": "@jupyter-widgets/base",
            "_model_module_version": "1.2.0",
            "_model_name": "LayoutModel",
            "_view_count": null,
            "_view_module": "@jupyter-widgets/base",
            "_view_module_version": "1.2.0",
            "_view_name": "LayoutView",
            "align_content": null,
            "align_items": null,
            "align_self": null,
            "border": null,
            "bottom": null,
            "display": null,
            "flex": null,
            "flex_flow": null,
            "grid_area": null,
            "grid_auto_columns": null,
            "grid_auto_flow": null,
            "grid_auto_rows": null,
            "grid_column": null,
            "grid_gap": null,
            "grid_row": null,
            "grid_template_areas": null,
            "grid_template_columns": null,
            "grid_template_rows": null,
            "height": null,
            "justify_content": null,
            "justify_items": null,
            "left": null,
            "margin": null,
            "max_height": null,
            "max_width": null,
            "min_height": null,
            "min_width": null,
            "object_fit": null,
            "object_position": null,
            "order": null,
            "overflow": null,
            "overflow_x": null,
            "overflow_y": null,
            "padding": null,
            "right": null,
            "top": null,
            "visibility": null,
            "width": null
          }
        },
        "8e47d79899e24dc2af9e27e5477335d4": {
          "model_module": "@jupyter-widgets/controls",
          "model_module_version": "1.5.0",
          "model_name": "HBoxModel",
          "state": {
            "_dom_classes": [],
            "_model_module": "@jupyter-widgets/controls",
            "_model_module_version": "1.5.0",
            "_model_name": "HBoxModel",
            "_view_count": null,
            "_view_module": "@jupyter-widgets/controls",
            "_view_module_version": "1.5.0",
            "_view_name": "HBoxView",
            "box_style": "",
            "children": [
              "IPY_MODEL_1a3685b737bc4d2096ebd48d7c70cdca",
              "IPY_MODEL_0484a3c326414212a985d5b1c7dc57fe",
              "IPY_MODEL_0bddda3492294f90931a432632ef602d"
            ],
            "layout": "IPY_MODEL_7f98cad121f34445911b0d6ff02a8338"
          }
        },
        "9c65adcc42aa403bac1c4c8016761e53": {
          "model_module": "@jupyter-widgets/base",
          "model_module_version": "1.2.0",
          "model_name": "LayoutModel",
          "state": {
            "_model_module": "@jupyter-widgets/base",
            "_model_module_version": "1.2.0",
            "_model_name": "LayoutModel",
            "_view_count": null,
            "_view_module": "@jupyter-widgets/base",
            "_view_module_version": "1.2.0",
            "_view_name": "LayoutView",
            "align_content": null,
            "align_items": null,
            "align_self": null,
            "border": null,
            "bottom": null,
            "display": null,
            "flex": null,
            "flex_flow": null,
            "grid_area": null,
            "grid_auto_columns": null,
            "grid_auto_flow": null,
            "grid_auto_rows": null,
            "grid_column": null,
            "grid_gap": null,
            "grid_row": null,
            "grid_template_areas": null,
            "grid_template_columns": null,
            "grid_template_rows": null,
            "height": null,
            "justify_content": null,
            "justify_items": null,
            "left": null,
            "margin": null,
            "max_height": null,
            "max_width": null,
            "min_height": null,
            "min_width": null,
            "object_fit": null,
            "object_position": null,
            "order": null,
            "overflow": null,
            "overflow_x": null,
            "overflow_y": null,
            "padding": null,
            "right": null,
            "top": null,
            "visibility": null,
            "width": null
          }
        },
        "aa568e0cd80d4acbaebd43184f5b9c82": {
          "model_module": "@jupyter-widgets/controls",
          "model_module_version": "1.5.0",
          "model_name": "DescriptionStyleModel",
          "state": {
            "_model_module": "@jupyter-widgets/controls",
            "_model_module_version": "1.5.0",
            "_model_name": "DescriptionStyleModel",
            "_view_count": null,
            "_view_module": "@jupyter-widgets/base",
            "_view_module_version": "1.2.0",
            "_view_name": "StyleView",
            "description_width": ""
          }
        },
        "aad7b3c58c634e6e82e8ef933cf5fc47": {
          "model_module": "@jupyter-widgets/controls",
          "model_module_version": "1.5.0",
          "model_name": "HTMLModel",
          "state": {
            "_dom_classes": [],
            "_model_module": "@jupyter-widgets/controls",
            "_model_module_version": "1.5.0",
            "_model_name": "HTMLModel",
            "_view_count": null,
            "_view_module": "@jupyter-widgets/controls",
            "_view_module_version": "1.5.0",
            "_view_name": "HTMLView",
            "description": "",
            "description_tooltip": null,
            "layout": "IPY_MODEL_84fae1302dbc4d14a5610dbb0296a913",
            "placeholder": "​",
            "style": "IPY_MODEL_b42cc00d94a942cda9db95ddb956d8d3",
            "value": " 200/200 [00:52&lt;00:00,  4.44it/s]"
          }
        },
        "b42cc00d94a942cda9db95ddb956d8d3": {
          "model_module": "@jupyter-widgets/controls",
          "model_module_version": "1.5.0",
          "model_name": "DescriptionStyleModel",
          "state": {
            "_model_module": "@jupyter-widgets/controls",
            "_model_module_version": "1.5.0",
            "_model_name": "DescriptionStyleModel",
            "_view_count": null,
            "_view_module": "@jupyter-widgets/base",
            "_view_module_version": "1.2.0",
            "_view_name": "StyleView",
            "description_width": ""
          }
        },
        "c492d02c6fb54f52adbf7bfedd9dc453": {
          "model_module": "@jupyter-widgets/controls",
          "model_module_version": "1.5.0",
          "model_name": "ProgressStyleModel",
          "state": {
            "_model_module": "@jupyter-widgets/controls",
            "_model_module_version": "1.5.0",
            "_model_name": "ProgressStyleModel",
            "_view_count": null,
            "_view_module": "@jupyter-widgets/base",
            "_view_module_version": "1.2.0",
            "_view_name": "StyleView",
            "bar_color": null,
            "description_width": ""
          }
        },
        "d82e92f240e74ac880e4254e6f85d212": {
          "model_module": "@jupyter-widgets/base",
          "model_module_version": "1.2.0",
          "model_name": "LayoutModel",
          "state": {
            "_model_module": "@jupyter-widgets/base",
            "_model_module_version": "1.2.0",
            "_model_name": "LayoutModel",
            "_view_count": null,
            "_view_module": "@jupyter-widgets/base",
            "_view_module_version": "1.2.0",
            "_view_name": "LayoutView",
            "align_content": null,
            "align_items": null,
            "align_self": null,
            "border": null,
            "bottom": null,
            "display": null,
            "flex": null,
            "flex_flow": null,
            "grid_area": null,
            "grid_auto_columns": null,
            "grid_auto_flow": null,
            "grid_auto_rows": null,
            "grid_column": null,
            "grid_gap": null,
            "grid_row": null,
            "grid_template_areas": null,
            "grid_template_columns": null,
            "grid_template_rows": null,
            "height": null,
            "justify_content": null,
            "justify_items": null,
            "left": null,
            "margin": null,
            "max_height": null,
            "max_width": null,
            "min_height": null,
            "min_width": null,
            "object_fit": null,
            "object_position": null,
            "order": null,
            "overflow": null,
            "overflow_x": null,
            "overflow_y": null,
            "padding": null,
            "right": null,
            "top": null,
            "visibility": null,
            "width": null
          }
        },
        "e2da9fa2e6524296ae7deff741c47d36": {
          "model_module": "@jupyter-widgets/controls",
          "model_module_version": "1.5.0",
          "model_name": "HTMLModel",
          "state": {
            "_dom_classes": [],
            "_model_module": "@jupyter-widgets/controls",
            "_model_module_version": "1.5.0",
            "_model_name": "HTMLModel",
            "_view_count": null,
            "_view_module": "@jupyter-widgets/controls",
            "_view_module_version": "1.5.0",
            "_view_name": "HTMLView",
            "description": "",
            "description_tooltip": null,
            "layout": "IPY_MODEL_2eefe5fec5b44c76a67871eaa9b98a01",
            "placeholder": "​",
            "style": "IPY_MODEL_aa568e0cd80d4acbaebd43184f5b9c82",
            "value": "100%"
          }
        },
        "ebe399a6f2c34051ab24077d5b83a79e": {
          "model_module": "@jupyter-widgets/controls",
          "model_module_version": "1.5.0",
          "model_name": "DescriptionStyleModel",
          "state": {
            "_model_module": "@jupyter-widgets/controls",
            "_model_module_version": "1.5.0",
            "_model_name": "DescriptionStyleModel",
            "_view_count": null,
            "_view_module": "@jupyter-widgets/base",
            "_view_module_version": "1.2.0",
            "_view_name": "StyleView",
            "description_width": ""
          }
        },
        "eee764392a1948549221fef3499a988b": {
          "model_module": "@jupyter-widgets/base",
          "model_module_version": "1.2.0",
          "model_name": "LayoutModel",
          "state": {
            "_model_module": "@jupyter-widgets/base",
            "_model_module_version": "1.2.0",
            "_model_name": "LayoutModel",
            "_view_count": null,
            "_view_module": "@jupyter-widgets/base",
            "_view_module_version": "1.2.0",
            "_view_name": "LayoutView",
            "align_content": null,
            "align_items": null,
            "align_self": null,
            "border": null,
            "bottom": null,
            "display": null,
            "flex": null,
            "flex_flow": null,
            "grid_area": null,
            "grid_auto_columns": null,
            "grid_auto_flow": null,
            "grid_auto_rows": null,
            "grid_column": null,
            "grid_gap": null,
            "grid_row": null,
            "grid_template_areas": null,
            "grid_template_columns": null,
            "grid_template_rows": null,
            "height": null,
            "justify_content": null,
            "justify_items": null,
            "left": null,
            "margin": null,
            "max_height": null,
            "max_width": null,
            "min_height": null,
            "min_width": null,
            "object_fit": null,
            "object_position": null,
            "order": null,
            "overflow": null,
            "overflow_x": null,
            "overflow_y": null,
            "padding": null,
            "right": null,
            "top": null,
            "visibility": null,
            "width": null
          }
        },
        "f1114a9ced8c47aca8ed82c4a6e1e225": {
          "model_module": "@jupyter-widgets/controls",
          "model_module_version": "1.5.0",
          "model_name": "DescriptionStyleModel",
          "state": {
            "_model_module": "@jupyter-widgets/controls",
            "_model_module_version": "1.5.0",
            "_model_name": "DescriptionStyleModel",
            "_view_count": null,
            "_view_module": "@jupyter-widgets/base",
            "_view_module_version": "1.2.0",
            "_view_name": "StyleView",
            "description_width": ""
          }
        }
      }
    }
  },
  "nbformat": 4,
  "nbformat_minor": 0
}
