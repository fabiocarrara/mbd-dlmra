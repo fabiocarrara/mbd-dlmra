{
  "cells": [
    {
      "cell_type": "markdown",
      "metadata": {
        "colab_type": "text",
        "id": "view-in-github"
      },
      "source": [
        "<a href=\"https://colab.research.google.com/github/fabiocarrara/mbd-dlmra/blob/main/ol2_image_representation_search_clustering.ipynb\" target=\"_parent\"><img src=\"https://colab.research.google.com/assets/colab-badge.svg\" alt=\"Open In Colab\"/></a>"
      ]
    },
    {
      "cell_type": "markdown",
      "metadata": {
        "id": "j4MK2n10BGmc"
      },
      "source": [
        "# DLMRA OpenLab \\#2\n",
        "-----------------\n",
        "\n",
        "# Image Representations for Similarity Search, Clustering, and Classification\n",
        "\n",
        "You'll learn to:\n",
        "\n",
        "*   Represent images using features extracted from pretrained CNNs.\n",
        "*   Search images by visual similarity in an image database and evaluate results.\n",
        "*   Cluster an image database by visual similarity.\n",
        "*   Build simple image classifiers based on pretrained representations.\n"
      ]
    },
    {
      "cell_type": "markdown",
      "metadata": {
        "id": "T0IgnESPfmK1"
      },
      "source": [
        "## Getting Started"
      ]
    },
    {
      "cell_type": "markdown",
      "metadata": {
        "id": "wnm-0u5CsrON"
      },
      "source": [
        "We will use [Kaggle](https://www.kaggle.com/) as our source of datasets. This let us download datasets directly from Kaggle to Colab without manually upload the data at the beginning of every session.\n",
        "\n",
        "- Register on Kaggle (you can login with a Google Account).\n",
        "- Go to Account Settings > \"Account\" Tab > Click on \"Create New API Token\".\n",
        "- Save the generated `kaggle.json` file somewhere on your PC.\n",
        "\n",
        "Next, we install the `kaggle` command line utility on Colab."
      ]
    },
    {
      "cell_type": "code",
      "execution_count": null,
      "metadata": {
        "id": "F-DEOVMni2Oc"
      },
      "outputs": [],
      "source": [
        "!pip install -q kaggle"
      ]
    },
    {
      "cell_type": "markdown",
      "metadata": {
        "id": "IFG9CFD5uMcU"
      },
      "source": [
        "Upload the `kaggle.json` file to Colab..."
      ]
    },
    {
      "cell_type": "code",
      "execution_count": null,
      "metadata": {
        "colab": {
          "base_uri": "https://localhost:8080/",
          "height": 73,
          "resources": {
            "http://localhost:8080/nbextensions/google.colab/files.js": {
              "data": "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",
              "headers": [
                [
                  "content-type",
                  "application/javascript"
                ]
              ],
              "ok": true,
              "status": 200,
              "status_text": ""
            }
          }
        },
        "id": "iMgmtf6XjFek",
        "outputId": "86dac35f-2fc2-4279-9af6-d78e4533fc52"
      },
      "outputs": [],
      "source": [
        "from google.colab import files\n",
        "_ = files.upload()"
      ]
    },
    {
      "cell_type": "markdown",
      "metadata": {
        "id": "DWo1EcXGuSJk"
      },
      "source": [
        "... and let's put it in the right place and give it the right file permissions."
      ]
    },
    {
      "cell_type": "code",
      "execution_count": null,
      "metadata": {
        "id": "poAQSNHZjJgt"
      },
      "outputs": [],
      "source": [
        "%%bash\n",
        "mkdir -p ~/.kaggle\n",
        "cp kaggle.json ~/.kaggle/\n",
        "chmod 600 ~/.kaggle/kaggle.json"
      ]
    },
    {
      "cell_type": "markdown",
      "metadata": {
        "id": "S5aHsntRus3E"
      },
      "source": [
        "Now, we can download datasets using the `kaggle`.\n",
        "Let's download the dataset used in this exercise: `vikashrajluhaniwal/fashion-images`.\n",
        "\n",
        "More info on the dataset on [its Kaggle page](https://www.kaggle.com/vikashrajluhaniwal/fashion-images).\n",
        "\n",
        "\n",
        "\n"
      ]
    },
    {
      "cell_type": "code",
      "execution_count": null,
      "metadata": {
        "colab": {
          "base_uri": "https://localhost:8080/"
        },
        "id": "x6_FRKubksmR",
        "outputId": "9668ee15-0204-48cc-9ac5-ef3aadb9c539"
      },
      "outputs": [],
      "source": [
        "!kaggle datasets download -d vikashrajluhaniwal/fashion-images --unzip"
      ]
    },
    {
      "cell_type": "code",
      "execution_count": null,
      "metadata": {
        "id": "gxr0appUBuAh"
      },
      "outputs": [],
      "source": [
        "import numpy as np\n",
        "import pandas as pd\n",
        "\n",
        "import tensorflow as tf\n",
        "import tensorflow_hub as hub\n",
        "\n",
        "from pathlib import Path\n",
        "from tqdm.auto import tqdm\n",
        "from skimage.transform import resize\n",
        "\n",
        "import matplotlib\n",
        "import matplotlib.pyplot as plt\n",
        "\n",
        "import random\n",
        "\n",
        "%matplotlib inline"
      ]
    },
    {
      "cell_type": "markdown",
      "metadata": {
        "id": "2iBqVHUHBrFK"
      },
      "source": [
        "## Data Loading"
      ]
    },
    {
      "cell_type": "markdown",
      "metadata": {
        "id": "ZWsn2E8hlZOx"
      },
      "source": [
        "Let's inspect the data."
      ]
    },
    {
      "cell_type": "code",
      "execution_count": null,
      "metadata": {
        "colab": {
          "base_uri": "https://localhost:8080/"
        },
        "id": "qXFZpKlslXzy",
        "outputId": "2b88844a-d7dc-415e-ef7c-0364163696bb"
      },
      "outputs": [],
      "source": [
        "image_paths = Path('data').rglob('*.jpg')\n",
        "image_paths = sorted(image_paths)\n",
        "image_paths[:5]"
      ]
    },
    {
      "cell_type": "code",
      "execution_count": null,
      "metadata": {
        "colab": {
          "base_uri": "https://localhost:8080/",
          "height": 466
        },
        "id": "yODlPgBzmbNu",
        "outputId": "d348b07c-c04d-4e21-963f-bc61777e3caa"
      },
      "outputs": [],
      "source": [
        "fig, axes = plt.subplots(5, 10, figsize=(20, 10))\n",
        "for ax, image_path in zip(axes.flatten(), image_paths):\n",
        "  image_np = plt.imread(image_path)\n",
        "  image_np = resize(image_np, (400, 300))\n",
        "  ax.imshow(image_np)\n",
        "  ax.axis('off')\n",
        "plt.subplots_adjust(wspace=0, hspace=0)"
      ]
    },
    {
      "cell_type": "markdown",
      "metadata": {
        "id": "jcNvw0RUC0xE"
      },
      "source": [
        "Consider a (potentially large) database of images and a set of query images.\n",
        "Our goal is to retrieve images from the database that are visually similar to the queries.\n",
        "\n",
        "Let's select from our dataset two subset of images that will comprise the *database* and the *queries*."
      ]
    },
    {
      "cell_type": "code",
      "execution_count": null,
      "metadata": {
        "colab": {
          "base_uri": "https://localhost:8080/"
        },
        "id": "jYVjijCXoGsL",
        "outputId": "701edc14-23be-4bd5-f322-5f2d5d8d0adb"
      },
      "outputs": [],
      "source": [
        "nq = 15  # number of queries\n",
        "ndb = 500  # number of samples in the database\n",
        "\n",
        "selected_image_paths = random.sample(image_paths, ndb + nq)\n",
        "db_image_paths = selected_image_paths[:ndb]\n",
        "q_image_paths = selected_image_paths[-nq:]\n",
        "q_image_paths[:5]"
      ]
    },
    {
      "cell_type": "markdown",
      "metadata": {
        "id": "RTwfGoVi1rAI"
      },
      "source": [
        "## Image Representation"
      ]
    },
    {
      "cell_type": "markdown",
      "metadata": {
        "id": "BwHP-2jr1tWw"
      },
      "source": [
        "We will use a pretrained model to extract features from images and use them as compact image representations.\n",
        "The choice of the model is essential to get good representations for your target task (e.g. a model trained on classifying dog breeds will have a hard time creating good representations for images of flowers)."
      ]
    },
    {
      "cell_type": "code",
      "execution_count": null,
      "metadata": {
        "id": "xL4YG1xKA_EO"
      },
      "outputs": [],
      "source": [
        "model1 = tf.keras.applications.EfficientNetB0(input_shape=(512, 384, 3), weights='imagenet', include_top=False, pooling='avg')"
      ]
    },
    {
      "cell_type": "markdown",
      "metadata": {
        "id": "4s31q5kqpc4t"
      },
      "source": [
        "A lot of pretrained models are available on [TensorFlow Hub](https://tfhub.dev) and can be easily downloaded and used in Keras with the `tensorflow_hub.KerasLayer` API.\n",
        "\n",
        "Check out [this list](https://tfhub.dev/google/collections/experts/bit/1) of Google's BiT models (Big Transfer, specifically thought for feature extraction) that are pretrained on specific subsets of the ImageNet-21k dataset.\n",
        "\n",
        "_NOTE: If you need a specialized model, you will need to fine-tune a pretrained model on a small dataset of images you are interested in discerning._"
      ]
    },
    {
      "cell_type": "code",
      "execution_count": null,
      "metadata": {
        "id": "K9TMyn5jpcpY"
      },
      "outputs": [],
      "source": [
        "# a model pretrained on ImageNet-21k\n",
        "model2 = hub.KerasLayer(\"https://tfhub.dev/google/bit/m-r50x1/1\")\n",
        "model3 = hub.KerasLayer(\"https://tfhub.dev/google/experts/bit/r50x1/in21k/consumer_goods/1\")"
      ]
    },
    {
      "cell_type": "markdown",
      "metadata": {
        "id": "soJ1TXPViPDd"
      },
      "source": [
        "`model` is a Keras module that can be called on tensor images and returns a feature vector (2048-d for BiT models).\n",
        "\n",
        "Let's prepare the model pipeline by defining input preprocessing and feature post-processing."
      ]
    },
    {
      "cell_type": "code",
      "execution_count": null,
      "metadata": {
        "id": "cdz2aV_ODhnL"
      },
      "outputs": [],
      "source": [
        "def load_image(path):\n",
        "  image_data = tf.io.read_file(path)\n",
        "  image = tf.image.decode_image(image_data, channels=3, expand_animations=False)\n",
        "  image = tf.image.convert_image_dtype(image, dtype=tf.float32)\n",
        "  image = tf.expand_dims(image, axis=0)\n",
        "  return image\n",
        "\n",
        "def resize_images(images):\n",
        "  # return tf.image.resize(images, (363, 272))\n",
        "  return tf.image.resize(images, (512, 512), preserve_aspect_ratio=True)\n",
        "\n",
        "def l2_normalize(feature_vector):\n",
        "  return tf.math.l2_normalize(feature_vector, axis=1)"
      ]
    },
    {
      "cell_type": "markdown",
      "metadata": {
        "id": "tNuo5_ufolP1"
      },
      "source": [
        "Let's extract feature vectors from a bunch of images. We use the `tf.data.Dataset` API (specifically `.map()`) to apply input preprocessing, feature extraction, and feature postprocessing.\n",
        "\n",
        "_NOTE: when using `.map()`, all the processing is deferred. Data will be processed when we will iterate on the dataset asking for computation results._"
      ]
    },
    {
      "cell_type": "code",
      "execution_count": null,
      "metadata": {
        "id": "pkeml0qU7Jy9"
      },
      "outputs": [],
      "source": [
        "def extract_features(image_paths, model):\n",
        "  db = list(map(str, image_paths))\n",
        "  db = tf.data.Dataset.from_tensor_slices(db)\n",
        "  db = db.map(load_image, num_parallel_calls=tf.data.AUTOTUNE)\n",
        "  db = db.map(resize_images, num_parallel_calls=tf.data.AUTOTUNE)\n",
        "  db = db.prefetch(5)\n",
        "\n",
        "  features = db.map(model)  # apply model to get features\n",
        "  features = features.map(l2_normalize)  # apply postprocessing (normalize features)\n",
        "\n",
        "  total = len(features)\n",
        "  features = features.as_numpy_iterator()  # we want results as numpy arrays\n",
        "  features = tqdm(features, total=total)  # add a progress bar with tqdm\n",
        "  features = list(features)  # get all features in a list \n",
        "  features = np.concatenate(features)  # concatenate rows to get a unique matrix\n",
        "  return features"
      ]
    },
    {
      "cell_type": "code",
      "execution_count": null,
      "metadata": {
        "colab": {
          "base_uri": "https://localhost:8080/",
          "height": 209,
          "referenced_widgets": [
            "ffbc02358b644fbf8b8883671272af74",
            "97e3c74c26f04125babbd5c35814e36e",
            "a60b0a8662254016a8b8a9d57b947dd5",
            "69e74bdb86934aff82ca2acf1e012fe5",
            "945f46c74016484d87385262c7f78971",
            "ef180faf678440f090f9644f549da5c0",
            "0a7af6e1edf6497baea5185f919d0bdd",
            "bde14177f3f14e818ded274ce851baf7",
            "cd5c506a078b4b6b83cf8781b97a3dcf",
            "b286742230124553ad6e3c2ec822af4f",
            "80a059aff8e94945a0d3be941ff9e9b5",
            "d158c60eae2646a5b98e18c3759631ad",
            "4003223350e346abbbcf425757e3912a",
            "a2855aa948284f788f4f1ab8f35fc832",
            "4ff2b68ca099417283b410782a4e0a2a",
            "b401f672c4d04af892f48e0157fbf109",
            "31498f498a8541a6be6e108cbc2f1877",
            "69898033d36d48129f9f583cb1abd9b1",
            "f29c3ee4f2024ff39dffbf8b20395bda",
            "a2468d3dba2e439fb4296d9a3d731c3f",
            "86cfa76163c44a11a144c9e77801c49f",
            "400e9a64ce3640dd9ae91a9bed1239bb",
            "0d405ea0fcf6401eb154b6b40d348f13",
            "ea0b7a43e4fd42869c5b63c5951625c6",
            "fcc9cbd29f3e409195f6978ca62ee2b8",
            "2e3f18035af1427b99cbb61def2837e8",
            "135ffbd3d8ca475795392b08881af6b8",
            "6eef8cdfc6f54cebacd73094e5621d57",
            "3c3c23ab541b4513b3a670b891e5b8fb",
            "17c96bbbbe7545f4a093832e1fb56998",
            "e454c1ad73394ffeaab5b8ad2184a31f",
            "fa69bb9f1358411eb3006d5da45306d2",
            "d1668792fc20435ba0adba0448c82fa8",
            "0483ecfa33e34278bc2a6c2dbbe69cdf",
            "904f6887027648e9b5ec8f4d40585f86",
            "c92fa2f8898f4b22bcb510434b6a9f79",
            "ccbf770b8b0f44409e053f3855e053ef",
            "9ae93afe9a6044aa8d25080f17760cc9",
            "f1ef55add9cc4159b721c59985c21a69",
            "abc0654d2925492891ea38e9a8892610",
            "f72967a10524488c93478cff42de30c6",
            "0dbf1328e28d40fca5daa418622f4c53",
            "0ffaddd88fe24608a96e4f72aeaa642e",
            "c03043745f5a4023bd774b5c149a6472",
            "2513bb46f4014d1584d43a3eb8113707",
            "460067575f7e46fa8345ff73c1c79416",
            "b2e295830c0d44f2ac918d69a03ca3f2",
            "44b0f82889234413a18bb9dbef77b26c",
            "590f14b85e334cf48952f8b669cd7d8c",
            "2b9f36587b4e424e96975f3478d7be61",
            "bfed6ca58982467fb5c3a49d5d3e06a0",
            "ad10210dbf154bedafd9ee2c3ad25f33",
            "3419687ca7684949915d488370894a4f",
            "1f2d52688980408c9a89bd813600681d",
            "d55be1f947c74c03b696bad629da2763",
            "c35419a0b9724ccb90bdeafdb5a85271",
            "83acae39b014419cb478a4d925824b59",
            "88122c81797342f1bcb545172ed087d9",
            "7d92b923bb4e449998488f9c11dba5dc",
            "fab347b2fb6e456bafa6a716d30c7890",
            "2038385e4b9d41ceb5e97f18b432ed71",
            "2e0d10bfeca444a0b4b6a0a7de3ba014",
            "af242cb4b3e74484bd20ceaf9804fa0b",
            "e1a7d36fd2df4226919ae337fd5accd9",
            "9a196ffc01c3473ba2601d3b74d374b8",
            "5cc371dcfaf84945af3cd9aa0df9e775"
          ]
        },
        "id": "f0yd6SaurWSi",
        "outputId": "139f84fc-8c07-4005-95c0-7991cb838f9a"
      },
      "outputs": [],
      "source": [
        "db_features_model1 = extract_features(db_image_paths, model1)\n",
        "db_features_model2 = extract_features(db_image_paths, model2)\n",
        "db_features_model3 = extract_features(db_image_paths, model3)\n",
        "\n",
        "queries_features_model1 = extract_features(q_image_paths, model1)\n",
        "queries_features_model2 = extract_features(q_image_paths, model2)\n",
        "queries_features_model3 = extract_features(q_image_paths, model3)"
      ]
    },
    {
      "cell_type": "code",
      "execution_count": null,
      "metadata": {},
      "outputs": [],
      "source": [
        "queries_features_model1.shape, db_features_model1.shape"
      ]
    },
    {
      "cell_type": "markdown",
      "metadata": {
        "id": "4CiRDyuj7a68"
      },
      "source": [
        "## Image Similarity Search\n",
        "\n",
        "Once we have feature vectors representations, we can search similar by comparing the features vectors instead of pixels.\n",
        "\n",
        "We will compare feature vectors using the cosine similarity\n",
        "$$\n",
        " \\cos(a, b) = \\frac{a \\cdot b}{\\left\\lVert a \\right\\rVert_2 \\left\\lVert b \\right\\rVert_2},\n",
        "$$\n",
        "that ranges between 0 (low similarity) and 1 (high similarity).\n",
        "\n",
        "On normalized features ($\\left\\lVert a \\right\\rVert_2 = \\left\\lVert b \\right\\rVert_2 = 1$), the cosine similarity is equivalent to the dot product $a \\cdot b$. \n",
        "\n",
        "Let's select some query images for which we want to retrieve similar images in our database.\n",
        "We will perform a brute-force search (a.k.a. sequential scan) where we compare the queries' feature vectors with all the databases' feature vectors. (For $Q$ queries and $D$ database images, we will compute $N \\times D$ scores)."
      ]
    },
    {
      "cell_type": "markdown",
      "metadata": {
        "id": "hwqyNujbsK_c"
      },
      "source": [
        "We can compute all the dot products between queries $F_\\text{q} \\in \\mathbb{R}^{Q \\times 2048}$ and database feature vectors $F_\\text{db} \\in \\mathbb{R}^{D \\times 2048}$ using a single matrix multiplication\n",
        "$$\n",
        "S = \\{s_{ij}\\}= F_\\text{q} F_\\text{db}^T \\,,\n",
        "$$\n",
        "where the $s_{ij}$ element of $S$ is the cosine similarity between the $i$-th query $f_\\text{q}^i$ and the $j$-th database feature vector $f_\\text{db}^j$\n",
        "$$\n",
        "s_{ij} = f_\\text{q}^i \\cdot f_\\text{db}^j \\,.\n",
        "$$\n"
      ]
    },
    {
      "cell_type": "code",
      "execution_count": null,
      "metadata": {},
      "outputs": [],
      "source": [
        "# let's pick the features from the first model\n",
        "db_features = db_features_model1\n",
        "queries_features = queries_features_model1"
      ]
    },
    {
      "cell_type": "code",
      "execution_count": null,
      "metadata": {
        "colab": {
          "base_uri": "https://localhost:8080/"
        },
        "id": "Pq_fb4bZ5sNA",
        "outputId": "c117feac-4b0a-434d-f15e-130894604104"
      },
      "outputs": [],
      "source": [
        "scores = queries_features.dot(db_features.T)\n",
        "scores.shape"
      ]
    },
    {
      "cell_type": "code",
      "execution_count": null,
      "metadata": {
        "colab": {
          "base_uri": "https://localhost:8080/"
        },
        "id": "g1aBx5368GWu",
        "outputId": "299a22cd-76ad-4d29-ad98-3c032ee57b70"
      },
      "outputs": [],
      "source": [
        "nq, ndb = scores.shape\n",
        "\n",
        "k = 5\n",
        "sorted_scores = scores.argsort(axis=1)[:, ::-1]  # sort descending per row\n",
        "topk = sorted_scores[:, :k]  # get **indices** of the topk images for each row\n",
        "\n",
        "topk_scores = np.stack([scores[i, topk[i]] for i in range(nq)])  # get topk scores (comprehensible version)\n",
        "# topk_scores = scores[np.arange(nq)[:, None], topk]  # use the indices to get the topk scores (magic slicing version)\n",
        "\n",
        "topk_scores"
      ]
    },
    {
      "cell_type": "markdown",
      "metadata": {
        "id": "psH4XCeIuXgx"
      },
      "source": [
        "Let's define a helper function to select some images from a `tf.data.Dataset` pipeline."
      ]
    },
    {
      "cell_type": "code",
      "execution_count": null,
      "metadata": {
        "id": "lCDx25Eru9Sf"
      },
      "outputs": [],
      "source": [
        "def unpad_image(image_np):\n",
        "    # remove some whitespace around the images\n",
        "    image_np = np.stack([image_np, image_np, image_np], axis=-1) if image_np.ndim < 3 else image_np\n",
        "    rr, cc = np.nonzero((image_np != 255).any(axis=2))\n",
        "    y0, y1 = rr.min(), rr.max()\n",
        "    x0, x1 = cc.min(), cc.max()\n",
        "    return image_np[y0:y1+1, x0:x1+1]\n",
        "\n",
        "def show_images(paths, figsize=None):\n",
        "  n_images = len(paths)\n",
        "  fig, axes = plt.subplots(1, n_images, figsize=figsize)\n",
        "  for ax, path in zip(axes, paths):\n",
        "    image_np = plt.imread(path)\n",
        "    image_np = unpad_image(image_np)\n",
        "    image_np = resize(image_np, (363, 266))\n",
        "    ax.imshow(image_np)\n",
        "    ax.set_xticks([])\n",
        "    ax.set_yticks([])\n",
        "  \n",
        "  return fig"
      ]
    },
    {
      "cell_type": "code",
      "execution_count": null,
      "metadata": {
        "colab": {
          "base_uri": "https://localhost:8080/",
          "height": 494
        },
        "id": "1HCNbjt9B6hb",
        "outputId": "05d7bca8-699c-49a5-bcaa-5e888ba0bd19"
      },
      "outputs": [],
      "source": [
        "# show queries\n",
        "fig = show_images(q_image_paths, figsize=(1.5*nq, 5))\n",
        "\n",
        "# show topk similar \n",
        "fig, axes = plt.subplots(k, nq, figsize=(fig.get_figwidth(), 2*k))\n",
        "for j in range(k):\n",
        "  axes[j, 0].set_ylabel(f'Rank #{j}')\n",
        "  for i in range(nq):\n",
        "    image_np = plt.imread(db_image_paths[topk[i, j]])\n",
        "    image_np = unpad_image(image_np)\n",
        "    image_np = resize(image_np, (363, 266))\n",
        "    axes[j, i].imshow(image_np)\n",
        "    axes[j, i].set_title('score = {:.2f}'.format(topk_scores[i, j]))\n",
        "    axes[j, i].set_xticks([])\n",
        "    axes[j, i].set_yticks([])"
      ]
    },
    {
      "cell_type": "markdown",
      "metadata": {
        "id": "ZoFUP4VrgZWt"
      },
      "source": [
        "Let's now evaluate the retrieved results. Since our set is annotated, we consider a result **relevant** for a query if they belong to the same category label."
      ]
    },
    {
      "cell_type": "markdown",
      "metadata": {
        "id": "gLkBmHpQgW5u"
      },
      "source": [
        "First, we import the annotation available in our dataset."
      ]
    },
    {
      "cell_type": "code",
      "execution_count": null,
      "metadata": {
        "colab": {
          "base_uri": "https://localhost:8080/",
          "height": 832
        },
        "id": "9gVAFFqsgW6L",
        "outputId": "d7020ddf-981d-490a-bc7b-8bea5261fed2"
      },
      "outputs": [],
      "source": [
        "annot = pd.read_csv('data/fashion.csv', index_col=0)\n",
        "annot"
      ]
    },
    {
      "cell_type": "markdown",
      "metadata": {
        "id": "2BuPCX0IgW6M"
      },
      "source": [
        "We will build our groundtruth based on the **`Category`** column. Let's select the category labels for our queries and dataset."
      ]
    },
    {
      "cell_type": "code",
      "execution_count": null,
      "metadata": {
        "id": "I5lfBFh1gW6N"
      },
      "outputs": [],
      "source": [
        "db_image_ids = [int(p.stem) for p in db_image_paths]\n",
        "q_image_ids = [int(p.stem) for p in q_image_paths]\n",
        "\n",
        "db_labels = annot.loc[db_image_ids].Category\n",
        "q_labels = annot.loc[q_image_ids].Category"
      ]
    },
    {
      "cell_type": "markdown",
      "metadata": {
        "id": "Es9tAlZWiM29"
      },
      "source": [
        "We build a groundtruth matrix where `groundtruth[i,j]` is `True` if the database sample `j` is relevant for the query `i`."
      ]
    },
    {
      "cell_type": "code",
      "execution_count": null,
      "metadata": {
        "colab": {
          "base_uri": "https://localhost:8080/"
        },
        "id": "pYc_Bq_Veoif",
        "outputId": "1a5e0e5d-83d1-48ea-9cd7-640d6d7ce7c7"
      },
      "outputs": [],
      "source": [
        "groundtruth = np.empty((nq, ndb), dtype=bool)\n",
        "for i, qi_label in enumerate(q_labels):\n",
        "  for j, dbj_label in enumerate(db_labels):\n",
        "    groundtruth[i, j] = (qi_label == dbj_label)\n",
        "\n",
        "groundtruth"
      ]
    },
    {
      "cell_type": "markdown",
      "metadata": {
        "id": "KjnVveyRisBl"
      },
      "source": [
        "Given the score matrix (`scores`) and the groundtruth matrix (`groundtruth`), we can compute several metrics. Here, we use sklearn's [`average_precision_score`](https://scikit-learn.org/stable/modules/generated/sklearn.metrics.average_precision_score.html) that computes the average precision (AP) for a single query/result pair. We then report the mean among all the queries (mean Average Precision or mAP).\n",
        "\n",
        "**Note:** for simplicity, we are evaluating the entire result set, whereas usually, only the top `k` retrieved elements are considered when computing the mAP."
      ]
    },
    {
      "cell_type": "code",
      "execution_count": null,
      "metadata": {
        "id": "fKVCksl9irmT"
      },
      "outputs": [],
      "source": [
        "from sklearn.metrics import average_precision_score\n",
        "\n",
        "def compute_mean_ap(groundtruth, scores):\n",
        "  aps = []\n",
        "  for groundtruth_i, scores_i in zip(groundtruth, scores):\n",
        "    ap = average_precision_score(groundtruth_i, scores_i)\n",
        "    aps.append(ap)\n",
        "\n",
        "  return np.mean(aps)"
      ]
    },
    {
      "cell_type": "code",
      "execution_count": null,
      "metadata": {
        "colab": {
          "base_uri": "https://localhost:8080/"
        },
        "id": "fZv2CnSF0oJ0",
        "outputId": "a4440263-dae7-496c-de28-a56a38c1cc23"
      },
      "outputs": [],
      "source": [
        "compute_mean_ap(groundtruth, scores)"
      ]
    },
    {
      "cell_type": "markdown",
      "metadata": {
        "id": "bN6BpK7c0rXM"
      },
      "source": [
        "Let's compare the three models we have used:"
      ]
    },
    {
      "cell_type": "code",
      "execution_count": null,
      "metadata": {
        "colab": {
          "base_uri": "https://localhost:8080/"
        },
        "id": "tPLGfubZ0vIs",
        "outputId": "152da3d2-4d19-49d0-f3b7-da4c94e90bef"
      },
      "outputs": [],
      "source": [
        "scores1 = queries_features_model1.dot(db_features_model1.T)\n",
        "scores2 = queries_features_model2.dot(db_features_model2.T)\n",
        "scores3 = queries_features_model3.dot(db_features_model3.T)\n",
        "\n",
        "mean_ap1 = compute_mean_ap(groundtruth, scores1)\n",
        "mean_ap2 = compute_mean_ap(groundtruth, scores2)\n",
        "mean_ap3 = compute_mean_ap(groundtruth, scores3)\n",
        "\n",
        "print(f'EffNetB0 (IN-1k):     mAP={mean_ap1:.2%}')\n",
        "print(f'BiT (IN-21k):         mAP={mean_ap2:.2%}')\n",
        "print(f'BiT (Consumer Goods): mAP={mean_ap3:.2%}')"
      ]
    },
    {
      "cell_type": "markdown",
      "metadata": {},
      "source": [
        "#### **Exercise**: Visualize Results of Different Models\n",
        "\n",
        "Go back at the beginning of this section, try out features of other models, rerun the cells, and visualize the results.\n",
        "* What's the best model for this dataset?"
      ]
    },
    {
      "cell_type": "markdown",
      "metadata": {},
      "source": [
        "#### **Exercise**: Rerun Evaluation using a Different Groundtruth\n",
        "\n",
        "The presented dataset provides several annotations. So far, we have use the **`Category`** column as groundtruth.\n",
        "\n",
        "Try using different columns as groundtruth and rerun the evaluation.\n",
        "* How is the mean AP changing?\n",
        "* What's the best model for each groundtruth?"
      ]
    },
    {
      "cell_type": "markdown",
      "metadata": {
        "id": "KJpWsQPjTnCw"
      },
      "source": [
        "## Image Clustering"
      ]
    },
    {
      "cell_type": "markdown",
      "metadata": {
        "id": "Lgp-cagITo8H"
      },
      "source": [
        "Image representations can be used to explore an image dataset via clustering.\n",
        "We will use kMeans on feature vectors to group similar images together."
      ]
    },
    {
      "cell_type": "code",
      "execution_count": null,
      "metadata": {
        "id": "e0ugrGBmT1MA"
      },
      "outputs": [],
      "source": [
        "import itertools\n",
        "from collections import Counter\n",
        "from sklearn.cluster import KMeans"
      ]
    },
    {
      "cell_type": "code",
      "execution_count": null,
      "metadata": {
        "colab": {
          "base_uri": "https://localhost:8080/"
        },
        "id": "sHsEhWT0F4IP",
        "outputId": "a293d388-f210-41c1-99c3-391883f0464e"
      },
      "outputs": [],
      "source": [
        "n_clusters = 20\n",
        "kmeans = KMeans(n_clusters=n_clusters)\n",
        "kmeans.fit_predict(db_features)  # run kmeans on the db features to find centroids\n",
        "# kmeans.cluster_centers_  # uncomment to see the cluster centroids"
      ]
    },
    {
      "cell_type": "code",
      "execution_count": null,
      "metadata": {
        "colab": {
          "base_uri": "https://localhost:8080/"
        },
        "id": "SG67XinnUAcs",
        "outputId": "84822cab-d68f-4f0f-d07b-8762dc5417ec"
      },
      "outputs": [],
      "source": [
        "labels = kmeans.predict(db_features)  # assign each feature to the nearest cluster and return the cluster index\n",
        "\n",
        "# let's see how images are distributed among clusters\n",
        "counts = Counter(labels).most_common()  \n",
        "for cluster_idx, n_images in counts:\n",
        "  print(f'Cluster #{cluster_idx}: {n_images} samples')"
      ]
    },
    {
      "cell_type": "markdown",
      "metadata": {
        "id": "USBH9--BxkDH"
      },
      "source": [
        "It is often useful to visualize the 'most central' sample for each cluster, that is, the sample of that cluster that is nearest to its centroid.\n",
        "We refer to these samples as the _representative_ ones. Let's find them."
      ]
    },
    {
      "cell_type": "code",
      "execution_count": null,
      "metadata": {
        "id": "W88U15DyUW2i"
      },
      "outputs": [],
      "source": [
        "distances_to_centroids = kmeans.transform(db_features)  # .transform() computes the distances between features and all centroids\n",
        "representatives = distances_to_centroids.argmin(axis=0)  # for each centroid, we find the index of the sample with the smallest distance, that's the representative one."
      ]
    },
    {
      "cell_type": "markdown",
      "metadata": {
        "id": "LKpm2yhKyVv-"
      },
      "source": [
        "Let's plot the clusters."
      ]
    },
    {
      "cell_type": "code",
      "execution_count": null,
      "metadata": {
        "colab": {
          "base_uri": "https://localhost:8080/",
          "height": 388
        },
        "id": "KlqSwIYFVOpd",
        "outputId": "019f1360-96a8-4b55-98fc-e02b7be0a40d"
      },
      "outputs": [],
      "source": [
        "maxsize = counts[0][1]  # size of the biggest cluster\n",
        "fig, axes = plt.subplots(n_clusters, maxsize, figsize=(2*maxsize, 1.75*n_clusters))\n",
        "\n",
        "# hide ticks and spines\n",
        "for ax in axes.flatten():\n",
        "  ax.set_xticks([])\n",
        "  ax.set_yticks([])\n",
        "  plt.setp(ax.spines.values(), visible=False)\n",
        "\n",
        "# we create cluster groups by sorting and grouping by cluster labels\n",
        "labels_and_idx = [(l, i) for i, l in enumerate(labels)]\n",
        "labels_and_idx = sorted(labels_and_idx)\n",
        "cluster_groups = itertools.groupby(labels_and_idx, key=lambda x: x[0])\n",
        "\n",
        "# for each group, we plot the belonging images in a row\n",
        "for cluster_idx, cluster in cluster_groups:\n",
        "  axes[cluster_idx, 0].set_ylabel(f'Cluster #{cluster_idx}')\n",
        "  \n",
        "  for i, (_, sample_idx) in enumerate(cluster):\n",
        "    image_np = plt.imread(db_image_paths[sample_idx])\n",
        "    image_np = unpad_image(image_np)\n",
        "    image_np = resize(image_np, (182, 133))\n",
        "    axes[cluster_idx, i].imshow(image_np)\n",
        "\n",
        "    # highlight the representative sample of the cluster\n",
        "    if sample_idx in representatives:  \n",
        "      plt.setp(axes[cluster_idx, i].spines.values(), edgecolor='blue', linewidth=5, visible=True)\n",
        "\n",
        "plt.subplots_adjust(wspace=0)"
      ]
    },
    {
      "cell_type": "markdown",
      "metadata": {},
      "source": [
        "#### **Exercise**: Explore Image Clustering\n",
        "\n",
        "* Try out different values of `n_clusters`. How does the quality of clusters change?\n",
        "* (Optional) Compute the **purity** of each cluster (percentage of the majority category in the cluster)."
      ]
    },
    {
      "cell_type": "markdown",
      "metadata": {
        "id": "cnUMm8hk0KEQ"
      },
      "source": [
        "## Image Classification via Transfer Learning"
      ]
    },
    {
      "cell_type": "markdown",
      "metadata": {
        "id": "JOPcq6cN6xvu"
      },
      "source": [
        "\n",
        "A good general representation can also be used to solve specialized tasks.\n",
        "This is known as transfer learning, in which we transfer knowledge from a model pretrained on a more generic task to our specialized one.\n",
        "This often has the advantage of needing way less data to solve the task.\n",
        "\n",
        "Let's see how we can exploit the representation we extracted to build simple image classifiers.\n"
      ]
    },
    {
      "cell_type": "markdown",
      "metadata": {
        "id": "Zx9iV0ui9mbw"
      },
      "source": [
        "First, we import the annotation available in our dataset."
      ]
    },
    {
      "cell_type": "code",
      "execution_count": null,
      "metadata": {
        "colab": {
          "base_uri": "https://localhost:8080/",
          "height": 832
        },
        "id": "1ebWEopc9rsF",
        "outputId": "88fe39ca-3168-4129-d990-95a766c84ccb"
      },
      "outputs": [],
      "source": [
        "annot = pd.read_csv('data/fashion.csv', index_col=0)\n",
        "annot"
      ]
    },
    {
      "cell_type": "markdown",
      "metadata": {
        "id": "fNLA0afY9tvu"
      },
      "source": [
        "We choose to build a classifier that identifies the correct **`Category`** of a depicted fashion item.\n",
        "Our classifier will use the features extracted from the image as input and provide the prediction of the category.\n",
        "\n",
        "Let's use the database and queries we previously selected as training and test sets respectively.\n",
        "We split the annotations using `pandas`."
      ]
    },
    {
      "cell_type": "code",
      "execution_count": null,
      "metadata": {
        "id": "fio9gF5XzOrY"
      },
      "outputs": [],
      "source": [
        "db_image_ids = [int(p.stem) for p in db_image_paths]\n",
        "q_image_ids = [int(p.stem) for p in q_image_paths]\n",
        "\n",
        "db_annot = annot.loc[db_image_ids]\n",
        "q_annot = annot.loc[q_image_ids]"
      ]
    },
    {
      "cell_type": "markdown",
      "metadata": {
        "id": "dU4fNt9B-YT8"
      },
      "source": [
        "Now, we build a simple classifier using `sklearn`.\n",
        "Here, we choose a [Support Vector Machine with Radial Basis Function](https://scikit-learn.org/stable/modules/generated/sklearn.svm.SVC.html) as classifier using the default parameters set by `sklearn`.\n",
        "\n",
        "However, you can freely choose among many ready-to-use classifiers, check [this page](https://scikit-learn.org/stable/auto_examples/classification/plot_classifier_comparison.html) for more info.\n"
      ]
    },
    {
      "cell_type": "code",
      "execution_count": null,
      "metadata": {
        "colab": {
          "base_uri": "https://localhost:8080/"
        },
        "id": "gTcvpACE1aSV",
        "outputId": "b20fde6c-a1f3-4fd1-fe86-e0dc10627059"
      },
      "outputs": [],
      "source": [
        "from sklearn.svm import SVC\n",
        "classifier = SVC()\n",
        "classifier.fit(db_features, db_annot.Category)"
      ]
    },
    {
      "cell_type": "markdown",
      "metadata": {
        "id": "KCAbLeJmAlvS"
      },
      "source": [
        "Once trained, we make predictions on our test set and compare them with annotations."
      ]
    },
    {
      "cell_type": "code",
      "execution_count": null,
      "metadata": {
        "colab": {
          "base_uri": "https://localhost:8080/"
        },
        "id": "tu7o58cp4Ytv",
        "outputId": "b47ed703-b401-4aa6-e359-937cbbff2a6e"
      },
      "outputs": [],
      "source": [
        "q_predictions = classifier.predict(queries_features)\n",
        "q_predictions"
      ]
    },
    {
      "cell_type": "code",
      "execution_count": null,
      "metadata": {
        "colab": {
          "base_uri": "https://localhost:8080/"
        },
        "id": "5kxXybG06SYp",
        "outputId": "b1a17567-f42d-478e-eaa4-23a3bf87a028"
      },
      "outputs": [],
      "source": [
        "q_annot.Category == q_predictions"
      ]
    },
    {
      "cell_type": "markdown",
      "metadata": {},
      "source": [
        "#### **Exercise**: Train and Evaluate the Classifier to Predict a Different Label\n",
        "\n",
        "The presented dataset provides several annotations. So far, we have use the **`Category`** column as prediction target.\n",
        "\n",
        "Try training classifiers for other columns.\n",
        "* How is the accuracy changing?\n",
        "* What are the best features for each prediction target?"
      ]
    },
    {
      "cell_type": "markdown",
      "metadata": {
        "id": "9FlGN5rzgQir"
      },
      "source": [
        "## Additional Resources\n",
        "\n",
        "* [Transfer Learning Tutorial](https://www.tensorflow.org/tutorials/images/transfer_learning) (TensorFlow)\n",
        "* [Transfer Learning Tutorial](https://pytorch.org/tutorials/beginner/transfer_learning_tutorial.html) (PyTorch)\n",
        "* [PyTorch Model Zoo](http://pytorch.org/serve/model_zoo.html)\n"
      ]
    }
  ],
  "metadata": {
    "accelerator": "GPU",
    "colab": {
      "collapsed_sections": [],
      "include_colab_link": true,
      "name": "ol2_image_representation_search_clustering.ipynb",
      "provenance": []
    },
    "gpuClass": "standard",
    "kernelspec": {
      "display_name": "Python 3",
      "name": "python3"
    },
    "language_info": {
      "name": "python"
    },
    "widgets": {
      "application/vnd.jupyter.widget-state+json": {
        "0483ecfa33e34278bc2a6c2dbbe69cdf": {
          "model_module": "@jupyter-widgets/controls",
          "model_module_version": "1.5.0",
          "model_name": "HBoxModel",
          "state": {
            "_dom_classes": [],
            "_model_module": "@jupyter-widgets/controls",
            "_model_module_version": "1.5.0",
            "_model_name": "HBoxModel",
            "_view_count": null,
            "_view_module": "@jupyter-widgets/controls",
            "_view_module_version": "1.5.0",
            "_view_name": "HBoxView",
            "box_style": "",
            "children": [
              "IPY_MODEL_904f6887027648e9b5ec8f4d40585f86",
              "IPY_MODEL_c92fa2f8898f4b22bcb510434b6a9f79",
              "IPY_MODEL_ccbf770b8b0f44409e053f3855e053ef"
            ],
            "layout": "IPY_MODEL_9ae93afe9a6044aa8d25080f17760cc9"
          }
        },
        "0a7af6e1edf6497baea5185f919d0bdd": {
          "model_module": "@jupyter-widgets/controls",
          "model_module_version": "1.5.0",
          "model_name": "DescriptionStyleModel",
          "state": {
            "_model_module": "@jupyter-widgets/controls",
            "_model_module_version": "1.5.0",
            "_model_name": "DescriptionStyleModel",
            "_view_count": null,
            "_view_module": "@jupyter-widgets/base",
            "_view_module_version": "1.2.0",
            "_view_name": "StyleView",
            "description_width": ""
          }
        },
        "0d405ea0fcf6401eb154b6b40d348f13": {
          "model_module": "@jupyter-widgets/controls",
          "model_module_version": "1.5.0",
          "model_name": "HBoxModel",
          "state": {
            "_dom_classes": [],
            "_model_module": "@jupyter-widgets/controls",
            "_model_module_version": "1.5.0",
            "_model_name": "HBoxModel",
            "_view_count": null,
            "_view_module": "@jupyter-widgets/controls",
            "_view_module_version": "1.5.0",
            "_view_name": "HBoxView",
            "box_style": "",
            "children": [
              "IPY_MODEL_ea0b7a43e4fd42869c5b63c5951625c6",
              "IPY_MODEL_fcc9cbd29f3e409195f6978ca62ee2b8",
              "IPY_MODEL_2e3f18035af1427b99cbb61def2837e8"
            ],
            "layout": "IPY_MODEL_135ffbd3d8ca475795392b08881af6b8"
          }
        },
        "0dbf1328e28d40fca5daa418622f4c53": {
          "model_module": "@jupyter-widgets/controls",
          "model_module_version": "1.5.0",
          "model_name": "ProgressStyleModel",
          "state": {
            "_model_module": "@jupyter-widgets/controls",
            "_model_module_version": "1.5.0",
            "_model_name": "ProgressStyleModel",
            "_view_count": null,
            "_view_module": "@jupyter-widgets/base",
            "_view_module_version": "1.2.0",
            "_view_name": "StyleView",
            "bar_color": null,
            "description_width": ""
          }
        },
        "0ffaddd88fe24608a96e4f72aeaa642e": {
          "model_module": "@jupyter-widgets/base",
          "model_module_version": "1.2.0",
          "model_name": "LayoutModel",
          "state": {
            "_model_module": "@jupyter-widgets/base",
            "_model_module_version": "1.2.0",
            "_model_name": "LayoutModel",
            "_view_count": null,
            "_view_module": "@jupyter-widgets/base",
            "_view_module_version": "1.2.0",
            "_view_name": "LayoutView",
            "align_content": null,
            "align_items": null,
            "align_self": null,
            "border": null,
            "bottom": null,
            "display": null,
            "flex": null,
            "flex_flow": null,
            "grid_area": null,
            "grid_auto_columns": null,
            "grid_auto_flow": null,
            "grid_auto_rows": null,
            "grid_column": null,
            "grid_gap": null,
            "grid_row": null,
            "grid_template_areas": null,
            "grid_template_columns": null,
            "grid_template_rows": null,
            "height": null,
            "justify_content": null,
            "justify_items": null,
            "left": null,
            "margin": null,
            "max_height": null,
            "max_width": null,
            "min_height": null,
            "min_width": null,
            "object_fit": null,
            "object_position": null,
            "order": null,
            "overflow": null,
            "overflow_x": null,
            "overflow_y": null,
            "padding": null,
            "right": null,
            "top": null,
            "visibility": null,
            "width": null
          }
        },
        "135ffbd3d8ca475795392b08881af6b8": {
          "model_module": "@jupyter-widgets/base",
          "model_module_version": "1.2.0",
          "model_name": "LayoutModel",
          "state": {
            "_model_module": "@jupyter-widgets/base",
            "_model_module_version": "1.2.0",
            "_model_name": "LayoutModel",
            "_view_count": null,
            "_view_module": "@jupyter-widgets/base",
            "_view_module_version": "1.2.0",
            "_view_name": "LayoutView",
            "align_content": null,
            "align_items": null,
            "align_self": null,
            "border": null,
            "bottom": null,
            "display": null,
            "flex": null,
            "flex_flow": null,
            "grid_area": null,
            "grid_auto_columns": null,
            "grid_auto_flow": null,
            "grid_auto_rows": null,
            "grid_column": null,
            "grid_gap": null,
            "grid_row": null,
            "grid_template_areas": null,
            "grid_template_columns": null,
            "grid_template_rows": null,
            "height": null,
            "justify_content": null,
            "justify_items": null,
            "left": null,
            "margin": null,
            "max_height": null,
            "max_width": null,
            "min_height": null,
            "min_width": null,
            "object_fit": null,
            "object_position": null,
            "order": null,
            "overflow": null,
            "overflow_x": null,
            "overflow_y": null,
            "padding": null,
            "right": null,
            "top": null,
            "visibility": null,
            "width": null
          }
        },
        "17c96bbbbe7545f4a093832e1fb56998": {
          "model_module": "@jupyter-widgets/base",
          "model_module_version": "1.2.0",
          "model_name": "LayoutModel",
          "state": {
            "_model_module": "@jupyter-widgets/base",
            "_model_module_version": "1.2.0",
            "_model_name": "LayoutModel",
            "_view_count": null,
            "_view_module": "@jupyter-widgets/base",
            "_view_module_version": "1.2.0",
            "_view_name": "LayoutView",
            "align_content": null,
            "align_items": null,
            "align_self": null,
            "border": null,
            "bottom": null,
            "display": null,
            "flex": null,
            "flex_flow": null,
            "grid_area": null,
            "grid_auto_columns": null,
            "grid_auto_flow": null,
            "grid_auto_rows": null,
            "grid_column": null,
            "grid_gap": null,
            "grid_row": null,
            "grid_template_areas": null,
            "grid_template_columns": null,
            "grid_template_rows": null,
            "height": null,
            "justify_content": null,
            "justify_items": null,
            "left": null,
            "margin": null,
            "max_height": null,
            "max_width": null,
            "min_height": null,
            "min_width": null,
            "object_fit": null,
            "object_position": null,
            "order": null,
            "overflow": null,
            "overflow_x": null,
            "overflow_y": null,
            "padding": null,
            "right": null,
            "top": null,
            "visibility": null,
            "width": null
          }
        },
        "1f2d52688980408c9a89bd813600681d": {
          "model_module": "@jupyter-widgets/base",
          "model_module_version": "1.2.0",
          "model_name": "LayoutModel",
          "state": {
            "_model_module": "@jupyter-widgets/base",
            "_model_module_version": "1.2.0",
            "_model_name": "LayoutModel",
            "_view_count": null,
            "_view_module": "@jupyter-widgets/base",
            "_view_module_version": "1.2.0",
            "_view_name": "LayoutView",
            "align_content": null,
            "align_items": null,
            "align_self": null,
            "border": null,
            "bottom": null,
            "display": null,
            "flex": null,
            "flex_flow": null,
            "grid_area": null,
            "grid_auto_columns": null,
            "grid_auto_flow": null,
            "grid_auto_rows": null,
            "grid_column": null,
            "grid_gap": null,
            "grid_row": null,
            "grid_template_areas": null,
            "grid_template_columns": null,
            "grid_template_rows": null,
            "height": null,
            "justify_content": null,
            "justify_items": null,
            "left": null,
            "margin": null,
            "max_height": null,
            "max_width": null,
            "min_height": null,
            "min_width": null,
            "object_fit": null,
            "object_position": null,
            "order": null,
            "overflow": null,
            "overflow_x": null,
            "overflow_y": null,
            "padding": null,
            "right": null,
            "top": null,
            "visibility": null,
            "width": null
          }
        },
        "2038385e4b9d41ceb5e97f18b432ed71": {
          "model_module": "@jupyter-widgets/base",
          "model_module_version": "1.2.0",
          "model_name": "LayoutModel",
          "state": {
            "_model_module": "@jupyter-widgets/base",
            "_model_module_version": "1.2.0",
            "_model_name": "LayoutModel",
            "_view_count": null,
            "_view_module": "@jupyter-widgets/base",
            "_view_module_version": "1.2.0",
            "_view_name": "LayoutView",
            "align_content": null,
            "align_items": null,
            "align_self": null,
            "border": null,
            "bottom": null,
            "display": null,
            "flex": null,
            "flex_flow": null,
            "grid_area": null,
            "grid_auto_columns": null,
            "grid_auto_flow": null,
            "grid_auto_rows": null,
            "grid_column": null,
            "grid_gap": null,
            "grid_row": null,
            "grid_template_areas": null,
            "grid_template_columns": null,
            "grid_template_rows": null,
            "height": null,
            "justify_content": null,
            "justify_items": null,
            "left": null,
            "margin": null,
            "max_height": null,
            "max_width": null,
            "min_height": null,
            "min_width": null,
            "object_fit": null,
            "object_position": null,
            "order": null,
            "overflow": null,
            "overflow_x": null,
            "overflow_y": null,
            "padding": null,
            "right": null,
            "top": null,
            "visibility": null,
            "width": null
          }
        },
        "2513bb46f4014d1584d43a3eb8113707": {
          "model_module": "@jupyter-widgets/controls",
          "model_module_version": "1.5.0",
          "model_name": "HBoxModel",
          "state": {
            "_dom_classes": [],
            "_model_module": "@jupyter-widgets/controls",
            "_model_module_version": "1.5.0",
            "_model_name": "HBoxModel",
            "_view_count": null,
            "_view_module": "@jupyter-widgets/controls",
            "_view_module_version": "1.5.0",
            "_view_name": "HBoxView",
            "box_style": "",
            "children": [
              "IPY_MODEL_460067575f7e46fa8345ff73c1c79416",
              "IPY_MODEL_b2e295830c0d44f2ac918d69a03ca3f2",
              "IPY_MODEL_44b0f82889234413a18bb9dbef77b26c"
            ],
            "layout": "IPY_MODEL_590f14b85e334cf48952f8b669cd7d8c"
          }
        },
        "2b9f36587b4e424e96975f3478d7be61": {
          "model_module": "@jupyter-widgets/base",
          "model_module_version": "1.2.0",
          "model_name": "LayoutModel",
          "state": {
            "_model_module": "@jupyter-widgets/base",
            "_model_module_version": "1.2.0",
            "_model_name": "LayoutModel",
            "_view_count": null,
            "_view_module": "@jupyter-widgets/base",
            "_view_module_version": "1.2.0",
            "_view_name": "LayoutView",
            "align_content": null,
            "align_items": null,
            "align_self": null,
            "border": null,
            "bottom": null,
            "display": null,
            "flex": null,
            "flex_flow": null,
            "grid_area": null,
            "grid_auto_columns": null,
            "grid_auto_flow": null,
            "grid_auto_rows": null,
            "grid_column": null,
            "grid_gap": null,
            "grid_row": null,
            "grid_template_areas": null,
            "grid_template_columns": null,
            "grid_template_rows": null,
            "height": null,
            "justify_content": null,
            "justify_items": null,
            "left": null,
            "margin": null,
            "max_height": null,
            "max_width": null,
            "min_height": null,
            "min_width": null,
            "object_fit": null,
            "object_position": null,
            "order": null,
            "overflow": null,
            "overflow_x": null,
            "overflow_y": null,
            "padding": null,
            "right": null,
            "top": null,
            "visibility": null,
            "width": null
          }
        },
        "2e0d10bfeca444a0b4b6a0a7de3ba014": {
          "model_module": "@jupyter-widgets/controls",
          "model_module_version": "1.5.0",
          "model_name": "DescriptionStyleModel",
          "state": {
            "_model_module": "@jupyter-widgets/controls",
            "_model_module_version": "1.5.0",
            "_model_name": "DescriptionStyleModel",
            "_view_count": null,
            "_view_module": "@jupyter-widgets/base",
            "_view_module_version": "1.2.0",
            "_view_name": "StyleView",
            "description_width": ""
          }
        },
        "2e3f18035af1427b99cbb61def2837e8": {
          "model_module": "@jupyter-widgets/controls",
          "model_module_version": "1.5.0",
          "model_name": "HTMLModel",
          "state": {
            "_dom_classes": [],
            "_model_module": "@jupyter-widgets/controls",
            "_model_module_version": "1.5.0",
            "_model_name": "HTMLModel",
            "_view_count": null,
            "_view_module": "@jupyter-widgets/controls",
            "_view_module_version": "1.5.0",
            "_view_name": "HTMLView",
            "description": "",
            "description_tooltip": null,
            "layout": "IPY_MODEL_fa69bb9f1358411eb3006d5da45306d2",
            "placeholder": "​",
            "style": "IPY_MODEL_d1668792fc20435ba0adba0448c82fa8",
            "value": " 500/500 [06:38&lt;00:00,  1.30it/s]"
          }
        },
        "31498f498a8541a6be6e108cbc2f1877": {
          "model_module": "@jupyter-widgets/base",
          "model_module_version": "1.2.0",
          "model_name": "LayoutModel",
          "state": {
            "_model_module": "@jupyter-widgets/base",
            "_model_module_version": "1.2.0",
            "_model_name": "LayoutModel",
            "_view_count": null,
            "_view_module": "@jupyter-widgets/base",
            "_view_module_version": "1.2.0",
            "_view_name": "LayoutView",
            "align_content": null,
            "align_items": null,
            "align_self": null,
            "border": null,
            "bottom": null,
            "display": null,
            "flex": null,
            "flex_flow": null,
            "grid_area": null,
            "grid_auto_columns": null,
            "grid_auto_flow": null,
            "grid_auto_rows": null,
            "grid_column": null,
            "grid_gap": null,
            "grid_row": null,
            "grid_template_areas": null,
            "grid_template_columns": null,
            "grid_template_rows": null,
            "height": null,
            "justify_content": null,
            "justify_items": null,
            "left": null,
            "margin": null,
            "max_height": null,
            "max_width": null,
            "min_height": null,
            "min_width": null,
            "object_fit": null,
            "object_position": null,
            "order": null,
            "overflow": null,
            "overflow_x": null,
            "overflow_y": null,
            "padding": null,
            "right": null,
            "top": null,
            "visibility": null,
            "width": null
          }
        },
        "3419687ca7684949915d488370894a4f": {
          "model_module": "@jupyter-widgets/controls",
          "model_module_version": "1.5.0",
          "model_name": "ProgressStyleModel",
          "state": {
            "_model_module": "@jupyter-widgets/controls",
            "_model_module_version": "1.5.0",
            "_model_name": "ProgressStyleModel",
            "_view_count": null,
            "_view_module": "@jupyter-widgets/base",
            "_view_module_version": "1.2.0",
            "_view_name": "StyleView",
            "bar_color": null,
            "description_width": ""
          }
        },
        "3c3c23ab541b4513b3a670b891e5b8fb": {
          "model_module": "@jupyter-widgets/controls",
          "model_module_version": "1.5.0",
          "model_name": "DescriptionStyleModel",
          "state": {
            "_model_module": "@jupyter-widgets/controls",
            "_model_module_version": "1.5.0",
            "_model_name": "DescriptionStyleModel",
            "_view_count": null,
            "_view_module": "@jupyter-widgets/base",
            "_view_module_version": "1.2.0",
            "_view_name": "StyleView",
            "description_width": ""
          }
        },
        "4003223350e346abbbcf425757e3912a": {
          "model_module": "@jupyter-widgets/controls",
          "model_module_version": "1.5.0",
          "model_name": "HTMLModel",
          "state": {
            "_dom_classes": [],
            "_model_module": "@jupyter-widgets/controls",
            "_model_module_version": "1.5.0",
            "_model_name": "HTMLModel",
            "_view_count": null,
            "_view_module": "@jupyter-widgets/controls",
            "_view_module_version": "1.5.0",
            "_view_name": "HTMLView",
            "description": "",
            "description_tooltip": null,
            "layout": "IPY_MODEL_31498f498a8541a6be6e108cbc2f1877",
            "placeholder": "​",
            "style": "IPY_MODEL_69898033d36d48129f9f583cb1abd9b1",
            "value": "100%"
          }
        },
        "400e9a64ce3640dd9ae91a9bed1239bb": {
          "model_module": "@jupyter-widgets/controls",
          "model_module_version": "1.5.0",
          "model_name": "DescriptionStyleModel",
          "state": {
            "_model_module": "@jupyter-widgets/controls",
            "_model_module_version": "1.5.0",
            "_model_name": "DescriptionStyleModel",
            "_view_count": null,
            "_view_module": "@jupyter-widgets/base",
            "_view_module_version": "1.2.0",
            "_view_name": "StyleView",
            "description_width": ""
          }
        },
        "44b0f82889234413a18bb9dbef77b26c": {
          "model_module": "@jupyter-widgets/controls",
          "model_module_version": "1.5.0",
          "model_name": "HTMLModel",
          "state": {
            "_dom_classes": [],
            "_model_module": "@jupyter-widgets/controls",
            "_model_module_version": "1.5.0",
            "_model_name": "HTMLModel",
            "_view_count": null,
            "_view_module": "@jupyter-widgets/controls",
            "_view_module_version": "1.5.0",
            "_view_name": "HTMLView",
            "description": "",
            "description_tooltip": null,
            "layout": "IPY_MODEL_1f2d52688980408c9a89bd813600681d",
            "placeholder": "​",
            "style": "IPY_MODEL_d55be1f947c74c03b696bad629da2763",
            "value": " 15/15 [00:11&lt;00:00,  1.30it/s]"
          }
        },
        "460067575f7e46fa8345ff73c1c79416": {
          "model_module": "@jupyter-widgets/controls",
          "model_module_version": "1.5.0",
          "model_name": "HTMLModel",
          "state": {
            "_dom_classes": [],
            "_model_module": "@jupyter-widgets/controls",
            "_model_module_version": "1.5.0",
            "_model_name": "HTMLModel",
            "_view_count": null,
            "_view_module": "@jupyter-widgets/controls",
            "_view_module_version": "1.5.0",
            "_view_name": "HTMLView",
            "description": "",
            "description_tooltip": null,
            "layout": "IPY_MODEL_2b9f36587b4e424e96975f3478d7be61",
            "placeholder": "​",
            "style": "IPY_MODEL_bfed6ca58982467fb5c3a49d5d3e06a0",
            "value": "100%"
          }
        },
        "4ff2b68ca099417283b410782a4e0a2a": {
          "model_module": "@jupyter-widgets/controls",
          "model_module_version": "1.5.0",
          "model_name": "HTMLModel",
          "state": {
            "_dom_classes": [],
            "_model_module": "@jupyter-widgets/controls",
            "_model_module_version": "1.5.0",
            "_model_name": "HTMLModel",
            "_view_count": null,
            "_view_module": "@jupyter-widgets/controls",
            "_view_module_version": "1.5.0",
            "_view_name": "HTMLView",
            "description": "",
            "description_tooltip": null,
            "layout": "IPY_MODEL_86cfa76163c44a11a144c9e77801c49f",
            "placeholder": "​",
            "style": "IPY_MODEL_400e9a64ce3640dd9ae91a9bed1239bb",
            "value": " 500/500 [06:40&lt;00:00,  1.30it/s]"
          }
        },
        "590f14b85e334cf48952f8b669cd7d8c": {
          "model_module": "@jupyter-widgets/base",
          "model_module_version": "1.2.0",
          "model_name": "LayoutModel",
          "state": {
            "_model_module": "@jupyter-widgets/base",
            "_model_module_version": "1.2.0",
            "_model_name": "LayoutModel",
            "_view_count": null,
            "_view_module": "@jupyter-widgets/base",
            "_view_module_version": "1.2.0",
            "_view_name": "LayoutView",
            "align_content": null,
            "align_items": null,
            "align_self": null,
            "border": null,
            "bottom": null,
            "display": null,
            "flex": null,
            "flex_flow": null,
            "grid_area": null,
            "grid_auto_columns": null,
            "grid_auto_flow": null,
            "grid_auto_rows": null,
            "grid_column": null,
            "grid_gap": null,
            "grid_row": null,
            "grid_template_areas": null,
            "grid_template_columns": null,
            "grid_template_rows": null,
            "height": null,
            "justify_content": null,
            "justify_items": null,
            "left": null,
            "margin": null,
            "max_height": null,
            "max_width": null,
            "min_height": null,
            "min_width": null,
            "object_fit": null,
            "object_position": null,
            "order": null,
            "overflow": null,
            "overflow_x": null,
            "overflow_y": null,
            "padding": null,
            "right": null,
            "top": null,
            "visibility": null,
            "width": null
          }
        },
        "5cc371dcfaf84945af3cd9aa0df9e775": {
          "model_module": "@jupyter-widgets/controls",
          "model_module_version": "1.5.0",
          "model_name": "DescriptionStyleModel",
          "state": {
            "_model_module": "@jupyter-widgets/controls",
            "_model_module_version": "1.5.0",
            "_model_name": "DescriptionStyleModel",
            "_view_count": null,
            "_view_module": "@jupyter-widgets/base",
            "_view_module_version": "1.2.0",
            "_view_name": "StyleView",
            "description_width": ""
          }
        },
        "69898033d36d48129f9f583cb1abd9b1": {
          "model_module": "@jupyter-widgets/controls",
          "model_module_version": "1.5.0",
          "model_name": "DescriptionStyleModel",
          "state": {
            "_model_module": "@jupyter-widgets/controls",
            "_model_module_version": "1.5.0",
            "_model_name": "DescriptionStyleModel",
            "_view_count": null,
            "_view_module": "@jupyter-widgets/base",
            "_view_module_version": "1.2.0",
            "_view_name": "StyleView",
            "description_width": ""
          }
        },
        "69e74bdb86934aff82ca2acf1e012fe5": {
          "model_module": "@jupyter-widgets/controls",
          "model_module_version": "1.5.0",
          "model_name": "HTMLModel",
          "state": {
            "_dom_classes": [],
            "_model_module": "@jupyter-widgets/controls",
            "_model_module_version": "1.5.0",
            "_model_name": "HTMLModel",
            "_view_count": null,
            "_view_module": "@jupyter-widgets/controls",
            "_view_module_version": "1.5.0",
            "_view_name": "HTMLView",
            "description": "",
            "description_tooltip": null,
            "layout": "IPY_MODEL_b286742230124553ad6e3c2ec822af4f",
            "placeholder": "​",
            "style": "IPY_MODEL_80a059aff8e94945a0d3be941ff9e9b5",
            "value": " 500/500 [01:38&lt;00:00,  5.94it/s]"
          }
        },
        "6eef8cdfc6f54cebacd73094e5621d57": {
          "model_module": "@jupyter-widgets/base",
          "model_module_version": "1.2.0",
          "model_name": "LayoutModel",
          "state": {
            "_model_module": "@jupyter-widgets/base",
            "_model_module_version": "1.2.0",
            "_model_name": "LayoutModel",
            "_view_count": null,
            "_view_module": "@jupyter-widgets/base",
            "_view_module_version": "1.2.0",
            "_view_name": "LayoutView",
            "align_content": null,
            "align_items": null,
            "align_self": null,
            "border": null,
            "bottom": null,
            "display": null,
            "flex": null,
            "flex_flow": null,
            "grid_area": null,
            "grid_auto_columns": null,
            "grid_auto_flow": null,
            "grid_auto_rows": null,
            "grid_column": null,
            "grid_gap": null,
            "grid_row": null,
            "grid_template_areas": null,
            "grid_template_columns": null,
            "grid_template_rows": null,
            "height": null,
            "justify_content": null,
            "justify_items": null,
            "left": null,
            "margin": null,
            "max_height": null,
            "max_width": null,
            "min_height": null,
            "min_width": null,
            "object_fit": null,
            "object_position": null,
            "order": null,
            "overflow": null,
            "overflow_x": null,
            "overflow_y": null,
            "padding": null,
            "right": null,
            "top": null,
            "visibility": null,
            "width": null
          }
        },
        "7d92b923bb4e449998488f9c11dba5dc": {
          "model_module": "@jupyter-widgets/controls",
          "model_module_version": "1.5.0",
          "model_name": "HTMLModel",
          "state": {
            "_dom_classes": [],
            "_model_module": "@jupyter-widgets/controls",
            "_model_module_version": "1.5.0",
            "_model_name": "HTMLModel",
            "_view_count": null,
            "_view_module": "@jupyter-widgets/controls",
            "_view_module_version": "1.5.0",
            "_view_name": "HTMLView",
            "description": "",
            "description_tooltip": null,
            "layout": "IPY_MODEL_9a196ffc01c3473ba2601d3b74d374b8",
            "placeholder": "​",
            "style": "IPY_MODEL_5cc371dcfaf84945af3cd9aa0df9e775",
            "value": " 15/15 [00:12&lt;00:00,  1.30it/s]"
          }
        },
        "80a059aff8e94945a0d3be941ff9e9b5": {
          "model_module": "@jupyter-widgets/controls",
          "model_module_version": "1.5.0",
          "model_name": "DescriptionStyleModel",
          "state": {
            "_model_module": "@jupyter-widgets/controls",
            "_model_module_version": "1.5.0",
            "_model_name": "DescriptionStyleModel",
            "_view_count": null,
            "_view_module": "@jupyter-widgets/base",
            "_view_module_version": "1.2.0",
            "_view_name": "StyleView",
            "description_width": ""
          }
        },
        "83acae39b014419cb478a4d925824b59": {
          "model_module": "@jupyter-widgets/controls",
          "model_module_version": "1.5.0",
          "model_name": "HTMLModel",
          "state": {
            "_dom_classes": [],
            "_model_module": "@jupyter-widgets/controls",
            "_model_module_version": "1.5.0",
            "_model_name": "HTMLModel",
            "_view_count": null,
            "_view_module": "@jupyter-widgets/controls",
            "_view_module_version": "1.5.0",
            "_view_name": "HTMLView",
            "description": "",
            "description_tooltip": null,
            "layout": "IPY_MODEL_2038385e4b9d41ceb5e97f18b432ed71",
            "placeholder": "​",
            "style": "IPY_MODEL_2e0d10bfeca444a0b4b6a0a7de3ba014",
            "value": "100%"
          }
        },
        "86cfa76163c44a11a144c9e77801c49f": {
          "model_module": "@jupyter-widgets/base",
          "model_module_version": "1.2.0",
          "model_name": "LayoutModel",
          "state": {
            "_model_module": "@jupyter-widgets/base",
            "_model_module_version": "1.2.0",
            "_model_name": "LayoutModel",
            "_view_count": null,
            "_view_module": "@jupyter-widgets/base",
            "_view_module_version": "1.2.0",
            "_view_name": "LayoutView",
            "align_content": null,
            "align_items": null,
            "align_self": null,
            "border": null,
            "bottom": null,
            "display": null,
            "flex": null,
            "flex_flow": null,
            "grid_area": null,
            "grid_auto_columns": null,
            "grid_auto_flow": null,
            "grid_auto_rows": null,
            "grid_column": null,
            "grid_gap": null,
            "grid_row": null,
            "grid_template_areas": null,
            "grid_template_columns": null,
            "grid_template_rows": null,
            "height": null,
            "justify_content": null,
            "justify_items": null,
            "left": null,
            "margin": null,
            "max_height": null,
            "max_width": null,
            "min_height": null,
            "min_width": null,
            "object_fit": null,
            "object_position": null,
            "order": null,
            "overflow": null,
            "overflow_x": null,
            "overflow_y": null,
            "padding": null,
            "right": null,
            "top": null,
            "visibility": null,
            "width": null
          }
        },
        "88122c81797342f1bcb545172ed087d9": {
          "model_module": "@jupyter-widgets/controls",
          "model_module_version": "1.5.0",
          "model_name": "FloatProgressModel",
          "state": {
            "_dom_classes": [],
            "_model_module": "@jupyter-widgets/controls",
            "_model_module_version": "1.5.0",
            "_model_name": "FloatProgressModel",
            "_view_count": null,
            "_view_module": "@jupyter-widgets/controls",
            "_view_module_version": "1.5.0",
            "_view_name": "ProgressView",
            "bar_style": "success",
            "description": "",
            "description_tooltip": null,
            "layout": "IPY_MODEL_af242cb4b3e74484bd20ceaf9804fa0b",
            "max": 15,
            "min": 0,
            "orientation": "horizontal",
            "style": "IPY_MODEL_e1a7d36fd2df4226919ae337fd5accd9",
            "value": 15
          }
        },
        "904f6887027648e9b5ec8f4d40585f86": {
          "model_module": "@jupyter-widgets/controls",
          "model_module_version": "1.5.0",
          "model_name": "HTMLModel",
          "state": {
            "_dom_classes": [],
            "_model_module": "@jupyter-widgets/controls",
            "_model_module_version": "1.5.0",
            "_model_name": "HTMLModel",
            "_view_count": null,
            "_view_module": "@jupyter-widgets/controls",
            "_view_module_version": "1.5.0",
            "_view_name": "HTMLView",
            "description": "",
            "description_tooltip": null,
            "layout": "IPY_MODEL_f1ef55add9cc4159b721c59985c21a69",
            "placeholder": "​",
            "style": "IPY_MODEL_abc0654d2925492891ea38e9a8892610",
            "value": "100%"
          }
        },
        "945f46c74016484d87385262c7f78971": {
          "model_module": "@jupyter-widgets/base",
          "model_module_version": "1.2.0",
          "model_name": "LayoutModel",
          "state": {
            "_model_module": "@jupyter-widgets/base",
            "_model_module_version": "1.2.0",
            "_model_name": "LayoutModel",
            "_view_count": null,
            "_view_module": "@jupyter-widgets/base",
            "_view_module_version": "1.2.0",
            "_view_name": "LayoutView",
            "align_content": null,
            "align_items": null,
            "align_self": null,
            "border": null,
            "bottom": null,
            "display": null,
            "flex": null,
            "flex_flow": null,
            "grid_area": null,
            "grid_auto_columns": null,
            "grid_auto_flow": null,
            "grid_auto_rows": null,
            "grid_column": null,
            "grid_gap": null,
            "grid_row": null,
            "grid_template_areas": null,
            "grid_template_columns": null,
            "grid_template_rows": null,
            "height": null,
            "justify_content": null,
            "justify_items": null,
            "left": null,
            "margin": null,
            "max_height": null,
            "max_width": null,
            "min_height": null,
            "min_width": null,
            "object_fit": null,
            "object_position": null,
            "order": null,
            "overflow": null,
            "overflow_x": null,
            "overflow_y": null,
            "padding": null,
            "right": null,
            "top": null,
            "visibility": null,
            "width": null
          }
        },
        "97e3c74c26f04125babbd5c35814e36e": {
          "model_module": "@jupyter-widgets/controls",
          "model_module_version": "1.5.0",
          "model_name": "HTMLModel",
          "state": {
            "_dom_classes": [],
            "_model_module": "@jupyter-widgets/controls",
            "_model_module_version": "1.5.0",
            "_model_name": "HTMLModel",
            "_view_count": null,
            "_view_module": "@jupyter-widgets/controls",
            "_view_module_version": "1.5.0",
            "_view_name": "HTMLView",
            "description": "",
            "description_tooltip": null,
            "layout": "IPY_MODEL_ef180faf678440f090f9644f549da5c0",
            "placeholder": "​",
            "style": "IPY_MODEL_0a7af6e1edf6497baea5185f919d0bdd",
            "value": "100%"
          }
        },
        "9a196ffc01c3473ba2601d3b74d374b8": {
          "model_module": "@jupyter-widgets/base",
          "model_module_version": "1.2.0",
          "model_name": "LayoutModel",
          "state": {
            "_model_module": "@jupyter-widgets/base",
            "_model_module_version": "1.2.0",
            "_model_name": "LayoutModel",
            "_view_count": null,
            "_view_module": "@jupyter-widgets/base",
            "_view_module_version": "1.2.0",
            "_view_name": "LayoutView",
            "align_content": null,
            "align_items": null,
            "align_self": null,
            "border": null,
            "bottom": null,
            "display": null,
            "flex": null,
            "flex_flow": null,
            "grid_area": null,
            "grid_auto_columns": null,
            "grid_auto_flow": null,
            "grid_auto_rows": null,
            "grid_column": null,
            "grid_gap": null,
            "grid_row": null,
            "grid_template_areas": null,
            "grid_template_columns": null,
            "grid_template_rows": null,
            "height": null,
            "justify_content": null,
            "justify_items": null,
            "left": null,
            "margin": null,
            "max_height": null,
            "max_width": null,
            "min_height": null,
            "min_width": null,
            "object_fit": null,
            "object_position": null,
            "order": null,
            "overflow": null,
            "overflow_x": null,
            "overflow_y": null,
            "padding": null,
            "right": null,
            "top": null,
            "visibility": null,
            "width": null
          }
        },
        "9ae93afe9a6044aa8d25080f17760cc9": {
          "model_module": "@jupyter-widgets/base",
          "model_module_version": "1.2.0",
          "model_name": "LayoutModel",
          "state": {
            "_model_module": "@jupyter-widgets/base",
            "_model_module_version": "1.2.0",
            "_model_name": "LayoutModel",
            "_view_count": null,
            "_view_module": "@jupyter-widgets/base",
            "_view_module_version": "1.2.0",
            "_view_name": "LayoutView",
            "align_content": null,
            "align_items": null,
            "align_self": null,
            "border": null,
            "bottom": null,
            "display": null,
            "flex": null,
            "flex_flow": null,
            "grid_area": null,
            "grid_auto_columns": null,
            "grid_auto_flow": null,
            "grid_auto_rows": null,
            "grid_column": null,
            "grid_gap": null,
            "grid_row": null,
            "grid_template_areas": null,
            "grid_template_columns": null,
            "grid_template_rows": null,
            "height": null,
            "justify_content": null,
            "justify_items": null,
            "left": null,
            "margin": null,
            "max_height": null,
            "max_width": null,
            "min_height": null,
            "min_width": null,
            "object_fit": null,
            "object_position": null,
            "order": null,
            "overflow": null,
            "overflow_x": null,
            "overflow_y": null,
            "padding": null,
            "right": null,
            "top": null,
            "visibility": null,
            "width": null
          }
        },
        "a2468d3dba2e439fb4296d9a3d731c3f": {
          "model_module": "@jupyter-widgets/controls",
          "model_module_version": "1.5.0",
          "model_name": "ProgressStyleModel",
          "state": {
            "_model_module": "@jupyter-widgets/controls",
            "_model_module_version": "1.5.0",
            "_model_name": "ProgressStyleModel",
            "_view_count": null,
            "_view_module": "@jupyter-widgets/base",
            "_view_module_version": "1.2.0",
            "_view_name": "StyleView",
            "bar_color": null,
            "description_width": ""
          }
        },
        "a2855aa948284f788f4f1ab8f35fc832": {
          "model_module": "@jupyter-widgets/controls",
          "model_module_version": "1.5.0",
          "model_name": "FloatProgressModel",
          "state": {
            "_dom_classes": [],
            "_model_module": "@jupyter-widgets/controls",
            "_model_module_version": "1.5.0",
            "_model_name": "FloatProgressModel",
            "_view_count": null,
            "_view_module": "@jupyter-widgets/controls",
            "_view_module_version": "1.5.0",
            "_view_name": "ProgressView",
            "bar_style": "success",
            "description": "",
            "description_tooltip": null,
            "layout": "IPY_MODEL_f29c3ee4f2024ff39dffbf8b20395bda",
            "max": 500,
            "min": 0,
            "orientation": "horizontal",
            "style": "IPY_MODEL_a2468d3dba2e439fb4296d9a3d731c3f",
            "value": 500
          }
        },
        "a60b0a8662254016a8b8a9d57b947dd5": {
          "model_module": "@jupyter-widgets/controls",
          "model_module_version": "1.5.0",
          "model_name": "FloatProgressModel",
          "state": {
            "_dom_classes": [],
            "_model_module": "@jupyter-widgets/controls",
            "_model_module_version": "1.5.0",
            "_model_name": "FloatProgressModel",
            "_view_count": null,
            "_view_module": "@jupyter-widgets/controls",
            "_view_module_version": "1.5.0",
            "_view_name": "ProgressView",
            "bar_style": "success",
            "description": "",
            "description_tooltip": null,
            "layout": "IPY_MODEL_bde14177f3f14e818ded274ce851baf7",
            "max": 500,
            "min": 0,
            "orientation": "horizontal",
            "style": "IPY_MODEL_cd5c506a078b4b6b83cf8781b97a3dcf",
            "value": 500
          }
        },
        "abc0654d2925492891ea38e9a8892610": {
          "model_module": "@jupyter-widgets/controls",
          "model_module_version": "1.5.0",
          "model_name": "DescriptionStyleModel",
          "state": {
            "_model_module": "@jupyter-widgets/controls",
            "_model_module_version": "1.5.0",
            "_model_name": "DescriptionStyleModel",
            "_view_count": null,
            "_view_module": "@jupyter-widgets/base",
            "_view_module_version": "1.2.0",
            "_view_name": "StyleView",
            "description_width": ""
          }
        },
        "ad10210dbf154bedafd9ee2c3ad25f33": {
          "model_module": "@jupyter-widgets/base",
          "model_module_version": "1.2.0",
          "model_name": "LayoutModel",
          "state": {
            "_model_module": "@jupyter-widgets/base",
            "_model_module_version": "1.2.0",
            "_model_name": "LayoutModel",
            "_view_count": null,
            "_view_module": "@jupyter-widgets/base",
            "_view_module_version": "1.2.0",
            "_view_name": "LayoutView",
            "align_content": null,
            "align_items": null,
            "align_self": null,
            "border": null,
            "bottom": null,
            "display": null,
            "flex": null,
            "flex_flow": null,
            "grid_area": null,
            "grid_auto_columns": null,
            "grid_auto_flow": null,
            "grid_auto_rows": null,
            "grid_column": null,
            "grid_gap": null,
            "grid_row": null,
            "grid_template_areas": null,
            "grid_template_columns": null,
            "grid_template_rows": null,
            "height": null,
            "justify_content": null,
            "justify_items": null,
            "left": null,
            "margin": null,
            "max_height": null,
            "max_width": null,
            "min_height": null,
            "min_width": null,
            "object_fit": null,
            "object_position": null,
            "order": null,
            "overflow": null,
            "overflow_x": null,
            "overflow_y": null,
            "padding": null,
            "right": null,
            "top": null,
            "visibility": null,
            "width": null
          }
        },
        "af242cb4b3e74484bd20ceaf9804fa0b": {
          "model_module": "@jupyter-widgets/base",
          "model_module_version": "1.2.0",
          "model_name": "LayoutModel",
          "state": {
            "_model_module": "@jupyter-widgets/base",
            "_model_module_version": "1.2.0",
            "_model_name": "LayoutModel",
            "_view_count": null,
            "_view_module": "@jupyter-widgets/base",
            "_view_module_version": "1.2.0",
            "_view_name": "LayoutView",
            "align_content": null,
            "align_items": null,
            "align_self": null,
            "border": null,
            "bottom": null,
            "display": null,
            "flex": null,
            "flex_flow": null,
            "grid_area": null,
            "grid_auto_columns": null,
            "grid_auto_flow": null,
            "grid_auto_rows": null,
            "grid_column": null,
            "grid_gap": null,
            "grid_row": null,
            "grid_template_areas": null,
            "grid_template_columns": null,
            "grid_template_rows": null,
            "height": null,
            "justify_content": null,
            "justify_items": null,
            "left": null,
            "margin": null,
            "max_height": null,
            "max_width": null,
            "min_height": null,
            "min_width": null,
            "object_fit": null,
            "object_position": null,
            "order": null,
            "overflow": null,
            "overflow_x": null,
            "overflow_y": null,
            "padding": null,
            "right": null,
            "top": null,
            "visibility": null,
            "width": null
          }
        },
        "b286742230124553ad6e3c2ec822af4f": {
          "model_module": "@jupyter-widgets/base",
          "model_module_version": "1.2.0",
          "model_name": "LayoutModel",
          "state": {
            "_model_module": "@jupyter-widgets/base",
            "_model_module_version": "1.2.0",
            "_model_name": "LayoutModel",
            "_view_count": null,
            "_view_module": "@jupyter-widgets/base",
            "_view_module_version": "1.2.0",
            "_view_name": "LayoutView",
            "align_content": null,
            "align_items": null,
            "align_self": null,
            "border": null,
            "bottom": null,
            "display": null,
            "flex": null,
            "flex_flow": null,
            "grid_area": null,
            "grid_auto_columns": null,
            "grid_auto_flow": null,
            "grid_auto_rows": null,
            "grid_column": null,
            "grid_gap": null,
            "grid_row": null,
            "grid_template_areas": null,
            "grid_template_columns": null,
            "grid_template_rows": null,
            "height": null,
            "justify_content": null,
            "justify_items": null,
            "left": null,
            "margin": null,
            "max_height": null,
            "max_width": null,
            "min_height": null,
            "min_width": null,
            "object_fit": null,
            "object_position": null,
            "order": null,
            "overflow": null,
            "overflow_x": null,
            "overflow_y": null,
            "padding": null,
            "right": null,
            "top": null,
            "visibility": null,
            "width": null
          }
        },
        "b2e295830c0d44f2ac918d69a03ca3f2": {
          "model_module": "@jupyter-widgets/controls",
          "model_module_version": "1.5.0",
          "model_name": "FloatProgressModel",
          "state": {
            "_dom_classes": [],
            "_model_module": "@jupyter-widgets/controls",
            "_model_module_version": "1.5.0",
            "_model_name": "FloatProgressModel",
            "_view_count": null,
            "_view_module": "@jupyter-widgets/controls",
            "_view_module_version": "1.5.0",
            "_view_name": "ProgressView",
            "bar_style": "success",
            "description": "",
            "description_tooltip": null,
            "layout": "IPY_MODEL_ad10210dbf154bedafd9ee2c3ad25f33",
            "max": 15,
            "min": 0,
            "orientation": "horizontal",
            "style": "IPY_MODEL_3419687ca7684949915d488370894a4f",
            "value": 15
          }
        },
        "b401f672c4d04af892f48e0157fbf109": {
          "model_module": "@jupyter-widgets/base",
          "model_module_version": "1.2.0",
          "model_name": "LayoutModel",
          "state": {
            "_model_module": "@jupyter-widgets/base",
            "_model_module_version": "1.2.0",
            "_model_name": "LayoutModel",
            "_view_count": null,
            "_view_module": "@jupyter-widgets/base",
            "_view_module_version": "1.2.0",
            "_view_name": "LayoutView",
            "align_content": null,
            "align_items": null,
            "align_self": null,
            "border": null,
            "bottom": null,
            "display": null,
            "flex": null,
            "flex_flow": null,
            "grid_area": null,
            "grid_auto_columns": null,
            "grid_auto_flow": null,
            "grid_auto_rows": null,
            "grid_column": null,
            "grid_gap": null,
            "grid_row": null,
            "grid_template_areas": null,
            "grid_template_columns": null,
            "grid_template_rows": null,
            "height": null,
            "justify_content": null,
            "justify_items": null,
            "left": null,
            "margin": null,
            "max_height": null,
            "max_width": null,
            "min_height": null,
            "min_width": null,
            "object_fit": null,
            "object_position": null,
            "order": null,
            "overflow": null,
            "overflow_x": null,
            "overflow_y": null,
            "padding": null,
            "right": null,
            "top": null,
            "visibility": null,
            "width": null
          }
        },
        "bde14177f3f14e818ded274ce851baf7": {
          "model_module": "@jupyter-widgets/base",
          "model_module_version": "1.2.0",
          "model_name": "LayoutModel",
          "state": {
            "_model_module": "@jupyter-widgets/base",
            "_model_module_version": "1.2.0",
            "_model_name": "LayoutModel",
            "_view_count": null,
            "_view_module": "@jupyter-widgets/base",
            "_view_module_version": "1.2.0",
            "_view_name": "LayoutView",
            "align_content": null,
            "align_items": null,
            "align_self": null,
            "border": null,
            "bottom": null,
            "display": null,
            "flex": null,
            "flex_flow": null,
            "grid_area": null,
            "grid_auto_columns": null,
            "grid_auto_flow": null,
            "grid_auto_rows": null,
            "grid_column": null,
            "grid_gap": null,
            "grid_row": null,
            "grid_template_areas": null,
            "grid_template_columns": null,
            "grid_template_rows": null,
            "height": null,
            "justify_content": null,
            "justify_items": null,
            "left": null,
            "margin": null,
            "max_height": null,
            "max_width": null,
            "min_height": null,
            "min_width": null,
            "object_fit": null,
            "object_position": null,
            "order": null,
            "overflow": null,
            "overflow_x": null,
            "overflow_y": null,
            "padding": null,
            "right": null,
            "top": null,
            "visibility": null,
            "width": null
          }
        },
        "bfed6ca58982467fb5c3a49d5d3e06a0": {
          "model_module": "@jupyter-widgets/controls",
          "model_module_version": "1.5.0",
          "model_name": "DescriptionStyleModel",
          "state": {
            "_model_module": "@jupyter-widgets/controls",
            "_model_module_version": "1.5.0",
            "_model_name": "DescriptionStyleModel",
            "_view_count": null,
            "_view_module": "@jupyter-widgets/base",
            "_view_module_version": "1.2.0",
            "_view_name": "StyleView",
            "description_width": ""
          }
        },
        "c03043745f5a4023bd774b5c149a6472": {
          "model_module": "@jupyter-widgets/controls",
          "model_module_version": "1.5.0",
          "model_name": "DescriptionStyleModel",
          "state": {
            "_model_module": "@jupyter-widgets/controls",
            "_model_module_version": "1.5.0",
            "_model_name": "DescriptionStyleModel",
            "_view_count": null,
            "_view_module": "@jupyter-widgets/base",
            "_view_module_version": "1.2.0",
            "_view_name": "StyleView",
            "description_width": ""
          }
        },
        "c35419a0b9724ccb90bdeafdb5a85271": {
          "model_module": "@jupyter-widgets/controls",
          "model_module_version": "1.5.0",
          "model_name": "HBoxModel",
          "state": {
            "_dom_classes": [],
            "_model_module": "@jupyter-widgets/controls",
            "_model_module_version": "1.5.0",
            "_model_name": "HBoxModel",
            "_view_count": null,
            "_view_module": "@jupyter-widgets/controls",
            "_view_module_version": "1.5.0",
            "_view_name": "HBoxView",
            "box_style": "",
            "children": [
              "IPY_MODEL_83acae39b014419cb478a4d925824b59",
              "IPY_MODEL_88122c81797342f1bcb545172ed087d9",
              "IPY_MODEL_7d92b923bb4e449998488f9c11dba5dc"
            ],
            "layout": "IPY_MODEL_fab347b2fb6e456bafa6a716d30c7890"
          }
        },
        "c92fa2f8898f4b22bcb510434b6a9f79": {
          "model_module": "@jupyter-widgets/controls",
          "model_module_version": "1.5.0",
          "model_name": "FloatProgressModel",
          "state": {
            "_dom_classes": [],
            "_model_module": "@jupyter-widgets/controls",
            "_model_module_version": "1.5.0",
            "_model_name": "FloatProgressModel",
            "_view_count": null,
            "_view_module": "@jupyter-widgets/controls",
            "_view_module_version": "1.5.0",
            "_view_name": "ProgressView",
            "bar_style": "success",
            "description": "",
            "description_tooltip": null,
            "layout": "IPY_MODEL_f72967a10524488c93478cff42de30c6",
            "max": 15,
            "min": 0,
            "orientation": "horizontal",
            "style": "IPY_MODEL_0dbf1328e28d40fca5daa418622f4c53",
            "value": 15
          }
        },
        "ccbf770b8b0f44409e053f3855e053ef": {
          "model_module": "@jupyter-widgets/controls",
          "model_module_version": "1.5.0",
          "model_name": "HTMLModel",
          "state": {
            "_dom_classes": [],
            "_model_module": "@jupyter-widgets/controls",
            "_model_module_version": "1.5.0",
            "_model_name": "HTMLModel",
            "_view_count": null,
            "_view_module": "@jupyter-widgets/controls",
            "_view_module_version": "1.5.0",
            "_view_name": "HTMLView",
            "description": "",
            "description_tooltip": null,
            "layout": "IPY_MODEL_0ffaddd88fe24608a96e4f72aeaa642e",
            "placeholder": "​",
            "style": "IPY_MODEL_c03043745f5a4023bd774b5c149a6472",
            "value": " 15/15 [00:02&lt;00:00,  5.96it/s]"
          }
        },
        "cd5c506a078b4b6b83cf8781b97a3dcf": {
          "model_module": "@jupyter-widgets/controls",
          "model_module_version": "1.5.0",
          "model_name": "ProgressStyleModel",
          "state": {
            "_model_module": "@jupyter-widgets/controls",
            "_model_module_version": "1.5.0",
            "_model_name": "ProgressStyleModel",
            "_view_count": null,
            "_view_module": "@jupyter-widgets/base",
            "_view_module_version": "1.2.0",
            "_view_name": "StyleView",
            "bar_color": null,
            "description_width": ""
          }
        },
        "d158c60eae2646a5b98e18c3759631ad": {
          "model_module": "@jupyter-widgets/controls",
          "model_module_version": "1.5.0",
          "model_name": "HBoxModel",
          "state": {
            "_dom_classes": [],
            "_model_module": "@jupyter-widgets/controls",
            "_model_module_version": "1.5.0",
            "_model_name": "HBoxModel",
            "_view_count": null,
            "_view_module": "@jupyter-widgets/controls",
            "_view_module_version": "1.5.0",
            "_view_name": "HBoxView",
            "box_style": "",
            "children": [
              "IPY_MODEL_4003223350e346abbbcf425757e3912a",
              "IPY_MODEL_a2855aa948284f788f4f1ab8f35fc832",
              "IPY_MODEL_4ff2b68ca099417283b410782a4e0a2a"
            ],
            "layout": "IPY_MODEL_b401f672c4d04af892f48e0157fbf109"
          }
        },
        "d1668792fc20435ba0adba0448c82fa8": {
          "model_module": "@jupyter-widgets/controls",
          "model_module_version": "1.5.0",
          "model_name": "DescriptionStyleModel",
          "state": {
            "_model_module": "@jupyter-widgets/controls",
            "_model_module_version": "1.5.0",
            "_model_name": "DescriptionStyleModel",
            "_view_count": null,
            "_view_module": "@jupyter-widgets/base",
            "_view_module_version": "1.2.0",
            "_view_name": "StyleView",
            "description_width": ""
          }
        },
        "d55be1f947c74c03b696bad629da2763": {
          "model_module": "@jupyter-widgets/controls",
          "model_module_version": "1.5.0",
          "model_name": "DescriptionStyleModel",
          "state": {
            "_model_module": "@jupyter-widgets/controls",
            "_model_module_version": "1.5.0",
            "_model_name": "DescriptionStyleModel",
            "_view_count": null,
            "_view_module": "@jupyter-widgets/base",
            "_view_module_version": "1.2.0",
            "_view_name": "StyleView",
            "description_width": ""
          }
        },
        "e1a7d36fd2df4226919ae337fd5accd9": {
          "model_module": "@jupyter-widgets/controls",
          "model_module_version": "1.5.0",
          "model_name": "ProgressStyleModel",
          "state": {
            "_model_module": "@jupyter-widgets/controls",
            "_model_module_version": "1.5.0",
            "_model_name": "ProgressStyleModel",
            "_view_count": null,
            "_view_module": "@jupyter-widgets/base",
            "_view_module_version": "1.2.0",
            "_view_name": "StyleView",
            "bar_color": null,
            "description_width": ""
          }
        },
        "e454c1ad73394ffeaab5b8ad2184a31f": {
          "model_module": "@jupyter-widgets/controls",
          "model_module_version": "1.5.0",
          "model_name": "ProgressStyleModel",
          "state": {
            "_model_module": "@jupyter-widgets/controls",
            "_model_module_version": "1.5.0",
            "_model_name": "ProgressStyleModel",
            "_view_count": null,
            "_view_module": "@jupyter-widgets/base",
            "_view_module_version": "1.2.0",
            "_view_name": "StyleView",
            "bar_color": null,
            "description_width": ""
          }
        },
        "ea0b7a43e4fd42869c5b63c5951625c6": {
          "model_module": "@jupyter-widgets/controls",
          "model_module_version": "1.5.0",
          "model_name": "HTMLModel",
          "state": {
            "_dom_classes": [],
            "_model_module": "@jupyter-widgets/controls",
            "_model_module_version": "1.5.0",
            "_model_name": "HTMLModel",
            "_view_count": null,
            "_view_module": "@jupyter-widgets/controls",
            "_view_module_version": "1.5.0",
            "_view_name": "HTMLView",
            "description": "",
            "description_tooltip": null,
            "layout": "IPY_MODEL_6eef8cdfc6f54cebacd73094e5621d57",
            "placeholder": "​",
            "style": "IPY_MODEL_3c3c23ab541b4513b3a670b891e5b8fb",
            "value": "100%"
          }
        },
        "ef180faf678440f090f9644f549da5c0": {
          "model_module": "@jupyter-widgets/base",
          "model_module_version": "1.2.0",
          "model_name": "LayoutModel",
          "state": {
            "_model_module": "@jupyter-widgets/base",
            "_model_module_version": "1.2.0",
            "_model_name": "LayoutModel",
            "_view_count": null,
            "_view_module": "@jupyter-widgets/base",
            "_view_module_version": "1.2.0",
            "_view_name": "LayoutView",
            "align_content": null,
            "align_items": null,
            "align_self": null,
            "border": null,
            "bottom": null,
            "display": null,
            "flex": null,
            "flex_flow": null,
            "grid_area": null,
            "grid_auto_columns": null,
            "grid_auto_flow": null,
            "grid_auto_rows": null,
            "grid_column": null,
            "grid_gap": null,
            "grid_row": null,
            "grid_template_areas": null,
            "grid_template_columns": null,
            "grid_template_rows": null,
            "height": null,
            "justify_content": null,
            "justify_items": null,
            "left": null,
            "margin": null,
            "max_height": null,
            "max_width": null,
            "min_height": null,
            "min_width": null,
            "object_fit": null,
            "object_position": null,
            "order": null,
            "overflow": null,
            "overflow_x": null,
            "overflow_y": null,
            "padding": null,
            "right": null,
            "top": null,
            "visibility": null,
            "width": null
          }
        },
        "f1ef55add9cc4159b721c59985c21a69": {
          "model_module": "@jupyter-widgets/base",
          "model_module_version": "1.2.0",
          "model_name": "LayoutModel",
          "state": {
            "_model_module": "@jupyter-widgets/base",
            "_model_module_version": "1.2.0",
            "_model_name": "LayoutModel",
            "_view_count": null,
            "_view_module": "@jupyter-widgets/base",
            "_view_module_version": "1.2.0",
            "_view_name": "LayoutView",
            "align_content": null,
            "align_items": null,
            "align_self": null,
            "border": null,
            "bottom": null,
            "display": null,
            "flex": null,
            "flex_flow": null,
            "grid_area": null,
            "grid_auto_columns": null,
            "grid_auto_flow": null,
            "grid_auto_rows": null,
            "grid_column": null,
            "grid_gap": null,
            "grid_row": null,
            "grid_template_areas": null,
            "grid_template_columns": null,
            "grid_template_rows": null,
            "height": null,
            "justify_content": null,
            "justify_items": null,
            "left": null,
            "margin": null,
            "max_height": null,
            "max_width": null,
            "min_height": null,
            "min_width": null,
            "object_fit": null,
            "object_position": null,
            "order": null,
            "overflow": null,
            "overflow_x": null,
            "overflow_y": null,
            "padding": null,
            "right": null,
            "top": null,
            "visibility": null,
            "width": null
          }
        },
        "f29c3ee4f2024ff39dffbf8b20395bda": {
          "model_module": "@jupyter-widgets/base",
          "model_module_version": "1.2.0",
          "model_name": "LayoutModel",
          "state": {
            "_model_module": "@jupyter-widgets/base",
            "_model_module_version": "1.2.0",
            "_model_name": "LayoutModel",
            "_view_count": null,
            "_view_module": "@jupyter-widgets/base",
            "_view_module_version": "1.2.0",
            "_view_name": "LayoutView",
            "align_content": null,
            "align_items": null,
            "align_self": null,
            "border": null,
            "bottom": null,
            "display": null,
            "flex": null,
            "flex_flow": null,
            "grid_area": null,
            "grid_auto_columns": null,
            "grid_auto_flow": null,
            "grid_auto_rows": null,
            "grid_column": null,
            "grid_gap": null,
            "grid_row": null,
            "grid_template_areas": null,
            "grid_template_columns": null,
            "grid_template_rows": null,
            "height": null,
            "justify_content": null,
            "justify_items": null,
            "left": null,
            "margin": null,
            "max_height": null,
            "max_width": null,
            "min_height": null,
            "min_width": null,
            "object_fit": null,
            "object_position": null,
            "order": null,
            "overflow": null,
            "overflow_x": null,
            "overflow_y": null,
            "padding": null,
            "right": null,
            "top": null,
            "visibility": null,
            "width": null
          }
        },
        "f72967a10524488c93478cff42de30c6": {
          "model_module": "@jupyter-widgets/base",
          "model_module_version": "1.2.0",
          "model_name": "LayoutModel",
          "state": {
            "_model_module": "@jupyter-widgets/base",
            "_model_module_version": "1.2.0",
            "_model_name": "LayoutModel",
            "_view_count": null,
            "_view_module": "@jupyter-widgets/base",
            "_view_module_version": "1.2.0",
            "_view_name": "LayoutView",
            "align_content": null,
            "align_items": null,
            "align_self": null,
            "border": null,
            "bottom": null,
            "display": null,
            "flex": null,
            "flex_flow": null,
            "grid_area": null,
            "grid_auto_columns": null,
            "grid_auto_flow": null,
            "grid_auto_rows": null,
            "grid_column": null,
            "grid_gap": null,
            "grid_row": null,
            "grid_template_areas": null,
            "grid_template_columns": null,
            "grid_template_rows": null,
            "height": null,
            "justify_content": null,
            "justify_items": null,
            "left": null,
            "margin": null,
            "max_height": null,
            "max_width": null,
            "min_height": null,
            "min_width": null,
            "object_fit": null,
            "object_position": null,
            "order": null,
            "overflow": null,
            "overflow_x": null,
            "overflow_y": null,
            "padding": null,
            "right": null,
            "top": null,
            "visibility": null,
            "width": null
          }
        },
        "fa69bb9f1358411eb3006d5da45306d2": {
          "model_module": "@jupyter-widgets/base",
          "model_module_version": "1.2.0",
          "model_name": "LayoutModel",
          "state": {
            "_model_module": "@jupyter-widgets/base",
            "_model_module_version": "1.2.0",
            "_model_name": "LayoutModel",
            "_view_count": null,
            "_view_module": "@jupyter-widgets/base",
            "_view_module_version": "1.2.0",
            "_view_name": "LayoutView",
            "align_content": null,
            "align_items": null,
            "align_self": null,
            "border": null,
            "bottom": null,
            "display": null,
            "flex": null,
            "flex_flow": null,
            "grid_area": null,
            "grid_auto_columns": null,
            "grid_auto_flow": null,
            "grid_auto_rows": null,
            "grid_column": null,
            "grid_gap": null,
            "grid_row": null,
            "grid_template_areas": null,
            "grid_template_columns": null,
            "grid_template_rows": null,
            "height": null,
            "justify_content": null,
            "justify_items": null,
            "left": null,
            "margin": null,
            "max_height": null,
            "max_width": null,
            "min_height": null,
            "min_width": null,
            "object_fit": null,
            "object_position": null,
            "order": null,
            "overflow": null,
            "overflow_x": null,
            "overflow_y": null,
            "padding": null,
            "right": null,
            "top": null,
            "visibility": null,
            "width": null
          }
        },
        "fab347b2fb6e456bafa6a716d30c7890": {
          "model_module": "@jupyter-widgets/base",
          "model_module_version": "1.2.0",
          "model_name": "LayoutModel",
          "state": {
            "_model_module": "@jupyter-widgets/base",
            "_model_module_version": "1.2.0",
            "_model_name": "LayoutModel",
            "_view_count": null,
            "_view_module": "@jupyter-widgets/base",
            "_view_module_version": "1.2.0",
            "_view_name": "LayoutView",
            "align_content": null,
            "align_items": null,
            "align_self": null,
            "border": null,
            "bottom": null,
            "display": null,
            "flex": null,
            "flex_flow": null,
            "grid_area": null,
            "grid_auto_columns": null,
            "grid_auto_flow": null,
            "grid_auto_rows": null,
            "grid_column": null,
            "grid_gap": null,
            "grid_row": null,
            "grid_template_areas": null,
            "grid_template_columns": null,
            "grid_template_rows": null,
            "height": null,
            "justify_content": null,
            "justify_items": null,
            "left": null,
            "margin": null,
            "max_height": null,
            "max_width": null,
            "min_height": null,
            "min_width": null,
            "object_fit": null,
            "object_position": null,
            "order": null,
            "overflow": null,
            "overflow_x": null,
            "overflow_y": null,
            "padding": null,
            "right": null,
            "top": null,
            "visibility": null,
            "width": null
          }
        },
        "fcc9cbd29f3e409195f6978ca62ee2b8": {
          "model_module": "@jupyter-widgets/controls",
          "model_module_version": "1.5.0",
          "model_name": "FloatProgressModel",
          "state": {
            "_dom_classes": [],
            "_model_module": "@jupyter-widgets/controls",
            "_model_module_version": "1.5.0",
            "_model_name": "FloatProgressModel",
            "_view_count": null,
            "_view_module": "@jupyter-widgets/controls",
            "_view_module_version": "1.5.0",
            "_view_name": "ProgressView",
            "bar_style": "success",
            "description": "",
            "description_tooltip": null,
            "layout": "IPY_MODEL_17c96bbbbe7545f4a093832e1fb56998",
            "max": 500,
            "min": 0,
            "orientation": "horizontal",
            "style": "IPY_MODEL_e454c1ad73394ffeaab5b8ad2184a31f",
            "value": 500
          }
        },
        "ffbc02358b644fbf8b8883671272af74": {
          "model_module": "@jupyter-widgets/controls",
          "model_module_version": "1.5.0",
          "model_name": "HBoxModel",
          "state": {
            "_dom_classes": [],
            "_model_module": "@jupyter-widgets/controls",
            "_model_module_version": "1.5.0",
            "_model_name": "HBoxModel",
            "_view_count": null,
            "_view_module": "@jupyter-widgets/controls",
            "_view_module_version": "1.5.0",
            "_view_name": "HBoxView",
            "box_style": "",
            "children": [
              "IPY_MODEL_97e3c74c26f04125babbd5c35814e36e",
              "IPY_MODEL_a60b0a8662254016a8b8a9d57b947dd5",
              "IPY_MODEL_69e74bdb86934aff82ca2acf1e012fe5"
            ],
            "layout": "IPY_MODEL_945f46c74016484d87385262c7f78971"
          }
        }
      }
    }
  },
  "nbformat": 4,
  "nbformat_minor": 0
}
