{
  "cells": [
    {
      "cell_type": "markdown",
      "metadata": {
        "colab_type": "text",
        "id": "view-in-github"
      },
      "source": [
        "<a href=\"https://colab.research.google.com/github/fabiocarrara/mbd-dlmra/blob/main/exercises/ol3_binary_and_metric_indexing_exercise.ipynb\" target=\"_parent\"><img src=\"https://colab.research.google.com/assets/colab-badge.svg\" alt=\"Open In Colab\"/></a>"
      ]
    },
    {
      "cell_type": "markdown",
      "metadata": {
        "id": "SEO6wraRl-W6"
      },
      "source": [
        "# DLMR OpenLab \\#1\n",
        "-------------------\n",
        "\n",
        "# Basic Tools for Fast Similarity Search\n",
        "\n",
        "We will:\n",
        "\n",
        "*   index binary vectors using the FAISS Library;\n",
        "*   index arbitrary metric objects with MI-File.\n"
      ]
    },
    {
      "cell_type": "markdown",
      "metadata": {
        "id": "E80vdnlsKSza"
      },
      "source": [
        "In this OpenLab, we will explore Approximate Nearest Neighbor (ANN) search solutions for the following scenarios:\n",
        "\n",
        "1.  indexing binary vectors (e.g., objects $\\in \\{0,1\\}^n$, distance = Hamming)\n",
        "2.  indexing metric objects (e.g., objects $\\in$ Strings, distance = Levenshtein/Edit)"
      ]
    },
    {
      "cell_type": "markdown",
      "metadata": {
        "id": "_9DsdTo1foAa"
      },
      "source": [
        "## Indexing Binary Vectors ($d =$ Hamming)"
      ]
    },
    {
      "cell_type": "markdown",
      "metadata": {
        "id": "YbwRV_qzNMtK"
      },
      "source": [
        "Binary vectors are vectors in which each dimension has a binary value.\n",
        "The most used distance function to compare two binary vectors is the _Hamming distance_ that counts the number of different bits between two binary sequences."
      ]
    },
    {
      "cell_type": "markdown",
      "metadata": {
        "id": "nWzj1CvEZlat"
      },
      "source": [
        "### Getting Started"
      ]
    },
    {
      "cell_type": "markdown",
      "metadata": {
        "id": "PfMscHsloSWm"
      },
      "source": [
        "There are [several libraries](https://github.com/erikbern/ann-benchmarks/) for ANN.\n",
        "We are going to use the [FAISS](https://github.com/facebookresearch/faiss/wiki) (Facebook AI Similarity Search), a ANN library for real-valued and binary data\n",
        "that can also exploit GPU acceleration.\n",
        "Let's install the CPU version."
      ]
    },
    {
      "cell_type": "code",
      "execution_count": null,
      "metadata": {
        "colab": {
          "base_uri": "https://localhost:8080/"
        },
        "id": "H3AEXzn5kj3I",
        "outputId": "f1f6f85e-b9ff-4a24-cc07-33d71fc2224e"
      },
      "outputs": [
        {
          "name": "stdout",
          "output_type": "stream",
          "text": [
            "\u001b[K     |████████████████████████████████| 8.4MB 10.7MB/s \n",
            "\u001b[?25h"
          ]
        }
      ],
      "source": [
        "!pip install -q faiss-cpu"
      ]
    },
    {
      "cell_type": "code",
      "execution_count": null,
      "metadata": {
        "colab": {
          "base_uri": "https://localhost:8080/"
        },
        "id": "UNDUapnzmqcl",
        "outputId": "555bba3c-4dfb-4bb7-80db-fa553f7091e9"
      },
      "outputs": [
        {
          "name": "stdout",
          "output_type": "stream",
          "text": [
            "time: 211 µs (started: 2021-06-01 13:14:40 +00:00)\n"
          ]
        }
      ],
      "source": [
        "!pip install -q ipython-autotime\n",
        "%load_ext autotime"
      ]
    },
    {
      "cell_type": "code",
      "execution_count": null,
      "metadata": {
        "colab": {
          "base_uri": "https://localhost:8080/"
        },
        "id": "9J2S3YmDjLRY",
        "outputId": "ea35939a-ea71-42b6-b221-69fdc1029e95"
      },
      "outputs": [
        {
          "name": "stdout",
          "output_type": "stream",
          "text": [
            "time: 836 ms (started: 2021-06-01 13:14:40 +00:00)\n"
          ]
        }
      ],
      "source": [
        "import itertools\n",
        "import time\n",
        "\n",
        "import faiss\n",
        "import numpy as np\n",
        "import pandas as pd\n",
        "import seaborn as sns\n",
        "\n",
        "from tqdm.auto import tqdm"
      ]
    },
    {
      "cell_type": "markdown",
      "metadata": {
        "id": "3pzGd_nRPhQl"
      },
      "source": [
        "First, let's see how a binary vector looks like. Binary vectors are often packed in bytes (np.uint8) holding 8 bits each."
      ]
    },
    {
      "cell_type": "code",
      "execution_count": null,
      "metadata": {
        "colab": {
          "base_uri": "https://localhost:8080/"
        },
        "id": "TREi_l9vkkRt",
        "outputId": "15c2238f-3949-46fb-fb30-62cfe0d0f487"
      },
      "outputs": [
        {
          "data": {
            "text/plain": [
              "array([0, 0, 0, 0, 0, 0, 1, 1, 0, 0, 0, 0, 0, 0, 0, 0, 0, 0, 0, 0, 0, 0,\n",
              "       0, 1], dtype=uint8)"
            ]
          },
          "execution_count": 4,
          "metadata": {
            "tags": []
          },
          "output_type": "execute_result"
        },
        {
          "name": "stdout",
          "output_type": "stream",
          "text": [
            "time: 8.72 ms (started: 2021-06-01 13:14:46 +00:00)\n"
          ]
        }
      ],
      "source": [
        "binary_vector = np.array([3, 0, 1], dtype=np.uint8)\n",
        "np.unpackbits(binary_vector)"
      ]
    },
    {
      "cell_type": "markdown",
      "metadata": {
        "id": "pB3yXeAVQR79"
      },
      "source": [
        "Let's construct an artificial dataset of binary vectors that we will use for our indices."
      ]
    },
    {
      "cell_type": "code",
      "execution_count": null,
      "metadata": {
        "colab": {
          "base_uri": "https://localhost:8080/"
        },
        "id": "vgiWJAh8fthJ",
        "outputId": "0b10de5f-c857-4b86-e6d8-37a309d0d41d"
      },
      "outputs": [
        {
          "name": "stdout",
          "output_type": "stream",
          "text": [
            "time: 76.6 ms (started: 2021-06-01 13:15:05 +00:00)\n"
          ]
        }
      ],
      "source": [
        "d_bits = 256\n",
        "xb = np.random.randint(0, 256, (1_000_000, d_bits // 8), dtype=np.uint8)\n",
        "qb = np.random.randint(0, 256, (50, d_bits // 8), dtype=np.uint8)"
      ]
    },
    {
      "cell_type": "markdown",
      "metadata": {
        "id": "ptbB5mRzQlOQ"
      },
      "source": [
        "Next, we will define a helper function for computing a performance metric for indices -- the **recall**, that is the fraction of true neighbors of a query that have been retrieved by the system\n",
        "\n",
        "$ \\text{Recall} = \\dfrac{|\\text{True Neighbors} \\cap \\text{Retrieved Objects}|}{|\\text{True Neighbors}|}\\,.$"
      ]
    },
    {
      "cell_type": "code",
      "execution_count": null,
      "metadata": {
        "colab": {
          "base_uri": "https://localhost:8080/"
        },
        "id": "qoj1eK-YL8rP",
        "outputId": "943b1d49-91a0-400e-b430-20327b90e31a"
      },
      "outputs": [
        {
          "name": "stdout",
          "output_type": "stream",
          "text": [
            "time: 7.01 ms (started: 2021-06-01 13:32:19 +00:00)\n"
          ]
        }
      ],
      "source": [
        "def compute_recall(true_neighbors, predicted_neighbors):\n",
        "  \"\"\" Computes the mean Recall over multiple queries.\n",
        "\n",
        "  Args:\n",
        "    - true_neighbors: QxK matrix of object IDs representing the K nearest neighbors for each of the Q queries.\n",
        "    - predicted_neighbors: QxK matrix of object IDs representing the K retrieved objects for each of the Q queries.\n",
        "  \"\"\"\n",
        "  recalls = []\n",
        "  for t, p in zip(true_neighbors, predicted_neighbors):\n",
        "    intersection = np.intersect1d(t, p)\n",
        "    recall = len(intersection) / len(t)\n",
        "    recalls.append(recall)\n",
        "\n",
        "  return np.mean(recalls)"
      ]
    },
    {
      "cell_type": "markdown",
      "metadata": {
        "id": "OC5oqeCl6rNm"
      },
      "source": [
        "### Sequential Search / Bruteforce (NumPy)"
      ]
    },
    {
      "cell_type": "markdown",
      "metadata": {
        "id": "ZWKf7HlKS-Rh"
      },
      "source": [
        "First, let's implement the sequential search of binary vectors in NumPy as baseline."
      ]
    },
    {
      "cell_type": "code",
      "execution_count": null,
      "metadata": {
        "colab": {
          "base_uri": "https://localhost:8080/",
          "height": 301,
          "referenced_widgets": [
            "b57c7e2e660248d1b58c35f9ae47cb44",
            "178d102415794da68e26a796ccb9c16e",
            "c63bb319ec954f22b3e5226a3a8c4dee",
            "1b9db740f1e9473bb58bd6863245d169",
            "929f0c89dd504d729b2613f428a55f16",
            "f34f9385910741afa6fcc11a2a98a00b",
            "a1e265480fba44b0b996c6f4bb38ea72",
            "75545a508a8d4198b5f902abbc00d6a6"
          ]
        },
        "id": "_e41G2filrEb",
        "outputId": "56797ccd-8269-48ca-c091-886ee82f9275"
      },
      "outputs": [
        {
          "data": {
            "application/vnd.jupyter.widget-view+json": {
              "model_id": "b57c7e2e660248d1b58c35f9ae47cb44",
              "version_major": 2,
              "version_minor": 0
            },
            "text/plain": [
              "HBox(children=(FloatProgress(value=0.0, max=50.0), HTML(value='')))"
            ]
          },
          "metadata": {
            "tags": []
          },
          "output_type": "display_data"
        },
        {
          "name": "stdout",
          "output_type": "stream",
          "text": [
            "\n"
          ]
        },
        {
          "data": {
            "text/plain": [
              "(array([[86, 91, 92, ..., 99, 99, 99],\n",
              "        [91, 91, 91, ..., 98, 98, 98],\n",
              "        [88, 89, 90, ..., 98, 98, 98],\n",
              "        ...,\n",
              "        [91, 91, 92, ..., 99, 99, 99],\n",
              "        [87, 92, 93, ..., 98, 99, 99],\n",
              "        [87, 88, 91, ..., 98, 98, 98]], dtype=uint64),\n",
              " array([[552660, 881621, 692570, ..., 458914, 112954, 777941],\n",
              "        [441678, 414192, 792893, ..., 884061,  52607, 318738],\n",
              "        [779380, 626091, 912014, ..., 278586, 274184, 371258],\n",
              "        ...,\n",
              "        [977375, 970981, 833608, ..., 705477, 888060, 401460],\n",
              "        [811980, 113251, 991378, ..., 737846, 403778, 754474],\n",
              "        [723418, 268437, 131114, ..., 161995, 506251, 671971]]))"
            ]
          },
          "execution_count": 12,
          "metadata": {
            "tags": []
          },
          "output_type": "execute_result"
        },
        {
          "name": "stdout",
          "output_type": "stream",
          "text": [
            "time: 23.5 s (started: 2021-06-01 13:32:26 +00:00)\n"
          ]
        }
      ],
      "source": [
        "k = 100\n",
        "\n",
        "I, D = [], []\n",
        "\n",
        "# for each query ...\n",
        "for qi in tqdm(qb):\n",
        "  # compute xor between a query and all the dataset\n",
        "  xors = np.bitwise_xor(qi, xb)\n",
        "  # unpack bits and sum them to compute hamming distances\n",
        "  hammings = np.unpackbits(xors, axis=1).sum(axis=1)\n",
        "  # rank by hamming distances (ascending)\n",
        "  rankings = hammings.argsort()\n",
        "  # keep the indices of k nearest dataset samples\n",
        "  topk = rankings[:k]\n",
        "  # take the hamming distances of those kNNs\n",
        "  topk_scores = hammings[topk]\n",
        "\n",
        "  # append indices and distances to lists\n",
        "  I.append(topk)\n",
        "  D.append(topk_scores)\n",
        "\n",
        "I = np.stack(I)\n",
        "D = np.stack(D)\n",
        "\n",
        "D, I"
      ]
    },
    {
      "cell_type": "markdown",
      "metadata": {
        "id": "e-GameJrTv08"
      },
      "source": [
        "We will use these results as groundtruth for computing the recall of subsequent solutions."
      ]
    },
    {
      "cell_type": "code",
      "execution_count": null,
      "metadata": {
        "colab": {
          "base_uri": "https://localhost:8080/"
        },
        "id": "o9j-GiczoZ2B",
        "outputId": "325700c3-0197-46b7-ef73-1d2366c36ff8"
      },
      "outputs": [
        {
          "name": "stdout",
          "output_type": "stream",
          "text": [
            "time: 1.36 ms (started: 2021-06-01 13:32:55 +00:00)\n"
          ]
        }
      ],
      "source": [
        "true_neighbors = I"
      ]
    },
    {
      "cell_type": "markdown",
      "metadata": {
        "id": "FvHzkZwg6uhl"
      },
      "source": [
        "### Sequential Search / Bruteforce (FAISS)"
      ]
    },
    {
      "cell_type": "markdown",
      "metadata": {
        "id": "ldhjo4scU4JE"
      },
      "source": [
        "An equivalent (but more efficient) implementation of a sequential search is provided by FAISS with the _IndexBinaryFlat_ class."
      ]
    },
    {
      "cell_type": "code",
      "execution_count": null,
      "metadata": {
        "colab": {
          "base_uri": "https://localhost:8080/"
        },
        "id": "-RzrBu_1j3G2",
        "outputId": "a397cedb-e224-4063-8560-5b84c0cbd953"
      },
      "outputs": [
        {
          "name": "stdout",
          "output_type": "stream",
          "text": [
            "time: 20.6 ms (started: 2021-05-27 15:35:28 +00:00)\n"
          ]
        }
      ],
      "source": [
        "index = faiss.IndexBinaryFlat(d_bits)\n",
        "index.add(xb)"
      ]
    },
    {
      "cell_type": "code",
      "execution_count": null,
      "metadata": {
        "colab": {
          "base_uri": "https://localhost:8080/"
        },
        "id": "uBEdStLTlNgM",
        "outputId": "73ab77f0-d9f1-4363-fa3b-5d5d365db28d"
      },
      "outputs": [
        {
          "data": {
            "text/plain": [
              "(array([[91, 91, 92, ..., 99, 99, 99],\n",
              "        [91, 92, 93, ..., 98, 98, 98],\n",
              "        [89, 91, 91, ..., 98, 98, 98],\n",
              "        ...,\n",
              "        [92, 93, 93, ..., 98, 98, 98],\n",
              "        [91, 92, 92, ..., 98, 98, 98],\n",
              "        [91, 92, 92, ..., 98, 98, 98]], dtype=int32),\n",
              " array([[186597, 985502, 714811, ..., 209168, 138166, 459826],\n",
              "        [606328, 570939, 619733, ..., 584772, 640210, 597222],\n",
              "        [149198, 393198,  34961, ..., 184808, 194939, 181944],\n",
              "        ...,\n",
              "        [ 12105, 871506, 475776, ..., 963265, 613647, 618972],\n",
              "        [149526, 554824, 774878, ..., 558903, 555223, 565241],\n",
              "        [530467, 960330, 808938, ..., 368998, 625450, 201414]]))"
            ]
          },
          "execution_count": 16,
          "metadata": {
            "tags": []
          },
          "output_type": "execute_result"
        },
        {
          "name": "stdout",
          "output_type": "stream",
          "text": [
            "time: 700 ms (started: 2021-05-27 15:35:30 +00:00)\n"
          ]
        }
      ],
      "source": [
        "D, I = index.search(qb, k)\n",
        "D, I"
      ]
    },
    {
      "cell_type": "code",
      "execution_count": null,
      "metadata": {
        "colab": {
          "base_uri": "https://localhost:8080/"
        },
        "id": "GNRkknhGod6I",
        "outputId": "7b1f5785-be71-4698-bb94-e6d681957d38"
      },
      "outputs": [
        {
          "data": {
            "text/plain": [
              "0.9339999999999999"
            ]
          },
          "execution_count": 19,
          "metadata": {
            "tags": []
          },
          "output_type": "execute_result"
        },
        {
          "name": "stdout",
          "output_type": "stream",
          "text": [
            "time: 11.7 ms (started: 2021-05-27 15:36:35 +00:00)\n"
          ]
        }
      ],
      "source": [
        "compute_recall(true_neighbors, I)"
      ]
    },
    {
      "cell_type": "markdown",
      "metadata": {
        "id": "sC0E_sly68lJ"
      },
      "source": [
        "### LSH with a single $g()$ (FAISS)"
      ]
    },
    {
      "cell_type": "markdown",
      "metadata": {
        "id": "AypzMNabU1To"
      },
      "source": [
        "The first index for binary data we will see is the LSH index.\n",
        "The _IndexBinaryHash_ uses the first `n_bits` bits of the binary vector as hash to split the dataset into buckets.\n",
        "\n",
        "**NOTE**: FAISS leaves to the user to reorder bits such that the wanted hash is in the first positions of the binary vectors."
      ]
    },
    {
      "cell_type": "code",
      "execution_count": null,
      "metadata": {
        "colab": {
          "base_uri": "https://localhost:8080/"
        },
        "id": "XCv_tOd-rSAp",
        "outputId": "1c2bace2-272c-434c-ae69-5906b165ec5c"
      },
      "outputs": [
        {
          "name": "stdout",
          "output_type": "stream",
          "text": [
            "time: 60 ms (started: 2021-05-27 15:42:10 +00:00)\n"
          ]
        }
      ],
      "source": [
        "n_bits = 8\n",
        "\n",
        "# build the index with n_bits\n",
        "index = faiss.IndexBinaryHash(d_bits, n_bits)\n",
        "\n",
        "# add the data to the index\n",
        "index.add(xb)"
      ]
    },
    {
      "cell_type": "markdown",
      "metadata": {
        "id": "grs8dejbWKGq"
      },
      "source": [
        "At query time, we visit buckets having hashes that are at most `nflip` bits away from the hash of the query.\n",
        "\n",
        "**NOTE**: `nflip` can be changed at query time without rebuilding the index."
      ]
    },
    {
      "cell_type": "code",
      "execution_count": null,
      "metadata": {
        "colab": {
          "base_uri": "https://localhost:8080/"
        },
        "id": "bbvj2mQbt1va",
        "outputId": "fd816880-3aae-4670-dea4-726a5fca317c"
      },
      "outputs": [
        {
          "name": "stdout",
          "output_type": "stream",
          "text": [
            "time: 473 ms (started: 2021-05-27 15:44:24 +00:00)\n"
          ]
        }
      ],
      "source": [
        "# set nflip\n",
        "index.nflip = 4\n",
        "\n",
        "# query the index\n",
        "D, I = index.search(qb, k)"
      ]
    },
    {
      "cell_type": "code",
      "execution_count": null,
      "metadata": {
        "colab": {
          "base_uri": "https://localhost:8080/"
        },
        "id": "pbUI4a831o5K",
        "outputId": "138b8977-5849-45dd-c844-e27f2be2442d"
      },
      "outputs": [
        {
          "data": {
            "text/plain": [
              "(array([[99, 99, 98, ..., 98, 96, 94],\n",
              "        [99, 99, 98, ..., 95, 94, 95],\n",
              "        [99, 99, 98, ..., 95, 96, 93],\n",
              "        ...,\n",
              "        [99, 99, 98, ..., 97, 96, 97],\n",
              "        [99, 98, 98, ..., 92, 93, 97],\n",
              "        [99, 99, 98, ..., 96, 97, 97]], dtype=int32),\n",
              " array([[336404, 432583, 771905, ..., 440742, 553105, 228662],\n",
              "        [196572, 223694, 640210, ..., 721132, 728007, 975514],\n",
              "        [967742, 622576, 924537, ..., 499663, 105599, 840316],\n",
              "        ...,\n",
              "        [ 45604, 221937, 393935, ..., 588794, 526590, 349919],\n",
              "        [892518, 589615, 225557, ..., 337403, 865882, 669459],\n",
              "        [708012, 641871, 715286, ..., 913825, 319488, 138255]]))"
            ]
          },
          "execution_count": 22,
          "metadata": {
            "tags": []
          },
          "output_type": "execute_result"
        },
        {
          "name": "stdout",
          "output_type": "stream",
          "text": [
            "time: 5.16 ms (started: 2021-05-27 15:44:27 +00:00)\n"
          ]
        }
      ],
      "source": [
        "D, I"
      ]
    },
    {
      "cell_type": "code",
      "execution_count": null,
      "metadata": {
        "colab": {
          "base_uri": "https://localhost:8080/"
        },
        "id": "nrx50BCMtryU",
        "outputId": "a64c8a12-b39c-4e0e-ec6e-f1d41681fb41"
      },
      "outputs": [
        {
          "data": {
            "text/plain": [
              "0.853"
            ]
          },
          "execution_count": 23,
          "metadata": {
            "tags": []
          },
          "output_type": "execute_result"
        },
        {
          "name": "stdout",
          "output_type": "stream",
          "text": [
            "time: 9.72 ms (started: 2021-05-27 15:44:32 +00:00)\n"
          ]
        }
      ],
      "source": [
        "# compute recall\n",
        "compute_recall(true_neighbors, I)"
      ]
    },
    {
      "cell_type": "markdown",
      "metadata": {},
      "source": [
        "You will often need tune the parameters `n_bits` and `nflip` to find the desired operational point, that is, a configuration of the index that satisfy your time/space/quality constraints."
      ]
    },
    {
      "cell_type": "markdown",
      "metadata": {
        "id": "JpEDkY9PUhmN"
      },
      "source": [
        "#### **Exercise**: Search a Good Operational Point\n",
        "Try several values for `n_bits` and `nflip`, measure query time and recall, and plot them (recall vs query_time) to find a good compromise between speed and performance."
      ]
    },
    {
      "cell_type": "code",
      "execution_count": null,
      "metadata": {
        "id": "8L9xt1mvVmQs"
      },
      "outputs": [],
      "source": [
        "# build the index with n_bits\n",
        "index = ...\n",
        "\n",
        "# add the data to the index\n",
        "\n",
        "# set nflip\n",
        "\n",
        "# query the index\n",
        "start = time.time()  # time the search\n",
        "D, I = ...\n",
        "query_time = time.time() - start\n",
        "\n",
        "# compute recall\n",
        "recall = ...\n",
        "\n",
        "\n",
        "# repeat for several configurations, save query_times and recalls"
      ]
    },
    {
      "cell_type": "markdown",
      "metadata": {},
      "source": [
        "What's the best configuration you found having query_time < 1 sec ?"
      ]
    },
    {
      "cell_type": "code",
      "execution_count": null,
      "metadata": {
        "id": "UKsEX721dE17"
      },
      "outputs": [],
      "source": [
        "# (optional) plot recall vs query_time for varying n_bits and nflip"
      ]
    },
    {
      "cell_type": "markdown",
      "metadata": {
        "id": "IoBUaAJC7JcX"
      },
      "source": [
        "### LSH with multiple $g()$ (FAISS)"
      ]
    },
    {
      "cell_type": "markdown",
      "metadata": {
        "id": "sOm8mHbdYxPg"
      },
      "source": [
        "The previous index is equivalent to an LSH index with only one hash function $g()$. The `IndexBinaryMultiHash` provides the possibility of using multiple hashes (and thus multiple splits into buckets). This index uses the first `n_bits` for the first hash, the subsequent `n_bits` for the second hash, and so on until `n_hashes` hashes are formed."
      ]
    },
    {
      "cell_type": "code",
      "execution_count": null,
      "metadata": {
        "colab": {
          "base_uri": "https://localhost:8080/"
        },
        "id": "gm4zVgyo4VGo",
        "outputId": "aa04f3f7-97ed-4a1e-a460-e5524fcd1e4c"
      },
      "outputs": [
        {
          "name": "stdout",
          "output_type": "stream",
          "text": [
            "time: 233 ms (started: 2021-06-01 13:29:46 +00:00)\n"
          ]
        }
      ],
      "source": [
        "n_hashes = 8\n",
        "n_bits = 4\n",
        "\n",
        "# build the index with n_bits and n_hashes\n",
        "index = faiss.IndexBinaryMultiHash(d_bits, n_hashes, n_bits)\n",
        "\n",
        "# add the data to the index\n",
        "index.add(xb)"
      ]
    },
    {
      "cell_type": "markdown",
      "metadata": {
        "id": "XaiS_xItbJf2"
      },
      "source": [
        "At query time, we visit buckets having hashes that are at most `nflip` bits away from the hash of the query, for each hash group.\n",
        "\n",
        "**NOTE**: at query time, we can change `nflip` without rebuilding the index; moreover, we can change the number of hashes `nhash` among the available ones that we want to use."
      ]
    },
    {
      "cell_type": "code",
      "execution_count": null,
      "metadata": {
        "colab": {
          "base_uri": "https://localhost:8080/"
        },
        "id": "w4_Mrhq4A0tg",
        "outputId": "bdba883a-1704-468b-ca7c-0a98f985001d"
      },
      "outputs": [
        {
          "name": "stdout",
          "output_type": "stream",
          "text": [
            "time: 24.9 s (started: 2021-06-01 13:31:40 +00:00)\n"
          ]
        }
      ],
      "source": [
        "# set nflip and nhash\n",
        "index.nflip = 1\n",
        "index.nhash = 4\n",
        "\n",
        "# query the index\n",
        "D, I = index.search(qb, k)"
      ]
    },
    {
      "cell_type": "code",
      "execution_count": null,
      "metadata": {
        "colab": {
          "base_uri": "https://localhost:8080/"
        },
        "id": "psOM4ThfBQef",
        "outputId": "de074d16-5c90-4fec-9cb1-81731603c9b5"
      },
      "outputs": [
        {
          "data": {
            "text/plain": [
              "1.0"
            ]
          },
          "execution_count": 14,
          "metadata": {
            "tags": []
          },
          "output_type": "execute_result"
        },
        {
          "name": "stdout",
          "output_type": "stream",
          "text": [
            "time: 12.3 ms (started: 2021-06-01 13:33:01 +00:00)\n"
          ]
        }
      ],
      "source": [
        "# compute recall\n",
        "compute_recall(true_neighbors, I)"
      ]
    },
    {
      "cell_type": "markdown",
      "metadata": {
        "id": "h6JOxrNQcjBL"
      },
      "source": [
        "#### **Exercise**: Search a Good Operational Point\n",
        "Try several values for `n_bits`, `nhash`, and `nflip`, measure query time and recall, and plot them (recall vs query_time) to find a good compromise between speed and performance."
      ]
    },
    {
      "cell_type": "code",
      "execution_count": null,
      "metadata": {
        "id": "j6FtsyuyclFL"
      },
      "outputs": [],
      "source": [
        "# build the index with n_bits and n_hashes\n",
        "\n",
        "# add the data to the index\n",
        "\n",
        "# set nflip and nhash\n",
        "\n",
        "# query the index\n",
        "start = time.time()  # time the search\n",
        "D, I = ...\n",
        "query_time = time.time() - start\n",
        "\n",
        "# compute recall\n",
        "recall = ...\n",
        "\n",
        "# repeat for several configurations, save query_times and recalls"
      ]
    },
    {
      "cell_type": "code",
      "execution_count": null,
      "metadata": {
        "id": "wBQjYYgkdJyD"
      },
      "outputs": [],
      "source": [
        "# plot recall vs query_time"
      ]
    },
    {
      "cell_type": "markdown",
      "metadata": {
        "id": "wejviSfKdz3W"
      },
      "source": [
        "**WARNING**: FAISS provides also an `IndexLSH` class, but this class is intended for _producing hashes from real-valued vectors that are then compared with the Hamming distance, without any kind on bucketing_.\n",
        "We will see this index in the following Open Lab when tackling real-valued vectors."
      ]
    },
    {
      "cell_type": "markdown",
      "metadata": {
        "id": "f_pkgQH8fFMO"
      },
      "source": [
        "## Indexing Metric Objects ($o \\in$ Strings, $d =$ Edit Distance)"
      ]
    },
    {
      "cell_type": "markdown",
      "metadata": {
        "id": "b6wpPzrOgFJ4"
      },
      "source": [
        "Now, we will explore a scenario in which objects aren't real-valued vectors, and common tools for euclidean spaces cannot be applied, and solutions for generic metric spaces must be applied."
      ]
    },
    {
      "cell_type": "markdown",
      "metadata": {
        "id": "o8jWA9i3ijze"
      },
      "source": [
        "### Getting Started"
      ]
    },
    {
      "cell_type": "markdown",
      "metadata": {
        "id": "gATcO9eVilT0"
      },
      "source": [
        "As objects to be indexes, we will consider a set of strings that we want to compare with the Levenshtein distance (a.k.a. edit distance).\n",
        "We install the `python-Levenshtein` package that provides an efficient implementation of the edit distance."
      ]
    },
    {
      "cell_type": "code",
      "execution_count": null,
      "metadata": {
        "colab": {
          "base_uri": "https://localhost:8080/"
        },
        "id": "ErwJaSion7vp",
        "outputId": "44efe6f0-149f-42a6-f195-235bea3da06d"
      },
      "outputs": [
        {
          "name": "stdout",
          "output_type": "stream",
          "text": [
            "\u001b[?25l\r\u001b[K     |██████▌                         | 10kB 9.6MB/s eta 0:00:01\r\u001b[K     |█████████████                   | 20kB 14.1MB/s eta 0:00:01\r\u001b[K     |███████████████████▌            | 30kB 16.2MB/s eta 0:00:01\r\u001b[K     |██████████████████████████      | 40kB 17.6MB/s eta 0:00:01\r\u001b[K     |████████████████████████████████| 51kB 3.6MB/s \n",
            "\u001b[?25h  Building wheel for python-Levenshtein (setup.py) ... \u001b[?25l\u001b[?25hdone\n",
            "time: 8.08 s (started: 2021-06-01 14:31:24 +00:00)\n"
          ]
        }
      ],
      "source": [
        "!pip install -q python-Levenshtein"
      ]
    },
    {
      "cell_type": "code",
      "execution_count": null,
      "metadata": {
        "colab": {
          "base_uri": "https://localhost:8080/"
        },
        "id": "yC58sbAPg_JB",
        "outputId": "6cd763f8-f1c6-477b-f04c-86f3a3a4a90d"
      },
      "outputs": [
        {
          "name": "stdout",
          "output_type": "stream",
          "text": [
            "time: 10.2 ms (started: 2021-06-01 14:31:33 +00:00)\n"
          ]
        }
      ],
      "source": [
        "from Levenshtein import distance as edit_distance\n",
        "from scipy.spatial.distance import cdist"
      ]
    },
    {
      "cell_type": "markdown",
      "metadata": {
        "id": "LVGL0yaUg_8L"
      },
      "source": [
        "As database objects, we select a dataset of english given names available in the Natural Language Toolkit (nltk)."
      ]
    },
    {
      "cell_type": "code",
      "execution_count": null,
      "metadata": {
        "colab": {
          "base_uri": "https://localhost:8080/"
        },
        "id": "KQEa-kiRX3eX",
        "outputId": "44ddf39e-3091-4599-fed2-ebb0f0f01b7b"
      },
      "outputs": [
        {
          "name": "stdout",
          "output_type": "stream",
          "text": [
            "[nltk_data] Downloading package names to /root/nltk_data...\n",
            "[nltk_data]   Unzipping corpora/names.zip.\n"
          ]
        },
        {
          "data": {
            "text/plain": [
              "(array(['Debee', 'Aharon', 'Cyndy', ..., 'Reba', 'Jennette', 'Rodolphe'],\n",
              "       dtype=object), 7579)"
            ]
          },
          "execution_count": 21,
          "metadata": {
            "tags": []
          },
          "output_type": "execute_result"
        },
        {
          "name": "stdout",
          "output_type": "stream",
          "text": [
            "time: 1.45 s (started: 2021-06-01 14:31:33 +00:00)\n"
          ]
        }
      ],
      "source": [
        "import nltk\n",
        "nltk.download('names')\n",
        "from nltk.corpus import names\n",
        "\n",
        "db = names.words()  \n",
        "db = list(set(db))  # remove duplicates\n",
        "db = np.array(db, dtype=np.object)  # database\n",
        "queries = np.random.choice(db, 10)  # queries\n",
        "\n",
        "db, len(db)"
      ]
    },
    {
      "cell_type": "code",
      "execution_count": null,
      "metadata": {
        "colab": {
          "base_uri": "https://localhost:8080/"
        },
        "id": "FhGNSkNFX8uC",
        "outputId": "a5697b25-a3d7-4163-ccbb-d64f6ed0ac5a"
      },
      "outputs": [
        {
          "data": {
            "text/plain": [
              "('Debee', 'Andie', 4)"
            ]
          },
          "execution_count": 22,
          "metadata": {
            "tags": []
          },
          "output_type": "execute_result"
        },
        {
          "name": "stdout",
          "output_type": "stream",
          "text": [
            "time: 12.2 ms (started: 2021-06-01 14:31:34 +00:00)\n"
          ]
        }
      ],
      "source": [
        "db[0], queries[0], edit_distance(db[0], queries[0])"
      ]
    },
    {
      "cell_type": "markdown",
      "metadata": {
        "id": "k2Be8lzxho3K"
      },
      "source": [
        "Let's define a helper function to compute the edit distance between two sets of strings (similar to the [`scipy.spatial.distance.cdist`](https://docs.scipy.org/doc/scipy/reference/generated/scipy.spatial.distance.cdist.html) function for real-valued vectors)."
      ]
    },
    {
      "cell_type": "code",
      "execution_count": null,
      "metadata": {
        "colab": {
          "base_uri": "https://localhost:8080/"
        },
        "id": "Wem2028nYdBe",
        "outputId": "6be92fa7-976a-40e9-c2b5-36f07d69abb7"
      },
      "outputs": [
        {
          "name": "stdout",
          "output_type": "stream",
          "text": [
            "time: 3.73 ms (started: 2021-06-01 14:31:34 +00:00)\n"
          ]
        }
      ],
      "source": [
        "def edit_cdist(a, b):\n",
        "  D = np.empty((len(a), len(b)), dtype=np.int32)\n",
        "\n",
        "  for i, qi in enumerate(a):\n",
        "    for j, xj in enumerate(b):\n",
        "      D[i, j] = edit_distance(qi, xj)\n",
        "\n",
        "  return D"
      ]
    },
    {
      "cell_type": "markdown",
      "metadata": {
        "id": "C6CA01-Fipsd"
      },
      "source": [
        "### Sequential Scan / Bruteforce"
      ]
    },
    {
      "cell_type": "markdown",
      "metadata": {
        "id": "r1iUkb5xjrZA"
      },
      "source": [
        "As baseline, we compute the whole distance matrix between queries and datasets to get the true neighbors.\n",
        "\n",
        "**NOTE**: this operation is usually unfeasible for datasets large enough to need indexing."
      ]
    },
    {
      "cell_type": "code",
      "execution_count": null,
      "metadata": {
        "colab": {
          "base_uri": "https://localhost:8080/"
        },
        "id": "av2TpNKmZQe6",
        "outputId": "d0425eff-13d5-409e-8fe3-eaf34cd4d1fe"
      },
      "outputs": [
        {
          "data": {
            "text/plain": [
              "array([[4, 5, 4, ..., 5, 6, 6],\n",
              "       [4, 6, 5, ..., 5, 7, 7],\n",
              "       [3, 5, 4, ..., 4, 6, 7],\n",
              "       ...,\n",
              "       [7, 4, 7, ..., 7, 7, 7],\n",
              "       [8, 6, 8, ..., 8, 8, 7],\n",
              "       [5, 6, 6, ..., 4, 6, 8]], dtype=int32)"
            ]
          },
          "execution_count": 24,
          "metadata": {
            "tags": []
          },
          "output_type": "execute_result"
        },
        {
          "name": "stdout",
          "output_type": "stream",
          "text": [
            "time: 94.7 ms (started: 2021-06-01 14:31:34 +00:00)\n"
          ]
        }
      ],
      "source": [
        "D = edit_cdist(queries, db)\n",
        "D"
      ]
    },
    {
      "cell_type": "code",
      "execution_count": null,
      "metadata": {
        "colab": {
          "base_uri": "https://localhost:8080/"
        },
        "id": "hkqtPccQZ9xI",
        "outputId": "d6c16a14-5ad1-49d7-d74d-ce513c23c5f0"
      },
      "outputs": [
        {
          "data": {
            "text/plain": [
              "('Charmane',\n",
              " array(['Charmane', 'Charmaine', 'Charmine', 'Charline', 'Carmine'],\n",
              "       dtype=object))"
            ]
          },
          "execution_count": 25,
          "metadata": {
            "tags": []
          },
          "output_type": "execute_result"
        },
        {
          "name": "stdout",
          "output_type": "stream",
          "text": [
            "time: 11.8 ms (started: 2021-06-01 14:31:34 +00:00)\n"
          ]
        }
      ],
      "source": [
        "true_neighbors = D.argsort(axis=1)\n",
        "queries[7], db[true_neighbors[7, :5]]"
      ]
    },
    {
      "cell_type": "markdown",
      "metadata": {
        "id": "-ufuPMMOlOEy"
      },
      "source": [
        "### Permutation-based Indexing"
      ]
    },
    {
      "cell_type": "markdown",
      "metadata": {
        "id": "vjWiMlIQldXL"
      },
      "source": [
        "We will see a permutation-based technique, specifically the Metric Inverted File, to index metric objects.\n",
        "In permutation-based indexing, we transform our dataset using distances to a set of reference points (a.k.a. pivots).\n",
        "For each data point, we use the ordered sequence of the pivots, from the nearest to the farthest, as representation. This ordered sequence is also called **permutataion**.\n",
        "\n",
        "Similar objects will have similar permutations, specially in the first part of the permutation.\n",
        "\n",
        "Permutations can be compared using the **Spearman's Footrule Distance (SFD)** that sums the difference in position for each pivot.\n",
        "\n",
        "Let's start by randomly choosing a set of pivots."
      ]
    },
    {
      "cell_type": "code",
      "execution_count": null,
      "metadata": {
        "colab": {
          "base_uri": "https://localhost:8080/"
        },
        "id": "-4cA2l9OarYc",
        "outputId": "66cddd35-8fe0-4c39-dcbf-bf62c9864011"
      },
      "outputs": [
        {
          "data": {
            "text/plain": [
              "array(['Idelle', 'Wynnie', 'Elden', 'Gerold', 'Maryjo', 'Stevie',\n",
              "       'Ashely', 'Paulina', 'Adrian', 'Shandee', 'Mustafa', 'Minda',\n",
              "       'Stacey', 'Ange', 'Hugh', 'Lyndsay', 'Constancy', 'Sophronia',\n",
              "       'Raimund', 'Kaspar', 'Ezechiel', 'Catina', 'Didi', 'Calypso',\n",
              "       'Michael'], dtype=object)"
            ]
          },
          "execution_count": 28,
          "metadata": {
            "tags": []
          },
          "output_type": "execute_result"
        },
        {
          "name": "stdout",
          "output_type": "stream",
          "text": [
            "time: 7.93 ms (started: 2021-06-01 14:32:00 +00:00)\n"
          ]
        }
      ],
      "source": [
        "pivots = np.random.choice(db, 25)\n",
        "pivots"
      ]
    },
    {
      "cell_type": "markdown",
      "metadata": {
        "id": "c06KIAfHl8nl"
      },
      "source": [
        "Next, we compute the distances of each dataset object to the pivots ..."
      ]
    },
    {
      "cell_type": "code",
      "execution_count": null,
      "metadata": {
        "colab": {
          "base_uri": "https://localhost:8080/"
        },
        "id": "5xXX3uppbGuz",
        "outputId": "acfacc03-1a38-498f-c809-1b11b7df69f1"
      },
      "outputs": [
        {
          "data": {
            "text/plain": [
              "(7579, 25)"
            ]
          },
          "execution_count": 29,
          "metadata": {
            "tags": []
          },
          "output_type": "execute_result"
        },
        {
          "name": "stdout",
          "output_type": "stream",
          "text": [
            "time: 102 ms (started: 2021-06-01 14:32:06 +00:00)\n"
          ]
        }
      ],
      "source": [
        "xp_distances = edit_cdist(db, pivots)\n",
        "xp_distances.shape"
      ]
    },
    {
      "cell_type": "markdown",
      "metadata": {
        "id": "vvBIoXSEmZZI"
      },
      "source": [
        ".. and sort the distances to find how pivots are ranked."
      ]
    },
    {
      "cell_type": "code",
      "execution_count": null,
      "metadata": {
        "colab": {
          "base_uri": "https://localhost:8080/"
        },
        "id": "Z3gU3ex7b4MN",
        "outputId": "9340256e-ba08-4e17-963a-24c0f6d12b60"
      },
      "outputs": [
        {
          "data": {
            "text/plain": [
              "array([[ 0, 22,  2, ..., 18, 16, 17],\n",
              "       [ 8, 12,  2, ..., 23, 16, 20],\n",
              "       [15, 11,  1, ..., 24, 17, 20],\n",
              "       ...,\n",
              "       [22, 11, 14, ..., 23, 16, 17],\n",
              "       [ 1,  0, 13, ..., 10, 24, 17],\n",
              "       [ 0,  3, 14, ...,  4, 17, 24]])"
            ]
          },
          "execution_count": 30,
          "metadata": {
            "tags": []
          },
          "output_type": "execute_result"
        },
        {
          "name": "stdout",
          "output_type": "stream",
          "text": [
            "time: 10 ms (started: 2021-06-01 14:32:06 +00:00)\n"
          ]
        }
      ],
      "source": [
        "# permutation: i -> pivot with rank i\n",
        "xp_permutation = xp_distances.argsort(axis=1)\n",
        "xp_permutation"
      ]
    },
    {
      "cell_type": "markdown",
      "metadata": {
        "id": "VKF3-9z9sDOm"
      },
      "source": [
        "For computing the SFD, we need to find the position of each pivot, ordered by pivot number (also called **inverse permutation**).\n",
        "This can be found by sorting again the permutation:"
      ]
    },
    {
      "cell_type": "code",
      "execution_count": null,
      "metadata": {
        "colab": {
          "base_uri": "https://localhost:8080/"
        },
        "id": "pPFf1haJb6qU",
        "outputId": "15ca531e-8603-4117-d6f0-c7561ab60b17"
      },
      "outputs": [
        {
          "data": {
            "text/plain": [
              "array([[ 0, 11,  2, ...,  1, 20, 17],\n",
              "       [14, 18,  2, ...,  9, 22, 19],\n",
              "       [15,  2,  6, ...,  3, 10, 22],\n",
              "       ...,\n",
              "       [ 4, 18,  5, ...,  0, 22, 19],\n",
              "       [ 1,  0, 10, ..., 12, 20, 23],\n",
              "       [ 0, 12, 11, ..., 10,  4, 24]])"
            ]
          },
          "execution_count": 31,
          "metadata": {
            "tags": []
          },
          "output_type": "execute_result"
        },
        {
          "name": "stdout",
          "output_type": "stream",
          "text": [
            "time: 12.4 ms (started: 2021-06-01 14:32:06 +00:00)\n"
          ]
        }
      ],
      "source": [
        "# inverse permutation: i -> position of pivot i\n",
        "xp_inv_perm = xp_permutation.argsort(axis=1)\n",
        "xp_inv_perm"
      ]
    },
    {
      "cell_type": "markdown",
      "metadata": {
        "id": "9NqXFgivsh08"
      },
      "source": [
        "Let's find also the representations of the queries by applying the same steps:"
      ]
    },
    {
      "cell_type": "code",
      "execution_count": null,
      "metadata": {
        "colab": {
          "base_uri": "https://localhost:8080/"
        },
        "id": "OJRl1A6sdsx4",
        "outputId": "6bf939a0-a90c-4d46-f298-e0c8a9a3068f"
      },
      "outputs": [
        {
          "data": {
            "text/plain": [
              "(10, 25)"
            ]
          },
          "execution_count": 32,
          "metadata": {
            "tags": []
          },
          "output_type": "execute_result"
        },
        {
          "name": "stdout",
          "output_type": "stream",
          "text": [
            "time: 12 ms (started: 2021-06-01 14:32:06 +00:00)\n"
          ]
        }
      ],
      "source": [
        "qp_distances = edit_cdist(queries, pivots)\n",
        "qp_inv_perm = qp_distances.argsort(axis=1).argsort(axis=1)\n",
        "qp_inv_perm.shape"
      ]
    },
    {
      "cell_type": "markdown",
      "metadata": {
        "id": "2EG-EyOgsvfV"
      },
      "source": [
        "Finally, we can compute the SFD between queries and datasets representations; this is equivalent to the L1 distances between the inverted permutations."
      ]
    },
    {
      "cell_type": "code",
      "execution_count": null,
      "metadata": {
        "colab": {
          "base_uri": "https://localhost:8080/"
        },
        "id": "alMknEEFeC_y",
        "outputId": "4f6d4d69-6cc3-4c23-863c-854bbc860e41"
      },
      "outputs": [
        {
          "data": {
            "text/plain": [
              "(10, 7579)"
            ]
          },
          "execution_count": 33,
          "metadata": {
            "tags": []
          },
          "output_type": "execute_result"
        },
        {
          "name": "stdout",
          "output_type": "stream",
          "text": [
            "time: 9.7 ms (started: 2021-06-01 14:32:06 +00:00)\n"
          ]
        }
      ],
      "source": [
        "qx_sfd = cdist(qp_inv_perm, xp_inv_perm, metric='cityblock')\n",
        "qx_sfd.shape"
      ]
    },
    {
      "cell_type": "markdown",
      "metadata": {
        "id": "WxbJntdDtBnB"
      },
      "source": [
        "Let's use the SFD to rank objects by similar permutations, and check that still we are retrieving similar object first."
      ]
    },
    {
      "cell_type": "code",
      "execution_count": null,
      "metadata": {
        "colab": {
          "base_uri": "https://localhost:8080/"
        },
        "id": "RsaINZFfetEC",
        "outputId": "67b5b48b-1d54-44f0-a1e2-6b9738913f9f"
      },
      "outputs": [
        {
          "data": {
            "text/plain": [
              "('Marillin', array(['Marillin', 'Marilin', 'Marylin', 'Padraig', 'Marlon'],\n",
              "       dtype=object), array(['Marillin', 'Marilin', 'Marylin', 'Mariellen', 'Marlin'],\n",
              "       dtype=object))"
            ]
          },
          "execution_count": 34,
          "metadata": {
            "tags": []
          },
          "output_type": "execute_result"
        },
        {
          "name": "stdout",
          "output_type": "stream",
          "text": [
            "time: 13.4 ms (started: 2021-06-01 14:32:07 +00:00)\n"
          ]
        }
      ],
      "source": [
        "I = qx_sfd.argsort(axis=1)\n",
        "\n",
        "queries[8], db[I[8,:5]], db[true_neighbors[8,:5]]"
      ]
    },
    {
      "cell_type": "code",
      "execution_count": null,
      "metadata": {
        "colab": {
          "base_uri": "https://localhost:8080/"
        },
        "id": "UwlHgPHWtWrj",
        "outputId": "53190e9e-46d7-4840-a89f-0d60634cbd55"
      },
      "outputs": [
        {
          "data": {
            "text/plain": [
              "0.4999999999999999"
            ]
          },
          "execution_count": 35,
          "metadata": {
            "tags": []
          },
          "output_type": "execute_result"
        },
        {
          "name": "stdout",
          "output_type": "stream",
          "text": [
            "time: 8.38 ms (started: 2021-06-01 14:32:08 +00:00)\n"
          ]
        }
      ],
      "source": [
        "k = 3\n",
        "compute_recall(true_neighbors[:, :k], I[:, :k])"
      ]
    },
    {
      "cell_type": "markdown",
      "metadata": {
        "id": "0wOBjHWzuuty"
      },
      "source": [
        "### Metric Inverted File (MI-File)"
      ]
    },
    {
      "cell_type": "markdown",
      "metadata": {
        "id": "gprIoqQfuz7R"
      },
      "source": [
        "Up to now, we transformed metric objects to permutations that can be compared with the SFD, but we gained no advantage in the query time and we lost in recall.\n",
        "\n",
        "The real advantage of using permutations as representations is the possibility of efficiently indexing them using permutation-based indices.\n",
        "\n",
        "Here, we will implement a simple RAM-based Metric Inverted File that will support the following parameters:\n",
        "\n",
        "\n",
        "*   **`n_pivots`**: the number of posting lists (one per pivot); each posting list will contain entries with an object ID $o$ and the position of the pivot in $o$'s permutation.\n",
        "*   **`k_x`**: the length of the prefix of the permutation that we insert in the posting lists (the values of the permutation after the `k_x`-th will be discarded); _this controls the length of the posting lists_.\n",
        "*   **`k_s`**: the length of the prefix of the permutation of the query that we use for search (the posting lists of the pivots that are in position > `k_s` will be accessed); _this controls the number of posting lists accessed per query_.\n",
        "*   **`mdp`**: the maximum distance of the position; we will access entries of a posting lists having the pivot's positions at most `mdp` away from the one of the query; _this controls the number of entries in posting list that are accessed_.\n",
        "\n"
      ]
    },
    {
      "cell_type": "markdown",
      "metadata": {
        "id": "xfTeRPKdiiM1"
      },
      "source": [
        "![image.png](data:image/png;base64,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)"
      ]
    },
    {
      "cell_type": "code",
      "execution_count": null,
      "metadata": {
        "colab": {
          "base_uri": "https://localhost:8080/"
        },
        "id": "x4_t_l4ze80l",
        "outputId": "c57a8fbe-99a7-4a8e-bcd5-b864ab313cfe"
      },
      "outputs": [
        {
          "name": "stdout",
          "output_type": "stream",
          "text": [
            "time: 3.34 s (started: 2021-06-01 14:32:09 +00:00)\n"
          ]
        }
      ],
      "source": [
        "!pip install -q sortedcontainers"
      ]
    },
    {
      "cell_type": "code",
      "execution_count": null,
      "metadata": {
        "colab": {
          "base_uri": "https://localhost:8080/"
        },
        "id": "cJvVdZJUfLgd",
        "outputId": "ad6406e7-bd45-4cf1-9fd4-0327387ed818"
      },
      "outputs": [
        {
          "name": "stdout",
          "output_type": "stream",
          "text": [
            "time: 2.41 ms (started: 2021-06-01 14:32:12 +00:00)\n"
          ]
        }
      ],
      "source": [
        "from collections import defaultdict\n",
        "from sortedcontainers import SortedList"
      ]
    },
    {
      "cell_type": "code",
      "execution_count": null,
      "metadata": {
        "colab": {
          "base_uri": "https://localhost:8080/"
        },
        "id": "AjBYyzK1fjZn",
        "outputId": "b85dddf4-7b05-428d-cf3f-3d7a038b9755"
      },
      "outputs": [
        {
          "name": "stdout",
          "output_type": "stream",
          "text": [
            "time: 85.7 ms (started: 2021-06-01 14:32:12 +00:00)\n"
          ]
        }
      ],
      "source": [
        "class MIFile():\n",
        "  \"\"\" This class implements a Metric Inverted Files for indexing and searching\n",
        "      permutations.\n",
        "  \"\"\"\n",
        "\n",
        "  def __init__(self, n_pivots, k_x=None):\n",
        "    \"\"\" Constructs a new index with n_pivots posting lists, initially empty.\n",
        "\n",
        "        - `k_x` is the length of the prefix of permutation to index (pivots in\n",
        "        positions > `k_x` will be discarded and not inserted in the index).\n",
        "    \"\"\"\n",
        "    self.n_pivots = n_pivots\n",
        "    self.posting_lists = defaultdict(SortedList)  # posting lists are sorted lists\n",
        "    self.k_x = k_x or n_pivots\n",
        "\n",
        "    self.ntotal = 0\n",
        "\n",
        "  def add(self, x):\n",
        "    \"\"\" Adds permutations to the indexes.\n",
        "\n",
        "        - `x` is (n_samples x n_pivots) matrix containing n_samples permutations.\n",
        "    \"\"\"\n",
        "    n_samples = len(x)\n",
        "    new_ids = range(n_samples)  # ids are incremental integers\n",
        "\n",
        "    for i, positions_of_pivot_i in enumerate(x.T):  # iterate over the pivots\n",
        "      new_entries = zip(positions_of_pivot_i, new_ids)  # entries are tuples (pos, id)\n",
        "      new_entries = filter(lambda e: e[0] < self.k_x, new_entries)  # keep only if pos < k_x\n",
        "      self.posting_lists[i].update(new_entries)  # add entries to the pivot's posting list\n",
        "    \n",
        "    self.ntotal += n_samples\n",
        "  \n",
        "  def search(self, q, k=None, k_s=None, mdp=None):\n",
        "    \"\"\" Searches the index for the `k` nearest neighbors of each query in `q`.\n",
        "\n",
        "        - `q` is (n_queries x n_pivots) matrix containing n_queries permutations.\n",
        "        - `k_s` is the length of the prefix of queries' permutation to use (pivots\n",
        "        in positions > `k_s` will be discarded and the corresponding posting\n",
        "        lists not accessed).\n",
        "        - `mdp` is the maximum distance of pivot positions between query and \n",
        "        data point that is acceptable; entries in the posting lists with larger\n",
        "        distances will not be accessed.\n",
        "    \"\"\"\n",
        "    n_queries = len(q)\n",
        "    k = k or self.ntotal\n",
        "    k_s = k_s or self.n_pivots\n",
        "\n",
        "    # prepare the output (-1 and infs means that less than k objects are retrieved)\n",
        "    I = np.full((n_queries, k), fill_value=-1)\n",
        "    D = np.full((n_queries, k), fill_value=np.inf)\n",
        "\n",
        "    for i, qi in enumerate(q):  # process a query at the time\n",
        "      distances = defaultdict(int)  # keeps partial SFD distance computations\n",
        "      \n",
        "      for j, q_pos in enumerate(qi):  # iterate the query inverse permutation\n",
        "        if q_pos < k_s:  # consider pivot j only if is among the top k_s pivots\n",
        "          posting_list = self.posting_lists[j]  # posting lists of pivot j\n",
        "\n",
        "          # begin and end delimits the part of posting list to be accessed\n",
        "          begin = (q_pos - mdp, 0) if mdp is not None else None\n",
        "          end = (q_pos + mdp + 1, 0) if mdp is not None else None\n",
        "          inclusive = (True, False) if mdp is not None else (True, True)\n",
        "\n",
        "          for entry in posting_list.irange(begin, end, inclusive=inclusive):  # iterate over entries\n",
        "            o_pos, o = entry\n",
        "            distances[o] += abs(q_pos - o_pos)  # update the partial SFD of object o\n",
        "\n",
        "      # distances now contain the SFD for each retrieved object o,\n",
        "      # we sort results by increasing SFD\n",
        "      qi_res = sorted(distances.items(), key=lambda x: x[1])\n",
        "      ids, dists = zip(*qi_res)\n",
        "\n",
        "      # we keep only the k object with smaller distances\n",
        "      ids = np.array(ids)[:k]\n",
        "      dists = np.array(dists)[:k]\n",
        "\n",
        "      # we put results in I and D (note: results may be less than k)\n",
        "      I[i, :len(ids)] = ids\n",
        "      D[i, :len(dists)] = dists\n",
        "    \n",
        "    return D, I\n",
        "\n",
        "  def n_entries(self):\n",
        "    \"\"\" Returns the number of entries that comprise all the posting lists. \"\"\"\n",
        "    return sum(map(len, self.posting_lists.values()))"
      ]
    },
    {
      "cell_type": "markdown",
      "metadata": {
        "id": "9jze_4nH_iiE"
      },
      "source": [
        "Now, we can use the MIFile as follows:"
      ]
    },
    {
      "cell_type": "code",
      "execution_count": null,
      "metadata": {
        "colab": {
          "base_uri": "https://localhost:8080/"
        },
        "id": "rLHALxGJgIL4",
        "outputId": "fe0d3faf-261b-4032-d9d0-719fdc8ffa2d"
      },
      "outputs": [
        {
          "data": {
            "text/plain": [
              "(array([[  0.,  34.,  44., ..., 276., 280., 280.],\n",
              "        [  0.,  26.,  40., ..., 268., 270., 288.],\n",
              "        [  0.,   8.,   8., ..., 268., 270., 270.],\n",
              "        ...,\n",
              "        [  0.,  80.,  82., ..., 284., 286., 300.],\n",
              "        [  0.,  36.,  46., ..., 282., 284., 284.],\n",
              "        [  0.,  46.,  48., ..., 264., 264., 268.]]),\n",
              " array([[ 503, 5059, 2826, ..., 3272, 4771, 3949],\n",
              "        [6832, 5481,  445, ..., 4938, 5194, 4771],\n",
              "        [ 878,   18, 1873, ..., 4771, 4294, 7391],\n",
              "        ...,\n",
              "        [1082, 1159, 3602, ..., 6546, 1285, 2650],\n",
              "        [ 518, 2599, 2302, ..., 6059, 6313, 5907],\n",
              "        [4255, 6792, 3767, ..., 4069, 2773, 3207]]))"
            ]
          },
          "execution_count": 39,
          "metadata": {
            "tags": []
          },
          "output_type": "execute_result"
        },
        {
          "name": "stdout",
          "output_type": "stream",
          "text": [
            "time: 2.42 s (started: 2021-06-01 14:32:12 +00:00)\n"
          ]
        }
      ],
      "source": [
        "n_pivots = len(pivots)\n",
        "index = MIFile(n_pivots)\n",
        "\n",
        "index.add(xp_inv_perm)\n",
        "D, I = index.search(qp_inv_perm)\n",
        "D, I"
      ]
    },
    {
      "cell_type": "code",
      "execution_count": null,
      "metadata": {
        "colab": {
          "base_uri": "https://localhost:8080/"
        },
        "id": "1oxnTlnXmWDL",
        "outputId": "790d71bb-8713-4bee-d32c-6918cebd72d1"
      },
      "outputs": [
        {
          "data": {
            "text/plain": [
              "0.33999999999999997"
            ]
          },
          "execution_count": 40,
          "metadata": {
            "tags": []
          },
          "output_type": "execute_result"
        },
        {
          "name": "stdout",
          "output_type": "stream",
          "text": [
            "time: 11.9 ms (started: 2021-06-01 14:32:36 +00:00)\n"
          ]
        }
      ],
      "source": [
        "k = 10\n",
        "compute_recall(true_neighbors[:, :k], I[:, :k])"
      ]
    },
    {
      "cell_type": "code",
      "execution_count": null,
      "metadata": {
        "colab": {
          "base_uri": "https://localhost:8080/"
        },
        "id": "PcPGf3P6ozAD",
        "outputId": "7de6592f-a22c-49b7-a334-a670e6dcdfbf"
      },
      "outputs": [
        {
          "data": {
            "text/plain": [
              "('Veda',\n",
              " array(['Veda', 'Neda', 'Heda', 'Leda', 'Reza'], dtype=object),\n",
              " array(['Veda', 'Vera', 'Vena', 'Vida', 'Neda'], dtype=object))"
            ]
          },
          "execution_count": 41,
          "metadata": {
            "tags": []
          },
          "output_type": "execute_result"
        },
        {
          "name": "stdout",
          "output_type": "stream",
          "text": [
            "time: 11 ms (started: 2021-06-01 14:33:11 +00:00)\n"
          ]
        }
      ],
      "source": [
        "queries[3], db[I[3, :5]], db[true_neighbors[3, :5]]"
      ]
    },
    {
      "cell_type": "markdown",
      "metadata": {},
      "source": [
        "As for any index with parameters, we need to search the parameter space for good operational points:"
      ]
    },
    {
      "cell_type": "markdown",
      "metadata": {
        "id": "imkjAq6IgkYL"
      },
      "source": [
        "#### **Exercise**: Search a Good Operational Point"
      ]
    },
    {
      "cell_type": "markdown",
      "metadata": {
        "id": "k-Kn7-eVgkYU"
      },
      "source": [
        "Try several values for `n_pivots`, `k_x`, `k_s`, and `mdp`, measure query time and recall, and plot them (recall vs query_time) to find a good compromise between speed and performance."
      ]
    },
    {
      "cell_type": "code",
      "execution_count": null,
      "metadata": {
        "id": "R5uoCHpsgkYU"
      },
      "outputs": [],
      "source": [
        "# build the index with n_pivots and k_x\n",
        "\n",
        "# add the data to the index\n",
        "\n",
        "# query the index setting k_s and mdp (use time.time() to measure query_time)\n",
        "\n",
        "# compute recall\n",
        "\n",
        "# repeat for several configurations"
      ]
    },
    {
      "cell_type": "code",
      "execution_count": null,
      "metadata": {
        "id": "gwearJP3gkYU"
      },
      "outputs": [],
      "source": [
        "# plot recall vs query_time"
      ]
    },
    {
      "cell_type": "markdown",
      "metadata": {
        "id": "VYMhJ1TRAS3W"
      },
      "source": [
        "### Reordering using the original distance"
      ]
    },
    {
      "cell_type": "markdown",
      "metadata": {
        "id": "uO-MwVLjAc9V"
      },
      "source": [
        "A useful trick that is commonly used to boost the precision of an approximated index is **reordering**; if we are interested in `k` good neighbors, we can:\n",
        "\n",
        "1.   use the fast approximated index to retrieve `k*amp` good candidate neighbors,\n",
        "2.   compute the exact distance (the edit distance in our case) on the candidate set, \n",
        "3.   reorder the `k*amp` objects on the basis of the real distance and return the first k objects.\n",
        "\n",
        "This usually boosts the recall at the cost of performing a small number of exact distance computations.\n",
        "\n",
        "Let's try it out with our MIFile."
      ]
    },
    {
      "cell_type": "code",
      "execution_count": null,
      "metadata": {
        "id": "rEobZSnP8j9M"
      },
      "outputs": [],
      "source": [
        "n_pivots = 50\n",
        "k_x = 10\n",
        "k_s = None\n",
        "mdp = None\n",
        "\n",
        "p = pivots[:n_pivots]\n",
        "xp = edit_cdist(db, p).argsort(axis=1).argsort(axis=1)\n",
        "qp = edit_cdist(queries, p).argsort(axis=1).argsort(axis=1)\n",
        "\n",
        "index = MIFile(n_pivots, k_x=k_x)\n",
        "index.add(xp)"
      ]
    },
    {
      "cell_type": "code",
      "execution_count": null,
      "metadata": {
        "colab": {
          "base_uri": "https://localhost:8080/"
        },
        "id": "C-DpQhgU_KQv",
        "outputId": "f14ca475-aac8-419c-884b-a942870ff275"
      },
      "outputs": [
        {
          "data": {
            "text/plain": [
              "0.36"
            ]
          },
          "execution_count": 194,
          "metadata": {
            "tags": []
          },
          "output_type": "execute_result"
        }
      ],
      "source": [
        "k = 10\n",
        "amp = 100\n",
        "D, I = index.search(qp, k=k*amp, k_s=k_s, mdp=mdp)\n",
        "\n",
        "compute_recall(true_neighbors[:, :k], I[:, :k])  # approximated search has low recall"
      ]
    },
    {
      "cell_type": "code",
      "execution_count": null,
      "metadata": {
        "colab": {
          "base_uri": "https://localhost:8080/"
        },
        "id": "R3kHmul29wH9",
        "outputId": "0c3b0158-bcc0-442a-acfe-1358b82d3e2c"
      },
      "outputs": [
        {
          "data": {
            "text/plain": [
              "0.9199999999999999"
            ]
          },
          "execution_count": 195,
          "metadata": {
            "tags": []
          },
          "output_type": "execute_result"
        }
      ],
      "source": [
        "reranked_results = []\n",
        "\n",
        "for i in range(len(queries)):  # iterate over queries\n",
        "  query_i = queries[i:i+1]  # the i-th query (string)\n",
        "  results_indices_i = I[i]  # the i-th approximated results set (indices)\n",
        "  results_i = db[results_indices_i]  # the i-th candidate set (strings)\n",
        "\n",
        "  real_distances = edit_cdist(query_i, results_i)  # compute the real edit distance between strings\n",
        "  reranked = real_distances.argsort(axis=1)  # sort by the real distance\n",
        "  reranked_results_i = results_indices_i[reranked]  # we rerank the indices\n",
        "  reranked_results.append(reranked_results_i)\n",
        "\n",
        "I = np.stack(reranked_results)\n",
        "\n",
        "compute_recall(true_neighbors[:, :k], I[:, :k])"
      ]
    },
    {
      "cell_type": "markdown",
      "metadata": {
        "id": "lXcV5YBgaxVC"
      },
      "source": [
        "## Additional Resources\n",
        "\n",
        "*   https://ai.facebook.com/tools/faiss/\n",
        "*   https://github.com/facebookresearch/faiss/wiki/\n",
        "*   http://mifile.deepfeatures.org/\n"
      ]
    }
  ],
  "metadata": {
    "colab": {
      "authorship_tag": "ABX9TyNqD5kII2kdVQPkunVUHuco",
      "collapsed_sections": [],
      "include_colab_link": true,
      "name": "ol3_binary_and_metric_indexing_exercise.ipynb",
      "provenance": []
    },
    "kernelspec": {
      "display_name": "Python 3",
      "name": "python3"
    },
    "language_info": {
      "name": "python"
    },
    "widgets": {
      "application/vnd.jupyter.widget-state+json": {
        "178d102415794da68e26a796ccb9c16e": {
          "model_module": "@jupyter-widgets/base",
          "model_module_version": "1.2.0",
          "model_name": "LayoutModel",
          "state": {
            "_model_module": "@jupyter-widgets/base",
            "_model_module_version": "1.2.0",
            "_model_name": "LayoutModel",
            "_view_count": null,
            "_view_module": "@jupyter-widgets/base",
            "_view_module_version": "1.2.0",
            "_view_name": "LayoutView",
            "align_content": null,
            "align_items": null,
            "align_self": null,
            "border": null,
            "bottom": null,
            "display": null,
            "flex": null,
            "flex_flow": null,
            "grid_area": null,
            "grid_auto_columns": null,
            "grid_auto_flow": null,
            "grid_auto_rows": null,
            "grid_column": null,
            "grid_gap": null,
            "grid_row": null,
            "grid_template_areas": null,
            "grid_template_columns": null,
            "grid_template_rows": null,
            "height": null,
            "justify_content": null,
            "justify_items": null,
            "left": null,
            "margin": null,
            "max_height": null,
            "max_width": null,
            "min_height": null,
            "min_width": null,
            "object_fit": null,
            "object_position": null,
            "order": null,
            "overflow": null,
            "overflow_x": null,
            "overflow_y": null,
            "padding": null,
            "right": null,
            "top": null,
            "visibility": null,
            "width": null
          }
        },
        "1b9db740f1e9473bb58bd6863245d169": {
          "model_module": "@jupyter-widgets/controls",
          "model_module_version": "1.5.0",
          "model_name": "HTMLModel",
          "state": {
            "_dom_classes": [],
            "_model_module": "@jupyter-widgets/controls",
            "_model_module_version": "1.5.0",
            "_model_name": "HTMLModel",
            "_view_count": null,
            "_view_module": "@jupyter-widgets/controls",
            "_view_module_version": "1.5.0",
            "_view_name": "HTMLView",
            "description": "",
            "description_tooltip": null,
            "layout": "IPY_MODEL_75545a508a8d4198b5f902abbc00d6a6",
            "placeholder": "​",
            "style": "IPY_MODEL_a1e265480fba44b0b996c6f4bb38ea72",
            "value": " 50/50 [56:48&lt;00:00, 68.16s/it]"
          }
        },
        "75545a508a8d4198b5f902abbc00d6a6": {
          "model_module": "@jupyter-widgets/base",
          "model_module_version": "1.2.0",
          "model_name": "LayoutModel",
          "state": {
            "_model_module": "@jupyter-widgets/base",
            "_model_module_version": "1.2.0",
            "_model_name": "LayoutModel",
            "_view_count": null,
            "_view_module": "@jupyter-widgets/base",
            "_view_module_version": "1.2.0",
            "_view_name": "LayoutView",
            "align_content": null,
            "align_items": null,
            "align_self": null,
            "border": null,
            "bottom": null,
            "display": null,
            "flex": null,
            "flex_flow": null,
            "grid_area": null,
            "grid_auto_columns": null,
            "grid_auto_flow": null,
            "grid_auto_rows": null,
            "grid_column": null,
            "grid_gap": null,
            "grid_row": null,
            "grid_template_areas": null,
            "grid_template_columns": null,
            "grid_template_rows": null,
            "height": null,
            "justify_content": null,
            "justify_items": null,
            "left": null,
            "margin": null,
            "max_height": null,
            "max_width": null,
            "min_height": null,
            "min_width": null,
            "object_fit": null,
            "object_position": null,
            "order": null,
            "overflow": null,
            "overflow_x": null,
            "overflow_y": null,
            "padding": null,
            "right": null,
            "top": null,
            "visibility": null,
            "width": null
          }
        },
        "929f0c89dd504d729b2613f428a55f16": {
          "model_module": "@jupyter-widgets/controls",
          "model_module_version": "1.5.0",
          "model_name": "ProgressStyleModel",
          "state": {
            "_model_module": "@jupyter-widgets/controls",
            "_model_module_version": "1.5.0",
            "_model_name": "ProgressStyleModel",
            "_view_count": null,
            "_view_module": "@jupyter-widgets/base",
            "_view_module_version": "1.2.0",
            "_view_name": "StyleView",
            "bar_color": null,
            "description_width": "initial"
          }
        },
        "a1e265480fba44b0b996c6f4bb38ea72": {
          "model_module": "@jupyter-widgets/controls",
          "model_module_version": "1.5.0",
          "model_name": "DescriptionStyleModel",
          "state": {
            "_model_module": "@jupyter-widgets/controls",
            "_model_module_version": "1.5.0",
            "_model_name": "DescriptionStyleModel",
            "_view_count": null,
            "_view_module": "@jupyter-widgets/base",
            "_view_module_version": "1.2.0",
            "_view_name": "StyleView",
            "description_width": ""
          }
        },
        "b57c7e2e660248d1b58c35f9ae47cb44": {
          "model_module": "@jupyter-widgets/controls",
          "model_module_version": "1.5.0",
          "model_name": "HBoxModel",
          "state": {
            "_dom_classes": [],
            "_model_module": "@jupyter-widgets/controls",
            "_model_module_version": "1.5.0",
            "_model_name": "HBoxModel",
            "_view_count": null,
            "_view_module": "@jupyter-widgets/controls",
            "_view_module_version": "1.5.0",
            "_view_name": "HBoxView",
            "box_style": "",
            "children": [
              "IPY_MODEL_c63bb319ec954f22b3e5226a3a8c4dee",
              "IPY_MODEL_1b9db740f1e9473bb58bd6863245d169"
            ],
            "layout": "IPY_MODEL_178d102415794da68e26a796ccb9c16e"
          }
        },
        "c63bb319ec954f22b3e5226a3a8c4dee": {
          "model_module": "@jupyter-widgets/controls",
          "model_module_version": "1.5.0",
          "model_name": "FloatProgressModel",
          "state": {
            "_dom_classes": [],
            "_model_module": "@jupyter-widgets/controls",
            "_model_module_version": "1.5.0",
            "_model_name": "FloatProgressModel",
            "_view_count": null,
            "_view_module": "@jupyter-widgets/controls",
            "_view_module_version": "1.5.0",
            "_view_name": "ProgressView",
            "bar_style": "success",
            "description": "100%",
            "description_tooltip": null,
            "layout": "IPY_MODEL_f34f9385910741afa6fcc11a2a98a00b",
            "max": 50,
            "min": 0,
            "orientation": "horizontal",
            "style": "IPY_MODEL_929f0c89dd504d729b2613f428a55f16",
            "value": 50
          }
        },
        "f34f9385910741afa6fcc11a2a98a00b": {
          "model_module": "@jupyter-widgets/base",
          "model_module_version": "1.2.0",
          "model_name": "LayoutModel",
          "state": {
            "_model_module": "@jupyter-widgets/base",
            "_model_module_version": "1.2.0",
            "_model_name": "LayoutModel",
            "_view_count": null,
            "_view_module": "@jupyter-widgets/base",
            "_view_module_version": "1.2.0",
            "_view_name": "LayoutView",
            "align_content": null,
            "align_items": null,
            "align_self": null,
            "border": null,
            "bottom": null,
            "display": null,
            "flex": null,
            "flex_flow": null,
            "grid_area": null,
            "grid_auto_columns": null,
            "grid_auto_flow": null,
            "grid_auto_rows": null,
            "grid_column": null,
            "grid_gap": null,
            "grid_row": null,
            "grid_template_areas": null,
            "grid_template_columns": null,
            "grid_template_rows": null,
            "height": null,
            "justify_content": null,
            "justify_items": null,
            "left": null,
            "margin": null,
            "max_height": null,
            "max_width": null,
            "min_height": null,
            "min_width": null,
            "object_fit": null,
            "object_position": null,
            "order": null,
            "overflow": null,
            "overflow_x": null,
            "overflow_y": null,
            "padding": null,
            "right": null,
            "top": null,
            "visibility": null,
            "width": null
          }
        }
      }
    }
  },
  "nbformat": 4,
  "nbformat_minor": 0
}
