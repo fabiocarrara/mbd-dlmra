{
 "cells": [
  {
   "cell_type": "markdown",
   "metadata": {
    "id": "mzM-2-5DP-8V"
   },
   "source": [
    "# DLMR Code\n",
    "---------------\n",
    "\n",
    "# Surrogate Text Representations"
   ]
  },
  {
   "cell_type": "markdown",
   "metadata": {
    "id": "WyzAcnbCB8Oz"
   },
   "source": [
    "\n",
    "\n",
    "If you want to use a textual search engine (e.g. Elasticsearch, Apache Lucene, Whoosh) to search vectors, you can use **Surrogate Text Representations** (STR), a method that enables similarity search on top of standard textual search engines.\n",
    "\n",
    "The key idea of STRs is to transform a real-valued vector into fake text that can be indexed and searched for using standard full-text search engines.\n",
    "\n",
    "To do so, we need to **transform a real-valued vector $v \\in \\mathbb{R}^d$ into a vector of positive integers $\\tilde{v} \\in \\mathbb{N}^{d'}$** representing *term frequencies* that can be mapped easily to text. This transformation $\\tilde{v} = T(v)$ should have the following properies:\n",
    "\n",
    "1.   $T$ should **preserve the rank** produced by the inner product between vectors; the more it does, the less precision we are sacrificing when scoring documents.\n",
    "\n",
    "     $ q \\cdot x < q \\cdot y  \\quad \\Longrightarrow \\quad T(q) \\cdot T(x) < T(q) \\cdot T(y)$ \n",
    "\n",
    "2.   $T$ should create **sparse** vectors; sparse vectors mean few terms per vector and thus shorter posting lists.\n",
    "\n",
    "\n",
    "We will explore the **permutation of pivots** as the transformation function `T()`."
   ]
  },
  {
   "cell_type": "code",
   "execution_count": null,
   "metadata": {},
   "outputs": [],
   "source": [
    "import h5py\n",
    "import numpy as np"
   ]
  },
  {
   "cell_type": "markdown",
   "metadata": {
    "id": "9LmCHm_yx0ue"
   },
   "source": [
    "But first, we'll get some data to index. We will use the GloVe word embedding dataset provided by [ann-benchmarks.com](https://github.com/erikbern/ann-benchmarks/#data-sets). It's a dataset of 1M+ word embeddings that also provides 10k queries for which true nearest neighbors are already computed. Vectors are compared with the cosine similarity."
   ]
  },
  {
   "cell_type": "code",
   "execution_count": null,
   "metadata": {
    "colab": {
     "base_uri": "https://localhost:8080/"
    },
    "id": "jMYwDrpRx0J3",
    "outputId": "ab189e66-28b2-41a1-e104-e3e8d43b0c06"
   },
   "outputs": [
    {
     "name": "stdout",
     "output_type": "stream",
     "text": [
      "--2021-06-04 13:52:53--  http://ann-benchmarks.com/glove-100-angular.hdf5\n",
      "Resolving ann-benchmarks.com (ann-benchmarks.com)... 52.216.110.218\n",
      "Connecting to ann-benchmarks.com (ann-benchmarks.com)|52.216.110.218|:80... connected.\n",
      "HTTP request sent, awaiting response... 200 OK\n",
      "Length: 485413888 (463M) [binary/octet-stream]\n",
      "Saving to: ‘glove-100-angular.hdf5’\n",
      "\n",
      "glove-100-angular.h 100%[===================>] 462.93M  57.2MB/s    in 7.4s    \n",
      "\n",
      "2021-06-04 13:53:00 (63.0 MB/s) - ‘glove-100-angular.hdf5’ saved [485413888/485413888]\n",
      "\n",
      "time: 7.68 s (started: 2021-06-04 13:52:53 +00:00)\n"
     ]
    }
   ],
   "source": [
    "!wget --no-clobber http://ann-benchmarks.com/glove-100-angular.hdf5"
   ]
  },
  {
   "cell_type": "markdown",
   "metadata": {
    "id": "of4fOO0yzPWU"
   },
   "source": [
    "The dataset is in HDF5 format, a popular scientific format that can be accessed using the `h5py` library. Let's see what's inside the datset file."
   ]
  },
  {
   "cell_type": "code",
   "execution_count": null,
   "metadata": {
    "colab": {
     "base_uri": "https://localhost:8080/"
    },
    "id": "6MiDhxxvzkoX",
    "outputId": "b4fcd6f1-2b37-4b05-804e-4641311ae8bb"
   },
   "outputs": [
    {
     "data": {
      "text/plain": [
       "[('distances', <HDF5 dataset \"distances\": shape (10000, 100), type \"<f4\">),\n",
       " ('neighbors', <HDF5 dataset \"neighbors\": shape (10000, 100), type \"<i4\">),\n",
       " ('test', <HDF5 dataset \"test\": shape (10000, 100), type \"<f4\">),\n",
       " ('train', <HDF5 dataset \"train\": shape (1183514, 100), type \"<f4\">)]"
      ]
     },
     "metadata": {},
     "output_type": "display_data"
    },
    {
     "name": "stdout",
     "output_type": "stream",
     "text": [
      "time: 25.3 ms (started: 2021-06-04 13:53:00 +00:00)\n"
     ]
    }
   ],
   "source": [
    "data = h5py.File('glove-100-angular.hdf5', 'r')  # open in read mode\n",
    "list(data.items())"
   ]
  },
  {
   "cell_type": "code",
   "execution_count": null,
   "metadata": {
    "colab": {
     "base_uri": "https://localhost:8080/"
    },
    "id": "hQxxP74L0Ec9",
    "outputId": "b8d240d7-f521-474b-9ecf-ed29236b8ef6"
   },
   "outputs": [
    {
     "data": {
      "text/plain": [
       "array([-0.11333  ,  0.48402  ,  0.090771 , -0.22439  ,  0.034206 ,\n",
       "       -0.55831  ,  0.041849 , -0.53573  ,  0.18809  , -0.58722  ,\n",
       "        0.015313 , -0.014555 ,  0.80842  , -0.038519 ,  0.75348  ,\n",
       "        0.70502  , -0.17863  ,  0.3222   ,  0.67575  ,  0.67198  ,\n",
       "        0.26044  ,  0.4187   , -0.34122  ,  0.2286   , -0.53529  ,\n",
       "        1.2582   , -0.091543 ,  0.19716  , -0.037454 , -0.3336   ,\n",
       "        0.31399  ,  0.36488  ,  0.71263  ,  0.1307   , -0.24654  ,\n",
       "       -0.52445  , -0.036091 ,  0.55068  ,  0.10017  ,  0.48095  ,\n",
       "        0.71104  , -0.053462 ,  0.22325  ,  0.30917  , -0.39926  ,\n",
       "        0.036634 , -0.35431  , -0.42795  ,  0.46444  ,  0.25586  ,\n",
       "        0.68257  , -0.20821  ,  0.38433  ,  0.055773 , -0.2539   ,\n",
       "       -0.20804  ,  0.52522  , -0.11399  , -0.3253   , -0.44104  ,\n",
       "        0.17528  ,  0.62255  ,  0.50237  , -0.7607   , -0.071786 ,\n",
       "        0.0080131, -0.13286  ,  0.50097  ,  0.18824  , -0.54722  ,\n",
       "       -0.42664  ,  0.4292   ,  0.14877  , -0.0072514, -0.16484  ,\n",
       "       -0.059798 ,  0.9895   , -0.61738  ,  0.054169 ,  0.48424  ,\n",
       "       -0.35084  , -0.27053  ,  0.37829  ,  0.11503  , -0.39613  ,\n",
       "        0.24266  ,  0.39147  , -0.075256 ,  0.65093  , -0.20822  ,\n",
       "       -0.17456  ,  0.53571  , -0.16537  ,  0.13582  , -0.56016  ,\n",
       "        0.016964 ,  0.1277   ,  0.94071  , -0.22608  , -0.021106 ],\n",
       "      dtype=float32)"
      ]
     },
     "metadata": {},
     "output_type": "display_data"
    },
    {
     "name": "stdout",
     "output_type": "stream",
     "text": [
      "time: 12.6 ms (started: 2021-06-04 13:53:00 +00:00)\n"
     ]
    }
   ],
   "source": [
    "# data can be accessed as numpy arrays\n",
    "database = data['train'][:]\n",
    "queries = data['test'][:]\n",
    "true_neighbors = data['neighbors'][:]\n",
    "\n",
    "x[0]"
   ]
  },
  {
   "cell_type": "markdown",
   "metadata": {
    "id": "jhdP_IKw2Zkq"
   },
   "source": [
    "Since we have the groundtruth provided by the dataset, we will compute the **Recall**, that is the fraction of true neighbors of a query that have been retrieved by the system, as metric of quality of the results by our indices.\n",
    "\n",
    "$ \\text{Recall} = \\dfrac{|\\text{True Neighbors} \\cap \\text{Retrieved Objects}|}{|\\text{True Neighbors}|}\\,.$"
   ]
  },
  {
   "cell_type": "code",
   "execution_count": null,
   "metadata": {
    "colab": {
     "base_uri": "https://localhost:8080/"
    },
    "id": "6gHfA_vx2WVS",
    "outputId": "b3ccb501-7ba9-4e06-ce0b-d8464db9b83e"
   },
   "outputs": [
    {
     "name": "stdout",
     "output_type": "stream",
     "text": [
      "time: 4.97 ms (started: 2021-06-04 13:53:00 +00:00)\n"
     ]
    }
   ],
   "source": [
    "def compute_recall(true_neighbors, predicted_neighbors):\n",
    "  recalls = []\n",
    "  for t, p in zip(true_neighbors, predicted_neighbors):\n",
    "    intersection = np.intersect1d(t, p)\n",
    "    recall = len(intersection) / len(t)\n",
    "    recalls.append(recall)\n",
    "\n",
    "  return np.mean(recalls)"
   ]
  },
  {
   "cell_type": "markdown",
   "metadata": {},
   "source": [
    "## Pivots Permutation Representation"
   ]
  },
  {
   "cell_type": "markdown",
   "metadata": {
    "id": "UUAEcjwklcr6"
   },
   "source": [
    "Let's select some pivots at random from the database:"
   ]
  },
  {
   "cell_type": "code",
   "execution_count": null,
   "metadata": {},
   "outputs": [],
   "source": [
    "n_pivots = 1000\n",
    "\n",
    "pivots = np.random.choice(database, n_pivots)"
   ]
  },
  {
   "cell_type": "code",
   "execution_count": null,
   "metadata": {},
   "outputs": [],
   "source": [
    "from sklearn.metrics import pairwise_distances\n",
    "\n",
    "xp_distances = pairwise_distances(database, pivots, metric='cosine')\n",
    "xp_distances"
   ]
  },
  {
   "cell_type": "code",
   "execution_count": null,
   "metadata": {},
   "outputs": [],
   "source": [
    "# permutation: i -> pivot with rank i\n",
    "xp_permutation = xp_distances.argsort(axis=1)\n",
    "xp_permutation"
   ]
  },
  {
   "cell_type": "code",
   "execution_count": null,
   "metadata": {},
   "outputs": [],
   "source": [
    "# inverse permutation: i -> position of pivot i\n",
    "xp_inv_perm = xp_permutation.argsort(axis=1)\n",
    "xp_inv_perm"
   ]
  },
  {
   "cell_type": "code",
   "execution_count": null,
   "metadata": {},
   "outputs": [],
   "source": [
    "qp_distances = pairwise_distances(database, pivots, metric='cosine')\n",
    "qp_inv_perm = qp_distances.argsort(axis=1).argsort(axis=1)"
   ]
  },
  {
   "cell_type": "code",
   "execution_count": null,
   "metadata": {
    "colab": {
     "base_uri": "https://localhost:8080/"
    },
    "id": "vLRYarhkwn9i",
    "outputId": "9bd802fa-d0d9-417b-8d12-28ffef03f1d9"
   },
   "outputs": [
    {
     "name": "stdout",
     "output_type": "stream",
     "text": [
      "time: 8.05 ms (started: 2021-05-31 18:07:17 +00:00)\n"
     ]
    }
   ],
   "source": [
    "def T(samples, pivots):\n",
    "  \"\"\" Transform real-valued vectors into Term Frequencies-like vectors via permutations \"\"\"\n",
    "  xp_distances = pairwise_distances(samples, pivots, metric='cosine')\n",
    "\n",
    "  xp_permutations = xp_distances.argsort(axis=1)\n",
    "  xp_inv_permutat = xp_permutations.argsort(axis=1)\n",
    "  return xp_inv_permutat"
   ]
  },
  {
   "cell_type": "code",
   "execution_count": null,
   "metadata": {
    "colab": {
     "base_uri": "https://localhost:8080/"
    },
    "id": "deUqaq9k1FnR",
    "outputId": "24fb7e06-be01-4b20-9592-f511a75b03a8"
   },
   "outputs": [
    {
     "name": "stdout",
     "output_type": "stream",
     "text": [
      "time: 3.76 s (started: 2021-05-31 18:07:17 +00:00)\n"
     ]
    }
   ],
   "source": [
    "tx = T(db, pivots)\n",
    "tq = T(queries, pivots)"
   ]
  },
  {
   "cell_type": "markdown",
   "metadata": {
    "id": "47ZssMzZ4dgZ"
   },
   "source": [
    "Let's measure the **sparsity** of the transformed dataset. The sparsity of a vector is the fraction of zero elements in the vector.\n",
    "The sparsity of a vector is directly related to the number of entries that will be stored in the posting lists of the textual search engine; therefore, the smaller the better."
   ]
  },
  {
   "cell_type": "code",
   "execution_count": null,
   "metadata": {
    "colab": {
     "base_uri": "https://localhost:8080/"
    },
    "id": "VcNZXMQG4V9J",
    "outputId": "d43fb847-6059-4e42-c6de-a107ac3d516a"
   },
   "outputs": [
    {
     "data": {
      "text/plain": [
       "0.508522514309083"
      ]
     },
     "metadata": {},
     "output_type": "display_data"
    },
    {
     "name": "stdout",
     "output_type": "stream",
     "text": [
      "time: 568 ms (started: 2021-06-01 09:24:55 +00:00)\n"
     ]
    }
   ],
   "source": [
    "sparsity = 1 - (np.count_nonzero(tx) / tx.size)\n",
    "sparsity"
   ]
  },
  {
   "cell_type": "markdown",
   "metadata": {
    "id": "5FKiVPoRpncN"
   },
   "source": [
    "We can evaluate the performance loss introduced by the approximation by computing the inner product between the transformed vectors. This will be the operations that the textual search engine like Elasticsearch will internally perform."
   ]
  },
  {
   "cell_type": "code",
   "execution_count": null,
   "metadata": {
    "colab": {
     "base_uri": "https://localhost:8080/"
    },
    "id": "x8R_1K-Ih6Cv",
    "outputId": "02312ca1-fb79-4aaa-ee17-9094b156a0ae"
   },
   "outputs": [
    {
     "name": "stdout",
     "output_type": "stream",
     "text": [
      "0.569\n",
      "time: 1.63 s (started: 2021-05-31 18:07:30 +00:00)\n"
     ]
    }
   ],
   "source": [
    "# compute scores\n",
    "scores = tq.dot(tx.T)\n",
    "nq, ndb = scores.shape\n",
    "\n",
    "# find 100 nearest neighbors\n",
    "k = 100\n",
    "sorted_indices = scores.argsort(axis=1)[:, ::-1]  # sort descending per row\n",
    "topk = sorted_indices[:, :k]  # get **indices** of the topk images for each row\n",
    "\n",
    "recall = compute_recall(true_neighbors, sorted_indices)\n",
    "print(recall)"
   ]
  },
  {
   "cell_type": "markdown",
   "metadata": {
    "id": "xK41bSIUrUG3"
   },
   "source": [
    "Once we have transformed our vectors, we can create surrogate text representations by repeating terms as many times as indicated by the transoformed vector, i.e., we interpret the transofmed vector as term frequencies."
   ]
  },
  {
   "cell_type": "code",
   "execution_count": null,
   "metadata": {
    "colab": {
     "base_uri": "https://localhost:8080/"
    },
    "id": "qyliHVOR2Lal",
    "outputId": "9540996a-bf46-433d-d21b-96b583080c28"
   },
   "outputs": [
    {
     "name": "stdout",
     "output_type": "stream",
     "text": [
      "time: 2.73 ms (started: 2021-05-31 18:25:23 +00:00)\n"
     ]
    }
   ],
   "source": [
    "def surrogate_text(term_frequencies):\n",
    "  \"\"\" Creates Surrogate Text by repeating the i-th term\n",
    "      a number of time indicated by term_frequency[i].\n",
    "  \"\"\"\n",
    "  tokens = []\n",
    "  for i, tf in enumerate(term_frequencies):\n",
    "    tokens += [f'f{i}'] * int(tf)\n",
    "\n",
    "  text = ' '.join(tokens)\n",
    "  return text"
   ]
  },
  {
   "cell_type": "code",
   "execution_count": null,
   "metadata": {
    "colab": {
     "base_uri": "https://localhost:8080/",
     "height": 170
    },
    "id": "rF6hJVLR3Yun",
    "outputId": "c2f5e081-bd93-48d5-c138-dfcff273de45"
   },
   "outputs": [
    {
     "data": {
      "application/vnd.google.colaboratory.intrinsic+json": {
       "type": "string"
      },
      "text/plain": [
       "'f0 f0 f0 f0 f0 f0 f0 f3 f3 f3 f3 f3 f3 f3 f7 f7 f7 f8 f8 f8 f8 f8 f8 f8 f9 f9 f9 f9 f9 f9 f9 f14 f14 f14 f14 f14 f14 f14 f14 f17 f17 f17 f17 f17 f17 f17 f18 f18 f18 f18 f19 f19 f19 f22 f22 f22 f22 f22 f22 f22 f30 f30 f30 f31 f31 f32 f32 f32 f33 f33 f33 f33 f35 f35 f35 f35 f35 f39 f39 f40 f40 f40 f40 f40 f40 f40 f40 f40 f40 f40 f43 f43 f43 f43 f43 f43 f45 f45 f45 f45 f45 f45 f45 f47 f47 f47 f47 f48 f48 f48 f48 f48 f48 f48 f48 f48 f48 f48 f49 f49 f49 f49 f49 f49 f49 f49 f54 f54 f54 f54 f54 f54 f54 f54 f54 f54 f54 f54 f56 f56 f56 f56 f57 f57 f57 f57 f57 f59 f59 f59 f66 f66 f66 f67 f67 f67 f68 f68 f68 f68 f68 f68 f68 f68 f68 f68 f68 f68 f68 f68 f71 f71 f71 f71 f71 f71 f71 f71 f71 f71 f71 f71 f71 f74 f74 f74 f74 f74 f74 f74 f74 f74 f74 f74 f74 f74 f74 f75 f75 f75 f75 f75 f80 f80 f80 f80 f80 f80 f80 f80 f80 f80 f80 f80 f80 f80 f82 f82 f82 f82 f86 f86 f86 f86 f86 f86 f86 f86 f86 f86 f87 f87 f87 f87 f87 f87 f87 f87 f87 f89 f89 f89 f89 f89 f89 f90 f90 f91 f91 f91 f91 f91 f91 f91 f91 f91 f94 f94 f94 f94 f94 f94 f94 f94 f94 f94 f94 f94 f94 f94 f94 f94 f94 f94 f94 f94 f95 f95 f95 f95 f95 f95 f95 f95 f96 f96 f96 f99 f99 f99 f99 f99 f99 f99 f101 f101 f101 f101 f101 f101 f101 f101 f101 f101 f101 f101 f101 f101 f101 f101 f101 f101 f101 f101 f101 f101 f101 f102 f102 f102 f102 f102 f102 f102 f102 f102 f102 f104 f104 f104 f104 f104 f104 f104 f104 f106 f106 f106 f106 f106 f106 f106 f106 f110 f110 f110 f111 f111 f111 f111 f111 f111 f111 f111 f111 f111 f111 f111 f111 f111 f111 f111 f111 f111 f111 f112 f112 f112 f112 f112 f112 f112 f112 f112 f112 f112 f113 f113 f113 f113 f113 f113 f113 f113 f113 f113 f115 f115 f115 f116 f116 f120 f120 f120 f120 f120 f120 f120 f120 f120 f120 f121 f121 f121 f121 f121 f123 f123 f123 f123 f123 f123 f124 f124 f124 f124 f127 f127 f128 f128 f128 f128 f128 f128 f128 f128 f129 f129 f129 f129 f129 f136 f136 f136 f136 f136 f136 f136 f136 f136 f136 f136 f136 f136 f136 f136 f136 f136 f136 f136 f136 f136 f137 f137 f137 f138 f138 f138 f138 f138 f138 f141 f141 f144 f144 f144 f144 f144 f146 f146 f146 f146 f146 f146 f146 f146 f146 f146 f150 f150 f150 f150 f150 f150 f151 f151 f151 f151 f151 f152 f152 f152 f152 f152 f152 f152 f152 f152 f152 f153 f153 f161 f161 f161 f161 f161 f161 f161 f161 f161 f161 f162 f162 f162 f162 f162 f162 f163 f163 f164 f164 f164 f165 f165 f165 f165 f165 f165 f165 f165 f165 f165 f165 f165 f165 f165 f165 f165 f165 f165 f165 f165 f170 f170 f170 f170 f172 f172 f172 f172 f173 f173 f173 f173 f173 f173 f173 f173 f176 f176 f176 f176 f176 f176 f176 f176 f176 f176 f176 f176 f176 f176 f179 f179 f179 f179 f179 f179 f179 f183 f183 f183 f183 f183 f183 f183 f183 f183 f183 f183 f183 f183 f183 f183 f183 f184 f184 f184 f185 f185 f185 f185 f185 f185 f185 f188 f188 f188 f188 f188 f188 f188 f188 f188 f188 f188 f188 f188 f193 f193 f193 f193 f193 f193 f193 f193 f193 f193 f197 f197 f197 f197 f197 f197 f197 f197 f197 f197 f197 f197 f197 f197 f197 f198 f198 f198 f198 f198'"
      ]
     },
     "metadata": {},
     "output_type": "display_data"
    },
    {
     "name": "stdout",
     "output_type": "stream",
     "text": [
      "time: 8.95 ms (started: 2021-05-31 18:25:24 +00:00)\n"
     ]
    }
   ],
   "source": [
    "surrogate_text(tx[0])"
   ]
  },
  {
   "cell_type": "markdown",
   "metadata": {
    "id": "W7Wkamk4rzd1"
   },
   "source": [
    "If the textual search engine supports boosting, we can generate shorter surrogate texts (that leads to lower query times):"
   ]
  },
  {
   "cell_type": "code",
   "execution_count": null,
   "metadata": {
    "colab": {
     "base_uri": "https://localhost:8080/"
    },
    "id": "cSt1ke4Cov8K",
    "outputId": "9cbaf75d-118e-4d69-cee0-4c588a3e53e3"
   },
   "outputs": [
    {
     "name": "stdout",
     "output_type": "stream",
     "text": [
      "time: 6.32 ms (started: 2021-05-31 18:16:16 +00:00)\n"
     ]
    }
   ],
   "source": [
    "def surrogate_text_boost(term_frequencies):\n",
    "  \"\"\" Creates Surrogate Text with Boosting.\n",
    "      Instead of repeating a term N times, writes 'term^N'\n",
    "      that in many full-text search engines has the same effect\n",
    "      of setting the term frequency of that term to N.\n",
    "      Useful to get shorter surrogate text representations.\n",
    "  \"\"\"\n",
    "  tokens = []\n",
    "  for i, tf in enumerate(term_frequencies):\n",
    "    if tf:\n",
    "      tokens.append(f'f{i}^{tf:g}')\n",
    "\n",
    "  text = ' '.join(tokens)\n",
    "  return text"
   ]
  },
  {
   "cell_type": "code",
   "execution_count": null,
   "metadata": {
    "colab": {
     "base_uri": "https://localhost:8080/",
     "height": 102
    },
    "id": "D8OcZDSf9qPK",
    "outputId": "47054793-40fa-48c3-8194-b6798e8d2dc9"
   },
   "outputs": [
    {
     "data": {
      "application/vnd.google.colaboratory.intrinsic+json": {
       "type": "string"
      },
      "text/plain": [
       "'f3^5 f7^7 f10^3 f11^14 f15^3 f17^4 f18^4 f20^7 f22^15 f23^5 f31^6 f33^2 f35^6 f39^13 f46^3 f48^5 f49^12 f50^10 f51^17 f52^3 f59^2 f62^11 f65^5 f66^19 f69^13 f70^26 f71^17 f75^17 f76^11 f77^4 f80^17 f91^7 f92^7 f94^11 f95^23 f98^8 f99^7 f100^2 f101^15 f102^2 f104^8 f105^9 f106^14 f108^7 f109^11 f112^11 f113^11 f116^4 f119^14 f121^3 f124^13 f125^11 f126^8 f127^7 f128^3 f129^14 f130^11 f132^5 f134^25 f138^11 f140^8 f141^9 f142^4 f144^14 f153^10 f154^19 f156^18 f157^3 f158^5 f161^12 f164^3 f167^12 f168^2 f172^3 f173^6 f178^14 f179^3 f183^18 f184^20 f185^11 f197^7'"
      ]
     },
     "metadata": {},
     "output_type": "display_data"
    },
    {
     "name": "stdout",
     "output_type": "stream",
     "text": [
      "time: 6.08 ms (started: 2021-05-31 18:16:18 +00:00)\n"
     ]
    }
   ],
   "source": [
    "surrogate_text_boost(tq[0])"
   ]
  },
  {
   "cell_type": "markdown",
   "metadata": {
    "id": "zqQojGdJ36dh"
   },
   "source": [
    "### Surrogate Text Representations on Elasticsearch\n",
    "\n",
    "Let's see a working example of using STRs with Elasticsearch.\n",
    "First, let's download and run an Elasticsearch instance."
   ]
  },
  {
   "cell_type": "code",
   "execution_count": null,
   "metadata": {
    "colab": {
     "base_uri": "https://localhost:8080/"
    },
    "id": "_bsAB10e_E_N",
    "outputId": "d7edc4cf-b65d-4b84-d2ed-da3a7d8edb63"
   },
   "outputs": [
    {
     "name": "stdout",
     "output_type": "stream",
     "text": [
      "time: 13.4 s (started: 2021-05-31 18:23:28 +00:00)\n"
     ]
    }
   ],
   "source": [
    "!wget https://artifacts.elastic.co/downloads/elasticsearch/elasticsearch-7.0.0-linux-x86_64.tar.gz -q --no-clobber\n",
    "!tar -xzf elasticsearch-7.0.0-linux-x86_64.tar.gz\n",
    "!chown -R daemon:daemon elasticsearch-7.0.0\n",
    "!pip install -q elasticsearch"
   ]
  },
  {
   "cell_type": "code",
   "execution_count": null,
   "metadata": {
    "colab": {
     "base_uri": "https://localhost:8080/"
    },
    "id": "cGBb9-tp4FGT",
    "outputId": "5d2d2174-de09-400a-81bd-39217e08a8dd"
   },
   "outputs": [
    {
     "name": "stdout",
     "output_type": "stream",
     "text": [
      "time: 141 ms (started: 2021-05-31 18:23:58 +00:00)\n"
     ]
    }
   ],
   "source": [
    "# start server\n",
    "import os\n",
    "from subprocess import Popen, STDOUT, DEVNULL\n",
    "es_server = Popen(['elasticsearch-7.0.0/bin/elasticsearch'], \n",
    "                  stdout=DEVNULL, stderr=STDOUT,\n",
    "                  preexec_fn=lambda: os.setuid(1)  # as daemon\n",
    "                 )\n",
    "# wait a bit for ES to start"
   ]
  },
  {
   "cell_type": "code",
   "execution_count": null,
   "metadata": {
    "colab": {
     "base_uri": "https://localhost:8080/"
    },
    "id": "p5A6k_NQ5Ay7",
    "outputId": "e1864915-abfd-423e-a934-4c2e550b12a7"
   },
   "outputs": [
    {
     "name": "stdout",
     "output_type": "stream",
     "text": [
      "True\n",
      "time: 104 ms (started: 2021-05-31 18:24:25 +00:00)\n"
     ]
    }
   ],
   "source": [
    "from elasticsearch import Elasticsearch\n",
    "\n",
    "es = Elasticsearch(timeout=30)\n",
    "print(es.ping())"
   ]
  },
  {
   "cell_type": "code",
   "execution_count": null,
   "metadata": {
    "colab": {
     "base_uri": "https://localhost:8080/"
    },
    "id": "NNADrAN9AwHv",
    "outputId": "3b87bb32-4b9f-4cde-87ba-d13a5d5d27c8"
   },
   "outputs": [
    {
     "name": "stdout",
     "output_type": "stream",
     "text": [
      "daemon      5728      64 33 18:23 ?        00:00:34 /content/elasticsearch-7.0.0/jdk/bin/java -Xms1g -Xmx1g -XX:+UseConcMarkSweepGC -XX:CMSInitiatingOccupancyFraction=75 -XX:+UseCMSInitiatingOccupancyOnly -Des.networkaddress.cache.ttl=60 -Des.networkaddress.cache.negative.ttl=10 -XX:+AlwaysPreTouch -Xss1m -Djava.awt.headless=true -Dfile.encoding=UTF-8 -Djna.nosys=true -XX:-OmitStackTraceInFastThrow -Dio.netty.noUnsafe=true -Dio.netty.noKeySetOptimization=true -Dio.netty.recycler.maxCapacityPerThread=0 -Dlog4j.shutdownHookEnabled=false -Dlog4j2.disable.jmx=true -Djava.io.tmpdir=/tmp/elasticsearch-6799401008857908504 -XX:+HeapDumpOnOutOfMemoryError -XX:HeapDumpPath=data -XX:ErrorFile=logs/hs_err_pid%p.log -Xlog:gc*,gc+age=trace,safepoint:file=logs/gc.log:utctime,pid,tags:filecount=32,filesize=64m -Djava.locale.providers=COMPAT -Dio.netty.allocator.type=unpooled -Des.path.home=/content/elasticsearch-7.0.0 -Des.path.conf=/content/elasticsearch-7.0.0/config -Des.distribution.flavor=default -Des.distribution.type=tar -Des.bundled_jdk=true -cp /content/elasticsearch-7.0.0/lib/* org.elasticsearch.bootstrap.Elasticsearch\n",
      "daemon      5807    5728  0 18:24 ?        00:00:00 /content/elasticsearch-7.0.0/modules/x-pack-ml/platform/linux-x86_64/bin/controller\n",
      "root        5864      64  0 18:25 ?        00:00:00 /bin/bash -c  ps -ef | grep elasticsearch\n",
      "root        5866    5864  0 18:25 ?        00:00:00 grep elasticsearch\n",
      "time: 250 ms (started: 2021-05-31 18:25:40 +00:00)\n"
     ]
    }
   ],
   "source": [
    "! ps -ef | grep elasticsearch"
   ]
  },
  {
   "cell_type": "markdown",
   "metadata": {
    "id": "yH1eDXtksfGO"
   },
   "source": [
    "Once Elasticsearch is up and running, let's create and index.\n",
    "We need to specify one field (we name it `repr`) of type `text`, such that is searched with full-text semantics (TfIdf-like scoring). We also specify to use a white-space analyzer, that simply splits tokens on spaces."
   ]
  },
  {
   "cell_type": "code",
   "execution_count": null,
   "metadata": {
    "colab": {
     "base_uri": "https://localhost:8080/"
    },
    "id": "V8A43nkI5ZJC",
    "outputId": "c68dcfe1-6ed1-48ed-952d-d09cd10181b1"
   },
   "outputs": [
    {
     "data": {
      "text/plain": [
       "{'acknowledged': True, 'index': 'simsearch_index', 'shards_acknowledged': True}"
      ]
     },
     "metadata": {},
     "output_type": "display_data"
    },
    {
     "name": "stdout",
     "output_type": "stream",
     "text": [
      "time: 394 ms (started: 2021-05-31 18:24:46 +00:00)\n"
     ]
    }
   ],
   "source": [
    "index_config = {\n",
    "    \"mappings\": {\n",
    "        \"_source\": {\"enabled\": False},  # do not store STR\n",
    "        \"properties\": {\"repr\": {\"type\": \"text\"}}  # declare the field 'repr' as FULLTEXT\n",
    "    },\n",
    "    \"settings\": {\n",
    "        \"index\": {\"number_of_shards\": 1, \"number_of_replicas\": 0},\n",
    "        \"analysis\": {\"analyzer\": {\"first\": {\"type\": \"whitespace\"}}}  # tokenize by spaces, we don't need fancier analyzers\n",
    "    }\n",
    "}\n",
    "\n",
    "# delete any pre-existing indices\n",
    "es.indices.delete('simsearch_index', ignore=(400, 404))\n",
    "\n",
    "# create the index\n",
    "es.indices.create('simsearch_index', index_config, ignore=400)"
   ]
  },
  {
   "cell_type": "markdown",
   "metadata": {
    "id": "4m5_IZ8MtgMt"
   },
   "source": [
    "We use the utilities provided by the elasticsearch python package to bulk index documents.\n",
    "We define a function that creates elasticsearch indexing commands and use `streaming_bulk` to process them sequentially."
   ]
  },
  {
   "cell_type": "code",
   "execution_count": null,
   "metadata": {
    "colab": {
     "base_uri": "https://localhost:8080/",
     "height": 82,
     "referenced_widgets": [
      "34fd92c2675849bab8887b27e21feca2",
      "362c510477144677a1c192b9bd1a5d53",
      "66675e77c56343e6955f479b6f396459",
      "ae24ab79cff24b00bfc38108ea712dbd",
      "d1cb261e17af4aacbb01b89a3050b51d",
      "9cfe090131c84f95ad127bd929a107b7",
      "e3ff1e28f24a41608eab53bc87abc6bf",
      "e1a900e21fdb4e60959daa071b8d4220"
     ]
    },
    "id": "kCJxrvxm543q",
    "outputId": "96800410-25b9-4c8d-b904-69464b60d248"
   },
   "outputs": [
    {
     "data": {
      "application/vnd.jupyter.widget-view+json": {
       "model_id": "34fd92c2675849bab8887b27e21feca2",
       "version_major": 2,
       "version_minor": 0
      },
      "text/plain": [
       "HBox(children=(FloatProgress(value=0.0, max=10000.0), HTML(value='')))"
      ]
     },
     "metadata": {},
     "output_type": "display_data"
    },
    {
     "name": "stdout",
     "output_type": "stream",
     "text": [
      "\n",
      "time: 9.52 s (started: 2021-05-31 18:25:45 +00:00)\n"
     ]
    }
   ],
   "source": [
    "from elasticsearch.helpers import streaming_bulk\n",
    "\n",
    "n_samples = 10_000\n",
    "\n",
    "def generate_docs(index_name, v):\n",
    "  for i, vi in enumerate(v):\n",
    "    yield {'_index': index_name, '_id': i, 'repr': surrogate_text(vi)}\n",
    "\n",
    "docs = generate_docs('simsearch_index', tx[:n_samples])\n",
    "indexing = streaming_bulk(es, docs, chunk_size=150, max_chunk_bytes=2**26)\n",
    "indexing = tqdm(indexing, total=n_samples)\n",
    "\n",
    "for _ in indexing:\n",
    "  pass"
   ]
  },
  {
   "cell_type": "markdown",
   "metadata": {
    "id": "NH0kniiSuIlc"
   },
   "source": [
    "Let's check how many documents have been inserted."
   ]
  },
  {
   "cell_type": "code",
   "execution_count": null,
   "metadata": {
    "colab": {
     "base_uri": "https://localhost:8080/"
    },
    "id": "KnNnXNvq7-94",
    "outputId": "37bd9d00-c240-4b83-99ed-a2346a723121"
   },
   "outputs": [
    {
     "name": "stdout",
     "output_type": "stream",
     "text": [
      "{'count': 10000, '_shards': {'total': 1, 'successful': 1, 'skipped': 0, 'failed': 0}}\n",
      "time: 28.6 ms (started: 2021-05-31 18:30:22 +00:00)\n"
     ]
    }
   ],
   "source": [
    "print(es.count(index='simsearch_index'))"
   ]
  },
  {
   "cell_type": "markdown",
   "metadata": {
    "id": "RjFCKlBduOrs"
   },
   "source": [
    "Now, we can query the database. We specify we want to search the `repr` field. Since Elasticsearch supports the boosting syntax, we use the shorter surrogate text representation with boosting."
   ]
  },
  {
   "cell_type": "code",
   "execution_count": null,
   "metadata": {
    "colab": {
     "base_uri": "https://localhost:8080/"
    },
    "id": "_TDtXrMx8Luo",
    "outputId": "6ba4734f-26c6-4a10-83a7-1c007c75280c"
   },
   "outputs": [
    {
     "data": {
      "text/plain": [
       "{'_shards': {'failed': 0, 'skipped': 0, 'successful': 1, 'total': 1},\n",
       " 'hits': {'hits': [{'_id': '3143',\n",
       "    '_index': 'simsearch_index',\n",
       "    '_score': 9325.603,\n",
       "    '_type': '_doc'},\n",
       "   {'_id': '870',\n",
       "    '_index': 'simsearch_index',\n",
       "    '_score': 9300.942,\n",
       "    '_type': '_doc'},\n",
       "   {'_id': '1548',\n",
       "    '_index': 'simsearch_index',\n",
       "    '_score': 8952.77,\n",
       "    '_type': '_doc'},\n",
       "   {'_id': '852',\n",
       "    '_index': 'simsearch_index',\n",
       "    '_score': 8823.858,\n",
       "    '_type': '_doc'},\n",
       "   {'_id': '6828',\n",
       "    '_index': 'simsearch_index',\n",
       "    '_score': 8791.831,\n",
       "    '_type': '_doc'},\n",
       "   {'_id': '4098',\n",
       "    '_index': 'simsearch_index',\n",
       "    '_score': 8688.694,\n",
       "    '_type': '_doc'},\n",
       "   {'_id': '8868',\n",
       "    '_index': 'simsearch_index',\n",
       "    '_score': 8667.128,\n",
       "    '_type': '_doc'},\n",
       "   {'_id': '8828',\n",
       "    '_index': 'simsearch_index',\n",
       "    '_score': 8655.381,\n",
       "    '_type': '_doc'},\n",
       "   {'_id': '8063',\n",
       "    '_index': 'simsearch_index',\n",
       "    '_score': 8639.455,\n",
       "    '_type': '_doc'},\n",
       "   {'_id': '3004',\n",
       "    '_index': 'simsearch_index',\n",
       "    '_score': 8537.794,\n",
       "    '_type': '_doc'},\n",
       "   {'_id': '6303',\n",
       "    '_index': 'simsearch_index',\n",
       "    '_score': 8528.989,\n",
       "    '_type': '_doc'},\n",
       "   {'_id': '792',\n",
       "    '_index': 'simsearch_index',\n",
       "    '_score': 8498.708,\n",
       "    '_type': '_doc'},\n",
       "   {'_id': '321',\n",
       "    '_index': 'simsearch_index',\n",
       "    '_score': 8493.424,\n",
       "    '_type': '_doc'},\n",
       "   {'_id': '8452',\n",
       "    '_index': 'simsearch_index',\n",
       "    '_score': 8479.529,\n",
       "    '_type': '_doc'},\n",
       "   {'_id': '1551',\n",
       "    '_index': 'simsearch_index',\n",
       "    '_score': 8442.55,\n",
       "    '_type': '_doc'},\n",
       "   {'_id': '6083',\n",
       "    '_index': 'simsearch_index',\n",
       "    '_score': 8366.938,\n",
       "    '_type': '_doc'},\n",
       "   {'_id': '2798',\n",
       "    '_index': 'simsearch_index',\n",
       "    '_score': 8356.402,\n",
       "    '_type': '_doc'},\n",
       "   {'_id': '1413',\n",
       "    '_index': 'simsearch_index',\n",
       "    '_score': 8344.944,\n",
       "    '_type': '_doc'},\n",
       "   {'_id': '4849',\n",
       "    '_index': 'simsearch_index',\n",
       "    '_score': 8323.788,\n",
       "    '_type': '_doc'},\n",
       "   {'_id': '981',\n",
       "    '_index': 'simsearch_index',\n",
       "    '_score': 8318.064,\n",
       "    '_type': '_doc'},\n",
       "   {'_id': '1058',\n",
       "    '_index': 'simsearch_index',\n",
       "    '_score': 8279.242,\n",
       "    '_type': '_doc'},\n",
       "   {'_id': '1226',\n",
       "    '_index': 'simsearch_index',\n",
       "    '_score': 8257.671,\n",
       "    '_type': '_doc'},\n",
       "   {'_id': '7785',\n",
       "    '_index': 'simsearch_index',\n",
       "    '_score': 8247.757,\n",
       "    '_type': '_doc'},\n",
       "   {'_id': '5287',\n",
       "    '_index': 'simsearch_index',\n",
       "    '_score': 8238.445,\n",
       "    '_type': '_doc'},\n",
       "   {'_id': '8456',\n",
       "    '_index': 'simsearch_index',\n",
       "    '_score': 8232.118,\n",
       "    '_type': '_doc'},\n",
       "   {'_id': '2077',\n",
       "    '_index': 'simsearch_index',\n",
       "    '_score': 8231.611,\n",
       "    '_type': '_doc'},\n",
       "   {'_id': '1744',\n",
       "    '_index': 'simsearch_index',\n",
       "    '_score': 8226.269,\n",
       "    '_type': '_doc'},\n",
       "   {'_id': '8029',\n",
       "    '_index': 'simsearch_index',\n",
       "    '_score': 8212.186,\n",
       "    '_type': '_doc'},\n",
       "   {'_id': '7283',\n",
       "    '_index': 'simsearch_index',\n",
       "    '_score': 8203.723,\n",
       "    '_type': '_doc'},\n",
       "   {'_id': '478',\n",
       "    '_index': 'simsearch_index',\n",
       "    '_score': 8201.932,\n",
       "    '_type': '_doc'},\n",
       "   {'_id': '5987',\n",
       "    '_index': 'simsearch_index',\n",
       "    '_score': 8171.98,\n",
       "    '_type': '_doc'},\n",
       "   {'_id': '4334',\n",
       "    '_index': 'simsearch_index',\n",
       "    '_score': 8171.8315,\n",
       "    '_type': '_doc'},\n",
       "   {'_id': '1400',\n",
       "    '_index': 'simsearch_index',\n",
       "    '_score': 8168.601,\n",
       "    '_type': '_doc'},\n",
       "   {'_id': '4051',\n",
       "    '_index': 'simsearch_index',\n",
       "    '_score': 8168.4385,\n",
       "    '_type': '_doc'},\n",
       "   {'_id': '1676',\n",
       "    '_index': 'simsearch_index',\n",
       "    '_score': 8160.765,\n",
       "    '_type': '_doc'},\n",
       "   {'_id': '1497',\n",
       "    '_index': 'simsearch_index',\n",
       "    '_score': 8158.505,\n",
       "    '_type': '_doc'},\n",
       "   {'_id': '3653',\n",
       "    '_index': 'simsearch_index',\n",
       "    '_score': 8155.975,\n",
       "    '_type': '_doc'},\n",
       "   {'_id': '3920',\n",
       "    '_index': 'simsearch_index',\n",
       "    '_score': 8155.835,\n",
       "    '_type': '_doc'},\n",
       "   {'_id': '74',\n",
       "    '_index': 'simsearch_index',\n",
       "    '_score': 8153.67,\n",
       "    '_type': '_doc'},\n",
       "   {'_id': '8119',\n",
       "    '_index': 'simsearch_index',\n",
       "    '_score': 8153.0806,\n",
       "    '_type': '_doc'},\n",
       "   {'_id': '9472',\n",
       "    '_index': 'simsearch_index',\n",
       "    '_score': 8137.3286,\n",
       "    '_type': '_doc'},\n",
       "   {'_id': '7328',\n",
       "    '_index': 'simsearch_index',\n",
       "    '_score': 8105.826,\n",
       "    '_type': '_doc'},\n",
       "   {'_id': '2842',\n",
       "    '_index': 'simsearch_index',\n",
       "    '_score': 8097.663,\n",
       "    '_type': '_doc'},\n",
       "   {'_id': '8214',\n",
       "    '_index': 'simsearch_index',\n",
       "    '_score': 8092.978,\n",
       "    '_type': '_doc'},\n",
       "   {'_id': '4581',\n",
       "    '_index': 'simsearch_index',\n",
       "    '_score': 8089.189,\n",
       "    '_type': '_doc'},\n",
       "   {'_id': '3755',\n",
       "    '_index': 'simsearch_index',\n",
       "    '_score': 8083.011,\n",
       "    '_type': '_doc'},\n",
       "   {'_id': '7249',\n",
       "    '_index': 'simsearch_index',\n",
       "    '_score': 8080.414,\n",
       "    '_type': '_doc'},\n",
       "   {'_id': '8335',\n",
       "    '_index': 'simsearch_index',\n",
       "    '_score': 8076.308,\n",
       "    '_type': '_doc'},\n",
       "   {'_id': '9668',\n",
       "    '_index': 'simsearch_index',\n",
       "    '_score': 8069.7144,\n",
       "    '_type': '_doc'},\n",
       "   {'_id': '5402',\n",
       "    '_index': 'simsearch_index',\n",
       "    '_score': 8054.506,\n",
       "    '_type': '_doc'},\n",
       "   {'_id': '1961',\n",
       "    '_index': 'simsearch_index',\n",
       "    '_score': 8038.8267,\n",
       "    '_type': '_doc'},\n",
       "   {'_id': '5890',\n",
       "    '_index': 'simsearch_index',\n",
       "    '_score': 8036.3125,\n",
       "    '_type': '_doc'},\n",
       "   {'_id': '9628',\n",
       "    '_index': 'simsearch_index',\n",
       "    '_score': 8030.755,\n",
       "    '_type': '_doc'},\n",
       "   {'_id': '5491',\n",
       "    '_index': 'simsearch_index',\n",
       "    '_score': 8024.4106,\n",
       "    '_type': '_doc'},\n",
       "   {'_id': '2621',\n",
       "    '_index': 'simsearch_index',\n",
       "    '_score': 8022.469,\n",
       "    '_type': '_doc'},\n",
       "   {'_id': '8361',\n",
       "    '_index': 'simsearch_index',\n",
       "    '_score': 8021.1567,\n",
       "    '_type': '_doc'},\n",
       "   {'_id': '395',\n",
       "    '_index': 'simsearch_index',\n",
       "    '_score': 7995.1577,\n",
       "    '_type': '_doc'},\n",
       "   {'_id': '9169',\n",
       "    '_index': 'simsearch_index',\n",
       "    '_score': 7983.98,\n",
       "    '_type': '_doc'},\n",
       "   {'_id': '50',\n",
       "    '_index': 'simsearch_index',\n",
       "    '_score': 7980.727,\n",
       "    '_type': '_doc'},\n",
       "   {'_id': '6590',\n",
       "    '_index': 'simsearch_index',\n",
       "    '_score': 7979.598,\n",
       "    '_type': '_doc'},\n",
       "   {'_id': '4850',\n",
       "    '_index': 'simsearch_index',\n",
       "    '_score': 7978.551,\n",
       "    '_type': '_doc'},\n",
       "   {'_id': '5432',\n",
       "    '_index': 'simsearch_index',\n",
       "    '_score': 7975.668,\n",
       "    '_type': '_doc'},\n",
       "   {'_id': '9466',\n",
       "    '_index': 'simsearch_index',\n",
       "    '_score': 7974.6987,\n",
       "    '_type': '_doc'},\n",
       "   {'_id': '269',\n",
       "    '_index': 'simsearch_index',\n",
       "    '_score': 7973.5054,\n",
       "    '_type': '_doc'},\n",
       "   {'_id': '5972',\n",
       "    '_index': 'simsearch_index',\n",
       "    '_score': 7947.291,\n",
       "    '_type': '_doc'},\n",
       "   {'_id': '3684',\n",
       "    '_index': 'simsearch_index',\n",
       "    '_score': 7944.1196,\n",
       "    '_type': '_doc'},\n",
       "   {'_id': '8628',\n",
       "    '_index': 'simsearch_index',\n",
       "    '_score': 7934.234,\n",
       "    '_type': '_doc'},\n",
       "   {'_id': '6115',\n",
       "    '_index': 'simsearch_index',\n",
       "    '_score': 7933.162,\n",
       "    '_type': '_doc'},\n",
       "   {'_id': '7511',\n",
       "    '_index': 'simsearch_index',\n",
       "    '_score': 7913.8013,\n",
       "    '_type': '_doc'},\n",
       "   {'_id': '2165',\n",
       "    '_index': 'simsearch_index',\n",
       "    '_score': 7907.369,\n",
       "    '_type': '_doc'},\n",
       "   {'_id': '5656',\n",
       "    '_index': 'simsearch_index',\n",
       "    '_score': 7900.6416,\n",
       "    '_type': '_doc'},\n",
       "   {'_id': '9222',\n",
       "    '_index': 'simsearch_index',\n",
       "    '_score': 7900.4243,\n",
       "    '_type': '_doc'},\n",
       "   {'_id': '9673',\n",
       "    '_index': 'simsearch_index',\n",
       "    '_score': 7892.031,\n",
       "    '_type': '_doc'},\n",
       "   {'_id': '5940',\n",
       "    '_index': 'simsearch_index',\n",
       "    '_score': 7889.561,\n",
       "    '_type': '_doc'},\n",
       "   {'_id': '67',\n",
       "    '_index': 'simsearch_index',\n",
       "    '_score': 7883.9517,\n",
       "    '_type': '_doc'},\n",
       "   {'_id': '9348',\n",
       "    '_index': 'simsearch_index',\n",
       "    '_score': 7878.6353,\n",
       "    '_type': '_doc'},\n",
       "   {'_id': '227',\n",
       "    '_index': 'simsearch_index',\n",
       "    '_score': 7876.7754,\n",
       "    '_type': '_doc'},\n",
       "   {'_id': '8149',\n",
       "    '_index': 'simsearch_index',\n",
       "    '_score': 7863.2505,\n",
       "    '_type': '_doc'},\n",
       "   {'_id': '393',\n",
       "    '_index': 'simsearch_index',\n",
       "    '_score': 7859.4004,\n",
       "    '_type': '_doc'},\n",
       "   {'_id': '1519',\n",
       "    '_index': 'simsearch_index',\n",
       "    '_score': 7858.973,\n",
       "    '_type': '_doc'},\n",
       "   {'_id': '6577',\n",
       "    '_index': 'simsearch_index',\n",
       "    '_score': 7857.9717,\n",
       "    '_type': '_doc'},\n",
       "   {'_id': '4047',\n",
       "    '_index': 'simsearch_index',\n",
       "    '_score': 7852.6665,\n",
       "    '_type': '_doc'},\n",
       "   {'_id': '7775',\n",
       "    '_index': 'simsearch_index',\n",
       "    '_score': 7851.6235,\n",
       "    '_type': '_doc'},\n",
       "   {'_id': '3561',\n",
       "    '_index': 'simsearch_index',\n",
       "    '_score': 7847.293,\n",
       "    '_type': '_doc'},\n",
       "   {'_id': '9806',\n",
       "    '_index': 'simsearch_index',\n",
       "    '_score': 7847.287,\n",
       "    '_type': '_doc'},\n",
       "   {'_id': '9748',\n",
       "    '_index': 'simsearch_index',\n",
       "    '_score': 7846.6665,\n",
       "    '_type': '_doc'},\n",
       "   {'_id': '3197',\n",
       "    '_index': 'simsearch_index',\n",
       "    '_score': 7844.8804,\n",
       "    '_type': '_doc'},\n",
       "   {'_id': '1342',\n",
       "    '_index': 'simsearch_index',\n",
       "    '_score': 7841.571,\n",
       "    '_type': '_doc'},\n",
       "   {'_id': '2810',\n",
       "    '_index': 'simsearch_index',\n",
       "    '_score': 7833.876,\n",
       "    '_type': '_doc'},\n",
       "   {'_id': '8248',\n",
       "    '_index': 'simsearch_index',\n",
       "    '_score': 7829.803,\n",
       "    '_type': '_doc'},\n",
       "   {'_id': '355',\n",
       "    '_index': 'simsearch_index',\n",
       "    '_score': 7821.561,\n",
       "    '_type': '_doc'},\n",
       "   {'_id': '9847',\n",
       "    '_index': 'simsearch_index',\n",
       "    '_score': 7815.1055,\n",
       "    '_type': '_doc'},\n",
       "   {'_id': '260',\n",
       "    '_index': 'simsearch_index',\n",
       "    '_score': 7809.749,\n",
       "    '_type': '_doc'},\n",
       "   {'_id': '9753',\n",
       "    '_index': 'simsearch_index',\n",
       "    '_score': 7809.0186,\n",
       "    '_type': '_doc'},\n",
       "   {'_id': '8170',\n",
       "    '_index': 'simsearch_index',\n",
       "    '_score': 7805.1484,\n",
       "    '_type': '_doc'},\n",
       "   {'_id': '2552',\n",
       "    '_index': 'simsearch_index',\n",
       "    '_score': 7804.3877,\n",
       "    '_type': '_doc'},\n",
       "   {'_id': '9107',\n",
       "    '_index': 'simsearch_index',\n",
       "    '_score': 7802.852,\n",
       "    '_type': '_doc'},\n",
       "   {'_id': '4276',\n",
       "    '_index': 'simsearch_index',\n",
       "    '_score': 7798.16,\n",
       "    '_type': '_doc'},\n",
       "   {'_id': '5945',\n",
       "    '_index': 'simsearch_index',\n",
       "    '_score': 7789.159,\n",
       "    '_type': '_doc'},\n",
       "   {'_id': '1158',\n",
       "    '_index': 'simsearch_index',\n",
       "    '_score': 7784.246,\n",
       "    '_type': '_doc'}],\n",
       "  'max_score': 9325.603,\n",
       "  'total': {'relation': 'eq', 'value': 10000}},\n",
       " 'timed_out': False,\n",
       " 'took': 174}"
      ]
     },
     "metadata": {},
     "output_type": "display_data"
    },
    {
     "name": "stdout",
     "output_type": "stream",
     "text": [
      "time: 197 ms (started: 2021-05-31 15:34:04 +00:00)\n"
     ]
    }
   ],
   "source": [
    "qi = tq[0]  # first query\n",
    "\n",
    "query = {\n",
    "  \"query\": {\"query_string\": {\"default_field\": \"repr\", \"query\": surrogate_text_boost(qi)}},\n",
    "  \"from\": 0, \"size\": k\n",
    "}\n",
    "\n",
    "results = es.search(query, index='simsearch_index')\n",
    "results"
   ]
  },
  {
   "cell_type": "markdown",
   "metadata": {
    "id": "ibtTAENOvCdS"
   },
   "source": [
    "Let's prepare the true nearest neighbors groundtruth that include only the subset of data points that we indexed with Elasticsearch (indexing all the data in Colab takes roughly 40 minutes)."
   ]
  },
  {
   "cell_type": "code",
   "execution_count": null,
   "metadata": {
    "colab": {
     "base_uri": "https://localhost:8080/"
    },
    "id": "NVra4CBHCJwq",
    "outputId": "34a01047-3da7-4e84-936f-cea6891a4c3b"
   },
   "outputs": [
    {
     "name": "stdout",
     "output_type": "stream",
     "text": [
      "time: 136 ms (started: 2021-05-31 18:44:05 +00:00)\n"
     ]
    }
   ],
   "source": [
    "true_scores_small = q.dot(x[:n_samples].T)\n",
    "true_neighbors_small = true_scores_small.argsort(axis=1)[:, ::-1][:, :k] "
   ]
  },
  {
   "cell_type": "markdown",
   "metadata": {
    "id": "6nQOsDHTutNb"
   },
   "source": [
    "Next, let's perform the search for all our queries and compute the obtained recall."
   ]
  },
  {
   "cell_type": "markdown",
   "metadata": {
    "id": "_cg103ta6Wwe"
   },
   "source": [
    "### Exercise\n",
    "\n",
    "Perform all the queries using Elasticsearch and measure the obtained mean recall.\n",
    "\n",
    "*Suggestion: perform the queries once at a time and produce the D and I matrices incrementally; then use `compute_recall(true_neighbors_small, I)` to compute recall as usual.* "
   ]
  },
  {
   "cell_type": "code",
   "execution_count": null,
   "metadata": {
    "colab": {
     "base_uri": "https://localhost:8080/",
     "height": 82,
     "referenced_widgets": [
      "a434a9b0ad784e82bba6998fed16d924",
      "4a04718d4c90459989645675afd47182",
      "93aca0b03ddd46d78b660ae900eef8ad",
      "50558887ad3c4266b4bbed4b156dfb0a",
      "99e5e885fc4f4e00b87162442c62f78b",
      "e151fc05b61a4f54a16ab0ef81cb3b27",
      "266819d597e740b5bbf434c102f404ab",
      "6384b580d8904e9fa8cded8fa937bfe1"
     ]
    },
    "id": "QuaS6IgZ8AK7",
    "outputId": "ca060693-301e-4be2-d9ea-8a2c9c1e2ac6"
   },
   "outputs": [
    {
     "data": {
      "application/vnd.jupyter.widget-view+json": {
       "model_id": "a434a9b0ad784e82bba6998fed16d924",
       "version_major": 2,
       "version_minor": 0
      },
      "text/plain": [
       "HBox(children=(FloatProgress(value=0.0), HTML(value='')))"
      ]
     },
     "metadata": {},
     "output_type": "display_data"
    },
    {
     "name": "stdout",
     "output_type": "stream",
     "text": [
      "\n",
      "time: 8.34 s (started: 2021-05-31 18:45:26 +00:00)\n"
     ]
    }
   ],
   "source": [
    "D = []\n",
    "I = []\n",
    "\n",
    "for qi in tqdm(tq):\n",
    "  query = {\n",
    "    \"query\": {\"query_string\": {\"default_field\": \"repr\", \"query\": surrogate_text_boost(qi)}},\n",
    "    \"from\": 0, \"size\": k\n",
    "  }\n",
    "\n",
    "  results = es.search(query, index='simsearch_index')\n",
    "\n",
    "  Di = [hit['_score'] for hit in results['hits']['hits']]\n",
    "  Ii = [int(hit['_id']) for hit in results['hits']['hits']]\n",
    "\n",
    "  D.append(Di)\n",
    "  I.append(Ii)\n",
    "\n",
    "D = np.array(D)\n",
    "I = np.array(I)"
   ]
  },
  {
   "cell_type": "code",
   "execution_count": null,
   "metadata": {
    "colab": {
     "base_uri": "https://localhost:8080/"
    },
    "id": "CYOAetkT8AK9",
    "outputId": "d79b4efb-952a-4e09-f7cf-1a754d8658da"
   },
   "outputs": [
    {
     "name": "stdout",
     "output_type": "stream",
     "text": [
      "0.5236000000000001\n",
      "time: 10.8 ms (started: 2021-05-31 18:45:35 +00:00)\n"
     ]
    }
   ],
   "source": [
    "recall = compute_recall(true_neighbors_small, I)\n",
    "print(recall)"
   ]
  },
  {
   "cell_type": "markdown",
   "metadata": {
    "id": "lXcV5YBgaxVC"
   },
   "source": [
    "## Additional Resources\n",
    "\n",
    "*   https://ai.facebook.com/tools/faiss/\n",
    "*   https://github.com/facebookresearch/faiss/wiki/\n",
    "*   https://github.com/erikbern/ann-benchmarks/\n",
    "*   http://melisandre.deepfeatures.org/\n"
   ]
  }
 ],
 "metadata": {
  "kernelspec": {
   "display_name": "Python 3.10.4 64-bit",
   "language": "python",
   "name": "python3"
  },
  "language_info": {
   "name": "python",
   "version": "3.10.4"
  },
  "orig_nbformat": 4,
  "vscode": {
   "interpreter": {
    "hash": "916dbcbb3f70747c44a77c7bcd40155683ae19c65e1c03b4aa3499c5328201f1"
   }
  }
 },
 "nbformat": 4,
 "nbformat_minor": 2
}
