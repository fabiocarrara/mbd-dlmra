{
  "cells": [
    {
      "cell_type": "markdown",
      "metadata": {
        "id": "mzM-2-5DP-8V"
      },
      "source": [
        "# DLMR Code\n",
        "---------------\n",
        "\n",
        "# Surrogate Text Representations"
      ]
    },
    {
      "cell_type": "markdown",
      "metadata": {
        "id": "WyzAcnbCB8Oz"
      },
      "source": [
        "\n",
        "\n",
        "If you want to use a textual search engine (e.g. Elasticsearch, Apache Lucene, Whoosh) to search vectors, you can use **Surrogate Text Representations** (STR), a method that enables similarity search on top of standard textual search engines.\n",
        "\n",
        "The key idea of STRs is to transform a real-valued vector into fake text that can be indexed and searched for using standard full-text search engines.\n",
        "\n",
        "To do so, we need to **transform a real-valued vector $v \\in \\mathbb{R}^d$ into a vector of positive integers $\\tilde{v} \\in \\mathbb{N}^{d'}$** representing *term frequencies* that can be mapped easily to text. This transformation $\\tilde{v} = T(v)$ should have the following properies:\n",
        "\n",
        "1.   $T$ should **preserve the rank** produced by the inner product between vectors; the more it does, the less precision we are sacrificing when scoring documents.\n",
        "\n",
        "     $ q \\cdot x < q \\cdot y  \\quad \\Longrightarrow \\quad T(q) \\cdot T(x) < T(q) \\cdot T(y)$ \n",
        "\n",
        "2.   $T$ should create **sparse** vectors; sparse vectors mean few terms per vector and thus shorter posting lists.\n",
        "\n",
        "\n",
        "We will explore the **permutation of pivots** as the transformation function `T()`."
      ]
    },
    {
      "cell_type": "code",
      "execution_count": 1,
      "metadata": {
        "id": "C-Cio6lfB9-9"
      },
      "outputs": [],
      "source": [
        "import h5py\n",
        "import numpy as np"
      ]
    },
    {
      "cell_type": "markdown",
      "metadata": {
        "id": "9LmCHm_yx0ue"
      },
      "source": [
        "But first, we'll get some data to index. We will use the GloVe word embedding dataset provided by [ann-benchmarks.com](https://github.com/erikbern/ann-benchmarks/#data-sets). It's a dataset of 1M+ word embeddings that also provides 10k queries for which true nearest neighbors are already computed. Vectors are compared with the cosine similarity."
      ]
    },
    {
      "cell_type": "code",
      "execution_count": 2,
      "metadata": {
        "colab": {
          "base_uri": "https://localhost:8080/"
        },
        "id": "jMYwDrpRx0J3",
        "outputId": "738dda78-dba5-4273-effe-7efbfb19cd3e"
      },
      "outputs": [
        {
          "name": "stdout",
          "output_type": "stream",
          "text": [
            "--2022-07-12 16:56:19--  http://ann-benchmarks.com/glove-100-angular.hdf5\n",
            "Resolving ann-benchmarks.com (ann-benchmarks.com)... 52.217.235.69\n",
            "Connecting to ann-benchmarks.com (ann-benchmarks.com)|52.217.235.69|:80... connected.\n",
            "HTTP request sent, awaiting response... 200 OK\n",
            "Length: 485413888 (463M) [binary/octet-stream]\n",
            "Saving to: ‘glove-100-angular.hdf5’\n",
            "\n",
            "glove-100-angular.h 100%[===================>] 462.93M  55.0MB/s    in 9.0s    \n",
            "\n",
            "2022-07-12 16:56:29 (51.7 MB/s) - ‘glove-100-angular.hdf5’ saved [485413888/485413888]\n",
            "\n"
          ]
        }
      ],
      "source": [
        "!wget --no-clobber http://ann-benchmarks.com/glove-100-angular.hdf5"
      ]
    },
    {
      "cell_type": "markdown",
      "metadata": {
        "id": "of4fOO0yzPWU"
      },
      "source": [
        "The dataset is in HDF5 format, a popular scientific format that can be accessed using the `h5py` library. Let's see what's inside the datset file."
      ]
    },
    {
      "cell_type": "code",
      "execution_count": 3,
      "metadata": {
        "colab": {
          "base_uri": "https://localhost:8080/"
        },
        "id": "6MiDhxxvzkoX",
        "outputId": "a4ec06af-d7dd-4cfa-da0c-a0f53f5915a8"
      },
      "outputs": [
        {
          "data": {
            "text/plain": [
              "[('distances', <HDF5 dataset \"distances\": shape (10000, 100), type \"<f4\">),\n",
              " ('neighbors', <HDF5 dataset \"neighbors\": shape (10000, 100), type \"<i4\">),\n",
              " ('test', <HDF5 dataset \"test\": shape (10000, 100), type \"<f4\">),\n",
              " ('train', <HDF5 dataset \"train\": shape (1183514, 100), type \"<f4\">)]"
            ]
          },
          "execution_count": 3,
          "metadata": {},
          "output_type": "execute_result"
        }
      ],
      "source": [
        "data = h5py.File('glove-100-angular.hdf5', 'r')  # open in read mode\n",
        "list(data.items())"
      ]
    },
    {
      "cell_type": "code",
      "execution_count": 4,
      "metadata": {
        "colab": {
          "base_uri": "https://localhost:8080/"
        },
        "id": "hQxxP74L0Ec9",
        "outputId": "5a0da9e1-91a4-41fd-d92d-ceac4bd993f6"
      },
      "outputs": [
        {
          "data": {
            "text/plain": [
              "array([-0.11333  ,  0.48402  ,  0.090771 , -0.22439  ,  0.034206 ,\n",
              "       -0.55831  ,  0.041849 , -0.53573  ,  0.18809  , -0.58722  ,\n",
              "        0.015313 , -0.014555 ,  0.80842  , -0.038519 ,  0.75348  ,\n",
              "        0.70502  , -0.17863  ,  0.3222   ,  0.67575  ,  0.67198  ,\n",
              "        0.26044  ,  0.4187   , -0.34122  ,  0.2286   , -0.53529  ,\n",
              "        1.2582   , -0.091543 ,  0.19716  , -0.037454 , -0.3336   ,\n",
              "        0.31399  ,  0.36488  ,  0.71263  ,  0.1307   , -0.24654  ,\n",
              "       -0.52445  , -0.036091 ,  0.55068  ,  0.10017  ,  0.48095  ,\n",
              "        0.71104  , -0.053462 ,  0.22325  ,  0.30917  , -0.39926  ,\n",
              "        0.036634 , -0.35431  , -0.42795  ,  0.46444  ,  0.25586  ,\n",
              "        0.68257  , -0.20821  ,  0.38433  ,  0.055773 , -0.2539   ,\n",
              "       -0.20804  ,  0.52522  , -0.11399  , -0.3253   , -0.44104  ,\n",
              "        0.17528  ,  0.62255  ,  0.50237  , -0.7607   , -0.071786 ,\n",
              "        0.0080131, -0.13286  ,  0.50097  ,  0.18824  , -0.54722  ,\n",
              "       -0.42664  ,  0.4292   ,  0.14877  , -0.0072514, -0.16484  ,\n",
              "       -0.059798 ,  0.9895   , -0.61738  ,  0.054169 ,  0.48424  ,\n",
              "       -0.35084  , -0.27053  ,  0.37829  ,  0.11503  , -0.39613  ,\n",
              "        0.24266  ,  0.39147  , -0.075256 ,  0.65093  , -0.20822  ,\n",
              "       -0.17456  ,  0.53571  , -0.16537  ,  0.13582  , -0.56016  ,\n",
              "        0.016964 ,  0.1277   ,  0.94071  , -0.22608  , -0.021106 ],\n",
              "      dtype=float32)"
            ]
          },
          "execution_count": 4,
          "metadata": {},
          "output_type": "execute_result"
        }
      ],
      "source": [
        "from sklearn.metrics.pairwise import cosine_similarity\n",
        "\n",
        "n_samples = 10_000\n",
        "n_queries = 200\n",
        "k = 100\n",
        "\n",
        "# data can be accessed as numpy arrays\n",
        "database = data['train'][:n_samples]\n",
        "queries = data['test'][:n_queries]\n",
        "\n",
        "true_scores = cosine_similarity(queries, database)\n",
        "true_neighbors = true_scores.argsort(axis=1)[:, ::-1][:, :k] \n",
        "\n",
        "database[0]"
      ]
    },
    {
      "cell_type": "markdown",
      "metadata": {
        "id": "jhdP_IKw2Zkq"
      },
      "source": [
        "Since we have the groundtruth provided by the dataset, we will compute the **Recall**, that is the fraction of true neighbors of a query that have been retrieved by the system, as metric of quality of the results by our indices.\n",
        "\n",
        "$ \\text{Recall} = \\dfrac{|\\text{True Neighbors} \\cap \\text{Retrieved Objects}|}{|\\text{True Neighbors}|}\\,.$"
      ]
    },
    {
      "cell_type": "code",
      "execution_count": 5,
      "metadata": {
        "id": "6gHfA_vx2WVS"
      },
      "outputs": [],
      "source": [
        "def compute_recall(true_neighbors, predicted_neighbors):\n",
        "  recalls = []\n",
        "  for t, p in zip(true_neighbors, predicted_neighbors):\n",
        "    intersection = np.intersect1d(t, p)\n",
        "    recall = len(intersection) / len(t)\n",
        "    recalls.append(recall)\n",
        "\n",
        "  return np.mean(recalls)"
      ]
    },
    {
      "cell_type": "markdown",
      "metadata": {
        "id": "sidy__WdB9_C"
      },
      "source": [
        "## Pivots Permutation Representation"
      ]
    },
    {
      "cell_type": "markdown",
      "metadata": {
        "id": "UUAEcjwklcr6"
      },
      "source": [
        "Let's select some pivots at random from the database:"
      ]
    },
    {
      "cell_type": "code",
      "execution_count": 6,
      "metadata": {
        "colab": {
          "base_uri": "https://localhost:8080/"
        },
        "id": "0a_Lkn8_B9_C",
        "outputId": "05a38333-4e2e-456a-c911-08cbc2cc52b5"
      },
      "outputs": [
        {
          "data": {
            "text/plain": [
              "(1000, 100)"
            ]
          },
          "execution_count": 6,
          "metadata": {},
          "output_type": "execute_result"
        }
      ],
      "source": [
        "n_samples = len(database)\n",
        "n_queries = len(queries)\n",
        "n_pivots = 1000\n",
        "\n",
        "pivots = np.random.choice(n_samples, n_pivots)\n",
        "pivots = database[pivots]\n",
        "pivots.shape"
      ]
    },
    {
      "cell_type": "code",
      "execution_count": 7,
      "metadata": {
        "colab": {
          "base_uri": "https://localhost:8080/"
        },
        "id": "clYhXxDkB9_D",
        "outputId": "b7b3cacd-6513-4be5-b08e-3b16aed7a045"
      },
      "outputs": [
        {
          "data": {
            "text/plain": [
              "array([[ 0.20021504,  0.13863502,  0.33101022, ...,  0.22211789,\n",
              "         0.23687509,  0.47158659],\n",
              "       [ 0.09615555,  0.179611  ,  0.0932782 , ...,  0.13987598,\n",
              "         0.14759186,  0.02403159],\n",
              "       [ 0.05402752,  0.04419706,  0.14909385, ...,  0.05323974,\n",
              "        -0.03399039,  0.07625086],\n",
              "       ...,\n",
              "       [ 0.42470384,  0.03864544,  0.13144507, ..., -0.03763069,\n",
              "         0.1984465 ,  0.3507079 ],\n",
              "       [ 0.2378237 , -0.01016196,  0.12738702, ...,  0.01752536,\n",
              "         0.12821895,  0.18311518],\n",
              "       [ 0.13217287,  0.04220441,  0.3731196 , ...,  0.14416984,\n",
              "         0.08462623,  0.23728451]], dtype=float32)"
            ]
          },
          "execution_count": 7,
          "metadata": {},
          "output_type": "execute_result"
        }
      ],
      "source": [
        "xp_distances = cosine_similarity(database, pivots)\n",
        "xp_distances"
      ]
    },
    {
      "cell_type": "code",
      "execution_count": 8,
      "metadata": {
        "colab": {
          "base_uri": "https://localhost:8080/"
        },
        "id": "SM_4VoV3B9_D",
        "outputId": "fb33534f-55d8-4d9e-f40b-377cb1a4b880"
      },
      "outputs": [
        {
          "data": {
            "text/plain": [
              "array([[567, 638, 455, ..., 473, 654, 330],\n",
              "       [392, 293, 470, ..., 860, 125, 826],\n",
              "       [615, 830, 265, ..., 679, 730, 554],\n",
              "       ...,\n",
              "       [545, 649,   3, ..., 473, 905, 654],\n",
              "       [184, 723, 273, ..., 945, 654, 473],\n",
              "       [595, 695, 661, ...,  99, 473, 972]])"
            ]
          },
          "execution_count": 8,
          "metadata": {},
          "output_type": "execute_result"
        }
      ],
      "source": [
        "# permutation: i -> pivot with rank i\n",
        "xp_permutation = xp_distances.argsort(axis=1)\n",
        "xp_permutation = xp_permutation[:, ::-1]  # reverse order, higher is better (cosine similarity)\n",
        "xp_permutation"
      ]
    },
    {
      "cell_type": "code",
      "execution_count": 9,
      "metadata": {
        "colab": {
          "base_uri": "https://localhost:8080/"
        },
        "id": "emB797KPB9_D",
        "outputId": "0dca1833-a2d5-4dc3-9042-1b43a5639838"
      },
      "outputs": [
        {
          "data": {
            "text/plain": [
              "array([[581, 760, 193, ..., 501, 465,  21],\n",
              "       [365, 104, 374, ..., 204, 178, 650],\n",
              "       [688, 719, 293, ..., 691, 905, 607],\n",
              "       ...,\n",
              "       [  6, 868, 613, ..., 958, 393,  30],\n",
              "       [252, 939, 632, ..., 903, 626, 444],\n",
              "       [729, 912,  66, ..., 703, 839, 366]])"
            ]
          },
          "execution_count": 9,
          "metadata": {},
          "output_type": "execute_result"
        }
      ],
      "source": [
        "# inverse permutation: i -> position of pivot i\n",
        "xp_inv_perm = xp_permutation.argsort(axis=1)\n",
        "xp_inv_perm += 1  # let's make the positions 1-based for clarity\n",
        "xp_inv_perm"
      ]
    },
    {
      "cell_type": "code",
      "execution_count": 10,
      "metadata": {
        "id": "7itY4E6AB9_E"
      },
      "outputs": [],
      "source": [
        "qp_distances = cosine_similarity(database, pivots)\n",
        "qp_inv_perm = qp_distances.argsort(axis=1)[:, ::-1].argsort(axis=1) + 1"
      ]
    },
    {
      "cell_type": "code",
      "execution_count": 11,
      "metadata": {
        "id": "vLRYarhkwn9i"
      },
      "outputs": [],
      "source": [
        "def T(samples, pivots, prefix_length=None):\n",
        "  \"\"\" Transform real-valued vectors into Term Frequencies-like vectors via\n",
        "      Pivots Permutations. \"\"\"\n",
        "  n_pivots = len(pivots)\n",
        "  prefix_length = prefix_length or n_pivots\n",
        "\n",
        "  xp_distances = cosine_similarity(samples, pivots)\n",
        "  xp_permutations = xp_distances.argsort(axis=1)[:, ::-1]\n",
        "  xp_inv_permutat = xp_permutations.argsort(axis=1) + 1\n",
        "  xp_truncated_ip = np.maximum(xp_inv_permutat - n_pivots + prefix_length , 0)\n",
        "\n",
        "  return xp_truncated_ip"
      ]
    },
    {
      "cell_type": "code",
      "execution_count": 12,
      "metadata": {
        "colab": {
          "base_uri": "https://localhost:8080/"
        },
        "id": "deUqaq9k1FnR",
        "outputId": "0a53e172-9ef8-43f7-d782-91b7211b1449"
      },
      "outputs": [
        {
          "data": {
            "text/plain": [
              "((10000, 1000), (200, 1000))"
            ]
          },
          "execution_count": 12,
          "metadata": {},
          "output_type": "execute_result"
        }
      ],
      "source": [
        "tx = T(database, pivots, prefix_length=250)\n",
        "tq = T(queries, pivots, prefix_length=250)\n",
        "tx.shape, tq.shape"
      ]
    },
    {
      "cell_type": "markdown",
      "metadata": {
        "id": "47ZssMzZ4dgZ"
      },
      "source": [
        "Let's measure the **sparsity** of the transformed dataset. The sparsity of a vector is the fraction of zero elements in the vector.\n",
        "The sparsity of a vector is directly related to the number of entries that will be stored in the posting lists of the textual search engine; therefore, the smaller the better."
      ]
    },
    {
      "cell_type": "code",
      "execution_count": 13,
      "metadata": {
        "colab": {
          "base_uri": "https://localhost:8080/"
        },
        "id": "VcNZXMQG4V9J",
        "outputId": "5dad9474-1b1a-45df-b2ce-91ebfd16eaf6"
      },
      "outputs": [
        {
          "data": {
            "text/plain": [
              "0.75"
            ]
          },
          "execution_count": 13,
          "metadata": {},
          "output_type": "execute_result"
        }
      ],
      "source": [
        "sparsity = 1 - (np.count_nonzero(tx) / tx.size)\n",
        "sparsity"
      ]
    },
    {
      "cell_type": "markdown",
      "metadata": {
        "id": "5FKiVPoRpncN"
      },
      "source": [
        "We can evaluate the performance loss introduced by the approximation by computing the inner product between the transformed vectors. This will be the operations that the textual search engine like Elasticsearch will internally perform."
      ]
    },
    {
      "cell_type": "code",
      "execution_count": 14,
      "metadata": {
        "colab": {
          "base_uri": "https://localhost:8080/"
        },
        "id": "x8R_1K-Ih6Cv",
        "outputId": "7f5caa5f-9e99-43ff-c718-1a625298b9f9"
      },
      "outputs": [
        {
          "name": "stdout",
          "output_type": "stream",
          "text": [
            "0.51505\n"
          ]
        }
      ],
      "source": [
        "# compute scores (without an index, this is slow)\n",
        "\n",
        "# this takes forever\n",
        "# scores = tq.dot(tx.T)\n",
        "\n",
        "# we use sparse multiplication (similar to what an index does)\n",
        "# that is only efficient if sparsity is high enough\n",
        "from scipy.sparse import csr_matrix\n",
        "stq = csr_matrix(tq)\n",
        "stx = csr_matrix(tx)\n",
        "\n",
        "scores = stq.dot(stx.T).toarray()\n",
        "\n",
        "# find 100 nearest neighbors\n",
        "k = 100\n",
        "sorted_indices = scores.argsort(axis=1)[:, ::-1]  # sort descending per row\n",
        "topk = sorted_indices[:, :k]  # get **indices** of the topk images for each row\n",
        "\n",
        "recall = compute_recall(true_neighbors, topk)\n",
        "print(recall)"
      ]
    },
    {
      "cell_type": "markdown",
      "metadata": {
        "id": "xK41bSIUrUG3"
      },
      "source": [
        "Once we have transformed our vectors, we can create surrogate text representations by repeating terms as many times as indicated by the transoformed vector, i.e., we interpret the transofmed vector as term frequencies."
      ]
    },
    {
      "cell_type": "code",
      "execution_count": 15,
      "metadata": {
        "id": "qyliHVOR2Lal"
      },
      "outputs": [],
      "source": [
        "def surrogate_text(term_frequencies):\n",
        "  \"\"\" Creates Surrogate Text by repeating the i-th term\n",
        "      a number of time indicated by term_frequency[i].\n",
        "  \"\"\"\n",
        "  tokens = []\n",
        "  for i, tf in enumerate(term_frequencies):\n",
        "    tokens += [f'f{i}'] * int(tf)\n",
        "\n",
        "  text = ' '.join(tokens)\n",
        "  return text"
      ]
    },
    {
      "cell_type": "code",
      "execution_count": 16,
      "metadata": {
        "colab": {
          "base_uri": "https://localhost:8080/",
          "height": 122
        },
        "id": "rF6hJVLR3Yun",
        "outputId": "41863931-2ca1-4eb9-c631-04ff6be00f76"
      },
      "outputs": [
        {
          "data": {
            "application/vnd.google.colaboratory.intrinsic+json": {
              "type": "string"
            },
            "text/plain": [
              "'f1 f1 f1 f1 f1 f1 f1 f1 f1 f1 f5 f5 f5 f5 f5 f5 f5 f5 f5 f5 f5 f5 f5 f5 f5 f5 f5 f5 f5 f5 f5 f5 f5 f5 f5 f5 f5 f5 f5 f5 f5 f5 f5 f5 f5 f5 f5 f5 f5 f5 f5 f5 f5 f5 f5 f5 f5 f5 f5 f5 f5 f5 f5 f5 f5 f5 f5 f5 f5 f5 f5 f5 f5 f5 f5 f5 f5 f5 f5 f5 f5 f5 f5 f6 f6 f6 f6 f6 f6 f6 f6 f6 f6 f6 f7 f7 f7 f7 f7 f7 f7 f7 f7 f7 f7 f7 f7 f7 f7 f7 f7 f7 f7 f7 f7 f7 f7 f7 f7 f7 f7 f7 f7 f7 f7 f7 f7 f7 f7 f7 f7 f7 f7 f7 f7 f7 f7 f7 f7 f7 f7 f7 f7 f7 f7 f7 f7 f7 f7 f7 f7 f7 f7 f7 f7 f7 f7 f7 f7 f7 f7 f7 f7 f7 f7 f7 f7 f7 f7 f7 f7 f7 f7 f7 f7 f7 f7 f7 f7 f7 f7 f7 f7 f7 f7 f7 f7 f7 f7 f7 f7 f7 f7 f7 f7 f7 f7 f7 f7 f7 f7 f7 f7 f7 f7 f7 f7 f7 f7 f7 f7 f7 f7 f7 f7 f7 f7 f7 f7 f7 f7 f7 f7 f7 f7 f7 f7 f7 f7 f7 f7 f7 f7 f7 f7 f7 f7 f7 f7 f7 f7 f7 f7 f7 f7 f7 f7 f7 f7 f7 f7 f7 f7 f7 f7 f7 f7 f7 f7 f7 f7 f7 f7 f7 f7 f7 f7 f7 f7 f7 f7 f7 f7 f7 f7 f7 f7 f7 f7 f7 f7 f7 f7 f7 f7 f7 f7 f7 f7 f7 f7 f7 f7 f7 f7 f7 f7 f7 f7 f7 f7 f7 f7 f7 f7 f7 f7 f7 f7 f7 f7 f7 f7 f7 f7 f18 f18 f25 f25 f25 f25 f25 f25 f25 f25 f25 f25 f25 f25 f25 f25 f25 f25 f25 f25 f25 f25 f25 f25 f25 f25 f25 f25 f25 f25 f25 f25 f25 f25 f25 f25 f25 f25 f25 f25 f25 f25 f25 f25 f25 f25 f25 f25 f25 f25 f25 f25 f25 f25 f25 f25 f25 f25 f25 f25 f25 f25 f25 f25 f25 f25 f25 f25 f25 f25 f25 f25 f25 f25 f25 f25 f25 f25 f25 f25 f25 f25 f25 f25 f25 f25 f25 f25 f25 f25 f25 f25 f25 f25 f25 f25 f25 f25 f25 f25 f25 f25 f25 f25 f25 f25 f25 f25 f25 f25 f25 f25 f25 f25 f25 f25 f25 f25 f25 f25 f25 f25 f25 f25 f25 f25 f25 f25 f25 f25 f25 f25 f25 f25 f25 f25 f25 f25 f25 f25 f25 f25 f25 f25 f25 f25 f25 f25 f25 f25 f25 f25 f25 f25 f25 f25 f25 f25 f25 f25 f25 f25 f25 f25 f25 f25 f25 f25 f25 f25 f25 f25 f25 f25 f25 f25 f25 f25 f25 f25 f25 f25 f25 f25 f25 f25 f25 f25 f25 f25 f25 f25 f25 f25 f25 f25 f25 f25 f25 f25 f25 f25 f25 f25 f25 f25 f25 f25 f25 f25 f25 f25 f25 f25 f25 f25 f25 f25 f25 f25 f25 f25 f25 f25 f25 f25 f25 f25 f25 f25 f25 f25 f25 f25 f25 f25 f25 f25 f25 f28 f28 f28 f28 f28 f28 f28 f28 f28 f28 f28 f28 f28 f28 f28 f28 f28 f28 f28 f28 f28 f28 f28 f28 f28 f28 f28 f28 f28 f28 f28 f28 f28 f28 f28 f28 f28 f28 f28 f28 f28 f28 f28 f28 f28 f28 f28 f28 f28 f28 f28 f28 f28 f28 f28 f28 f28 f28 f29 f29 f29 f29 f29 f29 f29 f29 f29 f29 f29 f29 f29 f29 f29 f29 f29 f29 f29 f29 f29 f29 f29 f29 f29 f29 f29 f29 f29 f29 f29 f29 f29 f29 f29 f29 f29 f29 f29 f29 f29 f29 f29 f29 f29 f29 f29 f29 f29 f29 f29 f29 f29 f29 f29 f29 f29 f29 f29 f29 f29 f29 f29 f29 f29 f29 f29 f29 f29 f29 f29 f29 f29 f29 f29 f29 f29 f29 f29 f29 f29 f29 f29 f29 f29 f29 f29 f29 f29 f30 f30 f30 f30 f30 f30 f30 f30 f30 f30 f30 f30 f30 f30 f30 f30 f30 f30 f30 f30 f30 f30 f30 f30 f30 f30 f30 f30 f30 f30 f30 f30 f30 f30 f30 f30 f30 f30 f30 f45 f45 f45 f45 f45 f45 f45 f45 f45 f45 f45 f45 f45 f45 f45 f45 f45 f45 f45 f45 f45 f45 f45 f45 f45 f45 f45 f45 f45 f45 f45 f45 f45 f45 f45 f45 f45 f45 f45 f45 f45 f45 f45 f45 f45 f45 f45 f45 f45 f45 f45 f45 f45 f45 f45 f45 f45 f45 f45 f45 f45 f45 f45 f45 f45 f45 f45 f45 f45 f45 f45 f45 f45 f45 f45 f45 f45 f45 f45 f45 f45 f45 f45 f45 f45 f45 f45 f45 f45 f45 f45 f45 f45 f45 f45 f45 f45 f45 f45 f45 f45 f45 f45 f45 f45 f45 f45 f45 f45 f45 f45 f45 f45 f45 f45 f45 f45 f45 f45 f45 f45 f45 f45 f45 f45 f45 f45 f45 f45 f45 f45 f45 f45 f45 f45 f45 f45 f45 f45 f45 f45 f45 f45 f45 f45 f45 f45 f45 f45 f45 f45 f45 f45 f45 f45 f45 f45 f45 f45 f45 f45 f45 f45 f45 f45 f45 f45 f45 f45 f45 f45 f45 f45 f45 f45 f45 f45 f45 f45 f45 f45 f45 f45 f45 f45 f45 f45 f45 f45 f45 f45 f45 f45 f45 f45 f45 f45 f45 f45 f45 f45 f45 f45 f45 f45 f45 f45 f45 f45 f45 f51 f51 f51 f51 f51 f51 f51 f51 f51 f51 f51 f51 f51 f51 f51 f51 f51 f51 f51 f51 f51 f51 f51 f51 f51 f51 f51 f51 f51 f51 f51 f51 f51 f51 f51 f51 f51 f51 f51 f51 f51 f51 f51 f51 f51 f51 f51 f51 f51 f51 f51 f51 f51 f51 f51 f51 f51 f51 f51 f51 f51 f51 f51 f51 f51 f51 f51 f51 f51 f51 f51 f51 f51 f51 f51 f51 f51 f51 f51 f51 f51 f51 f51 f51 f51 f51 f51 f51 f51 f51 f51 f51 f51 f51 f51 f51 f51 f51 f51 f51 f51 f51 f51 f51 f51 f51 f51 f51 f51 f51 f51 f51 f51 f51 f51 f51 f51 f51 f51 f51 f51 f51 f51 f51 f51 f51 f51 f51 f51 f51 f51 f51 f51 f51 f51 f51 f51 f51 f51 f51 f51 f51 f51 f51 f51 f51 f51 f51 f51 f51 f51 f51 f51 f51 f51 f51 f51 f51 f51 f51 f51 f51 f51 f51 f51 f51 f51 f51 f51 f51 f51 f51 f51 f51 f51 f51 f51 f51 f51 f51 f51 f51 f51 f51 f51 f51 f51 f51 f51 f51 f51 f51 f51 f51 f51 f51 f51 f51 f51 f51 f51 f51 f51 f51 f51 f51 f51 f51 f51 f51 f51 f51 f51 f51 f56 f56 f56 f56 f56 f56 f56 f56 f56 f56 f56 f56 f56 f56 f56 f56 f56 f56 f56 f56 f56 f56 f56 f56 f56 f56 f56 f56 f56 f56 f56 f56 f56 f56 f56 f56 f56 f56 f56 f56 f56 f56 f56 f56 f56 f56 f56 f56 f56 f56 f56 f56 f56 f56 f56 f56 f56 f56 f56 f56 f56 f56 f56 f56 f56 f56 f56 f56 f56 f56 f56 f56 f56 f56 f56 f56 f56 f56 f56 f56 f56 f56 f56 f56 f56 f56 f56 f56 f56 f56 f56 f56 f56 f56 f56 f56 f56 f56 f56 f56 f56 f56 f56 f56 f56 f56 f56 f56 f56 f56 f56 f56 f56 f56 f56 f56 f56 f56 f56 f56 f56 f56 f56 f56 f56 f56 f56 f56 f56 f56 f56 f56 f56 f56 f56 f56 f56 f56 f56 f56 f56 f56 f56 f56 f56 f56 f56 f56 f56 f56 f56 f56 f56 f56 f56 f56 f56 f56 f56 f56 f56 f56 f56 f56 f56 f56 f56 f56 f56 f56 f56 f56 f56 f56 f56 f56 f56 f56 f56 f56 f56 f56 f56 f56 f56 f56 f56 f56 f56 f56 f56 f56 f56 f56 f56 f56 f57 f57 f57 f57 f57 f57 f57 f57 f57 f57 f57 f57 f57 f57 f57 f57 f57 f57 f57 f57 f57 f57 f57 f57 f57 f57 f57 f57 f57 f57 f57 f57 f57 f57 f57 f57 f57 f57 f57 f57 f57 f57 f57 f57 f57 f57 f57 f57 f57 f57 f57 f57 f57 f57 f57 f57 f57 f57 f57 f57 f57 f57 f57 f57 f57 f57 f57 f57 f57 f57 f57 f57 f57 f57 f57 f57 f57 f57 f57 f57 f57 f57 f57 f57 f57 f57 f57 f57 f57 f57 f57 f57 f57 f57 f57 f57 f57 f57 f57 f57 f57 f57 f57 f57 f57 f57 f57 f57 f57 f57 f57 f57 f57 f57 f57 f57 f57 f57 f57 f57 f57 f57 f57 f57 f57 f57 f57 f57 f57 f57 f57 f57 f57 f57 f57 f57 f57 f57 f57 f57 f57 f57 f57 f57 f57 f57 f57 f57 f57 f62 f62 f62 f62 f62 f62 f62 f62 f62 f62 f62 f62 f62 f62 f62 f62 f62 f62 f62 f62 f62 f62 f62 f62 f62 f62 f62 f62 f62 f62 f62 f62 f62 f62 f62 f62 f62 f62 f62 f62 f62 f62 f62 f62 f62 f62 f62 f62 f62 f62 f62 f62 f62 f62 f62 f62 f62 f62 f62 f62 f62 f62 f62 f62 f62 f62 f62 f62 f62 f62 f62 f62 f62 f62 f62 f62 f62 f62 f62 f62 f62 f62 f62 f62 f62 f62 f62 f62 f62 f62 f62 f62 f62 f62 f62 f62 f62 f62 f62 f62 f62 f62 f62 f62 f62 f62 f62 f62 f62 f62 f62 f62 f68 f68 f68 f68 f68 f68 f68 f68 f68 f68 f68 f68 f68 f68 f68 f68 f68 f68 f68 f68 f68 f68 f68 f68 f68 f68 f68 f68 f68 f68 f68 f68 f68 f68 f68 f68 f74 f74 f74 f74 f74 f74 f74 f74 f74 f74 f74 f74 f74 f74 f74 f74 f74 f74 f74 f74 f74 f74 f74 f74 f74 f74 f74 f74 f74 f74 f74 f74 f74 f74 f74 f74 f74 f74 f74 f74 f74 f74 f74 f74 f74 f74 f74 f74 f74 f74 f74 f74 f74 f74 f74 f74 f74 f74 f74 f74 f74 f74 f74 f74 f74 f74 f74 f74 f74 f74 f74 f74 f74 f74 f74 f74 f74 f74 f74 f74 f74 f74 f74 f74 f74 f74 f74 f74 f74 f74 f74 f74 f74 f74 f74 f74 f74 f74 f74 f74 f74 f74 f74 f74 f74 f74 f74 f74 f74 f74 f74 f74 f74 f74 f74 f74 f74 f74 f74 f74 f74 f76 f76 f76 f76 f76 f76 f76 f76 f76 f76 f76 f76 f76 f76 f76 f76 f76 f76 f76 f76 f76 f76 f76 f76 f76 f76 f76 f76 f76 f76 f76 f76 f76 f76 f76 f76 f76 f76 f76 f76 f76 f76 f76 f76 f76 f76 f76 f76 f76 f76 f76 f76 f76 f76 f76 f76 f76 f76 f76 f76 f76 f76 f76 f76 f76 f76 f76 f76 f76 f76 f76 f76 f76 f76 f76 f76 f76 f76 f76 f76 f76 f76 f76 f76 f76 f76 f76 f76 f76 f76 f76 f76 f76 f76 f76 f76 f76 f76 f76 f76 f76 f76 f76 f76 f76 f76 f76 f76 f76 f76 f76 f76 f76 f76 f76 f76 f76 f76 f76 f76 f76 f76 f76 f76 f76 f76 f76 f76 f76 f76 f76 f76 f76 f76 f76 f76 f76 f76 f76 f76 f76 f76 f76 f76 f76 f76 f76 f76 f76 f76 f76 f76 f76 f76 f77 f77 f77 f77 f77 f77 f77 f77 f77 f77 f77 f77 f77 f77 f77 f77 f77 f77 f77 f77 f77 f77 f77 f77 f77 f77 f77 f77 f77 f77 f77 f77 f77 f77 f77 f77 f77 f77 f77 f77 f77 f77 f77 f77 f77 f77 f77 f77 f77 f77 f77 f77 f77 f77 f77 f77 f77 f77 f77 f77 f77 f77 f77 f77 f77 f77 f77 f77 f77 f77 f77 f77 f77 f77 f77 f77 f77 f77 f77 f77 f77 f77 f77 f77 f77 f77 f77 f77 f77 f77 f77 f77 f77 f77 f77 f77 f77 f77 f77 f77 f77 f77 f77 f77 f77 f77 f77 f77 f77 f77 f77 f77 f77 f77 f77 f77 f77 f77 f77 f77 f77 f77 f77 f77 f77 f77 f77 f77 f77 f77 f77 f77 f77 f77 f77 f77 f77 f77 f77 f77 f77 f77 f77 f77 f77 f77 f77 f77 f77 f77 f77 f77 f77 f77 f77 f77 f77 f77 f77 f77 f77 f77 f77 f77 f77 f77 f77 f77 f77 f77 f77 f77 f77 f77 f77 f77 f77 f77 f77 f77 f77 f77 f77 f77 f77 f77 f77 f77 f77 f77 f77 f77 f77 f77 f77 f79 f79 f79 f79 f79 f79 f79 f79 f79 f79 f79 f79 f79 f79 f79 f79 f79 f79 f79 f79 f79 f79 f79 f79 f79 f79 f79 f79 f79 f79 f79 f79 f79 f79 f79 f79 f79 f79 f79 f79 f79 f79 f79 f79 f79 f79 f79 f79 f79 f79 f79 f79 f79 f79 f79 f79 f79 f79 f79 f79 f79 f79 f79 f79 f79 f79 f79 f79 f79 f79 f79 f79 f79 f79 f79 f79 f79 f79 f79 f79 f79 f79 f79 f79 f79 f79 f79 f79 f79 f79 f79 f79 f79 f79 f79 f79 f79 f79 f79 f79 f79 f79 f79 f79 f79 f79 f79 f79 f79 f79 f79 f79 f79 f79 f79 f79 f79 f79 f79 f79 f79 f79 f79 f79 f79 f79 f79 f79 f79 f79 f79 f79 f91 f91 f91 f91 f91 f91 f91 f91 f91 f91 f91 f91 f91 f91 f91 f91 f91 f91 f91 f91 f91 f91 f91 f91 f91 f91 f91 f91 f91 f91 f91 f91 f91 f91 f91 f91 f91 f91 f91 f91 f91 f91 f91 f91 f91 f91 f91 f91 f91 f91 f91 f91 f91 f91 f91 f91 f91 f91 f91 f91 f91 f91 f91 f91 f91 f91 f91 f91 f91 f91 f91 f91 f91 f91 f91 f91 f91 f91 f91 f91 f91 f91 f91 f91 f91 f91 f91 f91 f91 f91 f91 f91 f91 f91 f91 f91 f91 f91 f91 f91 f91 f91 f91 f91 f91 f91 f91 f91 f91 f91 f91 f91 f91 f91 f91 f91 f91 f91 f91 f91 f91 f91 f91 f91 f91 f91 f91 f91 f91 f91 f91 f91 f91 f91 f91 f91 f91 f91 f91 f91 f91 f91 f91 f91 f91 f91 f91 f91 f92 f92 f92 f92 f92 f92 f92 f92 f92 f92 f92 f92 f92 f92 f92 f92 f92 f92 f92 f92 f92 f92 f92 f92 f92 f92 f92 f92 f95 f95 f95 f95 f95 f95 f95 f95 f95 f95 f95 f95 f95 f95 f95 f95 f95 f95 f95 f95 f95 f95 f95 f95 f95 f95 f95 f95 f95 f95 f95 f95 f95 f95 f95 f95 f95 f95 f95 f95 f95 f95 f95 f95 f95 f95 f95 f95 f95 f95 f95 f95 f95 f95 f95 f95 f95 f95 f95 f95 f95 f95 f95 f95 f95 f95 f95 f95 f95 f95 f95 f95 f95 f95 f95 f95 f95 f95 f95 f97 f97 f97 f97 f97 f97 f97 f97 f97 f97 f97 f97 f97 f97 f97 f97 f97 f97 f97 f97 f97 f97 f97 f97 f97 f97 f97 f97 f97 f97 f97 f97 f97 f97 f97 f97 f97 f97 f97 f97 f97 f97 f97 f97 f97 f97 f97 f97 f97 f97 f97 f97 f97 f97 f97 f97 f97 f97 f97 f97 f97 f97 f97 f97 f97 f97 f97 f97 f97 f97 f97 f97 f97 f97 f97 f97 f97 f97 f97 f97 f97 f97 f97 f97 f97 f97 f97 f97 f97 f97 f97 f97 f97 f97 f97 f97 f97 f97 f97 f97 f97 f97 f97 f97 f99 f99 f99 f99 f99 f99 f99 f99 f99 f99 f99 f99 f99 f99 f99 f99 f99 f99 f99 f99 f99 f99 f99 f99 f99 f99 f99 f99 f99 f99 f99 f99 f99 f99 f99 f99 f99 f99 f99 f99 f99 f99 f99 f99 f99 f99 f99 f99 f99 f99 f99 f99 f99 f99 f99 f99 f99 f99 f99 f99 f99 f99 f99 f99 f99 f99 f99 f99 f99 f99 f99 f99 f99 f99 f99 f99 f99 f99 f99 f99 f99 f99 f99 f99 f99 f99 f99 f99 f99 f99 f99 f99 f99 f99 f99 f99 f99 f99 f99 f99 f99 f99 f99 f99 f99 f99 f99 f99 f99 f99 f99 f99 f99 f99 f99 f99 f99 f99 f99 f99 f99 f99 f99 f99 f99 f99 f99 f99 f99 f99 f99 f99 f99 f99 f99 f99 f99 f99 f99 f99 f99 f99 f99 f99 f99 f99 f99 f99 f99 f99 f99 f99 f99 f99 f99 f99 f99 f99 f99 f99 f99 f99 f99 f99 f99 f99 f99 f99 f99 f99 f99 f99 f99 f99 f99 f99 f99 f99 f99 f99 f99 f99 f99 f99 f99 f99 f99 f99 f99 f99 f99 f99 f99 f99 f99 f99 f99 f99 f99 f99 f99 f99 f99 f99 f99 f99 f99 f99 f99 f99 f99 f99 f99 f99 f99 f99 f99 f99 f99 f99 f99 f99 f99 f99 f99 f99 f99 f99 f99 f99 f99 f99 f99 f99 f99 f99 f99 f99 f99 f99 f99 f99 f99 f99 f99 f99 f105 f105 f105 f105 f105 f105 f105 f105 f105 f105 f105 f105 f105 f105 f105 f105 f105 f105 f105 f105 f105 f105 f105 f105 f105 f105 f105 f105 f105 f105 f105 f105 f105 f105 f105 f105 f105 f105 f105 f105 f105 f105 f105 f105 f105 f105 f105 f105 f105 f105 f105 f105 f105 f105 f105 f105 f105 f105 f105 f105 f105 f105 f105 f105 f105 f105 f105 f105 f105 f105 f105 f105 f105 f105 f105 f105 f105 f105 f105 f105 f105 f105 f105 f105 f105 f105 f105 f105 f105 f105 f105 f105 f105 f105 f105 f105 f105 f105 f105 f105 f105 f105 f105 f105 f105 f105 f105 f105 f105 f105 f105 f105 f105 f105 f105 f105 f105 f105 f105 f105 f105 f105 f105 f105 f105 f105 f105 f105 f105 f105 f105 f105 f105 f105 f105 f105 f105 f105 f105 f105 f105 f105 f105 f105 f105 f105 f105 f105 f105 f105 f105 f105 f105 f105 f105 f105 f105 f105 f105 f105 f105 f105 f105 f105 f105 f105 f105 f105 f105 f105 f105 f105 f105 f105 f105 f105 f105 f105 f105 f105 f105 f105 f105 f105 f105 f105 f105 f105 f105 f105 f105 f105 f105 f105 f105 f105 f105 f105 f105 f105 f105 f105 f105 f105 f105 f105 f105 f105 f106 f106 f106 f106 f106 f106 f106 f106 f106 f106 f106 f106 f106 f106 f106 f106 f106 f106 f106 f106 f106 f106 f106 f106 f106 f106 f106 f106 f106 f106 f106 f106 f106 f106 f106 f106 f106 f106 f106 f106 f106 f106 f106 f106 f106 f106 f106 f106 f106 f106 f106 f106 f106 f106 f106 f106 f106 f106 f106 f106 f106 f106 f106 f106 f106 f106 f106 f106 f106 f106 f106 f106 f106 f106 f106 f106 f106 f106 f106 f106 f106 f106 f106 f106 f106 f106 f106 f106 f106 f106 f106 f106 f106 f106 f106 f106 f106 f106 f106 f106 f106 f106 f106 f106 f106 f106 f108 f108 f108 f108 f108 f108 f108 f108 f108 f108 f108 f108 f108 f108 f108 f108 f108 f108 f108 f108 f108 f108 f108 f108 f108 f108 f108 f108 f108 f108 f108 f108 f108 f108 f108 f108 f108 f108 f108 f108 f108 f108 f108 f108 f108 f108 f108 f108 f108 f108 f108 f108 f108 f108 f108 f108 f108 f108 f108 f108 f108 f108 f108 f108 f108 f108 f108 f108 f108 f108 f108 f108 f108 f108 f108 f108 f108 f108 f108 f108 f108 f108 f108 f108 f108 f108 f108 f108 f108 f108 f108 f108 f108 f108 f108 f108 f108 f108 f108 f108 f108 f108 f108 f108 f108 f108 f108 f108 f108 f108 f108 f108 f108 f108 f108 f108 f108 f108 f108 f108 f108 f108 f108 f108 f108 f108 f108 f108 f108 f108 f108 f108 f108 f108 f108 f108 f108 f108 f108 f108 f108 f108 f108 f117 f117 f117 f117 f117 f117 f117 f117 f117 f117 f117 f117 f117 f117 f117 f117 f117 f117 f117 f117 f117 f117 f117 f117 f117 f117 f117 f117 f117 f117 f117 f117 f117 f117 f117 f117 f117 f117 f117 f117 f117 f117 f117 f117 f117 f117 f117 f117 f117 f117 f117 f117 f117 f117 f117 f117 f117 f117 f117 f117 f117 f117 f117 f117 f117 f117 f117 f117 f117 f117 f117 f117 f117 f117 f117 f117 f117 f117 f117 f117 f117 f117 f117 f117 f117 f117 f117 f117 f117 f117 f117 f117 f117 f117 f117 f117 f117 f117 f117 f117 f117 f117 f117 f117 f117 f117 f117 f117 f117 f117 f117 f117 f117 f117 f117 f117 f117 f117 f117 f117 f117 f117 f117 f117 f117 f117 f117 f117 f117 f117 f117 f117 f117 f117 f117 f117 f117 f117 f117 f117 f117 f117 f117 f117 f117 f117 f117 f117 f117 f117 f117 f117 f117 f117 f117 f117 f117 f117 f117 f117 f117 f117 f117 f117 f117 f117 f117 f117 f122 f122 f122 f122 f122 f122 f122 f122 f122 f122 f122 f122 f122 f122 f122 f122 f122 f122 f122 f122 f122 f122 f122 f122 f122 f122 f122 f122 f122 f122 f122 f122 f122 f122 f122 f122 f122 f122 f122 f122 f122 f122 f122 f122 f122 f122 f122 f122 f122 f122 f122 f122 f122 f122 f122 f122 f122 f122 f122 f122 f122 f122 f122 f122 f122 f122 f122 f122 f122 f122 f122 f122 f122 f122 f122 f122 f122 f122 f122 f122 f122 f122 f122 f122 f122 f122 f122 f122 f122 f122 f122 f122 f122 f122 f122 f122 f122 f122 f122 f122 f122 f122 f122 f122 f122 f122 f122 f122 f122 f122 f122 f122 f122 f122 f122 f122 f122 f122 f122 f122 f122 f122 f122 f122 f122 f122 f122 f122 f122 f122 f122 f122 f122 f122 f122 f122 f122 f122 f122 f122 f122 f122 f122 f122 f122 f122 f122 f122 f122 f122 f122 f122 f122 f122 f122 f122 f122 f122 f122 f122 f122 f122 f122 f122 f122 f122 f122 f122 f122 f122 f122 f122 f122 f122 f122 f122 f122 f122 f122 f122 f122 f122 f122 f122 f122 f122 f122 f122 f122 f122 f122 f122 f122 f122 f122 f122 f122 f122 f122 f122 f122 f122 f122 f122 f122 f122 f122 f122 f122 f122 f122 f122 f122 f122 f122 f122 f122 f122 f122 f122 f131 f131 f131 f131 f131 f131 f131 f131 f131 f131 f131 f131 f131 f131 f131 f131 f131 f131 f131 f131 f131 f131 f131 f131 f131 f131 f131 f131 f131 f131 f131 f131 f131 f131 f131 f131 f131 f131 f131 f131 f131 f131 f131 f131 f131 f131 f131 f131 f131 f131 f131 f131 f131 f131 f131 f131 f131 f131 f131 f131 f131 f131 f131 f131 f131 f131 f131 f131 f131 f131 f131 f131 f131 f131 f131 f131 f131 f131 f131 f131 f131 f131 f131 f131 f131 f131 f131 f131 f131 f131 f131 f131 f131 f131 f131 f131 f131 f131 f131 f131 f131 f131 f131 f131 f131 f131 f131 f131 f131 f131 f131 f131 f131 f131 f131 f131 f131 f131 f131 f131 f131 f131 f131 f131 f131 f131 f131 f131 f131 f131 f131 f131 f131 f131 f131 f131 f131 f131 f131 f131 f131 f131 f131 f131 f131 f131 f131 f131 f131 f131 f131 f131 f131 f131 f131 f131 f131 f131 f131 f131 f131 f131 f131 f131 f131 f131 f131 f131 f131 f131 f132 f132 f132 f132 f132 f132 f132 f132 f135 f135 f135 f135 f135 f135 f135 f135 f135 f135 f135 f135 f135 f135 f135 f135 f135 f135 f135 f135 f135 f135 f135 f135 f135 f135 f135 f135 f135 f135 f135 f135 f135 f135 f135 f135 f135 f135 f135 f135 f135 f135 f135 f135 f135 f135 f135 f135 f135 f135 f135 f135 f135 f135 f135 f135 f135 f135 f135 f135 f135 f135 f135 f135 f135 f135 f135 f135 f135 f135 f135 f135 f135 f135 f135 f135 f135 f135 f135 f135 f135 f135 f135 f135 f135 f135 f135 f135 f135 f135 f135 f135 f135 f135 f135 f135 f135 f135 f135 f135 f135 f135 f135 f135 f135 f135 f135 f135 f135 f135 f135 f135 f135 f135 f136 f136 f136 f136 f136 f136 f136 f136 f136 f136 f136 f136 f136 f136 f136 f136 f136 f136 f136 f136 f136 f136 f136 f136 f136 f136 f136 f136 f136 f136 f136 f136 f136 f136 f136 f136 f136 f136 f136 f136 f136 f136 f136 f136 f136 f136 f136 f136 f136 f136 f136 f136 f136 f136 f136 f136 f136 f136 f136 f136 f136 f136 f136 f136 f136 f136 f136 f136 f136 f136 f136 f136 f136 f136 f136 f136 f136 f136 f136 f136 f136 f136 f136 f136 f136 f136 f136 f136 f136 f136 f136 f136 f136 f136 f136 f136 f136 f151 f151 f151 f151 f151 f151 f151 f151 f151 f151 f151 f151 f151 f151 f151 f151 f151 f151 f151 f151 f151 f151 f151 f151 f151 f151 f151 f151 f151 f151 f151 f151 f151 f151 f151 f151 f151 f151 f151 f151 f151 f151 f151 f151 f151 f151 f151 f151 f151 f151 f151 f151 f151 f151 f151 f151 f151 f151 f151 f151 f151 f151 f151 f151 f151 f151 f151 f151 f151 f151 f151 f151 f151 f151 f151 f151 f151 f151 f151 f151 f151 f151 f151 f151 f151 f151 f151 f151 f151 f151 f151 f151 f151 f151 f151 f151 f151 f151 f151 f151 f151 f151 f151 f151 f151 f151 f151 f151 f155 f155 f155 f155 f155 f155 f155 f155 f155 f155 f155 f155 f155 f155 f155 f155 f155 f155 f155 f155 f155 f155 f155 f155 f155 f155 f155 f155 f155 f155 f155 f155 f155 f155 f155 f155 f155 f155 f155 f155 f155 f155 f155 f155 f155 f155 f155 f155 f155 f155 f155 f155 f155 f155 f155 f155 f155 f155 f155 f155 f155 f155 f155 f155 f155 f155 f155 f155 f155 f155 f155 f155 f155 f155 f155 f155 f155 f155 f155 f155 f155 f155 f155 f155 f155 f155 f155 f155 f155 f155 f155 f155 f155 f155 f155 f155 f155 f155 f155 f155 f155 f155 f155 f155 f155 f155 f155 f155 f155 f155 f155 f155 f155 f155 f155 f155 f155 f155 f155 f155 f155 f155 f155 f155 f155 f155 f155 f155 f155 f155 f155 f155 f155 f163 f163 f163 f163 f163 f163 f163 f163 f163 f163 f163 f163 f163 f163 f163 f163 f163 f163 f163 f163 f163 f163 f163 f163 f163 f163 f163 f163 f163 f163 f163 f163 f163 f163 f163 f163 f163 f163 f163 f163 f163 f163 f163 f163 f163 f163 f163 f163 f163 f163 f163 f163 f163 f163 f163 f163 f163 f163 f163 f163 f163 f163 f163 f163 f163 f163 f163 f163 f163 f163 f163 f163 f163 f163 f163 f163 f163 f163 f163 f163 f163 f163 f163 f163 f163 f163 f163 f163 f163 f163 f163 f163 f163 f163 f163 f163 f163 f163 f163 f163 f163 f163 f163 f163 f163 f163 f163 f163 f163 f163 f163 f163 f163 f163 f163 f167 f167 f167 f167 f167 f167 f167 f167 f167 f167 f167 f167 f167 f167 f167 f167 f167 f167 f167 f167 f167 f167 f167 f167 f167 f167 f167 f167 f167 f167 f167 f167 f167 f167 f167 f167 f167 f167 f167 f167 f167 f167 f167 f167 f167 f167 f167 f167 f167 f167 f167 f167 f167 f167 f167 f167 f167 f167 f167 f167 f167 f167 f167 f167 f167 f167 f167 f167 f167 f167 f167 f167 f167 f167 f167 f167 f167 f167 f167 f167 f167 f167 f167 f167 f167 f167 f167 f167 f167 f167 f167 f167 f167 f167 f167 f167 f167 f167 f167 f167 f167 f167 f167 f167 f167 f167 f167 f167 f167 f167 f167 f167 f167 f167 f167 f167 f167 f167 f167 f167 f167 f167 f167 f167 f167 f167 f167 f167 f167 f167 f167 f167 f167 f167 f167 f167 f167 f167 f167 f167 f167 f167 f167 f167 f167 f167 f167 f167 f167 f167 f167 f167 f167 f172 f172 f172 f172 f172 f172 f172 f172 f172 f172 f172 f172 f172 f172 f172 f172 f172 f172 f172 f172 f172 f172 f172 f172 f172 f172 f172 f172 f172 f172 f172 f172 f172 f172 f172 f172 f172 f172 f172 f172 f172 f172 f172 f172 f172 f172 f172 f172 f172 f172 f172 f172 f172 f172 f172 f172 f172 f172 f172 f172 f172 f172 f172 f172 f172 f172 f172 f172 f172 f172 f172 f172 f172 f172 f172 f172 f172 f172 f172 f172 f172 f172 f172 f172 f172 f172 f172 f172 f172 f172 f172 f172 f172 f172 f172 f172 f172 f172 f172 f172 f172 f172 f172 f172 f172 f172 f172 f172 f172 f172 f172 f172 f172 f172 f172 f172 f172 f172 f172 f172 f172 f172 f172 f172 f172 f172 f172 f172 f172 f172 f172 f172 f172 f172 f172 f172 f172 f172 f172 f172 f172 f172 f172 f172 f172 f172 f172 f172 f172 f172 f172 f172 f172 f172 f172 f172 f172 f172 f172 f172 f172 f172 f172 f177 f177 f177 f177 f177 f177 f177 f177 f177 f177 f177 f177 f177 f177 f177 f177 f177 f177 f177 f177 f177 f177 f177 f177 f177 f177 f177 f177 f177 f177 f177 f177 f177 f177 f177 f177 f177 f177 f177 f177 f177 f177 f177 f177 f177 f177 f177 f177 f177 f177 f177 f177 f177 f177 f177 f177 f177 f177 f177 f177 f177 f177 f177 f177 f177 f177 f177 f177 f177 f177 f177 f177 f177 f177 f177 f177 f177 f177 f177 f177 f177 f177 f177 f177 f177 f177 f177 f177 f177 f177 f177 f177 f177 f177 f177 f177 f178 f178 f178 f178 f178 f178 f178 f178 f178 f178 f178 f178 f178 f178 f178 f178 f178 f178 f178 f178 f178 f178 f178 f178 f178 f178 f178 f178 f178 f178 f178 f178 f178 f178 f178 f178 f178 f178 f178 f178 f178 f178 f178 f178 f178 f178 f178 f178 f178 f178 f178 f178 f178 f178 f178 f178 f178 f178 f178 f178 f178 f178 f178 f178 f178 f178 f178 f178 f178 f178 f178 f178 f178 f178 f178 f178 f178 f178 f178 f178 f178 f178 f178 f178 f178 f178 f178 f178 f178 f178 f178 f178 f178 f178 f178 f178 f178 f178 f178 f178 f178 f178 f178 f178 f178 f178 f178 f178 f178 f178 f178 f178 f178 f178 f178 f178 f178 f178 f178 f178 f178 f178 f178 f178 f178 f178 f178 f178 f178 f178 f178 f178 f178 f178 f178 f178 f178 f178 f178 f178 f178 f178 f178 f178 f178 f178 f178 f178 f178 f178 f178 f178 f178 f178 f178 f178 f178 f178 f178 f178 f178 f178 f178 f178 f178 f178 f178 f178 f178 f178 f178 f178 f178 f178 f178 f178 f178 f178 f178 f178 f178 f178 f178 f180 f180 f180 f180 f180 f180 f180 f180 f180 f180 f180 f180 f180 f180 f180 f180 f180 f180 f180 f180 f180 f180 f180 f180 f180 f180 f180 f180 f180 f180 f180 f180 f180 f180 f180 f180 f180 f180 f180 f180 f180 f180 f180 f180 f180 f180 f180 f180 f180 f180 f180 f180 f180 f180 f180 f180 f180 f180 f180 f180 f180 f180 f180 f180 f180 f180 f180 f180 f180 f180 f180 f180 f180 f180 f180 f180 f180 f180 f180 f180 f180 f180 f180 f180 f180 f180 f180 f180 f180 f180 f180 f180 f180 f180 f180 f180 f180 f180 f180 f180 f180 f180 f180 f180 f180 f180 f180 f180 f180 f180 f180 f180 f180 f180 f180 f180 f180 f180 f180 f180 f180 f180 f180 f180 f180 f180 f180 f185 f185 f185 f185 f185 f185 f185 f185 f185 f185 f185 f185 f185 f185 f185 f185 f185 f185 f185 f185 f185 f185 f185 f185 f185 f185 f185 f185 f185 f185 f185 f185 f185 f185 f185 f185 f185 f185 f185 f185 f185 f185 f185 f185 f185 f185 f185 f185 f185 f185 f185 f185 f185 f185 f185 f185 f185 f185 f185 f185 f185 f185 f185 f185 f185 f185 f185 f185 f185 f185 f185 f185 f185 f185 f185 f185 f185 f185 f185 f185 f185 f185 f185 f185 f185 f185 f185 f185 f185 f185 f185 f185 f185 f185 f185 f185 f185 f185 f185 f185 f185 f185 f185 f185 f185 f185 f185 f185 f185 f185 f185 f185 f185 f185 f185 f185 f185 f185 f185 f185 f185 f185 f185 f185 f185 f185 f185 f185 f185 f185 f185 f185 f185 f185 f185 f185 f185 f185 f185 f185 f185 f185 f185 f185 f185 f185 f185 f185 f185 f185 f185 f185 f185 f185 f185 f185 f185 f185 f185 f185 f185 f185 f185 f185 f185 f185 f185 f185 f185 f185 f185 f185 f185 f185 f185 f185 f185 f185 f185 f185 f185 f185 f185 f185 f185 f185 f185 f185 f185 f185 f185 f185 f185 f185 f185 f185 f185 f185 f185 f185 f185 f185 f185 f185 f185 f185 f185 f185 f185 f185 f185 f185 f185 f185 f185 f185 f185 f185 f185 f185 f185 f185 f185 f185 f185 f185 f185 f185 f185 f185 f185 f185 f185 f185 f185 f185 f185 f185 f194 f194 f194 f194 f194 f194 f194 f194 f194 f194 f194 f194 f194 f194 f194 f194 f194 f194 f194 f194 f194 f194 f194 f194 f194 f194 f194 f194 f194 f194 f194 f194 f194 f194 f194 f194 f194 f194 f194 f194 f194 f194 f194 f194 f194 f194 f194 f194 f194 f194 f194 f194 f194 f194 f194 f194 f194 f194 f194 f194 f194 f194 f194 f194 f194 f194 f194 f194 f194 f194 f194 f194 f194 f194 f194 f194 f194 f194 f194 f194 f194 f194 f194 f194 f194 f194 f194 f194 f194 f194 f194 f194 f194 f194 f194 f194 f194 f194 f194 f194 f194 f194 f194 f194 f194 f194 f194 f194 f194 f194 f194 f194 f194 f194 f194 f194 f194 f194 f194 f194 f194 f194 f194 f194 f194 f194 f194 f194 f194 f194 f194 f194 f194 f194 f194 f200 f200 f200 f200 f200 f200 f200 f200 f200 f200 f200 f200 f200 f200 f200 f200 f200 f200 f200 f200 f200 f200 f200 f200 f200 f200 f200 f200 f200 f200 f200 f200 f200 f200 f200 f200 f200 f200 f200 f200 f200 f200 f200 f200 f200 f200 f200 f200 f200 f200 f200 f200 f200 f200 f200 f200 f200 f200 f200 f200 f200 f200 f200 f200 f200 f200 f200 f200 f200 f200 f200 f200 f200 f200 f200 f200 f200 f200 f200 f200 f200 f200 f200 f200 f200 f200 f200 f200 f200 f200 f200 f200 f200 f202 f202 f202 f202 f202 f202 f202 f202 f202 f202 f202 f202 f202 f202 f202 f202 f202 f202 f202 f202 f202 f202 f202 f202 f202 f202 f202 f202 f202 f202 f202 f202 f202 f202 f202 f202 f202 f202 f202 f202 f202 f202 f202 f202 f202 f202 f202 f202 f202 f202 f202 f202 f202 f202 f202 f202 f202 f202 f202 f202 f202 f202 f202 f202 f202 f202 f202 f202 f202 f202 f202 f202 f202 f202 f202 f202 f202 f202 f202 f202 f202 f202 f202 f202 f202 f202 f202 f202 f202 f202 f202 f202 f202 f202 f202 f202 f202 f202 f202 f202 f202 f202 f202 f202 f202 f202 f202 f202 f202 f202 f207 f207 f207 f207 f207 f207 f207 f207 f207 f207 f207 f207 f207 f207 f207 f207 f207 f207 f207 f207 f207 f207 f207 f207 f207 f207 f207 f207 f207 f207 f207 f207 f207 f207 f207 f207 f207 f207 f207 f207 f207 f207 f207 f207 f207 f207 f207 f207 f207 f207 f207 f207 f207 f207 f207 f207 f207 f207 f207 f207 f207 f207 f207 f207 f207 f207 f207 f207 f207 f207 f207 f207 f207 f207 f207 f207 f207 f207 f207 f207 f207 f207 f207 f207 f207 f207 f207 f207 f207 f207 f207 f207 f207 f207 f207 f207 f207 f207 f207 f207 f207 f207 f207 f207 f207 f207 f207 f207 f207 f207 f207 f207 f207 f207 f207 f207 f207 f207 f207 f207 f207 f207 f207 f207 f207 f207 f207 f207 f207 f207 f207 f207 f207 f207 f207 f207 f207 f207 f207 f207 f207 f207 f207 f207 f207 f207 f207 f207 f207 f207 f207 f207 f207 f207 f207 f207 f207 f207 f207 f207 f207 f207 f207 f207 f207 f207 f207 f207 f207 f207 f207 f207 f207 f207 f207 f207 f207 f207 f207 f207 f207 f207 f209 f209 f209 f209 f209 f209 f209 f209 f209 f209 f209 f209 f209 f209 f209 f209 f209 f209 f209 f209 f209 f209 f209 f209 f209 f209 f209 f209 f209 f209 f209 f209 f209 f209 f209 f209 f209 f209 f209 f209 f209 f209 f209 f209 f209 f209 f209 f209 f209 f209 f209 f209 f209 f209 f209 f209 f209 f209 f209 f209 f209 f209 f209 f209 f209 f209 f209 f209 f209 f209 f209 f209 f209 f209 f209 f209 f209 f209 f209 f209 f209 f209 f209 f209 f209 f209 f215 f215 f215 f215 f215 f215 f215 f215 f215 f215 f215 f215 f215 f215 f215 f215 f215 f215 f215 f215 f215 f215 f215 f215 f215 f215 f215 f215 f215 f215 f215 f215 f215 f215 f215 f215 f215 f215 f215 f215 f215 f215 f215 f215 f215 f215 f215 f215 f215 f215 f215 f215 f215 f215 f215 f215 f215 f215 f215 f215 f215 f215 f215 f215 f215 f215 f215 f215 f215 f215 f215 f215 f215 f215 f215 f215 f215 f215 f215 f215 f215 f215 f215 f215 f215 f215 f215 f215 f215 f215 f215 f215 f215 f215 f215 f215 f215 f215 f215 f215 f215 f215 f215 f215 f215 f215 f215 f215 f215 f215 f215 f215 f215 f215 f215 f215 f215 f215 f215 f215 f215 f215 f215 f215 f215 f215 f215 f215 f215 f215 f215 f215 f215 f215 f217 f217 f217 f217 f217 f217 f217 f217 f217 f217 f217 f217 f217 f217 f217 f217 f217 f217 f217 f217 f217 f217 f217 f217 f217 f217 f217 f217 f217 f217 f217 f217 f217 f217 f217 f217 f217 f217 f217 f217 f217 f217 f217 f217 f217 f217 f217 f217 f217 f217 f217 f217 f217 f217 f217 f217 f217 f217 f217 f217 f217 f217 f217 f217 f217 f217 f217 f217 f217 f217 f217 f217 f217 f217 f217 f217 f217 f217 f217 f217 f217 f217 f217 f217 f217 f217 f217 f217 f217 f217 f217 f217 f217 f217 f217 f217 f217 f217 f217 f217 f217 f217 f217 f217 f217 f217 f217 f217 f217 f217 f217 f217 f217 f217 f217 f217 f217 f217 f217 f217 f217 f217 f217 f217 f217 f217 f217 f217 f217 f217 f217 f217 f217 f217 f217 f217 f217 f217 f217 f217 f217 f217 f217 f217 f217 f217 f217 f217 f217 f217 f217 f217 f217 f217 f217 f217 f217 f217 f217 f217 f217 f217 f217 f217 f217 f217 f217 f217 f217 f217 f217 f217 f223 f223 f223 f223 f223 f223 f223 f223 f223 f223 f223 f223 f223 f223 f223 f223 f223 f223 f223 f223 f223 f223 f223 f223 f223 f223 f223 f223 f223 f223 f223 f223 f223 f223 f223 f223 f223 f223 f223 f223 f223 f223 f223 f223 f223 f223 f223 f223 f223 f223 f223 f223 f223 f223 f223 f223 f223 f223 f223 f223 f223 f223 f223 f223 f223 f223 f223 f223 f223 f223 f223 f223 f223 f223 f223 f223 f223 f223 f223 f223 f223 f223 f223 f223 f223 f224 f224 f224 f224 f224 f224 f224 f224 f224 f224 f224 f224 f224 f224 f224 f224 f224 f224 f224 f224 f224 f224 f224 f224 f224 f224 f224 f224 f224 f224 f224 f224 f224 f224 f224 f224 f224 f224 f224 f224 f224 f224 f224 f224 f224 f224 f224 f224 f224 f224 f224 f224 f224 f224 f224 f229 f229 f229 f229 f229 f229 f229 f229 f229 f229 f229 f229 f229 f229 f229 f229 f229 f229 f229 f229 f229 f229 f229 f229 f229 f229 f229 f229 f229 f229 f229 f229 f229 f229 f229 f229 f229 f229 f229 f229 f229 f229 f229 f229 f229 f229 f229 f229 f229 f229 f229 f229 f229 f229 f229 f229 f229 f229 f229 f229 f229 f229 f229 f229 f229 f229 f229 f229 f229 f229 f229 f229 f229 f229 f229 f229 f229 f229 f229 f229 f229 f229 f229 f229 f229 f229 f229 f229 f229 f229 f229 f229 f229 f229 f229 f229 f229 f229 f229 f229 f229 f229 f229 f229 f229 f229 f229 f229 f229 f229 f229 f229 f229 f229 f229 f229 f229 f229 f229 f229 f229 f229 f229 f229 f229 f229 f229 f229 f229 f229 f229 f229 f229 f229 f229 f229 f229 f229 f229 f229 f229 f229 f229 f229 f229 f229 f229 f229 f229 f229 f229 f229 f229 f229 f229 f229 f229 f229 f229 f229 f229 f229 f229 f229 f229 f229 f229 f229 f229 f229 f229 f229 f229 f229 f229 f229 f229 f230 f230 f230 f230 f230 f230 f230 f230 f230 f230 f230 f230 f230 f230 f230 f230 f230 f230 f230 f230 f230 f230 f230 f230 f230 f230 f230 f230 f230 f230 f230 f230 f230 f230 f230 f233 f233 f233 f233 f233 f233 f233 f233 f233 f233 f233 f233 f233 f233 f233 f233 f233 f233 f233 f233 f233 f233 f233 f233 f233 f233 f233 f233 f233 f233 f233 f233 f233 f233 f233 f233 f233 f233 f233 f233 f233 f233 f233 f233 f233 f233 f233 f233 f233 f233 f233 f233 f233 f233 f233 f233 f233 f233 f233 f233 f233 f233 f233 f233 f233 f233 f233 f233 f233 f233 f233 f233 f233 f233 f233 f233 f233 f233 f233 f233 f233 f233 f233 f233 f233 f233 f233 f233 f233 f233 f233 f233 f233 f233 f233 f233 f233 f233 f233 f233 f233 f233 f233 f233 f233 f233 f233 f233 f233 f233 f233 f233 f233 f233 f233 f233 f233 f233 f233 f233 f233 f233 f233 f233 f233 f233 f233 f233 f233 f233 f233 f233 f233 f233 f233 f233 f233 f233 f233 f233 f233 f233 f233 f233 f233 f233 f233 f233 f233 f233 f233 f233 f233 f233 f233 f233 f233 f233 f233 f233 f233 f233 f233 f233 f233 f233 f233 f233 f233 f233 f233 f233 f233 f233 f233 f233 f233 f233 f233 f233 f233 f233 f233 f233 f233 f233 f233 f233 f233 f233 f233 f233 f233 f233 f233 f233 f233 f233 f233 f233 f233 f233 f233 f233 f233 f233 f233 f233 f233 f233 f233 f233 f233 f233 f233 f233 f233 f233 f233 f233 f233 f233 f233 f233 f233 f236 f236 f236 f236 f236 f236 f236 f236 f236 f236 f236 f236 f236 f236 f236 f236 f236 f236 f236 f236 f236 f236 f236 f236 f236 f236 f236 f236 f236 f236 f236 f236 f236 f236 f236 f236 f236 f236 f236 f236 f236 f236 f236 f236 f236 f236 f236 f236 f236 f236 f236 f236 f236 f236 f236 f236 f236 f236 f236 f236 f236 f236 f236 f236 f236 f236 f236 f236 f236 f236 f236 f236 f236 f236 f236 f236 f236 f236 f238 f238 f238 f238 f238 f238 f238 f238 f238 f238 f238 f238 f238 f238 f238 f238 f238 f238 f238 f238 f238 f238 f238 f238 f238 f238 f238 f238 f238 f238 f238 f238 f238 f238 f238 f238 f238 f238 f238 f238 f238 f238 f238 f238 f238 f238 f238 f238 f238 f238 f238 f238 f238 f238 f238 f238 f238 f238 f238 f238 f238 f238 f238 f238 f238 f238 f238 f238 f238 f238 f238 f238 f238 f238 f241 f241 f241 f241 f241 f241 f241 f241 f241 f241 f241 f241 f241 f241 f241 f241 f241 f241 f241 f241 f241 f241 f241 f241 f241 f241 f241 f241 f241 f241 f241 f241 f241 f241 f241 f241 f241 f241 f241 f241 f241 f241 f241 f241 f241 f241 f241 f241 f241 f241 f241 f241 f241 f241 f241 f241 f241 f241 f241 f241 f241 f241 f241 f241 f241 f241 f241 f241 f241 f241 f241 f241 f241 f241 f241 f241 f241 f241 f241 f241 f241 f241 f241 f241 f241 f241 f241 f241 f241 f241 f241 f241 f241 f241 f241 f241 f241 f241 f241 f241 f241 f241 f241 f241 f241 f241 f241 f241 f241 f241 f241 f241 f241 f241 f241 f241 f241 f241 f241 f241 f241 f241 f241 f241 f241 f241 f241 f241 f241 f241 f241 f241 f241 f241 f241 f241 f241 f241 f241 f241 f241 f241 f241 f241 f241 f241 f241 f241 f241 f241 f241 f241 f241 f241 f241 f241 f241 f241 f241 f241 f241 f241 f241 f241 f241 f241 f241 f241 f241 f241 f241 f241 f241 f241 f241 f241 f241 f241 f241 f241 f241 f241 f241 f241 f241 f241 f241 f241 f241 f241 f241 f241 f241 f241 f241 f241 f241 f241 f241 f241 f241 f241 f241 f241 f241 f241 f241 f241 f241 f241 f241 f241 f241 f241 f241 f241 f241 f241 f241 f241 f241 f241 f241 f241 f241 f241 f241 f241 f241 f241 f245 f245 f245 f245 f245 f245 f245 f245 f245 f245 f245 f245 f245 f245 f245 f245 f245 f245 f245 f245 f245 f245 f245 f245 f245 f245 f245 f245 f245 f245 f245 f245 f245 f245 f245 f245 f245 f245 f245 f245 f245 f245 f245 f245 f245 f245 f245 f245 f245 f245 f245 f245 f245 f245 f245 f245 f245 f245 f245 f245 f245 f245 f245 f245 f245 f245 f245 f245 f245 f245 f245 f245 f245 f245 f245 f245 f245 f245 f245 f245 f245 f245 f245 f245 f245 f245 f245 f245 f245 f245 f245 f245 f245 f245 f245 f245 f245 f245 f245 f245 f245 f245 f245 f245 f245 f245 f245 f245 f245 f245 f245 f245 f245 f245 f245 f245 f245 f245 f245 f245 f245 f245 f245 f245 f245 f245 f245 f245 f245 f245 f245 f245 f245 f245 f245 f245 f245 f245 f245 f245 f245 f245 f245 f245 f245 f245 f245 f245 f245 f245 f245 f245 f245 f245 f245 f245 f245 f245 f245 f245 f245 f245 f245 f245 f245 f245 f245 f245 f245 f245 f245 f245 f245 f245 f245 f245 f246 f246 f246 f246 f246 f246 f246 f246 f246 f246 f246 f246 f246 f250 f250 f250 f250 f250 f250 f250 f250 f250 f250 f250 f250 f250 f250 f250 f250 f250 f250 f250 f250 f250 f250 f250 f250 f250 f250 f250 f250 f250 f250 f250 f250 f250 f250 f250 f250 f250 f250 f250 f250 f250 f250 f250 f250 f250 f250 f250 f250 f250 f252 f252 f252 f252 f252 f252 f252 f252 f252 f252 f252 f252 f252 f252 f252 f252 f252 f252 f252 f252 f252 f252 f252 f252 f252 f252 f252 f252 f252 f252 f252 f252 f252 f252 f252 f252 f252 f252 f252 f252 f252 f252 f252 f252 f252 f252 f252 f252 f252 f252 f252 f252 f252 f252 f252 f252 f252 f252 f252 f252 f252 f252 f252 f252 f252 f252 f252 f252 f252 f252 f252 f252 f252 f252 f252 f252 f252 f252 f252 f252 f252 f252 f252 f252 f252 f252 f252 f252 f252 f252 f252 f252 f252 f252 f252 f252 f252 f252 f252 f252 f252 f252 f252 f252 f252 f252 f252 f252 f252 f252 f252 f252 f252 f252 f252 f252 f252 f252 f252 f252 f252 f252 f252 f252 f252 f252 f252 f252 f252 f252 f252 f252 f252 f252 f252 f252 f252 f252 f252 f254 f254 f254 f254 f254 f254 f254 f254 f254 f254 f254 f254 f254 f254 f254 f254 f254 f254 f254 f254 f254 f254 f254 f254 f254 f254 f254 f254 f254 f254 f254 f254 f254 f254 f254 f254 f254 f254 f254 f254 f254 f254 f254 f254 f254 f254 f254 f254 f254 f254 f254 f254 f254 f254 f254 f254 f254 f254 f254 f254 f254 f254 f254 f254 f254 f254 f254 f254 f254 f254 f254 f254 f254 f254 f254 f254 f254 f254 f254 f254 f254 f254 f254 f254 f254 f254 f254 f254 f254 f254 f254 f254 f254 f254 f254 f254 f254 f254 f254 f254 f254 f254 f254 f254 f254 f254 f254 f254 f254 f254 f254 f254 f254 f254 f254 f254 f254 f254 f254 f254 f254 f254 f254 f254 f254 f254 f254 f254 f254 f254 f254 f254 f254 f254 f254 f254 f254 f254 f254 f254 f254 f254 f254 f254 f254 f254 f254 f254 f254 f254 f254 f254 f254 f254 f254 f254 f254 f254 f254 f254 f254 f254 f254 f254 f254 f254 f254 f254 f254 f254 f254 f254 f254 f254 f254 f254 f254 f254 f254 f254 f254 f254 f254 f254 f254 f254 f254 f254 f254 f254 f254 f254 f254 f254 f257 f257 f257 f257 f257 f257 f257 f257 f257 f257 f257 f257 f257 f257 f257 f257 f257 f257 f257 f257 f257 f257 f257 f257 f257 f257 f257 f257 f257 f257 f257 f257 f257 f257 f257 f257 f257 f257 f257 f257 f257 f257 f257 f257 f257 f257 f257 f257 f257 f257 f257 f257 f257 f257 f257 f257 f257 f257 f257 f257 f257 f257 f257 f257 f257 f257 f257 f257 f257 f257 f257 f257 f257 f257 f257 f257 f257 f257 f257 f257 f257 f257 f257 f257 f257 f257 f257 f257 f257 f257 f257 f257 f257 f257 f257 f257 f257 f257 f257 f257 f257 f257 f257 f257 f257 f257 f257 f257 f257 f257 f257 f257 f257 f257 f257 f257 f257 f257 f257 f257 f257 f257 f257 f257 f257 f257 f257 f257 f257 f257 f257 f257 f257 f257 f257 f257 f257 f257 f257 f257 f257 f257 f257 f257 f257 f257 f257 f257 f257 f257 f257 f257 f257 f257 f257 f257 f257 f257 f257 f257 f257 f257 f257 f257 f257 f257 f257 f257 f257 f257 f257 f257 f257 f257 f257 f257 f257 f257 f257 f257 f257 f257 f257 f257 f257 f257 f257 f257 f257 f257 f257 f257 f257 f257 f257 f257 f257 f257 f257 f257 f257 f257 f257 f257 f257 f257 f257 f257 f257 f257 f257 f257 f257 f257 f257 f257 f257 f257 f257 f257 f257 f257 f257 f257 f264 f264 f264 f264 f264 f264 f264 f264 f264 f264 f264 f264 f264 f264 f264 f264 f264 f264 f264 f264 f264 f264 f264 f264 f264 f264 f264 f264 f264 f264 f264 f264 f264 f264 f264 f264 f264 f264 f264 f264 f264 f264 f264 f264 f264 f264 f264 f264 f264 f264 f264 f264 f264 f264 f264 f264 f264 f264 f264 f264 f264 f264 f264 f264 f264 f264 f264 f264 f264 f264 f264 f264 f264 f264 f264 f264 f264 f264 f264 f264 f264 f264 f264 f264 f264 f264 f264 f264 f264 f264 f264 f264 f264 f264 f264 f264 f264 f264 f264 f264 f264 f264 f264 f264 f264 f264 f264 f264 f264 f264 f264 f264 f264 f264 f264 f264 f264 f264 f264 f264 f264 f264 f264 f264 f264 f264 f270 f270 f270 f270 f270 f270 f270 f270 f270 f270 f270 f270 f270 f270 f270 f270 f270 f270 f270 f270 f270 f271 f271 f271 f271 f271 f271 f271 f271 f271 f271 f271 f271 f271 f271 f271 f271 f271 f271 f271 f271 f271 f271 f271 f271 f271 f271 f271 f271 f271 f271 f271 f271 f271 f271 f271 f271 f271 f271 f271 f271 f271 f271 f271 f271 f271 f271 f271 f271 f271 f271 f271 f271 f271 f271 f271 f271 f271 f271 f271 f271 f271 f271 f271 f271 f271 f271 f271 f271 f271 f271 f271 f271 f271 f271 f271 f271 f271 f271 f271 f271 f271 f271 f271 f271 f271 f271 f271 f271 f271 f271 f271 f271 f271 f271 f271 f271 f271 f271 f271 f271 f271 f271 f271 f271 f271 f271 f271 f271 f271 f271 f271 f271 f271 f271 f271 f271 f271 f271 f271 f271 f271 f271 f271 f271 f271 f271 f271 f271 f271 f271 f271 f271 f271 f271 f271 f271 f271 f271 f271 f271 f271 f271 f271 f271 f271 f271 f271 f284 f284 f284 f284 f284 f284 f284 f284 f284 f284 f284 f284 f284 f284 f284 f284 f284 f284 f284 f284 f284 f284 f284 f284 f284 f284 f284 f284 f284 f284 f284 f284 f284 f284 f284 f284 f284 f284 f284 f284 f284 f284 f284 f284 f284 f284 f284 f284 f284 f284 f284 f284 f284 f284 f284 f284 f284 f284 f284 f284 f284 f284 f284 f284 f284 f284 f284 f284 f284 f284 f284 f284 f284 f284 f284 f284 f284 f284 f284 f284 f284 f284 f284 f284 f284 f284 f284 f288 f288 f288 f288 f288 f288 f288 f288 f288 f288 f288 f288 f288 f288 f288 f288 f288 f288 f288 f288 f288 f288 f288 f288 f288 f288 f288 f288 f288 f288 f288 f288 f288 f288 f288 f288 f288 f288 f288 f288 f288 f288 f288 f288 f288 f288 f288 f288 f288 f288 f288 f288 f288 f288 f288 f288 f288 f288 f288 f288 f288 f288 f288 f288 f288 f288 f288 f288 f288 f288 f288 f288 f288 f288 f288 f288 f288 f288 f288 f288 f288 f288 f288 f288 f288 f288 f288 f288 f288 f288 f288 f288 f288 f288 f288 f288 f288 f288 f288 f288 f288 f288 f288 f288 f288 f288 f288 f288 f288 f288 f288 f288 f288 f288 f288 f288 f288 f288 f288 f288 f288 f288 f288 f288 f288 f288 f288 f288 f288 f288 f288 f288 f288 f288 f288 f288 f288 f288 f288 f288 f288 f288 f288 f288 f288 f288 f288 f288 f288 f288 f288 f288 f288 f288 f288 f288 f288 f288 f288 f288 f288 f288 f288 f288 f288 f288 f288 f288 f288 f288 f288 f288 f288 f288 f288 f288 f288 f288 f288 f288 f288 f288 f288 f288 f288 f288 f288 f288 f288 f288 f288 f288 f288 f288 f288 f288 f288 f288 f288 f288 f288 f288 f288 f289 f289 f289 f289 f289 f289 f289 f289 f289 f289 f289 f289 f289 f289 f289 f289 f289 f289 f289 f289 f289 f289 f289 f289 f289 f289 f289 f289 f289 f289 f289 f289 f289 f289 f289 f289 f289 f289 f289 f289 f289 f289 f289 f289 f289 f289 f289 f289 f289 f289 f289 f289 f289 f289 f289 f289 f289 f289 f289 f289 f289 f289 f289 f289 f289 f289 f289 f289 f289 f289 f289 f289 f289 f289 f289 f289 f289 f289 f289 f289 f289 f289 f289 f289 f289 f289 f289 f289 f289 f289 f289 f289 f289 f289 f289 f289 f289 f289 f289 f289 f289 f289 f289 f291 f291 f291 f291 f291 f291 f291 f291 f291 f291 f291 f291 f291 f291 f291 f291 f291 f291 f291 f291 f291 f291 f291 f291 f291 f291 f291 f291 f291 f291 f291 f291 f291 f291 f291 f291 f291 f291 f291 f291 f291 f291 f291 f291 f291 f291 f291 f291 f291 f291 f291 f291 f291 f291 f291 f291 f291 f291 f291 f291 f291 f291 f291 f291 f291 f291 f291 f291 f291 f291 f291 f291 f291 f291 f291 f291 f291 f291 f291 f291 f291 f291 f291 f291 f291 f291 f291 f291 f291 f291 f291 f291 f291 f291 f291 f291 f291 f291 f291 f291 f291 f291 f291 f291 f291 f291 f291 f291 f291 f291 f291 f291 f291 f291 f291 f291 f291 f291 f291 f291 f291 f291 f291 f291 f291 f291 f291 f291 f291 f291 f291 f291 f291 f291 f291 f291 f291 f291 f291 f291 f291 f291 f291 f291 f293 f293 f293 f293 f293 f293 f293 f293 f293 f293 f293 f293 f293 f293 f293 f293 f293 f293 f293 f293 f293 f293 f293 f293 f293 f293 f293 f293 f293 f293 f293 f293 f293 f293 f293 f293 f293 f293 f293 f293 f293 f293 f293 f293 f293 f293 f293 f293 f293 f293 f293 f293 f293 f293 f293 f293 f293 f293 f293 f293 f293 f293 f293 f293 f293 f293 f293 f293 f293 f293 f293 f293 f293 f293 f293 f293 f293 f293 f293 f293 f293 f293 f293 f293 f293 f293 f293 f293 f293 f293 f293 f293 f293 f293 f293 f293 f293 f293 f293 f293 f293 f293 f293 f293 f293 f293 f293 f293 f293 f293 f293 f293 f293 f293 f293 f293 f293 f293 f293 f293 f293 f293 f293 f296 f296 f296 f296 f296 f296 f296 f296 f296 f296 f296 f296 f296 f296 f296 f296 f296 f296 f296 f296 f296 f296 f296 f296 f296 f296 f296 f296 f296 f296 f296 f296 f296 f296 f296 f296 f296 f296 f300 f300 f300 f300 f300 f300 f300 f300 f300 f300 f300 f300 f300 f300 f300 f300 f300 f300 f300 f300 f300 f300 f300 f300 f301 f301 f301 f301 f301 f301 f301 f301 f301 f301 f301 f301 f301 f301 f301 f301 f301 f301 f301 f301 f301 f301 f301 f301 f301 f301 f301 f301 f301 f301 f301 f301 f301 f301 f301 f301 f301 f301 f301 f301 f301 f301 f301 f301 f301 f301 f301 f301 f301 f301 f301 f301 f301 f301 f301 f301 f301 f301 f301 f301 f301 f301 f301 f301 f301 f301 f301 f301 f301 f301 f301 f301 f301 f301 f301 f301 f301 f301 f301 f301 f301 f301 f301 f301 f301 f301 f301 f301 f301 f301 f301 f301 f301 f301 f301 f301 f301 f301 f301 f301 f301 f301 f301 f301 f301 f301 f301 f301 f301 f301 f301 f301 f301 f301 f301 f301 f301 f301 f301 f301 f301 f301 f301 f301 f301 f301 f301 f301 f301 f301 f301 f301 f301 f301 f301 f301 f301 f301 f301 f301 f301 f301 f301 f301 f301 f301 f301 f301 f301 f301 f301 f301 f301 f301 f301 f301 f301 f301 f301 f301 f301 f301 f301 f301 f301 f301 f301 f301 f301 f301 f301 f301 f301 f301 f301 f301 f301 f301 f301 f301 f301 f301 f301 f301 f301 f301 f301 f301 f301 f301 f301 f301 f301 f301 f301 f301 f301 f301 f301 f301 f301 f301 f301 f301 f301 f301 f301 f301 f301 f301 f301 f301 f301 f301 f301 f301 f301 f301 f301 f301 f301 f301 f301 f301 f301 f301 f301 f301 f301 f301 f301 f301 f301 f301 f301 f301 f301 f301 f301 f301 f301 f301 f307 f307 f307 f307 f307 f307 f307 f307 f307 f307 f307 f307 f307 f307 f307 f307 f315 f315 f315 f315 f315 f315 f315 f315 f315 f315 f315 f315 f315 f315 f315 f315 f315 f315 f315 f315 f315 f315 f315 f315 f315 f315 f315 f315 f315 f315 f315 f315 f315 f315 f315 f315 f315 f315 f315 f315 f315 f315 f315 f315 f315 f315 f315 f315 f315 f315 f315 f315 f315 f315 f315 f315 f315 f315 f315 f315 f315 f315 f315 f315 f315 f315 f315 f315 f315 f315 f315 f315 f315 f315 f315 f315 f315 f315 f315 f315 f315 f315 f315 f315 f315 f315 f315 f315 f315 f315 f315 f315 f315 f315 f315 f315 f315 f315 f315 f315 f315 f315 f315 f315 f315 f315 f315 f315 f315 f315 f315 f315 f315 f315 f315 f315 f315 f315 f315 f315 f315 f315 f315 f315 f315 f315 f315 f315 f315 f315 f315 f315 f315 f315 f315 f315 f315 f315 f315 f315 f315 f315 f315 f315 f315 f315 f315 f315 f315 f315 f315 f315 f315 f315 f315 f315 f315 f315 f315 f315 f315 f315 f315 f315 f315 f315 f315 f315 f315 f315 f315 f315 f315 f315 f315 f315 f315 f315 f315 f315 f315 f315 f315 f315 f315 f315 f315 f315 f315 f315 f315 f315 f315 f315 f315 f315 f315 f315 f315 f315 f315 f315 f315 f315 f315 f315 f315 f316 f316 f316 f316 f316 f316 f316 f316 f316 f316 f316 f316 f316 f316 f316 f316 f316 f316 f316 f316 f316 f316 f316 f316 f316 f316 f316 f316 f316 f316 f316 f316 f316 f316 f316 f316 f316 f316 f316 f316 f316 f316 f316 f316 f316 f316 f316 f316 f316 f316 f316 f316 f316 f316 f316 f316 f316 f316 f316 f316 f316 f316 f316 f316 f316 f316 f316 f316 f316 f316 f316 f316 f316 f316 f316 f316 f316 f316 f316 f316 f316 f316 f316 f316 f316 f316 f316 f316 f316 f316 f316 f316 f316 f316 f316 f316 f316 f316 f316 f316 f316 f316 f316 f316 f316 f316 f316 f316 f316 f316 f316 f316 f316 f316 f316 f316 f316 f316 f316 f316 f316 f316 f316 f316 f316 f316 f316 f316 f316 f316 f316 f316 f316 f316 f316 f316 f316 f316 f316 f316 f316 f316 f316 f316 f316 f316 f316 f316 f316 f316 f316 f316 f316 f316 f316 f316 f316 f316 f316 f316 f316 f316 f316 f316 f316 f316 f316 f316 f316 f316 f316 f316 f316 f316 f316 f316 f316 f316 f316 f316 f316 f316 f316 f316 f316 f316 f316 f316 f316 f316 f316 f316 f316 f316 f316 f316 f316 f316 f316 f316 f316 f316 f316 f316 f316 f316 f316 f316 f316 f316 f316 f316 f322 f322 f322 f322 f322 f322 f322 f322 f322 f322 f322 f322 f322 f322 f322 f322 f322 f322 f322 f322 f322 f322 f322 f322 f322 f322 f322 f322 f322 f322 f322 f322 f322 f322 f322 f322 f322 f322 f322 f322 f322 f322 f322 f322 f322 f322 f322 f322 f322 f322 f322 f322 f322 f322 f322 f322 f322 f322 f322 f322 f322 f322 f322 f322 f322 f322 f322 f322 f322 f322 f322 f322 f322 f322 f322 f322 f322 f322 f322 f322 f322 f322 f322 f322 f322 f322 f322 f322 f322 f322 f322 f322 f322 f322 f322 f322 f322 f322 f322 f322 f322 f322 f322 f322 f322 f322 f322 f322 f322 f322 f322 f322 f322 f322 f322 f322 f322 f322 f322 f322 f322 f322 f322 f322 f322 f322 f322 f322 f322 f322 f322 f322 f322 f322 f322 f322 f322 f322 f322 f322 f324 f324 f324 f324 f324 f324 f324 f324 f324 f324 f324 f324 f324 f324 f324 f324 f324 f324 f324 f324 f324 f324 f324 f324 f324 f324 f324 f324 f324 f324 f324 f324 f324 f324 f324 f324 f324 f324 f324 f324 f324 f324 f324 f324 f324 f324 f324 f324 f324 f324 f324 f324 f324 f324 f324 f324 f324 f324 f324 f324 f324 f324 f324 f324 f324 f324 f324 f324 f324 f324 f324 f324 f324 f324 f324 f324 f324 f324 f324 f324 f324 f324 f324 f324 f324 f324 f324 f324 f324 f324 f324 f324 f324 f324 f324 f324 f324 f324 f324 f324 f324 f324 f324 f324 f324 f324 f324 f324 f324 f324 f324 f324 f324 f324 f324 f324 f324 f324 f324 f324 f324 f324 f324 f324 f324 f324 f324 f324 f324 f324 f324 f324 f324 f324 f324 f324 f324 f324 f324 f324 f324 f324 f324 f324 f324 f324 f324 f324 f324 f324 f324 f324 f324 f324 f324 f324 f324 f324 f324 f324 f324 f324 f324 f324 f324 f324 f324 f324 f324 f324 f324 f324 f324 f324 f324 f324 f324 f324 f324 f324 f324 f324 f324 f324 f324 f324 f324 f324 f324 f324 f324 f324 f324 f324 f324 f324 f324 f324 f326 f326 f326 f326 f326 f326 f326 f326 f326 f326 f326 f326 f326 f326 f326 f326 f326 f326 f326 f326 f326 f326 f326 f326 f326 f326 f327 f327 f327 f327 f327 f327 f327 f327 f327 f327 f327 f327 f327 f327 f327 f327 f327 f327 f327 f327 f327 f327 f327 f327 f327 f327 f327 f327 f327 f327 f327 f327 f327 f327 f327 f327 f327 f327 f327 f327 f327 f327 f327 f327 f327 f327 f327 f327 f327 f327 f327 f327 f327 f327 f327 f327 f327 f327 f327 f327 f327 f327 f327 f327 f327 f327 f327 f327 f327 f327 f327 f327 f327 f327 f327 f327 f327 f327 f327 f327 f327 f327 f327 f327 f327 f327 f327 f327 f327 f327 f327 f327 f327 f327 f327 f327 f327 f327 f327 f327 f327 f327 f327 f327 f327 f327 f327 f327 f327 f327 f327 f327 f327 f327 f327 f327 f327 f327 f327 f327 f327 f327 f327 f327 f327 f327 f327 f327 f327 f327 f327 f327 f327 f327 f327 f327 f327 f327 f327 f327 f327 f327 f327 f327 f327 f327 f327 f327 f327 f327 f327 f327 f327 f327 f327 f327 f327 f327 f327 f327 f327 f327 f327 f327 f327 f327 f327 f327 f327 f327 f327 f327 f327 f327 f327 f327 f327 f327 f327 f327 f327 f327 f327 f327 f327 f327 f327 f327 f327 f327 f327 f327 f327 f327 f327 f327 f327 f328 f328 f328 f328 f328 f328 f328 f328 f328 f328 f328 f328 f328 f328 f328 f328 f328 f328 f328 f328 f328 f328 f328 f328 f328 f328 f328 f328 f328 f328 f328 f328 f328 f328 f328 f328 f328 f328 f328 f328 f328 f328 f328 f328 f328 f328 f328 f328 f328 f328 f328 f328 f328 f328 f328 f328 f328 f328 f328 f328 f328 f328 f328 f328 f328 f328 f328 f329 f329 f329 f329 f329 f329 f329 f329 f329 f329 f329 f329 f329 f329 f329 f329 f329 f329 f329 f329 f329 f329 f329 f329 f329 f329 f329 f329 f329 f329 f329 f329 f329 f329 f329 f329 f329 f329 f329 f329 f329 f329 f329 f329 f329 f329 f329 f329 f330 f330 f330 f330 f330 f330 f330 f330 f330 f330 f330 f330 f330 f330 f330 f330 f330 f330 f330 f330 f330 f330 f330 f330 f330 f330 f330 f330 f330 f330 f330 f330 f330 f330 f330 f330 f330 f330 f330 f330 f330 f330 f330 f330 f330 f330 f330 f330 f330 f330 f330 f330 f330 f330 f330 f330 f330 f330 f330 f330 f330 f330 f330 f330 f330 f330 f330 f330 f330 f330 f330 f330 f330 f330 f330 f330 f330 f330 f330 f330 f330 f330 f330 f330 f330 f330 f330 f330 f330 f330 f330 f330 f330 f330 f330 f330 f330 f330 f330 f330 f330 f330 f330 f330 f330 f330 f330 f330 f330 f330 f330 f330 f330 f330 f330 f330 f330 f330 f330 f330 f330 f330 f330 f330 f330 f330 f330 f330 f330 f330 f330 f330 f330 f330 f330 f330 f330 f330 f330 f330 f330 f330 f330 f330 f330 f330 f330 f330 f330 f330 f330 f330 f330 f330 f330 f330 f330 f330 f330 f330 f330 f330 f330 f330 f330 f330 f330 f330 f330 f330 f330 f330 f330 f330 f330 f330 f330 f330 f330 f330 f330 f330 f330 f330 f330 f330 f330 f330 f330 f330 f330 f330 f330 f330 f330 f330 f330 f330 f330 f330 f330 f330 f330 f330 f330 f330 f330 f330 f330 f330 f330 f330 f330 f330 f330 f330 f330 f330 f330 f330 f330 f330 f330 f330 f330 f330 f330 f330 f330 f330 f330 f330 f330 f330 f330 f330 f330 f330 f330 f330 f330 f330 f330 f330 f330 f330 f330 f330 f330 f330 f334 f334 f334 f334 f334 f334 f334 f334 f334 f334 f334 f334 f334 f334 f334 f334 f334 f334 f334 f334 f334 f334 f334 f334 f334 f334 f334 f334 f334 f334 f334 f334 f334 f334 f334 f334 f334 f334 f334 f334 f334 f334 f334 f334 f334 f334 f334 f334 f334 f334 f334 f334 f334 f334 f334 f334 f334 f334 f334 f334 f334 f334 f334 f334 f334 f334 f334 f334 f334 f334 f334 f334 f334 f334 f334 f334 f334 f334 f334 f334 f334 f334 f334 f334 f334 f334 f334 f334 f334 f334 f334 f334 f334 f334 f334 f334 f334 f334 f334 f334 f334 f334 f334 f334 f334 f334 f334 f334 f334 f334 f334 f334 f334 f334 f334 f334 f334 f334 f334 f334 f334 f334 f334 f334 f334 f334 f334 f334 f334 f334 f334 f334 f334 f334 f334 f334 f334 f334 f334 f334 f334 f334 f334 f334 f334 f334 f334 f334 f334 f334 f334 f334 f334 f334 f334 f334 f334 f334 f334 f334 f334 f334 f334 f334 f334 f334 f334 f334 f334 f334 f334 f334 f334 f334 f334 f334 f334 f334 f334 f334 f334 f334 f334 f334 f334 f334 f334 f334 f334 f334 f334 f334 f334 f334 f334 f334 f334 f334 f334 f334 f334 f334 f334 f334 f334 f334 f334 f334 f334 f334 f334 f334 f334 f334 f334 f334 f334 f337 f337 f337 f337 f337 f337 f337 f337 f337 f337 f337 f337 f337 f337 f337 f337 f337 f337 f337 f337 f337 f337 f337 f337 f337 f337 f337 f337 f337 f337 f337 f337 f337 f337 f337 f337 f337 f337 f337 f337 f337 f337 f337 f337 f337 f337 f337 f337 f337 f337 f337 f337 f337 f337 f337 f337 f337 f337 f337 f337 f337 f337 f337 f337 f337 f337 f337 f337 f337 f337 f337 f337 f337 f337 f337 f337 f337 f337 f337 f337 f337 f337 f337 f337 f337 f337 f337 f337 f337 f337 f337 f337 f337 f337 f337 f337 f337 f337 f337 f337 f337 f337 f337 f337 f337 f337 f337 f337 f337 f337 f337 f337 f337 f337 f337 f337 f337 f337 f337 f337 f337 f337 f337 f337 f337 f337 f337 f337 f337 f337 f337 f337 f337 f337 f337 f337 f337 f337 f337 f337 f337 f337 f337 f337 f337 f337 f337 f337 f337 f337 f337 f337 f337 f337 f337 f337 f337 f337 f337 f337 f337 f337 f337 f337 f337 f337 f337 f337 f337 f337 f337 f337 f337 f337 f337 f337 f337 f337 f337 f337 f337 f337 f337 f337 f337 f337 f337 f337 f337 f337 f337 f337 f337 f337 f337 f337 f337 f337 f337 f337 f337 f337 f337 f337 f337 f337 f337 f337 f337 f337 f337 f337 f337 f337 f337 f342 f342 f342 f342 f342 f342 f342 f342 f342 f342 f342 f342 f342 f342 f342 f342 f342 f342 f342 f343 f343 f343 f343 f343 f343 f343 f343 f343 f343 f343 f343 f343 f343 f343 f343 f343 f343 f343 f343 f343 f343 f343 f343 f343 f343 f343 f343 f343 f343 f343 f343 f343 f343 f343 f343 f343 f343 f343 f343 f343 f343 f343 f343 f343 f343 f343 f343 f343 f343 f343 f343 f343 f343 f343 f343 f343 f343 f343 f343 f343 f343 f343 f343 f343 f343 f343 f343 f343 f343 f343 f343 f343 f343 f343 f343 f343 f343 f343 f343 f343 f343 f343 f343 f343 f343 f343 f343 f343 f343 f343 f343 f343 f343 f343 f343 f343 f343 f343 f343 f343 f343 f343 f343 f343 f343 f343 f343 f343 f343 f343 f343 f343 f343 f343 f343 f343 f343 f343 f343 f343 f343 f343 f343 f343 f343 f343 f343 f343 f343 f343 f343 f343 f343 f343 f343 f343 f343 f343 f343 f343 f343 f343 f343 f343 f343 f343 f343 f343 f343 f343 f343 f343 f343 f343 f343 f343 f343 f343 f343 f343 f343 f343 f343 f343 f343 f343 f343 f343 f343 f343 f343 f343 f343 f343 f343 f343 f343 f345 f345 f345 f345 f345 f345 f345 f345 f345 f345 f345 f345 f345 f345 f345 f345 f345 f345 f345 f345 f345 f345 f345 f345 f345 f345 f345 f345 f345 f345 f345 f345 f345 f345 f345 f345 f345 f345 f345 f345 f345 f345 f345 f345 f345 f345 f345 f345 f345 f345 f345 f345 f345 f368 f368 f368 f368 f370 f370 f370 f370 f370 f370 f370 f370 f370 f370 f370 f370 f370 f370 f370 f370 f370 f370 f370 f370 f370 f370 f370 f370 f370 f370 f370 f370 f370 f370 f370 f370 f370 f370 f370 f370 f370 f370 f370 f370 f370 f370 f370 f370 f370 f370 f370 f370 f370 f370 f370 f370 f370 f370 f370 f370 f370 f370 f370 f370 f370 f370 f370 f370 f370 f370 f370 f370 f370 f370 f370 f370 f370 f370 f370 f370 f370 f370 f370 f370 f370 f370 f370 f370 f370 f370 f370 f370 f370 f370 f370 f370 f370 f370 f370 f370 f370 f370 f370 f371 f371 f371 f371 f371 f371 f371 f371 f371 f371 f371 f371 f371 f371 f371 f371 f371 f371 f371 f371 f371 f371 f371 f371 f371 f371 f371 f371 f371 f371 f371 f371 f371 f371 f371 f371 f371 f371 f371 f371 f371 f371 f371 f371 f371 f371 f371 f371 f371 f371 f371 f371 f371 f371 f371 f371 f371 f371 f371 f371 f371 f371 f371 f371 f371 f371 f371 f371 f371 f371 f371 f371 f371 f371 f371 f371 f371 f371 f371 f371 f371 f371 f371 f371 f372 f372 f372 f372 f372 f372 f372 f372 f372 f372 f372 f372 f372 f372 f372 f372 f372 f372 f372 f372 f372 f372 f372 f372 f372 f372 f372 f372 f372 f372 f372 f372 f372 f372 f372 f372 f372 f372 f372 f372 f372 f372 f372 f372 f372 f372 f372 f372 f372 f372 f372 f372 f372 f372 f372 f372 f372 f372 f372 f372 f372 f372 f372 f372 f372 f372 f372 f372 f372 f372 f372 f372 f372 f372 f372 f372 f372 f372 f372 f372 f372 f372 f372 f372 f372 f372 f372 f372 f372 f372 f372 f372 f372 f372 f372 f372 f372 f372 f372 f372 f372 f372 f372 f372 f372 f372 f372 f372 f372 f372 f372 f372 f372 f372 f372 f372 f372 f372 f372 f372 f372 f372 f372 f372 f372 f372 f372 f372 f377 f377 f377 f377 f377 f377 f377 f377 f377 f377 f377 f377 f377 f377 f377 f377 f377 f377 f377 f377 f377 f377 f377 f377 f377 f377 f377 f377 f377 f377 f377 f377 f377 f377 f377 f377 f377 f377 f377 f377 f377 f377 f377 f377 f377 f377 f377 f377 f377 f377 f377 f377 f377 f377 f377 f377 f378 f378 f378 f378 f378 f378 f378 f378 f378 f378 f378 f378 f378 f378 f378 f378 f378 f378 f378 f378 f378 f378 f378 f378 f378 f378 f378 f378 f378 f378 f378 f378 f378 f378 f378 f378 f378 f378 f378 f378 f378 f378 f378 f378 f378 f378 f378 f378 f378 f378 f378 f378 f378 f378 f378 f378 f378 f378 f378 f378 f378 f378 f378 f378 f378 f378 f378 f378 f378 f378 f378 f378 f378 f378 f378 f378 f378 f378 f378 f378 f378 f378 f378 f378 f378 f378 f378 f378 f378 f378 f378 f378 f378 f378 f378 f378 f378 f378 f378 f378 f378 f378 f378 f378 f378 f378 f378 f378 f378 f378 f378 f378 f378 f378 f378 f378 f378 f378 f380 f380 f380 f380 f380 f380 f380 f380 f380 f380 f380 f380 f380 f380 f380 f380 f380 f380 f380 f380 f380 f380 f380 f380 f380 f380 f380 f380 f380 f380 f380 f380 f380 f380 f380 f380 f380 f380 f380 f380 f380 f380 f380 f380 f380 f380 f380 f380 f380 f380 f380 f380 f380 f380 f380 f380 f380 f380 f380 f380 f380 f380 f380 f380 f380 f380 f380 f380 f380 f380 f380 f380 f380 f380 f380 f380 f380 f380 f380 f380 f380 f380 f380 f380 f380 f380 f380 f380 f380 f380 f380 f380 f380 f380 f380 f380 f380 f380 f380 f380 f380 f380 f380 f380 f380 f380 f380 f380 f380 f380 f380 f380 f380 f380 f380 f380 f380 f380 f380 f380 f380 f380 f380 f380 f380 f380 f380 f380 f380 f380 f380 f380 f380 f380 f380 f380 f380 f380 f380 f380 f380 f380 f380 f380 f380 f380 f380 f380 f380 f380 f380 f380 f380 f380 f380 f380 f380 f380 f380 f380 f380 f380 f380 f380 f380 f380 f380 f380 f380 f380 f380 f380 f380 f380 f380 f380 f380 f380 f380 f380 f380 f380 f380 f380 f380 f380 f380 f380 f380 f380 f380 f380 f380 f380 f380 f380 f380 f380 f380 f380 f380 f380 f380 f380 f380 f380 f380 f380 f380 f380 f380 f380 f380 f380 f380 f380 f380 f380 f383 f383 f383 f383 f383 f383 f383 f383 f383 f383 f383 f383 f383 f383 f383 f383 f383 f383 f383 f383 f383 f383 f383 f383 f383 f383 f383 f383 f383 f383 f383 f383 f383 f383 f383 f383 f383 f383 f383 f383 f383 f383 f383 f383 f383 f383 f383 f383 f383 f383 f383 f383 f383 f383 f383 f383 f383 f383 f383 f383 f383 f383 f383 f383 f383 f383 f383 f383 f383 f383 f383 f383 f383 f383 f383 f383 f383 f383 f383 f383 f383 f383 f383 f383 f383 f383 f383 f383 f383 f383 f383 f383 f383 f383 f383 f383 f383 f383 f383 f383 f383 f383 f383 f383 f383 f383 f383 f383 f383 f383 f383 f383 f383 f383 f383 f383 f383 f383 f383 f383 f383 f383 f383 f383 f383 f383 f383 f383 f383 f383 f383 f383 f383 f383 f383 f383 f383 f383 f383 f383 f383 f383 f383 f383 f383 f383 f383 f383 f383 f383 f383 f383 f383 f383 f383 f383 f383 f383 f383 f383 f383 f383 f383 f383 f383 f383 f383 f383 f383 f383 f383 f383 f383 f383 f383 f383 f383 f383 f383 f383 f392 f392 f392 f392 f392 f392 f392 f392 f392 f392 f392 f392 f392 f392 f392 f392 f392 f392 f392 f392 f392 f392 f392 f392 f392 f392 f392 f392 f392 f392 f392 f392 f392 f392 f392 f392 f392 f392 f392 f392 f392 f392 f392 f392 f392 f392 f392 f392 f392 f392 f392 f392 f392 f392 f392 f392 f392 f392 f392 f392 f392 f392 f392 f392 f392 f392 f392 f392 f392 f392 f392 f392 f392 f392 f392 f392 f392 f392 f392 f392 f392 f392 f392 f392 f392 f392 f392 f392 f392 f392 f392 f392 f392 f392 f392 f392 f392 f392 f392 f392 f392 f392 f392 f392 f392 f392 f392 f392 f392 f392 f392 f392 f392 f392 f392 f392 f392 f392 f392 f392 f392 f392 f392 f392 f392 f392 f392 f392 f392 f392 f392 f392 f392 f392 f392 f392 f392 f392 f392 f392 f392 f392 f392 f392 f392 f392 f392 f392 f392 f392 f392 f392 f392 f392 f392 f392 f392 f392 f392 f392 f392 f392 f392 f392 f392 f392 f392 f392 f392 f392 f392 f392 f392 f392 f392 f392 f392 f392 f392 f396 f396 f396 f396 f396 f396 f396 f396 f396 f396 f396 f396 f396 f396 f396 f396 f396 f396 f396 f396 f396 f396 f396 f396 f396 f396 f396 f396 f396 f396 f396 f396 f396 f396 f396 f396 f396 f396 f396 f396 f396 f396 f396 f396 f396 f396 f396 f396 f396 f396 f396 f396 f396 f396 f396 f396 f396 f396 f396 f396 f396 f396 f396 f396 f396 f396 f396 f396 f396 f396 f396 f396 f396 f396 f396 f396 f396 f396 f396 f396 f396 f396 f396 f396 f396 f396 f396 f396 f396 f396 f396 f396 f396 f396 f396 f396 f396 f396 f396 f396 f396 f396 f396 f396 f396 f396 f396 f396 f396 f396 f396 f396 f396 f396 f396 f396 f396 f396 f396 f396 f396 f396 f396 f396 f396 f396 f396 f396 f396 f396 f396 f396 f396 f396 f396 f396 f396 f396 f396 f396 f396 f396 f396 f396 f396 f396 f396 f396 f396 f396 f396 f396 f396 f396 f396 f396 f396 f396 f396 f396 f396 f396 f396 f396 f396 f396 f396 f396 f396 f396 f396 f396 f396 f396 f396 f396 f396 f396 f396 f396 f396 f396 f396 f396 f396 f397 f397 f397 f397 f397 f397 f397 f397 f397 f397 f397 f397 f397 f397 f397 f397 f397 f397 f397 f397 f397 f397 f397 f397 f397 f397 f397 f397 f397 f397 f397 f397 f397 f397 f397 f397 f397 f397 f397 f397 f397 f397 f397 f397 f397 f397 f397 f397 f397 f397 f397 f397 f397 f397 f397 f397 f397 f397 f397 f397 f397 f397 f397 f398 f398 f398 f398 f398 f398 f398 f398 f398 f398 f398 f398 f398 f398 f398 f398 f398 f398 f398 f398 f398 f398 f398 f398 f398 f398 f398 f398 f398 f398 f398 f398 f398 f398 f398 f398 f398 f398 f398 f398 f398 f398 f398 f398 f398 f398 f398 f398 f398 f398 f398 f398 f398 f398 f398 f398 f398 f398 f398 f398 f398 f398 f398 f398 f398 f398 f398 f398 f398 f398 f398 f398 f398 f398 f398 f398 f398 f398 f398 f398 f398 f398 f398 f398 f398 f398 f398 f398 f398 f398 f398 f398 f398 f398 f398 f398 f398 f398 f398 f398 f398 f398 f398 f398 f398 f398 f398 f398 f398 f398 f398 f398 f398 f398 f398 f398 f398 f398 f398 f398 f398 f398 f398 f398 f398 f398 f398 f398 f398 f398 f398 f398 f398 f398 f398 f398 f398 f398 f398 f398 f398 f398 f398 f398 f398 f398 f398 f398 f398 f398 f398 f398 f398 f398 f398 f400 f400 f400 f400 f400 f400 f400 f400 f400 f400 f400 f400 f400 f400 f400 f400 f400 f400 f400 f400 f400 f400 f400 f400 f400 f400 f400 f400 f400 f400 f400 f400 f400 f400 f400 f400 f400 f400 f400 f400 f400 f400 f400 f400 f400 f400 f400 f400 f400 f400 f400 f400 f400 f400 f400 f400 f400 f400 f400 f400 f400 f400 f400 f400 f400 f400 f400 f400 f400 f400 f405 f405 f405 f405 f405 f405 f405 f405 f405 f405 f405 f405 f405 f405 f405 f405 f405 f405 f405 f405 f405 f405 f405 f405 f405 f405 f405 f405 f405 f405 f405 f405 f405 f405 f405 f405 f405 f405 f405 f405 f405 f405 f405 f405 f405 f405 f405 f405 f405 f405 f405 f405 f405 f405 f405 f405 f405 f405 f405 f405 f405 f405 f405 f405 f405 f405 f405 f405 f405 f405 f405 f405 f405 f405 f405 f405 f405 f405 f405 f405 f405 f405 f405 f405 f405 f405 f405 f405 f405 f405 f405 f405 f405 f405 f405 f405 f405 f405 f405 f405 f405 f405 f405 f405 f405 f405 f405 f405 f405 f405 f405 f405 f405 f405 f405 f405 f405 f405 f405 f405 f405 f405 f405 f405 f405 f405 f405 f405 f405 f405 f405 f405 f405 f405 f405 f405 f405 f411 f411 f411 f411 f411 f411 f411 f411 f411 f411 f411 f411 f411 f411 f411 f411 f411 f411 f411 f411 f411 f411 f411 f411 f411 f411 f411 f411 f411 f411 f411 f411 f411 f411 f411 f411 f411 f411 f411 f411 f411 f411 f411 f411 f411 f411 f411 f411 f411 f411 f411 f411 f411 f411 f411 f411 f411 f411 f411 f411 f411 f411 f411 f411 f411 f411 f411 f411 f411 f411 f411 f411 f411 f411 f411 f411 f411 f411 f411 f411 f411 f411 f411 f411 f411 f411 f411 f411 f411 f411 f411 f411 f411 f411 f411 f411 f411 f411 f411 f411 f411 f411 f411 f411 f411 f411 f411 f411 f411 f411 f411 f411 f411 f411 f411 f411 f411 f411 f411 f411 f411 f411 f411 f411 f411 f411 f411 f411 f411 f411 f411 f411 f411 f411 f411 f411 f411 f411 f411 f411 f411 f411 f411 f411 f411 f411 f411 f411 f411 f411 f411 f411 f411 f411 f411 f411 f411 f411 f411 f411 f411 f411 f411 f411 f411 f411 f411 f411 f411 f411 f411 f411 f411 f411 f411 f411 f411 f411 f411 f411 f411 f411 f411 f411 f411 f411 f411 f411 f411 f411 f411 f411 f411 f411 f411 f411 f411 f411 f411 f411 f412 f412 f412 f412 f412 f412 f412 f412 f412 f412 f412 f412 f412 f412 f412 f412 f412 f412 f412 f412 f412 f412 f412 f412 f412 f412 f412 f412 f412 f412 f412 f412 f412 f412 f412 f412 f412 f412 f412 f412 f412 f412 f412 f412 f412 f412 f412 f412 f412 f412 f412 f412 f412 f412 f412 f412 f412 f412 f412 f412 f412 f412 f412 f412 f412 f412 f412 f412 f412 f412 f412 f412 f412 f412 f412 f412 f412 f412 f412 f412 f412 f412 f412 f412 f412 f412 f412 f412 f412 f412 f412 f412 f412 f412 f412 f412 f412 f412 f416 f416 f416 f416 f416 f416 f416 f416 f416 f416 f416 f416 f416 f416 f416 f416 f416 f416 f416 f416 f416 f416 f416 f420 f420 f420 f420 f420 f420 f420 f420 f420 f420 f420 f420 f420 f420 f425 f425 f425 f425 f425 f425 f425 f425 f425 f425 f425 f425 f425 f425 f425 f425 f425 f425 f425 f425 f425 f425 f425 f425 f425 f425 f425 f425 f425 f425 f425 f425 f425 f425 f425 f425 f425 f425 f425 f425 f425 f425 f425 f425 f425 f425 f425 f425 f425 f425 f425 f425 f425 f425 f425 f425 f425 f425 f425 f425 f425 f425 f425 f425 f425 f425 f425 f425 f425 f425 f425 f425 f425 f425 f425 f425 f425 f425 f425 f425 f425 f425 f425 f425 f425 f425 f425 f425 f425 f425 f425 f425 f425 f425 f440 f440 f440 f457 f457 f457 f457 f457 f457 f457 f457 f457 f457 f457 f457 f457 f457 f457 f457 f457 f457 f457 f457 f457 f457 f457 f457 f457 f457 f457 f457 f457 f457 f457 f457 f457 f457 f457 f457 f457 f457 f457 f457 f457 f457 f457 f457 f457 f457 f457 f457 f457 f457 f457 f457 f457 f457 f457 f457 f457 f457 f457 f457 f457 f457 f457 f457 f457 f457 f457 f457 f457 f457 f457 f457 f457 f457 f457 f457 f457 f457 f457 f457 f457 f457 f457 f457 f457 f457 f457 f457 f457 f457 f457 f457 f457 f457 f457 f457 f457 f457 f457 f457 f457 f457 f457 f457 f457 f457 f457 f457 f457 f457 f457 f457 f457 f457 f457 f457 f457 f457 f457 f457 f457 f457 f457 f457 f457 f457 f457 f457 f457 f457 f457 f457 f457 f457 f457 f457 f457 f457 f457 f457 f457 f457 f457 f457 f457 f457 f457 f457 f457 f457 f457 f457 f457 f457 f457 f457 f457 f457 f457 f457 f457 f457 f457 f457 f457 f457 f457 f457 f457 f457 f457 f457 f457 f457 f457 f457 f457 f457 f457 f457 f457 f457 f457 f457 f457 f457 f461 f461 f461 f461 f461 f461 f461 f461 f461 f461 f461 f461 f461 f461 f461 f461 f461 f461 f461 f461 f461 f461 f461 f461 f461 f461 f461 f461 f461 f461 f461 f461 f461 f461 f461 f461 f461 f461 f461 f461 f461 f461 f461 f461 f461 f461 f461 f461 f461 f461 f461 f461 f461 f461 f461 f461 f461 f461 f461 f461 f461 f461 f461 f461 f461 f461 f461 f461 f461 f461 f461 f461 f461 f461 f461 f461 f461 f461 f461 f461 f461 f461 f461 f461 f461 f461 f461 f461 f461 f461 f461 f461 f461 f461 f461 f461 f461 f461 f461 f461 f461 f461 f461 f461 f461 f461 f461 f461 f461 f461 f461 f461 f461 f461 f461 f461 f461 f461 f461 f461 f461 f461 f461 f461 f461 f461 f461 f461 f461 f461 f461 f461 f461 f461 f461 f461 f461 f461 f461 f461 f461 f461 f461 f461 f461 f461 f461 f461 f461 f461 f461 f461 f461 f461 f461 f461 f461 f461 f461 f461 f461 f461 f461 f461 f461 f461 f461 f461 f461 f461 f461 f461 f461 f461 f461 f461 f461 f461 f461 f461 f461 f461 f461 f461 f461 f461 f461 f461 f461 f461 f461 f461 f461 f461 f461 f461 f461 f461 f461 f461 f461 f461 f461 f461 f461 f461 f461 f461 f461 f461 f461 f461 f461 f465 f465 f465 f465 f465 f465 f465 f465 f465 f465 f465 f465 f465 f465 f465 f465 f465 f465 f465 f465 f465 f465 f465 f465 f465 f465 f465 f465 f465 f465 f465 f465 f465 f465 f465 f465 f465 f465 f465 f465 f465 f465 f465 f465 f465 f465 f465 f465 f465 f465 f465 f465 f465 f465 f465 f465 f465 f465 f465 f465 f465 f465 f465 f465 f465 f465 f465 f465 f465 f465 f465 f465 f465 f465 f465 f465 f465 f465 f465 f465 f465 f465 f465 f465 f465 f465 f465 f465 f465 f465 f465 f465 f465 f465 f465 f465 f465 f465 f465 f465 f465 f465 f465 f465 f465 f465 f465 f465 f465 f465 f465 f465 f465 f468 f468 f468 f468 f468 f468 f468 f468 f468 f468 f468 f468 f468 f468 f468 f468 f468 f468 f468 f468 f468 f468 f468 f468 f468 f468 f468 f468 f468 f468 f468 f468 f468 f468 f468 f468 f468 f468 f468 f468 f468 f468 f468 f468 f468 f468 f468 f468 f468 f468 f468 f468 f468 f468 f468 f468 f468 f468 f468 f468 f468 f468 f468 f468 f468 f468 f468 f468 f468 f468 f468 f468 f468 f468 f468 f468 f468 f468 f468 f468 f468 f468 f468 f468 f468 f468 f468 f468 f468 f468 f468 f468 f468 f468 f468 f468 f468 f468 f468 f468 f468 f468 f468 f468 f468 f468 f468 f468 f468 f468 f468 f468 f468 f468 f468 f468 f468 f468 f468 f468 f468 f468 f468 f468 f468 f472 f472 f472 f472 f472 f472 f472 f473 f473 f473 f473 f473 f473 f473 f473 f473 f473 f473 f473 f473 f473 f473 f473 f473 f473 f473 f473 f473 f473 f473 f473 f473 f473 f473 f473 f473 f473 f473 f473 f473 f473 f473 f473 f473 f473 f473 f473 f473 f473 f473 f473 f473 f473 f473 f473 f473 f473 f473 f473 f473 f473 f473 f473 f473 f473 f473 f473 f473 f473 f473 f473 f473 f473 f473 f473 f473 f473 f473 f473 f473 f473 f473 f473 f473 f473 f473 f473 f473 f473 f473 f473 f473 f473 f473 f473 f473 f473 f473 f473 f473 f473 f473 f473 f473 f473 f473 f473 f473 f473 f473 f473 f473 f473 f473 f473 f473 f473 f473 f473 f473 f473 f473 f473 f473 f473 f473 f473 f473 f473 f473 f473 f473 f473 f473 f473 f473 f473 f473 f473 f473 f473 f473 f473 f473 f473 f473 f473 f473 f473 f473 f473 f473 f473 f473 f473 f473 f473 f473 f473 f473 f473 f473 f473 f473 f473 f473 f473 f473 f473 f473 f473 f473 f473 f473 f473 f473 f473 f473 f473 f473 f473 f473 f473 f473 f473 f473 f473 f473 f473 f473 f473 f473 f473 f473 f473 f473 f473 f473 f473 f473 f473 f473 f473 f473 f473 f473 f473 f473 f473 f473 f473 f473 f473 f473 f473 f473 f473 f473 f473 f473 f473 f473 f473 f473 f473 f473 f473 f473 f473 f473 f473 f473 f473 f473 f473 f473 f473 f473 f473 f473 f473 f473 f473 f473 f473 f473 f473 f473 f473 f473 f473 f473 f473 f473 f473 f476 f476 f476 f476 f476 f476 f476 f476 f476 f476 f476 f476 f476 f476 f476 f476 f476 f476 f476 f476 f476 f476 f476 f476 f476 f476 f476 f476 f476 f478 f478 f478 f478 f478 f478 f478 f478 f478 f478 f478 f478 f478 f478 f478 f478 f478 f478 f478 f478 f478 f478 f478 f478 f478 f478 f478 f478 f478 f478 f478 f478 f478 f478 f478 f478 f478 f478 f478 f478 f478 f478 f478 f478 f478 f478 f478 f478 f478 f478 f478 f478 f478 f478 f478 f478 f478 f478 f478 f478 f478 f478 f478 f478 f478 f478 f479 f479 f479 f479 f479 f479 f481 f481 f481 f481 f481 f481 f481 f481 f481 f481 f481 f481 f481 f481 f481 f481 f481 f481 f481 f481 f481 f481 f481 f481 f481 f481 f481 f481 f481 f481 f481 f481 f481 f481 f481 f481 f481 f481 f481 f481 f481 f481 f481 f481 f481 f481 f481 f481 f481 f481 f481 f481 f481 f481 f481 f481 f481 f481 f481 f481 f481 f481 f481 f481 f481 f481 f481 f481 f481 f481 f481 f481 f481 f481 f481 f481 f481 f481 f481 f481 f481 f481 f481 f481 f481 f481 f481 f481 f481 f481 f481 f481 f481 f481 f481 f481 f481 f481 f481 f481 f481 f481 f481 f481 f481 f481 f481 f481 f481 f481 f481 f481 f481 f481 f481 f481 f481 f481 f481 f481 f481 f481 f481 f481 f481 f481 f481 f481 f481 f481 f481 f481 f481 f481 f481 f481 f481 f481 f481 f481 f481 f481 f482 f482 f482 f482 f482 f482 f482 f482 f482 f482 f482 f482 f482 f482 f482 f482 f482 f482 f482 f482 f482 f482 f482 f482 f482 f482 f482 f482 f482 f482 f482 f482 f482 f482 f482 f482 f482 f482 f482 f482 f482 f482 f482 f482 f482 f482 f482 f482 f482 f482 f482 f482 f482 f482 f482 f482 f482 f483 f483 f483 f483 f483 f483 f483 f483 f483 f483 f483 f483 f483 f483 f483 f483 f483 f483 f483 f483 f483 f483 f483 f483 f483 f483 f483 f483 f483 f483 f483 f483 f483 f483 f483 f483 f483 f483 f483 f483 f483 f483 f483 f483 f483 f483 f483 f483 f483 f483 f483 f484 f484 f484 f484 f484 f484 f484 f484 f484 f484 f484 f484 f484 f484 f484 f484 f484 f484 f484 f484 f484 f484 f484 f484 f484 f484 f484 f484 f484 f484 f484 f484 f484 f484 f484 f484 f484 f484 f484 f484 f484 f484 f484 f484 f484 f484 f484 f484 f484 f484 f484 f484 f484 f484 f484 f484 f484 f484 f484 f484 f484 f484 f484 f484 f484 f484 f484 f484 f484 f484 f484 f484 f484 f484 f484 f484 f484 f484 f484 f484 f484 f484 f484 f484 f484 f484 f484 f484 f484 f484 f484 f484 f484 f484 f484 f484 f484 f484 f484 f484 f484 f484 f484 f484 f484 f484 f484 f484 f484 f484 f484 f484 f484 f484 f484 f484 f484 f484 f484 f484 f484 f484 f484 f484 f484 f484 f484 f484 f484 f484 f484 f484 f484 f484 f484 f484 f484 f484 f484 f484 f484 f484 f484 f484 f484 f484 f484 f484 f484 f484 f484 f484 f484 f484 f484 f484 f484 f484 f484 f484 f484 f484 f484 f484 f484 f484 f484 f484 f484 f485 f485 f485 f485 f485 f485 f485 f485 f485 f485 f485 f485 f485 f485 f485 f485 f485 f485 f485 f485 f485 f485 f485 f485 f485 f485 f485 f485 f485 f485 f485 f485 f485 f485 f485 f485 f485 f485 f485 f485 f485 f485 f485 f485 f485 f485 f485 f485 f485 f485 f485 f485 f485 f485 f485 f485 f485 f485 f485 f485 f485 f485 f485 f485 f485 f485 f485 f485 f485 f485 f485 f485 f485 f485 f485 f485 f485 f485 f485 f485 f485 f485 f485 f485 f485 f485 f485 f485 f485 f485 f485 f485 f485 f485 f485 f485 f485 f485 f485 f485 f485 f485 f485 f485 f485 f485 f485 f485 f485 f485 f485 f485 f485 f485 f485 f485 f485 f485 f485 f485 f485 f485 f485 f485 f485 f485 f485 f485 f485 f485 f485 f485 f485 f485 f485 f485 f485 f485 f485 f485 f485 f485 f485 f485 f485 f485 f485 f485 f485 f485 f485 f485 f485 f485 f485 f485 f485 f485 f485 f485 f485 f485 f485 f485 f485 f485 f485 f485 f485 f485 f485 f485 f485 f485 f485 f485 f485 f485 f485 f485 f485 f485 f485 f485 f485 f485 f485 f485 f485 f485 f485 f485 f485 f485 f485 f485 f485 f485 f485 f485 f485 f485 f485 f485 f485 f485 f485 f485 f485 f485 f485 f485 f485 f485 f485 f485 f486 f486 f486 f486 f486 f486 f486 f486 f486 f486 f486 f486 f486 f486 f486 f486 f486 f486 f486 f486 f486 f486 f486 f486 f486 f486 f486 f486 f486 f486 f486 f486 f486 f486 f486 f486 f486 f486 f486 f486 f486 f486 f486 f486 f486 f486 f486 f486 f486 f486 f486 f486 f486 f486 f486 f486 f486 f486 f486 f486 f486 f486 f486 f486 f486 f486 f486 f486 f486 f486 f486 f486 f486 f486 f486 f486 f486 f486 f486 f486 f486 f486 f486 f486 f486 f486 f486 f486 f486 f486 f486 f486 f486 f486 f486 f486 f486 f486 f486 f486 f486 f486 f486 f486 f486 f486 f486 f486 f486 f486 f486 f486 f486 f486 f486 f486 f486 f486 f486 f486 f486 f486 f486 f486 f486 f486 f486 f486 f486 f486 f486 f486 f486 f486 f486 f486 f486 f486 f486 f486 f486 f486 f486 f486 f486 f486 f486 f486 f486 f486 f486 f486 f486 f486 f486 f486 f486 f486 f486 f490 f490 f490 f490 f490 f490 f490 f490 f490 f490 f490 f490 f490 f490 f490 f490 f490 f490 f490 f490 f490 f490 f490 f490 f490 f490 f490 f490 f490 f490 f490 f490 f490 f490 f492 f492 f492 f492 f492 f492 f492 f492 f492 f492 f492 f492 f492 f492 f492 f492 f492 f492 f492 f492 f492 f492 f492 f492 f492 f492 f492 f492 f492 f492 f492 f492 f492 f492 f492 f492 f492 f492 f492 f492 f492 f492 f492 f492 f492 f492 f492 f492 f492 f492 f492 f492 f492 f492 f492 f492 f492 f492 f492 f492 f492 f492 f492 f492 f492 f492 f492 f492 f492 f492 f492 f492 f492 f492 f492 f492 f492 f492 f492 f492 f492 f492 f492 f492 f492 f492 f492 f492 f492 f492 f492 f492 f492 f492 f492 f492 f492 f492 f492 f492 f492 f492 f492 f492 f492 f492 f492 f492 f492 f492 f492 f492 f492 f492 f492 f492 f492 f492 f492 f492 f492 f492 f492 f492 f492 f492 f492 f492 f492 f492 f492 f492 f492 f492 f492 f492 f492 f492 f492 f492 f492 f492 f492 f492 f492 f492 f492 f492 f492 f492 f492 f501 f501 f501 f501 f501 f501 f501 f501 f501 f501 f501 f501 f501 f501 f501 f501 f501 f501 f501 f501 f501 f501 f501 f501 f501 f501 f501 f501 f501 f501 f501 f501 f501 f501 f501 f501 f501 f501 f501 f501 f501 f501 f501 f501 f502 f502 f502 f502 f502 f502 f502 f502 f502 f502 f502 f502 f502 f502 f502 f502 f502 f502 f502 f502 f502 f502 f502 f502 f502 f502 f502 f502 f502 f502 f502 f502 f502 f502 f502 f502 f502 f502 f502 f502 f502 f502 f502 f502 f502 f502 f502 f502 f502 f502 f502 f502 f502 f502 f502 f502 f502 f502 f502 f502 f502 f502 f502 f502 f502 f502 f502 f502 f502 f502 f502 f502 f502 f502 f502 f502 f502 f502 f502 f502 f502 f502 f502 f502 f502 f502 f502 f502 f502 f502 f502 f502 f502 f502 f502 f502 f502 f502 f502 f502 f502 f502 f502 f502 f502 f502 f502 f502 f502 f502 f502 f502 f502 f502 f502 f502 f502 f502 f502 f502 f502 f502 f507 f507 f507 f507 f507 f507 f507 f507 f507 f507 f507 f507 f507 f507 f507 f507 f507 f507 f507 f507 f507 f507 f507 f507 f507 f507 f507 f507 f507 f507 f507 f507 f507 f507 f507 f507 f507 f507 f507 f507 f507 f507 f507 f507 f507 f507 f507 f507 f507 f507 f507 f507 f507 f507 f507 f507 f507 f507 f507 f507 f507 f507 f507 f507 f507 f507 f507 f507 f507 f507 f507 f507 f507 f507 f507 f507 f507 f507 f507 f507 f507 f507 f507 f507 f507 f507 f507 f507 f507 f507 f507 f507 f507 f507 f507 f507 f507 f507 f507 f507 f507 f507 f507 f507 f507 f507 f507 f507 f507 f507 f507 f507 f507 f507 f507 f507 f507 f507 f507 f507 f507 f507 f507 f507 f507 f507 f507 f507 f507 f509 f509 f509 f509 f509 f509 f509 f509 f509 f509 f509 f509 f509 f509 f509 f511 f511 f511 f511 f511 f511 f511 f511 f511 f511 f511 f511 f511 f511 f511 f511 f511 f511 f511 f511 f511 f511 f511 f511 f511 f511 f511 f511 f511 f511 f511 f511 f511 f511 f511 f511 f511 f511 f511 f511 f511 f511 f511 f511 f511 f511 f511 f511 f511 f511 f511 f511 f511 f511 f511 f511 f511 f511 f511 f511 f511 f511 f511 f511 f511 f511 f511 f511 f511 f511 f511 f511 f511 f511 f511 f511 f511 f511 f511 f511 f512 f512 f512 f512 f512 f512 f512 f512 f512 f512 f512 f512 f512 f512 f512 f512 f512 f512 f512 f512 f512 f512 f512 f512 f512 f512 f512 f512 f512 f512 f512 f512 f512 f512 f512 f512 f512 f512 f512 f512 f512 f512 f512 f512 f512 f512 f512 f512 f512 f512 f512 f512 f512 f512 f512 f512 f512 f512 f512 f512 f512 f512 f512 f512 f512 f512 f512 f512 f512 f512 f512 f512 f512 f512 f512 f512 f512 f512 f512 f512 f512 f512 f512 f512 f512 f512 f512 f512 f512 f512 f512 f512 f512 f512 f512 f512 f512 f512 f512 f512 f512 f512 f512 f512 f512 f512 f512 f512 f512 f512 f512 f512 f512 f512 f512 f512 f512 f512 f512 f512 f512 f512 f512 f512 f512 f512 f512 f512 f512 f512 f512 f512 f512 f512 f512 f512 f512 f512 f512 f512 f512 f512 f512 f512 f512 f512 f512 f512 f512 f512 f512 f512 f512 f512 f512 f512 f512 f512 f512 f512 f512 f512 f512 f512 f512 f512 f512 f512 f512 f512 f512 f512 f512 f512 f512 f512 f512 f512 f512 f512 f512 f512 f512 f512 f512 f512 f512 f512 f512 f512 f512 f512 f512 f512 f512 f512 f512 f512 f512 f512 f512 f512 f512 f512 f512 f512 f512 f512 f512 f512 f512 f512 f512 f512 f512 f512 f512 f512 f512 f512 f512 f512 f512 f512 f512 f512 f512 f512 f512 f512 f512 f512 f512 f512 f512 f512 f519 f519 f519 f519 f519 f519 f519 f519 f519 f519 f519 f519 f519 f519 f519 f519 f519 f519 f519 f519 f519 f519 f519 f519 f519 f519 f519 f519 f519 f519 f519 f519 f519 f519 f519 f519 f519 f519 f519 f519 f519 f519 f519 f519 f519 f519 f519 f519 f519 f519 f519 f519 f519 f519 f519 f519 f519 f519 f519 f519 f519 f519 f519 f519 f519 f519 f519 f519 f519 f519 f519 f519 f519 f519 f519 f519 f519 f519 f519 f519 f519 f519 f519 f519 f519 f519 f519 f519 f519 f519 f519 f519 f519 f519 f519 f519 f519 f519 f519 f519 f519 f519 f519 f519 f519 f519 f519 f519 f519 f519 f519 f519 f519 f519 f519 f519 f519 f519 f519 f519 f519 f519 f519 f519 f519 f519 f519 f519 f519 f519 f519 f519 f519 f519 f519 f519 f519 f519 f519 f519 f519 f519 f519 f519 f519 f519 f519 f519 f519 f519 f519 f519 f519 f519 f519 f519 f519 f519 f519 f519 f519 f519 f519 f519 f519 f519 f519 f519 f519 f519 f519 f519 f519 f519 f519 f519 f519 f519 f519 f519 f519 f519 f519 f519 f519 f519 f519 f519 f519 f519 f519 f519 f519 f519 f519 f519 f519 f519 f519 f519 f519 f519 f519 f519 f519 f519 f519 f519 f519 f519 f519 f519 f519 f519 f519 f519 f519 f519 f519 f519 f519 f519 f519 f519 f519 f519 f519 f519 f528 f528 f528 f528 f528 f528 f528 f528 f528 f528 f528 f528 f528 f528 f528 f528 f528 f528 f528 f528 f528 f528 f528 f528 f528 f528 f528 f528 f528 f528 f528 f528 f528 f528 f528 f528 f528 f528 f528 f528 f528 f528 f528 f528 f528 f528 f528 f528 f528 f528 f528 f528 f534 f534 f534 f534 f534 f534 f534 f534 f534 f534 f534 f534 f534 f534 f534 f534 f534 f534 f534 f534 f534 f534 f534 f534 f534 f534 f534 f534 f534 f534 f534 f534 f534 f534 f534 f534 f534 f534 f534 f534 f534 f534 f534 f534 f534 f534 f534 f534 f534 f534 f534 f534 f534 f534 f534 f534 f534 f534 f534 f534 f534 f534 f534 f534 f534 f534 f534 f534 f534 f534 f534 f534 f534 f534 f534 f534 f534 f534 f534 f534 f534 f534 f534 f534 f534 f534 f534 f534 f534 f534 f534 f534 f534 f534 f534 f534 f534 f534 f534 f534 f534 f534 f534 f534 f534 f534 f534 f534 f534 f534 f534 f534 f534 f534 f534 f534 f534 f534 f534 f534 f534 f534 f534 f534 f534 f534 f534 f534 f534 f534 f534 f534 f534 f534 f534 f534 f534 f534 f534 f534 f534 f534 f534 f534 f534 f534 f534 f534 f534 f534 f534 f534 f534 f534 f534 f534 f534 f534 f534 f534 f534 f534 f534 f534 f534 f534 f534 f534 f534 f534 f534 f534 f534 f534 f534 f534 f534 f534 f534 f534 f534 f534 f534 f534 f534 f534 f534 f534 f534 f534 f534 f534 f534 f534 f534 f534 f534 f534 f534 f534 f534 f534 f534 f534 f534 f534 f534 f534 f534 f534 f534 f534 f534 f534 f534 f534 f534 f534 f534 f534 f534 f534 f534 f534 f534 f534 f537 f537 f537 f537 f537 f537 f537 f537 f537 f537 f537 f537 f537 f537 f537 f537 f537 f537 f537 f537 f537 f537 f537 f537 f537 f537 f537 f537 f537 f537 f537 f537 f537 f537 f537 f537 f537 f537 f537 f537 f537 f537 f537 f537 f537 f537 f537 f537 f537 f537 f537 f537 f537 f537 f537 f537 f537 f537 f537 f537 f537 f537 f537 f537 f537 f537 f537 f537 f537 f537 f537 f537 f537 f537 f537 f537 f537 f537 f537 f537 f537 f537 f537 f537 f537 f537 f537 f537 f537 f537 f537 f537 f537 f537 f537 f537 f537 f537 f537 f537 f537 f537 f537 f537 f537 f537 f537 f537 f537 f537 f537 f537 f537 f537 f537 f537 f537 f537 f537 f537 f537 f537 f537 f537 f537 f537 f537 f537 f537 f537 f537 f537 f537 f537 f537 f537 f537 f537 f537 f537 f537 f537 f537 f537 f537 f537 f537 f537 f537 f537 f537 f537 f539 f539 f539 f539 f539 f539 f539 f539 f539 f539 f539 f539 f539 f539 f539 f539 f539 f539 f539 f539 f539 f539 f539 f539 f539 f539 f539 f539 f539 f539 f539 f539 f539 f539 f539 f539 f539 f539 f539 f539 f539 f539 f539 f539 f539 f539 f539 f539 f539 f539 f539 f539 f539 f539 f539 f539 f539 f539 f539 f539 f539 f539 f539 f539 f539 f539 f539 f539 f539 f539 f539 f539 f539 f539 f539 f539 f539 f539 f539 f539 f539 f539 f539 f539 f539 f539 f539 f539 f539 f539 f539 f539 f539 f539 f539 f539 f539 f539 f539 f539 f539 f539 f539 f539 f539 f539 f539 f539 f539 f539 f539 f539 f539 f539 f539 f539 f539 f539 f539 f539 f539 f539 f539 f539 f539 f539 f539 f539 f539 f539 f539 f539 f539 f539 f539 f539 f539 f539 f554 f554 f554 f554 f554 f554 f554 f554 f554 f554 f554 f554 f554 f554 f554 f554 f554 f554 f554 f554 f554 f554 f554 f554 f554 f554 f554 f554 f554 f554 f554 f554 f554 f554 f554 f554 f554 f554 f554 f554 f554 f554 f554 f554 f554 f554 f554 f554 f554 f554 f554 f554 f554 f554 f554 f554 f554 f554 f554 f554 f554 f554 f554 f554 f554 f554 f554 f554 f554 f554 f554 f554 f554 f554 f554 f554 f554 f554 f554 f554 f554 f554 f554 f554 f554 f554 f554 f554 f554 f554 f554 f554 f554 f554 f554 f554 f554 f554 f554 f554 f554 f554 f554 f554 f554 f554 f554 f554 f554 f554 f554 f554 f554 f554 f554 f554 f554 f554 f554 f554 f554 f554 f554 f554 f554 f554 f554 f554 f554 f554 f554 f554 f554 f554 f554 f554 f554 f554 f554 f554 f554 f554 f554 f554 f554 f554 f554 f554 f554 f554 f554 f554 f554 f554 f554 f554 f554 f554 f554 f554 f554 f554 f554 f554 f554 f554 f554 f554 f554 f554 f554 f554 f554 f555 f555 f555 f555 f555 f555 f555 f555 f555 f555 f555 f555 f555 f555 f555 f555 f555 f555 f555 f555 f555 f555 f555 f555 f555 f555 f555 f555 f555 f555 f555 f555 f555 f555 f555 f555 f555 f555 f555 f555 f555 f555 f555 f555 f555 f555 f555 f555 f555 f555 f555 f555 f555 f555 f555 f555 f555 f555 f555 f555 f555 f555 f555 f555 f555 f555 f555 f555 f555 f555 f555 f555 f555 f555 f555 f555 f555 f555 f555 f555 f555 f555 f555 f555 f555 f555 f555 f555 f555 f555 f555 f555 f555 f555 f555 f555 f555 f555 f555 f555 f555 f555 f555 f555 f555 f555 f555 f555 f555 f555 f555 f555 f555 f555 f555 f555 f555 f555 f555 f555 f555 f555 f555 f555 f555 f555 f555 f555 f555 f555 f555 f555 f555 f555 f555 f555 f555 f555 f555 f555 f555 f555 f555 f555 f555 f555 f555 f555 f555 f555 f555 f555 f555 f555 f555 f555 f555 f555 f555 f555 f555 f555 f555 f555 f555 f555 f555 f555 f555 f555 f555 f555 f555 f555 f555 f555 f555 f555 f555 f555 f555 f555 f555 f555 f555 f555 f555 f557 f557 f557 f557 f557 f557 f557 f557 f557 f557 f557 f557 f557 f557 f557 f557 f557 f557 f557 f557 f557 f557 f557 f557 f557 f557 f557 f557 f557 f557 f557 f557 f557 f557 f557 f557 f557 f557 f557 f557 f557 f557 f557 f557 f557 f557 f557 f557 f557 f557 f557 f557 f557 f557 f558 f558 f558 f558 f558 f558 f558 f558 f558 f558 f558 f558 f558 f558 f558 f558 f558 f558 f558 f558 f558 f558 f558 f558 f558 f558 f558 f558 f558 f558 f558 f558 f558 f558 f558 f558 f558 f558 f558 f558 f558 f558 f558 f558 f558 f558 f558 f558 f558 f558 f558 f558 f558 f558 f558 f558 f558 f558 f558 f558 f558 f558 f558 f558 f558 f558 f558 f558 f558 f558 f558 f558 f558 f558 f558 f558 f558 f558 f558 f558 f558 f558 f558 f558 f558 f558 f558 f558 f558 f558 f558 f558 f558 f558 f558 f558 f558 f558 f558 f558 f558 f558 f558 f558 f558 f558 f558 f558 f558 f558 f558 f558 f558 f558 f558 f558 f558 f558 f558 f558 f558 f558 f558 f558 f558 f558 f558 f558 f558 f558 f558 f558 f558 f558 f558 f558 f558 f558 f558 f558 f558 f558 f558 f558 f558 f558 f558 f558 f558 f558 f558 f558 f558 f558 f558 f558 f558 f558 f558 f558 f558 f558 f558 f558 f558 f558 f558 f558 f558 f558 f558 f558 f558 f558 f558 f558 f558 f558 f558 f558 f558 f558 f558 f558 f558 f558 f558 f558 f558 f558 f558 f558 f558 f558 f558 f558 f558 f558 f558 f558 f558 f558 f558 f558 f559 f559 f559 f559 f559 f559 f559 f559 f559 f559 f559 f559 f559 f559 f559 f559 f559 f559 f559 f559 f559 f559 f559 f559 f559 f559 f559 f559 f559 f559 f559 f559 f559 f559 f559 f559 f559 f559 f559 f559 f559 f559 f559 f559 f559 f559 f559 f559 f559 f559 f559 f559 f559 f559 f559 f559 f559 f559 f559 f559 f559 f559 f559 f559 f559 f559 f559 f559 f559 f559 f559 f559 f559 f559 f559 f559 f559 f559 f559 f559 f559 f559 f559 f559 f559 f559 f559 f559 f559 f559 f559 f559 f559 f559 f559 f559 f559 f559 f559 f559 f559 f559 f559 f559 f559 f559 f559 f559 f559 f559 f559 f559 f559 f559 f559 f559 f559 f559 f559 f559 f564 f564 f564 f564 f564 f564 f564 f564 f564 f564 f564 f564 f564 f564 f564 f564 f564 f564 f564 f564 f564 f564 f564 f564 f564 f564 f564 f564 f564 f564 f564 f564 f564 f564 f564 f564 f564 f564 f564 f564 f564 f564 f564 f564 f564 f564 f564 f564 f564 f564 f564 f564 f564 f564 f564 f564 f564 f564 f564 f564 f564 f564 f564 f564 f564 f564 f564 f564 f564 f564 f564 f564 f564 f564 f564 f564 f564 f564 f564 f564 f564 f564 f564 f564 f564 f564 f564 f564 f564 f564 f564 f564 f564 f564 f564 f564 f564 f564 f564 f564 f564 f564 f564 f564 f564 f564 f564 f564 f564 f564 f564 f564 f564 f564 f564 f564 f564 f564 f564 f564 f564 f564 f564 f564 f564 f564 f564 f564 f564 f564 f564 f564 f564 f564 f564 f564 f564 f564 f564 f564 f564 f564 f564 f564 f564 f564 f564 f564 f564 f564 f564 f564 f564 f564 f564 f564 f569 f569 f569 f569 f569 f569 f569 f569 f569 f569 f569 f569 f569 f569 f569 f569 f569 f569 f569 f569 f569 f569 f569 f569 f569 f569 f569 f569 f569 f569 f569 f569 f569 f569 f569 f569 f569 f569 f569 f569 f569 f569 f569 f569 f569 f569 f569 f569 f569 f569 f569 f569 f569 f569 f569 f569 f569 f569 f569 f570 f570 f570 f570 f570 f570 f570 f570 f570 f570 f570 f570 f570 f570 f570 f570 f570 f570 f570 f570 f570 f570 f570 f570 f570 f570 f570 f570 f570 f570 f570 f570 f570 f570 f570 f570 f570 f570 f570 f570 f570 f570 f570 f570 f570 f570 f570 f570 f570 f570 f570 f570 f570 f570 f570 f570 f570 f570 f570 f570 f570 f570 f570 f570 f570 f570 f570 f570 f574 f574 f574 f574 f574 f574 f574 f574 f574 f574 f574 f574 f574 f574 f574 f574 f574 f574 f574 f574 f574 f574 f574 f574 f574 f574 f574 f574 f574 f574 f574 f574 f574 f574 f574 f574 f574 f574 f574 f574 f574 f574 f574 f574 f574 f574 f574 f574 f574 f574 f574 f574 f574 f574 f574 f574 f574 f574 f574 f574 f574 f574 f574 f574 f574 f574 f574 f574 f574 f574 f574 f574 f574 f574 f574 f574 f574 f574 f574 f574 f574 f574 f574 f574 f574 f574 f574 f574 f574 f574 f574 f574 f574 f574 f574 f574 f574 f574 f574 f574 f574 f574 f574 f574 f574 f574 f574 f574 f574 f574 f574 f574 f574 f574 f574 f574 f574 f574 f574 f574 f574 f574 f574 f574 f574 f574 f574 f574 f574 f574 f574 f574 f574 f574 f574 f574 f574 f574 f574 f574 f574 f574 f574 f574 f574 f574 f574 f574 f574 f574 f574 f574 f574 f574 f574 f574 f574 f574 f576 f580 f580 f580 f580 f580 f580 f580 f580 f580 f580 f580 f580 f580 f580 f580 f580 f580 f580 f580 f580 f580 f580 f580 f580 f580 f580 f580 f580 f580 f580 f580 f580 f580 f580 f580 f580 f580 f580 f580 f580 f580 f580 f580 f580 f580 f580 f580 f580 f580 f580 f580 f580 f580 f580 f580 f580 f580 f580 f580 f580 f580 f580 f580 f580 f580 f580 f580 f580 f580 f580 f580 f580 f580 f580 f580 f580 f580 f580 f580 f580 f580 f580 f580 f580 f580 f580 f580 f580 f580 f580 f580 f580 f580 f580 f580 f580 f580 f580 f580 f580 f580 f580 f580 f580 f580 f580 f580 f580 f580 f580 f580 f580 f580 f580 f580 f580 f580 f580 f580 f580 f580 f580 f580 f580 f580 f580 f580 f580 f580 f580 f580 f580 f580 f580 f580 f580 f580 f580 f580 f580 f580 f580 f580 f580 f580 f580 f580 f580 f580 f580 f580 f580 f580 f580 f580 f580 f580 f580 f580 f580 f580 f580 f580 f580 f580 f580 f580 f580 f580 f580 f580 f580 f580 f580 f580 f580 f580 f580 f580 f580 f580 f580 f580 f580 f580 f580 f580 f580 f580 f580 f580 f580 f580 f580 f580 f580 f580 f580 f580 f580 f580 f580 f580 f580 f580 f580 f580 f580 f580 f580 f580 f580 f580 f580 f580 f580 f580 f580 f580 f580 f580 f580 f580 f580 f580 f580 f580 f580 f580 f580 f580 f580 f580 f580 f580 f580 f580 f580 f580 f580 f580 f580 f580 f585 f585 f585 f585 f585 f585 f585 f585 f585 f585 f585 f585 f585 f585 f585 f585 f585 f585 f585 f585 f585 f585 f585 f585 f585 f585 f585 f585 f585 f585 f585 f585 f585 f585 f585 f585 f585 f587 f587 f587 f587 f587 f587 f587 f587 f587 f587 f587 f587 f587 f587 f587 f587 f587 f587 f587 f587 f587 f587 f587 f587 f587 f587 f587 f587 f587 f587 f587 f587 f587 f587 f587 f587 f587 f587 f587 f587 f587 f587 f587 f587 f587 f587 f587 f587 f587 f587 f587 f587 f587 f587 f587 f587 f587 f587 f587 f587 f587 f587 f587 f587 f587 f587 f587 f587 f587 f587 f587 f587 f587 f587 f587 f587 f587 f587 f587 f587 f587 f587 f587 f587 f587 f587 f587 f587 f587 f587 f587 f587 f587 f587 f587 f587 f587 f587 f587 f587 f587 f590 f590 f590 f590 f590 f590 f590 f590 f590 f590 f590 f590 f590 f590 f590 f590 f590 f590 f590 f590 f590 f590 f590 f590 f590 f590 f590 f590 f590 f590 f590 f590 f590 f590 f590 f590 f590 f590 f590 f590 f590 f590 f590 f590 f590 f590 f590 f590 f590 f590 f590 f590 f590 f590 f590 f590 f590 f590 f590 f590 f590 f590 f590 f590 f590 f590 f590 f590 f590 f590 f590 f590 f590 f590 f590 f590 f590 f590 f590 f590 f590 f590 f590 f590 f590 f590 f590 f590 f590 f590 f590 f590 f590 f590 f590 f590 f590 f590 f590 f590 f590 f590 f590 f590 f590 f590 f590 f590 f590 f590 f590 f590 f590 f590 f590 f590 f590 f590 f590 f590 f590 f590 f590 f590 f590 f590 f590 f590 f590 f590 f590 f590 f590 f590 f590 f590 f590 f590 f590 f590 f590 f590 f590 f590 f590 f590 f590 f590 f590 f590 f590 f590 f590 f590 f590 f590 f590 f590 f590 f590 f590 f590 f590 f590 f590 f590 f590 f590 f590 f590 f590 f590 f590 f590 f590 f590 f590 f590 f590 f590 f590 f604 f604 f604 f604 f604 f604 f604 f604 f604 f604 f604 f604 f604 f604 f604 f604 f604 f604 f604 f604 f604 f604 f604 f604 f604 f604 f604 f604 f604 f604 f604 f604 f604 f604 f604 f604 f604 f604 f604 f604 f604 f604 f604 f604 f604 f604 f604 f604 f604 f604 f604 f604 f604 f604 f604 f604 f604 f604 f604 f604 f604 f611 f611 f611 f611 f611 f611 f611 f611 f611 f611 f611 f611 f611 f611 f611 f611 f611 f611 f611 f611 f611 f611 f611 f611 f611 f611 f611 f611 f611 f611 f611 f611 f611 f611 f611 f611 f611 f611 f611 f611 f611 f611 f611 f611 f611 f611 f611 f611 f611 f611 f611 f611 f611 f611 f611 f611 f611 f611 f611 f611 f611 f611 f611 f611 f611 f611 f611 f611 f611 f611 f611 f611 f611 f611 f611 f611 f611 f611 f611 f611 f611 f611 f611 f611 f611 f611 f611 f611 f611 f611 f611 f611 f611 f611 f611 f611 f611 f611 f611 f611 f611 f611 f611 f611 f611 f611 f611 f611 f611 f611 f611 f611 f611 f611 f611 f611 f611 f611 f611 f611 f611 f611 f611 f611 f611 f611 f611 f611 f611 f611 f611 f611 f611 f611 f611 f611 f611 f611 f611 f611 f611 f611 f611 f611 f611 f611 f611 f611 f611 f611 f611 f611 f611 f611 f611 f611 f611 f611 f611 f611 f611 f611 f611 f611 f611 f611 f611 f611 f611 f611 f611 f611 f611 f611 f611 f611 f611 f611 f611 f611 f611 f611 f611 f611 f611 f611 f611 f611 f611 f611 f611 f611 f611 f611 f611 f611 f611 f611 f611 f611 f611 f611 f611 f611 f611 f611 f611 f611 f611 f611 f611 f611 f611 f611 f611 f611 f611 f611 f611 f611 f611 f611 f611 f611 f611 f611 f611 f614 f614 f614 f614 f614 f614 f614 f614 f614 f614 f614 f614 f614 f614 f614 f614 f614 f614 f614 f614 f614 f614 f614 f614 f614 f614 f614 f614 f614 f614 f614 f614 f614 f614 f614 f614 f614 f614 f614 f614 f614 f614 f614 f614 f614 f614 f614 f614 f614 f614 f614 f614 f614 f614 f614 f614 f614 f614 f614 f614 f614 f614 f614 f614 f614 f614 f614 f614 f614 f614 f614 f614 f614 f614 f614 f614 f614 f614 f614 f614 f614 f614 f614 f614 f614 f614 f614 f614 f614 f614 f614 f614 f614 f614 f614 f614 f614 f614 f614 f614 f614 f614 f614 f614 f614 f614 f614 f614 f614 f614 f614 f614 f614 f614 f614 f614 f614 f614 f614 f614 f614 f614 f614 f614 f614 f614 f614 f614 f614 f614 f614 f614 f614 f614 f614 f614 f614 f614 f614 f614 f614 f614 f614 f614 f614 f614 f614 f614 f614 f614 f614 f614 f614 f614 f614 f614 f614 f614 f614 f614 f614 f614 f614 f614 f614 f614 f614 f614 f614 f614 f614 f614 f614 f614 f614 f614 f614 f614 f614 f614 f614 f614 f614 f614 f614 f614 f614 f614 f614 f614 f614 f614 f614 f614 f614 f614 f614 f614 f614 f614 f614 f614 f614 f614 f614 f614 f614 f614 f614 f614 f614 f614 f614 f614 f614 f614 f614 f614 f614 f614 f614 f614 f614 f614 f614 f614 f614 f614 f614 f614 f614 f614 f614 f614 f614 f614 f614 f614 f614 f614 f614 f620 f620 f620 f620 f620 f620 f620 f620 f620 f620 f620 f620 f620 f620 f620 f620 f620 f620 f620 f620 f620 f620 f620 f620 f620 f620 f620 f620 f620 f620 f620 f620 f620 f620 f620 f620 f620 f620 f620 f620 f620 f620 f632 f632 f632 f632 f632 f632 f632 f632 f632 f632 f632 f632 f632 f632 f632 f632 f632 f632 f632 f632 f632 f632 f632 f632 f632 f632 f632 f632 f632 f632 f632 f632 f632 f632 f632 f632 f632 f632 f632 f632 f632 f632 f632 f632 f632 f632 f632 f632 f632 f632 f632 f632 f632 f632 f632 f632 f632 f632 f632 f632 f632 f632 f632 f632 f632 f632 f632 f632 f632 f632 f632 f632 f632 f632 f632 f632 f632 f632 f632 f632 f632 f632 f632 f632 f632 f632 f632 f632 f632 f632 f632 f632 f632 f632 f632 f632 f632 f632 f632 f632 f632 f632 f632 f632 f632 f632 f632 f632 f632 f632 f632 f632 f632 f632 f632 f632 f632 f632 f632 f632 f632 f632 f632 f632 f632 f632 f632 f632 f632 f632 f632 f632 f632 f632 f632 f632 f632 f632 f632 f632 f632 f632 f632 f632 f632 f632 f632 f632 f632 f632 f632 f632 f632 f632 f632 f632 f632 f632 f632 f632 f632 f632 f632 f632 f633 f633 f633 f633 f633 f633 f633 f633 f633 f633 f633 f633 f633 f633 f633 f633 f633 f633 f633 f633 f633 f633 f633 f633 f633 f633 f633 f633 f633 f633 f633 f633 f633 f633 f633 f633 f633 f633 f633 f633 f633 f633 f633 f633 f633 f633 f633 f633 f633 f633 f633 f633 f633 f633 f633 f633 f633 f633 f633 f633 f633 f633 f633 f633 f633 f633 f633 f633 f633 f633 f633 f633 f633 f633 f633 f633 f633 f633 f633 f633 f633 f633 f633 f633 f633 f633 f633 f633 f633 f633 f633 f633 f633 f633 f633 f633 f633 f633 f633 f633 f633 f633 f633 f633 f633 f633 f633 f633 f633 f633 f633 f633 f633 f633 f633 f633 f633 f633 f633 f633 f633 f633 f633 f633 f633 f633 f633 f633 f633 f633 f633 f633 f633 f633 f633 f633 f633 f633 f633 f633 f633 f633 f633 f633 f633 f633 f636 f636 f636 f636 f636 f636 f636 f636 f636 f636 f636 f636 f636 f636 f636 f636 f636 f636 f636 f636 f636 f636 f636 f636 f636 f636 f636 f636 f636 f636 f636 f636 f636 f636 f636 f636 f636 f636 f636 f636 f636 f636 f636 f636 f636 f636 f636 f636 f636 f636 f636 f636 f636 f636 f636 f636 f636 f636 f636 f636 f636 f636 f636 f636 f636 f636 f636 f636 f636 f636 f636 f636 f636 f636 f636 f636 f636 f636 f636 f636 f636 f636 f636 f636 f636 f636 f636 f636 f636 f636 f636 f636 f636 f636 f636 f636 f636 f636 f636 f636 f636 f636 f636 f636 f636 f636 f636 f636 f636 f636 f636 f636 f636 f636 f636 f636 f636 f636 f636 f636 f636 f636 f636 f636 f636 f636 f636 f636 f636 f636 f636 f636 f636 f636 f636 f636 f636 f636 f636 f636 f636 f636 f636 f636 f636 f637 f637 f637 f637 f637 f637 f637 f637 f637 f637 f637 f637 f637 f637 f637 f637 f637 f637 f637 f637 f637 f637 f637 f637 f637 f637 f637 f637 f637 f637 f640 f640 f640 f640 f640 f640 f640 f640 f640 f640 f640 f640 f640 f640 f640 f640 f640 f640 f640 f640 f640 f640 f640 f640 f640 f640 f640 f640 f640 f640 f640 f640 f640 f640 f640 f640 f640 f640 f640 f640 f640 f640 f640 f640 f640 f640 f640 f640 f640 f640 f640 f640 f640 f640 f640 f640 f640 f640 f640 f640 f640 f640 f640 f640 f642 f642 f642 f642 f642 f642 f642 f642 f642 f642 f642 f642 f642 f642 f642 f642 f642 f642 f642 f642 f642 f642 f642 f642 f642 f642 f642 f642 f642 f642 f642 f642 f642 f642 f642 f642 f642 f642 f642 f642 f642 f647 f647 f647 f647 f647 f647 f647 f647 f647 f647 f647 f647 f647 f647 f647 f647 f647 f647 f647 f647 f647 f647 f647 f647 f647 f647 f647 f647 f647 f647 f647 f647 f647 f647 f647 f647 f647 f647 f647 f647 f647 f647 f647 f647 f647 f647 f647 f647 f647 f647 f647 f647 f647 f647 f647 f647 f647 f647 f647 f647 f647 f647 f647 f647 f647 f647 f647 f647 f647 f647 f647 f647 f647 f647 f647 f647 f647 f647 f647 f647 f647 f647 f647 f647 f647 f647 f647 f647 f647 f647 f647 f647 f647 f647 f647 f647 f647 f647 f647 f647 f647 f647 f647 f647 f647 f647 f647 f650 f650 f650 f650 f650 f650 f650 f650 f650 f650 f650 f650 f650 f650 f650 f650 f650 f650 f650 f650 f650 f650 f654 f654 f654 f654 f654 f654 f654 f654 f654 f654 f654 f654 f654 f654 f654 f654 f654 f654 f654 f654 f654 f654 f654 f654 f654 f654 f654 f654 f654 f654 f654 f654 f654 f654 f654 f654 f654 f654 f654 f654 f654 f654 f654 f654 f654 f654 f654 f654 f654 f654 f654 f654 f654 f654 f654 f654 f654 f654 f654 f654 f654 f654 f654 f654 f654 f654 f654 f654 f654 f654 f654 f654 f654 f654 f654 f654 f654 f654 f654 f654 f654 f654 f654 f654 f654 f654 f654 f654 f654 f654 f654 f654 f654 f654 f654 f654 f654 f654 f654 f654 f654 f654 f654 f654 f654 f654 f654 f654 f654 f654 f654 f654 f654 f654 f654 f654 f654 f654 f654 f654 f654 f654 f654 f654 f654 f654 f654 f654 f654 f654 f654 f654 f654 f654 f654 f654 f654 f654 f654 f654 f654 f654 f654 f654 f654 f654 f654 f654 f654 f654 f654 f654 f654 f654 f654 f654 f654 f654 f654 f654 f654 f654 f654 f654 f654 f654 f654 f654 f654 f654 f654 f654 f654 f654 f654 f654 f654 f654 f654 f654 f654 f654 f654 f654 f654 f654 f654 f654 f654 f654 f654 f654 f654 f654 f654 f654 f654 f654 f654 f654 f654 f654 f654 f654 f654 f654 f654 f654 f654 f654 f654 f654 f654 f654 f654 f654 f654 f654 f654 f654 f654 f654 f654 f654 f654 f654 f654 f654 f654 f654 f654 f654 f654 f654 f654 f654 f654 f654 f654 f654 f654 f654 f654 f654 f654 f654 f654 f654 f654 f660 f660 f660 f660 f660 f660 f660 f660 f660 f660 f660 f660 f660 f660 f660 f660 f660 f660 f660 f660 f660 f660 f660 f660 f660 f660 f660 f660 f660 f660 f660 f660 f660 f660 f660 f660 f660 f660 f660 f660 f660 f660 f660 f660 f660 f660 f660 f660 f660 f660 f660 f660 f660 f660 f660 f660 f660 f660 f660 f660 f660 f660 f660 f660 f660 f660 f660 f660 f660 f660 f660 f660 f660 f660 f660 f660 f660 f660 f660 f660 f660 f660 f660 f660 f660 f660 f660 f660 f660 f660 f660 f660 f660 f660 f660 f660 f660 f660 f660 f660 f660 f660 f660 f660 f660 f660 f660 f660 f660 f660 f660 f660 f660 f660 f660 f660 f660 f660 f660 f660 f660 f660 f660 f660 f660 f660 f660 f660 f660 f660 f660 f660 f660 f660 f660 f660 f660 f660 f660 f660 f660 f665 f665 f665 f665 f665 f665 f665 f665 f665 f665 f665 f665 f665 f665 f665 f665 f665 f665 f665 f665 f665 f665 f665 f665 f665 f665 f665 f665 f665 f665 f665 f665 f665 f665 f665 f665 f665 f665 f665 f665 f665 f665 f665 f665 f665 f665 f665 f665 f665 f665 f665 f665 f665 f665 f665 f665 f665 f665 f665 f665 f665 f665 f665 f665 f665 f665 f665 f665 f665 f665 f665 f665 f665 f665 f665 f665 f665 f665 f665 f665 f665 f665 f665 f665 f665 f665 f665 f665 f665 f665 f665 f665 f665 f665 f665 f665 f665 f665 f665 f665 f665 f665 f665 f665 f665 f665 f665 f665 f665 f665 f665 f665 f665 f665 f665 f665 f665 f665 f665 f665 f665 f665 f665 f665 f665 f665 f665 f665 f665 f665 f665 f665 f665 f665 f665 f665 f665 f665 f665 f665 f665 f665 f665 f665 f665 f665 f665 f665 f665 f665 f665 f665 f665 f665 f665 f665 f665 f665 f665 f665 f665 f665 f665 f665 f665 f665 f665 f665 f665 f665 f665 f665 f665 f665 f665 f665 f665 f665 f665 f665 f665 f665 f665 f665 f665 f665 f665 f665 f665 f665 f665 f665 f665 f665 f665 f665 f665 f665 f665 f665 f665 f665 f665 f665 f665 f665 f665 f665 f665 f665 f665 f665 f665 f665 f665 f665 f665 f665 f665 f665 f665 f665 f665 f665 f665 f665 f665 f665 f665 f665 f665 f665 f665 f665 f667 f667 f667 f667 f667 f667 f667 f667 f667 f667 f667 f667 f667 f667 f667 f667 f667 f667 f667 f667 f667 f667 f667 f667 f667 f667 f667 f667 f667 f667 f667 f667 f667 f667 f667 f667 f667 f667 f667 f667 f667 f667 f667 f667 f667 f667 f667 f667 f667 f667 f667 f667 f667 f667 f667 f667 f667 f667 f667 f667 f667 f667 f667 f667 f667 f667 f667 f667 f667 f667 f667 f667 f667 f667 f667 f667 f667 f667 f667 f667 f667 f667 f667 f667 f667 f667 f667 f667 f667 f667 f667 f667 f667 f667 f667 f667 f667 f667 f667 f667 f667 f667 f667 f667 f667 f667 f667 f667 f667 f667 f667 f667 f667 f667 f667 f667 f667 f667 f667 f667 f667 f667 f667 f667 f667 f667 f667 f667 f667 f667 f667 f667 f667 f667 f667 f667 f667 f667 f667 f667 f667 f667 f667 f667 f667 f667 f667 f667 f667 f667 f667 f667 f667 f667 f667 f667 f667 f667 f667 f667 f667 f667 f667 f667 f667 f667 f667 f674 f674 f674 f674 f674 f674 f674 f674 f674 f674 f674 f674 f674 f674 f674 f674 f674 f674 f674 f674 f674 f674 f674 f674 f674 f674 f674 f674 f674 f674 f674 f674 f674 f674 f674 f674 f674 f674 f674 f674 f674 f674 f674 f674 f674 f674 f674 f674 f674 f674 f674 f674 f674 f674 f674 f674 f674 f674 f674 f674 f674 f674 f674 f674 f674 f674 f674 f674 f674 f674 f674 f674 f674 f674 f674 f674 f674 f674 f674 f674 f674 f674 f674 f674 f674 f674 f674 f674 f674 f674 f674 f674 f674 f674 f674 f674 f674 f674 f674 f674 f674 f674 f674 f674 f674 f674 f674 f674 f674 f674 f674 f674 f674 f674 f674 f674 f674 f674 f674 f674 f674 f674 f674 f674 f674 f674 f674 f674 f674 f674 f674 f674 f674 f674 f674 f674 f674 f674 f674 f674 f674 f674 f674 f674 f674 f674 f674 f674 f674 f674 f674 f674 f674 f674 f674 f674 f674 f674 f674 f674 f674 f674 f674 f674 f674 f674 f674 f674 f674 f674 f674 f674 f674 f674 f674 f674 f674 f674 f674 f674 f674 f674 f674 f674 f674 f674 f674 f674 f674 f674 f674 f674 f674 f674 f674 f674 f674 f674 f674 f674 f674 f674 f674 f674 f674 f674 f679 f679 f679 f679 f679 f679 f679 f679 f679 f679 f679 f679 f679 f679 f679 f679 f679 f679 f679 f679 f679 f679 f679 f679 f679 f679 f679 f679 f679 f679 f679 f679 f679 f679 f679 f679 f679 f679 f679 f679 f679 f679 f679 f679 f679 f679 f679 f679 f679 f679 f679 f679 f679 f679 f679 f679 f679 f679 f679 f679 f679 f679 f679 f679 f679 f679 f679 f679 f679 f679 f679 f679 f679 f679 f679 f679 f679 f679 f679 f679 f679 f679 f679 f679 f679 f679 f679 f679 f679 f679 f679 f679 f679 f679 f679 f679 f679 f679 f679 f679 f679 f679 f679 f679 f679 f679 f679 f679 f679 f679 f679 f679 f679 f679 f679 f679 f679 f679 f679 f679 f679 f679 f679 f679 f679 f679 f679 f679 f679 f679 f679 f679 f679 f679 f679 f679 f679 f679 f679 f679 f679 f679 f679 f679 f679 f679 f679 f679 f679 f679 f679 f679 f679 f679 f679 f679 f679 f679 f679 f679 f679 f679 f679 f679 f679 f679 f679 f679 f679 f679 f679 f679 f679 f679 f679 f679 f679 f679 f679 f679 f679 f679 f679 f679 f679 f679 f679 f679 f679 f679 f684 f684 f684 f684 f684 f684 f684 f684 f684 f684 f684 f684 f684 f684 f684 f684 f684 f684 f684 f684 f684 f684 f684 f684 f684 f684 f684 f684 f684 f684 f684 f684 f684 f684 f684 f684 f684 f684 f684 f684 f684 f684 f684 f684 f684 f684 f684 f684 f684 f684 f684 f684 f684 f684 f684 f684 f684 f684 f684 f684 f684 f684 f684 f684 f684 f684 f684 f684 f684 f684 f684 f684 f684 f684 f684 f684 f684 f684 f684 f684 f684 f684 f684 f685 f685 f685 f685 f685 f685 f685 f685 f685 f685 f685 f685 f685 f685 f685 f685 f685 f685 f685 f685 f685 f685 f685 f685 f685 f685 f685 f685 f685 f685 f685 f685 f685 f685 f685 f685 f685 f685 f685 f685 f685 f685 f685 f685 f685 f685 f685 f685 f685 f685 f685 f685 f685 f685 f685 f685 f685 f685 f685 f685 f685 f685 f685 f685 f685 f685 f685 f685 f685 f685 f685 f685 f685 f685 f685 f685 f685 f685 f685 f685 f685 f685 f685 f685 f685 f685 f685 f685 f685 f685 f685 f685 f685 f685 f685 f685 f685 f685 f685 f685 f685 f685 f685 f685 f685 f685 f685 f685 f685 f685 f685 f685 f685 f685 f685 f685 f685 f685 f685 f685 f685 f685 f685 f685 f685 f685 f685 f685 f685 f685 f685 f685 f685 f685 f685 f685 f685 f685 f685 f685 f685 f685 f685 f685 f685 f685 f685 f685 f685 f685 f685 f685 f685 f685 f685 f685 f685 f685 f685 f685 f685 f685 f685 f685 f685 f685 f685 f685 f685 f685 f685 f685 f685 f685 f685 f685 f685 f685 f685 f685 f685 f685 f685 f685 f685 f685 f685 f685 f685 f685 f685 f685 f685 f685 f685 f685 f685 f685 f685 f685 f685 f686 f686 f686 f686 f686 f686 f686 f686 f686 f686 f686 f686 f686 f686 f686 f686 f686 f686 f686 f686 f686 f686 f686 f686 f686 f686 f686 f686 f686 f686 f686 f686 f686 f686 f686 f686 f686 f686 f686 f686 f686 f686 f686 f686 f686 f686 f686 f686 f686 f686 f686 f686 f686 f686 f686 f686 f686 f686 f686 f686 f686 f686 f686 f686 f686 f686 f686 f686 f686 f686 f686 f686 f686 f686 f686 f686 f686 f686 f686 f686 f686 f686 f686 f686 f686 f686 f686 f686 f686 f686 f686 f686 f686 f686 f686 f686 f686 f686 f686 f686 f686 f686 f686 f686 f686 f686 f686 f686 f686 f686 f686 f686 f686 f686 f686 f686 f686 f686 f686 f686 f686 f686 f686 f686 f686 f686 f686 f686 f686 f686 f686 f686 f686 f686 f686 f686 f686 f686 f686 f686 f686 f686 f686 f686 f686 f686 f686 f686 f686 f686 f686 f686 f686 f686 f686 f686 f686 f686 f686 f686 f686 f686 f686 f686 f686 f686 f686 f686 f686 f686 f686 f686 f686 f686 f686 f686 f686 f686 f686 f686 f686 f686 f686 f686 f686 f686 f686 f686 f686 f686 f686 f686 f686 f686 f686 f686 f686 f686 f686 f686 f686 f686 f686 f686 f686 f689 f689 f689 f689 f689 f689 f689 f689 f689 f689 f689 f689 f689 f689 f689 f689 f689 f689 f689 f689 f689 f689 f689 f689 f689 f689 f689 f689 f689 f689 f689 f689 f689 f689 f689 f689 f689 f689 f689 f689 f689 f689 f689 f689 f689 f689 f689 f689 f689 f689 f689 f689 f689 f689 f689 f689 f689 f689 f689 f689 f689 f689 f689 f689 f689 f689 f689 f689 f689 f689 f689 f689 f689 f689 f689 f689 f689 f689 f689 f689 f689 f689 f689 f689 f689 f689 f689 f689 f689 f689 f689 f689 f689 f689 f689 f689 f689 f689 f689 f689 f689 f689 f692 f692 f692 f692 f692 f692 f692 f692 f692 f692 f692 f692 f692 f692 f692 f692 f692 f692 f692 f692 f692 f692 f692 f692 f692 f692 f692 f692 f692 f692 f692 f692 f692 f692 f692 f692 f692 f692 f692 f692 f692 f692 f692 f692 f692 f692 f692 f692 f692 f692 f692 f692 f692 f692 f692 f692 f692 f692 f692 f692 f692 f692 f692 f692 f692 f692 f692 f692 f692 f692 f692 f692 f692 f692 f692 f692 f692 f692 f692 f692 f692 f692 f692 f692 f692 f692 f692 f692 f692 f692 f692 f692 f692 f692 f692 f692 f692 f692 f692 f692 f692 f692 f692 f692 f692 f692 f692 f692 f692 f692 f692 f692 f692 f692 f692 f692 f692 f692 f692 f692 f692 f692 f692 f692 f692 f692 f692 f692 f692 f692 f692 f692 f692 f692 f692 f692 f692 f692 f692 f692 f692 f692 f692 f692 f692 f692 f692 f692 f692 f692 f692 f692 f692 f692 f692 f692 f692 f692 f692 f692 f692 f692 f692 f692 f692 f692 f692 f692 f692 f692 f692 f692 f692 f692 f692 f693 f693 f693 f693 f693 f693 f693 f693 f693 f693 f693 f693 f693 f693 f693 f693 f693 f693 f693 f693 f693 f693 f693 f693 f693 f693 f693 f693 f693 f693 f693 f693 f693 f693 f693 f693 f693 f693 f693 f693 f693 f693 f693 f693 f693 f693 f693 f693 f693 f693 f693 f693 f693 f693 f693 f693 f693 f693 f693 f693 f693 f693 f693 f693 f693 f693 f693 f693 f693 f693 f693 f693 f693 f693 f693 f693 f693 f693 f693 f693 f693 f693 f693 f693 f693 f693 f693 f693 f693 f693 f693 f693 f693 f693 f693 f693 f693 f693 f693 f693 f693 f693 f693 f693 f693 f693 f693 f693 f693 f693 f693 f693 f693 f693 f693 f693 f693 f693 f693 f693 f693 f693 f693 f693 f693 f693 f693 f693 f693 f693 f693 f699 f699 f699 f699 f699 f699 f699 f699 f699 f699 f699 f699 f699 f699 f699 f699 f699 f699 f699 f699 f699 f699 f699 f699 f699 f699 f699 f699 f699 f699 f699 f699 f699 f699 f699 f699 f699 f699 f699 f699 f699 f699 f699 f699 f699 f699 f699 f699 f699 f699 f699 f699 f699 f699 f699 f699 f699 f699 f699 f699 f699 f699 f699 f699 f699 f699 f699 f699 f699 f699 f699 f699 f699 f699 f699 f699 f699 f699 f699 f699 f699 f699 f699 f699 f699 f699 f699 f699 f699 f699 f699 f699 f699 f699 f699 f699 f699 f699 f699 f699 f699 f699 f699 f699 f699 f699 f699 f699 f699 f699 f699 f699 f699 f699 f699 f699 f699 f699 f699 f699 f699 f699 f699 f699 f699 f699 f699 f699 f699 f699 f699 f699 f699 f699 f699 f699 f699 f699 f699 f699 f699 f699 f699 f699 f699 f699 f699 f699 f699 f699 f699 f699 f699 f699 f699 f699 f699 f699 f699 f699 f699 f699 f699 f699 f699 f699 f699 f699 f699 f699 f699 f699 f699 f699 f699 f699 f699 f699 f699 f699 f699 f699 f699 f699 f699 f699 f699 f699 f699 f699 f699 f699 f699 f699 f699 f699 f699 f699 f699 f699 f699 f699 f699 f699 f699 f699 f699 f699 f699 f699 f699 f699 f699 f699 f699 f699 f699 f699 f699 f699 f699 f699 f699 f700 f700 f700 f700 f700 f700 f700 f700 f700 f700 f700 f700 f700 f700 f700 f700 f700 f700 f700 f700 f700 f700 f700 f700 f700 f700 f700 f700 f700 f700 f700 f700 f700 f700 f700 f700 f700 f700 f700 f700 f700 f700 f700 f700 f700 f700 f700 f700 f700 f700 f700 f700 f700 f700 f700 f700 f700 f700 f700 f700 f700 f700 f700 f700 f700 f700 f700 f700 f700 f700 f700 f700 f700 f700 f700 f700 f700 f700 f700 f700 f700 f700 f700 f700 f700 f700 f700 f700 f700 f700 f700 f700 f700 f700 f700 f700 f700 f700 f700 f700 f700 f700 f700 f700 f700 f700 f700 f700 f700 f700 f700 f700 f700 f700 f700 f700 f700 f700 f700 f700 f700 f700 f700 f700 f700 f700 f700 f700 f700 f700 f700 f700 f700 f700 f700 f700 f700 f700 f700 f700 f700 f700 f700 f700 f700 f700 f700 f700 f700 f700 f700 f700 f700 f700 f700 f700 f700 f700 f700 f700 f700 f700 f700 f700 f700 f700 f700 f700 f700 f700 f700 f700 f700 f700 f700 f700 f700 f700 f700 f700 f700 f700 f700 f700 f700 f700 f700 f700 f700 f700 f700 f700 f700 f700 f700 f700 f700 f700 f700 f700 f700 f700 f700 f700 f700 f700 f700 f700 f700 f700 f700 f700 f700 f700 f700 f700 f700 f700 f700 f700 f700 f700 f700 f700 f700 f700 f700 f700 f700 f700 f700 f700 f700 f705 f705 f705 f705 f705 f705 f705 f705 f705 f705 f705 f705 f705 f705 f705 f705 f705 f705 f705 f705 f705 f705 f705 f705 f705 f705 f705 f705 f705 f705 f705 f705 f705 f705 f705 f705 f705 f705 f705 f705 f705 f705 f705 f705 f705 f705 f705 f705 f705 f705 f705 f705 f705 f705 f705 f705 f705 f705 f705 f705 f705 f705 f705 f705 f705 f705 f705 f705 f705 f705 f705 f705 f705 f705 f705 f705 f705 f705 f705 f705 f705 f705 f705 f705 f705 f705 f705 f705 f705 f705 f705 f705 f705 f705 f705 f705 f705 f705 f705 f705 f705 f705 f705 f705 f705 f705 f705 f705 f705 f705 f705 f705 f705 f705 f705 f705 f705 f705 f705 f705 f705 f705 f705 f705 f705 f705 f705 f705 f705 f705 f705 f705 f705 f705 f705 f705 f705 f705 f705 f705 f705 f705 f705 f705 f705 f705 f705 f705 f705 f705 f705 f705 f705 f705 f705 f705 f705 f705 f705 f705 f705 f705 f705 f705 f705 f707 f707 f707 f707 f707 f707 f707 f707 f707 f707 f707 f707 f707 f707 f707 f707 f707 f707 f707 f707 f707 f707 f707 f707 f707 f707 f707 f707 f707 f707 f707 f707 f707 f707 f707 f707 f707 f707 f707 f707 f707 f707 f707 f707 f707 f707 f707 f707 f707 f707 f718 f718 f718 f718 f718 f718 f718 f718 f718 f718 f718 f718 f718 f718 f718 f718 f718 f718 f718 f718 f718 f718 f718 f718 f718 f719 f719 f719 f719 f719 f719 f719 f719 f719 f719 f719 f719 f719 f719 f719 f719 f719 f719 f719 f719 f719 f719 f719 f719 f719 f719 f719 f719 f719 f719 f719 f719 f719 f719 f719 f719 f719 f719 f719 f719 f719 f719 f719 f719 f719 f719 f719 f719 f719 f719 f719 f719 f719 f719 f719 f719 f719 f719 f719 f719 f719 f719 f719 f719 f719 f719 f719 f719 f719 f719 f719 f719 f719 f719 f719 f719 f719 f719 f719 f719 f719 f719 f719 f719 f719 f719 f719 f719 f719 f719 f719 f719 f719 f719 f719 f719 f719 f719 f719 f719 f719 f719 f719 f719 f719 f719 f719 f719 f719 f719 f719 f719 f719 f719 f719 f719 f719 f719 f719 f719 f719 f719 f719 f719 f719 f719 f719 f719 f719 f719 f719 f719 f719 f719 f719 f719 f719 f719 f719 f719 f719 f719 f719 f719 f719 f719 f719 f719 f719 f719 f719 f719 f719 f719 f719 f719 f719 f721 f721 f721 f721 f721 f721 f721 f721 f721 f721 f721 f721 f721 f721 f721 f721 f721 f721 f721 f721 f721 f721 f721 f721 f721 f721 f721 f721 f721 f721 f721 f721 f721 f723 f723 f723 f723 f723 f723 f723 f723 f723 f723 f723 f723 f723 f723 f723 f723 f723 f723 f723 f723 f723 f723 f723 f723 f723 f723 f723 f723 f723 f723 f723 f723 f723 f723 f723 f723 f723 f723 f723 f723 f723 f723 f723 f723 f723 f723 f723 f723 f723 f723 f723 f723 f723 f723 f723 f723 f723 f723 f723 f723 f723 f723 f724 f724 f724 f724 f724 f724 f724 f724 f724 f724 f724 f724 f724 f724 f724 f724 f724 f724 f724 f724 f724 f724 f724 f724 f724 f724 f724 f724 f724 f724 f724 f724 f724 f724 f724 f724 f724 f724 f724 f724 f724 f724 f724 f724 f724 f724 f724 f724 f724 f724 f724 f724 f724 f724 f724 f724 f724 f724 f724 f724 f724 f724 f724 f724 f724 f724 f724 f724 f724 f724 f724 f724 f724 f724 f724 f724 f724 f724 f724 f724 f724 f724 f724 f724 f724 f724 f724 f724 f724 f724 f724 f724 f724 f724 f724 f730 f730 f730 f730 f730 f730 f730 f730 f730 f730 f730 f730 f730 f730 f730 f730 f730 f730 f730 f730 f730 f730 f730 f730 f730 f730 f730 f730 f730 f730 f730 f730 f730 f730 f730 f730 f730 f730 f730 f730 f730 f730 f730 f730 f730 f730 f730 f730 f730 f730 f730 f730 f730 f730 f730 f730 f730 f730 f730 f730 f730 f730 f730 f730 f730 f730 f730 f730 f730 f730 f730 f730 f730 f730 f730 f730 f730 f730 f730 f730 f730 f730 f730 f730 f730 f730 f730 f730 f730 f730 f730 f730 f730 f730 f730 f730 f730 f730 f730 f730 f730 f730 f730 f730 f730 f730 f730 f730 f730 f730 f730 f730 f730 f730 f730 f730 f730 f730 f730 f730 f730 f730 f730 f730 f730 f730 f730 f730 f730 f730 f730 f730 f730 f730 f730 f730 f730 f730 f730 f730 f730 f730 f730 f730 f730 f730 f730 f730 f730 f730 f730 f730 f730 f730 f730 f730 f730 f730 f730 f730 f730 f730 f730 f730 f730 f730 f730 f730 f730 f730 f730 f730 f730 f730 f730 f730 f730 f730 f730 f730 f730 f730 f730 f730 f730 f730 f730 f730 f730 f730 f730 f730 f730 f730 f730 f730 f730 f730 f730 f730 f730 f730 f730 f730 f730 f730 f730 f730 f730 f730 f730 f730 f730 f730 f730 f730 f730 f730 f730 f730 f730 f730 f730 f730 f730 f730 f730 f730 f730 f730 f730 f730 f730 f730 f730 f730 f730 f730 f730 f730 f735 f735 f735 f735 f735 f735 f735 f735 f735 f735 f735 f735 f735 f735 f735 f735 f735 f735 f735 f735 f735 f735 f735 f735 f735 f735 f735 f735 f735 f735 f735 f735 f735 f735 f735 f735 f735 f735 f735 f735 f735 f735 f735 f735 f735 f735 f735 f735 f735 f735 f735 f735 f735 f735 f735 f735 f735 f735 f735 f735 f735 f735 f735 f735 f735 f735 f735 f735 f735 f735 f735 f735 f735 f735 f735 f735 f735 f735 f735 f735 f735 f735 f735 f735 f735 f735 f735 f735 f735 f735 f735 f735 f735 f735 f735 f735 f735 f735 f735 f735 f735 f735 f735 f735 f735 f735 f735 f735 f735 f735 f735 f735 f735 f735 f735 f735 f735 f735 f735 f735 f735 f735 f735 f735 f735 f735 f735 f735 f735 f735 f735 f735 f735 f735 f735 f735 f735 f735 f735 f735 f735 f735 f735 f735 f735 f735 f735 f735 f735 f735 f735 f735 f735 f735 f735 f735 f735 f735 f735 f735 f735 f735 f735 f735 f735 f735 f735 f735 f735 f735 f735 f735 f735 f735 f735 f735 f735 f735 f735 f735 f735 f735 f735 f735 f735 f735 f735 f735 f735 f735 f735 f735 f735 f735 f735 f735 f735 f735 f735 f735 f735 f735 f735 f735 f735 f735 f735 f735 f735 f735 f735 f737 f737 f737 f737 f737 f737 f737 f737 f737 f737 f737 f737 f737 f737 f737 f737 f737 f737 f737 f737 f737 f737 f737 f737 f737 f737 f737 f737 f737 f737 f737 f737 f737 f737 f737 f737 f737 f737 f737 f737 f737 f737 f737 f737 f737 f737 f737 f737 f737 f737 f737 f737 f737 f737 f737 f737 f737 f737 f737 f737 f737 f737 f737 f737 f737 f737 f737 f737 f737 f737 f737 f737 f743 f743 f743 f743 f743 f743 f743 f743 f743 f743 f743 f743 f743 f743 f743 f743 f743 f743 f743 f743 f743 f743 f743 f743 f743 f743 f743 f744 f744 f744 f744 f744 f744 f744 f744 f744 f744 f744 f744 f744 f744 f744 f744 f744 f744 f744 f744 f744 f744 f744 f744 f744 f744 f744 f744 f744 f744 f744 f744 f744 f744 f744 f744 f744 f744 f744 f744 f744 f744 f744 f744 f744 f744 f744 f744 f744 f744 f744 f744 f744 f744 f744 f744 f744 f744 f744 f744 f744 f744 f744 f744 f744 f744 f744 f744 f744 f744 f744 f744 f744 f744 f744 f744 f744 f744 f744 f744 f744 f744 f744 f744 f744 f744 f744 f744 f744 f744 f744 f744 f744 f744 f744 f744 f744 f744 f744 f744 f744 f744 f744 f744 f744 f747 f747 f747 f747 f747 f747 f747 f747 f747 f747 f747 f747 f747 f747 f747 f747 f747 f747 f747 f747 f747 f747 f747 f747 f747 f747 f747 f747 f747 f747 f747 f747 f747 f747 f747 f747 f747 f747 f747 f747 f747 f747 f747 f747 f747 f747 f747 f747 f747 f747 f747 f747 f747 f747 f747 f747 f747 f747 f747 f747 f747 f747 f747 f747 f747 f747 f747 f747 f747 f747 f747 f747 f747 f747 f747 f747 f747 f747 f747 f747 f747 f747 f747 f747 f747 f747 f747 f747 f747 f747 f747 f747 f747 f747 f747 f747 f747 f747 f747 f747 f747 f747 f747 f747 f747 f747 f747 f747 f747 f747 f747 f747 f747 f747 f747 f747 f747 f747 f747 f747 f747 f747 f747 f747 f747 f747 f747 f747 f747 f747 f747 f747 f747 f747 f747 f747 f747 f747 f747 f747 f747 f747 f747 f747 f747 f747 f747 f747 f747 f747 f747 f747 f747 f747 f747 f747 f747 f747 f747 f747 f747 f747 f747 f747 f747 f747 f747 f747 f747 f747 f747 f747 f747 f747 f747 f747 f747 f747 f747 f747 f747 f747 f747 f747 f747 f747 f747 f747 f747 f747 f747 f747 f747 f747 f747 f747 f747 f747 f747 f747 f747 f747 f748 f748 f748 f748 f748 f748 f748 f748 f748 f748 f748 f748 f748 f748 f748 f748 f748 f748 f748 f748 f748 f748 f748 f748 f748 f748 f748 f748 f748 f748 f748 f748 f748 f748 f748 f748 f748 f748 f748 f748 f748 f748 f748 f748 f748 f748 f748 f748 f748 f748 f748 f748 f748 f748 f748 f748 f748 f748 f748 f748 f748 f748 f748 f748 f748 f748 f748 f748 f748 f748 f748 f748 f748 f748 f748 f748 f748 f748 f748 f748 f748 f748 f748 f748 f748 f748 f748 f748 f748 f748 f748 f748 f748 f748 f748 f748 f748 f748 f748 f748 f748 f748 f748 f748 f748 f748 f748 f748 f748 f748 f748 f748 f748 f748 f748 f748 f748 f748 f748 f748 f748 f748 f748 f748 f748 f748 f748 f748 f748 f748 f748 f748 f748 f748 f748 f748 f748 f748 f748 f748 f748 f748 f748 f748 f748 f748 f748 f748 f748 f748 f748 f748 f748 f748 f748 f748 f748 f748 f748 f748 f748 f748 f748 f748 f748 f748 f748 f748 f748 f748 f748 f748 f748 f748 f748 f748 f748 f748 f748 f748 f748 f748 f748 f748 f748 f748 f748 f748 f748 f748 f748 f748 f749 f749 f749 f749 f749 f749 f749 f749 f749 f749 f749 f749 f749 f749 f749 f749 f749 f749 f749 f749 f749 f749 f749 f749 f749 f749 f749 f749 f749 f749 f749 f749 f749 f749 f749 f749 f749 f749 f749 f749 f749 f749 f749 f749 f749 f749 f749 f749 f749 f749 f749 f749 f749 f749 f749 f749 f749 f749 f749 f749 f749 f749 f749 f749 f749 f749 f749 f749 f749 f749 f749 f749 f749 f749 f749 f749 f749 f749 f749 f749 f749 f749 f749 f749 f749 f749 f749 f749 f749 f749 f749 f749 f749 f749 f749 f749 f749 f749 f749 f749 f749 f749 f749 f749 f749 f749 f749 f749 f749 f749 f749 f749 f749 f749 f749 f749 f749 f749 f749 f749 f749 f749 f749 f749 f749 f749 f749 f749 f749 f749 f749 f749 f749 f749 f749 f749 f749 f749 f749 f749 f749 f749 f749 f749 f749 f749 f749 f749 f749 f749 f749 f749 f749 f749 f749 f749 f749 f749 f749 f749 f749 f749 f749 f749 f749 f749 f749 f749 f749 f749 f749 f749 f749 f749 f754 f754 f754 f754 f754 f754 f754 f754 f754 f754 f754 f754 f754 f754 f754 f754 f754 f754 f754 f754 f754 f754 f754 f754 f754 f754 f754 f754 f754 f754 f754 f754 f754 f754 f754 f754 f754 f754 f754 f754 f754 f754 f754 f754 f754 f754 f754 f754 f754 f754 f754 f754 f754 f754 f754 f754 f754 f754 f754 f754 f754 f754 f754 f754 f754 f754 f754 f754 f754 f754 f754 f755 f755 f755 f755 f755 f755 f755 f755 f755 f755 f755 f755 f755 f755 f755 f755 f755 f755 f755 f755 f755 f755 f755 f755 f755 f755 f755 f755 f755 f755 f755 f755 f755 f755 f755 f755 f755 f755 f755 f755 f755 f755 f755 f755 f755 f755 f755 f755 f755 f755 f755 f755 f755 f755 f755 f755 f755 f755 f755 f755 f755 f755 f755 f755 f755 f755 f755 f755 f755 f755 f755 f755 f755 f755 f755 f755 f755 f755 f755 f755 f755 f755 f755 f755 f755 f755 f755 f755 f755 f755 f755 f755 f755 f755 f755 f755 f755 f755 f755 f755 f755 f755 f755 f755 f755 f755 f755 f755 f755 f755 f755 f755 f755 f755 f755 f755 f755 f755 f755 f755 f755 f755 f755 f755 f755 f755 f755 f755 f755 f755 f755 f755 f755 f755 f755 f755 f755 f755 f755 f755 f755 f755 f755 f755 f755 f755 f755 f755 f755 f755 f755 f755 f755 f755 f755 f755 f755 f755 f755 f755 f755 f755 f755 f755 f755 f755 f755 f755 f755 f755 f755 f755 f755 f755 f755 f755 f755 f755 f755 f755 f755 f755 f755 f755 f755 f755 f755 f755 f755 f755 f755 f756 f756 f756 f756 f756 f756 f756 f756 f756 f756 f756 f756 f756 f756 f756 f756 f756 f756 f756 f756 f756 f756 f756 f756 f756 f756 f756 f756 f756 f756 f756 f756 f756 f756 f756 f756 f756 f756 f756 f756 f756 f756 f756 f756 f756 f756 f756 f756 f756 f756 f756 f756 f756 f756 f756 f756 f756 f756 f756 f756 f756 f756 f756 f756 f756 f756 f756 f756 f756 f756 f756 f756 f756 f756 f756 f756 f756 f756 f756 f756 f756 f756 f756 f756 f756 f756 f756 f756 f756 f756 f762 f762 f762 f762 f762 f762 f762 f762 f762 f762 f762 f762 f762 f762 f762 f762 f762 f762 f762 f762 f762 f762 f762 f762 f762 f762 f762 f762 f762 f762 f762 f762 f762 f762 f762 f762 f762 f762 f762 f762 f765 f765 f765 f765 f765 f765 f765 f765 f765 f765 f765 f765 f765 f765 f765 f765 f765 f765 f765 f765 f765 f765 f765 f765 f765 f765 f765 f765 f765 f765 f765 f765 f765 f765 f765 f765 f765 f765 f765 f765 f765 f765 f765 f765 f765 f765 f765 f765 f765 f765 f765 f765 f765 f765 f765 f765 f765 f765 f765 f765 f765 f765 f765 f765 f765 f765 f765 f765 f765 f765 f765 f765 f765 f765 f765 f765 f765 f765 f765 f765 f765 f765 f765 f765 f765 f765 f765 f765 f765 f765 f765 f765 f765 f765 f765 f765 f765 f765 f765 f765 f765 f765 f765 f765 f765 f765 f765 f765 f765 f765 f765 f765 f765 f765 f765 f765 f765 f765 f765 f765 f765 f765 f765 f765 f765 f765 f765 f765 f765 f765 f765 f765 f765 f765 f765 f765 f765 f765 f765 f765 f765 f765 f765 f765 f765 f765 f765 f765 f765 f765 f765 f765 f765 f765 f765 f765 f765 f765 f765 f765 f765 f765 f765 f765 f765 f765 f765 f765 f765 f765 f765 f765 f765 f765 f765 f765 f765 f765 f765 f765 f765 f765 f765 f765 f765 f765 f765 f765 f765 f765 f765 f765 f765 f765 f765 f765 f765 f765 f765 f765 f765 f765 f765 f765 f765 f765 f765 f765 f765 f765 f765 f765 f765 f765 f765 f765 f765 f765 f765 f765 f765 f765 f765 f765 f765 f765 f765 f765 f765 f765 f765 f765 f767 f767 f767 f767 f767 f767 f767 f767 f767 f767 f767 f767 f767 f767 f767 f767 f767 f767 f767 f767 f767 f767 f767 f767 f767 f767 f767 f767 f767 f767 f767 f767 f767 f767 f767 f767 f767 f767 f767 f767 f767 f767 f767 f767 f767 f767 f767 f767 f767 f767 f767 f767 f767 f767 f767 f767 f767 f767 f767 f767 f767 f767 f767 f767 f767 f767 f767 f767 f767 f767 f767 f767 f767 f767 f767 f767 f767 f767 f767 f767 f767 f767 f767 f767 f767 f767 f767 f767 f767 f767 f767 f767 f767 f767 f767 f767 f767 f767 f767 f767 f767 f767 f767 f767 f767 f767 f767 f767 f767 f767 f767 f767 f767 f767 f767 f767 f767 f767 f767 f767 f767 f767 f767 f767 f767 f767 f767 f767 f767 f767 f768 f768 f768 f768 f768 f768 f768 f768 f768 f768 f768 f768 f768 f768 f768 f768 f768 f768 f768 f768 f768 f768 f768 f768 f768 f768 f768 f768 f768 f768 f768 f768 f768 f768 f768 f768 f768 f768 f768 f768 f768 f768 f768 f768 f768 f768 f772 f772 f772 f772 f772 f772 f772 f772 f772 f772 f772 f772 f772 f772 f772 f772 f772 f772 f772 f772 f772 f772 f772 f772 f772 f772 f772 f772 f772 f772 f772 f772 f772 f772 f772 f772 f772 f772 f772 f772 f772 f772 f772 f772 f772 f772 f772 f772 f772 f772 f772 f772 f772 f772 f772 f772 f772 f772 f772 f772 f772 f772 f772 f772 f772 f772 f772 f772 f772 f772 f772 f772 f772 f772 f772 f772 f772 f772 f772 f772 f772 f772 f772 f772 f772 f772 f772 f772 f772 f772 f772 f772 f772 f772 f772 f772 f772 f772 f772 f772 f772 f772 f772 f772 f772 f772 f772 f772 f772 f772 f772 f772 f772 f772 f772 f772 f772 f772 f772 f772 f772 f772 f772 f772 f772 f772 f772 f772 f772 f772 f772 f772 f772 f772 f772 f772 f772 f772 f772 f772 f772 f772 f772 f772 f772 f772 f772 f772 f772 f772 f772 f772 f772 f772 f772 f772 f772 f772 f772 f772 f772 f772 f772 f772 f772 f772 f772 f772 f772 f772 f772 f772 f772 f772 f772 f772 f772 f772 f772 f772 f772 f772 f772 f772 f772 f772 f772 f772 f772 f772 f772 f772 f772 f772 f772 f772 f772 f772 f772 f772 f772 f772 f772 f772 f772 f772 f772 f772 f772 f772 f772 f772 f772 f772 f772 f772 f772 f772 f772 f772 f772 f772 f772 f772 f772 f772 f772 f772 f772 f775 f775 f775 f775 f775 f775 f775 f775 f775 f775 f775 f775 f775 f775 f775 f775 f775 f775 f775 f775 f775 f775 f775 f775 f775 f775 f775 f775 f775 f775 f775 f775 f775 f775 f775 f775 f775 f775 f775 f775 f775 f775 f775 f775 f775 f775 f775 f775 f775 f775 f775 f775 f775 f775 f775 f775 f775 f775 f775 f775 f775 f775 f775 f775 f775 f775 f775 f775 f775 f775 f775 f775 f775 f775 f775 f775 f775 f775 f775 f775 f775 f775 f775 f775 f775 f775 f775 f775 f775 f775 f775 f775 f775 f775 f775 f775 f775 f775 f775 f775 f775 f775 f775 f775 f775 f775 f775 f775 f775 f775 f775 f775 f775 f775 f775 f775 f775 f775 f775 f775 f775 f775 f775 f775 f775 f775 f775 f775 f775 f775 f775 f775 f775 f775 f775 f775 f775 f775 f775 f775 f775 f775 f775 f775 f775 f775 f775 f775 f775 f775 f781 f781 f781 f781 f781 f781 f781 f781 f781 f781 f781 f781 f781 f781 f781 f781 f781 f781 f781 f781 f781 f781 f781 f781 f781 f781 f781 f781 f781 f781 f781 f781 f781 f781 f781 f781 f781 f781 f781 f781 f781 f781 f781 f781 f781 f781 f781 f781 f781 f781 f781 f781 f781 f781 f781 f781 f781 f781 f781 f781 f781 f781 f781 f781 f781 f781 f781 f781 f781 f781 f781 f781 f781 f781 f781 f781 f781 f781 f781 f781 f781 f781 f781 f781 f781 f781 f781 f781 f781 f781 f781 f781 f781 f781 f781 f781 f781 f781 f781 f781 f781 f781 f781 f781 f781 f781 f781 f781 f781 f781 f781 f781 f781 f781 f781 f781 f781 f781 f781 f781 f781 f781 f781 f781 f781 f781 f781 f781 f781 f781 f781 f781 f781 f781 f781 f781 f781 f781 f781 f781 f781 f781 f781 f781 f781 f781 f781 f781 f781 f781 f781 f781 f781 f781 f781 f781 f781 f781 f781 f781 f781 f781 f781 f781 f781 f781 f781 f781 f781 f781 f781 f781 f781 f781 f781 f781 f781 f781 f781 f781 f781 f781 f781 f781 f781 f781 f781 f781 f781 f781 f781 f781 f781 f781 f781 f781 f781 f781 f781 f781 f781 f781 f781 f781 f781 f781 f781 f781 f781 f791 f791 f791 f791 f791 f791 f791 f791 f791 f791 f791 f791 f791 f791 f791 f791 f791 f791 f791 f791 f791 f791 f791 f791 f791 f791 f791 f791 f791 f791 f791 f791 f791 f791 f791 f791 f791 f791 f791 f791 f791 f791 f791 f791 f791 f791 f791 f791 f791 f791 f791 f791 f791 f791 f791 f791 f791 f791 f791 f791 f791 f791 f791 f791 f791 f791 f791 f791 f791 f791 f791 f791 f791 f791 f791 f796 f796 f796 f796 f796 f796 f796 f796 f796 f796 f796 f796 f796 f796 f796 f796 f796 f796 f796 f796 f796 f796 f796 f796 f796 f796 f796 f796 f796 f796 f796 f796 f796 f796 f796 f796 f796 f796 f796 f796 f796 f796 f796 f796 f796 f796 f796 f796 f796 f796 f796 f796 f796 f796 f796 f796 f796 f796 f796 f796 f796 f796 f796 f796 f796 f796 f796 f796 f796 f796 f796 f796 f796 f796 f796 f796 f796 f796 f796 f796 f796 f796 f796 f796 f796 f796 f796 f796 f796 f796 f796 f796 f796 f796 f796 f796 f796 f796 f796 f796 f796 f796 f796 f796 f796 f796 f796 f796 f796 f796 f796 f796 f796 f796 f796 f796 f796 f796 f796 f796 f796 f796 f796 f796 f796 f796 f796 f796 f796 f796 f796 f796 f796 f796 f796 f796 f796 f796 f796 f796 f796 f796 f796 f796 f796 f796 f796 f796 f796 f796 f796 f796 f796 f796 f796 f796 f796 f796 f796 f796 f796 f796 f796 f796 f796 f796 f796 f796 f796 f796 f796 f808 f808 f808 f808 f808 f808 f808 f808 f808 f808 f808 f808 f808 f808 f808 f808 f808 f808 f808 f808 f808 f808 f808 f808 f808 f808 f808 f808 f808 f808 f808 f808 f808 f808 f808 f808 f808 f808 f808 f808 f808 f808 f808 f808 f808 f808 f808 f808 f808 f808 f808 f808 f808 f808 f808 f808 f808 f808 f808 f808 f808 f808 f808 f808 f808 f808 f808 f808 f808 f808 f808 f808 f808 f808 f808 f808 f808 f808 f808 f808 f808 f808 f808 f808 f808 f808 f808 f808 f808 f808 f808 f808 f808 f808 f808 f808 f808 f808 f808 f808 f808 f808 f808 f808 f808 f808 f808 f808 f808 f808 f808 f808 f808 f808 f808 f808 f808 f808 f808 f808 f808 f808 f808 f808 f808 f808 f808 f808 f808 f808 f808 f808 f808 f808 f808 f808 f808 f808 f808 f808 f808 f808 f808 f808 f808 f808 f808 f808 f808 f808 f808 f808 f808 f808 f808 f808 f808 f808 f808 f808 f808 f820 f820 f820 f820 f820 f824 f824 f824 f824 f824 f824 f824 f824 f824 f824 f824 f824 f824 f824 f824 f824 f824 f824 f824 f824 f824 f824 f824 f824 f824 f824 f824 f824 f824 f824 f824 f824 f824 f824 f824 f824 f824 f824 f824 f824 f824 f824 f824 f824 f824 f824 f824 f824 f824 f824 f824 f824 f824 f824 f824 f824 f824 f824 f824 f824 f824 f824 f824 f824 f824 f824 f824 f824 f824 f824 f824 f824 f824 f824 f824 f824 f824 f824 f824 f824 f824 f824 f824 f824 f824 f824 f824 f824 f824 f824 f824 f824 f824 f824 f824 f824 f824 f824 f824 f824 f824 f824 f824 f824 f824 f824 f824 f824 f824 f824 f824 f824 f824 f824 f824 f824 f824 f824 f824 f824 f824 f824 f824 f824 f824 f824 f824 f824 f824 f824 f824 f824 f824 f824 f824 f824 f824 f824 f824 f824 f824 f824 f824 f824 f824 f824 f824 f824 f824 f824 f824 f824 f824 f824 f824 f824 f824 f824 f824 f824 f824 f824 f824 f824 f824 f824 f824 f824 f824 f824 f824 f824 f824 f824 f824 f824 f824 f824 f824 f824 f824 f824 f824 f824 f824 f824 f824 f824 f824 f826 f826 f826 f826 f826 f826 f826 f826 f826 f826 f826 f826 f826 f826 f826 f826 f826 f826 f826 f826 f826 f826 f826 f826 f826 f826 f826 f826 f826 f826 f826 f826 f826 f826 f826 f826 f826 f826 f826 f826 f826 f826 f826 f826 f826 f826 f826 f826 f826 f826 f826 f826 f826 f826 f826 f826 f826 f826 f826 f826 f826 f826 f826 f826 f826 f826 f826 f826 f826 f826 f826 f826 f826 f826 f826 f826 f826 f826 f826 f826 f826 f826 f826 f826 f826 f826 f826 f826 f826 f826 f826 f826 f826 f826 f826 f826 f826 f826 f826 f826 f826 f826 f826 f826 f826 f826 f826 f826 f826 f826 f826 f826 f826 f826 f826 f826 f826 f826 f826 f826 f826 f826 f826 f826 f826 f826 f826 f826 f826 f826 f826 f826 f826 f826 f826 f826 f826 f826 f826 f826 f826 f826 f826 f826 f826 f826 f826 f826 f826 f826 f826 f826 f826 f826 f826 f826 f826 f826 f826 f826 f826 f826 f826 f826 f826 f826 f826 f826 f826 f826 f826 f826 f826 f826 f826 f826 f826 f826 f826 f826 f826 f826 f826 f826 f826 f826 f826 f826 f826 f826 f826 f826 f826 f826 f826 f826 f826 f826 f826 f826 f826 f826 f826 f826 f826 f826 f826 f826 f826 f826 f826 f826 f826 f826 f826 f826 f826 f826 f826 f826 f826 f826 f826 f826 f826 f826 f826 f826 f826 f826 f826 f826 f826 f826 f826 f828 f828 f828 f828 f828 f828 f828 f828 f828 f828 f828 f828 f828 f828 f828 f828 f828 f828 f828 f828 f828 f828 f828 f828 f828 f828 f828 f828 f828 f828 f828 f828 f828 f828 f828 f828 f828 f828 f828 f828 f828 f828 f828 f828 f828 f828 f828 f828 f828 f828 f828 f828 f828 f828 f828 f828 f828 f828 f828 f828 f828 f828 f828 f828 f828 f828 f828 f828 f828 f828 f828 f828 f828 f828 f828 f828 f828 f828 f828 f828 f828 f828 f828 f828 f828 f828 f828 f828 f828 f828 f828 f828 f828 f828 f828 f828 f828 f828 f828 f828 f828 f828 f828 f828 f828 f828 f828 f828 f828 f828 f828 f828 f828 f828 f828 f828 f828 f828 f828 f828 f828 f828 f828 f828 f828 f828 f828 f828 f828 f828 f828 f828 f828 f828 f828 f828 f828 f828 f828 f828 f828 f828 f828 f828 f828 f828 f828 f828 f828 f828 f828 f828 f828 f828 f828 f828 f828 f828 f828 f828 f829 f829 f829 f829 f829 f829 f829 f829 f829 f829 f829 f829 f829 f829 f829 f829 f829 f829 f829 f829 f829 f829 f829 f829 f829 f829 f829 f829 f829 f829 f829 f829 f829 f829 f829 f829 f829 f829 f829 f829 f829 f829 f829 f829 f829 f829 f829 f829 f829 f829 f829 f829 f829 f829 f829 f829 f829 f829 f829 f829 f829 f829 f829 f829 f829 f829 f829 f829 f829 f829 f829 f829 f829 f829 f829 f829 f829 f829 f829 f829 f829 f829 f829 f829 f829 f829 f829 f829 f829 f829 f829 f835 f835 f835 f835 f835 f835 f835 f835 f835 f835 f835 f835 f835 f835 f835 f835 f835 f835 f835 f835 f835 f835 f835 f835 f835 f835 f835 f835 f835 f835 f835 f835 f835 f835 f835 f835 f835 f835 f835 f835 f835 f835 f835 f835 f835 f835 f835 f835 f835 f835 f835 f835 f835 f835 f835 f835 f835 f835 f835 f835 f835 f835 f835 f835 f835 f835 f835 f835 f835 f835 f835 f835 f835 f835 f835 f835 f835 f835 f835 f835 f835 f848 f848 f848 f848 f848 f848 f848 f848 f848 f848 f848 f848 f848 f848 f848 f848 f848 f848 f848 f848 f851 f851 f851 f851 f851 f851 f851 f851 f851 f851 f851 f851 f851 f851 f851 f851 f851 f851 f851 f851 f851 f851 f851 f851 f851 f851 f851 f851 f851 f851 f851 f851 f851 f851 f851 f851 f851 f851 f851 f851 f851 f851 f851 f851 f851 f851 f851 f851 f851 f851 f851 f851 f851 f851 f851 f851 f851 f851 f851 f851 f851 f851 f851 f851 f851 f851 f851 f851 f851 f851 f851 f851 f851 f851 f851 f851 f851 f851 f851 f851 f851 f851 f851 f851 f851 f851 f851 f851 f851 f851 f851 f851 f851 f851 f851 f851 f851 f851 f851 f851 f851 f851 f851 f851 f851 f851 f851 f851 f851 f851 f851 f851 f851 f851 f851 f851 f851 f851 f851 f851 f851 f851 f851 f851 f851 f851 f851 f851 f851 f851 f851 f851 f851 f851 f851 f851 f851 f851 f851 f851 f851 f851 f851 f851 f851 f851 f851 f851 f851 f851 f851 f851 f851 f851 f851 f851 f851 f851 f851 f851 f851 f851 f851 f851 f851 f851 f851 f851 f851 f851 f851 f851 f851 f851 f851 f851 f851 f851 f851 f851 f851 f851 f851 f851 f852 f852 f852 f852 f852 f852 f852 f852 f852 f852 f852 f852 f857 f857 f857 f857 f857 f857 f857 f857 f857 f857 f857 f857 f857 f857 f857 f857 f857 f857 f858 f858 f858 f858 f858 f858 f858 f858 f858 f858 f858 f858 f858 f858 f858 f858 f858 f858 f858 f858 f858 f858 f858 f858 f858 f858 f858 f858 f858 f858 f858 f858 f858 f858 f858 f858 f858 f858 f858 f858 f858 f858 f858 f858 f858 f858 f858 f858 f858 f858 f858 f858 f858 f858 f858 f858 f858 f858 f858 f858 f858 f858 f858 f858 f858 f858 f858 f858 f858 f858 f858 f858 f858 f858 f858 f858 f858 f858 f858 f858 f858 f858 f858 f858 f858 f858 f858 f858 f858 f858 f858 f858 f858 f858 f858 f858 f858 f858 f858 f858 f858 f858 f858 f858 f858 f858 f858 f858 f858 f858 f858 f858 f858 f858 f858 f858 f858 f864 f864 f864 f864 f864 f864 f864 f864 f864 f864 f864 f864 f864 f864 f864 f864 f864 f864 f864 f864 f864 f864 f864 f864 f864 f864 f864 f864 f864 f864 f864 f864 f864 f864 f864 f864 f864 f864 f864 f864 f864 f864 f864 f864 f864 f864 f864 f864 f864 f864 f864 f864 f864 f864 f864 f864 f864 f864 f864 f864 f864 f864 f864 f864 f864 f864 f864 f864 f864 f864 f864 f864 f864 f864 f864 f864 f864 f866 f866 f866 f866 f866 f866 f866 f866 f866 f866 f866 f866 f866 f866 f866 f866 f866 f866 f866 f866 f866 f866 f866 f866 f866 f866 f866 f866 f866 f866 f866 f866 f866 f866 f866 f866 f866 f866 f866 f866 f866 f866 f866 f866 f866 f866 f866 f866 f866 f866 f866 f866 f866 f866 f866 f866 f866 f866 f866 f866 f867 f867 f867 f867 f867 f867 f867 f867 f867 f867 f867 f867 f867 f867 f867 f867 f867 f867 f867 f867 f867 f867 f867 f867 f867 f867 f867 f867 f867 f867 f867 f867 f867 f867 f867 f867 f867 f867 f867 f867 f867 f867 f867 f867 f867 f867 f867 f867 f867 f867 f867 f867 f867 f867 f867 f867 f867 f867 f867 f867 f867 f867 f867 f867 f867 f867 f867 f867 f867 f867 f867 f867 f867 f867 f867 f867 f867 f867 f867 f867 f867 f867 f867 f867 f867 f867 f867 f867 f867 f867 f867 f867 f867 f867 f867 f867 f867 f867 f867 f867 f867 f867 f867 f867 f867 f867 f867 f867 f867 f867 f867 f867 f867 f867 f867 f867 f867 f867 f867 f867 f867 f867 f867 f867 f867 f867 f867 f867 f867 f867 f867 f867 f867 f867 f867 f867 f867 f867 f867 f867 f867 f867 f867 f867 f867 f867 f867 f867 f867 f867 f867 f867 f867 f867 f867 f867 f867 f867 f867 f867 f867 f867 f867 f867 f867 f867 f867 f867 f867 f867 f867 f867 f867 f867 f867 f867 f867 f867 f867 f867 f867 f867 f867 f867 f867 f867 f867 f867 f867 f867 f867 f867 f867 f867 f867 f867 f867 f867 f867 f867 f867 f867 f867 f867 f867 f867 f867 f867 f867 f867 f867 f867 f867 f867 f867 f867 f867 f867 f867 f867 f867 f867 f872 f872 f872 f872 f872 f872 f872 f872 f872 f872 f872 f872 f872 f872 f872 f872 f872 f872 f872 f872 f872 f872 f872 f872 f872 f872 f872 f872 f872 f872 f872 f872 f872 f872 f872 f872 f872 f872 f872 f872 f872 f872 f872 f872 f872 f872 f872 f872 f872 f872 f872 f872 f872 f872 f872 f872 f872 f872 f872 f872 f872 f872 f872 f872 f872 f872 f872 f872 f872 f872 f872 f872 f872 f872 f872 f872 f872 f872 f872 f872 f872 f872 f872 f872 f872 f872 f872 f872 f872 f872 f872 f872 f872 f872 f872 f872 f872 f872 f872 f872 f872 f872 f872 f872 f872 f872 f872 f872 f872 f872 f872 f872 f872 f872 f872 f872 f872 f872 f872 f872 f872 f872 f872 f872 f872 f872 f872 f872 f872 f872 f872 f872 f872 f872 f872 f872 f872 f872 f872 f872 f872 f872 f872 f872 f872 f872 f872 f872 f872 f872 f872 f872 f872 f872 f872 f872 f872 f872 f872 f872 f872 f872 f872 f872 f872 f872 f872 f872 f872 f872 f872 f872 f872 f872 f872 f872 f872 f872 f872 f872 f872 f872 f872 f872 f872 f872 f872 f872 f872 f872 f872 f872 f872 f872 f872 f872 f872 f872 f872 f876 f876 f876 f876 f876 f876 f876 f876 f876 f876 f876 f876 f876 f876 f876 f876 f876 f876 f876 f876 f876 f876 f876 f876 f876 f876 f876 f876 f876 f876 f876 f876 f876 f876 f876 f876 f876 f876 f876 f876 f876 f876 f876 f876 f876 f876 f876 f876 f876 f876 f876 f876 f876 f876 f876 f876 f876 f876 f876 f876 f876 f876 f876 f876 f876 f876 f876 f876 f876 f876 f876 f876 f876 f876 f876 f876 f876 f876 f876 f876 f876 f876 f876 f876 f876 f876 f876 f876 f876 f876 f876 f876 f876 f876 f876 f876 f876 f876 f876 f876 f876 f876 f876 f876 f876 f876 f876 f876 f876 f876 f876 f876 f876 f876 f876 f876 f876 f876 f876 f876 f876 f876 f876 f876 f876 f876 f876 f876 f876 f876 f876 f876 f876 f876 f876 f876 f876 f876 f876 f876 f876 f876 f876 f876 f876 f876 f876 f876 f876 f876 f876 f876 f876 f876 f876 f876 f876 f876 f876 f876 f876 f876 f876 f876 f876 f876 f876 f876 f876 f876 f876 f876 f876 f876 f876 f876 f876 f876 f876 f876 f876 f876 f876 f876 f876 f876 f876 f876 f876 f876 f876 f876 f876 f877 f877 f877 f877 f877 f877 f877 f877 f877 f877 f877 f877 f877 f877 f877 f877 f877 f877 f877 f877 f877 f877 f877 f877 f877 f877 f877 f877 f877 f877 f877 f877 f877 f877 f877 f877 f877 f877 f877 f877 f877 f877 f877 f877 f877 f877 f877 f877 f877 f877 f877 f877 f877 f877 f877 f877 f877 f877 f877 f877 f877 f877 f877 f877 f877 f877 f877 f877 f877 f877 f877 f877 f877 f877 f877 f877 f877 f877 f877 f877 f877 f877 f877 f877 f877 f877 f877 f877 f877 f877 f877 f877 f877 f877 f877 f877 f877 f877 f877 f877 f877 f877 f877 f877 f877 f877 f877 f877 f877 f877 f877 f877 f877 f877 f877 f877 f877 f877 f877 f885 f885 f885 f885 f885 f885 f885 f885 f885 f885 f885 f885 f885 f885 f885 f885 f885 f885 f885 f885 f885 f885 f885 f885 f885 f885 f885 f885 f885 f885 f885 f885 f885 f885 f885 f885 f885 f885 f885 f885 f885 f885 f885 f885 f885 f885 f885 f885 f885 f885 f885 f885 f885 f885 f885 f885 f885 f885 f885 f885 f885 f885 f885 f885 f885 f885 f885 f885 f885 f885 f885 f885 f885 f885 f885 f885 f885 f885 f885 f885 f885 f885 f885 f885 f885 f885 f885 f885 f885 f885 f885 f885 f885 f885 f885 f885 f885 f885 f885 f885 f885 f885 f885 f885 f885 f885 f885 f885 f885 f886 f886 f886 f886 f886 f886 f886 f886 f886 f886 f886 f886 f886 f886 f886 f886 f886 f886 f886 f886 f886 f886 f886 f886 f886 f886 f886 f886 f886 f886 f886 f886 f886 f886 f886 f886 f886 f886 f886 f886 f886 f886 f886 f887 f887 f887 f887 f887 f887 f887 f887 f887 f887 f887 f887 f887 f887 f887 f887 f887 f887 f887 f887 f887 f887 f887 f887 f887 f887 f887 f887 f887 f887 f887 f887 f887 f887 f887 f887 f887 f887 f887 f887 f887 f887 f887 f887 f887 f887 f887 f887 f887 f887 f887 f887 f887 f887 f887 f887 f887 f887 f887 f887 f887 f887 f887 f887 f887 f887 f887 f887 f887 f887 f887 f887 f887 f887 f887 f887 f887 f887 f887 f887 f887 f887 f887 f887 f887 f887 f887 f887 f887 f887 f887 f887 f889 f889 f889 f889 f889 f889 f889 f889 f889 f889 f889 f889 f889 f889 f889 f889 f889 f889 f889 f889 f889 f889 f889 f889 f889 f889 f889 f889 f889 f889 f889 f889 f889 f889 f889 f889 f889 f889 f889 f889 f889 f889 f889 f889 f889 f889 f889 f889 f889 f889 f889 f889 f889 f889 f889 f889 f889 f889 f889 f889 f889 f889 f889 f889 f889 f889 f889 f889 f889 f889 f889 f889 f889 f889 f889 f889 f889 f889 f889 f889 f889 f889 f889 f889 f889 f889 f889 f889 f896 f896 f896 f896 f896 f896 f896 f896 f896 f896 f896 f896 f896 f896 f896 f896 f896 f896 f896 f896 f896 f896 f896 f896 f896 f896 f896 f896 f896 f896 f896 f896 f896 f896 f896 f896 f896 f896 f896 f896 f896 f896 f896 f896 f896 f896 f896 f896 f896 f896 f896 f896 f896 f896 f896 f896 f896 f896 f896 f896 f896 f896 f896 f896 f896 f896 f896 f896 f896 f896 f896 f896 f896 f896 f896 f896 f896 f896 f896 f896 f896 f896 f896 f896 f896 f896 f896 f896 f896 f896 f896 f896 f896 f896 f896 f896 f896 f896 f896 f896 f896 f896 f896 f896 f896 f896 f896 f896 f896 f896 f896 f896 f896 f896 f896 f896 f896 f896 f896 f896 f896 f896 f896 f896 f899 f899 f899 f899 f899 f899 f899 f899 f899 f899 f899 f899 f899 f899 f899 f899 f899 f899 f899 f899 f899 f899 f899 f899 f899 f899 f899 f899 f899 f899 f899 f899 f899 f899 f899 f899 f899 f899 f899 f899 f899 f899 f899 f899 f899 f899 f899 f899 f899 f899 f899 f899 f899 f899 f899 f899 f899 f899 f899 f899 f899 f899 f899 f899 f899 f899 f899 f899 f899 f899 f899 f899 f899 f899 f899 f899 f899 f899 f899 f899 f899 f899 f902 f902 f902 f902 f902 f902 f902 f902 f902 f902 f902 f902 f902 f902 f902 f902 f902 f902 f902 f902 f902 f902 f902 f902 f902 f902 f902 f902 f902 f902 f902 f902 f902 f902 f902 f902 f902 f902 f902 f902 f902 f902 f902 f902 f902 f902 f902 f902 f902 f902 f902 f902 f902 f902 f902 f902 f902 f902 f902 f902 f902 f902 f902 f902 f902 f902 f902 f902 f902 f902 f902 f902 f902 f902 f902 f902 f902 f902 f902 f902 f902 f902 f902 f902 f902 f902 f902 f902 f902 f902 f902 f902 f902 f902 f902 f902 f902 f902 f902 f902 f902 f902 f902 f902 f902 f902 f902 f902 f902 f902 f902 f902 f902 f902 f902 f902 f902 f902 f902 f902 f902 f902 f902 f902 f902 f902 f902 f902 f902 f902 f902 f902 f902 f902 f902 f902 f902 f902 f902 f902 f902 f902 f902 f902 f902 f902 f902 f902 f902 f902 f902 f902 f902 f902 f902 f902 f902 f902 f902 f902 f902 f902 f902 f902 f902 f902 f902 f902 f902 f902 f902 f902 f902 f902 f902 f902 f902 f902 f902 f902 f902 f902 f902 f902 f902 f902 f902 f902 f902 f902 f902 f902 f902 f902 f902 f902 f902 f902 f902 f902 f902 f902 f902 f902 f902 f902 f902 f902 f902 f902 f902 f902 f902 f902 f902 f902 f902 f902 f902 f902 f902 f902 f902 f902 f902 f902 f902 f902 f902 f902 f902 f902 f902 f902 f902 f902 f902 f902 f902 f902 f902 f902 f902 f902 f902 f905 f905 f905 f905 f905 f905 f905 f905 f905 f905 f905 f905 f905 f905 f905 f905 f905 f905 f905 f905 f905 f905 f905 f905 f905 f905 f905 f905 f905 f905 f905 f905 f905 f905 f905 f905 f905 f905 f905 f905 f905 f905 f905 f905 f905 f905 f905 f905 f905 f905 f905 f905 f905 f905 f905 f905 f905 f905 f905 f905 f905 f905 f905 f905 f905 f905 f905 f905 f905 f905 f905 f905 f905 f905 f905 f905 f905 f905 f905 f905 f905 f905 f905 f905 f905 f905 f905 f905 f905 f905 f905 f905 f905 f905 f905 f905 f905 f905 f905 f905 f905 f905 f905 f905 f905 f905 f905 f905 f905 f905 f905 f905 f905 f905 f905 f905 f905 f905 f905 f905 f905 f905 f905 f905 f905 f905 f905 f905 f905 f905 f905 f905 f905 f905 f905 f905 f905 f905 f905 f905 f905 f905 f905 f905 f905 f905 f905 f905 f905 f905 f905 f905 f905 f905 f905 f905 f905 f905 f905 f905 f905 f905 f905 f905 f905 f905 f905 f905 f905 f905 f905 f905 f905 f905 f905 f905 f905 f905 f905 f905 f905 f905 f905 f905 f905 f905 f905 f905 f905 f905 f905 f905 f905 f905 f905 f905 f905 f905 f905 f905 f905 f905 f905 f905 f905 f905 f905 f905 f905 f905 f905 f905 f905 f905 f905 f905 f905 f905 f905 f905 f905 f905 f905 f905 f905 f905 f905 f905 f905 f905 f905 f905 f905 f905 f905 f905 f905 f905 f905 f908 f908 f908 f908 f908 f908 f908 f908 f908 f908 f908 f908 f908 f908 f908 f908 f908 f908 f908 f908 f908 f908 f908 f908 f908 f908 f908 f908 f908 f908 f908 f908 f908 f908 f908 f908 f908 f908 f908 f908 f908 f908 f908 f908 f908 f908 f908 f908 f908 f908 f908 f908 f908 f908 f908 f908 f908 f908 f908 f908 f908 f908 f908 f908 f908 f908 f908 f908 f908 f908 f908 f908 f908 f908 f908 f908 f908 f908 f908 f908 f908 f908 f908 f908 f908 f908 f908 f908 f908 f908 f908 f908 f908 f908 f908 f908 f908 f908 f908 f908 f911 f911 f911 f911 f911 f911 f911 f911 f911 f911 f911 f911 f911 f911 f911 f911 f911 f911 f911 f911 f911 f911 f911 f911 f911 f911 f911 f911 f911 f911 f911 f916 f916 f916 f916 f916 f916 f916 f916 f916 f916 f916 f916 f916 f916 f916 f916 f916 f916 f916 f916 f916 f916 f916 f916 f916 f916 f916 f916 f916 f916 f916 f916 f916 f916 f916 f916 f916 f916 f916 f916 f916 f916 f916 f916 f916 f916 f916 f916 f916 f916 f916 f916 f916 f916 f916 f916 f916 f916 f916 f916 f916 f916 f916 f916 f916 f916 f916 f916 f916 f916 f916 f916 f916 f916 f916 f916 f916 f916 f916 f916 f916 f916 f916 f916 f916 f916 f916 f916 f916 f916 f916 f916 f916 f916 f916 f916 f916 f916 f916 f916 f916 f916 f916 f916 f916 f916 f916 f916 f916 f916 f916 f916 f916 f916 f916 f916 f916 f916 f916 f916 f916 f916 f916 f916 f916 f916 f916 f916 f916 f916 f916 f916 f916 f916 f916 f916 f916 f916 f916 f916 f916 f916 f916 f916 f916 f916 f916 f916 f916 f916 f916 f916 f916 f916 f916 f916 f916 f916 f916 f916 f916 f916 f916 f916 f916 f916 f916 f916 f916 f916 f916 f916 f916 f916 f916 f916 f916 f916 f916 f916 f916 f916 f916 f916 f916 f916 f916 f916 f921 f921 f921 f921 f921 f921 f921 f921 f921 f921 f921 f921 f921 f921 f921 f921 f921 f921 f921 f921 f921 f921 f921 f921 f921 f921 f921 f921 f921 f921 f921 f921 f921 f921 f921 f921 f921 f921 f921 f921 f921 f921 f921 f921 f921 f921 f921 f921 f921 f921 f921 f921 f921 f921 f921 f921 f921 f921 f921 f921 f921 f921 f921 f921 f921 f921 f921 f921 f921 f921 f921 f921 f921 f921 f921 f921 f921 f921 f921 f921 f921 f921 f921 f921 f921 f921 f921 f921 f921 f921 f921 f921 f921 f921 f921 f921 f921 f921 f921 f921 f921 f921 f921 f921 f921 f921 f921 f921 f921 f921 f921 f921 f921 f921 f921 f921 f921 f921 f921 f921 f921 f921 f921 f921 f921 f921 f921 f921 f921 f921 f921 f921 f921 f921 f921 f921 f925 f925 f925 f925 f925 f925 f925 f925 f925 f925 f925 f925 f925 f925 f925 f925 f925 f925 f925 f925 f925 f925 f925 f925 f925 f925 f925 f925 f925 f925 f925 f925 f932 f932 f932 f932 f932 f932 f932 f932 f932 f935 f935 f935 f935 f935 f935 f935 f935 f935 f935 f935 f935 f935 f935 f935 f935 f935 f935 f935 f935 f935 f935 f935 f935 f935 f935 f935 f935 f935 f935 f935 f935 f935 f935 f935 f935 f935 f935 f935 f935 f935 f935 f935 f935 f935 f935 f935 f935 f935 f935 f935 f935 f935 f935 f935 f935 f935 f935 f935 f935 f935 f935 f935 f935 f935 f945 f945 f945 f945 f945 f945 f945 f945 f945 f945 f945 f945 f945 f945 f945 f945 f945 f945 f945 f945 f945 f945 f945 f945 f945 f945 f945 f945 f945 f945 f945 f945 f945 f945 f945 f945 f945 f945 f945 f945 f945 f945 f945 f945 f945 f945 f945 f945 f945 f945 f945 f945 f945 f945 f945 f945 f945 f945 f945 f945 f945 f945 f945 f945 f945 f945 f945 f945 f945 f945 f945 f945 f945 f945 f945 f945 f945 f945 f945 f945 f945 f945 f945 f945 f945 f945 f945 f945 f945 f945 f945 f945 f945 f945 f945 f945 f945 f945 f945 f945 f945 f945 f945 f945 f945 f945 f945 f945 f945 f945 f945 f945 f945 f945 f945 f945 f945 f945 f945 f945 f945 f945 f945 f945 f945 f945 f945 f945 f945 f945 f945 f945 f945 f945 f945 f945 f945 f945 f945 f945 f945 f945 f945 f945 f945 f945 f945 f945 f945 f945 f945 f945 f945 f945 f945 f945 f945 f945 f945 f945 f945 f945 f945 f945 f945 f945 f945 f945 f945 f945 f945 f945 f945 f945 f945 f945 f945 f945 f945 f945 f945 f945 f945 f945 f945 f945 f945 f945 f945 f945 f945 f945 f945 f945 f945 f945 f945 f945 f945 f945 f945 f945 f945 f945 f945 f945 f945 f945 f945 f945 f945 f945 f945 f945 f945 f945 f945 f945 f945 f945 f945 f945 f945 f945 f945 f945 f945 f945 f945 f945 f945 f945 f945 f945 f945 f945 f945 f945 f945 f945 f945 f945 f945 f945 f945 f945 f945 f950 f950 f950 f950 f950 f950 f950 f950 f950 f950 f950 f950 f950 f950 f950 f950 f950 f950 f950 f950 f950 f950 f950 f950 f950 f950 f950 f950 f950 f950 f950 f950 f950 f950 f950 f950 f950 f950 f950 f950 f950 f950 f950 f950 f950 f950 f950 f952 f952 f952 f952 f952 f952 f952 f952 f952 f952 f952 f952 f952 f952 f952 f952 f952 f952 f952 f952 f952 f952 f952 f952 f952 f952 f952 f952 f952 f952 f952 f952 f952 f952 f952 f952 f952 f952 f952 f952 f952 f952 f952 f952 f952 f952 f952 f952 f952 f952 f952 f952 f952 f952 f952 f952 f952 f952 f952 f952 f952 f952 f952 f952 f952 f952 f952 f952 f952 f952 f952 f952 f952 f952 f952 f952 f952 f952 f952 f952 f952 f952 f952 f952 f952 f952 f952 f952 f952 f952 f952 f952 f952 f952 f952 f952 f952 f952 f952 f952 f952 f952 f952 f952 f952 f952 f952 f952 f952 f952 f952 f952 f952 f952 f952 f952 f952 f952 f952 f952 f952 f952 f952 f952 f952 f952 f952 f952 f952 f952 f952 f952 f952 f952 f952 f952 f952 f952 f952 f952 f952 f952 f952 f952 f952 f952 f952 f952 f952 f952 f952 f952 f952 f952 f952 f952 f952 f952 f952 f952 f952 f952 f952 f952 f952 f952 f952 f952 f952 f952 f952 f952 f952 f952 f952 f952 f952 f952 f952 f952 f952 f952 f952 f952 f952 f952 f952 f952 f952 f952 f952 f952 f952 f952 f952 f952 f952 f952 f952 f952 f952 f952 f952 f952 f952 f952 f952 f952 f952 f952 f952 f952 f952 f952 f952 f952 f952 f952 f952 f952 f952 f952 f952 f952 f952 f952 f952 f952 f952 f952 f952 f954 f954 f954 f954 f954 f954 f954 f954 f954 f954 f954 f954 f954 f954 f954 f954 f954 f954 f954 f954 f954 f954 f954 f954 f954 f954 f954 f954 f954 f954 f954 f954 f954 f954 f954 f954 f954 f954 f954 f954 f954 f954 f954 f954 f954 f954 f954 f954 f954 f954 f954 f954 f954 f954 f954 f954 f954 f954 f954 f954 f954 f954 f954 f954 f954 f954 f954 f954 f954 f964 f964 f964 f964 f964 f964 f964 f964 f964 f964 f964 f964 f964 f964 f964 f964 f964 f964 f964 f964 f964 f964 f964 f964 f964 f964 f964 f964 f964 f964 f964 f964 f964 f964 f964 f964 f964 f964 f964 f964 f964 f964 f964 f964 f964 f964 f964 f964 f964 f964 f964 f964 f964 f964 f964 f964 f964 f964 f964 f964 f964 f964 f964 f964 f964 f964 f964 f964 f964 f964 f964 f964 f964 f964 f964 f964 f964 f964 f964 f964 f964 f964 f964 f964 f964 f964 f964 f964 f964 f964 f964 f964 f964 f964 f964 f964 f964 f964 f964 f964 f964 f964 f964 f964 f964 f964 f964 f964 f964 f964 f964 f964 f964 f964 f964 f964 f964 f964 f964 f964 f964 f964 f964 f964 f964 f964 f964 f964 f964 f964 f964 f964 f964 f964 f964 f964 f964 f964 f964 f964 f964 f964 f964 f964 f964 f964 f964 f964 f964 f964 f964 f964 f964 f964 f964 f964 f964 f964 f964 f964 f964 f964 f964 f964 f964 f964 f968 f968 f968 f968 f968 f968 f968 f968 f968 f968 f968 f968 f968 f968 f968 f968 f968 f968 f968 f968 f968 f968 f968 f968 f968 f968 f968 f968 f968 f968 f968 f968 f968 f968 f968 f968 f968 f968 f968 f968 f968 f968 f968 f968 f968 f972 f972 f972 f972 f972 f972 f972 f972 f972 f972 f972 f972 f972 f972 f972 f972 f972 f972 f972 f972 f972 f972 f972 f972 f972 f972 f972 f972 f972 f972 f972 f972 f972 f972 f972 f972 f972 f972 f972 f972 f972 f972 f972 f972 f972 f972 f972 f972 f972 f972 f972 f972 f972 f972 f972 f972 f972 f972 f972 f972 f972 f972 f972 f972 f972 f972 f972 f972 f972 f972 f972 f972 f972 f972 f972 f972 f972 f972 f972 f972 f972 f972 f972 f972 f972 f972 f972 f972 f972 f972 f972 f972 f972 f972 f972 f972 f972 f972 f972 f972 f972 f972 f972 f972 f972 f972 f972 f972 f972 f972 f972 f972 f972 f972 f972 f972 f972 f972 f972 f972 f972 f972 f972 f972 f972 f972 f972 f972 f972 f972 f972 f972 f972 f972 f972 f972 f972 f972 f972 f972 f972 f972 f972 f972 f972 f972 f972 f972 f972 f972 f972 f972 f972 f972 f972 f972 f972 f972 f972 f972 f972 f972 f972 f972 f972 f972 f972 f972 f972 f972 f972 f972 f972 f972 f972 f972 f972 f972 f972 f972 f972 f972 f972 f972 f972 f972 f972 f972 f972 f972 f972 f972 f972 f972 f972 f972 f972 f972 f972 f972 f972 f972 f972 f972 f972 f972 f972 f972 f972 f972 f972 f972 f972 f972 f972 f972 f972 f972 f972 f972 f972 f972 f972 f972 f972 f972 f972 f972 f972 f972 f972 f972 f972 f972 f972 f972 f972 f972 f972 f972 f972 f972 f972 f972 f975 f975 f975 f975 f975 f975 f975 f975 f975 f975 f975 f975 f975 f975 f975 f975 f975 f975 f975 f975 f975 f975 f975 f975 f975 f975 f975 f975 f975 f975 f975 f975 f975 f975 f975 f975 f975 f975 f975 f975 f975 f975 f975 f975 f975 f975 f975 f975 f975 f975 f975 f975 f975 f975 f975 f975 f975 f975 f975 f975 f975 f975 f975 f975 f975 f975 f975 f975 f975 f975 f975 f975 f975 f975 f975 f975 f975 f975 f975 f975 f975 f975 f975 f975 f975 f975 f975 f975 f975 f975 f975 f975 f975 f975 f975 f975 f975 f975 f975 f975 f975 f975 f975 f975 f975 f975 f975 f975 f975 f975 f975 f975 f975 f975 f975 f975 f976 f976 f976 f976 f976 f976 f976 f976 f976 f976 f976 f976 f976 f976 f976 f976 f976 f976 f976 f976 f976 f976 f976 f976 f976 f976 f976 f976 f976 f976 f976 f976 f976 f976 f976 f976 f976 f976 f976 f976 f976 f976 f976 f976 f976 f976 f976 f976 f976 f976 f976 f976 f976 f976 f976 f976 f976 f976 f976 f976 f976 f976 f976 f976 f976 f976 f976 f976 f976 f976 f976 f976 f976 f976 f976 f976 f976 f976 f976 f976 f976 f976 f976 f976 f976 f976 f976 f976 f976 f976 f976 f976 f976 f976 f976 f976 f976 f976 f976 f976 f976 f976 f976 f976 f976 f976 f976 f976 f976 f976 f976 f983 f983 f983 f983 f983 f983 f983 f983 f983 f983 f983 f983 f983 f983 f983 f983 f983 f983 f983 f983 f983 f983 f983 f983 f983 f983 f983 f983 f983 f983 f983 f983 f983 f983 f983 f983 f983 f983 f983 f983 f983 f983 f983 f983 f983 f983 f983 f983 f983 f983 f983 f983 f983 f983 f983 f983 f983 f983 f983 f983 f983 f983 f983 f983 f983 f983 f983 f983 f983 f983 f983 f983 f983 f983 f983 f983 f983 f983 f983 f983 f983 f983 f983 f983 f983 f983 f983 f983 f983 f983 f983 f983 f983 f983 f983 f983 f983 f983 f983 f983 f983 f983 f983 f983 f983 f983 f983 f983 f983 f983 f983 f983 f983 f983 f983 f983 f983 f983 f983 f983 f983 f983 f983 f983 f983 f983 f983 f983 f983 f983 f983 f983 f983 f983 f983 f983 f983 f983 f983 f983 f983 f983 f983 f983 f983 f983 f983 f983 f983 f983 f983 f983 f983 f983 f983 f983 f983 f983 f983 f983 f983 f983 f983 f983 f983 f983 f983 f983 f983 f983 f983 f983 f983 f983 f983 f983 f983 f983 f983 f983 f983 f983 f983 f983 f983 f983 f983 f983 f983 f983 f983 f983 f983 f983 f983 f983 f983 f983 f983 f983 f983 f983 f983 f983 f983 f983 f983 f983 f983 f983 f983 f983 f983 f983 f983 f983 f983 f983 f983 f987 f987 f987 f987 f987 f987 f987 f987 f987 f987 f987 f987 f987 f987 f987 f987 f987 f987 f987 f987 f987 f987 f987 f987 f987 f987 f987 f987 f987 f987 f987 f987 f987 f987 f987 f987 f987 f987 f987 f987 f987 f987 f987 f987 f987 f987 f987 f987 f987 f987 f987 f987 f987 f987 f987 f987 f987 f987 f987 f987 f987 f987 f987 f987 f987 f987 f987 f987 f987 f987 f987 f987 f987 f987 f987 f987 f989 f989 f989 f989 f989 f989 f989 f989 f989 f989 f989 f989 f989 f989 f989 f989 f989 f991 f991 f991 f991 f991 f991 f991 f991 f991 f991 f991 f991 f991 f991 f991 f991 f991 f991 f991 f991 f991 f991 f991 f991 f991 f991 f991 f991 f991 f991 f991 f991 f991 f991 f991 f991 f991 f991 f991 f991 f991 f991 f991 f991 f991 f991 f991 f991 f991 f991 f991 f991 f991 f991 f991 f991 f991 f991 f991 f991 f991 f991 f991 f991 f991 f991 f991 f991 f991 f991 f991 f991 f991 f991 f991 f991 f991 f991 f991 f991 f991 f991 f991 f991 f991 f991 f991 f991 f991 f991 f991 f991 f991 f991 f991 f991 f991 f991 f991 f991 f991 f991 f991 f991 f991 f991 f991 f991 f991 f991 f991 f991 f991 f991 f991 f991 f991 f991 f991 f991 f991 f991 f991 f991 f991 f991 f991 f991 f991 f991 f991 f991 f991 f991 f991 f991 f991 f991 f991 f991 f991 f991 f991 f991 f991 f991 f991 f991 f991 f991 f991 f991 f991 f991 f991 f991 f991 f991 f991 f991 f991 f991'"
            ]
          },
          "execution_count": 16,
          "metadata": {},
          "output_type": "execute_result"
        }
      ],
      "source": [
        "surrogate_text(tx[0])"
      ]
    },
    {
      "cell_type": "markdown",
      "metadata": {
        "id": "W7Wkamk4rzd1"
      },
      "source": [
        "If the textual search engine supports boosting, we can generate shorter surrogate texts (that leads to lower query times):"
      ]
    },
    {
      "cell_type": "code",
      "execution_count": 17,
      "metadata": {
        "id": "cSt1ke4Cov8K"
      },
      "outputs": [],
      "source": [
        "def surrogate_text_boost(term_frequencies):\n",
        "  \"\"\" Creates Surrogate Text with Boosting.\n",
        "      Instead of repeating a term N times, writes 'term^N'\n",
        "      that in many full-text search engines has the same effect\n",
        "      of setting the term frequency of that term to N.\n",
        "      Useful to get shorter surrogate text representations.\n",
        "  \"\"\"\n",
        "  tokens = []\n",
        "  for i, tf in enumerate(term_frequencies):\n",
        "    if tf:\n",
        "      tokens.append(f'f{i}^{tf:g}')\n",
        "\n",
        "  text = ' '.join(tokens)\n",
        "  return text"
      ]
    },
    {
      "cell_type": "code",
      "execution_count": 18,
      "metadata": {
        "colab": {
          "base_uri": "https://localhost:8080/",
          "height": 122
        },
        "id": "D8OcZDSf9qPK",
        "outputId": "999f61d9-4587-4ee7-ed9c-c5add419b1af"
      },
      "outputs": [
        {
          "data": {
            "application/vnd.google.colaboratory.intrinsic+json": {
              "type": "string"
            },
            "text/plain": [
              "'f7^130 f9^215 f24^23 f25^247 f29^98 f31^38 f33^182 f34^108 f38^183 f45^141 f51^163 f52^88 f56^147 f57^203 f58^34 f64^12 f71^33 f74^13 f86^139 f91^217 f93^81 f94^56 f95^126 f98^233 f99^211 f101^218 f108^236 f115^68 f122^177 f129^168 f135^166 f141^82 f153^109 f154^14 f155^84 f157^110 f162^164 f165^129 f166^90 f172^49 f177^221 f185^250 f195^66 f196^189 f200^11 f207^148 f215^167 f217^29 f218^17 f220^43 f224^22 f229^243 f235^131 f241^195 f245^190 f246^142 f252^206 f254^105 f255^36 f257^128 f260^62 f262^99 f266^50 f281^175 f284^104 f286^27 f288^19 f292^18 f300^213 f301^140 f306^87 f313^127 f316^227 f327^54 f330^239 f332^113 f336^1 f338^46 f341^103 f343^16 f344^107 f345^96 f356^120 f357^24 f359^235 f361^3 f364^44 f367^65 f368^208 f372^75 f374^162 f377^21 f378^209 f380^125 f383^72 f384^6 f388^26 f396^229 f398^173 f400^53 f404^101 f405^201 f414^55 f416^205 f424^63 f425^154 f437^161 f440^42 f457^144 f459^86 f465^5 f472^94 f473^246 f478^93 f481^91 f482^32 f483^185 f485^123 f490^79 f491^200 f501^78 f502^242 f507^80 f512^155 f513^220 f515^25 f519^204 f522^249 f532^137 f534^234 f537^159 f539^191 f547^149 f550^4 f555^187 f558^202 f564^146 f571^238 f577^15 f580^153 f581^150 f585^37 f587^152 f589^77 f590^133 f597^132 f598^165 f605^198 f606^47 f609^115 f611^181 f616^97 f618^39 f620^69 f624^143 f632^237 f640^124 f642^228 f654^240 f665^121 f666^193 f667^157 f668^92 f672^64 f673^151 f674^20 f675^197 f679^192 f684^10 f685^212 f686^58 f689^59 f692^225 f699^216 f700^114 f705^95 f707^186 f708^118 f712^117 f716^138 f718^40 f721^51 f724^222 f726^210 f729^9 f730^226 f731^73 f735^248 f738^100 f741^85 f747^112 f749^71 f750^76 f756^184 f759^174 f762^145 f765^194 f768^30 f772^171 f775^230 f777^169 f780^180 f781^179 f783^102 f788^158 f794^45 f796^67 f805^156 f807^136 f808^231 f811^60 f812^28 f820^199 f824^119 f828^83 f831^219 f835^52 f838^41 f841^178 f843^224 f844^57 f866^111 f870^116 f871^160 f872^35 f875^61 f876^7 f885^122 f887^70 f888^170 f894^134 f902^244 f905^245 f908^89 f916^188 f925^207 f942^135 f945^241 f950^48 f951^214 f952^196 f954^2 f968^31 f972^223 f975^172 f978^74 f983^176 f989^106 f991^232 f997^8'"
            ]
          },
          "execution_count": 18,
          "metadata": {},
          "output_type": "execute_result"
        }
      ],
      "source": [
        "surrogate_text_boost(tq[0])"
      ]
    },
    {
      "cell_type": "markdown",
      "metadata": {
        "id": "zqQojGdJ36dh"
      },
      "source": [
        "### Surrogate Text Representations on Elasticsearch\n",
        "\n",
        "Let's see a working example of using STRs with Elasticsearch.\n",
        "First, let's download and run an Elasticsearch instance."
      ]
    },
    {
      "cell_type": "code",
      "execution_count": 19,
      "metadata": {
        "colab": {
          "base_uri": "https://localhost:8080/"
        },
        "id": "_bsAB10e_E_N",
        "outputId": "365ae685-7223-4201-f9e7-e2f816ac4d66"
      },
      "outputs": [
        {
          "name": "stdout",
          "output_type": "stream",
          "text": [
            "\u001b[?25l\r\u001b[K     |████                            | 10 kB 22.3 MB/s eta 0:00:01\r\u001b[K     |████████▏                       | 20 kB 12.8 MB/s eta 0:00:01\r\u001b[K     |████████████▏                   | 30 kB 9.8 MB/s eta 0:00:01\r\u001b[K     |████████████████▎               | 40 kB 8.8 MB/s eta 0:00:01\r\u001b[K     |████████████████████▍           | 51 kB 4.2 MB/s eta 0:00:01\r\u001b[K     |████████████████████████▍       | 61 kB 5.0 MB/s eta 0:00:01\r\u001b[K     |████████████████████████████▌   | 71 kB 5.3 MB/s eta 0:00:01\r\u001b[K     |████████████████████████████████| 80 kB 3.7 MB/s \n",
            "\u001b[?25h"
          ]
        }
      ],
      "source": [
        "!wget https://artifacts.elastic.co/downloads/elasticsearch/elasticsearch-7.0.0-linux-x86_64.tar.gz -q --no-clobber\n",
        "!tar -xzf elasticsearch-7.0.0-linux-x86_64.tar.gz\n",
        "!chown -R daemon:daemon elasticsearch-7.0.0\n",
        "!pip install -q elasticsearch==7.0.0"
      ]
    },
    {
      "cell_type": "code",
      "execution_count": 20,
      "metadata": {
        "id": "cGBb9-tp4FGT"
      },
      "outputs": [],
      "source": [
        "# start server\n",
        "import os\n",
        "from subprocess import Popen, STDOUT, DEVNULL\n",
        "es_server = Popen(['elasticsearch-7.0.0/bin/elasticsearch'], \n",
        "                  stdout=DEVNULL, stderr=STDOUT,\n",
        "                  preexec_fn=lambda: os.setuid(1)  # as daemon\n",
        "                 )\n",
        "# wait a bit for ES to start\n",
        "!sleep 30"
      ]
    },
    {
      "cell_type": "code",
      "execution_count": 21,
      "metadata": {
        "colab": {
          "base_uri": "https://localhost:8080/"
        },
        "id": "NNADrAN9AwHv",
        "outputId": "ef5837fc-79c5-49a3-d134-5599c891c412"
      },
      "outputs": [
        {
          "name": "stdout",
          "output_type": "stream",
          "text": [
            "daemon       137      59 99 16:56 ?        00:00:33 /content/elasticsearch-7.0.0/jdk/bin/java -Xms1g -Xmx1g -XX:+UseConcMarkSweepGC -XX:CMSInitiatingOccupancyFraction=75 -XX:+UseCMSInitiatingOccupancyOnly -Des.networkaddress.cache.ttl=60 -Des.networkaddress.cache.negative.ttl=10 -XX:+AlwaysPreTouch -Xss1m -Djava.awt.headless=true -Dfile.encoding=UTF-8 -Djna.nosys=true -XX:-OmitStackTraceInFastThrow -Dio.netty.noUnsafe=true -Dio.netty.noKeySetOptimization=true -Dio.netty.recycler.maxCapacityPerThread=0 -Dlog4j.shutdownHookEnabled=false -Dlog4j2.disable.jmx=true -Djava.io.tmpdir=/tmp/elasticsearch-2618654414886008709 -XX:+HeapDumpOnOutOfMemoryError -XX:HeapDumpPath=data -XX:ErrorFile=logs/hs_err_pid%p.log -Xlog:gc*,gc+age=trace,safepoint:file=logs/gc.log:utctime,pid,tags:filecount=32,filesize=64m -Djava.locale.providers=COMPAT -Dio.netty.allocator.type=unpooled -Des.path.home=/content/elasticsearch-7.0.0 -Des.path.conf=/content/elasticsearch-7.0.0/config -Des.distribution.flavor=default -Des.distribution.type=tar -Des.bundled_jdk=true -cp /content/elasticsearch-7.0.0/lib/* org.elasticsearch.bootstrap.Elasticsearch\n",
            "daemon       230     137  0 16:57 ?        00:00:00 /content/elasticsearch-7.0.0/modules/x-pack-ml/platform/linux-x86_64/bin/controller\n",
            "root         265      59  0 16:57 ?        00:00:00 /bin/bash -c  ps -ef | grep elasticsearch\n",
            "root         267     265  0 16:57 ?        00:00:00 grep elasticsearch\n"
          ]
        }
      ],
      "source": [
        "! ps -ef | grep elasticsearch"
      ]
    },
    {
      "cell_type": "code",
      "execution_count": 22,
      "metadata": {
        "colab": {
          "base_uri": "https://localhost:8080/"
        },
        "id": "p5A6k_NQ5Ay7",
        "outputId": "f9ad3e0c-bc77-4486-e809-eaf4736804bf"
      },
      "outputs": [
        {
          "name": "stdout",
          "output_type": "stream",
          "text": [
            "True\n"
          ]
        }
      ],
      "source": [
        "from elasticsearch import Elasticsearch\n",
        "\n",
        "es = Elasticsearch(timeout=30)\n",
        "print(es.ping())"
      ]
    },
    {
      "cell_type": "markdown",
      "metadata": {
        "id": "yH1eDXtksfGO"
      },
      "source": [
        "Once Elasticsearch is up and running, let's create and index.\n",
        "We need to specify one field (we name it `repr`) of type `text`, such that is searched with full-text semantics (TfIdf-like scoring). We also specify to use a white-space analyzer, that simply splits tokens on spaces."
      ]
    },
    {
      "cell_type": "code",
      "execution_count": 23,
      "metadata": {
        "colab": {
          "base_uri": "https://localhost:8080/"
        },
        "id": "V8A43nkI5ZJC",
        "outputId": "d8eb4228-7121-442e-fb91-20ec50033a08"
      },
      "outputs": [
        {
          "data": {
            "text/plain": [
              "{'acknowledged': True, 'index': 'simsearch_index', 'shards_acknowledged': True}"
            ]
          },
          "execution_count": 23,
          "metadata": {},
          "output_type": "execute_result"
        }
      ],
      "source": [
        "index_config = {\n",
        "    \"mappings\": {\n",
        "        \"_source\": {\"enabled\": False},  # do not store STR\n",
        "        \"properties\": {\"repr\": {\"type\": \"text\"}}  # declare the field 'repr' as FULLTEXT\n",
        "    },\n",
        "    \"settings\": {\n",
        "        \"index\": {\"number_of_shards\": 1, \"number_of_replicas\": 0},\n",
        "        \"analysis\": {\"analyzer\": {\"first\": {\"type\": \"whitespace\"}}},  # tokenize by spaces, we don't need fancier analyzers\n",
        "        # \"similarity\": {\"inner_product\": {\"type\": \"scripted\", \"script\": {\"source\": \"return query.boost * doc.freq;\"}}}  # multiply term frequencies only\n",
        "    }\n",
        "}\n",
        "\n",
        "# delete any pre-existing indices\n",
        "es.indices.delete('simsearch_index', ignore=(400, 404))\n",
        "\n",
        "# create the index\n",
        "es.indices.create('simsearch_index', index_config, ignore=400)"
      ]
    },
    {
      "cell_type": "markdown",
      "metadata": {
        "id": "4m5_IZ8MtgMt"
      },
      "source": [
        "We use the utilities provided by the elasticsearch python package to bulk index documents.\n",
        "We define a function that creates elasticsearch indexing commands and use `streaming_bulk` to process them sequentially."
      ]
    },
    {
      "cell_type": "code",
      "execution_count": 24,
      "metadata": {
        "colab": {
          "base_uri": "https://localhost:8080/",
          "height": 49,
          "referenced_widgets": [
            "8e47d79899e24dc2af9e27e5477335d4",
            "1a3685b737bc4d2096ebd48d7c70cdca",
            "0484a3c326414212a985d5b1c7dc57fe",
            "0bddda3492294f90931a432632ef602d",
            "7f98cad121f34445911b0d6ff02a8338",
            "3946acb49a6f408ebac15ab2fc350cc1",
            "f1114a9ced8c47aca8ed82c4a6e1e225",
            "07c0b27c34654294a3f8f41e6d1deb17",
            "c492d02c6fb54f52adbf7bfedd9dc453",
            "9c65adcc42aa403bac1c4c8016761e53",
            "ebe399a6f2c34051ab24077d5b83a79e"
          ]
        },
        "id": "kCJxrvxm543q",
        "outputId": "caebb82d-0efa-46e2-8bc2-5bddb413fea0"
      },
      "outputs": [
        {
          "data": {
            "application/vnd.jupyter.widget-view+json": {
              "model_id": "8e47d79899e24dc2af9e27e5477335d4",
              "version_major": 2,
              "version_minor": 0
            },
            "text/plain": [
              "  0%|          | 0/10000 [00:00<?, ?it/s]"
            ]
          },
          "metadata": {},
          "output_type": "display_data"
        }
      ],
      "source": [
        "from elasticsearch.helpers import streaming_bulk\n",
        "from tqdm.auto import tqdm\n",
        "\n",
        "def generate_docs(index_name, v):\n",
        "  for i, vi in enumerate(v):\n",
        "    yield {'_index': index_name, '_id': i, 'repr': surrogate_text(vi)}\n",
        "\n",
        "docs = generate_docs('simsearch_index', tx)\n",
        "indexing = streaming_bulk(es, docs, chunk_size=150, max_chunk_bytes=2**26)\n",
        "indexing = tqdm(indexing, total=n_samples)\n",
        "\n",
        "for _ in indexing:\n",
        "  pass"
      ]
    },
    {
      "cell_type": "markdown",
      "metadata": {
        "id": "NH0kniiSuIlc"
      },
      "source": [
        "Let's check how many documents have been inserted."
      ]
    },
    {
      "cell_type": "code",
      "execution_count": 25,
      "metadata": {
        "colab": {
          "base_uri": "https://localhost:8080/"
        },
        "id": "KnNnXNvq7-94",
        "outputId": "85067645-84cd-44c1-a429-0336db5fe9d7"
      },
      "outputs": [
        {
          "name": "stdout",
          "output_type": "stream",
          "text": [
            "{'count': 10000, '_shards': {'total': 1, 'successful': 1, 'skipped': 0, 'failed': 0}}\n"
          ]
        }
      ],
      "source": [
        "print(es.count(index='simsearch_index'))"
      ]
    },
    {
      "cell_type": "markdown",
      "metadata": {
        "id": "RjFCKlBduOrs"
      },
      "source": [
        "Now, we can query the database. We specify we want to search the `repr` field. Since Elasticsearch supports the boosting syntax, we use the shorter surrogate text representation with boosting."
      ]
    },
    {
      "cell_type": "code",
      "execution_count": 26,
      "metadata": {
        "colab": {
          "base_uri": "https://localhost:8080/"
        },
        "id": "_TDtXrMx8Luo",
        "outputId": "6f878354-5117-402a-8c49-a6588aee8426"
      },
      "outputs": [
        {
          "data": {
            "text/plain": [
              "{'_shards': {'failed': 0, 'skipped': 0, 'successful': 1, 'total': 1},\n",
              " 'hits': {'hits': [{'_id': '5940',\n",
              "    '_index': 'simsearch_index',\n",
              "    '_score': 38927.918,\n",
              "    '_type': '_doc'},\n",
              "   {'_id': '4241',\n",
              "    '_index': 'simsearch_index',\n",
              "    '_score': 36631.074,\n",
              "    '_type': '_doc'},\n",
              "   {'_id': '4503',\n",
              "    '_index': 'simsearch_index',\n",
              "    '_score': 36261.16,\n",
              "    '_type': '_doc'},\n",
              "   {'_id': '502',\n",
              "    '_index': 'simsearch_index',\n",
              "    '_score': 35741.13,\n",
              "    '_type': '_doc'},\n",
              "   {'_id': '7680',\n",
              "    '_index': 'simsearch_index',\n",
              "    '_score': 35453.28,\n",
              "    '_type': '_doc'},\n",
              "   {'_id': '870',\n",
              "    '_index': 'simsearch_index',\n",
              "    '_score': 35335.723,\n",
              "    '_type': '_doc'},\n",
              "   {'_id': '6303',\n",
              "    '_index': 'simsearch_index',\n",
              "    '_score': 35250.234,\n",
              "    '_type': '_doc'},\n",
              "   {'_id': '3616',\n",
              "    '_index': 'simsearch_index',\n",
              "    '_score': 35045.746,\n",
              "    '_type': '_doc'},\n",
              "   {'_id': '7576',\n",
              "    '_index': 'simsearch_index',\n",
              "    '_score': 35016.098,\n",
              "    '_type': '_doc'},\n",
              "   {'_id': '8262',\n",
              "    '_index': 'simsearch_index',\n",
              "    '_score': 34911.44,\n",
              "    '_type': '_doc'},\n",
              "   {'_id': '5491',\n",
              "    '_index': 'simsearch_index',\n",
              "    '_score': 34843.273,\n",
              "    '_type': '_doc'},\n",
              "   {'_id': '3684',\n",
              "    '_index': 'simsearch_index',\n",
              "    '_score': 34712.33,\n",
              "    '_type': '_doc'},\n",
              "   {'_id': '3438',\n",
              "    '_index': 'simsearch_index',\n",
              "    '_score': 34652.277,\n",
              "    '_type': '_doc'},\n",
              "   {'_id': '8679',\n",
              "    '_index': 'simsearch_index',\n",
              "    '_score': 34386.59,\n",
              "    '_type': '_doc'},\n",
              "   {'_id': '2518',\n",
              "    '_index': 'simsearch_index',\n",
              "    '_score': 34313.5,\n",
              "    '_type': '_doc'},\n",
              "   {'_id': '3971',\n",
              "    '_index': 'simsearch_index',\n",
              "    '_score': 34199.29,\n",
              "    '_type': '_doc'},\n",
              "   {'_id': '4467',\n",
              "    '_index': 'simsearch_index',\n",
              "    '_score': 34151.992,\n",
              "    '_type': '_doc'},\n",
              "   {'_id': '852',\n",
              "    '_index': 'simsearch_index',\n",
              "    '_score': 34102.215,\n",
              "    '_type': '_doc'},\n",
              "   {'_id': '9264',\n",
              "    '_index': 'simsearch_index',\n",
              "    '_score': 33965.36,\n",
              "    '_type': '_doc'},\n",
              "   {'_id': '6577',\n",
              "    '_index': 'simsearch_index',\n",
              "    '_score': 33849.13,\n",
              "    '_type': '_doc'},\n",
              "   {'_id': '6083',\n",
              "    '_index': 'simsearch_index',\n",
              "    '_score': 33780.066,\n",
              "    '_type': '_doc'},\n",
              "   {'_id': '1961',\n",
              "    '_index': 'simsearch_index',\n",
              "    '_score': 33705.586,\n",
              "    '_type': '_doc'},\n",
              "   {'_id': '1058',\n",
              "    '_index': 'simsearch_index',\n",
              "    '_score': 33562.74,\n",
              "    '_type': '_doc'},\n",
              "   {'_id': '8828',\n",
              "    '_index': 'simsearch_index',\n",
              "    '_score': 33497.414,\n",
              "    '_type': '_doc'},\n",
              "   {'_id': '1037',\n",
              "    '_index': 'simsearch_index',\n",
              "    '_score': 33371.18,\n",
              "    '_type': '_doc'},\n",
              "   {'_id': '983',\n",
              "    '_index': 'simsearch_index',\n",
              "    '_score': 33179.26,\n",
              "    '_type': '_doc'},\n",
              "   {'_id': '4162',\n",
              "    '_index': 'simsearch_index',\n",
              "    '_score': 33175.465,\n",
              "    '_type': '_doc'},\n",
              "   {'_id': '5200',\n",
              "    '_index': 'simsearch_index',\n",
              "    '_score': 33174.344,\n",
              "    '_type': '_doc'},\n",
              "   {'_id': '3398',\n",
              "    '_index': 'simsearch_index',\n",
              "    '_score': 33087.516,\n",
              "    '_type': '_doc'},\n",
              "   {'_id': '4575',\n",
              "    '_index': 'simsearch_index',\n",
              "    '_score': 32925.94,\n",
              "    '_type': '_doc'},\n",
              "   {'_id': '4571',\n",
              "    '_index': 'simsearch_index',\n",
              "    '_score': 32787.57,\n",
              "    '_type': '_doc'},\n",
              "   {'_id': '4215',\n",
              "    '_index': 'simsearch_index',\n",
              "    '_score': 32733.021,\n",
              "    '_type': '_doc'},\n",
              "   {'_id': '1519',\n",
              "    '_index': 'simsearch_index',\n",
              "    '_score': 32728.322,\n",
              "    '_type': '_doc'},\n",
              "   {'_id': '4663',\n",
              "    '_index': 'simsearch_index',\n",
              "    '_score': 32706.83,\n",
              "    '_type': '_doc'},\n",
              "   {'_id': '4867',\n",
              "    '_index': 'simsearch_index',\n",
              "    '_score': 32602.902,\n",
              "    '_type': '_doc'},\n",
              "   {'_id': '3429',\n",
              "    '_index': 'simsearch_index',\n",
              "    '_score': 32549.352,\n",
              "    '_type': '_doc'},\n",
              "   {'_id': '8868',\n",
              "    '_index': 'simsearch_index',\n",
              "    '_score': 32544.35,\n",
              "    '_type': '_doc'},\n",
              "   {'_id': '7472',\n",
              "    '_index': 'simsearch_index',\n",
              "    '_score': 32451.676,\n",
              "    '_type': '_doc'},\n",
              "   {'_id': '9085',\n",
              "    '_index': 'simsearch_index',\n",
              "    '_score': 32261.654,\n",
              "    '_type': '_doc'},\n",
              "   {'_id': '2088',\n",
              "    '_index': 'simsearch_index',\n",
              "    '_score': 32232.709,\n",
              "    '_type': '_doc'},\n",
              "   {'_id': '2310',\n",
              "    '_index': 'simsearch_index',\n",
              "    '_score': 32216.824,\n",
              "    '_type': '_doc'},\n",
              "   {'_id': '6706',\n",
              "    '_index': 'simsearch_index',\n",
              "    '_score': 32177.568,\n",
              "    '_type': '_doc'},\n",
              "   {'_id': '5187',\n",
              "    '_index': 'simsearch_index',\n",
              "    '_score': 32093.932,\n",
              "    '_type': '_doc'},\n",
              "   {'_id': '395',\n",
              "    '_index': 'simsearch_index',\n",
              "    '_score': 32081.428,\n",
              "    '_type': '_doc'},\n",
              "   {'_id': '4304',\n",
              "    '_index': 'simsearch_index',\n",
              "    '_score': 32077.414,\n",
              "    '_type': '_doc'},\n",
              "   {'_id': '450',\n",
              "    '_index': 'simsearch_index',\n",
              "    '_score': 32043.572,\n",
              "    '_type': '_doc'},\n",
              "   {'_id': '2798',\n",
              "    '_index': 'simsearch_index',\n",
              "    '_score': 32042.09,\n",
              "    '_type': '_doc'},\n",
              "   {'_id': '4574',\n",
              "    '_index': 'simsearch_index',\n",
              "    '_score': 31995.654,\n",
              "    '_type': '_doc'},\n",
              "   {'_id': '3882',\n",
              "    '_index': 'simsearch_index',\n",
              "    '_score': 31990.771,\n",
              "    '_type': '_doc'},\n",
              "   {'_id': '1811',\n",
              "    '_index': 'simsearch_index',\n",
              "    '_score': 31949.348,\n",
              "    '_type': '_doc'},\n",
              "   {'_id': '5432',\n",
              "    '_index': 'simsearch_index',\n",
              "    '_score': 31933.586,\n",
              "    '_type': '_doc'},\n",
              "   {'_id': '6885',\n",
              "    '_index': 'simsearch_index',\n",
              "    '_score': 31931.111,\n",
              "    '_type': '_doc'},\n",
              "   {'_id': '5213',\n",
              "    '_index': 'simsearch_index',\n",
              "    '_score': 31896.725,\n",
              "    '_type': '_doc'},\n",
              "   {'_id': '3702',\n",
              "    '_index': 'simsearch_index',\n",
              "    '_score': 31893.178,\n",
              "    '_type': '_doc'},\n",
              "   {'_id': '5102',\n",
              "    '_index': 'simsearch_index',\n",
              "    '_score': 31872.875,\n",
              "    '_type': '_doc'},\n",
              "   {'_id': '1744',\n",
              "    '_index': 'simsearch_index',\n",
              "    '_score': 31812.916,\n",
              "    '_type': '_doc'},\n",
              "   {'_id': '5821',\n",
              "    '_index': 'simsearch_index',\n",
              "    '_score': 31804.406,\n",
              "    '_type': '_doc'},\n",
              "   {'_id': '7364',\n",
              "    '_index': 'simsearch_index',\n",
              "    '_score': 31801.625,\n",
              "    '_type': '_doc'},\n",
              "   {'_id': '1226',\n",
              "    '_index': 'simsearch_index',\n",
              "    '_score': 31770.658,\n",
              "    '_type': '_doc'},\n",
              "   {'_id': '8715',\n",
              "    '_index': 'simsearch_index',\n",
              "    '_score': 31745.736,\n",
              "    '_type': '_doc'},\n",
              "   {'_id': '5941',\n",
              "    '_index': 'simsearch_index',\n",
              "    '_score': 31716.143,\n",
              "    '_type': '_doc'},\n",
              "   {'_id': '800',\n",
              "    '_index': 'simsearch_index',\n",
              "    '_score': 31694.816,\n",
              "    '_type': '_doc'},\n",
              "   {'_id': '3264',\n",
              "    '_index': 'simsearch_index',\n",
              "    '_score': 31690.377,\n",
              "    '_type': '_doc'},\n",
              "   {'_id': '2819',\n",
              "    '_index': 'simsearch_index',\n",
              "    '_score': 31665.303,\n",
              "    '_type': '_doc'},\n",
              "   {'_id': '740',\n",
              "    '_index': 'simsearch_index',\n",
              "    '_score': 31652.617,\n",
              "    '_type': '_doc'},\n",
              "   {'_id': '6799',\n",
              "    '_index': 'simsearch_index',\n",
              "    '_score': 31606.854,\n",
              "    '_type': '_doc'},\n",
              "   {'_id': '988',\n",
              "    '_index': 'simsearch_index',\n",
              "    '_score': 31587.977,\n",
              "    '_type': '_doc'},\n",
              "   {'_id': '9150',\n",
              "    '_index': 'simsearch_index',\n",
              "    '_score': 31582.883,\n",
              "    '_type': '_doc'},\n",
              "   {'_id': '3819',\n",
              "    '_index': 'simsearch_index',\n",
              "    '_score': 31562.686,\n",
              "    '_type': '_doc'},\n",
              "   {'_id': '5645',\n",
              "    '_index': 'simsearch_index',\n",
              "    '_score': 31549.84,\n",
              "    '_type': '_doc'},\n",
              "   {'_id': '3143',\n",
              "    '_index': 'simsearch_index',\n",
              "    '_score': 31532.062,\n",
              "    '_type': '_doc'},\n",
              "   {'_id': '7814',\n",
              "    '_index': 'simsearch_index',\n",
              "    '_score': 31526.26,\n",
              "    '_type': '_doc'},\n",
              "   {'_id': '6656',\n",
              "    '_index': 'simsearch_index',\n",
              "    '_score': 31476.336,\n",
              "    '_type': '_doc'},\n",
              "   {'_id': '1446',\n",
              "    '_index': 'simsearch_index',\n",
              "    '_score': 31426.11,\n",
              "    '_type': '_doc'},\n",
              "   {'_id': '1514',\n",
              "    '_index': 'simsearch_index',\n",
              "    '_score': 31423.256,\n",
              "    '_type': '_doc'},\n",
              "   {'_id': '685',\n",
              "    '_index': 'simsearch_index',\n",
              "    '_score': 31397.799,\n",
              "    '_type': '_doc'},\n",
              "   {'_id': '8335',\n",
              "    '_index': 'simsearch_index',\n",
              "    '_score': 31376.223,\n",
              "    '_type': '_doc'},\n",
              "   {'_id': '7420',\n",
              "    '_index': 'simsearch_index',\n",
              "    '_score': 31374.508,\n",
              "    '_type': '_doc'},\n",
              "   {'_id': '4850',\n",
              "    '_index': 'simsearch_index',\n",
              "    '_score': 31356.176,\n",
              "    '_type': '_doc'},\n",
              "   {'_id': '7541',\n",
              "    '_index': 'simsearch_index',\n",
              "    '_score': 31309.932,\n",
              "    '_type': '_doc'},\n",
              "   {'_id': '529',\n",
              "    '_index': 'simsearch_index',\n",
              "    '_score': 31277.553,\n",
              "    '_type': '_doc'},\n",
              "   {'_id': '9169',\n",
              "    '_index': 'simsearch_index',\n",
              "    '_score': 31270.854,\n",
              "    '_type': '_doc'},\n",
              "   {'_id': '9205',\n",
              "    '_index': 'simsearch_index',\n",
              "    '_score': 31247.424,\n",
              "    '_type': '_doc'},\n",
              "   {'_id': '3117',\n",
              "    '_index': 'simsearch_index',\n",
              "    '_score': 31228.023,\n",
              "    '_type': '_doc'},\n",
              "   {'_id': '8239',\n",
              "    '_index': 'simsearch_index',\n",
              "    '_score': 31214.506,\n",
              "    '_type': '_doc'},\n",
              "   {'_id': '5735',\n",
              "    '_index': 'simsearch_index',\n",
              "    '_score': 31199.166,\n",
              "    '_type': '_doc'},\n",
              "   {'_id': '9628',\n",
              "    '_index': 'simsearch_index',\n",
              "    '_score': 31197.842,\n",
              "    '_type': '_doc'},\n",
              "   {'_id': '1233',\n",
              "    '_index': 'simsearch_index',\n",
              "    '_score': 31192.338,\n",
              "    '_type': '_doc'},\n",
              "   {'_id': '2422',\n",
              "    '_index': 'simsearch_index',\n",
              "    '_score': 31141.865,\n",
              "    '_type': '_doc'},\n",
              "   {'_id': '3059',\n",
              "    '_index': 'simsearch_index',\n",
              "    '_score': 31130.127,\n",
              "    '_type': '_doc'},\n",
              "   {'_id': '1495',\n",
              "    '_index': 'simsearch_index',\n",
              "    '_score': 31125.014,\n",
              "    '_type': '_doc'},\n",
              "   {'_id': '8686',\n",
              "    '_index': 'simsearch_index',\n",
              "    '_score': 31112.705,\n",
              "    '_type': '_doc'},\n",
              "   {'_id': '8158',\n",
              "    '_index': 'simsearch_index',\n",
              "    '_score': 31109.58,\n",
              "    '_type': '_doc'},\n",
              "   {'_id': '2961',\n",
              "    '_index': 'simsearch_index',\n",
              "    '_score': 31104.486,\n",
              "    '_type': '_doc'},\n",
              "   {'_id': '5890',\n",
              "    '_index': 'simsearch_index',\n",
              "    '_score': 31099.137,\n",
              "    '_type': '_doc'},\n",
              "   {'_id': '5605',\n",
              "    '_index': 'simsearch_index',\n",
              "    '_score': 31087.984,\n",
              "    '_type': '_doc'},\n",
              "   {'_id': '2165',\n",
              "    '_index': 'simsearch_index',\n",
              "    '_score': 31065.707,\n",
              "    '_type': '_doc'},\n",
              "   {'_id': '1551',\n",
              "    '_index': 'simsearch_index',\n",
              "    '_score': 30993.57,\n",
              "    '_type': '_doc'},\n",
              "   {'_id': '5977',\n",
              "    '_index': 'simsearch_index',\n",
              "    '_score': 30859.2,\n",
              "    '_type': '_doc'},\n",
              "   {'_id': '1989',\n",
              "    '_index': 'simsearch_index',\n",
              "    '_score': 30858.555,\n",
              "    '_type': '_doc'}],\n",
              "  'max_score': 38927.918,\n",
              "  'total': {'relation': 'eq', 'value': 10000}},\n",
              " 'timed_out': False,\n",
              " 'took': 1783}"
            ]
          },
          "execution_count": 26,
          "metadata": {},
          "output_type": "execute_result"
        }
      ],
      "source": [
        "qi = tq[0]  # first query\n",
        "\n",
        "query = {\n",
        "  \"query\": {\"query_string\": {\"default_field\": \"repr\", \"query\": surrogate_text_boost(qi)}},\n",
        "  \"from\": 0, \"size\": k\n",
        "}\n",
        "\n",
        "results = es.search(index='simsearch_index', body=query)\n",
        "results"
      ]
    },
    {
      "cell_type": "markdown",
      "metadata": {
        "id": "CCwBs48hOdI6"
      },
      "source": [
        "Let's compute the recall for our query."
      ]
    },
    {
      "cell_type": "code",
      "execution_count": 27,
      "metadata": {
        "colab": {
          "base_uri": "https://localhost:8080/"
        },
        "id": "8HmltZRWOgBi",
        "outputId": "cdf96ebe-0c1b-421c-f922-e9e2ed6fad64"
      },
      "outputs": [
        {
          "data": {
            "text/plain": [
              "array([[5940, 4241, 4503,  502, 7680,  870, 6303, 3616, 7576, 8262, 5491,\n",
              "        3684, 3438, 8679, 2518, 3971, 4467,  852, 9264, 6577, 6083, 1961,\n",
              "        1058, 8828, 1037,  983, 4162, 5200, 3398, 4575, 4571, 4215, 1519,\n",
              "        4663, 4867, 3429, 8868, 7472, 9085, 2088, 2310, 6706, 5187,  395,\n",
              "        4304,  450, 2798, 4574, 3882, 1811, 5432, 6885, 5213, 3702, 5102,\n",
              "        1744, 5821, 7364, 1226, 8715, 5941,  800, 3264, 2819,  740, 6799,\n",
              "         988, 9150, 3819, 5645, 3143, 7814, 6656, 1446, 1514,  685, 8335,\n",
              "        7420, 4850, 7541,  529, 9169, 9205, 3117, 8239, 5735, 9628, 1233,\n",
              "        2422, 3059, 1495, 8686, 8158, 2961, 5890, 5605, 2165, 1551, 5977,\n",
              "        1989]])"
            ]
          },
          "execution_count": 27,
          "metadata": {},
          "output_type": "execute_result"
        }
      ],
      "source": [
        "topk = [int(hit['_id']) for hit in results['hits']['hits']]\n",
        "topk = np.array([topk])  # make it a matrix with 1 row\n",
        "topk"
      ]
    },
    {
      "cell_type": "code",
      "execution_count": 28,
      "metadata": {
        "colab": {
          "base_uri": "https://localhost:8080/"
        },
        "id": "CfeKl3N5O4nB",
        "outputId": "2829942d-ee74-4f48-b0f8-b73a2a5b5264"
      },
      "outputs": [
        {
          "data": {
            "text/plain": [
              "0.41"
            ]
          },
          "execution_count": 28,
          "metadata": {},
          "output_type": "execute_result"
        }
      ],
      "source": [
        "qi_true_neighbors = true_neighbors[[0]]  # make it a matrix with 1 row\n",
        "compute_recall(qi_true_neighbors, topk)"
      ]
    },
    {
      "cell_type": "markdown",
      "metadata": {
        "id": "lXcV5YBgaxVC"
      },
      "source": [
        "## Additional Resources\n",
        "\n",
        "*   https://github.com/erikbern/ann-benchmarks/\n",
        "*   http://melisandre.deepfeatures.org/\n",
        "*   https://www.elastic.co/elasticsearch/\n"
      ]
    }
  ],
  "metadata": {
    "colab": {
      "name": "surrogate_text_representation.ipynb",
      "provenance": []
    },
    "kernelspec": {
      "display_name": "Python 3.10.4 64-bit",
      "language": "python",
      "name": "python3"
    },
    "language_info": {
      "name": "python",
      "version": "3.10.4"
    },
    "orig_nbformat": 4,
    "vscode": {
      "interpreter": {
        "hash": "916dbcbb3f70747c44a77c7bcd40155683ae19c65e1c03b4aa3499c5328201f1"
      }
    },
    "widgets": {
      "application/vnd.jupyter.widget-state+json": {
        "0484a3c326414212a985d5b1c7dc57fe": {
          "model_module": "@jupyter-widgets/controls",
          "model_module_version": "1.5.0",
          "model_name": "FloatProgressModel",
          "state": {
            "_dom_classes": [],
            "_model_module": "@jupyter-widgets/controls",
            "_model_module_version": "1.5.0",
            "_model_name": "FloatProgressModel",
            "_view_count": null,
            "_view_module": "@jupyter-widgets/controls",
            "_view_module_version": "1.5.0",
            "_view_name": "ProgressView",
            "bar_style": "success",
            "description": "",
            "description_tooltip": null,
            "layout": "IPY_MODEL_07c0b27c34654294a3f8f41e6d1deb17",
            "max": 10000,
            "min": 0,
            "orientation": "horizontal",
            "style": "IPY_MODEL_c492d02c6fb54f52adbf7bfedd9dc453",
            "value": 10000
          }
        },
        "07c0b27c34654294a3f8f41e6d1deb17": {
          "model_module": "@jupyter-widgets/base",
          "model_module_version": "1.2.0",
          "model_name": "LayoutModel",
          "state": {
            "_model_module": "@jupyter-widgets/base",
            "_model_module_version": "1.2.0",
            "_model_name": "LayoutModel",
            "_view_count": null,
            "_view_module": "@jupyter-widgets/base",
            "_view_module_version": "1.2.0",
            "_view_name": "LayoutView",
            "align_content": null,
            "align_items": null,
            "align_self": null,
            "border": null,
            "bottom": null,
            "display": null,
            "flex": null,
            "flex_flow": null,
            "grid_area": null,
            "grid_auto_columns": null,
            "grid_auto_flow": null,
            "grid_auto_rows": null,
            "grid_column": null,
            "grid_gap": null,
            "grid_row": null,
            "grid_template_areas": null,
            "grid_template_columns": null,
            "grid_template_rows": null,
            "height": null,
            "justify_content": null,
            "justify_items": null,
            "left": null,
            "margin": null,
            "max_height": null,
            "max_width": null,
            "min_height": null,
            "min_width": null,
            "object_fit": null,
            "object_position": null,
            "order": null,
            "overflow": null,
            "overflow_x": null,
            "overflow_y": null,
            "padding": null,
            "right": null,
            "top": null,
            "visibility": null,
            "width": null
          }
        },
        "0bddda3492294f90931a432632ef602d": {
          "model_module": "@jupyter-widgets/controls",
          "model_module_version": "1.5.0",
          "model_name": "HTMLModel",
          "state": {
            "_dom_classes": [],
            "_model_module": "@jupyter-widgets/controls",
            "_model_module_version": "1.5.0",
            "_model_name": "HTMLModel",
            "_view_count": null,
            "_view_module": "@jupyter-widgets/controls",
            "_view_module_version": "1.5.0",
            "_view_name": "HTMLView",
            "description": "",
            "description_tooltip": null,
            "layout": "IPY_MODEL_9c65adcc42aa403bac1c4c8016761e53",
            "placeholder": "​",
            "style": "IPY_MODEL_ebe399a6f2c34051ab24077d5b83a79e",
            "value": " 10000/10000 [02:02&lt;00:00, 111.01it/s]"
          }
        },
        "1a3685b737bc4d2096ebd48d7c70cdca": {
          "model_module": "@jupyter-widgets/controls",
          "model_module_version": "1.5.0",
          "model_name": "HTMLModel",
          "state": {
            "_dom_classes": [],
            "_model_module": "@jupyter-widgets/controls",
            "_model_module_version": "1.5.0",
            "_model_name": "HTMLModel",
            "_view_count": null,
            "_view_module": "@jupyter-widgets/controls",
            "_view_module_version": "1.5.0",
            "_view_name": "HTMLView",
            "description": "",
            "description_tooltip": null,
            "layout": "IPY_MODEL_3946acb49a6f408ebac15ab2fc350cc1",
            "placeholder": "​",
            "style": "IPY_MODEL_f1114a9ced8c47aca8ed82c4a6e1e225",
            "value": "100%"
          }
        },
        "21bf39d7b67f4cb1a21cb758f1315bfb": {
          "model_module": "@jupyter-widgets/controls",
          "model_module_version": "1.5.0",
          "model_name": "FloatProgressModel",
          "state": {
            "_dom_classes": [],
            "_model_module": "@jupyter-widgets/controls",
            "_model_module_version": "1.5.0",
            "_model_name": "FloatProgressModel",
            "_view_count": null,
            "_view_module": "@jupyter-widgets/controls",
            "_view_module_version": "1.5.0",
            "_view_name": "ProgressView",
            "bar_style": "success",
            "description": "",
            "description_tooltip": null,
            "layout": "IPY_MODEL_eee764392a1948549221fef3499a988b",
            "max": 200,
            "min": 0,
            "orientation": "horizontal",
            "style": "IPY_MODEL_7225dedda2ed45be8f9c07d9d28a6b8f",
            "value": 200
          }
        },
        "2eefe5fec5b44c76a67871eaa9b98a01": {
          "model_module": "@jupyter-widgets/base",
          "model_module_version": "1.2.0",
          "model_name": "LayoutModel",
          "state": {
            "_model_module": "@jupyter-widgets/base",
            "_model_module_version": "1.2.0",
            "_model_name": "LayoutModel",
            "_view_count": null,
            "_view_module": "@jupyter-widgets/base",
            "_view_module_version": "1.2.0",
            "_view_name": "LayoutView",
            "align_content": null,
            "align_items": null,
            "align_self": null,
            "border": null,
            "bottom": null,
            "display": null,
            "flex": null,
            "flex_flow": null,
            "grid_area": null,
            "grid_auto_columns": null,
            "grid_auto_flow": null,
            "grid_auto_rows": null,
            "grid_column": null,
            "grid_gap": null,
            "grid_row": null,
            "grid_template_areas": null,
            "grid_template_columns": null,
            "grid_template_rows": null,
            "height": null,
            "justify_content": null,
            "justify_items": null,
            "left": null,
            "margin": null,
            "max_height": null,
            "max_width": null,
            "min_height": null,
            "min_width": null,
            "object_fit": null,
            "object_position": null,
            "order": null,
            "overflow": null,
            "overflow_x": null,
            "overflow_y": null,
            "padding": null,
            "right": null,
            "top": null,
            "visibility": null,
            "width": null
          }
        },
        "3946acb49a6f408ebac15ab2fc350cc1": {
          "model_module": "@jupyter-widgets/base",
          "model_module_version": "1.2.0",
          "model_name": "LayoutModel",
          "state": {
            "_model_module": "@jupyter-widgets/base",
            "_model_module_version": "1.2.0",
            "_model_name": "LayoutModel",
            "_view_count": null,
            "_view_module": "@jupyter-widgets/base",
            "_view_module_version": "1.2.0",
            "_view_name": "LayoutView",
            "align_content": null,
            "align_items": null,
            "align_self": null,
            "border": null,
            "bottom": null,
            "display": null,
            "flex": null,
            "flex_flow": null,
            "grid_area": null,
            "grid_auto_columns": null,
            "grid_auto_flow": null,
            "grid_auto_rows": null,
            "grid_column": null,
            "grid_gap": null,
            "grid_row": null,
            "grid_template_areas": null,
            "grid_template_columns": null,
            "grid_template_rows": null,
            "height": null,
            "justify_content": null,
            "justify_items": null,
            "left": null,
            "margin": null,
            "max_height": null,
            "max_width": null,
            "min_height": null,
            "min_width": null,
            "object_fit": null,
            "object_position": null,
            "order": null,
            "overflow": null,
            "overflow_x": null,
            "overflow_y": null,
            "padding": null,
            "right": null,
            "top": null,
            "visibility": null,
            "width": null
          }
        },
        "5b76016e17f9454a8a10c90ac431b9e0": {
          "model_module": "@jupyter-widgets/controls",
          "model_module_version": "1.5.0",
          "model_name": "HBoxModel",
          "state": {
            "_dom_classes": [],
            "_model_module": "@jupyter-widgets/controls",
            "_model_module_version": "1.5.0",
            "_model_name": "HBoxModel",
            "_view_count": null,
            "_view_module": "@jupyter-widgets/controls",
            "_view_module_version": "1.5.0",
            "_view_name": "HBoxView",
            "box_style": "",
            "children": [
              "IPY_MODEL_e2da9fa2e6524296ae7deff741c47d36",
              "IPY_MODEL_21bf39d7b67f4cb1a21cb758f1315bfb",
              "IPY_MODEL_aad7b3c58c634e6e82e8ef933cf5fc47"
            ],
            "layout": "IPY_MODEL_d82e92f240e74ac880e4254e6f85d212"
          }
        },
        "7225dedda2ed45be8f9c07d9d28a6b8f": {
          "model_module": "@jupyter-widgets/controls",
          "model_module_version": "1.5.0",
          "model_name": "ProgressStyleModel",
          "state": {
            "_model_module": "@jupyter-widgets/controls",
            "_model_module_version": "1.5.0",
            "_model_name": "ProgressStyleModel",
            "_view_count": null,
            "_view_module": "@jupyter-widgets/base",
            "_view_module_version": "1.2.0",
            "_view_name": "StyleView",
            "bar_color": null,
            "description_width": ""
          }
        },
        "7f98cad121f34445911b0d6ff02a8338": {
          "model_module": "@jupyter-widgets/base",
          "model_module_version": "1.2.0",
          "model_name": "LayoutModel",
          "state": {
            "_model_module": "@jupyter-widgets/base",
            "_model_module_version": "1.2.0",
            "_model_name": "LayoutModel",
            "_view_count": null,
            "_view_module": "@jupyter-widgets/base",
            "_view_module_version": "1.2.0",
            "_view_name": "LayoutView",
            "align_content": null,
            "align_items": null,
            "align_self": null,
            "border": null,
            "bottom": null,
            "display": null,
            "flex": null,
            "flex_flow": null,
            "grid_area": null,
            "grid_auto_columns": null,
            "grid_auto_flow": null,
            "grid_auto_rows": null,
            "grid_column": null,
            "grid_gap": null,
            "grid_row": null,
            "grid_template_areas": null,
            "grid_template_columns": null,
            "grid_template_rows": null,
            "height": null,
            "justify_content": null,
            "justify_items": null,
            "left": null,
            "margin": null,
            "max_height": null,
            "max_width": null,
            "min_height": null,
            "min_width": null,
            "object_fit": null,
            "object_position": null,
            "order": null,
            "overflow": null,
            "overflow_x": null,
            "overflow_y": null,
            "padding": null,
            "right": null,
            "top": null,
            "visibility": null,
            "width": null
          }
        },
        "84fae1302dbc4d14a5610dbb0296a913": {
          "model_module": "@jupyter-widgets/base",
          "model_module_version": "1.2.0",
          "model_name": "LayoutModel",
          "state": {
            "_model_module": "@jupyter-widgets/base",
            "_model_module_version": "1.2.0",
            "_model_name": "LayoutModel",
            "_view_count": null,
            "_view_module": "@jupyter-widgets/base",
            "_view_module_version": "1.2.0",
            "_view_name": "LayoutView",
            "align_content": null,
            "align_items": null,
            "align_self": null,
            "border": null,
            "bottom": null,
            "display": null,
            "flex": null,
            "flex_flow": null,
            "grid_area": null,
            "grid_auto_columns": null,
            "grid_auto_flow": null,
            "grid_auto_rows": null,
            "grid_column": null,
            "grid_gap": null,
            "grid_row": null,
            "grid_template_areas": null,
            "grid_template_columns": null,
            "grid_template_rows": null,
            "height": null,
            "justify_content": null,
            "justify_items": null,
            "left": null,
            "margin": null,
            "max_height": null,
            "max_width": null,
            "min_height": null,
            "min_width": null,
            "object_fit": null,
            "object_position": null,
            "order": null,
            "overflow": null,
            "overflow_x": null,
            "overflow_y": null,
            "padding": null,
            "right": null,
            "top": null,
            "visibility": null,
            "width": null
          }
        },
        "8e47d79899e24dc2af9e27e5477335d4": {
          "model_module": "@jupyter-widgets/controls",
          "model_module_version": "1.5.0",
          "model_name": "HBoxModel",
          "state": {
            "_dom_classes": [],
            "_model_module": "@jupyter-widgets/controls",
            "_model_module_version": "1.5.0",
            "_model_name": "HBoxModel",
            "_view_count": null,
            "_view_module": "@jupyter-widgets/controls",
            "_view_module_version": "1.5.0",
            "_view_name": "HBoxView",
            "box_style": "",
            "children": [
              "IPY_MODEL_1a3685b737bc4d2096ebd48d7c70cdca",
              "IPY_MODEL_0484a3c326414212a985d5b1c7dc57fe",
              "IPY_MODEL_0bddda3492294f90931a432632ef602d"
            ],
            "layout": "IPY_MODEL_7f98cad121f34445911b0d6ff02a8338"
          }
        },
        "9c65adcc42aa403bac1c4c8016761e53": {
          "model_module": "@jupyter-widgets/base",
          "model_module_version": "1.2.0",
          "model_name": "LayoutModel",
          "state": {
            "_model_module": "@jupyter-widgets/base",
            "_model_module_version": "1.2.0",
            "_model_name": "LayoutModel",
            "_view_count": null,
            "_view_module": "@jupyter-widgets/base",
            "_view_module_version": "1.2.0",
            "_view_name": "LayoutView",
            "align_content": null,
            "align_items": null,
            "align_self": null,
            "border": null,
            "bottom": null,
            "display": null,
            "flex": null,
            "flex_flow": null,
            "grid_area": null,
            "grid_auto_columns": null,
            "grid_auto_flow": null,
            "grid_auto_rows": null,
            "grid_column": null,
            "grid_gap": null,
            "grid_row": null,
            "grid_template_areas": null,
            "grid_template_columns": null,
            "grid_template_rows": null,
            "height": null,
            "justify_content": null,
            "justify_items": null,
            "left": null,
            "margin": null,
            "max_height": null,
            "max_width": null,
            "min_height": null,
            "min_width": null,
            "object_fit": null,
            "object_position": null,
            "order": null,
            "overflow": null,
            "overflow_x": null,
            "overflow_y": null,
            "padding": null,
            "right": null,
            "top": null,
            "visibility": null,
            "width": null
          }
        },
        "aa568e0cd80d4acbaebd43184f5b9c82": {
          "model_module": "@jupyter-widgets/controls",
          "model_module_version": "1.5.0",
          "model_name": "DescriptionStyleModel",
          "state": {
            "_model_module": "@jupyter-widgets/controls",
            "_model_module_version": "1.5.0",
            "_model_name": "DescriptionStyleModel",
            "_view_count": null,
            "_view_module": "@jupyter-widgets/base",
            "_view_module_version": "1.2.0",
            "_view_name": "StyleView",
            "description_width": ""
          }
        },
        "aad7b3c58c634e6e82e8ef933cf5fc47": {
          "model_module": "@jupyter-widgets/controls",
          "model_module_version": "1.5.0",
          "model_name": "HTMLModel",
          "state": {
            "_dom_classes": [],
            "_model_module": "@jupyter-widgets/controls",
            "_model_module_version": "1.5.0",
            "_model_name": "HTMLModel",
            "_view_count": null,
            "_view_module": "@jupyter-widgets/controls",
            "_view_module_version": "1.5.0",
            "_view_name": "HTMLView",
            "description": "",
            "description_tooltip": null,
            "layout": "IPY_MODEL_84fae1302dbc4d14a5610dbb0296a913",
            "placeholder": "​",
            "style": "IPY_MODEL_b42cc00d94a942cda9db95ddb956d8d3",
            "value": " 200/200 [00:52&lt;00:00,  4.44it/s]"
          }
        },
        "b42cc00d94a942cda9db95ddb956d8d3": {
          "model_module": "@jupyter-widgets/controls",
          "model_module_version": "1.5.0",
          "model_name": "DescriptionStyleModel",
          "state": {
            "_model_module": "@jupyter-widgets/controls",
            "_model_module_version": "1.5.0",
            "_model_name": "DescriptionStyleModel",
            "_view_count": null,
            "_view_module": "@jupyter-widgets/base",
            "_view_module_version": "1.2.0",
            "_view_name": "StyleView",
            "description_width": ""
          }
        },
        "c492d02c6fb54f52adbf7bfedd9dc453": {
          "model_module": "@jupyter-widgets/controls",
          "model_module_version": "1.5.0",
          "model_name": "ProgressStyleModel",
          "state": {
            "_model_module": "@jupyter-widgets/controls",
            "_model_module_version": "1.5.0",
            "_model_name": "ProgressStyleModel",
            "_view_count": null,
            "_view_module": "@jupyter-widgets/base",
            "_view_module_version": "1.2.0",
            "_view_name": "StyleView",
            "bar_color": null,
            "description_width": ""
          }
        },
        "d82e92f240e74ac880e4254e6f85d212": {
          "model_module": "@jupyter-widgets/base",
          "model_module_version": "1.2.0",
          "model_name": "LayoutModel",
          "state": {
            "_model_module": "@jupyter-widgets/base",
            "_model_module_version": "1.2.0",
            "_model_name": "LayoutModel",
            "_view_count": null,
            "_view_module": "@jupyter-widgets/base",
            "_view_module_version": "1.2.0",
            "_view_name": "LayoutView",
            "align_content": null,
            "align_items": null,
            "align_self": null,
            "border": null,
            "bottom": null,
            "display": null,
            "flex": null,
            "flex_flow": null,
            "grid_area": null,
            "grid_auto_columns": null,
            "grid_auto_flow": null,
            "grid_auto_rows": null,
            "grid_column": null,
            "grid_gap": null,
            "grid_row": null,
            "grid_template_areas": null,
            "grid_template_columns": null,
            "grid_template_rows": null,
            "height": null,
            "justify_content": null,
            "justify_items": null,
            "left": null,
            "margin": null,
            "max_height": null,
            "max_width": null,
            "min_height": null,
            "min_width": null,
            "object_fit": null,
            "object_position": null,
            "order": null,
            "overflow": null,
            "overflow_x": null,
            "overflow_y": null,
            "padding": null,
            "right": null,
            "top": null,
            "visibility": null,
            "width": null
          }
        },
        "e2da9fa2e6524296ae7deff741c47d36": {
          "model_module": "@jupyter-widgets/controls",
          "model_module_version": "1.5.0",
          "model_name": "HTMLModel",
          "state": {
            "_dom_classes": [],
            "_model_module": "@jupyter-widgets/controls",
            "_model_module_version": "1.5.0",
            "_model_name": "HTMLModel",
            "_view_count": null,
            "_view_module": "@jupyter-widgets/controls",
            "_view_module_version": "1.5.0",
            "_view_name": "HTMLView",
            "description": "",
            "description_tooltip": null,
            "layout": "IPY_MODEL_2eefe5fec5b44c76a67871eaa9b98a01",
            "placeholder": "​",
            "style": "IPY_MODEL_aa568e0cd80d4acbaebd43184f5b9c82",
            "value": "100%"
          }
        },
        "ebe399a6f2c34051ab24077d5b83a79e": {
          "model_module": "@jupyter-widgets/controls",
          "model_module_version": "1.5.0",
          "model_name": "DescriptionStyleModel",
          "state": {
            "_model_module": "@jupyter-widgets/controls",
            "_model_module_version": "1.5.0",
            "_model_name": "DescriptionStyleModel",
            "_view_count": null,
            "_view_module": "@jupyter-widgets/base",
            "_view_module_version": "1.2.0",
            "_view_name": "StyleView",
            "description_width": ""
          }
        },
        "eee764392a1948549221fef3499a988b": {
          "model_module": "@jupyter-widgets/base",
          "model_module_version": "1.2.0",
          "model_name": "LayoutModel",
          "state": {
            "_model_module": "@jupyter-widgets/base",
            "_model_module_version": "1.2.0",
            "_model_name": "LayoutModel",
            "_view_count": null,
            "_view_module": "@jupyter-widgets/base",
            "_view_module_version": "1.2.0",
            "_view_name": "LayoutView",
            "align_content": null,
            "align_items": null,
            "align_self": null,
            "border": null,
            "bottom": null,
            "display": null,
            "flex": null,
            "flex_flow": null,
            "grid_area": null,
            "grid_auto_columns": null,
            "grid_auto_flow": null,
            "grid_auto_rows": null,
            "grid_column": null,
            "grid_gap": null,
            "grid_row": null,
            "grid_template_areas": null,
            "grid_template_columns": null,
            "grid_template_rows": null,
            "height": null,
            "justify_content": null,
            "justify_items": null,
            "left": null,
            "margin": null,
            "max_height": null,
            "max_width": null,
            "min_height": null,
            "min_width": null,
            "object_fit": null,
            "object_position": null,
            "order": null,
            "overflow": null,
            "overflow_x": null,
            "overflow_y": null,
            "padding": null,
            "right": null,
            "top": null,
            "visibility": null,
            "width": null
          }
        },
        "f1114a9ced8c47aca8ed82c4a6e1e225": {
          "model_module": "@jupyter-widgets/controls",
          "model_module_version": "1.5.0",
          "model_name": "DescriptionStyleModel",
          "state": {
            "_model_module": "@jupyter-widgets/controls",
            "_model_module_version": "1.5.0",
            "_model_name": "DescriptionStyleModel",
            "_view_count": null,
            "_view_module": "@jupyter-widgets/base",
            "_view_module_version": "1.2.0",
            "_view_name": "StyleView",
            "description_width": ""
          }
        }
      }
    }
  },
  "nbformat": 4,
  "nbformat_minor": 0
}
